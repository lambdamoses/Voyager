{
 "cells": [
  {
   "cell_type": "raw",
<<<<<<< HEAD
<<<<<<< HEAD
<<<<<<< HEAD
<<<<<<< HEAD
   "id": "d8853005",
=======
   "id": "3616726d",
>>>>>>> documentation-devel
=======
   "id": "40b1da94",
>>>>>>> documentation-devel
=======
   "id": "30bf2203",
>>>>>>> c9ed93f2a6d5e87fe6759d6fd26c06823f77f3f2
=======
   "id": "697483ac",
>>>>>>> documentation-devel
   "metadata": {},
   "source": [
    "---\n",
    "title: \"10X Multiome ATAC-seq basic quality control \"\n",
    "author: \"Kayla Jackson and A. Sina Booeshaghi\"\n",
    "date: \"`r Sys.Date()`\"\n",
    "output: \n",
    "  html_document:\n",
    "  toc: true\n",
    "  toc_float:\n",
    "    collapsed: false\n",
    "  toc_depth: 3\n",
    "bibliography: ref.bib\n",
    "vignette: >\n",
    "  %\\VignetteIndexEntry{10xmultiome_qc}\n",
    "  %\\VignetteEngine{knitr::rmarkdown}\n",
    "  %\\VignetteEncoding{UTF-8}\n",
    "---"
   ]
  },
  {
   "cell_type": "code",
   "execution_count": null,
<<<<<<< HEAD
<<<<<<< HEAD
<<<<<<< HEAD
<<<<<<< HEAD
   "id": "1e472b3f",
=======
   "id": "02ef037f",
>>>>>>> documentation-devel
=======
   "id": "1810afbe",
>>>>>>> documentation-devel
=======
   "id": "e29f7905",
>>>>>>> c9ed93f2a6d5e87fe6759d6fd26c06823f77f3f2
=======
   "id": "2abaf912",
>>>>>>> documentation-devel
   "metadata": {
    "tags": [
     "remove_cell"
    ]
   },
   "outputs": [],
   "source": [
    "knitr::opts_chunk$set(\n",
    "  collapse = TRUE,\n",
    "  comment = \"#>\", fig.align = \"center\"\n",
    ")"
   ]
  },
  {
   "cell_type": "code",
   "execution_count": null,
<<<<<<< HEAD
<<<<<<< HEAD
<<<<<<< HEAD
<<<<<<< HEAD
   "id": "ebe19248",
=======
   "id": "7786b214",
>>>>>>> documentation-devel
=======
   "id": "21f70ab3",
>>>>>>> documentation-devel
=======
   "id": "94001463",
>>>>>>> c9ed93f2a6d5e87fe6759d6fd26c06823f77f3f2
=======
   "id": "4f55ad40",
>>>>>>> documentation-devel
   "metadata": {
    "eval": false,
    "tags": [
     "remove_cell"
    ]
   },
   "outputs": [],
   "source": [
    "# Install Google Colab dependencies\n",
    "# Note: this can take 30+ minutes (many of the dependencies include C++ code, which needs to be compiled)\n",
    "\n",
    "# First install `sf`, `ragg` and `textshaping` and their system dependencies:\n",
    "system(\"apt-get -y update && apt-get install -y  libudunits2-dev libgdal-dev libgeos-dev libproj-dev libharfbuzz-dev libfribidi-dev\")\n",
    "install.packages(\"sf\")\n",
    "install.packages(\"textshaping\")\n",
    "install.packages(\"ragg\")\n",
    "\n",
    "# Install system dependencies of some other R packages that Voyager either imports or suggests:\n",
    "system(\"apt-get install -y libfribidi-dev libcairo2-dev libmagick++-dev\")\n",
    "\n",
    "# Install Voyager from Bioconductor:\n",
    "install.packages(\"BiocManager\")\n",
    "BiocManager::install(version = \"release\", ask = FALSE, update = FALSE, Ncpus = 2)\n",
    "BiocManager::install(\"scater\")\n",
    "system.time(\n",
    "  BiocManager::install(\"Voyager\", dependencies = TRUE, Ncpus = 2, update = FALSE)\n",
    ")\n",
    "\n",
    "\n",
    "packageVersion(\"Voyager\")"
   ]
  },
  {
   "cell_type": "markdown",
<<<<<<< HEAD
<<<<<<< HEAD
<<<<<<< HEAD
<<<<<<< HEAD
   "id": "e85ece6a",
=======
   "id": "57a30d8e",
>>>>>>> documentation-devel
=======
   "id": "f62a85b6",
>>>>>>> documentation-devel
=======
   "id": "a0cc16a1",
>>>>>>> c9ed93f2a6d5e87fe6759d6fd26c06823f77f3f2
=======
   "id": "6e0b64f7",
>>>>>>> documentation-devel
   "metadata": {},
   "source": [
    "# Introduction\n",
    "The data in this vignette is shipped with the `cellatlas` repository. The count matrix and metadata are provided in the `cellatlas/examples` folder as an [`AnnData`](https://anndata-tutorials.readthedocs.io/en/latest/getting-started.html) object. We will begin by loading the object and converting it to a `SingleCellExperiment` object. \n"
   ]
  },
  {
   "cell_type": "code",
   "execution_count": null,
<<<<<<< HEAD
<<<<<<< HEAD
<<<<<<< HEAD
<<<<<<< HEAD
   "id": "e83d59f1",
=======
   "id": "5b65427b",
>>>>>>> documentation-devel
=======
   "id": "e1075319",
>>>>>>> documentation-devel
=======
   "id": "6523f005",
>>>>>>> c9ed93f2a6d5e87fe6759d6fd26c06823f77f3f2
=======
   "id": "ee2fd99e",
>>>>>>> documentation-devel
   "metadata": {
    "message": false
   },
   "outputs": [],
   "source": [
    "library(stringr)\n",
    "library(DropletUtils)\n",
    "library(Matrix)\n",
    "library(SpatialExperiment)\n",
    "library(SpatialFeatureExperiment)\n",
    "library(scater)\n",
    "library(scuttle)\n",
    "library(Voyager)\n",
    "library(ggplot2)\n",
    "theme_set(theme_bw())"
   ]
  },
  {
   "cell_type": "code",
   "execution_count": null,
<<<<<<< HEAD
<<<<<<< HEAD
<<<<<<< HEAD
<<<<<<< HEAD
   "id": "175f7d94",
=======
   "id": "69273eff",
>>>>>>> documentation-devel
=======
   "id": "db23f4e6",
>>>>>>> documentation-devel
=======
   "id": "dc2baf15",
>>>>>>> c9ed93f2a6d5e87fe6759d6fd26c06823f77f3f2
=======
   "id": "44f1191a",
>>>>>>> documentation-devel
   "metadata": {
    "message": true,
    "tags": [
     "remove_output"
    ]
   },
   "outputs": [],
   "source": [
    "if (!file.exists(\"10xmultiome.rds\"))\n",
    "    download.file(\"https://github.com/pachterlab/voyager/raw/documentation-devel/vignettes/10xmultiome.rds\", destfile = \"10xmultiome.rds\")\n",
    "sce <- readRDS(\"10xmultiome.rds\")"
   ]
  },
  {
   "cell_type": "code",
   "execution_count": null,
<<<<<<< HEAD
<<<<<<< HEAD
<<<<<<< HEAD
<<<<<<< HEAD
   "id": "8287a0b7",
=======
   "id": "594d03a0",
>>>>>>> documentation-devel
=======
   "id": "6a47e895",
>>>>>>> documentation-devel
=======
   "id": "5d27cd85",
>>>>>>> c9ed93f2a6d5e87fe6759d6fd26c06823f77f3f2
=======
   "id": "f0183a17",
>>>>>>> documentation-devel
   "metadata": {},
   "outputs": [],
   "source": [
    "sce <- addPerCellQCMetrics(sce)\n",
    "names(colData(sce))"
   ]
  },
  {
   "cell_type": "code",
   "execution_count": null,
<<<<<<< HEAD
<<<<<<< HEAD
<<<<<<< HEAD
<<<<<<< HEAD
   "id": "779d4332",
=======
   "id": "1c344f44",
>>>>>>> documentation-devel
=======
   "id": "50be69e3",
>>>>>>> documentation-devel
=======
   "id": "d6091796",
>>>>>>> c9ed93f2a6d5e87fe6759d6fd26c06823f77f3f2
=======
   "id": "8a0a7e2f",
>>>>>>> documentation-devel
   "metadata": {},
   "outputs": [],
   "source": [
    "plotColData(sce, \"sum\") +\n",
    "    plotColData(sce, \"detected\") "
   ]
  },
  {
   "cell_type": "code",
   "execution_count": null,
<<<<<<< HEAD
<<<<<<< HEAD
<<<<<<< HEAD
<<<<<<< HEAD
   "id": "37efe5a1",
=======
   "id": "a0cdfb1d",
>>>>>>> documentation-devel
=======
   "id": "3d14743c",
>>>>>>> documentation-devel
=======
   "id": "f159fc0b",
>>>>>>> c9ed93f2a6d5e87fe6759d6fd26c06823f77f3f2
=======
   "id": "e7651c76",
>>>>>>> documentation-devel
   "metadata": {
    "lines_to_next_cell": 2
   },
   "outputs": [],
   "source": [
    "plotColData(sce, x = \"sum\", y = \"detected\", bins = 100) +\n",
    "    scale_fill_distiller(palette = \"Blues\", direction = 1)"
   ]
  },
  {
   "cell_type": "code",
   "execution_count": null,
<<<<<<< HEAD
<<<<<<< HEAD
<<<<<<< HEAD
<<<<<<< HEAD
   "id": "48841be6",
=======
   "id": "d0156986",
>>>>>>> documentation-devel
=======
   "id": "8433b1e7",
>>>>>>> documentation-devel
=======
   "id": "c5fc3a3e",
>>>>>>> c9ed93f2a6d5e87fe6759d6fd26c06823f77f3f2
=======
   "id": "c214de58",
>>>>>>> documentation-devel
   "metadata": {
    "name": "subset-qc"
   },
   "outputs": [],
   "source": [
    "sce <- sce[, which(sce$total > 0)]\n",
    "sce <- sce[rowSums(counts(sce)) > 0,]\n",
    "\n",
    "sce"
   ]
  },
  {
   "cell_type": "code",
   "execution_count": null,
<<<<<<< HEAD
<<<<<<< HEAD
<<<<<<< HEAD
<<<<<<< HEAD
   "id": "3d73d77b",
=======
   "id": "f94f0b7e",
>>>>>>> documentation-devel
=======
   "id": "83eee104",
>>>>>>> documentation-devel
=======
   "id": "76d0037b",
>>>>>>> c9ed93f2a6d5e87fe6759d6fd26c06823f77f3f2
=======
   "id": "bb27cf77",
>>>>>>> documentation-devel
   "metadata": {},
   "outputs": [],
   "source": [
    "sessionInfo()"
   ]
  }
 ],
 "metadata": {
  "kernelspec": {
   "display_name": "R",
   "language": "R",
   "name": "ir"
  }
 },
 "nbformat": 4,
 "nbformat_minor": 5
}
