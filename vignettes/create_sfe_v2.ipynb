{
 "cells": [
  {
   "cell_type": "raw",
<<<<<<< HEAD
<<<<<<< HEAD
<<<<<<< HEAD
   "id": "f7bed1d2",
=======
   "id": "ad7a0247",
>>>>>>> documentation-devel
=======
   "id": "22aa3a6b",
>>>>>>> documentation-devel
=======
   "id": "121642d2",
>>>>>>> c9ed93f2a6d5e87fe6759d6fd26c06823f77f3f2
   "metadata": {},
   "source": [
    "---\n",
    "title: \"How to create a SpatialFeatureExperiment object\"\n",
    "author: \"Kayla Jackson\"\n",
    "date: \"`r Sys.Date()`\"\n",
    "output: \n",
    "  html_document:\n",
    "  toc: true\n",
    "  toc_float:\n",
    "    collapsed: false\n",
    "  toc_depth: 3\n",
    "bibliography: ref.bib\n",
    "vignette: >\n",
    "  %\\VignetteIndexEntry{create_sfe_v2}\n",
    "  %\\VignetteEngine{knitr::rmarkdown}\n",
    "  %\\VignetteEncoding{UTF-8}\n",
    "---"
   ]
  },
  {
   "cell_type": "code",
   "execution_count": null,
<<<<<<< HEAD
<<<<<<< HEAD
<<<<<<< HEAD
   "id": "d349a99c",
=======
   "id": "5d579fd8",
>>>>>>> documentation-devel
=======
   "id": "de365a2a",
>>>>>>> documentation-devel
=======
   "id": "547b0060",
>>>>>>> c9ed93f2a6d5e87fe6759d6fd26c06823f77f3f2
   "metadata": {
    "tags": [
     "remove_cell"
    ]
   },
   "outputs": [],
   "source": [
    "knitr::opts_chunk$set(\n",
    "  collapse = TRUE,\n",
    "  comment = \"#>\",\n",
    "  eval = FALSE\n",
    ")"
   ]
  },
  {
   "cell_type": "code",
   "execution_count": null,
<<<<<<< HEAD
<<<<<<< HEAD
<<<<<<< HEAD
   "id": "a273a7b1",
=======
   "id": "f4148d39",
>>>>>>> documentation-devel
=======
   "id": "8523ec05",
>>>>>>> documentation-devel
=======
   "id": "ae22371f",
>>>>>>> c9ed93f2a6d5e87fe6759d6fd26c06823f77f3f2
   "metadata": {
    "eval": false,
    "tags": [
     "remove_cell"
    ]
   },
   "outputs": [],
   "source": [
    "# Install Google Colab dependencies\n",
    "# Note: this can take 30+ minutes (many of the dependencies include C++ code, which needs to be compiled)\n",
    "\n",
    "# First install `sf`, `ragg` and `textshaping` and their system dependencies:\n",
    "system(\"apt-get -y update && apt-get install -y  libudunits2-dev libgdal-dev libgeos-dev libproj-dev libharfbuzz-dev libfribidi-dev\")\n",
    "install.packages(\"sf\")\n",
    "install.packages(\"textshaping\")\n",
    "install.packages(\"ragg\")\n",
    "\n",
    "# Install system dependencies of some other R packages that Voyager either imports or suggests:\n",
    "system(\"apt-get install -y libfribidi-dev libcairo2-dev libmagick++-dev\")\n",
    "\n",
    "# Install Voyager from Bioconductor:\n",
    "install.packages(\"BiocManager\")\n",
    "BiocManager::install(version = \"release\", ask = FALSE, update = FALSE, Ncpus = 2)\n",
    "BiocManager::install(\"scater\")\n",
    "system.time(\n",
    "  BiocManager::install(\"Voyager\", dependencies = TRUE, Ncpus = 2, update = FALSE)\n",
    ")\n",
    "\n",
    "# Install additional dependencies and download data for this vignette\n",
    "system(\"pip install ffq\")\n",
    "system(\"curl -O ftp://ftp.ncbi.nlm.nih.gov/geo/samples/GSM5713nnn/GSM5713341/suppl/GSM5713341_Puck_191112_04_MappedDGEForR.csv.gz\")\n",
    "system(\"curl -O ftp://ftp.ncbi.nlm.nih.gov/geo/samples/GSM5713nnn/GSM5713341/suppl/GSM5713341_Puck_191112_04_BeadLocationsForR.csv.gz\")\n",
    "list.files(pattern = \"*.gz\")\n",
    "\n",
    "packageVersion(\"Voyager\")"
   ]
  },
  {
   "cell_type": "code",
   "execution_count": null,
<<<<<<< HEAD
<<<<<<< HEAD
<<<<<<< HEAD
   "id": "3a966e13",
=======
   "id": "d06410f8",
>>>>>>> documentation-devel
=======
   "id": "0f0631ae",
>>>>>>> documentation-devel
=======
   "id": "6ec4e401",
>>>>>>> c9ed93f2a6d5e87fe6759d6fd26c06823f77f3f2
   "metadata": {
    "lines_to_next_cell": 0,
    "name": "setup"
   },
   "outputs": [],
   "source": [
    "library(Voyager)\n",
    "library(SpatialFeatureExperiment)\n",
    "library(rjson)\n",
    "library(Matrix)\n",
    "library(vroom)\n",
    "\n",
    "Sys.setenv(\"VROOM_CONNECTION_SIZE\" = 131072 * 3)"
   ]
  },
  {
   "cell_type": "markdown",
<<<<<<< HEAD
<<<<<<< HEAD
<<<<<<< HEAD
   "id": "683d8ba4",
=======
   "id": "01708448",
>>>>>>> documentation-devel
=======
   "id": "7e43bb6d",
>>>>>>> documentation-devel
=======
   "id": "916de034",
>>>>>>> c9ed93f2a6d5e87fe6759d6fd26c06823f77f3f2
   "metadata": {},
   "source": [
    "## Downloading the data\n",
    "\n",
    "The data used are from a recent publication, [High Resolution Slide-seqV2 Spatial Transcriptomics Enables Discovery of Disease-Specific Cell Neighborhoods and Pathways](https://doi.org/10.1016/j.isci.2022.104097) and are available for download from GEO (Accession Number: [GSE190094](https://www.ncbi.nlm.nih.gov/geo/query/acc.cgi?acc=GSE190094). \n",
    "\n",
    "We will demonstrate use of [`ffq`](https://github.com/pachterlab/ffq) to access FTP links for downloading the relevant data. We will only download the data for a single WT sample. The commented line shows how to install `ffq` from the R terminal. "
   ]
  },
  {
   "cell_type": "code",
   "execution_count": null,
<<<<<<< HEAD
<<<<<<< HEAD
<<<<<<< HEAD
   "id": "92a66f25",
=======
   "id": "876cba4a",
>>>>>>> documentation-devel
=======
   "id": "1d7c889b",
>>>>>>> documentation-devel
=======
   "id": "b4e548ee",
>>>>>>> c9ed93f2a6d5e87fe6759d6fd26c06823f77f3f2
   "metadata": {
    "lines_to_next_cell": 0
   },
   "outputs": [],
   "source": [
    "# system(\"pip install ffq\")\n",
    "system(\"ffq -l1 GSM5713341\")"
   ]
  },
  {
   "cell_type": "markdown",
<<<<<<< HEAD
<<<<<<< HEAD
<<<<<<< HEAD
   "id": "6e6baca7",
=======
   "id": "6ac34f41",
>>>>>>> documentation-devel
=======
   "id": "5af2e7d9",
>>>>>>> documentation-devel
=======
   "id": "2a4c879c",
>>>>>>> c9ed93f2a6d5e87fe6759d6fd26c06823f77f3f2
   "metadata": {
    "lines_to_next_cell": 0
   },
   "source": [
    "The output of the command is metadata for GSM5713341. We can use [`curl`](https://curl.se) or [`wget`](https://ena-docs.readthedocs.io/en/latest/retrieval/file-download.html#using-wget) to download files with FTP links one-by-one. \n",
    "\n",
    "Files beginning with `ftp://` can be read directly with the R package `vroom`. Files do not have be uncompressed before reading. These files will be automatically downloaded and uncompressed. We will use this method here, but the commented lines show how to download the files using `curl`. "
   ]
  },
  {
   "cell_type": "code",
   "execution_count": null,
<<<<<<< HEAD
<<<<<<< HEAD
<<<<<<< HEAD
   "id": "d2dbc69d",
=======
   "id": "d48aed0d",
>>>>>>> documentation-devel
=======
   "id": "2014a5c5",
>>>>>>> documentation-devel
=======
   "id": "1e3b23f7",
>>>>>>> c9ed93f2a6d5e87fe6759d6fd26c06823f77f3f2
   "metadata": {
    "lines_to_next_cell": 0
   },
   "outputs": [],
   "source": [
    "# system(\"curl -O ftp://ftp.ncbi.nlm.nih.gov/geo/samples/GSM5713nnn/GSM5713341/suppl/GSM5713341_Puck_191112_04_MappedDGEForR.csv.gz\")\n",
    "\n",
    "# system(\"curl -O ftp://ftp.ncbi.nlm.nih.gov/geo/samples/GSM5713nnn/GSM5713341/suppl/GSM5713341_Puck_191112_04_BeadLocationsForR.csv.gz\")\n",
    "\n",
    "# list.files(pattern = \"*.gz\")"
   ]
  },
  {
   "cell_type": "markdown",
<<<<<<< HEAD
<<<<<<< HEAD
<<<<<<< HEAD
   "id": "4d607753",
=======
   "id": "b98e0a1e",
>>>>>>> documentation-devel
=======
   "id": "db84994b",
>>>>>>> documentation-devel
=======
   "id": "6a702ee2",
>>>>>>> c9ed93f2a6d5e87fe6759d6fd26c06823f77f3f2
   "metadata": {
    "lines_to_next_cell": 0
   },
   "source": [
    "## Reading in the data"
   ]
  },
  {
   "cell_type": "code",
   "execution_count": null,
<<<<<<< HEAD
<<<<<<< HEAD
<<<<<<< HEAD
   "id": "761195db",
=======
   "id": "8af4476a",
>>>>>>> documentation-devel
=======
   "id": "6910b053",
>>>>>>> documentation-devel
=======
   "id": "ba21301f",
>>>>>>> c9ed93f2a6d5e87fe6759d6fd26c06823f77f3f2
   "metadata": {
    "lines_to_next_cell": 0
   },
   "outputs": [],
   "source": [
    "mtx <- vroom(\"ftp://ftp.ncbi.nlm.nih.gov/geo/samples/GSM5713nnn/GSM5713341/suppl/GSM5713341_Puck_191112_04_MappedDGEForR.csv.gz\")\n",
    "\n",
    "centroids <- vroom(\"ftp://ftp.ncbi.nlm.nih.gov/geo/samples/GSM5713nnn/GSM5713341/suppl/GSM5713341_Puck_191112_04_BeadLocationsForR.csv.gz\")"
   ]
  },
  {
   "cell_type": "markdown",
<<<<<<< HEAD
<<<<<<< HEAD
<<<<<<< HEAD
   "id": "78bd2749",
=======
   "id": "9e4ddf82",
>>>>>>> documentation-devel
=======
   "id": "c7baabe0",
>>>>>>> documentation-devel
=======
   "id": "3cad8cc4",
>>>>>>> c9ed93f2a6d5e87fe6759d6fd26c06823f77f3f2
   "metadata": {
    "lines_to_next_cell": 0
   },
   "source": [
    "## Construct a SFE object\n",
    "The count matrix and bead locations are provided by the authors. We will pass these to the constructor for the `SpatialFeatureExperiment` object. The files are read in as data frames. We will convert the gene count matrix to a matrix and then a sparse `dgCMatrix`."
   ]
  },
  {
   "cell_type": "code",
   "execution_count": null,
<<<<<<< HEAD
<<<<<<< HEAD
<<<<<<< HEAD
   "id": "c4c25f76",
=======
   "id": "2e4ebbb6",
>>>>>>> documentation-devel
=======
   "id": "17022b20",
>>>>>>> documentation-devel
=======
   "id": "5d40495a",
>>>>>>> c9ed93f2a6d5e87fe6759d6fd26c06823f77f3f2
   "metadata": {
    "lines_to_next_cell": 0
   },
   "outputs": [],
   "source": [
    "# Note: if using Google Colab, this step might run out of RAM\n",
    "# If this happens, please upgrade to Colab Pro\n",
    "\n",
    "rn <- mtx$Row\n",
    "mtx <- as.matrix(mtx[,-1])\n",
    "\n",
    "rownames(mtx) <- rn\n",
    "mtx <- as(mtx, \"dgCMatrix\")"
   ]
  },
  {
   "cell_type": "markdown",
<<<<<<< HEAD
<<<<<<< HEAD
<<<<<<< HEAD
   "id": "b82b05b5",
=======
   "id": "e798718d",
>>>>>>> documentation-devel
=======
   "id": "7a7ea6b2",
>>>>>>> documentation-devel
=======
   "id": "6d309ff1",
>>>>>>> c9ed93f2a6d5e87fe6759d6fd26c06823f77f3f2
   "metadata": {},
   "source": [
    "Here, spot locations are provided as a CSV file. There are two columns of particular interest, namely `xcoord` and `ycoord`. The barcode column corresponds to the barcodes in the count matrix. Before calling the `SpatialFeatureExperiment` constructor, the spatial coordinates must be converted to a `sf` data frame using `df2sf()`. The coordinates are centroid positions, so we will indicate that `geometryType=\"POINT\"`.  "
   ]
  },
  {
   "cell_type": "code",
   "execution_count": null,
<<<<<<< HEAD
<<<<<<< HEAD
<<<<<<< HEAD
   "id": "c8bffe44",
=======
   "id": "0430aa15",
>>>>>>> documentation-devel
=======
   "id": "1cd10680",
>>>>>>> documentation-devel
=======
   "id": "2e1ee07f",
>>>>>>> c9ed93f2a6d5e87fe6759d6fd26c06823f77f3f2
   "metadata": {
    "lines_to_next_cell": 0
   },
   "outputs": [],
   "source": [
    "colnames(centroids)[1] <- \"ID\"\n",
    "\n",
    "centroids <- df2sf(\n",
    "  centroids, geometryType = \"POINT\",\n",
    "  spatialCoordsNames=c(\"xcoord\",\"ycoord\"))\n"
   ]
  },
  {
   "cell_type": "markdown",
<<<<<<< HEAD
<<<<<<< HEAD
<<<<<<< HEAD
   "id": "97430291",
=======
   "id": "2cdbbea9",
>>>>>>> documentation-devel
=======
   "id": "534d2b91",
>>>>>>> documentation-devel
=======
   "id": "3ca21886",
>>>>>>> c9ed93f2a6d5e87fe6759d6fd26c06823f77f3f2
   "metadata": {
    "lines_to_next_cell": 0
   },
   "source": [
    "Now we have the ingredients to create a SFE object. The values to the `assays` and `colGeometries` arguments must be passed as a list as shown below."
   ]
  },
  {
   "cell_type": "code",
   "execution_count": null,
<<<<<<< HEAD
<<<<<<< HEAD
<<<<<<< HEAD
   "id": "89a5d0af",
=======
   "id": "24d2ecab",
>>>>>>> documentation-devel
=======
   "id": "870ff045",
>>>>>>> documentation-devel
=======
   "id": "87d65336",
>>>>>>> c9ed93f2a6d5e87fe6759d6fd26c06823f77f3f2
   "metadata": {
    "lines_to_next_cell": 0
   },
   "outputs": [],
   "source": [
    "sfe <- SpatialFeatureExperiment(\n",
    "  assays = list(counts = mtx),\n",
    "  colGeometries = list(centroids = centroids)\n",
    ")\n",
    "\n",
    "sfe"
   ]
  },
  {
   "cell_type": "markdown",
<<<<<<< HEAD
<<<<<<< HEAD
<<<<<<< HEAD
   "id": "4a1696aa",
=======
   "id": "fc82fed9",
>>>>>>> documentation-devel
=======
   "id": "68756f81",
>>>>>>> documentation-devel
=======
   "id": "55be0791",
>>>>>>> c9ed93f2a6d5e87fe6759d6fd26c06823f77f3f2
   "metadata": {
    "lines_to_next_cell": 0
   },
   "source": [
    "# Session info"
   ]
  },
  {
   "cell_type": "code",
   "execution_count": null,
<<<<<<< HEAD
<<<<<<< HEAD
<<<<<<< HEAD
   "id": "3951a1be",
=======
   "id": "4341b079",
>>>>>>> documentation-devel
=======
   "id": "d74bad63",
>>>>>>> documentation-devel
=======
   "id": "28385a6e",
>>>>>>> c9ed93f2a6d5e87fe6759d6fd26c06823f77f3f2
   "metadata": {},
   "outputs": [],
   "source": [
    "sessionInfo()"
   ]
  }
 ],
 "metadata": {
  "kernelspec": {
   "display_name": "R",
   "language": "R",
   "name": "ir"
  }
 },
 "nbformat": 4,
 "nbformat_minor": 5
}
