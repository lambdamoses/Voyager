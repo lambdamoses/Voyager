{
 "cells": [
  {
   "cell_type": "raw",
<<<<<<< HEAD
   "id": "145fdc00",
=======
   "id": "53b00f91",
>>>>>>> documentation
   "metadata": {},
   "source": [
    "---\n",
    "title: \"Spatial Visium exploratory data analysis\"\n",
    "author: \"Lambda Moses\"\n",
    "date: \"`r Sys.Date()`\"\n",
    "output: \n",
    "  html_document:\n",
    "  toc: true\n",
    "  toc_float:\n",
    "    collapsed: false\n",
    "  toc_depth: 3\n",
    "bibliography: ref.bib\n",
    "vignette: >\n",
    "  %\\VignetteIndexEntry{Spatial Visium exploratory data analysis}\n",
    "  %\\VignetteEngine{knitr::rmarkdown}\n",
    "  %\\VignetteEncoding{UTF-8}\n",
    "---"
   ]
  },
  {
   "cell_type": "code",
   "execution_count": null,
<<<<<<< HEAD
   "id": "dc76a58b",
=======
   "id": "cbc6d31f",
>>>>>>> documentation
   "metadata": {
    "tags": [
     "remove_cell"
    ]
   },
   "outputs": [],
   "source": [
    "knitr::opts_chunk$set(\n",
    "  collapse = TRUE,\n",
    "  comment = \"#>\", fig.align = \"center\"\n",
    ")"
   ]
  },
  {
   "cell_type": "code",
   "execution_count": null,
<<<<<<< HEAD
   "id": "70c8ce38",
=======
   "id": "8eb27a0f",
>>>>>>> documentation
   "metadata": {
    "eval": false,
    "tags": [
     "remove_cell"
    ]
   },
   "outputs": [],
   "source": [
    "# Install Google Colab dependencies\n",
    "# Note: this can take 30+ minutes (many of the dependencies include C++ code, which needs to be compiled)\n",
    "\n",
    "# First install `sf`, `ragg` and `textshaping` and their system dependencies:\n",
    "system(\"apt-get -y update && apt-get install -y  libudunits2-dev libgdal-dev libgeos-dev libproj-dev libharfbuzz-dev libfribidi-dev\")\n",
    "install.packages(\"sf\")\n",
    "install.packages(\"textshaping\")\n",
    "install.packages(\"ragg\")\n",
    "\n",
    "# Install system dependencies of some other R packages that Voyager either imports or suggests:\n",
    "system(\"apt-get install -y libfribidi-dev libcairo2-dev libmagick++-dev\")\n",
    "\n",
    "# Install Voyager from Bioconductor:\n",
    "install.packages(\"BiocManager\")\n",
    "BiocManager::install(version = \"3.17\", ask = FALSE, update = FALSE, Ncpus = 2)\n",
    "BiocManager::install(\"scater\")\n",
    "system.time(\n",
    "  BiocManager::install(\"Voyager\", dependencies = TRUE, Ncpus = 2, update = FALSE)\n",
    ")\n",
    "\n",
    "# Additional dependencies for this notebook\n",
    "install.packages(\"reticulate\")\n",
    "system(\"pip3 install gget\")\n",
    "packageVersion(\"Voyager\")"
   ]
  },
  {
   "cell_type": "markdown",
<<<<<<< HEAD
   "id": "3c3518e3",
=======
   "id": "b3412e46",
>>>>>>> documentation
   "metadata": {},
   "source": [
    "# Introduction \n",
    "\n",
    "This vignette provides an introduction to exploratory spatial data analysis methods via the `Voyager` package in the context of a Visium dataset."
   ]
  },
  {
   "cell_type": "code",
   "execution_count": null,
<<<<<<< HEAD
   "id": "d4e0b209",
=======
   "id": "db3d06b2",
>>>>>>> documentation
   "metadata": {
    "message": false,
    "name": "setup"
   },
   "outputs": [],
   "source": [
    "library(Voyager)\n",
    "library(SpatialFeatureExperiment)\n",
    "library(scater)\n",
    "library(scran)\n",
    "library(SFEData)\n",
    "library(sf)\n",
    "library(ggplot2)\n",
    "library(scales)\n",
    "library(patchwork)\n",
    "library(BiocParallel)\n",
    "library(bluster)\n",
    "library(dplyr)\n",
    "library(reticulate)\n",
    "theme_set(theme_bw(10))"
   ]
  },
  {
   "cell_type": "code",
   "execution_count": null,
<<<<<<< HEAD
   "id": "aad42962",
=======
   "id": "0082eb09",
>>>>>>> documentation
   "metadata": {
    "eval": false,
    "lines_to_next_cell": 2
   },
   "outputs": [],
   "source": [
    "# Specify Python version to use gget\n",
    "PY_PATH <- system(\"which python\", intern = TRUE)\n",
    "use_python(PY_PATH)\n",
    "py_config()\n",
    "\n",
    "# Load gget\n",
    "gget <- import(\"gget\")"
   ]
  },
  {
   "cell_type": "markdown",
<<<<<<< HEAD
   "id": "e767a21f",
=======
   "id": "55a92d10",
>>>>>>> documentation
   "metadata": {},
   "source": [
    "# Dataset\n",
    "The dataset used in this vignette is from the paper [Large-scale integration of single-cell transcriptomic data captures transitional progenitor states in mouse skeletal muscle regeneration](https://doi.org/10.1038/s42003-021-02810-x) [@McKellar2021-ek]. Notexin was injected into the tibialis anterior muscle of mice to induce injury, and the healing muscle was collected 2, 5, and 7 days post injury for Visium analysis. The dataset in this vignette is from the timepoint at day 2. The vignette starts with a `SpatialFeatureExperiment` (SFE) object.\n",
    "\n",
    "The gene count matrix was directly downloaded [from GEO](https://www.ncbi.nlm.nih.gov/geo/query/acc.cgi?acc=GSM4904759). All 4992 spots, whether in tissue or not, are included. The H&E image was used for nuclei and myofiber segmentation. A subset of nuclei from randomly selected regions from all 3 timepoints were manually annotated to train a StarDist model to segment the rest of the nuclei, and the myofibers were all manually segmented. The tissue boundary was found by thresholding in OpenCV, and small polygons were removed as they are likely to be debris. Spot polygons were constructed with the spot centroid coordinates and diameter in the Space Ranger output. The `in_tissue` column in `colData` indicates which spot polygons intersect the tissue polygons, and is based on `st_intersects()`.\n",
    "\n",
    "Tissue boundary, nuclei, myofiber, and Visium spot polygons are stored as `sf` data frames in the SFE object. See [the vignette of `SpatialFeatureExperiment`](https://bioconductor.org/packages/devel/bioc/vignettes/SpatialFeatureExperiment/inst/doc/SFE.html) for more details on the structure of the SFE object. The SFE object of this dataset is provided in the `SFEData` package; we begin by downloading the data and loading it into R."
   ]
  },
  {
   "cell_type": "code",
   "execution_count": null,
<<<<<<< HEAD
   "id": "1b467e44",
=======
   "id": "2b1a8aa2",
>>>>>>> documentation
   "metadata": {},
   "outputs": [],
   "source": [
    "(sfe <- McKellarMuscleData(\"full\"))"
   ]
  },
  {
   "cell_type": "markdown",
<<<<<<< HEAD
   "id": "cbb5cb6c",
=======
   "id": "a7658ec8",
>>>>>>> documentation
   "metadata": {},
   "source": [
    "The H&E image of this section:\n",
    "![A cross section of mouse muscle is slightly off center to the lower left. In the middle of the tissue is the notexin injury site with leukocyte infiltration and fewer myofibers. The rest of the tissue section is tightly packed with myofibers.](https://raw.githubusercontent.com/pachterlab/voyager/documentation/vignettes/tissue_lowres_5a.jpeg)"
   ]
  },
  {
   "cell_type": "code",
   "execution_count": null,
<<<<<<< HEAD
   "id": "4ecad567",
=======
   "id": "6d20fdbd",
>>>>>>> documentation
   "metadata": {},
   "outputs": [],
   "source": [
    "if (!file.exists(\"tissue_lowres_5a.jpeg\")) {\n",
    "    download.file(\"https://raw.githubusercontent.com/pachterlab/voyager/main/vignettes/tissue_lowres_5a.jpeg\",\n",
    "                  destfile = \"tissue_lowres_5a.jpeg\")\n",
    "}"
   ]
  },
  {
   "cell_type": "markdown",
<<<<<<< HEAD
   "id": "3ed85507",
=======
   "id": "9b030812",
>>>>>>> documentation
   "metadata": {
    "lines_to_next_cell": 0
   },
   "source": [
    "The image can be added to the SFE object and plotted behind the geometries, and needs to be flipped to align to the spots because the origin is at the top left for the image but bottom left for geometries."
   ]
  },
  {
   "cell_type": "code",
   "execution_count": null,
<<<<<<< HEAD
   "id": "7cc4c50f",
=======
   "id": "57d2756b",
>>>>>>> documentation
   "metadata": {},
   "outputs": [],
   "source": [
    "sfe <- addImg(sfe, file = \"tissue_lowres_5a.jpeg\", sample_id = \"Vis5A\", \n",
    "              image_id = \"lowres\", \n",
    "              scale_fct = 1024/22208)\n",
    "sfe <- mirrorImg(sfe, sample_id = \"Vis5A\", image_id = \"lowres\")"
   ]
  },
  {
   "cell_type": "markdown",
<<<<<<< HEAD
   "id": "dc5ab128",
=======
   "id": "15387d24",
>>>>>>> documentation
   "metadata": {},
   "source": [
    "# Exploratory data analysis\n",
    "## Spots in tissue\n",
    "While the example dataset has all Visium spots whether on tissue or not, only spots that intersect tissue are used for further analyses. "
   ]
  },
  {
   "cell_type": "code",
   "execution_count": null,
<<<<<<< HEAD
   "id": "1ac1157f",
=======
   "id": "ff664d7f",
>>>>>>> documentation
   "metadata": {},
   "outputs": [],
   "source": [
    "names(colData(sfe))"
   ]
  },
  {
   "cell_type": "markdown",
<<<<<<< HEAD
   "id": "ba875e7d",
=======
   "id": "9c9ccac7",
>>>>>>> documentation
   "metadata": {
    "lines_to_next_cell": 0
   },
   "source": [
    "Total UMI counts (`nCounts`), number of genes detected per spot (`nGenes`), and the proportion of mitochondrially encoded counts (`prop_mito`) have been precomputed and are in `colData(sfe)`. The `plotSpatialFeature` function can be used to visualize various attributes in space: the expression of any gene, `colData` values, and geometry attributes in `colGeometry` and `annotGeometry`. The Visium spots are plotted as polygons reflecting their actual size relative to the tissue, rather than as points, as is the case in other packages that plot Visium data. The plotting of geometries is being performed under the hood with `geom_sf`.\n",
    "\n",
    "The tissue boundary was found by thresholding the H&E image and removing small polygons that are most likely debris. The `in_tissue` column of `colData(sfe)` indicates which Visium spot polygon intersects the tissue polygon; this can be found with `SpatialFeatureExperiment::annotPred()`.\n",
    "\n",
    "We demonstrate the use of `scran` [@Lun2016-yq] for normalization below, although we note that it is not necessarily the best approach to normalizing spatial transcriptomics data. The problem of when and how to normalize spatial transcriptomics data is non-trivial because, as the `nCounts` plot in space shows above, spatial autocorrelation is evident. Furthemrore, in Visium, reverse transcription occurs in situ on the spots, but PCR amplification occurs after the cDNA is dissociated from the spots. Artifacts may be subsequently introduced from the amplification step, and these would not be associated with spatial origin. Spatial artifacts may arise from the diffusion of transcripts and tissue permeablization. However, given how the total counts seem to correspond to histological regions, the total counts may have a biological component and hence should not be treated as a technical artifact to be normalized away as in scRNA-seq data normalization methods. In other words, the issue of normalization for spatial transcriptomics data, and Visium in particular, is complex and is currently unsolved. "
   ]
  },
  {
   "cell_type": "code",
   "execution_count": null,
<<<<<<< HEAD
   "id": "29e60778",
=======
   "id": "a477cd80",
>>>>>>> documentation
   "metadata": {},
   "outputs": [],
   "source": [
    "sfe_tissue <- sfe[,colData(sfe)$in_tissue]\n",
    "sfe_tissue <- sfe_tissue[rowSums(counts(sfe_tissue)) > 0,]"
   ]
  },
  {
   "cell_type": "code",
   "execution_count": null,
<<<<<<< HEAD
   "id": "f2808c58",
=======
   "id": "d2af872c",
>>>>>>> documentation
   "metadata": {},
   "outputs": [],
   "source": [
    "#clusters <- quickCluster(sfe_tissue)\n",
    "#sfe_tissue <- computeSumFactors(sfe_tissue, clusters=clusters)\n",
    "#sfe_tissue <- sfe_tissue[, sizeFactors(sfe_tissue) > 0]\n",
    "sfe_tissue <- logNormCounts(sfe_tissue)"
   ]
  },
  {
   "cell_type": "markdown",
<<<<<<< HEAD
   "id": "5ffdc2e5",
=======
   "id": "86fa04da",
>>>>>>> documentation
   "metadata": {},
   "source": [
    "Myofiber and nuclei segmentation polygons are available in this dataset in the `annotGeometries` field. Myofibers were manually segmented, and nuclei were segmented with [`StarDist`](https://github.com/stardist/stardist) trained with a manually segmented subset. "
   ]
  },
  {
   "cell_type": "code",
   "execution_count": null,
<<<<<<< HEAD
   "id": "8cfaf443",
=======
   "id": "198c5f52",
>>>>>>> documentation
   "metadata": {},
   "outputs": [],
   "source": [
    "annotGeometryNames(sfe_tissue)"
   ]
  },
  {
   "cell_type": "markdown",
<<<<<<< HEAD
   "id": "ae22642e",
=======
   "id": "4ab1f973",
>>>>>>> documentation
   "metadata": {
    "lines_to_next_cell": 0
   },
   "source": [
    "### From myofibers and nuclei to Visium spots\n",
    "The `plotSpatialFeature()` function can also be used to plot attributes of geometries, i.e. the non-geometry columns in the `sf` data frames in the `rowGeometries`, `colGeometries`, or `annotGeometries` fields of the SFE object. For `rowGeometries` and `colGeometries`, such columns which are associated with the `sf` data frames rather than `rowData` or `colData`, are allowed because one can specify how these columns associate with the geometries (see [`st_agr`](https://r-spatial.github.io/sf/reference/st_agr.html) and [documentation of `st_sf`](https://r-spatial.github.io/sf/reference/sf.html#details-1)). When an attribute of an `annotGeometry` is plotted along side gene expression or `colData` or `colGeometry` attribute, the `annotGeometry` attribute is plotted with a different color palette to distinguish it from the column associated values. \n",
    "\n",
    "The myofiber polygons from `annotGeometries` can be plotted as shown below, colored by cross section area as observed in the tissue section. The `aes_use` argument is set to `color` rather than `fill` (default for polygons) to only plot the Visium spot outlines to make the myofiber polygons more visible. The `fill` argument is set to `NA` to make the Visium spots look hollow, and the `size` argument controls the thickness of the outlines. The `annot_aes` argument specifies which column in the `annotGeometry` to use to specify the values of an aesthstic, just like `aes` in `ggplot2` (`aes_string` to be precise, since `tidyeval` is not used here). The `annot_fixed` argument (not used here) can set the fixed size, alpha, color, and etc. for the `annotGeometry`. "
   ]
  },
  {
   "cell_type": "code",
   "execution_count": null,
<<<<<<< HEAD
   "id": "5ecfc884",
=======
   "id": "a3ea6c3a",
>>>>>>> documentation
   "metadata": {
    "fig.alt": "Plot of Visium spots in tissue and myofiber polygons in physical space. Visium spots are colored by nCounts, and myofibers are colored by area."
   },
   "outputs": [],
   "source": [
    "plotSpatialFeature(sfe_tissue, features = \"nCounts\", \n",
    "                   colGeometryName = \"spotPoly\",\n",
    "                   annotGeometryName = \"myofiber_simplified\", \n",
    "                   aes_use = \"color\", linewidth = 0.5, fill = NA,\n",
    "                   annot_aes = list(fill = \"area\"))"
   ]
  },
  {
   "cell_type": "markdown",
<<<<<<< HEAD
   "id": "33f2e75f",
=======
   "id": "5ad44e14",
>>>>>>> documentation
   "metadata": {
    "lines_to_next_cell": 0
   },
   "source": [
    "The larger myofibers seem to have fewer total counts, possibly because the larger size of these myofibers dilutes the transcripts. This hints at the need for a normalization procedure.\n",
    "\n",
    "With `SpatialFeatureExperiment`, we can find the number of myofibers and nuclei that intersect each Visium spot. The predicate can be [anything implemented in `sf`](https://r-spatial.github.io/sf/reference/geos_binary_pred.html), so for example, the number of nuclei fully covered by each Visium spot can also be found. The default predicate is `st_intersects()`."
   ]
  },
  {
   "cell_type": "code",
   "execution_count": null,
<<<<<<< HEAD
   "id": "e343fa70",
=======
   "id": "3eb59ed3",
>>>>>>> documentation
   "metadata": {},
   "outputs": [],
   "source": [
    "colData(sfe_tissue)$n_myofibers <- \n",
    "  annotNPred(sfe_tissue, colGeometryName = \"spotPoly\",\n",
    "             annotGeometryName = \"myofiber_simplified\")"
   ]
  },
  {
   "cell_type": "code",
   "execution_count": null,
<<<<<<< HEAD
   "id": "bae82f53",
=======
   "id": "0442dae6",
>>>>>>> documentation
   "metadata": {
    "fig.alt": "Plot of Visium spots in tissue in physical space, colored by number of myofibers intersecting each spot.",
    "fig.height": 4,
    "fig.width": 8
   },
   "outputs": [],
   "source": [
    "plotSpatialFeature(sfe_tissue, features = \"n_myofibers\", \n",
    "                   colGeometryName = \"spotPoly\", image = \"lowres\", color = \"black\",\n",
    "                   linewidth = 0.1)"
   ]
  },
  {
   "cell_type": "markdown",
<<<<<<< HEAD
   "id": "cc1db18e",
=======
   "id": "6399ce1f",
>>>>>>> documentation
   "metadata": {
    "lines_to_next_cell": 0
   },
   "source": [
    "There is no one-to-one mapping between Visium spots and myofibers. However, we can relate attributes of myofibers to gene expression detected at the Visium spots. One way to do so is to summarize the attributes of all myofibers that intersect (or choose another better predicate implemented in `sf`) each spot, such as to calculate the mean, median, or sum. This can be done with the `annotSummary()` function in `SpatialFeatureExperiment`. The default predicate is `st_intersects()`, and the default summary function is `mean()`."
   ]
  },
  {
   "cell_type": "code",
   "execution_count": null,
<<<<<<< HEAD
   "id": "98049c73",
=======
   "id": "fd070768",
>>>>>>> documentation
   "metadata": {},
   "outputs": [],
   "source": [
    "colData(sfe_tissue)$mean_myofiber_area <- \n",
    "  annotSummary(sfe_tissue, \"spotPoly\", \"myofiber_simplified\", \n",
    "               annotColNames = \"area\")[,1] # it always returns a data frame"
   ]
  },
  {
   "cell_type": "code",
   "execution_count": null,
<<<<<<< HEAD
   "id": "140f5073",
=======
   "id": "ade920a9",
>>>>>>> documentation
   "metadata": {
    "fig.alt": "Plot of Visium spots in tissue in physical space, colored by the average area of myofibers that intersect each spot. The average area is higher near the mid-top right part of the tissue."
   },
   "outputs": [],
   "source": [
    "# The gray spots don't intersect any myofiber\n",
    "plotSpatialFeature(sfe_tissue, \"mean_myofiber_area\", \"spotPoly\", image = \"lowres\", \n",
    "                   color = \"black\", linewidth = 0.1)"
   ]
  },
  {
   "cell_type": "markdown",
<<<<<<< HEAD
   "id": "ef33f8bc",
=======
   "id": "0c86395b",
>>>>>>> documentation
   "metadata": {
    "lines_to_next_cell": 0
   },
   "source": [
    "This reveals the relationship between the mean area of myofibers intersecting each Visium spot and other aspects of the spots, such as total counts and gene expression.\n",
    "\n",
    "The NAs designate spots not intersecting any myofibers, e.g. those in the inflammatory region. \n",
    "\n",
    "In the [Basic Visium vignette](https://pachterlab.github.io/Voyager/articles/vig2_visium_basic.html), we encountered two mysterious branches and two clusters in the nGenes vs. nCounts plot and the proportion of mitochondrial counts vs. nCounts plot. Now we see that the two clusters seem to be related to myofiber size."
   ]
  },
  {
   "cell_type": "code",
   "execution_count": null,
<<<<<<< HEAD
   "id": "aa79d3b7",
=======
   "id": "0d9da153",
>>>>>>> documentation
   "metadata": {},
   "outputs": [],
   "source": [
    "plotColData(sfe_tissue, x = \"nCounts\", y = \"nGenes\", colour_by = \"mean_myofiber_area\")"
   ]
  },
  {
   "cell_type": "code",
   "execution_count": null,
<<<<<<< HEAD
   "id": "e65354bb",
=======
   "id": "826193cf",
>>>>>>> documentation
   "metadata": {},
   "outputs": [],
   "source": [
    "plotColData(sfe_tissue, x = \"nCounts\", y = \"prop_mito\", colour_by = \"mean_myofiber_area\")"
   ]
  },
  {
   "cell_type": "markdown",
<<<<<<< HEAD
   "id": "159a4de5",
=======
   "id": "78d25c99",
>>>>>>> documentation
   "metadata": {
    "lines_to_next_cell": 0
   },
   "source": [
    "### Myofiber types\n",
    "Marker genes: Myh7 (Type I, slow twitch, aerobic), Myh2 (Type IIa, fast twitch, somewhat aerobic), Myh4 (Type IIb, fast twitch, anareobic), Myh1 (Type IIx, fast twitch, anaerobic), from [this protocol](https://www.ncbi.nlm.nih.gov/pmc/articles/PMC5526362/) [@Wang2017-li]"
   ]
  },
  {
   "cell_type": "code",
   "execution_count": null,
<<<<<<< HEAD
   "id": "580f035f",
=======
   "id": "83b597ad",
>>>>>>> documentation
   "metadata": {},
   "outputs": [],
   "source": [
    "markers <- c(I = \"Myh7\", IIa = \"Myh2\", IIb = \"Myh4\", IIx = \"Myh1\")"
   ]
  },
  {
   "cell_type": "markdown",
<<<<<<< HEAD
   "id": "567f3659",
=======
   "id": "f5eed4d5",
>>>>>>> documentation
   "metadata": {
    "lines_to_next_cell": 0
   },
   "source": [
    "We can use the [gget search](https://pachterlab.github.io/gget/search.html) and [gget info](https://pachterlab.github.io/gget/info.html) modules from the [gget](https://pachterlab.github.io/gget/) package to get the Ensembl IDs and additional information (for example their [NCBI](https://www.ncbi.nlm.nih.gov/) description) for these marker genes:"
   ]
  },
  {
   "cell_type": "code",
   "execution_count": null,
<<<<<<< HEAD
   "id": "da03ce28",
=======
   "id": "3a42bedc",
>>>>>>> documentation
   "metadata": {
    "eval": false
   },
   "outputs": [],
   "source": [
    "gget_search <- gget$search(list(\"Myh7\", \"Myh2\", \"Myh4\", \"Myh1\"), species=\"mouse\")\n",
    "gget_search <- gget_search[gget_search$gene_name %in% list(\"Myh7\", \"Myh2\", \"Myh4\", \"Myh1\"), ]\n",
    "gget_search"
   ]
  },
  {
   "cell_type": "code",
   "execution_count": null,
<<<<<<< HEAD
   "id": "332b01b8",
=======
   "id": "dc949ef4",
>>>>>>> documentation
   "metadata": {
    "eval": false
   },
   "outputs": [],
   "source": [
    "gget_info <- gget$info(gget_search$ensembl_id)\n",
    "\n",
    "rownames(gget_info) <- gget_info$primary_gene_name\n",
    "select(gget_info, ncbi_description)"
   ]
  },
  {
   "cell_type": "markdown",
<<<<<<< HEAD
   "id": "b919948c",
=======
   "id": "78f4fe27",
>>>>>>> documentation
   "metadata": {
    "lines_to_next_cell": 0
   },
   "source": [
    "We first examine the Type I myofibers. This is a fast twitch muscle, so we don't expect many slow twitch Type I myofibers. Row names in `sfe_tissue` are Ensembl IDs in order to avoid ambiguity as sometimes multiple Ensembl IDs have the same gene symbol and some genes have aliases. However, gene symbols are shorter and more human readable than Ensembl IDs, and are better suited to display on plots.  In the `plotSpatialFeature()` function and other functions in `Voyager`, even when the row names are recorded as Ensembl IDs, the `features` argument can take gene symbols with the `swap_rownames` argument indicating a column in `rowData(sfe)` that stores the gene symbols. Gene symbols is then also shown in plots instead of Ensembl IDs. If one gene symbol matches multiple Ensembl IDs in the dataset, then a warning will be given.\n",
    "\n",
    "The `exprs_values` argument specifies the assay to use, which is by default \"logcounts\", i.e. the log normalized data. This default may or may not be suitable in practice given that total UMI counts may have biological relevance in spatial data. Therefore, we plot both the raw counts and the log normalized counts:"
   ]
  },
  {
   "cell_type": "code",
   "execution_count": null,
<<<<<<< HEAD
   "id": "c07ba1d3",
=======
   "id": "ece80eb3",
>>>>>>> documentation
   "metadata": {},
   "outputs": [],
   "source": [
    "# Function specific for this vignette, with some hard coded values\n",
    "plot_counts_logcounts <- function(sfe, feature) {\n",
    "  p1 <- plotSpatialFeature(sfe, feature, \"spotPoly\",\n",
    "                   annotGeometryName = \"myofiber_simplified\", \n",
    "                   annot_aes = list(fill = \"area\"), swap_rownames = \"symbol\", \n",
    "                   exprs_values = \"counts\", aes_use = \"color\", linewidth = 0.5,\n",
    "                   fill = NA) +\n",
    "    ggtitle(\"Raw counts\")\n",
    "  p2 <- plotSpatialFeature(sfe, feature, \"spotPoly\",\n",
    "                   annotGeometryName = \"myofiber_simplified\", \n",
    "                   annot_aes = list(fill = \"area\"), swap_rownames = \"symbol\", \n",
    "                   exprs_values = \"logcounts\", aes_use = \"color\", linewidth = 0.5,\n",
    "                   fill = NA) +\n",
    "    ggtitle(\"Log normalized counts\")\n",
    "  p1 + p2 +\n",
    "    plot_annotation(title = feature)\n",
    "}"
   ]
  },
  {
   "cell_type": "code",
   "execution_count": null,
<<<<<<< HEAD
   "id": "8d8ab43c",
=======
   "id": "b28cfd85",
>>>>>>> documentation
   "metadata": {
    "fig.alt": "Raw and log normalized counts of Myh7, marker gene of type I myofiber, plotted side by side on Visium spots in space, with myofiber polygons colored by myofiber cross section area plotted in the background. Visium spots expressing Myh7 concentrate in the lower left part of the tissue where the myofibers tend to be smaller."
   },
   "outputs": [],
   "source": [
    "plot_counts_logcounts(sfe_tissue, markers[\"I\"])"
   ]
  },
  {
   "cell_type": "markdown",
<<<<<<< HEAD
   "id": "2a3149d2",
=======
   "id": "0b057dbd",
>>>>>>> documentation
   "metadata": {
    "lines_to_next_cell": 0
   },
   "source": [
    "A marker gene for type IIa myofibers is shown above. It is straightforward to modify the plotting to display markers for type IIb and type IIx myofibers:"
   ]
  },
  {
   "cell_type": "code",
   "execution_count": null,
<<<<<<< HEAD
   "id": "75501edf",
=======
   "id": "5d668690",
>>>>>>> documentation
   "metadata": {
    "fig.alt": "Raw and log normalized counts of Myh2, a marker gene of type IIa myofiber, plotted side by side on Visium spots in space, with myofiber polygons colored by myofiber cross section area plotted in the background. Visium spots expressing Myh2 concentrate in the lower left and upper left parts of the tissue where the myofibers tend to be smaller. Log normalized counts show a wider region with higher expression."
   },
   "outputs": [],
   "source": [
    "plot_counts_logcounts(sfe_tissue, markers[\"IIa\"])"
   ]
  },
  {
   "cell_type": "markdown",
<<<<<<< HEAD
   "id": "f0537a8c",
=======
   "id": "e54fcabc",
>>>>>>> documentation
   "metadata": {
    "lines_to_next_cell": 0
   },
   "source": [
    "Type IIa myofibers also tend to be clustered together on left side of the tissue.\n",
    "\n",
    "As SFE inherits from SCE, the non-spatial EDA plots from the `scater` package can also be used:"
   ]
  },
  {
   "cell_type": "code",
   "execution_count": null,
<<<<<<< HEAD
   "id": "468c1d3e",
=======
   "id": "a57d94d1",
>>>>>>> documentation
   "metadata": {
    "fig.alt": "Scatter plot of mean area of myofibers intersecting each Visium spot in the x axis and proportion of mitochondrially encoded counts per spot in the y axis, with points colored by expression of Myh2."
   },
   "outputs": [],
   "source": [
    "plotColData(sfe_tissue, x = \"mean_myofiber_area\", y = \"prop_mito\", \n",
    "            colour_by = markers[\"IIa\"], by_exprs_values = \"logcounts\", \n",
    "            swap_rownames = \"symbol\")"
   ]
  },
  {
   "cell_type": "markdown",
<<<<<<< HEAD
   "id": "8ff80512",
=======
   "id": "5250074c",
>>>>>>> documentation
   "metadata": {},
   "source": [
    "Plotting proportion of mitochondrial counts vs. mean myofiber area, we see two clusters, one with higher proportion of mitochondrial counts and smaller area, and another with lower proportion of mitochondrial counts and on average slightly larger area. Type IIa myofibers tend to have smaller area and a larger proportion of mitochondrial counts.\n",
    "\n",
    "# Spatial neighborhood graphs\n",
    "A spatial neighborhood graph is required to compute spatial dependency metrics such as Moran's I and Geary's C. The `SpatialFeatureExperiment` package wraps methods in `spdep` to find spatial neighborhood graphs, which are stored within the SFE object (see `spdep` documentation for `gabrielneigh()`, `knearneigh()`, `poly2nb()`, and `tri2nb()`). The `Voyager` package then uses these graphs for spatial dependency analyses, again based on `spdep` in this first version, but methods from other geospatial packages, some of which also use the spatial neighborhood graphs, may be added later.\n",
    "\n",
    "For Visium, where the spots are in a hexagonal grid, the spatial neighborhood graph is straightforward. However, for spatial technologies with single cell resolution, e.g. MERFISH, different methods can be used to find the spatial neighborhood graph. In this example, the method \"poly2nb\" was used for myofibers, and it identifies myofiber polygons that physically touch each other. `zero.policy = TRUE` will allow for singletons, i.e. nodes without neighbors in the graph; in the inflamed region, there are more singletons. We have not yet benchmarked spatial neighborhood construction methods to determine which is the \"best\" for different technologies; the particular method used here is for demonstration purposes and may not be the best in practice: "
   ]
  },
  {
   "cell_type": "code",
   "execution_count": null,
<<<<<<< HEAD
   "id": "44591d1d",
=======
   "id": "f8ff92ac",
>>>>>>> documentation
   "metadata": {},
   "outputs": [],
   "source": [
    "colGraph(sfe_tissue, \"visium\") <- findVisiumGraph(sfe_tissue)\n",
    "annotGraph(sfe_tissue, \"myofiber_poly2nb\") <- \n",
    "  findSpatialNeighbors(sfe_tissue, type = \"myofiber_simplified\", MARGIN = 3,\n",
    "                       method = \"poly2nb\", zero.policy = TRUE)"
   ]
  },
  {
   "cell_type": "markdown",
<<<<<<< HEAD
   "id": "4cf442b6",
=======
   "id": "aaa9868d",
>>>>>>> documentation
   "metadata": {
    "lines_to_next_cell": 0
   },
   "source": [
    "The `plotColGraph()` function plots the graph in space associated with a `colGeometry`, along with the geometry of interest."
   ]
  },
  {
   "cell_type": "code",
   "execution_count": null,
<<<<<<< HEAD
   "id": "f5adf770",
=======
   "id": "92ee5655",
>>>>>>> documentation
   "metadata": {
    "fig.alt": "Spatial neighborhood graph of Visium spots that intersect tissue."
   },
   "outputs": [],
   "source": [
    "plotColGraph(sfe_tissue, colGraphName = \"visium\", colGeometryName = \"spotPoly\") +\n",
    "    theme_void()"
   ]
  },
  {
   "cell_type": "markdown",
<<<<<<< HEAD
   "id": "5c63baf8",
=======
   "id": "e21cd238",
>>>>>>> documentation
   "metadata": {
    "lines_to_next_cell": 0
   },
   "source": [
    "Similarly, the `plotAnnotGraph()` function plots the graph associated with an `annotGeometry`, along with the geometry of interest. "
   ]
  },
  {
   "cell_type": "code",
   "execution_count": null,
<<<<<<< HEAD
   "id": "ee685e00",
=======
   "id": "462287ce",
>>>>>>> documentation
   "metadata": {
    "fig.alt": "Spatial neighborhood graph of myofibers, where each edge connects two myofibers that touch."
   },
   "outputs": [],
   "source": [
    "plotAnnotGraph(sfe_tissue, annotGraphName = \"myofiber_poly2nb\", \n",
    "               annotGeometryName = \"myofiber_simplified\") + theme_void()"
   ]
  },
  {
   "cell_type": "markdown",
<<<<<<< HEAD
   "id": "ec27ce9a",
=======
   "id": "cbaa5cfa",
>>>>>>> documentation
   "metadata": {
    "lines_to_next_cell": 0
   },
   "source": [
    "There is no `plotRowGraph` yet since we haven't worked with a dataset where spatial graphs related to genes are relevant, although the SFE object supports row graphs.\n",
    "\n",
    "# Exploratory _spatial_ data analysis\n",
    "All spatial autocorrelation metrics in this package can be computed directly on a vector or a matrix rather than an SFE object. The user interface emulates those of dimension reductions in the `scater` package (e.g. `calculateUMAP()` that takes in a matrix or SCE object and returns a matrix, and `runUMAP()` that takes in an SCE object and adds the results to the `reducedDims` field of the SCE object). So `calculate*` functions take in a matrix or an SFE object and directly return the results (format of the results depends on the structure of the results), while `run*` functions take in an SFE object and add the results to the object. In addition, `colData*` functions compute the metrics for numeric variables in `colData`. `colGeometry*` functions compute the metrics for numeric columns in a `colGeometry`. `annotGeometry*` functions compute the metrics for numeric columns in a `annotGeometry`. \n",
    "\n",
    "# Univariate global\n",
    "`Voyager` supports many univariate global spatial autocorrelation implemented in `spdep` for ESDA: Moran's I and Geary's C, permutation testing for Moran's I and Geary's C, Moran plot, and correlograms. In addition, beyond `spdep`, `Voyager` can cluster Moran plots and correlograms. Plotting functions taking in SFE objects are implemented to plot the results with `ggplot2` and with more customization options than `spdep` plotting functions. The functions `calculateUnivariate()`, `runUnivariate()`, `colDataUnivariate()`, `colGeometryUnivariate()`, and `annotGeometryUnivariate()` compute univariate spatial statistics. The argument `type`, which indicates the corresponding function names in `spdep`, determines which spatial statistics are computed. \n",
    "\n",
    "All univariate global methods in `Voyager` are listed here:"
   ]
  },
  {
   "cell_type": "code",
   "execution_count": null,
<<<<<<< HEAD
   "id": "ba4fe1c0",
=======
   "id": "c25b10dd",
>>>>>>> documentation
   "metadata": {},
   "outputs": [],
   "source": [
    "listSFEMethods(variate = \"uni\", scope = \"global\")"
   ]
  },
  {
   "cell_type": "markdown",
<<<<<<< HEAD
   "id": "b35d3f32",
=======
   "id": "fa2e0324",
>>>>>>> documentation
   "metadata": {
    "lines_to_next_cell": 0
   },
   "source": [
    "When calling `calculate*variate()` or `run*variate()`, the `type` (2nd) argument takes either an `SFEMethod` object (see `SFEMethod()` and [vignette on `SFEMethod`](https://pachterlab.github.io/voyager/articles/sfemethod.html)) or a string that matches an entry in the `name` column in the data frame returned by `listSFEMethods()`.\n",
    "\n",
    "To demonstrate spatial autocorrelation in gene expression, top highly variable genes (HVGs) are used. The HVGs are found with the `scran` method."
   ]
  },
  {
   "cell_type": "code",
   "execution_count": null,
<<<<<<< HEAD
   "id": "4b6c21ea",
=======
   "id": "71016a14",
>>>>>>> documentation
   "metadata": {},
   "outputs": [],
   "source": [
    "dec <- modelGeneVar(sfe_tissue)\n",
    "hvgs <- getTopHVGs(dec, n = 50)"
   ]
  },
  {
   "cell_type": "markdown",
<<<<<<< HEAD
   "id": "45883809",
=======
   "id": "810e3b17",
>>>>>>> documentation
   "metadata": {
    "lines_to_next_cell": 0
   },
   "source": [
    "A global statistic yields one result for the entire dataset.\n",
    "\n",
    "## Moran's I\n",
    "There are several ways to quantify spatial autocorrelation, the most common of which is Moran's I:\n",
    "\n",
    "$$\n",
    "I = \\frac{n}{\\sum_{i=1}^n \\sum_{j=1}^n w_{ij}} \\frac{\\sum_{i=1}^n \\sum_{j=1}^n w_{ij} (x_i - \\bar{x})(x_j - \\bar{x})}{\\sum_{i=1}^n (x_i - \\bar{x})^2},\n",
    "$$\n",
    "\n",
    "where $n$ is the number of spots or locations, $i$ and $j$ are different locations, or spots in the Visium context, $x$ is a variable with values at each location, and $w_{ij}$ is a spatial weight, which can be inversely proportional to distance between spots or an indicator of whether two spots are neighbors, subject to various definitions of neighborhood and whether to normalize the number of neighbors. The [`spdep`](https://r-spatial.github.io/spdep/index.html) package uses the neighborhood. \n",
    "\n",
    "Moran's I can be understood as the Pearson correlation between the value at each location and the average value at its neighbors. Just like Pearson correlation, Moran's I is generally bound between -1 and 1, where positive value indicates positive spatial autocorrelation and negative value indicates negative spatial autocorrelation. \n",
    "\n",
    "Upon visual inspection, total UMI counts per spot seem to have spatial autocorrelation. A spatial neighborhood graph is required to compute Moran's I, and is specified with the `listw` argument. \n",
    "\n",
    "For matrices, the rows are the features, as in the gene count matrix."
   ]
  },
  {
   "cell_type": "code",
   "execution_count": null,
<<<<<<< HEAD
   "id": "f3523406",
=======
   "id": "4f7dc5b4",
>>>>>>> documentation
   "metadata": {},
   "outputs": [],
   "source": [
    "# Directly use vector or matrix, and multiple features can be specified at once\n",
    "calculateUnivariate(t(colData(sfe_tissue)[,c(\"nCounts\", \"nGenes\")]), \n",
    "                    type = \"moran\",\n",
    "                    listw = colGraph(sfe_tissue, \"visium\"))"
   ]
  },
  {
   "cell_type": "markdown",
<<<<<<< HEAD
   "id": "8ebe920d",
=======
   "id": "87db8e45",
>>>>>>> documentation
   "metadata": {
    "lines_to_next_cell": 0
   },
   "source": [
    "\"moran\" is Moran's I, and K is sample kurtosis.\n",
    "\n",
    "To add the results to the SFE object, specifically for colData:"
   ]
  },
  {
   "cell_type": "code",
   "execution_count": null,
<<<<<<< HEAD
   "id": "341f4369",
=======
   "id": "180bb128",
>>>>>>> documentation
   "metadata": {},
   "outputs": [],
   "source": [
    "sfe_tissue <- colDataUnivariate(sfe_tissue, features = c(\"nCounts\", \"nGenes\"),\n",
    "                                colGraphName = \"visium\", type = \"moran\")\n",
    "colFeatureData(sfe_tissue)[c(\"nCounts\", \"nGenes\"),]"
   ]
  },
  {
   "cell_type": "markdown",
<<<<<<< HEAD
   "id": "a613a811",
=======
   "id": "6b7ce01b",
>>>>>>> documentation
   "metadata": {
    "lines_to_next_cell": 0
   },
   "source": [
    "For `colData`, the results are added to `colFeatureData(sfe)`, and features for which Moran's I is not calculated have NA. The column names of `featureData` distinguishes between different samples (there's only one sample in this dataset), and are parsed by plotting functions. \n",
    "\n",
    "To add the results to the SFE object, specifically for geometries: Here \"area\" is the area of the cross section of each myofiber as seen in this tissue section and \"eccentricity\" is the eccentricity of the ellipse fitted to each myofiber."
   ]
  },
  {
   "cell_type": "code",
   "execution_count": null,
<<<<<<< HEAD
   "id": "b75e85ac",
=======
   "id": "6b9fcc6d",
>>>>>>> documentation
   "metadata": {},
   "outputs": [],
   "source": [
    "# Remember zero.policy = TRUE since there're singletons\n",
    "sfe_tissue <- annotGeometryUnivariate(sfe_tissue, type = \"moran\",\n",
    "                                      features = c(\"area\", \"eccentricity\"), \n",
    "                                      annotGeometryName = \"myofiber_simplified\",\n",
    "                                      annotGraphName = \"myofiber_poly2nb\", \n",
    "                                      zero.policy = TRUE)\n",
    "head(attr(annotGeometry(sfe_tissue, \"myofiber_simplified\"), \"featureData\"))"
   ]
  },
  {
   "cell_type": "markdown",
<<<<<<< HEAD
   "id": "e84cb1e5",
=======
   "id": "0b863e15",
>>>>>>> documentation
   "metadata": {
    "lines_to_next_cell": 0
   },
   "source": [
    "For a non-geometry column in a `colGeometry`, `colGeometryUnivariate()` is like `annotGeometryUnivariate()` here, but none of the `colGeometries` in this dataset has extra columns.\n",
    "\n",
    "For gene expression, the `logcounts` assay is used by default (use the `exprs_values` argument to change the assay), though this may or may not be best practice. If the metrics are computed for a large number of features, parallel computing is supported, with [`BiocParallel`](https://bioconductor.org/packages/release/bioc/html/BiocParallel.html), with the `BPPARAM` argument."
   ]
  },
  {
   "cell_type": "code",
   "execution_count": null,
<<<<<<< HEAD
   "id": "2683cac0",
=======
   "id": "0d6546a0",
>>>>>>> documentation
   "metadata": {},
   "outputs": [],
   "source": [
    "sfe_tissue <- runUnivariate(sfe_tissue, type = \"moran\", features = hvgs, \n",
    "                            colGraphName = \"visium\", \n",
    "                            BPPARAM = MulticoreParam(2))\n",
    "rowData(sfe_tissue)[head(hvgs),]"
   ]
  },
  {
   "cell_type": "markdown",
<<<<<<< HEAD
   "id": "7b563f97",
=======
   "id": "6aa76725",
>>>>>>> documentation
   "metadata": {
    "lines_to_next_cell": 0
   },
   "source": [
    "## Geary's C\n",
    "Another spatial autocorrelation metric is Geary's C, defined as:\n",
    "\n",
    "$$\n",
    "C = \\frac{(n-1)}{2\\sum_{i=1}^n \\sum_{j=1}^n w_{ij}} \\frac{\\sum_{i=1}^n \\sum_{j=1}^n w_{ij}(x_i - x_j)^2}{{\\sum_{i=1}^n (x_i - \\bar{x})^2}}\n",
    "$$\n",
    "\n",
    "Geary's C  below 1 indicates positive spatial autocorrelation, and above 1 indicates negative spatial autocorrelation.\n",
    "\n",
    "To compute Geary's C for features of interest replace `type = \"moran\"` in the previous section with `type = \"geary\"`, and add the results to the SFE object. For example, for `colData`"
   ]
  },
  {
   "cell_type": "code",
   "execution_count": null,
<<<<<<< HEAD
   "id": "9a562bb2",
=======
   "id": "6e09bc44",
>>>>>>> documentation
   "metadata": {},
   "outputs": [],
   "source": [
    "sfe_tissue <- colDataUnivariate(sfe_tissue, features = c(\"nCounts\", \"nGenes\"),\n",
    "                                colGraphName = \"visium\", type = \"geary\")\n",
    "colFeatureData(sfe_tissue)[c(\"nCounts\", \"nGenes\"),]"
   ]
  },
  {
   "cell_type": "markdown",
<<<<<<< HEAD
   "id": "5e5b1801",
=======
   "id": "6cb74cf2",
>>>>>>> documentation
   "metadata": {
    "lines_to_next_cell": 0
   },
   "source": [
    "There's only one column for K since it's the same for Moran's I and Geary's C. Here both Moran's I and Geary's C suggest positive spatial autocorrelation for `nCounts` and `nGenes`.\n",
    "\n",
    "Other univariate global methods, including permutation testing for Moran's I and Geary's C, correlograms, and Moran scatter plot can also be called with functions such as `runUnivariate`, by specifying the `type` argument. See documentation of `runUnivariate` to see the available methods and see documentation of the corresponding `spdep` functions to see the extra arguments required for each method.\n",
    "\n",
    "## Permutation testing\n",
    "To establish whether the spatial autocorrelation is statistically significant, the `moran.test()` function in `spdep` can be used. It provides a p-value, but the p-value may not be accurate if the data is not normally distributed. As gene expression data is generally not normally distributed and data normalization doesn't always work well, we use permutation testing to test the significance of Moran's I and Geary's C, wrapping `moran.mc()` in `spdep`. The \"mc\" stands for Monte Carlo. The `nsim` argument specifies the number of simulations. \n",
    "\n",
    "The following adds the results to the SFE object:"
   ]
  },
  {
   "cell_type": "code",
   "execution_count": null,
<<<<<<< HEAD
   "id": "20190960",
=======
   "id": "9f58c72e",
>>>>>>> documentation
   "metadata": {},
   "outputs": [],
   "source": [
    "set.seed(29)\n",
    "sfe_tissue <- colDataUnivariate(sfe_tissue, features = c(\"nCounts\", \"nGenes\"), \n",
    "                                colGraphName = \"visium\", nsim = 1000,\n",
    "                                type = \"moran.mc\")\n",
    "colFeatureData(sfe_tissue)[c(\"nCounts\", \"nGenes\"),]"
   ]
  },
  {
   "cell_type": "markdown",
<<<<<<< HEAD
   "id": "3ffc6236",
=======
   "id": "8a9378c9",
>>>>>>> documentation
   "metadata": {
    "lines_to_next_cell": 0
   },
   "source": [
    "Note that while the test is performed for multiple features, the p-values here are not corrected for multiple hypothesis testing.\n",
    "\n",
    "The results can be plotted:"
   ]
  },
  {
   "cell_type": "code",
   "execution_count": null,
<<<<<<< HEAD
   "id": "f9d8f014",
=======
   "id": "6737f127",
>>>>>>> documentation
   "metadata": {
    "fig.alt": "Density plot of Moran's I values from 1000 simulations of nCounts and nGenes. The density plots center around 0 and deminish around 0.06 on the right. Vertical lines mark the actual Moran's I. For both nCounts and nGenes, the actual value, at 0.53 and 0.38 respectively, is far higher than the simulated ones, indicating positive spatial autocorrelation."
   },
   "outputs": [],
   "source": [
    "plotMoranMC(sfe_tissue, c(\"nCounts\", \"nGenes\"))"
   ]
  },
  {
   "cell_type": "markdown",
<<<<<<< HEAD
   "id": "ad15116f",
=======
   "id": "595e692b",
>>>>>>> documentation
   "metadata": {},
   "source": [
    "By default, the colorblind friendly palette from [`dittoSeq`](https://bioconductor.org/packages/release/bioc/html/dittoSeq.html) is used for categorical variables. The density plot is of Moran's I from the simulations where the values are permuted and disconnected from spatial locations, and the vertical line is the actual Moran's I value. The simulation indicates that the actual Moran's I is much higher than that from the simulations where the values are dissociated from spatial locations and permuted among the locations, indicating that spatial autocorrelation is very significant. \n",
    "\n",
    "Use `type = \"geary.mc\"` for permutation testing for Geary's C.\n",
    "\n",
    "The `spdep` package can also compute p-values of Moran's I analytically, but the theory behind the mean and variance of the null distribution of Moran's I assumes normal distribution of the data, while gene expression data is generally non-normal. However, according to [@Griffith2010-uy], with large sample size (\"preferably at least 100\"), mean and variance of Moran's I of several iid non-normal simulated datasets (including negative binomial, which is commonly used to model gene expression data) don't seem to deviate much from the values expected from normally distributed data. Spatial transcriptomics datasets typically have thousands or more spots or cells, so sample size is most likely large enough. Hence using the analytical test on non-normal data might not be too bad. However, with large sample size, a minuscule difference can create very significant p-values. Here we perform the analytical test for Moran's I:"
   ]
  },
  {
   "cell_type": "code",
   "execution_count": null,
<<<<<<< HEAD
   "id": "4db3c5ab",
=======
   "id": "21739d0a",
>>>>>>> documentation
   "metadata": {},
   "outputs": [],
   "source": [
    "sfe_tissue <- colDataUnivariate(sfe_tissue, features = c(\"nCounts\", \"nGenes\"), \n",
    "                                colGraphName = \"visium\", type = \"moran.test\")\n",
    "names(colFeatureData(sfe_tissue))"
   ]
  },
  {
   "cell_type": "markdown",
<<<<<<< HEAD
   "id": "12585837",
=======
   "id": "ee3862a7",
>>>>>>> documentation
   "metadata": {},
   "source": [
    "Now compare the p-values from permutation and analytical test; in both cases here, the default alternative hypothesis is positive spatial autocorrelation:"
   ]
  },
  {
   "cell_type": "code",
   "execution_count": null,
<<<<<<< HEAD
   "id": "432dd99a",
=======
   "id": "91ce37ad",
>>>>>>> documentation
   "metadata": {},
   "outputs": [],
   "source": [
    "# permutation\n",
    "colFeatureData(sfe_tissue)[c(\"nCounts\", \"nGenes\"), c(\"moran.mc_p.value_Vis5A\", \"moran.test_p.value_Vis5A\")]"
   ]
  },
  {
   "cell_type": "markdown",
<<<<<<< HEAD
   "id": "e2ecb8d5",
=======
   "id": "087a9851",
>>>>>>> documentation
   "metadata": {
    "lines_to_next_cell": 0
   },
   "source": [
    "The p-values from permutation are limited by the number of permutations (1000 here). Either way, both permutation and analytical tests indicate very significant positive spatial autocorrelation.\n",
    "\n",
    "A limitation of permutation testing of Moran's I is that it assumes that each permutation of the values among the locations is equally likely, which is not necessarily true. For instance, in epidemiology, disease rate in regions with small population more likely assumes more extreme values [@Assuncao1999-xu], which is analogous to rare cell types and lowly expressed genes in histological space given that we divide by total UMI counts per spot. The extent this happens may depend on tissue, gene of interest, technology, and data normalization method.\n",
    "\n",
    "## Correlogram\n",
    "In a correlogram, spatial autocorrelation of higher orders of neighbors (e.g. second order neighbors are neighbors of neighbors) is calculated to see how it decays over the orders. In Visium, with the regular hexagonal grid, order of neighbors is a proxy for distance. For more irregular patterns such as single cells, different methods to find the spatial neighbors may give different results. \n",
    "\n",
    "For `colData`, Moran's I correlogram is computed with"
   ]
  },
  {
   "cell_type": "code",
   "execution_count": null,
<<<<<<< HEAD
   "id": "c43b60b8",
=======
   "id": "13e59cf4",
>>>>>>> documentation
   "metadata": {},
   "outputs": [],
   "source": [
    "sfe_tissue <- runUnivariate(sfe_tissue, hvgs[1:2], colGraphName = \"visium\", \n",
    "                            order = 10, type = \"sp.correlogram\")"
   ]
  },
  {
   "cell_type": "markdown",
<<<<<<< HEAD
   "id": "31f08a0b",
=======
   "id": "700cf4a0",
>>>>>>> documentation
   "metadata": {
    "lines_to_next_cell": 0
   },
   "source": [
    "The results can be plotted with `plotCorrelogram`:"
   ]
  },
  {
   "cell_type": "code",
   "execution_count": null,
<<<<<<< HEAD
   "id": "577a4677",
=======
   "id": "77673ee7",
>>>>>>> documentation
   "metadata": {
    "fig.alt": "Line plot with order of neighbors (lags) in the x axis and Moran's I value at each lag in the y axis. The x axis ranges from 1 to 10, and the y axis ranges from 0 to 0.8. The lines show trends of decay of spatial autocorrelation with increasing distance of neighbors. Two genes, Car3 and Mb, are shown. Moran's I of both genes decay somewhat linearly from lag 1 to 10. Car3 decays from around 0.75 to around 0.23. Mb decays from around 0.7 to around 0.13. At each lag the error bars are tight (see next paragraph in the main text) and the p-values are less than 0.001 after Benjamini-Hochberg multiple testing correction over the 2 genes and 10 lags."
   },
   "outputs": [],
   "source": [
    "plotCorrelogram(sfe_tissue, hvgs[1:2], swap_rownames = \"symbol\")"
   ]
  },
  {
   "cell_type": "markdown",
<<<<<<< HEAD
   "id": "f3567721",
=======
   "id": "b68a21b6",
>>>>>>> documentation
   "metadata": {
    "lines_to_next_cell": 0
   },
   "source": [
    "The error bars are twice the standard deviation of the Moran's I value. The standard deviation and p-values (null hypothesis is that Moran's I is 0) come from `moran.test()` (for Geary's C correlogram, `geary.test()`); these should be taken with a grain of salt for data that is not normally distributed. The p-values have been corrected for multiple hypothesis testing across all orders and features. As usual, . means p < 0.1, \\* means p < 0.05, \\*\\* means p < 0.01, and \\*\\*\\* means p < 0.001. \n",
    "\n",
    "Again, this can be done for Geary's C, `colData`, `annotGeometry`, and etc.\n",
    "\n",
    "# Univariate local\n",
    "Local statistics yield a result at each location rather than the whole dataset, while global statistics may obscure local heterogeneity. See [@Fotheringham2009-ak] for an interesting discussion of relationships between global and local spatial statistics. Local statistics are stored in the `localResults` field of the SFE object, which can be accessed by the `localResult()` or `localResults()` functions in the `SpatialFeatureExperiment` package.\n",
    "\n",
    "All univariate local methods in `Voyager` are listed here:"
   ]
  },
  {
   "cell_type": "code",
   "execution_count": null,
<<<<<<< HEAD
   "id": "10ab28b6",
=======
   "id": "ee244a1f",
>>>>>>> documentation
   "metadata": {
    "lines_to_next_cell": 2
   },
   "outputs": [],
   "source": [
    "listSFEMethods(variate = \"uni\", scope = \"local\")"
   ]
  },
  {
   "cell_type": "markdown",
<<<<<<< HEAD
   "id": "7c117ceb",
=======
   "id": "5bf67d97",
>>>>>>> documentation
   "metadata": {
    "lines_to_next_cell": 0
   },
   "source": [
    "## Moran scatter plot\n",
    "In the Moran scatter plot [@Anselin1996-mo], the x axis is the value at a spot, and the y axis is the average value of the neighbors. The slope of the fitted line is Moran's I. Sometimes clusters appear in this plot, showing different kinds of neighborhoods. \n",
    "\n",
    "For gene expression, to use one gene (log normalized value) to demonstrate:"
   ]
  },
  {
   "cell_type": "code",
   "execution_count": null,
<<<<<<< HEAD
   "id": "b88494fd",
=======
   "id": "a34e2786",
>>>>>>> documentation
   "metadata": {},
   "outputs": [],
   "source": [
    "sfe_tissue <- runUnivariate(sfe_tissue, \"Myh2\", colGraphName = \"visium\", \n",
    "                            type = \"moran.plot\", swap_rownames = \"symbol\")"
   ]
  },
  {
   "cell_type": "code",
   "execution_count": null,
<<<<<<< HEAD
   "id": "0a7b9a01",
=======
   "id": "fbc9ebea",
>>>>>>> documentation
   "metadata": {
    "fig.alt": "Moran scatter plot of log normalized values of gene Myh2. This plot is described in the upcoming main text."
   },
   "outputs": [],
   "source": [
    "moranPlot(sfe_tissue, \"Myh2\", graphName = \"visium\", swap_rownames = \"symbol\")"
   ]
  },
  {
   "cell_type": "markdown",
<<<<<<< HEAD
   "id": "4ac4927c",
=======
   "id": "36cf50a4",
>>>>>>> documentation
   "metadata": {},
   "source": [
    "The dashed lines mark the mean in Myh2 and spatially lagged Myh2. There are no singletons here. Some Visium spots with lower Myh2 expression have neighbors that don't express Myh2 but spots that don't express Myh2 usually have at least some neighbors that do. There are twp main clusters for spots whose neighbors do express Myh2: those with high (above average) expression whose neighbors also have high expression, and those with low expression whose neighbors also have low expression. Other features may show different kinds of clusters. We can use k-means clustering to identify clusters, though any clustering method supported by the `bluster` package can be used."
   ]
  },
  {
   "cell_type": "code",
   "execution_count": null,
<<<<<<< HEAD
   "id": "45329979",
=======
   "id": "7956ffa6",
>>>>>>> documentation
   "metadata": {},
   "outputs": [],
   "source": [
    "set.seed(29)\n",
    "clusts <- clusterMoranPlot(sfe_tissue, \"Myh2\", BLUSPARAM = KmeansParam(2),\n",
    "                           swap_rownames = \"symbol\")"
   ]
  },
  {
   "cell_type": "markdown",
<<<<<<< HEAD
   "id": "3efa1ec7",
=======
   "id": "bbf211b0",
>>>>>>> documentation
   "metadata": {
    "lines_to_next_cell": 0
   },
   "source": [
    "We can use the [gget search](https://pachterlab.github.io/gget/search.html) module to get the Ensembl ID for Myh2:"
   ]
  },
  {
   "cell_type": "code",
   "execution_count": null,
<<<<<<< HEAD
   "id": "121a0a84",
=======
   "id": "b6098c0a",
>>>>>>> documentation
   "metadata": {
    "eval": false
   },
   "outputs": [],
   "source": [
    "gget$search(\"Myh2\", species=\"mouse\")"
   ]
  },
  {
   "cell_type": "code",
   "execution_count": null,
<<<<<<< HEAD
   "id": "5d27ac89",
=======
   "id": "3ad8b0e4",
>>>>>>> documentation
   "metadata": {
    "fig.alt": "Moran scatter plot of log normalized value of Myh1, colored by 2 k-means clusters, which correspond to the high-high and low-low spots."
   },
   "outputs": [],
   "source": [
    "moranPlot(sfe_tissue, \"Myh2\", graphName = \"visium\", \n",
    "          color_by = clusts$ENSMUSG00000033196, swap_rownames = \"symbol\")"
   ]
  },
  {
   "cell_type": "markdown",
<<<<<<< HEAD
   "id": "7609b271",
=======
   "id": "139070fd",
>>>>>>> documentation
   "metadata": {
    "lines_to_next_cell": 0
   },
   "source": [
    "Plot the clusters in space"
   ]
  },
  {
   "cell_type": "code",
   "execution_count": null,
<<<<<<< HEAD
   "id": "e65920bd",
=======
   "id": "241dec69",
>>>>>>> documentation
   "metadata": {
    "fig.alt": "Visium spots in space colored by the k-means clusters. Cluster 2 (high-high) are mostly in the upper left and lower left parts of the tissue, and the rest of the spots are cluster 1."
   },
   "outputs": [],
   "source": [
    "colData(sfe_tissue)$Myh2_moranPlot_clust <- clusts$ENSMUSG00000033196\n",
    "plotSpatialFeature(sfe_tissue, \"Myh2_moranPlot_clust\", colGeometryName = \"spotPoly\",\n",
    "                   image = \"lowres\", color = \"black\", linewidth = 0.1)"
   ]
  },
  {
   "cell_type": "markdown",
<<<<<<< HEAD
   "id": "4a649dc5",
=======
   "id": "b2810e0a",
>>>>>>> documentation
   "metadata": {},
   "source": [
    "This can also be done for `colData`, `annotGeometry`, and etc. as in Moran's I and permutation testing. \n",
    "\n",
    "## Local Moran's I\n",
    "To recap, global Moran's I is defined as\n",
    "\n",
    "$$\n",
    "I = \\frac{n}{\\sum_{i=1}^n \\sum_{j=1}^n w_{ij}} \\frac{\\sum_{i=1}^n \\sum_{j=1}^n w_{ij} (x_i - \\bar{x})(x_j - \\bar{x})}{\\sum_{i=1}^n (x_i - \\bar{x})^2}.\n",
    "$$\n",
    "\n",
    "Local Moran's I [@Anselin1995-cs] is defined as\n",
    "\n",
    "$$\n",
    "I_i = (n-1)\\frac{(x_i - \\bar{x})\\sum_{j=1}^n w_{ij} (x_j - \\bar{x})}{\\sum_{i=1}^n (x_i - \\bar{x})^2}.\n",
    "$$\n",
    "\n",
    "It's similar to global Moran's I, but the values at locations $i$ are not summed and there's no normalization by the sum of spatial weights. "
   ]
  },
  {
   "cell_type": "code",
   "execution_count": null,
<<<<<<< HEAD
   "id": "19441d98",
=======
   "id": "0d07128a",
>>>>>>> documentation
   "metadata": {},
   "outputs": [],
   "source": [
    "sfe_tissue <- runUnivariate(sfe_tissue, type = \"localmoran\", features = \"Myh2\",\n",
    "                            colGraphName = \"visium\", swap_rownames = \"symbol\")"
   ]
  },
  {
   "cell_type": "markdown",
<<<<<<< HEAD
   "id": "54b6f9cf",
=======
   "id": "2ff8b88b",
>>>>>>> documentation
   "metadata": {
    "lines_to_next_cell": 0
   },
   "source": [
    "It is useful to plot the log normalized Myh2 gene expression as context to interpret the local results:"
   ]
  },
  {
   "cell_type": "code",
   "execution_count": null,
<<<<<<< HEAD
   "id": "56e88319",
=======
   "id": "84fa3cc6",
>>>>>>> documentation
   "metadata": {},
   "outputs": [],
   "source": [
    "plotSpatialFeature(sfe_tissue, features = \"Myh2\", colGeometryName = \"spotPoly\",\n",
    "                   swap_rownames = \"symbol\", image_id = \"lowres\", color = \"black\",\n",
    "                   linewidth = 0.1)"
   ]
  },
  {
   "cell_type": "code",
   "execution_count": null,
<<<<<<< HEAD
   "id": "b10a8ec9",
=======
   "id": "159223b9",
>>>>>>> documentation
   "metadata": {},
   "outputs": [],
   "source": [
    "plotLocalResult(sfe_tissue, \"localmoran\", features = \"Myh2\", \n",
    "                colGeometryName = \"spotPoly\",divergent = TRUE,\n",
    "                diverge_center = 0, image_id = \"lowres\", \n",
    "                swap_rownames = \"symbol\", color = \"black\",\n",
    "                linewidth = 0.1)"
   ]
  },
  {
   "cell_type": "markdown",
<<<<<<< HEAD
   "id": "1bc2f331",
=======
   "id": "4c745f4f",
>>>>>>> documentation
   "metadata": {},
   "source": [
    "We see that regions with higher Myh2 expression also have stronger spatial autocorrelation. It is interesting to see how spatial autocorrelation relates to gene expression level, much as finding how variance relates to mean in the expression of each gene, which usually indicates overdispersion compared to Poisson in scRNA-seq and Visium data:"
   ]
  },
  {
   "cell_type": "code",
   "execution_count": null,
<<<<<<< HEAD
   "id": "bc896ac9",
=======
   "id": "3541fade",
>>>>>>> documentation
   "metadata": {},
   "outputs": [],
   "source": [
    "df <- data.frame(myh2 = logcounts(sfe_tissue)[rowData(sfe_tissue)$symbol == \"Myh2\",],\n",
    "                 Ii = localResult(sfe_tissue, \"localmoran\", \"Myh2\", \n",
    "                                  swap_rownames = \"symbol\")[,\"Ii\"])\n",
    "ggplot(df, aes(myh2, Ii)) + geom_point(alpha = 0.3) +\n",
    "    labs(x = \"Myh2 (log counts)\", y = \"localmoran\")"
   ]
  },
  {
   "cell_type": "markdown",
<<<<<<< HEAD
   "id": "c0ded0b0",
=======
   "id": "af99d1cf",
>>>>>>> documentation
   "metadata": {
    "lines_to_next_cell": 0
   },
   "source": [
    "For this gene, Visium spots with higher expression also tend to have higher local Moran's I, but this may or may not apply to other genes.\n",
    "\n",
    "Local spatial analyses often return a matrix or data frame. The `plotLocalResult()` function has a default column for each local spatial method, but other columns can be plotted as well. Use the `localResultAttrs()` function to see which columns are present, and use the `attribute` argument to specify which column to plot."
   ]
  },
  {
   "cell_type": "code",
   "execution_count": null,
<<<<<<< HEAD
   "id": "fc0670a6",
=======
   "id": "725b72e7",
>>>>>>> documentation
   "metadata": {},
   "outputs": [],
   "source": [
    "localResultAttrs(sfe_tissue, \"localmoran\", \"Myh2\", swap_rownames = \"symbol\")"
   ]
  },
  {
   "cell_type": "markdown",
<<<<<<< HEAD
   "id": "8ee5ae1e",
=======
   "id": "b5ac55aa",
>>>>>>> documentation
   "metadata": {},
   "source": [
    "Some local spatial methods return p-values at each location, in a column with name like `Pr(z != E(Ii))`, where the test is two sided (default, can be changed with the `alternative` argument in `runUnivariate()` which is passed to the relevant underlying function in `spdep`). Negative log of the p-value is computed to facilitate visualization, and the p-value is corrected for multiple hypothesis testing with `p.adjustSP()` in `spdep`, where the number of tests is the number of neighbors of each location rather than the total number of locations (`-log10p_adj`)."
   ]
  },
  {
   "cell_type": "code",
   "execution_count": null,
<<<<<<< HEAD
   "id": "12361d70",
=======
   "id": "2e1b4b3d",
>>>>>>> documentation
   "metadata": {},
   "outputs": [],
   "source": [
    "plotLocalResult(sfe_tissue, \"localmoran\", features = \"Myh2\", \n",
    "                colGeometryName = \"spotPoly\", attribute = \"-log10p_adj\", divergent = TRUE,\n",
    "                diverge_center = -log10(0.05), swap_rownames = \"symbol\",\n",
    "                image_id = \"lowres\", color = \"black\",\n",
    "                linewidth = 0.1)"
   ]
  },
  {
   "cell_type": "markdown",
<<<<<<< HEAD
   "id": "4a812016",
=======
   "id": "1a1d5937",
>>>>>>> documentation
   "metadata": {
    "lines_to_next_cell": 0
   },
   "source": [
    "In this plot and all following plots of p-values, a divergent palette is used to show locations that are significant after adjusting for multiple testing and those that are not significant in different colors. The center of the divergent palette is p = 0.05, so the brown spots are significant while a dark blue means _really_ not significant.\n",
    "\n",
    "The \"pysal\" column displays the quadrants relative to the means in the Moran plot. The result is similar to that from k-means clustering shown above."
   ]
  },
  {
   "cell_type": "code",
   "execution_count": null,
<<<<<<< HEAD
   "id": "020e2f2e",
=======
   "id": "c8cc02c8",
>>>>>>> documentation
   "metadata": {},
   "outputs": [],
   "source": [
    "plotLocalResult(sfe_tissue, \"localmoran\", features = \"Myh2\", \n",
    "                colGeometryName = \"spotPoly\", attribute = \"pysal\", \n",
    "                swap_rownames = \"symbol\", image_id = \"lowres\", color = \"black\",\n",
    "                linewidth = 0.1)"
   ]
  },
  {
   "cell_type": "markdown",
<<<<<<< HEAD
   "id": "4d2bceaa",
=======
   "id": "d9a4fe75",
>>>>>>> documentation
   "metadata": {
    "lines_to_next_cell": 0
   },
   "source": [
    "## Getis-Ord Gi\\*\n",
    "Getis-Ord Gi\\* is used to find hotspots and coldspots of a feature in space. A hotspot is a cluster of high values in space, and a coldspot is a cluster of low values in space. Getis-Ord Gi\\* is essentially the z-score of the spatially lagged value of the feature at each location $i$ ($\\sum_j w_{ij} x_j$), where $w_{ij}$ is the spatial weight. In the [original publication for Getis-Ord Gi\\* from 1992](https://onlinelibrary.wiley.com/doi/10.1111/j.1538-4632.1992.tb00261.x) [@Getis1992-fr], the spatial weight is a distance-based binary weight indicating whether another location is within a certain distance from each location $i$. Getis-Ord Gi excludes the location $i$ itself in the computation of mean and variance of the lagged value, while Gi\\* includes the location $i$ itself. Usually Gi and Gi\\* yield similar results. The mean and variance used in the z-score differ in Gi and Gi\\* and is described in [this paper from 1995](https://onlinelibrary.wiley.com/doi/10.1111/j.1538-4632.1995.tb00912.x) [@Ord1995-we] and derived in [@Getis1992-fr].\n",
    "\n",
    "Binary weights are recommended for Getis-Ord Gi\\*."
   ]
  },
  {
   "cell_type": "code",
   "execution_count": null,
<<<<<<< HEAD
   "id": "da8ca426",
=======
   "id": "589e499f",
>>>>>>> documentation
   "metadata": {},
   "outputs": [],
   "source": [
    "colGraph(sfe_tissue, \"visium_B\") <- findVisiumGraph(sfe_tissue, style = \"B\")"
   ]
  },
  {
   "cell_type": "code",
   "execution_count": null,
<<<<<<< HEAD
   "id": "7620c533",
=======
   "id": "d5295852",
>>>>>>> documentation
   "metadata": {},
   "outputs": [],
   "source": [
    "sfe_tissue <- runUnivariate(sfe_tissue, type = \"localG_perm\", features = \"Myh2\",\n",
    "                            colGraphName = \"visium_B\", include_self = TRUE,\n",
    "                            swap_rownames = \"symbol\")"
   ]
  },
  {
   "cell_type": "code",
   "execution_count": null,
<<<<<<< HEAD
   "id": "5ce519a4",
=======
   "id": "c75cf7ef",
>>>>>>> documentation
   "metadata": {},
   "outputs": [],
   "source": [
    "plotLocalResult(sfe_tissue, \"localG_perm\", features = \"Myh2\", \n",
    "                colGeometryName = \"spotPoly\", divergent = TRUE,\n",
    "                diverge_center = 0, image_id = \"lowres\", swap_rownames = \"symbol\", \n",
    "                color = \"black\", linewidth = 0.1)"
   ]
  },
  {
   "cell_type": "markdown",
<<<<<<< HEAD
   "id": "5673c25d",
=======
   "id": "3d283f5d",
>>>>>>> documentation
   "metadata": {},
   "source": [
    "High values of Gi\\* indicate hotspots, while low values of Gi\\* indicate coldspots."
   ]
  },
  {
   "cell_type": "code",
   "execution_count": null,
<<<<<<< HEAD
   "id": "52ab74b7",
=======
   "id": "87e47735",
>>>>>>> documentation
   "metadata": {},
   "outputs": [],
   "source": [
    "localResultAttrs(sfe_tissue, \"localG_perm\", \"Myh2\", swap_rownames = \"symbol\")"
   ]
  },
  {
   "cell_type": "markdown",
<<<<<<< HEAD
   "id": "a9a4612d",
=======
   "id": "c5743c29",
>>>>>>> documentation
   "metadata": {
    "lines_to_next_cell": 0
   },
   "source": [
    "Plot the pseudo-p-values from the simulation"
   ]
  },
  {
   "cell_type": "code",
   "execution_count": null,
<<<<<<< HEAD
   "id": "1c061baf",
=======
   "id": "7729dcab",
>>>>>>> documentation
   "metadata": {},
   "outputs": [],
   "source": [
    "plotLocalResult(sfe_tissue, \"localG_perm\", features = \"Myh2\", \n",
    "                attribute = \"-log10p_adj Sim\",\n",
    "                colGeometryName = \"spotPoly\", divergent = TRUE,\n",
    "                diverge_center = -log10(0.05), swap_rownames = \"symbol\",\n",
    "                image_id = \"lowres\")"
   ]
  },
  {
   "cell_type": "markdown",
<<<<<<< HEAD
   "id": "6c84fe43",
=======
   "id": "07c31fac",
>>>>>>> documentation
   "metadata": {
    "lines_to_next_cell": 0
   },
   "source": [
    "The hotspots are as expected. Here warm color indicates adjusted $p < 0.05$. \n",
    "\n",
    "Local results can also be computed for annotation geometries."
   ]
  },
  {
   "cell_type": "code",
   "execution_count": null,
<<<<<<< HEAD
   "id": "19602e9f",
=======
   "id": "000b2b66",
>>>>>>> documentation
   "metadata": {},
   "outputs": [],
   "source": [
    "annotGraph(sfe_tissue, \"myofiber_poly2nb_B\") <- \n",
    "  findSpatialNeighbors(sfe_tissue, type = \"myofiber_simplified\", MARGIN = 3,\n",
    "                       method = \"poly2nb\", zero.policy = TRUE, style = \"B\")"
   ]
  },
  {
   "cell_type": "code",
   "execution_count": null,
<<<<<<< HEAD
   "id": "507229f2",
=======
   "id": "b3187788",
>>>>>>> documentation
   "metadata": {},
   "outputs": [],
   "source": [
    "sfe_tissue <- annotGeometryUnivariate(sfe_tissue, \"localG_perm\", \"area\", \n",
    "                                      annotGeometryName = \"myofiber_simplified\",\n",
    "                                      annotGraphName = \"myofiber_poly2nb_B\",\n",
    "                                      include_self = TRUE, zero.policy = TRUE)"
   ]
  },
  {
   "cell_type": "code",
   "execution_count": null,
<<<<<<< HEAD
   "id": "87b1115b",
=======
   "id": "00ed37de",
>>>>>>> documentation
   "metadata": {},
   "outputs": [],
   "source": [
    "plotLocalResult(sfe_tissue, \"localG_perm\", \"area\", \n",
    "                annotGeometryName = \"myofiber_simplified\",\n",
    "                divergent = TRUE, diverge_center = 0)"
   ]
  },
  {
   "cell_type": "code",
   "execution_count": null,
<<<<<<< HEAD
   "id": "37bce93c",
=======
   "id": "a588eeb8",
>>>>>>> documentation
   "metadata": {},
   "outputs": [],
   "source": [
    "plotLocalResult(sfe_tissue, \"localG_perm\", \"area\", \n",
    "                annotGeometryName = \"myofiber_simplified\",\n",
    "                attribute = \"-log10p_adj Sim\",\n",
    "                divergent = TRUE, diverge_center = -log10(0.05))"
   ]
  },
  {
   "cell_type": "markdown",
<<<<<<< HEAD
   "id": "bd9bd18b",
=======
   "id": "1fac2fff",
>>>>>>> documentation
   "metadata": {
    "lines_to_next_cell": 0
   },
   "source": [
    "The hotspots and coldspots are as expected. Warm color indicates adjusted $p < 0.05$.\n",
    "\n",
    "## Local spatial heteroscedasticity (LOSH)\n",
    "LOSH [@Ord2012-qi] is defined as\n",
    "\n",
    "$$\n",
    "H_i = \\frac{\\sum_j w_{ij}\\left| e_j \\right|^a}{h_1\\sum_j w_{ij}}\n",
    "$$\n",
    "\n",
    "where$h_1 = \\sum_i \\left| e_i \\right|^a/n$, $e_j = x_j - \\bar{x}_j$, and\n",
    "\n",
    "$$\n",
    "\\bar{x}_j = \\frac{\\sum_j w_{jk}x_k}{\\sum_j w_{jk}}.\n",
    "$$\n",
    "\n",
    "By default, $a = 2$ so LOSH is like a local variance. See [@Ord2012-qi] for more details and interpretation. "
   ]
  },
  {
   "cell_type": "code",
   "execution_count": null,
<<<<<<< HEAD
   "id": "bc0ada15",
=======
   "id": "4dfbe26e",
>>>>>>> documentation
   "metadata": {},
   "outputs": [],
   "source": [
    "sfe_tissue <- runUnivariate(sfe_tissue, \"LOSH.cs\", \"Myh2\", \n",
    "                            colGraphName = \"visium\", swap_rownames = \"symbol\")"
   ]
  },
  {
   "cell_type": "code",
   "execution_count": null,
<<<<<<< HEAD
   "id": "ccbd71ac",
=======
   "id": "7bcf0cf2",
>>>>>>> documentation
   "metadata": {},
   "outputs": [],
   "source": [
    "plotLocalResult(sfe_tissue, \"LOSH.cs\", features = \"Myh2\", \n",
    "                colGeometryName = \"spotPoly\", swap_rownames = \"symbol\",\n",
    "                image_id = \"lowres\")"
   ]
  },
  {
   "cell_type": "markdown",
<<<<<<< HEAD
   "id": "3fc96dd0",
=======
   "id": "e2a6eb13",
>>>>>>> documentation
   "metadata": {},
   "source": [
    "For this gene, it isn't clear whether LOSH relates to gene expression levels."
   ]
  },
  {
   "cell_type": "code",
   "execution_count": null,
<<<<<<< HEAD
   "id": "2b540b31",
=======
   "id": "45b116db",
>>>>>>> documentation
   "metadata": {},
   "outputs": [],
   "source": [
    "localResultAttrs(sfe_tissue, \"LOSH.cs\", \"Myh2\", swap_rownames = \"symbol\")"
   ]
  },
  {
   "cell_type": "markdown",
<<<<<<< HEAD
   "id": "69d2542b",
=======
   "id": "e1d97000",
>>>>>>> documentation
   "metadata": {},
   "source": [
    "While `Voyager` does wrap `LOSH.mc()` to perform permutation testing of LOSH, this is very time consuming. A chi-squared approximation is described in the 2012 LOSH paper to account for non-normality of the data and to approximate the mean and variance of the permutation distributions, so p-values of LOSH can be more quickly computed, with `LOSH.cs()`."
   ]
  },
  {
   "cell_type": "code",
   "execution_count": null,
<<<<<<< HEAD
   "id": "e0c21946",
=======
   "id": "a9ff949f",
>>>>>>> documentation
   "metadata": {},
   "outputs": [],
   "source": [
    "plotLocalResult(sfe_tissue, \"LOSH.cs\", features = \"Myh2\", \n",
    "                attribute = \"-log10p_adj\", colGeometryName = \"spotPoly\",\n",
    "                divergent = TRUE, diverge_center = -log10(0.05),\n",
    "                swap_rownames = \"symbol\", image_id = \"lowres\") +\n",
    "    theme_void()"
   ]
  },
  {
   "cell_type": "markdown",
<<<<<<< HEAD
   "id": "f693b654",
=======
   "id": "d821bced",
>>>>>>> documentation
   "metadata": {
    "lines_to_next_cell": 0
   },
   "source": [
    "For this gene, the local conditions are mostly homogenous, except for a few spots most at the injury site. Warm color indicates adjusted $p < 0.05$.\n",
    "\n",
    "# Caveats\n",
    "1. The H&E image can alter perception of the colors of the geometries.\n",
    "2. Only 2D data is supported at present, although in principle, `sf` and `GEOS` support 3D data.\n",
    "3. Spatial neighborhoods only make sense within the same tissue section. Then what to do with multiple tissue sections, from biological replica, and from different conditions? For the mouse brain, different biological replica can be registered to the Allen Common Coordinate Framework (CCF) to be spatially comparable. Indeed, it would be interesting to see the biological variability of healthy wild type gene expression at the same fine scaled region in the brain. However, there is no CCF for tissues without a stereotypical structure, such as adipose and skeletal muscle. We don't have a good solution to spatially compare different tissue sections yet. Perhaps global spatial statistics over the whole section or histological regions within the section can be compared. The problem remains to select the most informative metrics to compare. Perhaps a spatially-informed dimension reduction method, taking not only the gene count matrix, but also the adjacency matrices of the spatial neighborhood graphs (different sections will be different blocks in the matrix) projecting the cells or Visium spots from different sections into a shared low dimensional space can facilitate the comparison. Here batch effect must be corrected, and the dimension reduction should be interpretable, and scalable.\n",
    "\n",
    "# Session info"
   ]
  },
  {
   "cell_type": "code",
   "execution_count": null,
<<<<<<< HEAD
   "id": "89ee8ee2",
=======
   "id": "33c3dcf0",
>>>>>>> documentation
   "metadata": {},
   "outputs": [],
   "source": [
    "sessionInfo()"
   ]
  },
  {
   "cell_type": "markdown",
<<<<<<< HEAD
   "id": "01d6fa4b",
=======
   "id": "b73cb4c7",
>>>>>>> documentation
   "metadata": {},
   "source": [
    "# References"
   ]
  }
 ],
 "metadata": {
  "kernelspec": {
   "display_name": "R",
   "language": "R",
   "name": "ir"
  }
 },
 "nbformat": 4,
 "nbformat_minor": 5
}
