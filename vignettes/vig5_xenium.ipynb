{
 "cells": [
  {
   "cell_type": "raw",
   "id": "4c396ef7",
   "metadata": {},
   "source": [
    "---\n",
    "title: \"Xenium pancreatic cancer dataset\"\n",
    "author: \"Lambda Moses\"\n",
    "date: \"`r Sys.Date()`\"\n",
    "output: \n",
    "  html_document:\n",
    "  toc: true\n",
    "  toc_float:\n",
    "    collapsed: false\n",
    "  toc_depth: 3\n",
    "bibliography: ref.bib\n",
    "vignette: >\n",
    "  %\\VignetteIndexEntry{xenium}\n",
    "  %\\VignetteEngine{knitr::rmarkdown}\n",
    "  %\\VignetteEncoding{UTF-8}\n",
    "---"
   ]
  },
  {
   "cell_type": "code",
   "execution_count": null,
   "id": "b7700cec",
   "metadata": {
    "tags": [
     "remove_cell"
    ]
   },
   "outputs": [],
   "source": [
    "knitr::opts_chunk$set(\n",
    "  collapse = TRUE,\n",
    "  comment = \"#>\", fig.align = \"center\"\n",
    ")"
   ]
  },
  {
   "cell_type": "code",
   "execution_count": null,
   "id": "dda8f06d",
   "metadata": {
    "eval": false,
    "tags": [
     "remove_cell"
    ]
   },
   "outputs": [],
   "source": [
    "# Install Google Colab dependencies\n",
    "# Note: this can take 30+ minutes (many of the dependencies include C++ code, which needs to be compiled)\n",
    "\n",
    "# First install `sf`, `ragg` and `textshaping` and their system dependencies:\n",
    "system(\"apt-get -y update && apt-get install -y  libudunits2-dev libgdal-dev libgeos-dev libproj-dev libharfbuzz-dev libfribidi-dev\")\n",
    "install.packages(\"sf\")\n",
    "install.packages(\"textshaping\")\n",
    "install.packages(\"ragg\")\n",
    "\n",
    "# Install system dependencies of some other R packages that Voyager either imports or suggests:\n",
    "system(\"apt-get install -y libfribidi-dev libcairo2-dev libmagick++-dev\")\n",
    "\n",
    "# Install Voyager from Bioconductor:\n",
    "install.packages(\"BiocManager\")\n",
    "BiocManager::install(version = \"release\", ask = FALSE, update = FALSE, Ncpus = 2)\n",
    "BiocManager::install(\"scater\")\n",
    "system.time(\n",
    "  BiocManager::install(\"Voyager\", dependencies = TRUE, Ncpus = 2, update = FALSE)\n",
    ")\n",
    "\n",
    "packageVersion(\"Voyager\")"
   ]
  },
  {
   "cell_type": "markdown",
   "id": "106bc31c",
   "metadata": {},
   "source": [
    "# Introduction\n",
    "\n",
    "This vignette introduces plotting functions relevant to exploring Xenium data, performs some Xenium-specific quality control (QC), and performs some exploratory spatial data analysis. QC here is part of data validation, which should be part of exploratory data analysis.\n",
    "\n",
    "Xenium is a new technology from 10X genomics for single cell resolution smFISH based spatial transcriptomics. The dataset used here is from adult human pancreatic cancer and processed with Xenium Onboarding Analysis (XOA) v2. It was originally downloaded [here](https://cf.10xgenomics.com/samples/xenium/2.0.0/Xenium_V1_human_Pancreas_FFPE/Xenium_V1_human_Pancreas_FFPE_outs.zip). In the version of the data used here, the large Zarr files have been removed because they're not used here anyway and to speed up download.\n",
    "\n",
    "Here we load the packages used in this vignette."
   ]
  },
  {
   "cell_type": "code",
   "execution_count": null,
   "id": "dc7612f9",
   "metadata": {
    "message": false,
    "name": "setup"
   },
   "outputs": [],
   "source": [
    "library(Voyager)\n",
    "library(SFEData) \n",
    "library(SingleCellExperiment)\n",
    "library(SpatialExperiment)\n",
    "library(SpatialFeatureExperiment)\n",
    "library(ggplot2)\n",
    "library(ggforce)\n",
    "library(stringr)\n",
    "library(scater) \n",
    "library(scuttle)\n",
    "library(scales)\n",
    "library(BiocParallel)\n",
    "library(BiocSingular)\n",
    "library(bluster)\n",
    "library(scran)\n",
    "library(patchwork)\n",
    "library(RBioFormats)\n",
    "library(fs)\n",
    "library(sf)\n",
    "library(arrow)\n",
    "library(dplyr)\n",
    "library(tidyr)\n",
    "library(BiocNeighbors)\n",
    "theme_set(theme_bw())\n",
    "options(timeout = Inf)"
   ]
  },
  {
   "cell_type": "code",
   "execution_count": null,
   "id": "85d2c318",
   "metadata": {
    "message": false
   },
   "outputs": [],
   "source": [
    "base <- \".\"\n",
    "if (!dir.exists(file.path(base, \"xenium2_pancreas\"))) {\n",
    "    download.file(\"https://caltech.box.com/shared/static/6yvpahb97dgp4y2gx7oqjktom9a7qp3o\",\n",
    "                  destfile = file.path(base, \"xenium2_pancreas.tar.gz\"))\n",
    "    untar(file.path(base, \"xenium2_pancreas.tar.gz\"), exdir = base)\n",
    "}\n",
    "fn <- file.path(base, \"xenium2_pancreas\")"
   ]
  },
  {
   "cell_type": "markdown",
   "id": "a52714b3",
   "metadata": {
    "lines_to_next_cell": 0
   },
   "source": [
    "This should be the standard XOA v2 output file structure (excluding the Zarr files)"
   ]
  },
  {
   "cell_type": "code",
   "execution_count": null,
   "id": "135a18b4",
   "metadata": {},
   "outputs": [],
   "source": [
    "dir_tree(fn)"
   ]
  },
  {
   "cell_type": "markdown",
   "id": "6caca9a6",
   "metadata": {},
   "source": [
    "The gene count matrix is in the `cell_feature_matrix` h5 or tar.gz file. The cell metadata is in the `cells.csv.gz` or `cells.parquet` file. The cell segmentation polygon vertices are in the `cell_boundaries.csv.gz` or `parquet` file. The nucleus segmentation polygon vertices are in the `nucleus_boundaries.csv.gz` or `parquet` files. The transcript spot coordinates are in the `transcripts.csv.gz` or `parquet` file. The images for different histological stains are in the `morphology_focus` directory. These are the files relevant to the SFE objects; see [10X documentation](https://www.10xgenomics.com/support/software/xenium-onboard-analysis/latest/analysis/xoa-output-at-a-glance) for what the other files are.\n",
    "\n",
    "The `readXenium()` function in `SpatialFeatureExperiment` reads XOA v1 and v2 outputs into R."
   ]
  },
  {
   "cell_type": "code",
   "execution_count": null,
   "id": "50e66a0f",
   "metadata": {},
   "outputs": [],
   "source": [
    "# Use gene symbols as row names but Ensembl IDs are still in rowData(sfe)\n",
    "(sfe <- readXenium(fn, row.names = \"symbol\"))"
   ]
  },
  {
   "cell_type": "markdown",
   "id": "3eac09ff",
   "metadata": {},
   "source": [
    "There are 140702 cells in this dataset, a little more than in the CosMX dataset.\n",
    "\n",
    "# Plot the tissue\n",
    "\n",
    "This is what the tissue, with the cell outlines, looks like"
   ]
  },
  {
   "cell_type": "code",
   "execution_count": null,
   "id": "a17978cc",
   "metadata": {
    "fig.height": 3,
    "fig.width": 6
   },
   "outputs": [],
   "source": [
    "plotGeometry(sfe, colGeometryName = \"cellSeg\")"
   ]
  },
  {
   "cell_type": "markdown",
   "id": "084dd7a0",
   "metadata": {
    "lines_to_next_cell": 0
   },
   "source": [
    "Plot the nuclei"
   ]
  },
  {
   "cell_type": "code",
   "execution_count": null,
   "id": "473e5da1",
   "metadata": {
    "fig.height": 3,
    "fig.width": 6
   },
   "outputs": [],
   "source": [
    "plotGeometry(sfe, colGeometryName = \"nucSeg\")"
   ]
  },
  {
   "cell_type": "markdown",
   "id": "8df3f8a9",
   "metadata": {
    "lines_to_next_cell": 0
   },
   "source": [
    "Plot cell density in space"
   ]
  },
  {
   "cell_type": "code",
   "execution_count": null,
   "id": "bd7f1590",
   "metadata": {
    "fig.height": 2.5,
    "fig.width": 6
   },
   "outputs": [],
   "source": [
    "plotCellBin2D(sfe, binwidth = 50, hex = TRUE)"
   ]
  },
  {
   "cell_type": "markdown",
   "id": "5438a3bd",
   "metadata": {},
   "source": [
    "There are clearly two different regions, one with high cell density, the other with lower density. They also seem to have very different spatial structures. Just like finding the study area in geography, e.g. a given metropolitan area, it may be interesting to perform spatial analyses on different regions of the tissue separately or use the different region annotations as covariates.\n",
    "\n",
    "Plot total transcript density"
   ]
  },
  {
   "cell_type": "code",
   "execution_count": null,
   "id": "f7c82d69",
   "metadata": {
    "fig.height": 2.5,
    "fig.width": 6
   },
   "outputs": [],
   "source": [
    "plotTxBin2D(data_dir = \"xenium2_pancreas\", tech = \"Xenium\", binwidth = 50,\n",
    "            flip = TRUE, hex = TRUE)"
   ]
  },
  {
   "cell_type": "markdown",
   "id": "80b1acca",
   "metadata": {},
   "source": [
    "Cool, so the region with higher cell density also has higher transcript density, but in the sparse region, there are regions of higher transcript density but not higher cell density.\n",
    "\n",
    "Plot the images; the image has 4 channels, which are DAPI, ATP1A1/CD45/E-Cadherin, 18S, and AlphaSMA/Vimentin, in this order. The images are pyramids with multiple resolutions; some applications would not require the highest resolution. The file for each channel is around 370 MB. Only the metadata is read in R and only the relevant portion of the image at the highest resolution necessary is loaded into memory when needed, say when plotting. "
   ]
  },
  {
   "cell_type": "code",
   "execution_count": null,
   "id": "4fc9952b",
   "metadata": {},
   "outputs": [],
   "source": [
    "getImg(sfe)"
   ]
  },
  {
   "cell_type": "markdown",
   "id": "38920d21",
   "metadata": {
    "lines_to_next_cell": 0
   },
   "source": [
    "There are 4 image files, each for one channel, though the XML metadata of the files connect them together so BioFormats treats them as one file."
   ]
  },
  {
   "cell_type": "code",
   "execution_count": null,
   "id": "ad602a29",
   "metadata": {},
   "outputs": [],
   "source": [
    "dir_tree(dirname(imgSource(getImg(sfe))))"
   ]
  },
  {
   "cell_type": "markdown",
   "id": "1c9abaa7",
   "metadata": {
    "lines_to_next_cell": 0
   },
   "source": [
    "The image can be plotted with `plotImage()` in `Voyager`, but only up to 3 channels can be ploted at the same time. Say plot 18S (red), ATP1A1/CD45/E-Cadherin (green), and DAPI (blue). These are specified in the `channel` argument, using channel indices. When using 3 channels, by default the indices correspond to R, G, and B channels in this order. The `normalize_channels` argument determines if the channels should be normalized individually in case the different channels have different dynamic ranges. We recommend setting it to `TRUE` for fluorescent images where each channel is separated separately using different fluorophores but not the bright field images where the RGB channels are imaged simultaneously."
   ]
  },
  {
   "cell_type": "code",
   "execution_count": null,
   "id": "29c8d2d1",
   "metadata": {
    "fig.height": 3,
    "fig.width": 6
   },
   "outputs": [],
   "source": [
    "plotImage(sfe, image_id = \"morphology_focus\", channel = 3:1, show_axes = TRUE,\n",
    "          dark = TRUE, normalize_channels = TRUE)"
   ]
  },
  {
   "cell_type": "markdown",
   "id": "b3544461",
   "metadata": {
    "lines_to_next_cell": 0
   },
   "source": [
    "Zoom into smaller regions, one in the dense region, another in the sparser region"
   ]
  },
  {
   "cell_type": "code",
   "execution_count": null,
   "id": "8d072ddb",
   "metadata": {},
   "outputs": [],
   "source": [
    "bbox1 <- c(xmin = 5500, xmax = 6000, ymin = -1250, ymax = -750)\n",
    "bbox2 <- c(xmin = 1500, xmax = 2000, ymin = -2000, ymax = -1500)"
   ]
  },
  {
   "cell_type": "markdown",
   "id": "45d0cd53",
   "metadata": {
    "lines_to_next_cell": 0
   },
   "source": [
    "Plot the bounding boxes in the full image"
   ]
  },
  {
   "cell_type": "code",
   "execution_count": null,
   "id": "026b5d6c",
   "metadata": {
    "fig.height": 3,
    "fig.width": 6
   },
   "outputs": [],
   "source": [
    "bboxes_sf <- c(st_as_sfc(st_bbox(bbox1)), st_as_sfc(st_bbox(bbox2)))\n",
    "plotImage(sfe, image_id = \"morphology_focus\", channel = 3:1, show_axes = TRUE,\n",
    "          dark = TRUE, normalize_channels = TRUE) +\n",
    "    geom_sf(data = bboxes_sf, fill = NA, color = \"white\", linewidth = 0.5)"
   ]
  },
  {
   "cell_type": "code",
   "execution_count": null,
   "id": "06bbd19e",
   "metadata": {},
   "outputs": [],
   "source": [
    "plotImage(sfe, image_id = \"morphology_focus\", channel = 3:1,\n",
    "          bbox = bbox1, normalize_channels = TRUE)"
   ]
  },
  {
   "cell_type": "code",
   "execution_count": null,
   "id": "28fa9c94",
   "metadata": {},
   "outputs": [],
   "source": [
    "plotImage(sfe, image_id = \"morphology_focus\", channel = 3:1,\n",
    "          bbox = bbox2, normalize_channels = TRUE)"
   ]
  },
  {
   "cell_type": "markdown",
   "id": "4efab395",
   "metadata": {
    "lines_to_next_cell": 0
   },
   "source": [
    "Since we're using the RGB channels for color, this is not colorblind friendly. Plot the channels separately to be colorblind friendly:"
   ]
  },
  {
   "cell_type": "code",
   "execution_count": null,
   "id": "0ce92de4",
   "metadata": {},
   "outputs": [],
   "source": [
    "p1 <- plotImage(sfe, image_id = \"morphology_focus\", channel = 1,\n",
    "          bbox = bbox2) +\n",
    "    ggtitle(\"DAPI\")\n",
    "p2 <- plotImage(sfe, image_id = \"morphology_focus\", channel = 2,\n",
    "          bbox = bbox2) +\n",
    "    ggtitle(\"ATP1A1/CD45/E-Cadherin\")\n",
    "p1 + p2"
   ]
  },
  {
   "cell_type": "markdown",
   "id": "ca59c8cd",
   "metadata": {
    "lines_to_next_cell": 0
   },
   "source": [
    "We can also use a different color map for single channels, such as viridis"
   ]
  },
  {
   "cell_type": "code",
   "execution_count": null,
   "id": "03c7459d",
   "metadata": {},
   "outputs": [],
   "source": [
    "plotImage(sfe, image_id = \"morphology_focus\", channel = 1,\n",
    "          bbox = bbox2, palette = viridis_pal()(255))"
   ]
  },
  {
   "cell_type": "markdown",
   "id": "7aab29b1",
   "metadata": {
    "lines_to_next_cell": 0
   },
   "source": [
    "We can also plot the cell and nuclei geometries on top of the images"
   ]
  },
  {
   "cell_type": "code",
   "execution_count": null,
   "id": "2768527c",
   "metadata": {},
   "outputs": [],
   "source": [
    "plotGeometry(sfe, colGeometryName = \"cellSeg\", fill = FALSE, dark = TRUE,\n",
    "             image_id = \"morphology_focus\", \n",
    "             channel = 3:1, bbox = bbox1, normalize_channels = TRUE)"
   ]
  },
  {
   "cell_type": "code",
   "execution_count": null,
   "id": "ce26c841",
   "metadata": {},
   "outputs": [],
   "source": [
    "plotGeometry(sfe, colGeometryName = \"nucSeg\", fill = FALSE, dark = TRUE,\n",
    "             image_id = \"morphology_focus\", \n",
    "             channel = 3:1, bbox = bbox1, normalize_channels = TRUE)"
   ]
  },
  {
   "cell_type": "markdown",
   "id": "aa3a961c",
   "metadata": {
    "lines_to_next_cell": 0
   },
   "source": [
    "Plot cells and nuclei together; since there're still quite a lot of cells in that bounding box and the plot looks busy, we can use a even smaller bounding box to plus both cells and nuclei. The `colGeometryName` argument can accept a vector of names of `colGeometries` in order to plot multiple geometries together, such as cells and nuclei."
   ]
  },
  {
   "cell_type": "code",
   "execution_count": null,
   "id": "f1ca7897",
   "metadata": {},
   "outputs": [],
   "source": [
    "bbox3 <- c(xmin = 5750, xmax = 6000, ymin = -1100, ymax = -850)"
   ]
  },
  {
   "cell_type": "code",
   "execution_count": null,
   "id": "8beaa332",
   "metadata": {},
   "outputs": [],
   "source": [
    "plotGeometry(sfe, colGeometryName = c(\"cellSeg\", \"nucSeg\"), fill = FALSE, \n",
    "             dark = TRUE, image_id = \"morphology_focus\", \n",
    "             channel = 3:1, bbox = bbox3, normalize_channels = TRUE)"
   ]
  },
  {
   "cell_type": "markdown",
   "id": "68def07c",
   "metadata": {
    "lines_to_next_cell": 0
   },
   "source": [
    "# Quality control\n",
    "## Negative controls\n",
    "Some of the features are not genes but negative controls"
   ]
  },
  {
   "cell_type": "code",
   "execution_count": null,
   "id": "8a0fe866",
   "metadata": {},
   "outputs": [],
   "source": [
    "names(rowData(sfe))"
   ]
  },
  {
   "cell_type": "code",
   "execution_count": null,
   "id": "f75e5e9a",
   "metadata": {},
   "outputs": [],
   "source": [
    "unique(rowData(sfe)$Type)"
   ]
  },
  {
   "cell_type": "markdown",
   "id": "7a594535",
   "metadata": {},
   "source": [
    "According to the Xenium paper [@Janesick2022-rp], there are 3 types of controls:\n",
    "\n",
    "> 1) probe controls to assess non-specific binding to RNA, \n",
    "2) decoding controls to assess misassigned genes, and \n",
    "3) genomic DNA (gDNA) controls to ensure the signal is from RNA.\n",
    "\n",
    "The paper does not explain in detail how those control probes were designed. The negative controls give us a sense of the false positive rate."
   ]
  },
  {
   "cell_type": "code",
   "execution_count": null,
   "id": "bc476ef4",
   "metadata": {},
   "outputs": [],
   "source": [
    "is_blank <- rowData(sfe)$Type == \"Unassigned Codeword\"\n",
    "sum(is_blank)"
   ]
  },
  {
   "cell_type": "markdown",
   "id": "1d3693d9",
   "metadata": {
    "lines_to_next_cell": 0
   },
   "source": [
    "This should be number 1, the probe control"
   ]
  },
  {
   "cell_type": "code",
   "execution_count": null,
   "id": "2ec3c0ae",
   "metadata": {},
   "outputs": [],
   "source": [
    "is_neg <- rowData(sfe)$Type == \"Negative Control Probe\"\n",
    "sum(is_neg)"
   ]
  },
  {
   "cell_type": "markdown",
   "id": "d0f747fb",
   "metadata": {
    "lines_to_next_cell": 0
   },
   "source": [
    "This should be number 2, the decoding control"
   ]
  },
  {
   "cell_type": "code",
   "execution_count": null,
   "id": "f264c20e",
   "metadata": {},
   "outputs": [],
   "source": [
    "is_neg2 <- rowData(sfe)$Type == \"Negative Control Codeword\"\n",
    "sum(is_neg2)"
   ]
  },
  {
   "cell_type": "markdown",
   "id": "1dab299e",
   "metadata": {
    "lines_to_next_cell": 0
   },
   "source": [
    "Also make an indicator of whether a feature is any sort of negative control"
   ]
  },
  {
   "cell_type": "code",
   "execution_count": null,
   "id": "c06b5dd9",
   "metadata": {},
   "outputs": [],
   "source": [
    "is_any_neg <- is_blank | is_neg | is_neg2"
   ]
  },
  {
   "cell_type": "markdown",
   "id": "f0b4ac47",
   "metadata": {
    "lines_to_next_cell": 0
   },
   "source": [
    "The `addPerCellQCMetrics()` function in the `scuttle` package can conveniently add transcript counts, proportion of total counts, and number of features detected for any subset of features to the SCE object. Here we do this for the SFE object, as SFE inherits from SCE. "
   ]
  },
  {
   "cell_type": "code",
   "execution_count": null,
   "id": "4d65a930",
   "metadata": {},
   "outputs": [],
   "source": [
    "sfe <- addPerCellQCMetrics(sfe, subsets = list(unassigned = is_blank,\n",
    "                                               negProbe = is_neg,\n",
    "                                               negCodeword = is_neg2,\n",
    "                                               any_neg = is_any_neg))"
   ]
  },
  {
   "cell_type": "code",
   "execution_count": null,
   "id": "a76b568c",
   "metadata": {},
   "outputs": [],
   "source": [
    "names(colData(sfe))"
   ]
  },
  {
   "cell_type": "markdown",
   "id": "81e2d0bc",
   "metadata": {},
   "source": [
    "Next we plot the proportion of transcript counts coming from any negative control. "
   ]
  },
  {
   "cell_type": "code",
   "execution_count": null,
   "id": "75e25796",
   "metadata": {},
   "outputs": [],
   "source": [
    "cols_use <- names(colData(sfe))[str_detect(names(colData(sfe)), \"_percent$\")]\n",
    "plotColDataHistogram(sfe, cols_use, bins = 100)"
   ]
  },
  {
   "cell_type": "markdown",
   "id": "8a735cbf",
   "metadata": {
    "lines_to_next_cell": 0
   },
   "source": [
    "The histogram is dominated by the bin at zero and there are some extreme outliers too few to be seen but evident from the scale of the x axis. We also plot the histogram only for cells with at least 1 count from a negative control. The NA's come from cells that got segmented but have no transcripts detected."
   ]
  },
  {
   "cell_type": "code",
   "execution_count": null,
   "id": "bb691b49",
   "metadata": {},
   "outputs": [],
   "source": [
    "plotColDataHistogram(sfe, cols_use, bins = 100) + \n",
    "    scale_x_log10() +\n",
    "    annotation_logticks(sides = \"b\")"
   ]
  },
  {
   "cell_type": "markdown",
   "id": "667f7923",
   "metadata": {
    "lines_to_next_cell": 0
   },
   "source": [
    "For the most part cells have less than 10% of spots assigned to the negative controls.\n",
    "\n",
    "Next we plot the distribution of the number of negative control counts per cell:"
   ]
  },
  {
   "cell_type": "code",
   "execution_count": null,
   "id": "41bb0dad",
   "metadata": {},
   "outputs": [],
   "source": [
    "cols_use <- names(colData(sfe))[str_detect(names(colData(sfe)), \"_sum$\")]\n",
    "plotColDataHistogram(sfe, cols_use, bins = 20, ncol = 2) +\n",
    "    # Avoid decimal breaks on x axis unless there're too few breaks\n",
    "    scale_x_continuous(breaks = scales::breaks_extended(Q = c(1,2,5))) +\n",
    "    scale_y_log10() +\n",
    "    annotation_logticks(sides = \"l\")"
   ]
  },
  {
   "cell_type": "code",
   "execution_count": null,
   "id": "5d27a28f",
   "metadata": {},
   "outputs": [],
   "source": [
    "tx <- read_parquet(\"xenium2_pancreas/transcripts.parquet\")"
   ]
  },
  {
   "cell_type": "markdown",
   "id": "3a7e7b90",
   "metadata": {},
   "source": [
    "The counts are low, mostly zero, but there are some cells with up to 2 counts of all types aggregated. Then the outlier with 30% of counts from negative controls must have very low total real transcript counts to begin with. The negative controls indicate the prevalence of false positives. Here we have only about 2000 out of over 140,000 that have negative control spots detected. About `r format(sum(tx$feature_name %in% rownames(sfe)[is_any_neg])/nrow(tx)*100, digits = 3)`% are negative control spots, so false positive rate is low."
   ]
  },
  {
   "cell_type": "code",
   "execution_count": null,
   "id": "4f1127d1",
   "metadata": {},
   "outputs": [],
   "source": [
    "names(colData(sfe))"
   ]
  },
  {
   "cell_type": "markdown",
   "id": "fe40dc53",
   "metadata": {
    "lines_to_next_cell": 0
   },
   "source": [
    "Where are cells with higher proportion of negative control spots (i.e. low total counts and have negative control spots detected, >10% here) located in space?"
   ]
  },
  {
   "cell_type": "code",
   "execution_count": null,
   "id": "a8084cd9",
   "metadata": {},
   "outputs": [],
   "source": [
    "data(\"ditto_colors\")"
   ]
  },
  {
   "cell_type": "code",
   "execution_count": null,
   "id": "edf1ce44",
   "metadata": {},
   "outputs": [],
   "source": [
    "sfe$more_neg <- sfe$subsets_any_neg_percent > 10\n",
    "plotSpatialFeature(sfe, \"subsets_any_neg_sum\", colGeometryName = \"cellSeg\",\n",
    "                   show_axes = TRUE) +\n",
    "    geom_sf(data = SpatialFeatureExperiment::centroids(sfe)[sfe$more_neg,],\n",
    "            size = 0.5, color = ditto_colors[1]) +\n",
    "    theme(legend.position = \"bottom\")"
   ]
  },
  {
   "cell_type": "markdown",
   "id": "0dca1df9",
   "metadata": {},
   "source": [
    "Cells that have any negative control spots appear to be randomly distributed in space, but cells that have higher proportion of negative control seem to be few and over-represented in the less dense area, because the proportion is higher when total transcript counts are lower to begin with.\n",
    "\n",
    "Where are negative control spots located?"
   ]
  },
  {
   "cell_type": "code",
   "execution_count": null,
   "id": "2f8c101f",
   "metadata": {
    "fig.height": 2.5,
    "fig.width": 6
   },
   "outputs": [],
   "source": [
    "tx |> \n",
    "    filter(feature_name %in% rownames(sfe)[is_any_neg]) |> \n",
    "    ggplot(aes(x_location, -y_location)) +\n",
    "    geom_bin2d(binwidth = 50) +\n",
    "    scale_fill_distiller(palette = \"Blues\", direction = 1) +\n",
    "    labs(x = NULL, y = NULL)"
   ]
  },
  {
   "cell_type": "markdown",
   "id": "1fd9733e",
   "metadata": {},
   "source": [
    "Generally there are more negative control spots in the region with higher cell and transcript density, but especially regions with high cell density, which is not surprising. There don't visually seem to be regions with more negative control spots not accounted for by cell and transcript density. In contrast, the first Xenium preview data from 2022 has a region in the top left corner with more negative control probes detected that seems like an artifact (see `JanesickBreastData()`)."
   ]
  },
  {
   "cell_type": "code",
   "execution_count": null,
   "id": "9d2d0943",
   "metadata": {},
   "outputs": [],
   "source": [
    "rm(tx)"
   ]
  },
  {
   "cell_type": "markdown",
   "id": "ae24c708",
   "metadata": {},
   "source": [
    "## Cells\n",
    "Some QC metrics are precomputed and are stored in `colData`"
   ]
  },
  {
   "cell_type": "code",
   "execution_count": null,
   "id": "7dd3603d",
   "metadata": {},
   "outputs": [],
   "source": [
    "names(colData(sfe))"
   ]
  },
  {
   "cell_type": "markdown",
   "id": "4040adea",
   "metadata": {},
   "source": [
    "Since there're more cells, it would be better to plot the tissue larger, so we'll plot the histogram of QC metrics and the spatial plots separately, unlike in the CosMx vignette."
   ]
  },
  {
   "cell_type": "code",
   "execution_count": null,
   "id": "41e6fe42",
   "metadata": {},
   "outputs": [],
   "source": [
    "n_panel <- sum(!is_any_neg)\n",
    "sfe$nCounts <- colSums(counts(sfe)[!is_any_neg,])\n",
    "sfe$nGenes <- colSums(counts(sfe)[!is_any_neg,] > 0)\n",
    "colData(sfe)$nCounts_normed <- sfe$nCounts/n_panel\n",
    "colData(sfe)$nGenes_normed <- sfe$nGenes/n_panel"
   ]
  },
  {
   "cell_type": "markdown",
   "id": "f68a20e3",
   "metadata": {},
   "source": [
    "Here we divided the total number of transcript molecules detected from genes (`nCounts`) and the number of genes detected (`nGenes`) by the total number of genes probed, so this histogram is comparable to those from other smFISH-based datasets. "
   ]
  },
  {
   "cell_type": "code",
   "execution_count": null,
   "id": "e7a31bb5",
   "metadata": {},
   "outputs": [],
   "source": [
    "plotColDataHistogram(sfe, c(\"nCounts\", \"nGenes\"))"
   ]
  },
  {
   "cell_type": "markdown",
   "id": "010c8688",
   "metadata": {
    "lines_to_next_cell": 0
   },
   "source": [
    "There're weirdly some discrete values of the number of genes detected, which excludes negative controls."
   ]
  },
  {
   "cell_type": "code",
   "execution_count": null,
   "id": "e646e08a",
   "metadata": {},
   "outputs": [],
   "source": [
    "plotColDataHistogram(sfe, c(\"nCounts_normed\", \"nGenes_normed\"))"
   ]
  },
  {
   "cell_type": "markdown",
   "id": "39416d2d",
   "metadata": {},
   "source": [
    "Compared to the [FFPE CosMX non-small cell lung cancer dataset](https://pachterlab.github.io/voyager/articles/vig4_cosmx.html#cells), fewer transcripts per gene on average and a smaller proportion of all genes are detected in this dataset, which is also FFPE. However, this should be interpreted with caution, since these two datasets are from different tissues and have different gene panels, so this may or may not indicate that Xenium has better detection efficiency than CosMX. See [@Wang2023-dh; @Cook2023-pj; @Rademacher2024-do] for systematic comparisons of different imaging based technologies with the same tissue."
   ]
  },
  {
   "cell_type": "code",
   "execution_count": null,
   "id": "392853b9",
   "metadata": {
    "fig.height": 2.5,
    "fig.width": 6
   },
   "outputs": [],
   "source": [
    "plotSpatialFeature(sfe, \"nCounts\", colGeometryName = \"cellSeg\")"
   ]
  },
  {
   "cell_type": "code",
   "execution_count": null,
   "id": "6284b0ad",
   "metadata": {
    "fig.height": 2.5,
    "fig.width": 6
   },
   "outputs": [],
   "source": [
    "plotSpatialFeature(sfe, \"nGenes\", colGeometryName = \"cellSeg\")"
   ]
  },
  {
   "cell_type": "markdown",
   "id": "a4ec1bce",
   "metadata": {
    "lines_to_next_cell": 0
   },
   "source": [
    "These plots clearly show that nCounts and nGenes are spatially structured and may be biologically relevant.\n",
    "\n",
    "A standard examination is to look at the relationship between nCounts and nGenes:"
   ]
  },
  {
   "cell_type": "code",
   "execution_count": null,
   "id": "932418ba",
   "metadata": {},
   "outputs": [],
   "source": [
    "plotColData(sfe, x=\"nCounts\", y=\"nGenes\", bins = 70) +\n",
    "    scale_fill_distiller(palette = \"Blues\", direction = 1)"
   ]
  },
  {
   "cell_type": "markdown",
   "id": "18e7ce91",
   "metadata": {
    "lines_to_next_cell": 0
   },
   "source": [
    "Here we plot the distribution of cell area"
   ]
  },
  {
   "cell_type": "code",
   "execution_count": null,
   "id": "2f173a2a",
   "metadata": {},
   "outputs": [],
   "source": [
    "plotColDataHistogram(sfe, c(\"cell_area\", \"nucleus_area\"), scales = \"free_y\")"
   ]
  },
  {
   "cell_type": "markdown",
   "id": "318902ae",
   "metadata": {
    "lines_to_next_cell": 0
   },
   "source": [
    "There's a very long tail. The nuclei are much smaller than the cells.\n",
    "\n",
    "How is cell area distributed in space?"
   ]
  },
  {
   "cell_type": "code",
   "execution_count": null,
   "id": "a396b0ab",
   "metadata": {
    "fig.height": 2.5,
    "fig.width": 6
   },
   "outputs": [],
   "source": [
    "plotSpatialFeature(sfe, \"cell_area\", colGeometryName = \"cellSeg\", \n",
    "                   show_axes = TRUE)"
   ]
  },
  {
   "cell_type": "markdown",
   "id": "42a3b7a9",
   "metadata": {
    "lines_to_next_cell": 0
   },
   "source": [
    "The largest cells tend to be in the sparse area. This may be biological or an artifact of the cell segmentation algorithm or both.\n",
    "\n",
    "Here the nuclei segmentations are plotted instead of cell segmentation."
   ]
  },
  {
   "cell_type": "code",
   "execution_count": null,
   "id": "29f8d9aa",
   "metadata": {
    "fig.height": 2.5,
    "fig.width": 6
   },
   "outputs": [],
   "source": [
    "plotSpatialFeature(sfe, \"nucleus_area\", colGeometryName = \"nucSeg\",\n",
    "                   show_axes = TRUE)"
   ]
  },
  {
   "cell_type": "markdown",
   "id": "3279fcff",
   "metadata": {
    "lines_to_next_cell": 0
   },
   "source": [
    "Zoom into smaller regions to see the nature of the very large cells"
   ]
  },
  {
   "cell_type": "code",
   "execution_count": null,
   "id": "a1161994",
   "metadata": {},
   "outputs": [],
   "source": [
    "bbox3 <- c(xmin = 1350, xmax = 1550, ymin = -1750, ymax = -1550)\n",
    "bbox4 <- c(xmin = 3400, xmax = 3600, ymin = -2900, ymax = -2700)"
   ]
  },
  {
   "cell_type": "code",
   "execution_count": null,
   "id": "5b2475d0",
   "metadata": {},
   "outputs": [],
   "source": [
    "plotGeometry(sfe, colGeometryName = c(\"cellSeg\", \"nucSeg\"), fill = FALSE, \n",
    "             dark = TRUE, image_id = \"morphology_focus\", \n",
    "             channel = 3:1, bbox = bbox3, normalize_channels = TRUE)"
   ]
  },
  {
   "cell_type": "code",
   "execution_count": null,
   "id": "abaf2015",
   "metadata": {},
   "outputs": [],
   "source": [
    "plotGeometry(sfe, colGeometryName = c(\"cellSeg\", \"nucSeg\"), fill = FALSE, \n",
    "             dark = TRUE, image_id = \"morphology_focus\", \n",
    "             channel = 3:1, bbox = bbox4, normalize_channels = TRUE)"
   ]
  },
  {
   "cell_type": "markdown",
   "id": "493b8b45",
   "metadata": {},
   "source": [
    "In most cases, the large cells don't immediately look like artifacts of segmentation, so maybe don't remove them for QC purposes. Meanwhile we see different morphologies in the cells and nuclei which can be interesting to further explore. There are also some cells that don't have nuclei which may have nuclei in a different z-plane or may be false positives, and maybe some false negatives in regions with fluorescence and seemingly nuclei but not cell segmentation.\n",
    "\n",
    "Next we calculate the proportion of cell in this z-plane taken up by the nucleus, and examine the distribution:"
   ]
  },
  {
   "cell_type": "code",
   "execution_count": null,
   "id": "bc4fa3ea",
   "metadata": {},
   "outputs": [],
   "source": [
    "colData(sfe)$prop_nuc <- sfe$nucleus_area / sfe$cell_area"
   ]
  },
  {
   "cell_type": "code",
   "execution_count": null,
   "id": "82eb0064",
   "metadata": {},
   "outputs": [],
   "source": [
    "summary(sfe$prop_nuc)"
   ]
  },
  {
   "cell_type": "code",
   "execution_count": null,
   "id": "ac84211d",
   "metadata": {},
   "outputs": [],
   "source": [
    "plotColDataHistogram(sfe, \"prop_nuc\")"
   ]
  },
  {
   "cell_type": "markdown",
   "id": "f538b2a8",
   "metadata": {
    "lines_to_next_cell": 0
   },
   "source": [
    "The NA's are cells that don't have nuclei detected. There are also nearly 2500 cells entirely taken up the their nuclei, which may be due to cell type or false negative in segmenting the rest of the cell.\n",
    "\n",
    "Here we plot the nuclei proportion in space:"
   ]
  },
  {
   "cell_type": "code",
   "execution_count": null,
   "id": "de7d1756",
   "metadata": {
    "fig.height": 2.5,
    "fig.width": 6
   },
   "outputs": [],
   "source": [
    "plotSpatialFeature(sfe, \"prop_nuc\", colGeometryName = \"cellSeg\")"
   ]
  },
  {
   "cell_type": "markdown",
   "id": "adebad50",
   "metadata": {},
   "source": [
    "Cells in some histological regions have larger proportions occupied by the nuclei. It is interesting to check, controlling for cell type, how cell area, nucleus area, and the proportion of cell occupied by nucleus relate to gene expression. However, a problem in performing such an analysis is that cell segmentation is only available for one z-plane here and these areas also relate to where this z-plane intersects each cell. \n",
    "\n",
    "Does cell area relate to `nCounts`, nucleus area, proportion of area taken up by nucleus, and so on? Here we plot how each pair of variables relate to each other in a matrix plot using the [`ggforce`](https://ggforce.data-imaginist.com/) package."
   ]
  },
  {
   "cell_type": "code",
   "execution_count": null,
   "id": "c8b6b5d8",
   "metadata": {},
   "outputs": [],
   "source": [
    "cols_use <- c(\"nCounts\", \"nGenes\", \"cell_area\", \"nucleus_area\", \"prop_nuc\")\n",
    "df <- colData(sfe)[,cols_use] |> as.data.frame()"
   ]
  },
  {
   "cell_type": "code",
   "execution_count": null,
   "id": "bdfb6755",
   "metadata": {
    "fig.height": 6,
    "fig.width": 8
   },
   "outputs": [],
   "source": [
    "ggplot(df) +\n",
    "    geom_bin2d(aes(x = .panel_x, y = .panel_y), bins = 30) +\n",
    "    geom_autodensity(fill = \"gray90\", color = \"gray70\", linewidth = 0.2) +\n",
    "    facet_matrix(vars(tidyselect::everything()), layer.diag = 2) +\n",
    "    scale_fill_distiller(palette = \"Blues\", direction = 1)"
   ]
  },
  {
   "cell_type": "markdown",
   "id": "7ef39f55",
   "metadata": {},
   "source": [
    "Cool, so, generally, `nCounts`, `nGenes`, cell area, and nucleus area positively correlate with each other, but the proportion of cell area taken up by the nucleus doesn't seem to correlate with the other variables."
   ]
  },
  {
   "cell_type": "code",
   "execution_count": null,
   "id": "4e643760",
   "metadata": {},
   "outputs": [],
   "source": [
    "sfe$has_nuclei <- !is.na(sfe$nucleus_area)\n",
    "plotColData(sfe, y = \"has_nuclei\", x = \"cell_area\", \n",
    "            point_fun = function(...) list())"
   ]
  },
  {
   "cell_type": "markdown",
   "id": "54164a2f",
   "metadata": {},
   "source": [
    "It seems that cells that don't have nuclei detected tend to be smaller, probably because less of them are captured in this tissue section when their nuclei are not in this section. Where are the cells without nuclei distributed in space?"
   ]
  },
  {
   "cell_type": "code",
   "execution_count": null,
   "id": "d4175f4e",
   "metadata": {
    "fig.height": 2.5,
    "fig.width": 6
   },
   "outputs": [],
   "source": [
    "plotSpatialFeature(sfe, \"has_nuclei\", colGeometryName = \"cellSeg\",\n",
    "                   show_axes = TRUE) +\n",
    "    # To highlight the cells that don't have nuclei\n",
    "    geom_sf(data = SpatialFeatureExperiment::centroids(sfe)[!sfe$has_nuclei,], \n",
    "            color = ditto_colors[1], size = 0.3)"
   ]
  },
  {
   "cell_type": "markdown",
   "id": "b2db8023",
   "metadata": {},
   "source": [
    "It seems that there are more cells without nuclei in regions with higher cell density; would be interesting to do spatial point process analysis. Zoom into a smaller region to inspect, especially the cells outside the main piece of tissue:"
   ]
  },
  {
   "cell_type": "code",
   "execution_count": null,
   "id": "c3e6ecd8",
   "metadata": {},
   "outputs": [],
   "source": [
    "bbox5 <- c(xmin = 6400, xmax = 6800, ymin = -300, ymax = -50)\n",
    "bbox6 <- c(xmin = 600, xmax = 1000, ymin = -600, ymax = -300)\n",
    "bbox7 <- c(xmin = 6800, xmax = 7200, ymin = -2900, ymax = -2500)"
   ]
  },
  {
   "cell_type": "code",
   "execution_count": null,
   "id": "14a77afe",
   "metadata": {},
   "outputs": [],
   "source": [
    "plotGeometry(sfe, colGeometryName = c(\"cellSeg\", \"nucSeg\"), fill = FALSE, \n",
    "             dark = TRUE, image_id = \"morphology_focus\", show_axes = TRUE,\n",
    "             channel = 3:1, bbox = bbox5, normalize_channels = TRUE)"
   ]
  },
  {
   "cell_type": "code",
   "execution_count": null,
   "id": "58fecead",
   "metadata": {},
   "outputs": [],
   "source": [
    "plotGeometry(sfe, colGeometryName = c(\"cellSeg\", \"nucSeg\"), fill = FALSE, \n",
    "             dark = TRUE, image_id = \"morphology_focus\", show_axes = TRUE,\n",
    "             channel = 3:1, bbox = bbox6, normalize_channels = TRUE)"
   ]
  },
  {
   "cell_type": "code",
   "execution_count": null,
   "id": "e066145f",
   "metadata": {},
   "outputs": [],
   "source": [
    "plotGeometry(sfe, colGeometryName = c(\"cellSeg\", \"nucSeg\"), fill = FALSE, \n",
    "             dark = TRUE, image_id = \"morphology_focus\", show_axes = TRUE,\n",
    "             channel = 3:1, bbox = bbox7, normalize_channels = TRUE)"
   ]
  },
  {
   "cell_type": "markdown",
   "id": "40aba758",
   "metadata": {},
   "source": [
    "Here in QC we are looking for low quality cells. From what we've explored so far, cells with negative control counts and exceptionally large cells might not be suspect, but cells far outside the tissue are suspect. For some types of spatial neighborhood graphs, such as the k nearest neighbor graph, these cells will also affect spatial analysis. So here we remove those cells. Here we compute a k nearest neighbor graph with k = 5 and remove cells with neighbors that are too far away."
   ]
  },
  {
   "cell_type": "code",
   "execution_count": null,
   "id": "4fd89000",
   "metadata": {},
   "outputs": [],
   "source": [
    "g <- findKNN(spatialCoords(sfe)[,1:2], k = 5, BNPARAM = AnnoyParam())"
   ]
  },
  {
   "cell_type": "code",
   "execution_count": null,
   "id": "577ff024",
   "metadata": {},
   "outputs": [],
   "source": [
    "max_dist <- rowMaxs(g$distance)\n",
    "data.frame(max_dist = max_dist) |> \n",
    "    ggplot(aes(max_dist)) +\n",
    "    geom_histogram(bins = 100) +\n",
    "    scale_y_continuous(transform = \"log1p\") +\n",
    "    scale_x_continuous(breaks = breaks_pretty()) +\n",
    "    annotation_logticks(sides = \"l\")"
   ]
  },
  {
   "cell_type": "markdown",
   "id": "e624f485",
   "metadata": {
    "lines_to_next_cell": 0
   },
   "source": [
    "Also look at minimum distance between the neighbors to find outlying single cells that may be less far from the tissue"
   ]
  },
  {
   "cell_type": "code",
   "execution_count": null,
   "id": "af13acc7",
   "metadata": {},
   "outputs": [],
   "source": [
    "min_dist <- rowMins(g$distance)\n",
    "data.frame(min_dist = min_dist) |> \n",
    "    ggplot(aes(min_dist)) +\n",
    "    geom_histogram(bins = 100) +\n",
    "    scale_y_continuous(transform = \"log1p\") +\n",
    "    scale_x_continuous(breaks = breaks_pretty()) +\n",
    "    annotation_logticks(sides = \"l\")"
   ]
  },
  {
   "cell_type": "markdown",
   "id": "89953862",
   "metadata": {
    "lines_to_next_cell": 0
   },
   "source": [
    "There's a long tail, which must be the small clusters of cells away from the tissue. Say use a cutoff of 60 microns, and see where those cells are."
   ]
  },
  {
   "cell_type": "code",
   "execution_count": null,
   "id": "b64bcd26",
   "metadata": {},
   "outputs": [],
   "source": [
    "sfe$main_tissue <- !(max_dist > 60 | min_dist > 50)"
   ]
  },
  {
   "cell_type": "code",
   "execution_count": null,
   "id": "2619c431",
   "metadata": {
    "fig.height": 2.5,
    "fig.width": 6
   },
   "outputs": [],
   "source": [
    "plotSpatialFeature(sfe, \"main_tissue\", colGeometryName = \"cellSeg\",\n",
    "                   show_axes = TRUE) +\n",
    "    # To highlight the outliers\n",
    "    geom_sf(data = SpatialFeatureExperiment::centroids(sfe)[!sfe$main_tissue,], \n",
    "            color = ditto_colors[1], size = 0.3)"
   ]
  },
  {
   "cell_type": "markdown",
   "id": "5e98f297",
   "metadata": {},
   "source": [
    "To be more fastidious, I can also compare the max neighbor distance of each cell to those of its neighbors in order to account for cell density in different parts of the tissue, and to extract data from the image to remove cells that lack fluorescent signals. Here we remove the cells away from the main tissue, cells that have very low total gene expression, cells that are too small to make sense, and genes that are not detected."
   ]
  },
  {
   "cell_type": "code",
   "execution_count": null,
   "id": "1b69912a",
   "metadata": {},
   "outputs": [],
   "source": [
    "plotColDataHistogram(sfe, c(\"nCounts\", \"cell_area\")) +\n",
    "    scale_x_log10() +\n",
    "    annotation_logticks(sides = \"b\")"
   ]
  },
  {
   "cell_type": "markdown",
   "id": "3bb17b88",
   "metadata": {},
   "source": [
    "The x axis is log transformed to better see the small values, and there's no obvious outlier. Say use an arbitrary cutoff of 5 for nCounts"
   ]
  },
  {
   "cell_type": "code",
   "execution_count": null,
   "id": "63c3e810",
   "metadata": {},
   "outputs": [],
   "source": [
    "sfe <- sfe[,sfe$main_tissue & sfe$nCounts > 5]\n",
    "sfe <- sfe[rowSums(counts(sfe)) > 0,]\n",
    "dim(sfe)"
   ]
  },
  {
   "cell_type": "markdown",
   "id": "5ee92359",
   "metadata": {
    "lines_to_next_cell": 0
   },
   "source": [
    "## Genes\n",
    "Here we look at the mean and variance of each gene"
   ]
  },
  {
   "cell_type": "code",
   "execution_count": null,
   "id": "0c6d7357",
   "metadata": {},
   "outputs": [],
   "source": [
    "rowData(sfe)$means <- rowMeans(counts(sfe))\n",
    "rowData(sfe)$vars <- rowVars(counts(sfe))"
   ]
  },
  {
   "cell_type": "markdown",
   "id": "c22c389f",
   "metadata": {
    "lines_to_next_cell": 0
   },
   "source": [
    "Real genes generally have higher mean expression across cells than negative controls. This is the mean of each gene across cells."
   ]
  },
  {
   "cell_type": "code",
   "execution_count": null,
   "id": "1734d637",
   "metadata": {},
   "outputs": [],
   "source": [
    "rowData(sfe)$is_neg <- rowData(sfe)$Type != \"Gene Expression\"\n",
    "plotRowData(sfe, x = \"means\", y = \"is_neg\") +\n",
    "    scale_y_log10() +\n",
    "    annotation_logticks(sides = \"b\")"
   ]
  },
  {
   "cell_type": "markdown",
   "id": "9fc34960",
   "metadata": {
    "lines_to_next_cell": 0
   },
   "source": [
    "Here the real genes and negative controls are plotted in different colors"
   ]
  },
  {
   "cell_type": "code",
   "execution_count": null,
   "id": "eebf72b3",
   "metadata": {},
   "outputs": [],
   "source": [
    "plotRowData(sfe, x=\"means\", y=\"vars\", color_by = \"is_neg\") +\n",
    "    geom_abline(slope = 1, intercept = 0, color = \"red\") +\n",
    "    scale_x_log10() + scale_y_log10() +\n",
    "    annotation_logticks() +\n",
    "    coord_equal() +\n",
    "    labs(color = \"Negative control\")"
   ]
  },
  {
   "cell_type": "markdown",
   "id": "dd737a7f",
   "metadata": {},
   "source": [
    "The red line $y = x$ is expected if the data follows a Poisson distribution. Negative controls and real genes form mostly separate clusters. Negative controls stick close to the line, while real genes are overdispersed. Unlike in the [CosMX dataset](https://pachterlab.github.io/voyager/articles/vig4_cosmx.html#genes), the negative controls don't seem overdispersed. Overdispersion in gene expression can not only be caused by transcription bursts and cell type heterogeneity, but also by both positive and negative spatial autocorrelation [@Chun2018-ar; @Griffith2011-lx].\n",
    "\n",
    "# Spatial autocorrelation of QC metrics\n",
    "\n",
    "There's a sparse and a dense region. This poses the question of what type of neighborhood graph to use, e.g. it is conceivable that cells in the sparse region should just be singletons. Furthermore, it is unclear what the length scale of their influence might be. It might depend on the cell type and how contact and secreted signals are used in the cell type, and length scale of the influence. If k nearest neighbors are used, then the neighbors in the dense region are much closer together than those in the sparse region. If distance based neighbors are used, then cells in the dense region will have more neighbors than cells in the sparse region, and the sparse region can break into multiple compartments if the distance cutoff is not long enough. \n",
    "\n",
    "For the purpose of demonstration, we use k nearest neighbors with $k = 5$, with inverse distance weighting. Note that using more neighbors leads to longer computation time of spatial autocorrelation metrics."
   ]
  },
  {
   "cell_type": "code",
   "execution_count": null,
   "id": "9648fb54",
   "metadata": {},
   "outputs": [],
   "source": [
    "colGraph(sfe, \"knn5\") <- findSpatialNeighbors(sfe, method = \"knearneigh\", \n",
    "                                              dist_type = \"idw\", k = 5, \n",
    "                                              style = \"W\")"
   ]
  },
  {
   "cell_type": "markdown",
   "id": "393b96a5",
   "metadata": {
    "lines_to_next_cell": 0
   },
   "source": [
    "I think it makes sense to replace NA with 0 for nucleus area here though generally 0 is not an appropriate substitute for NA. "
   ]
  },
  {
   "cell_type": "code",
   "execution_count": null,
   "id": "24b0bf69",
   "metadata": {},
   "outputs": [],
   "source": [
    "sfe$nucleus_area <- ifelse(is.na(sfe$nucleus_area), 0, sfe$nucleus_area)"
   ]
  },
  {
   "cell_type": "code",
   "execution_count": null,
   "id": "892449c8",
   "metadata": {},
   "outputs": [],
   "source": [
    "sfe <- colDataMoransI(sfe, c(\"nCounts\", \"nGenes\", \"cell_area\", \"nucleus_area\"),\n",
    "                      colGraphName = \"knn5\")"
   ]
  },
  {
   "cell_type": "code",
   "execution_count": null,
   "id": "a058bf29",
   "metadata": {},
   "outputs": [],
   "source": [
    "colFeatureData(sfe)[c(\"nCounts\", \"nGenes\", \"cell_area\", \"nucleus_area\"),]"
   ]
  },
  {
   "cell_type": "markdown",
   "id": "1deea52d",
   "metadata": {},
   "source": [
    "Global Moran's I indicates positive spatial autocorrelation. Here global spatial autocorrelation for these QC metrics is moderate or weak, at least at the level of single cells using a k nearest neighbor graph with k = 5. From earlier plots of these metrics, there may be stronger spatial autocorrelation at a longer length scale. As the strength of spatial autocorrelation can vary spatially, we also run local Moran's I."
   ]
  },
  {
   "cell_type": "code",
   "execution_count": null,
   "id": "51f09555",
   "metadata": {},
   "outputs": [],
   "source": [
    "sfe <- colDataUnivariate(sfe, type = \"localmoran\", \n",
    "                         features = c(\"nCounts\", \"nGenes\", \"cell_area\", \n",
    "                                      \"nucleus_area\"),\n",
    "                         colGraphName = \"knn5\", BPPARAM = MulticoreParam(2))"
   ]
  },
  {
   "cell_type": "markdown",
   "id": "7582660a",
   "metadata": {
    "lines_to_next_cell": 0
   },
   "source": [
    "The `pointsize` argument adjusts the point size in `scattermore`. The default is 0, meaning single pixels, but since the cells in the sparse region are hard to see that way, we increase `pointsize`. We would still plot the polygons in larger single panel plots, but use `scattermore` in multi-panel plots where the polygons in each panel are invisible anyway due to the small size to save some time."
   ]
  },
  {
   "cell_type": "code",
   "execution_count": null,
   "id": "a943d3fc",
   "metadata": {
    "fig.height": 7,
    "fig.width": 6
   },
   "outputs": [],
   "source": [
    "plotLocalResult(sfe, \"localmoran\",\n",
    "                features = c(\"nCounts\", \"nGenes\", \"cell_area\", \"nucleus_area\"),\n",
    "                colGeometryName = \"centroids\", scattermore = TRUE,\n",
    "                divergent = TRUE, diverge_center = 0, pointsize = 1.5,\n",
    "                ncol = 1)"
   ]
  },
  {
   "cell_type": "markdown",
   "id": "4d1f39fe",
   "metadata": {},
   "source": [
    "It seems that the glandular areas tend to be more homogeneous, greatly contributing to the global Moran's I value, but most of the tissue is not very spatially autocorrelated for these metrics. The $I_i$ value is not the only thing computed in local Moran's I. P-values and types of neighborhoods are also computed. \"Type of neighborhood\" include cells with low values and neighbors with low values (low-low), low-high, high-high, and high-low, and \"low\" and \"high\" are relative to the mean. One can make a scatter plot with the value at each cell on the x axis and spatially weighted average of the cell's neighbors on the spatial neighborhood graph on the y axis; this is the Moran scatter plot. These neighborhood types are quadrants on the plot. However, when the value doesn't deviate much from the mean, the neighborhood type might not mean much, but it does seem to highlight some tissue structure. Another caveat is that the mean is from the entire section, while from tissue morphology, there clearly are two very different regions within the section. It would be cool to have a method to better determine areas in the tissue for spatial analysis that can best answer the questions of interest. It might make sense to analyze the sparse and dense regions separately at some point."
   ]
  },
  {
   "cell_type": "code",
   "execution_count": null,
   "id": "97a4dffb",
   "metadata": {},
   "outputs": [],
   "source": [
    "localResultAttrs(sfe, \"localmoran\", \"nCounts\")"
   ]
  },
  {
   "cell_type": "code",
   "execution_count": null,
   "id": "cc48b94f",
   "metadata": {
    "fig.height": 7,
    "fig.width": 6
   },
   "outputs": [],
   "source": [
    "plotLocalResult(sfe, \"localmoran\", attribute = \"pysal\",\n",
    "                features = c(\"nCounts\", \"nGenes\", \"cell_area\", \"nucleus_area\"),\n",
    "                colGeometryName = \"centroids\", scattermore = TRUE, pointsize = 1.5,\n",
    "                ncol = 1, size = 3)"
   ]
  },
  {
   "cell_type": "markdown",
   "id": "46dad666",
   "metadata": {},
   "source": [
    "It's hard to see without zooming in."
   ]
  },
  {
   "cell_type": "code",
   "execution_count": null,
   "id": "b769257d",
   "metadata": {
    "fig.height": 7,
    "fig.width": 8
   },
   "outputs": [],
   "source": [
    "plotLocalResult(sfe, \"localmoran\",\n",
    "                features = c(\"nCounts\", \"nGenes\", \"cell_area\", \"nucleus_area\"),\n",
    "                colGeometryName = \"cellSeg\", divergent = TRUE, diverge_center = 0,\n",
    "                ncol = 2, bbox = bbox1)"
   ]
  },
  {
   "cell_type": "code",
   "execution_count": null,
   "id": "97c422f2",
   "metadata": {
    "fig.height": 7,
    "fig.width": 8
   },
   "outputs": [],
   "source": [
    "plotLocalResult(sfe, \"localmoran\", attribute = \"pysal\",\n",
    "                features = c(\"nCounts\", \"nGenes\", \"cell_area\", \"nucleus_area\"),\n",
    "                colGeometryName = \"cellSeg\", bbox = bbox1, ncol = 2)"
   ]
  },
  {
   "cell_type": "code",
   "execution_count": null,
   "id": "cc4ded9c",
   "metadata": {
    "fig.height": 7,
    "fig.width": 8
   },
   "outputs": [],
   "source": [
    "plotLocalResult(sfe, \"localmoran\", attribute = \"-log10p_adj\", \n",
    "                features = c(\"nCounts\", \"nGenes\", \"cell_area\", \"nucleus_area\"),\n",
    "                colGeometryName = \"cellSeg\", divergent = TRUE, \n",
    "                diverge_center = -log10(0.05),\n",
    "                ncol = 2, bbox = bbox1)"
   ]
  },
  {
   "cell_type": "markdown",
   "id": "4cfcc6d8",
   "metadata": {},
   "source": [
    "Here the center of the divergent palette is at $-\\mathrm{log}_{10}0.05$ and the p-values have been corrected for multiple testing (see `spdep::p.adjustSP()`). Warm color indicates \"significant\" and cool color indicates \"not significant\" based on this conventional threshold. Here in this dense region, for these metrics, local Moran's I is generally not significant."
   ]
  },
  {
   "cell_type": "code",
   "execution_count": null,
   "id": "a306603a",
   "metadata": {
    "fig.height": 7,
    "fig.width": 8
   },
   "outputs": [],
   "source": [
    "plotLocalResult(sfe, \"localmoran\",\n",
    "                features = c(\"nCounts\", \"nGenes\", \"cell_area\", \"nucleus_area\"),\n",
    "                colGeometryName = \"cellSeg\", divergent = TRUE, diverge_center = 0,\n",
    "                ncol = 2, bbox = bbox2)"
   ]
  },
  {
   "cell_type": "code",
   "execution_count": null,
   "id": "764819d3",
   "metadata": {
    "fig.height": 7,
    "fig.width": 8
   },
   "outputs": [],
   "source": [
    "plotLocalResult(sfe, \"localmoran\", attribute = \"pysal\",\n",
    "                features = c(\"nCounts\", \"nGenes\", \"cell_area\", \"nucleus_area\"),\n",
    "                colGeometryName = \"cellSeg\", bbox = bbox2, ncol = 2)"
   ]
  },
  {
   "cell_type": "code",
   "execution_count": null,
   "id": "a464dccc",
   "metadata": {
    "fig.height": 7,
    "fig.width": 8
   },
   "outputs": [],
   "source": [
    "plotLocalResult(sfe, \"localmoran\", attribute = \"-log10p_adj\", \n",
    "                features = c(\"nCounts\", \"nGenes\", \"cell_area\", \"nucleus_area\"),\n",
    "                colGeometryName = \"cellSeg\", divergent = TRUE, \n",
    "                diverge_center = -log10(0.05),\n",
    "                ncol = 2, bbox = bbox2)"
   ]
  },
  {
   "cell_type": "markdown",
   "id": "6739ef9f",
   "metadata": {
    "lines_to_next_cell": 0
   },
   "source": [
    "In this sparser region, there're more areas where local Moran's I is significant for these metrics. It seems that locally we can have a mixture of positive and negative spatial autocorrelation, though for the most part local Moran's I is not statistically significant and the significant parts are in the high-high regions. What to make of this? \n",
    "\n",
    "Moran plot for nCounts"
   ]
  },
  {
   "cell_type": "code",
   "execution_count": null,
   "id": "f98149e5",
   "metadata": {},
   "outputs": [],
   "source": [
    "sfe <- colDataUnivariate(sfe, \"moran.plot\", \"nCounts\", colGraphName = \"knn5\")"
   ]
  },
  {
   "cell_type": "code",
   "execution_count": null,
   "id": "eab853d6",
   "metadata": {
    "fig.height": 3,
    "fig.width": 6
   },
   "outputs": [],
   "source": [
    "moranPlot(sfe, \"nCounts\", binned = TRUE, plot_influential = FALSE, bins = c(150, 60)) "
   ]
  },
  {
   "cell_type": "markdown",
   "id": "27a068ec",
   "metadata": {},
   "source": [
    "There are no obvious clusters here based on the 2D histogram showing point density in the scatter plot. With W style (the adjacency matrix with edge weights have row sums of 1), the slope of the least square line fitted to the scatter plot is Moran's I [@Anselin1996-mo].\n",
    "\n",
    "# Moran's I\n",
    "\n",
    "By default, for gene expression, the log normalized counts are used in spatial autocorrelation metrics because many statistical methods were developed for normally distributed data and there can be technical artifacts affecting the raw gene counts per cell, so before running Moran's I, we normalize the data. In the single cell tradition, total counts (nCounts) is treated like a technical artifact to be normalized away, which makes sense given the transcript capture and PCR amplification steps in the single cell RNA-seq protocol. However, as seen above, nCounts clearly has biologically relevant spatial structure, and imaging based technologies don't have those steps. Furthermore, in imaging based technologies, typically a curated gene panel of a few hundred genes targeting certain cell types of interest is used, while scRNA-seq is usually untargeted and transcriptome wide. Due to the skewed gene panel, nCounts is biologically skewed as well so using it to normalize data can lead to false negatives in finding spatially variable genes and differential expression [@Atta2024-nw]. \n",
    "\n",
    "Sometimes cell area is used when normalizing imaging based data, which makes sense when larger cells have more room for more transcripts and as seen above in the matrix plot, cell area does positively correlate with nCounts. However, as seen in the earlier cell level QC plots, cell size is also spatially structured and seemingly biologically relevant because cells of some types tend to be larger than cells of some other types, though its global Moran's I is a bit weaker than that of nCounts. Often some cells are larger because more of them get captured in this section and some cells are smaller because less of them are in this section, so there still is a technical component. In [@Atta2024-nw], normalizing by cell area and not normalizing are also examined; here SVG and DE results are more comparable to when using a more representative gene panel, with fewer false positives and false negatives compared to normalizing by nCounts. Due to the technical effect of partial capture of cells in the section, [@Atta2024-nw] recommends normalizing with cell area if it's reliable. While cell area from XOA v1 with cell segmentations that look like Voroni tessellation doesn't seem reliable, with multiple fluorescent stains in XOA v2, it seems much better, so we'll normalize with cell area here while noting the caveat that cell area can be biologically relevant."
   ]
  },
  {
   "cell_type": "code",
   "execution_count": null,
   "id": "df9b0659",
   "metadata": {},
   "outputs": [],
   "source": [
    "sfe <- logNormCounts(sfe, size.factor = sfe$cell_area)"
   ]
  },
  {
   "cell_type": "markdown",
   "id": "291c5ab1",
   "metadata": {
    "lines_to_next_cell": 0
   },
   "source": [
    "Use more cores if available to speed this up. It's slower here because the gene count matrix is actually on disk thanks to `DelayedArray` and not loaded into memory."
   ]
  },
  {
   "cell_type": "code",
   "execution_count": null,
   "id": "986cfce5",
   "metadata": {},
   "outputs": [],
   "source": [
    "system.time(\n",
    "    sfe <- runMoransI(sfe, colGraphName = \"knn5\", BPPARAM = MulticoreParam(2))\n",
    ")"
   ]
  },
  {
   "cell_type": "code",
   "execution_count": null,
   "id": "a4c247f5",
   "metadata": {},
   "outputs": [],
   "source": [
    "plotRowData(sfe, x = \"moran_sample01\", y = \"is_neg\")"
   ]
  },
  {
   "cell_type": "markdown",
   "id": "444b695d",
   "metadata": {},
   "source": [
    "As expected, generally the negative controls are tightly clustered around 0, while the real genes have positive Moran's I, which means there is generally no technical artifact spatial trend. \n",
    "\n",
    "What are the genes with the highest Moran's I?"
   ]
  },
  {
   "cell_type": "code",
   "execution_count": null,
   "id": "40a8f702",
   "metadata": {
    "fig.height": 7,
    "fig.width": 6
   },
   "outputs": [],
   "source": [
    "top_moran <- rownames(sfe)[order(rowData(sfe)$moran_sample01, decreasing = TRUE)[1:4]]\n",
    "plotSpatialFeature(sfe, top_moran, colGeometryName = \"centroids\",\n",
    "                   scattermore = TRUE, pointsize = 1.5, ncol = 1)"
   ]
  },
  {
   "cell_type": "markdown",
   "id": "6e1723ab",
   "metadata": {},
   "source": [
    "AMY2A is amylase alpha 2A, involved in breaking down starch. INS is insulin. GCG is glucagon. GATM is glycine amidinotransferase involved in creatine biosynthesis. So the dense area have exocrine acini making digestive enzymes and the endocrine Langerhan's islets making insulin and glucagon. These are very spatially structured. Zoom into a smaller area"
   ]
  },
  {
   "cell_type": "code",
   "execution_count": null,
   "id": "33272275",
   "metadata": {},
   "outputs": [],
   "source": [
    "bbox8 <- c(xmin = 4950, xmax = 5450, ymin = -1000, ymax = -500)"
   ]
  },
  {
   "cell_type": "code",
   "execution_count": null,
   "id": "a1214f88",
   "metadata": {
    "fig.height": 7,
    "fig.width": 8
   },
   "outputs": [],
   "source": [
    "plotSpatialFeature(sfe, top_moran, colGeometryName = \"cellSeg\", ncol = 2,\n",
    "                   bbox = bbox8)"
   ]
  },
  {
   "cell_type": "code",
   "execution_count": null,
   "id": "ffa8001e",
   "metadata": {
    "fig.height": 7,
    "fig.width": 6
   },
   "outputs": [],
   "source": [
    "top_moran2 <- rownames(sfe)[order(rowData(sfe)$moran_sample01, decreasing = TRUE)[5:8]]\n",
    "plotSpatialFeature(sfe, top_moran2, colGeometryName = \"centroids\",\n",
    "                   scattermore = TRUE, pointsize = 1.5, ncol = 1)"
   ]
  },
  {
   "cell_type": "markdown",
   "id": "a8536e23",
   "metadata": {
    "lines_to_next_cell": 0
   },
   "source": [
    "GPRC5A is G protein-coupled receptor class C group 5 member A, which may play a role in embryonic development and epithelial cell differentiation. SST is somatostatin, which is a regulator of the endocrine system. CFTR encodes the chlorine ion channel whose mutation causes cystic fibrosis. DMBT1 stands for deleted in malignant brain tumors 1. \"Loss of sequences from human chromosome 10q has been associated with the progression of human cancers\", according to RefSeq. So the sparse region is probably cancerous. Zoom into a smaller area"
   ]
  },
  {
   "cell_type": "code",
   "execution_count": null,
   "id": "e51623bc",
   "metadata": {
    "fig.height": 7,
    "fig.width": 8
   },
   "outputs": [],
   "source": [
    "plotSpatialFeature(sfe, top_moran2, colGeometryName = \"cellSeg\", ncol = 2,\n",
    "                   bbox = bbox2)"
   ]
  },
  {
   "cell_type": "markdown",
   "id": "5a75c860",
   "metadata": {
    "lines_to_next_cell": 0
   },
   "source": [
    "How does Moran's I relate to gene expression level?"
   ]
  },
  {
   "cell_type": "code",
   "execution_count": null,
   "id": "ebd04810",
   "metadata": {},
   "outputs": [],
   "source": [
    "plotRowData(sfe, x = \"means\", y = \"moran_sample01\", color_by = \"is_neg\") +\n",
    "    scale_x_log10() + annotation_logticks(sides = \"b\")"
   ]
  },
  {
   "cell_type": "markdown",
   "id": "d7740e57",
   "metadata": {},
   "source": [
    "Very highly expressed genes have higher Moran's I, but there are some less expressed genes with higher Moran's I as well."
   ]
  },
  {
   "cell_type": "code",
   "execution_count": null,
   "id": "6cbc1ebd",
   "metadata": {},
   "outputs": [],
   "source": [
    "sfe <- sfe[rowData(sfe)$Type == \"Gene Expression\",]"
   ]
  },
  {
   "cell_type": "markdown",
   "id": "78e2501b",
   "metadata": {
    "lines_to_next_cell": 0
   },
   "source": [
    "# Non-spatial dimension reduction and clustering\n",
    "\n",
    "Here we run non-spatial PCA as for scRNA-seq data"
   ]
  },
  {
   "cell_type": "code",
   "execution_count": null,
   "id": "d22b97f3",
   "metadata": {},
   "outputs": [],
   "source": [
    "set.seed(29)\n",
    "sfe <- runPCA(sfe, ncomponents = 30, scale = TRUE, BSPARAM = IrlbaParam(), ntop = Inf)"
   ]
  },
  {
   "cell_type": "code",
   "execution_count": null,
   "id": "4628d0fb",
   "metadata": {},
   "outputs": [],
   "source": [
    "ElbowPlot(sfe, ndims = 30)"
   ]
  },
  {
   "cell_type": "code",
   "execution_count": null,
   "id": "6217a860",
   "metadata": {
    "fig.height": 7,
    "fig.width": 6
   },
   "outputs": [],
   "source": [
    "plotDimLoadings(sfe, dims = 1:8)"
   ]
  },
  {
   "cell_type": "code",
   "execution_count": null,
   "id": "086f895b",
   "metadata": {
    "fig.height": 7,
    "fig.width": 6
   },
   "outputs": [],
   "source": [
    "spatialReducedDim(sfe, \"PCA\", 4, colGeometryName = \"centroids\", divergent = TRUE,\n",
    "                  diverge_center = 0, ncol = 1, scattermore = TRUE, pointsize = 1.5)"
   ]
  },
  {
   "cell_type": "code",
   "execution_count": null,
   "id": "25ba4812",
   "metadata": {
    "fig.height": 7,
    "fig.width": 6
   },
   "outputs": [],
   "source": [
    "spatialReducedDim(sfe, \"PCA\", components = 5:8, colGeometryName = \"centroids\", \n",
    "                  divergent = TRUE, diverge_center = 0, \n",
    "                  ncol = 1, scattermore = TRUE, pointsize = 1.5)"
   ]
  },
  {
   "cell_type": "markdown",
   "id": "6368d956",
   "metadata": {
    "lines_to_next_cell": 0
   },
   "source": [
    "While spatial region is not explicitly used, the PC's highlight spatial regions due to spatial autocorrelation in gene expression and histological regions with different cell types. Since PCA finds linear combinations of genes that maximize variance explained, when the genes that explain more variance are spatially structured, their linear combinations are also spatially structured.\n",
    "\n",
    "Non-spatial clustering and locating the clusters in space"
   ]
  },
  {
   "cell_type": "code",
   "execution_count": null,
   "id": "718eef3e",
   "metadata": {},
   "outputs": [],
   "source": [
    "colData(sfe)$cluster <- clusterRows(reducedDim(sfe, \"PCA\")[,1:15],\n",
    "                                    BLUSPARAM = SNNGraphParam(\n",
    "                                        cluster.fun = \"leiden\",\n",
    "                                        cluster.args = list(\n",
    "                                            resolution_parameter = 0.5,\n",
    "                                            objective_function = \"modularity\")))"
   ]
  },
  {
   "cell_type": "markdown",
   "id": "d5f35da9",
   "metadata": {
    "lines_to_next_cell": 0
   },
   "source": [
    "Now the `scater` can also rasterize the plots with lots of points with the `rasterise` argument, but with a different mechanism from `scattermore` that requires more system dependencies. "
   ]
  },
  {
   "cell_type": "code",
   "execution_count": null,
   "id": "710113e0",
   "metadata": {
    "fig.height": 7,
    "fig.width": 8
   },
   "outputs": [],
   "source": [
    "plotPCA(sfe, ncomponents = 4, colour_by = \"cluster\", scattermore = TRUE)"
   ]
  },
  {
   "cell_type": "markdown",
   "id": "d235c977",
   "metadata": {
    "lines_to_next_cell": 0
   },
   "source": [
    "Plot the location of the clusters in space"
   ]
  },
  {
   "cell_type": "code",
   "execution_count": null,
   "id": "e2b42af6",
   "metadata": {},
   "outputs": [],
   "source": [
    "plotSpatialFeature(sfe, \"cluster\", colGeometryName = \"centroids\", scattermore = TRUE,\n",
    "                   pointsize = 1.2, size = 3)"
   ]
  },
  {
   "cell_type": "code",
   "execution_count": null,
   "id": "7c881ae1",
   "metadata": {
    "fig.height": 4,
    "fig.width": 9
   },
   "outputs": [],
   "source": [
    "plotSpatialFeature(sfe, \"cluster\", colGeometryName = \"cellSeg\", bbox = bbox1) +\n",
    "    plotSpatialFeature(sfe, \"cluster\", colGeometryName = \"cellSeg\", bbox = bbox2) +\n",
    "    plotSpatialFeature(sfe, \"cluster\", colGeometryName = \"cellSeg\", bbox = bbox8) +\n",
    "    plot_layout(guides = \"collect\") &\n",
    "    theme(legend.position = \"bottom\", legend.byrow = TRUE) & \n",
    "    guides(fill = guide_legend(nrow = 2))"
   ]
  },
  {
   "cell_type": "markdown",
   "id": "bc0ba295",
   "metadata": {
    "lines_to_next_cell": 0
   },
   "source": [
    "Since the principal components are spatially structured, the clusters found from the PCs are spatially structured.\n",
    "\n",
    "# Differential expression\n",
    "Cluster marker genes are found with Wilcoxon rank sum test as commonly done for scRNA-seq."
   ]
  },
  {
   "cell_type": "code",
   "execution_count": null,
   "id": "4c7fac63",
   "metadata": {},
   "outputs": [],
   "source": [
    "markers <- findMarkers(sfe, groups = colData(sfe)$cluster,\n",
    "                       test.type = \"wilcox\", pval.type = \"all\", direction = \"up\")"
   ]
  },
  {
   "cell_type": "markdown",
   "id": "52c0cc5e",
   "metadata": {
    "lines_to_next_cell": 0
   },
   "source": [
    "It's already sorted by p-values:"
   ]
  },
  {
   "cell_type": "code",
   "execution_count": null,
   "id": "0c3f6cf3",
   "metadata": {},
   "outputs": [],
   "source": [
    "markers[[6]]"
   ]
  },
  {
   "cell_type": "markdown",
   "id": "a432bee5",
   "metadata": {
    "lines_to_next_cell": 0
   },
   "source": [
    "The code below extracts the significant markers for each cluster:"
   ]
  },
  {
   "cell_type": "code",
   "execution_count": null,
   "id": "fe5bd642",
   "metadata": {},
   "outputs": [],
   "source": [
    "genes_use <- vapply(markers, function(x) rownames(x)[1], FUN.VALUE = character(1))\n",
    "plotExpression(sfe, genes_use, x = \"cluster\", point_fun = function(...) list())"
   ]
  },
  {
   "cell_type": "markdown",
   "id": "7e2aae4e",
   "metadata": {
    "lines_to_next_cell": 0
   },
   "source": [
    "This allows for plotting more top marker genes in a heatmap:"
   ]
  },
  {
   "cell_type": "code",
   "execution_count": null,
   "id": "962a6154",
   "metadata": {
    "fig.height": 8,
    "fig.width": 6
   },
   "outputs": [],
   "source": [
    "genes_use2 <- unique(unlist(lapply(markers, function(x) rownames(x)[1:5])))\n",
    "plotGroupedHeatmap(sfe, genes_use2, group = \"cluster\", colour = scales::viridis_pal()(100))"
   ]
  },
  {
   "cell_type": "markdown",
   "id": "14a94369",
   "metadata": {
    "lines_to_next_cell": 0
   },
   "source": [
    "# Local spatial statistics of marker genes\n",
    "\n",
    "First we plot those genes in space as a reference"
   ]
  },
  {
   "cell_type": "code",
   "execution_count": null,
   "id": "14955ecb",
   "metadata": {
    "fig.height": 9,
    "fig.width": 9
   },
   "outputs": [],
   "source": [
    "plotSpatialFeature(sfe, genes_use, colGeometryName = \"centroids\", ncol = 2,\n",
    "                   pointsize = 0, scattermore = TRUE)"
   ]
  },
  {
   "cell_type": "markdown",
   "id": "7a576311",
   "metadata": {},
   "source": [
    "Global Moran's I of these marker genes is shown below:"
   ]
  },
  {
   "cell_type": "code",
   "execution_count": null,
   "id": "8f58ff58",
   "metadata": {},
   "outputs": [],
   "source": [
    "setNames(rowData(sfe)[genes_use, \"moran_sample01\"], genes_use)"
   ]
  },
  {
   "cell_type": "markdown",
   "id": "bae684a1",
   "metadata": {
    "lines_to_next_cell": 0
   },
   "source": [
    "All these marker genes except for CRHBP have positive spatial autocorrelation, but some stronger than others.\n",
    "\n",
    "Local Moran's I of these marker genes is shown below:"
   ]
  },
  {
   "cell_type": "code",
   "execution_count": null,
   "id": "bc5c69c8",
   "metadata": {},
   "outputs": [],
   "source": [
    "sfe <- runUnivariate(sfe, \"localmoran\", features = genes_use, colGraphName = \"knn5\",\n",
    "                     BPPARAM = MulticoreParam(2))"
   ]
  },
  {
   "cell_type": "code",
   "execution_count": null,
   "id": "810f7245",
   "metadata": {
    "fig.height": 9,
    "fig.width": 9
   },
   "outputs": [],
   "source": [
    "plotLocalResult(sfe, \"localmoran\", features = genes_use, \n",
    "                colGeometryName = \"centroids\", ncol = 2, divergent = TRUE,\n",
    "                diverge_center = 0, scattermore = TRUE, pointsize = 0)"
   ]
  },
  {
   "cell_type": "markdown",
   "id": "d4d80a9f",
   "metadata": {
    "lines_to_next_cell": 0
   },
   "source": [
    "Here we don't see much local negative spatial autocorrelation compared to positive spatial autocorrelation.\n",
    "\n",
    "Also zoom into some of the regions"
   ]
  },
  {
   "cell_type": "code",
   "execution_count": null,
   "id": "bd3967d0",
   "metadata": {
    "fig.height": 9,
    "fig.width": 9
   },
   "outputs": [],
   "source": [
    "plotLocalResult(sfe, \"localmoran\", features = genes_use, \n",
    "                colGeometryName = \"cellSeg\", ncol = 3, divergent = TRUE,\n",
    "                diverge_center = 0, bbox = bbox1)"
   ]
  },
  {
   "cell_type": "code",
   "execution_count": null,
   "id": "f1b2d6df",
   "metadata": {
    "fig.height": 9,
    "fig.width": 9
   },
   "outputs": [],
   "source": [
    "plotLocalResult(sfe, \"localmoran\", features = genes_use, \n",
    "                colGeometryName = \"cellSeg\", ncol = 3, divergent = TRUE,\n",
    "                diverge_center = 0, bbox = bbox2)"
   ]
  },
  {
   "cell_type": "code",
   "execution_count": null,
   "id": "ba57e255",
   "metadata": {
    "fig.height": 9,
    "fig.width": 9
   },
   "outputs": [],
   "source": [
    "plotLocalResult(sfe, \"localmoran\", features = genes_use, \n",
    "                colGeometryName = \"cellSeg\", ncol = 3, divergent = TRUE,\n",
    "                diverge_center = 0, bbox = bbox8)"
   ]
  },
  {
   "cell_type": "markdown",
   "id": "45a37277",
   "metadata": {
    "lines_to_next_cell": 0
   },
   "source": [
    "Zooming in, it's interesting to see local negative spatial autocorrelation of some genes in some regions that don't seem like spatial outliers but seem more to be a pattern, such as VCAN.\n",
    "\n",
    "We can also compute and plot local Moran's I on dimension reduction components such as from PCA and NMF. Concordex does clustering on proportion of spatial neighbors from each non-spatial cluster label, which sounds a little like local Moran's I on the labels. It could be interesting to do clustering on local Moran's I on select genes or on NMF components.\n",
    "\n",
    "# Session info"
   ]
  },
  {
   "cell_type": "code",
   "execution_count": null,
   "id": "e43981f3",
   "metadata": {},
   "outputs": [],
   "source": [
    "sessionInfo()"
   ]
  },
  {
   "cell_type": "markdown",
   "id": "3f157b2f",
   "metadata": {},
   "source": [
    "# References"
   ]
  }
 ],
 "metadata": {
  "kernelspec": {
   "display_name": "R",
   "language": "R",
   "name": "ir"
  }
 },
 "nbformat": 4,
 "nbformat_minor": 5
}
