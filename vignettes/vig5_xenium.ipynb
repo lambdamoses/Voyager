{
 "cells": [
  {
   "cell_type": "raw",
<<<<<<< HEAD
   "id": "de3b1b66",
=======
   "id": "f98b3388",
>>>>>>> documentation
   "metadata": {},
   "source": [
    "---\n",
    "title: \"Xenium breast cancer dataset\"\n",
    "author: \"Lambda Moses\"\n",
    "date: \"`r Sys.Date()`\"\n",
    "output: \n",
    "  html_document:\n",
    "  toc: true\n",
    "  toc_float:\n",
    "    collapsed: false\n",
    "  toc_depth: 3\n",
    "bibliography: ref.bib\n",
    "vignette: >\n",
    "  %\\VignetteIndexEntry{xenium}\n",
    "  %\\VignetteEngine{knitr::rmarkdown}\n",
    "  %\\VignetteEncoding{UTF-8}\n",
    "---"
   ]
  },
  {
   "cell_type": "code",
   "execution_count": null,
<<<<<<< HEAD
   "id": "b2e81d48",
=======
   "id": "114da488",
>>>>>>> documentation
   "metadata": {
    "tags": [
     "remove_cell"
    ]
   },
   "outputs": [],
   "source": [
    "knitr::opts_chunk$set(\n",
    "  collapse = TRUE,\n",
    "  comment = \"#>\", fig.align = \"center\",\n",
    "  eval = FALSE\n",
    ")"
   ]
  },
  {
   "cell_type": "code",
   "execution_count": null,
<<<<<<< HEAD
   "id": "81ca5071",
=======
   "id": "1e82c961",
>>>>>>> documentation
   "metadata": {
    "eval": false,
    "tags": [
     "remove_cell"
    ]
   },
   "outputs": [],
   "source": [
    "# Install Google Colab dependencies\n",
    "# Note: this can take 30+ minutes (many of the dependencies include C++ code, which needs to be compiled)\n",
    "\n",
    "# First install `sf`, `ragg` and `textshaping` and their system dependencies:\n",
    "system(\"apt-get -y update && apt-get install -y  libudunits2-dev libgdal-dev libgeos-dev libproj-dev libharfbuzz-dev libfribidi-dev\")\n",
    "install.packages(\"sf\")\n",
    "install.packages(\"textshaping\")\n",
    "install.packages(\"ragg\")\n",
    "\n",
    "# Install system dependencies of some other R packages that Voyager either imports or suggests:\n",
    "system(\"apt-get install -y libfribidi-dev libcairo2-dev libmagick++-dev\")\n",
    "\n",
    "# Install Voyager from Bioconductor:\n",
    "install.packages(\"BiocManager\")\n",
    "BiocManager::install(version = \"3.17\", ask = FALSE, update = FALSE, Ncpus = 2)\n",
    "BiocManager::install(\"scater\")\n",
    "system.time(\n",
    "  BiocManager::install(\"Voyager\", dependencies = TRUE, Ncpus = 2, update = FALSE)\n",
    ")\n",
    "\n",
    "packageVersion(\"Voyager\")"
   ]
  },
  {
   "cell_type": "markdown",
<<<<<<< HEAD
   "id": "d5629d16",
   "metadata": {},
   "source": [
    "For website when we submit the new Voyager paper:\n",
    "1. mouse OB and muscle for Visium*\n",
    "2. Xenium v2 (this dataset)*\n",
    "3. MERFISH*\n",
    "4. VisiumHD*\n",
    "5. Slide-seq v2\n",
    "6. CosMX\n",
    "7. seqFISH\n",
    "8. CODEX\n",
    "9. both Visium and metabolomics\n",
    "10. non-spatial, check in with Sina for updates\n",
    "\n",
    "Spatial methods for website:\n",
    "1. Univariate"
   ]
  },
  {
   "cell_type": "markdown",
   "id": "ccee88fa",
=======
   "id": "98fb463e",
>>>>>>> documentation
   "metadata": {},
   "source": [
    "# Introduction\n",
    "\n",
    "Xenium is a new technology from 10X genomics for single cell resolution smFISH based spatial transcriptomics. The dataset used here is from adult human pancreatic cancer and processed with Xenium Onboarding Analysis (XOA) v2. It was originally downloaded [here](https://cf.10xgenomics.com/samples/xenium/2.0.0/Xenium_V1_human_Pancreas_FFPE/Xenium_V1_human_Pancreas_FFPE_outs.zip). In the version of the data used here, the large Zarr files have been removed because they're not used here anyway and to speed up download.\n",
    "\n",
    "Here we load the packages used in this vignette."
   ]
  },
  {
   "cell_type": "code",
   "execution_count": null,
<<<<<<< HEAD
   "id": "fb6a1c74",
=======
   "id": "4c0614b9",
>>>>>>> documentation
   "metadata": {
    "message": false,
    "name": "setup"
   },
   "outputs": [],
   "source": [
    "library(Voyager)\n",
    "library(SFEData) \n",
    "library(SingleCellExperiment)\n",
    "library(SpatialExperiment)\n",
    "library(SpatialFeatureExperiment)\n",
    "library(ggplot2)\n",
    "library(ggforce)\n",
    "library(stringr)\n",
    "library(scater) \n",
    "library(scuttle)\n",
    "library(scales)\n",
    "library(BiocParallel)\n",
    "library(BiocSingular)\n",
    "library(bluster)\n",
    "library(scran)\n",
    "library(patchwork)\n",
    "library(RBioFormats)\n",
    "library(fs)\n",
    "library(sf)\n",
    "library(arrow)\n",
    "library(dplyr)\n",
    "library(tidyr)\n",
    "library(BiocNeighbors)\n",
    "theme_set(theme_bw())\n",
    "options(timeout = Inf)"
   ]
  },
  {
   "cell_type": "code",
   "execution_count": null,
<<<<<<< HEAD
   "id": "9cad9d44",
=======
   "id": "ba76d4b1",
>>>>>>> documentation
   "metadata": {},
   "outputs": [],
   "source": [
    "base <- \"/Volumes/Archives\"\n",
    "if (!dir.exists(file.path(base, \"xenium2_pancreas\"))) {\n",
    "    download.file(\"https://caltech.box.com/shared/static/6yvpahb97dgp4y2gx7oqjktom9a7qp3o\",\n",
    "                  destfile = file.path(base, \"xenium2_pancreas.tar.gz\"))\n",
    "    untar(file.path(base, \"xenium2_pancreas.tar.gz\"), exdir = base)\n",
    "}\n",
    "fn <- file.path(base, \"xenium2_pancreas\")"
   ]
  },
  {
   "cell_type": "markdown",
<<<<<<< HEAD
   "id": "b9084683",
=======
   "id": "42bc9bd6",
>>>>>>> documentation
   "metadata": {
    "lines_to_next_cell": 0
   },
   "source": [
    "This should be the standard XOA v2 output file structure (excluding the Zarr files)"
   ]
  },
  {
   "cell_type": "code",
   "execution_count": null,
<<<<<<< HEAD
   "id": "a229ea94",
=======
   "id": "dcb134e5",
>>>>>>> documentation
   "metadata": {},
   "outputs": [],
   "source": [
    "dir_tree(fn)"
   ]
  },
  {
   "cell_type": "markdown",
<<<<<<< HEAD
   "id": "fa20e1b3",
=======
   "id": "ba920b62",
>>>>>>> documentation
   "metadata": {},
   "source": [
    "The gene count matrix is in the `cell_feature_matrix` h5 or tar.gz file. The cell metadata is in the `cells.csv.gz` or `cells.parquet` file. The cell segmentation polygon vertices are in the `cell_boundaries.csv.gz` or `parquet` file. The nucleus segmentation polygon vertices are in the `nucleus_boundaries.csv.gz` or `parquet` files. The transcript spot coordinates are in the `transcripts.csv.gz` or `parquet` file. The images for different histological stains are in the `morphology_focus` directory. These are the files relevant to the SFE objects; see [10X documentation](https://www.10xgenomics.com/support/software/xenium-onboard-analysis/latest/analysis/xoa-output-at-a-glance) for what the other files are.\n",
    "\n",
    "The `readXenium()` function in `SpatialFeatureExperiment` reads XOA v1 and v2 outputs into R."
   ]
  },
  {
   "cell_type": "code",
   "execution_count": null,
   "id": "021b311b",
   "metadata": {},
   "outputs": [],
   "source": [
    "# Annoying RBioFormats bug\n",
    "try(sfe <- readXenium(fn))\n",
    "# Use gene symbols as row names but Ensembl IDs are still in rowData(sfe)\n",
    "(sfe <- readXenium(fn, row.names = \"symbol\"))"
   ]
  },
  {
   "cell_type": "markdown",
   "id": "77ccabdd",
   "metadata": {},
   "source": [
    "There are 140702 cells in this dataset, a little more than in the CosMX dataset.\n",
    "\n",
    "This is what the tissue, with the cell outlines, looks like"
   ]
  },
  {
   "cell_type": "code",
   "execution_count": null,
<<<<<<< HEAD
   "id": "f161d9d0",
   "metadata": {
    "fig.height": 3,
    "fig.width": 6
   },
=======
   "id": "b8e5b9e0",
   "metadata": {},
>>>>>>> documentation
   "outputs": [],
   "source": [
    "plotGeometry(sfe, \"cellSeg\")"
   ]
  },
  {
   "cell_type": "markdown",
<<<<<<< HEAD
   "id": "1c48ecb4",
   "metadata": {
    "lines_to_next_cell": 0
   },
   "source": [
    "Plot the nuclei"
   ]
  },
  {
   "cell_type": "code",
   "execution_count": null,
   "id": "4075d1c2",
   "metadata": {
    "fig.height": 3,
    "fig.width": 6
   },
   "outputs": [],
   "source": [
    "plotGeometry(sfe, \"nucSeg\")"
   ]
  },
  {
   "cell_type": "markdown",
   "id": "3aa9160c",
=======
   "id": "c69bd260",
>>>>>>> documentation
   "metadata": {
    "lines_to_next_cell": 0
   },
   "source": [
    "Plot cell density in space"
   ]
  },
  {
   "cell_type": "code",
   "execution_count": null,
<<<<<<< HEAD
   "id": "ae5bdcfc",
   "metadata": {
    "fig.height": 2.5,
    "fig.width": 6
   },
=======
   "id": "5d9d3820",
   "metadata": {},
>>>>>>> documentation
   "outputs": [],
   "source": [
    "plotCellBin2D(sfe, binwidth = 50)"
   ]
  },
  {
   "cell_type": "markdown",
<<<<<<< HEAD
   "id": "9f7515df",
=======
   "id": "55f32ab7",
>>>>>>> documentation
   "metadata": {},
   "source": [
    "There are clearly two different regions, one with high cell density, the other with lower density. They also seem to have very different spatial structures.\n",
    "\n",
    "Plot total transcript density"
   ]
  },
  {
   "cell_type": "code",
   "execution_count": null,
   "id": "7cf1ff93",
   "metadata": {},
   "outputs": [],
   "source": [
    "tx <- read_parquet(\"/Volumes/Archives/xenium2_pancreas/transcripts.parquet\")"
   ]
  },
  {
   "cell_type": "code",
   "execution_count": null,
   "id": "7a5ce1d9",
   "metadata": {
    "fig.height": 2.5,
    "fig.width": 6
   },
   "outputs": [],
   "source": [
    "ggplot(tx, aes(x_location, -y_location)) +\n",
    "    geom_bin2d(binwidth = 50) +\n",
    "    scale_fill_distiller(palette = \"Blues\", direction = 1) +\n",
    "    coord_equal() +\n",
    "    labs(x = NULL, y = NULL)"
   ]
  },
  {
   "cell_type": "markdown",
   "id": "0cf9ad7c",
   "metadata": {},
   "source": [
    "Cool, so the region with higher cell density also has higher transcript density.\n",
    "\n",
    "Plot the images; the image has 4 channels, which are DAPI, ATP1A1/CD45/E-Cadherin, 18S, and AlphaSMA/Vimentin, in this order. The images are pyramids with multiple resolutions; some applications would not require the highest resolution. The file for each channel is around 370 MB. Only the metadata is read in R and only the relevant portion of the image at the highest resolution necessary is loaded into memory when needed, say when plotting. "
   ]
  },
  {
   "cell_type": "code",
   "execution_count": null,
   "id": "3f7294b1",
   "metadata": {},
   "outputs": [],
   "source": [
    "getImg(sfe)"
   ]
  },
  {
   "cell_type": "markdown",
   "id": "25a2f22c",
   "metadata": {
    "lines_to_next_cell": 0
   },
   "source": [
    "There are 4 image files, each for one channel, though the XML metadata of the files connect them together so BioFormats treats them as one file."
   ]
  },
  {
   "cell_type": "code",
   "execution_count": null,
   "id": "49bfa1ae",
   "metadata": {},
   "outputs": [],
   "source": [
    "dir_tree(dirname(imgSource(getImg(sfe))))"
   ]
  },
  {
   "cell_type": "markdown",
   "id": "cffa7d55",
   "metadata": {
    "lines_to_next_cell": 0
   },
   "source": [
    "The image can be plotted with `plotImage()` in `Voyager`, but only up to 3 channels can be ploted at the same time. Say plot 18S (red), ATP1A1/CD45/E-Cadherin (green), and DAPI (blue). These are specified in the `channel` argument, using channel indices. When using 3 channels, by default the indices correspond to R, G, and B channels in this order. The `normalize_channels` argument determines if the channels should be normalized individually in case the different channels have different dynamic ranges. We recommend setting it to `TRUE` for fluorescent images where each channel is separated separately using different fluorophores but not the bright field images where the RGB channels are imaged simultaneously."
   ]
  },
  {
   "cell_type": "code",
   "execution_count": null,
   "id": "0f95b5c3",
   "metadata": {
    "fig.height": 3,
    "fig.width": 6
   },
   "outputs": [],
   "source": [
    "plotImage(sfe, image_id = \"morphology_focus\", channel = 3:1, show_axes = TRUE,\n",
    "          dark = TRUE, normalize_channels = TRUE)"
   ]
  },
  {
   "cell_type": "markdown",
   "id": "dc2789b8",
   "metadata": {
    "lines_to_next_cell": 0
   },
   "source": [
    "Zoom into smaller regions, one in the dense region, another in the sparser region"
   ]
  },
  {
   "cell_type": "code",
   "execution_count": null,
   "id": "4ce4731e",
   "metadata": {},
   "outputs": [],
   "source": [
    "bbox1 <- c(xmin = 5500, xmax = 6000, ymin = -1250, ymax = -750)\n",
    "bbox2 <- c(xmin = 1500, xmax = 2000, ymin = -2000, ymax = -1500)"
   ]
  },
  {
   "cell_type": "markdown",
   "id": "5bf14786",
   "metadata": {
    "lines_to_next_cell": 0
   },
   "source": [
    "Plot the bounding boxes in the full image"
   ]
  },
  {
   "cell_type": "code",
   "execution_count": null,
   "id": "9faef543",
   "metadata": {
    "fig.height": 3,
    "fig.width": 6
   },
   "outputs": [],
   "source": [
    "bboxes_sf <- c(st_as_sfc(st_bbox(bbox1)), st_as_sfc(st_bbox(bbox2)))\n",
    "plotImage(sfe, image_id = \"morphology_focus\", channel = 3:1, show_axes = TRUE,\n",
    "          dark = TRUE, normalize_channels = TRUE) +\n",
    "    geom_sf(data = bboxes_sf, fill = NA, color = \"white\")"
   ]
  },
  {
   "cell_type": "code",
   "execution_count": null,
   "id": "769ee181",
   "metadata": {},
   "outputs": [],
   "source": [
    "plotImage(sfe, image_id = \"morphology_focus\", channel = 3:1,\n",
    "          bbox = bbox1, normalize_channels = TRUE)"
   ]
  },
  {
   "cell_type": "code",
   "execution_count": null,
   "id": "8781a86c",
   "metadata": {},
   "outputs": [],
   "source": [
    "plotImage(sfe, image_id = \"morphology_focus\", channel = 3:1,\n",
    "          bbox = bbox2, normalize_channels = TRUE)"
   ]
  },
  {
   "cell_type": "markdown",
   "id": "1ad4049e",
   "metadata": {
    "lines_to_next_cell": 0
   },
   "source": [
    "Since we're using the RGB channels for color, this is not colorblind friendly. Plot the channels separately to be colorblind friendly:"
   ]
  },
  {
   "cell_type": "code",
   "execution_count": null,
   "id": "4a392cd6",
   "metadata": {},
   "outputs": [],
   "source": [
    "p1 <- plotImage(sfe, image_id = \"morphology_focus\", channel = 1,\n",
    "          bbox = bbox2) +\n",
    "    ggtitle(\"DAPI\")\n",
    "p2 <- plotImage(sfe, image_id = \"morphology_focus\", channel = 2,\n",
    "          bbox = bbox2) +\n",
    "    ggtitle(\"ATP1A1/CD45/E-Cadherin\")\n",
    "p1 + p2"
   ]
  },
  {
   "cell_type": "markdown",
   "id": "9113beb0",
   "metadata": {
    "lines_to_next_cell": 0
   },
   "source": [
    "We can also use a different color map for single channels, such as viridis"
   ]
  },
  {
   "cell_type": "code",
   "execution_count": null,
   "id": "89232706",
   "metadata": {},
   "outputs": [],
   "source": [
    "plotImage(sfe, image_id = \"morphology_focus\", channel = 1,\n",
    "          bbox = bbox2, palette = viridis_pal()(255))"
   ]
  },
  {
   "cell_type": "markdown",
   "id": "59b4cee4",
   "metadata": {
    "lines_to_next_cell": 0
   },
   "source": [
    "We can also plot the cell and nuclei geometries on top of the images"
   ]
  },
  {
   "cell_type": "code",
   "execution_count": null,
   "id": "916efca0",
   "metadata": {},
   "outputs": [],
   "source": [
    "plotGeometry(sfe, \"cellSeg\", fill = FALSE, dark = TRUE,\n",
    "             image_id = \"morphology_focus\", \n",
    "             channel = 3:1, bbox = bbox1, normalize_channels = TRUE)"
   ]
  },
  {
   "cell_type": "code",
   "execution_count": null,
   "id": "bed7478f",
   "metadata": {},
   "outputs": [],
   "source": [
    "plotGeometry(sfe, \"nucSeg\", fill = FALSE, dark = TRUE,\n",
    "             image_id = \"morphology_focus\", \n",
    "             channel = 3:1, bbox = bbox1, normalize_channels = TRUE)"
   ]
  },
  {
   "cell_type": "markdown",
   "id": "4525035e",
   "metadata": {
    "lines_to_next_cell": 0
   },
   "source": [
    "Plot cells and nuclei together; since there're still quite a lot of cells in that bounding box and the plot looks busy, we can use a even smaller bounding box to plus both cells and nuclei"
   ]
  },
  {
   "cell_type": "code",
   "execution_count": null,
   "id": "816b9da5",
   "metadata": {},
   "outputs": [],
   "source": [
    "bbox3 <- c(xmin = 5750, xmax = 6000, ymin = -1100, ymax = -850)\n",
    "nuc <- st_intersection(st_as_sfc(st_bbox(bbox3)), nucSeg(sfe))\n",
    "nuc <- nuc - bbox3[c(\"xmin\", \"ymin\")]"
   ]
  },
  {
   "cell_type": "code",
   "execution_count": null,
   "id": "dac30b51",
   "metadata": {},
   "outputs": [],
   "source": [
    "plotGeometry(sfe, \"cellSeg\", fill = FALSE, dark = TRUE,\n",
    "             image_id = \"morphology_focus\", \n",
    "             channel = 3:1, bbox = bbox3, normalize_channels = TRUE) +\n",
    "    geom_sf(data = nuc, fill = NA, color = \"magenta\")"
   ]
  },
  {
   "cell_type": "markdown",
   "id": "55095fcf",
   "metadata": {
    "lines_to_next_cell": 0
   },
   "source": [
    "# Quality control\n",
<<<<<<< HEAD
=======
    "## Cells\n",
    "Some QC metrics are precomputed and are stored in `colData`"
   ]
  },
  {
   "cell_type": "code",
   "execution_count": null,
   "id": "3be785dc",
   "metadata": {},
   "outputs": [],
   "source": [
    "names(colData(sfe))"
   ]
  },
  {
   "cell_type": "markdown",
   "id": "1b3a24bb",
   "metadata": {},
   "source": [
    "Since there're more cells, it would be better to plot the tissue larger, so we'll plot the histogram of QC metrics and the spatial plots separately, unlike in the CosMx vignette."
   ]
  },
  {
   "cell_type": "code",
   "execution_count": null,
   "id": "64e1de7a",
   "metadata": {},
   "outputs": [],
   "source": [
    "n_panel <- 313\n",
    "colData(sfe)$nCounts_normed <- sfe$nCounts/n_panel\n",
    "colData(sfe)$nGenes_normed <- sfe$nGenes/n_panel"
   ]
  },
  {
   "cell_type": "markdown",
   "id": "2b5e2287",
   "metadata": {},
   "source": [
    "Here we divided nCounts by the total number of genes probed, so this histogram is comparable to those from other smFISH-based datasets. "
   ]
  },
  {
   "cell_type": "code",
   "execution_count": null,
   "id": "989cb4d4",
   "metadata": {},
   "outputs": [],
   "source": [
    "plotColDataHistogram(sfe, c(\"nCounts_normed\", \"nGenes_normed\"))"
   ]
  },
  {
   "cell_type": "markdown",
   "id": "d5dadce1",
   "metadata": {},
   "source": [
    "Compared to the [FFPE CosMX non-small cell lung cancer dataset](https://pachterlab.github.io/voyager/articles/vig4_cosmx.html#cells), more transcripts per gene on average and a larger proportion of all genes are detected in this dataset, which is also FFPE. However, this should be interpreted with care, since these two datasets are from different tissues and have different gene panels, so this may or may not indicate that Xenium has better detection efficiency than CosMX."
   ]
  },
  {
   "cell_type": "code",
   "execution_count": null,
   "id": "5e06aa22",
   "metadata": {},
   "outputs": [],
   "source": [
    "plotSpatialFeature(sfe, \"nCounts\", colGeometryName = \"cellSeg\")"
   ]
  },
  {
   "cell_type": "markdown",
   "id": "d309a0c5",
   "metadata": {},
   "source": [
    "There seem to be FOV artifacts. However, the cell ID and FOV information were unavailable so we cannot examine them. "
   ]
  },
  {
   "cell_type": "code",
   "execution_count": null,
   "id": "31533391",
   "metadata": {},
   "outputs": [],
   "source": [
    "plotSpatialFeature(sfe, \"nGenes\", colGeometryName = \"cellSeg\")"
   ]
  },
  {
   "cell_type": "markdown",
   "id": "cc1d055d",
   "metadata": {
    "lines_to_next_cell": 0
   },
   "source": [
    "A standard examination is to look at the relationship between nCounts and nGenes:"
   ]
  },
  {
   "cell_type": "code",
   "execution_count": null,
   "id": "b4d45365",
   "metadata": {},
   "outputs": [],
   "source": [
    "plotColData(sfe, x=\"nCounts\", y=\"nGenes\", bins = 100)"
   ]
  },
  {
   "cell_type": "markdown",
   "id": "915cd4a7",
   "metadata": {
    "lines_to_next_cell": 0
   },
   "source": [
    "There appear to be two branches. \n",
    "\n",
    "Here we plot the distribution of cell area"
   ]
  },
  {
   "cell_type": "code",
   "execution_count": null,
   "id": "4ebded9f",
   "metadata": {},
   "outputs": [],
   "source": [
    "plotColDataHistogram(sfe, c(\"cell_area\", \"nucleus_area\"), scales = \"free_y\")"
   ]
  },
  {
   "cell_type": "markdown",
   "id": "d23dd607",
   "metadata": {
    "lines_to_next_cell": 0
   },
   "source": [
    "That should be in pixels. There's a very long tail. The nuclei are much smaller than the cells.\n",
    "\n",
    "How is cell area distributed in space?"
   ]
  },
  {
   "cell_type": "code",
   "execution_count": null,
   "id": "5160a6be",
   "metadata": {},
   "outputs": [],
   "source": [
    "plotSpatialFeature(sfe, \"cell_area\", colGeometryName = \"cellSeg\")"
   ]
  },
  {
   "cell_type": "markdown",
   "id": "0256c3a4",
   "metadata": {
    "lines_to_next_cell": 0
   },
   "source": [
    "Cells in the sparse region tend to be larger than those in the dense region. This may be biological or an artifact of the cell segmentation algorithm or both.\n",
    "\n",
    "Here the nuclei segmentations are plotted instead of cell segmentation. The nuclei are much smaller to the extent that they are difficult to see."
   ]
  },
  {
   "cell_type": "code",
   "execution_count": null,
   "id": "18264b05",
   "metadata": {},
   "outputs": [],
   "source": [
    "plotSpatialFeature(sfe, \"nucleus_area\", colGeometryName = \"nucSeg\")"
   ]
  },
  {
   "cell_type": "markdown",
   "id": "3c4ab35a",
   "metadata": {
    "lines_to_next_cell": 0
   },
   "source": [
    "There's an outlier near the right edge of the section, throwing off the dynamic range of the plot. Upon inspection of the H&E image, the outlier is a bit of tissue debris that doesn't look like a cell. But we can still that cells in the dense, gland like regions tend to have larger nuclei. This may be biological, or that nuclei are so densely packed in those regions that they are more likely to be undersegmented, i.e. when multiple nuclei are counted as one by the nuclei segmentation program, or both.\n",
    "\n",
    "These observations motivate an examination of the relationship between cell area and nuclei area:"
   ]
  },
  {
   "cell_type": "code",
   "execution_count": null,
   "id": "125380c5",
   "metadata": {},
   "outputs": [],
   "source": [
    "plotColData(sfe, x=\"cell_area\", y=\"nucleus_area\", bins = 100)"
   ]
  },
  {
   "cell_type": "markdown",
   "id": "e182fa85",
   "metadata": {},
   "source": [
    "Again, there are two branches, probably related to cell density and cell type. The nucleus outlier also has large cell area, though it is not as much an outlier in cell area. However, it is a spatial outlier as it's unusually large compared to its neighbors (scroll up two plots back). \n",
    "\n",
    "Next we calculate the proportion of cell in this z-plane taken up by the nucleus, and examine the distribution:"
   ]
  },
  {
   "cell_type": "code",
   "execution_count": null,
   "id": "8773ddb5",
   "metadata": {},
   "outputs": [],
   "source": [
    "colData(sfe)$prop_nuc <- sfe$nucleus_area / sfe$cell_area"
   ]
  },
  {
   "cell_type": "code",
   "execution_count": null,
   "id": "9c6f66b5",
   "metadata": {},
   "outputs": [],
   "source": [
    "plotColDataHistogram(sfe, \"prop_nuc\")"
   ]
  },
  {
   "cell_type": "markdown",
   "id": "cb42f74c",
   "metadata": {
    "lines_to_next_cell": 0
   },
   "source": [
    "This distribution could have been generated from two peaks that were combined. From the histogram, there do not seem to be cells without nuclei or segmentation artifacts where the nucleus is larger than the cell. However, there are so many cells in this dataset and it is possible that just a few cells would not be visible on this histogram. We double check:"
   ]
  },
  {
   "cell_type": "code",
   "execution_count": null,
   "id": "c5889575",
   "metadata": {},
   "outputs": [],
   "source": [
    "# No nucleus\n",
    "sum(sfe$nucleus_area < 1)\n",
    "# Nucleus larger than cell\n",
    "sum(sfe$nucleus_area > sfe$cell_area)"
   ]
  },
  {
   "cell_type": "markdown",
   "id": "b12a07a5",
   "metadata": {
    "lines_to_next_cell": 0
   },
   "source": [
    "So there are no cells without nuclei or nuclei larger than their cells. Here we plot the nuclei proportion in space:"
   ]
  },
  {
   "cell_type": "code",
   "execution_count": null,
   "id": "56f6a080",
   "metadata": {},
   "outputs": [],
   "source": [
    "plotSpatialFeature(sfe, \"prop_nuc\", colGeometryName = \"cellSeg\")"
   ]
  },
  {
   "cell_type": "markdown",
   "id": "9112612a",
   "metadata": {
    "lines_to_next_cell": 0
   },
   "source": [
    "Cells in some histological regions have larger proportions occupied by the nuclei. It is interesting to check, controlling for cell type, how cell area, nucleus area, and the proportion of cell occupied by nucleus relate to gene expression. However, a problem in performing such an analysis is that cell segmentation is only available for one z-plane here and these areas also relate to where this z-plane intersects each cell. \n",
    "\n",
    "Below we plot a 2D histogram to better show the density of points on this plot:"
   ]
  },
  {
   "cell_type": "code",
   "execution_count": null,
   "id": "2c1687b1",
   "metadata": {},
   "outputs": [],
   "source": [
    "plotColData(sfe, x=\"cell_area\", y=\"prop_nuc\")"
   ]
  },
  {
   "cell_type": "markdown",
   "id": "23a082c7",
   "metadata": {
    "lines_to_next_cell": 0
   },
   "source": [
    "Smaller cells tend to have higher proportion occupied by the nucleus. This can be related to cell type, or it could be a limitation in how small the nuclei can be in this tissue.\n",
    "\n",
    "We also examine the relationship between nucleus area and the proportion of cell occupied by the nucleus:"
   ]
  },
  {
   "cell_type": "code",
   "execution_count": null,
   "id": "a18ad771",
   "metadata": {},
   "outputs": [],
   "source": [
    "plotColData(sfe, x=\"nucleus_area\", y=\"prop_nuc\", bins = 100)"
   ]
  },
  {
   "cell_type": "markdown",
   "id": "690e7755",
   "metadata": {
    "lines_to_next_cell": 0
   },
   "source": [
    "The outlier is obvious. There are more cells with both small nuclei and low proportion of area occupied by the nucleus.\n",
    "\n",
>>>>>>> documentation
    "## Negative controls\n",
    "Some of the features are not genes but negative controls"
   ]
  },
  {
   "cell_type": "code",
   "execution_count": null,
<<<<<<< HEAD
   "id": "d3d5f115",
=======
   "id": "5badcd0d",
>>>>>>> documentation
   "metadata": {},
   "outputs": [],
   "source": [
    "names(rowData(sfe))"
   ]
  },
  {
   "cell_type": "code",
   "execution_count": null,
   "id": "ca9f8f95",
   "metadata": {},
   "outputs": [],
   "source": [
    "unique(rowData(sfe)$Type)"
   ]
  },
  {
   "cell_type": "markdown",
<<<<<<< HEAD
   "id": "3373927e",
=======
   "id": "150132ee",
>>>>>>> documentation
   "metadata": {},
   "source": [
    "According to the Xenium paper [@Janesick2022-rp], there are 3 types of controls:\n",
    "\n",
    "> 1) probe controls to assess non-specific binding to RNA, \n",
    "2) decoding controls to assess misassigned genes, and \n",
    "3) genomic DNA (gDNA) controls to ensure the signal is from RNA.\n",
    "\n",
    "The paper does not explain in detail how those control probes were designed. The negative controls give us a sense of the false positive rate."
   ]
  },
  {
   "cell_type": "code",
   "execution_count": null,
<<<<<<< HEAD
   "id": "3bf450f5",
=======
   "id": "c6c97277",
>>>>>>> documentation
   "metadata": {},
   "outputs": [],
   "source": [
    "is_blank <- rowData(sfe)$Type == \"Unassigned Codeword\"\n",
    "sum(is_blank)"
   ]
  },
  {
   "cell_type": "markdown",
<<<<<<< HEAD
   "id": "ef6237eb",
=======
   "id": "7b456f4b",
>>>>>>> documentation
   "metadata": {
    "lines_to_next_cell": 0
   },
   "source": [
    "This should be number 1, the probe control"
   ]
  },
  {
   "cell_type": "code",
   "execution_count": null,
<<<<<<< HEAD
   "id": "ad4c46bb",
=======
   "id": "aae88081",
>>>>>>> documentation
   "metadata": {},
   "outputs": [],
   "source": [
    "is_neg <- rowData(sfe)$Type == \"Negative Control Probe\"\n",
    "sum(is_neg)"
   ]
  },
  {
   "cell_type": "markdown",
<<<<<<< HEAD
   "id": "9eaf3635",
=======
   "id": "27eb1f7d",
>>>>>>> documentation
   "metadata": {
    "lines_to_next_cell": 0
   },
   "source": [
    "This should be number 2, the decoding control"
   ]
  },
  {
   "cell_type": "code",
   "execution_count": null,
<<<<<<< HEAD
   "id": "88225c54",
=======
   "id": "7279943c",
>>>>>>> documentation
   "metadata": {},
   "outputs": [],
   "source": [
    "is_neg2 <- rowData(sfe)$Type == \"Negative Control Codeword\"\n",
    "sum(is_neg2)"
   ]
  },
  {
   "cell_type": "markdown",
<<<<<<< HEAD
   "id": "06df5972",
=======
   "id": "49768b5f",
   "metadata": {
    "lines_to_next_cell": 0
   },
   "source": [
    "This must be number 3, gDNA control"
   ]
  },
  {
   "cell_type": "code",
   "execution_count": null,
   "id": "63b5ee94",
   "metadata": {},
   "outputs": [],
   "source": [
    "is_anti <- str_detect(rownames(sfe), \"^antisense\")\n",
    "sum(is_anti)"
   ]
  },
  {
   "cell_type": "markdown",
   "id": "cbe59dc2",
>>>>>>> documentation
   "metadata": {
    "lines_to_next_cell": 0
   },
   "source": [
    "Also make an indicator of whether a feature is any sort of negative control"
   ]
  },
  {
   "cell_type": "code",
   "execution_count": null,
<<<<<<< HEAD
   "id": "0ea2f989",
=======
   "id": "63dcb37b",
>>>>>>> documentation
   "metadata": {},
   "outputs": [],
   "source": [
    "is_any_neg <- is_blank | is_neg | is_neg2"
   ]
  },
  {
   "cell_type": "markdown",
<<<<<<< HEAD
   "id": "2d94b57b",
=======
   "id": "3850a4e7",
>>>>>>> documentation
   "metadata": {
    "lines_to_next_cell": 0
   },
   "source": [
    "The `addPerCellQCMetrics()` function in the `scuttle` package can conveniently add transcript counts, proportion of total counts, and number of features detected for any subset of features to the SCE object. Here we do this for the SFE object, as SFE inherits from SCE. "
   ]
  },
  {
   "cell_type": "code",
   "execution_count": null,
<<<<<<< HEAD
   "id": "f4ac603a",
=======
   "id": "1a448f14",
>>>>>>> documentation
   "metadata": {},
   "outputs": [],
   "source": [
    "sfe <- addPerCellQCMetrics(sfe, subsets = list(unassigned = is_blank,\n",
    "                                               negProbe = is_neg,\n",
    "                                               negCodeword = is_neg2,\n",
    "                                               any_neg = is_any_neg))"
   ]
  },
  {
   "cell_type": "code",
   "execution_count": null,
<<<<<<< HEAD
   "id": "63a97bdb",
=======
   "id": "f3922042",
>>>>>>> documentation
   "metadata": {},
   "outputs": [],
   "source": [
    "names(colData(sfe))"
   ]
  },
  {
   "cell_type": "markdown",
<<<<<<< HEAD
   "id": "f11c4bd4",
=======
   "id": "f98ee8e1",
>>>>>>> documentation
   "metadata": {},
   "source": [
    "Next we plot the proportion of transcript counts coming from any negative control. "
   ]
  },
  {
   "cell_type": "code",
   "execution_count": null,
<<<<<<< HEAD
   "id": "0b1fd4d4",
=======
   "id": "954aa2e7",
>>>>>>> documentation
   "metadata": {},
   "outputs": [],
   "source": [
    "cols_use <- names(colData(sfe))[str_detect(names(colData(sfe)), \"_percent$\")]\n",
    "plotColDataHistogram(sfe, cols_use, bins = 100)"
   ]
  },
  {
   "cell_type": "markdown",
<<<<<<< HEAD
   "id": "e1793a14",
=======
   "id": "85f822e9",
>>>>>>> documentation
   "metadata": {
    "lines_to_next_cell": 0
   },
   "source": [
    "The histogram is dominated by the bin at zero and there are some extreme outliers too few to be seen but evident from the scale of the x axis. We also plot the histogram only for cells with at least 1 count from a negative control. The NA's come from cells that got segmented but have no transcripts detected."
   ]
  },
  {
   "cell_type": "code",
   "execution_count": null,
<<<<<<< HEAD
   "id": "56c57317",
=======
   "id": "e1e71b2a",
>>>>>>> documentation
   "metadata": {},
   "outputs": [],
   "source": [
    "plotColDataHistogram(sfe, cols_use, bins = 100) + \n",
    "    scale_x_log10() +\n",
    "    annotation_logticks(sides = \"b\")"
   ]
  },
  {
   "cell_type": "markdown",
<<<<<<< HEAD
   "id": "6a21f0aa",
=======
   "id": "9b3cde18",
>>>>>>> documentation
   "metadata": {
    "lines_to_next_cell": 0
   },
   "source": [
    "For the most part cells have less than 10% of spots assigned to the negative controls.\n",
    "\n",
    "Next we plot the distribution of the number of negative control counts per cell:"
   ]
  },
  {
   "cell_type": "code",
   "execution_count": null,
<<<<<<< HEAD
   "id": "d26238a8",
=======
   "id": "9bf14ce2",
>>>>>>> documentation
   "metadata": {},
   "outputs": [],
   "source": [
    "cols_use <- names(colData(sfe))[str_detect(names(colData(sfe)), \"_sum$\")]\n",
    "plotColDataHistogram(sfe, cols_use, bins = 20, ncol = 2) +\n",
    "    # Avoid decimal breaks on x axis unless there're too few breaks\n",
    "    scale_x_continuous(breaks = scales::breaks_extended(Q = c(1,2,5))) +\n",
    "    scale_y_log10() +\n",
    "    annotation_logticks(sides = \"l\")"
   ]
  },
  {
   "cell_type": "markdown",
<<<<<<< HEAD
   "id": "1ead60d5",
=======
   "id": "e9b84d22",
>>>>>>> documentation
   "metadata": {},
   "source": [
    "The counts are low, mostly zero, but there are some cells with up to 2 counts of all types aggregated. Then the outlier with 30% of counts from negative controls must have very low total real transcript counts to begin with. The negative controls indicates the prevalence of false positives. Here we have only about 2000 out of over 140,000 that have negative control spots detected. About `r format(sum(tx$feature_name %in% rownames(sfe)[is_any_neg])/nrow(tx)*100, digits = 3)`% are negative control spots, so false positive rate is low."
   ]
  },
  {
   "cell_type": "code",
   "execution_count": null,
<<<<<<< HEAD
   "id": "d3c527f4",
=======
   "id": "0cca3dae",
   "metadata": {},
   "outputs": [],
   "source": [
    "get_neg_ctrl_outliers <- function(col, sfe) {\n",
    "    inds <- colData(sfe)$nCounts > 0 & colData(sfe)[[col]] > 0\n",
    "    df <- colData(sfe)[inds,]\n",
    "    outlier_inds <- isOutlier(df[[col]], type = \"higher\")\n",
    "    outliers <- rownames(df)[outlier_inds]\n",
    "    col2 <- str_remove(col, \"^subsets_\")\n",
    "    col2 <- str_remove(col2, \"_percent$\")\n",
    "    new_colname <- paste(\"is\", col2, \"outlier\", sep = \"_\")\n",
    "    colData(sfe)[[new_colname]] <- colnames(sfe) %in% outliers\n",
    "    sfe\n",
    "}"
   ]
  },
  {
   "cell_type": "code",
   "execution_count": null,
   "id": "c7bac854",
   "metadata": {},
   "outputs": [],
   "source": [
    "cols_use <- names(colData(sfe))[str_detect(names(colData(sfe)), \"_percent$\")]\n",
    "for (n in cols_use) {\n",
    "    sfe <- get_neg_ctrl_outliers(n, sfe)\n",
    "}"
   ]
  },
  {
   "cell_type": "code",
   "execution_count": null,
   "id": "8468ccf2",
>>>>>>> documentation
   "metadata": {},
   "outputs": [],
   "source": [
    "names(colData(sfe))"
   ]
  },
  {
   "cell_type": "markdown",
<<<<<<< HEAD
   "id": "c450678d",
=======
   "id": "0261173d",
>>>>>>> documentation
   "metadata": {
    "lines_to_next_cell": 0
   },
   "source": [
    "Where are cells with higher proportion of negative control spots (i.e. low total counts and have negative control spots detected, >10% here) located in space?"
   ]
  },
  {
   "cell_type": "code",
   "execution_count": null,
<<<<<<< HEAD
   "id": "eab66505",
   "metadata": {},
   "outputs": [],
   "source": [
    "data(\"ditto_colors\")"
=======
   "id": "abded55a",
   "metadata": {},
   "outputs": [],
   "source": [
    "plotSpatialFeature(sfe, \"is_blank_outlier\", colGeometryName = \"cellSeg\")"
   ]
  },
  {
   "cell_type": "markdown",
   "id": "fdf6515d",
   "metadata": {
    "lines_to_next_cell": 0
   },
   "source": [
    "We find that the outliers are difficult to see:"
>>>>>>> documentation
   ]
  },
  {
   "cell_type": "code",
   "execution_count": null,
<<<<<<< HEAD
   "id": "bd463c57",
=======
   "id": "72084d33",
>>>>>>> documentation
   "metadata": {},
   "outputs": [],
   "source": [
    "sfe$more_neg <- sfe$subsets_any_neg_percent > 10\n",
    "plotSpatialFeature(sfe, \"subsets_any_neg_sum\", colGeometryName = \"cellSeg\",\n",
    "                   show_axes = TRUE) +\n",
    "    geom_sf(data = SpatialFeatureExperiment::centroids(sfe)[sfe$more_neg,],\n",
    "            size = 0.5, color = ditto_colors[1]) +\n",
    "    theme(legend.position = \"bottom\")"
   ]
  },
  {
   "cell_type": "markdown",
<<<<<<< HEAD
   "id": "3fb5cfa6",
   "metadata": {},
   "source": [
    "Cells that have any negative control spots appear to be randomly distributed in space, but cells that have higher proportion of negative control seem to be few and over-represented in the less dense area, because the proportion is higher when total transcript counts are lower to begin with.\n",
=======
   "id": "52f6d90a",
   "metadata": {
    "lines_to_next_cell": 0
   },
   "source": [
    "The analysis reveals that the outliers seem to be smaller. Outliers for negative probe controls and negative codeword controls are also hard to see on the plot, so their plots are skipped here. But the top left region in the tissue tends to have more counts from antisense controls. "
   ]
  },
  {
   "cell_type": "code",
   "execution_count": null,
   "id": "3815dce5",
   "metadata": {},
   "outputs": [],
   "source": [
    "plotSpatialFeature(sfe, \"is_anti_outlier\", colGeometryName = \"cellSeg\")"
   ]
  },
  {
   "cell_type": "markdown",
   "id": "2d057d88",
   "metadata": {},
   "source": [
    "Now that we have identified the outliers, we can remove them along with empty cells before proceeding to further analysis:"
   ]
  },
  {
   "cell_type": "code",
   "execution_count": null,
   "id": "785c6156",
   "metadata": {},
   "outputs": [],
   "source": [
    "inds_keep <- sfe$nCounts > 0 & sfe$nucleus_area < 400 & !sfe$is_anti_outlier &\n",
    "    !sfe$is_blank_outlier & !sfe$is_negCodeword_outlier & !sfe$is_negProbe_outlier\n",
    "(sfe <- sfe[,inds_keep])"
   ]
  },
  {
   "cell_type": "markdown",
   "id": "4f440ac0",
   "metadata": {
    "lines_to_next_cell": 0
   },
   "source": [
    "Over 1000 cells were removed. \n",
>>>>>>> documentation
    "\n",
    "Where are negative control spots located?"
   ]
  },
  {
   "cell_type": "code",
   "execution_count": null,
<<<<<<< HEAD
   "id": "0b5a0c34",
   "metadata": {
    "fig.height": 2.5,
    "fig.width": 6
   },
=======
   "id": "7b9c230a",
   "metadata": {},
>>>>>>> documentation
   "outputs": [],
   "source": [
    "tx |> \n",
    "    filter(feature_name %in% rownames(sfe)[is_any_neg]) |> \n",
    "    ggplot(aes(x_location, -y_location)) +\n",
    "    geom_bin2d(binwidth = 50) +\n",
    "    scale_fill_distiller(palette = \"Blues\", direction = 1) +\n",
    "    labs(x = NULL, y = NULL)"
   ]
  },
  {
   "cell_type": "markdown",
<<<<<<< HEAD
   "id": "b8ff68aa",
   "metadata": {},
   "source": [
    "Generally there are more negative control spots in the region with higher cell and transcript density, but especially regions with high cell density, which is not surprising. There don't visually seem to be regions with more negative control spots not accounted for by cell and transcript density. In contrast, the first Xenium preview data from 2022 has a region in the top left corner with more negative control probes detected that seems like an artifact (see `JanesickBreastData()`).\n",
    "\n",
    "## Cells\n",
    "Some QC metrics are precomputed and are stored in `colData`"
   ]
  },
  {
   "cell_type": "code",
   "execution_count": null,
   "id": "f493d2cb",
   "metadata": {},
   "outputs": [],
   "source": [
    "names(colData(sfe))"
   ]
  },
  {
   "cell_type": "markdown",
   "id": "9ac21df4",
   "metadata": {},
   "source": [
    "Since there're more cells, it would be better to plot the tissue larger, so we'll plot the histogram of QC metrics and the spatial plots separately, unlike in the CosMx vignette."
   ]
  },
  {
   "cell_type": "code",
   "execution_count": null,
   "id": "a4638126",
   "metadata": {},
   "outputs": [],
   "source": [
    "n_panel <- sum(!is_any_neg)\n",
    "sfe$nCounts <- colSums(counts(sfe)[!is_any_neg,])\n",
    "sfe$nGenes <- colSums(counts(sfe)[!is_any_neg,] > 0)\n",
    "colData(sfe)$nCounts_normed <- sfe$nCounts/n_panel\n",
    "colData(sfe)$nGenes_normed <- sfe$nGenes/n_panel"
   ]
  },
  {
   "cell_type": "markdown",
   "id": "9cf93ff8",
   "metadata": {},
   "source": [
    "Here we divided the total number of transcript molecules detected from genes (`nCounts`) and the number of genes detected (`nGenes`) by the total number of genes probed, so this histogram is comparable to those from other smFISH-based datasets. "
   ]
  },
  {
   "cell_type": "code",
   "execution_count": null,
   "id": "998a20be",
   "metadata": {},
   "outputs": [],
   "source": [
    "plotColDataHistogram(sfe, c(\"nCounts\", \"nGenes\"))"
   ]
  },
  {
   "cell_type": "markdown",
   "id": "68e5f591",
=======
   "id": "83c75664",
>>>>>>> documentation
   "metadata": {
    "lines_to_next_cell": 0
   },
   "source": [
    "There're weirdly some discrete values of the number of genes detected, which excludes negative controls."
   ]
  },
  {
   "cell_type": "code",
   "execution_count": null,
   "id": "3c27a4d7",
   "metadata": {},
   "outputs": [],
   "source": [
    "plotColDataHistogram(sfe, c(\"nCounts_normed\", \"nGenes_normed\"))"
   ]
  },
  {
   "cell_type": "markdown",
   "id": "1564b988",
   "metadata": {},
   "source": [
    "Compared to the [FFPE CosMX non-small cell lung cancer dataset](https://pachterlab.github.io/voyager/articles/vig4_cosmx.html#cells), fewer transcripts per gene on average and a smaller proportion of all genes are detected in this dataset, which is also FFPE. However, this should be interpreted with care, since these two datasets are from different tissues and have different gene panels, so this may or may not indicate that Xenium has better detection efficiency than CosMX. See (I know the two papers) for systematic comparisons of different imaging based technologies with the same tissue."
   ]
  },
  {
   "cell_type": "code",
   "execution_count": null,
   "id": "348a58c9",
   "metadata": {
    "fig.height": 2.5,
    "fig.width": 6
   },
   "outputs": [],
   "source": [
    "plotSpatialFeature(sfe, \"nCounts\", colGeometryName = \"cellSeg\")"
   ]
  },
  {
   "cell_type": "code",
   "execution_count": null,
   "id": "e6483e56",
   "metadata": {
    "fig.height": 2.5,
    "fig.width": 6
   },
   "outputs": [],
   "source": [
    "plotSpatialFeature(sfe, \"nGenes\", colGeometryName = \"cellSeg\")"
   ]
  },
  {
   "cell_type": "markdown",
   "id": "190ba6a1",
   "metadata": {
    "lines_to_next_cell": 0
   },
   "source": [
    "These plots clearly show that nCounts and nGenes are spatially structured and may be biologically relevant.\n",
    "\n",
    "A standard examination is to look at the relationship between nCounts and nGenes:"
   ]
  },
  {
   "cell_type": "code",
   "execution_count": null,
   "id": "1e75ceaf",
   "metadata": {},
   "outputs": [],
   "source": [
    "plotColData(sfe, x=\"nCounts\", y=\"nGenes\", bins = 70) +\n",
    "    scale_fill_distiller(palette = \"Blues\", direction = 1)"
   ]
  },
  {
   "cell_type": "markdown",
   "id": "acea8322",
   "metadata": {
    "lines_to_next_cell": 0
   },
   "source": [
    "Here we plot the distribution of cell area"
   ]
  },
  {
   "cell_type": "code",
   "execution_count": null,
   "id": "d91590fe",
   "metadata": {},
   "outputs": [],
   "source": [
    "plotColDataHistogram(sfe, c(\"cell_area\", \"nucleus_area\"), scales = \"free_y\")"
   ]
  },
  {
   "cell_type": "markdown",
   "id": "e7e5caad",
   "metadata": {
    "lines_to_next_cell": 0
   },
   "source": [
    "There's a very long tail. The nuclei are much smaller than the cells.\n",
    "\n",
    "How is cell area distributed in space?"
   ]
  },
  {
   "cell_type": "code",
   "execution_count": null,
   "id": "aa1feab4",
   "metadata": {
    "fig.height": 2.5,
    "fig.width": 6
   },
   "outputs": [],
   "source": [
    "plotSpatialFeature(sfe, \"cell_area\", colGeometryName = \"cellSeg\", \n",
    "                   show_axes = TRUE)"
   ]
  },
  {
   "cell_type": "markdown",
   "id": "6785fe37",
   "metadata": {
    "lines_to_next_cell": 0
   },
   "source": [
    "The largest cells tend to be in the sparse area. This may be biological or an artifact of the cell segmentation algorithm or both.\n",
    "\n",
    "Here the nuclei segmentations are plotted instead of cell segmentation."
   ]
  },
  {
   "cell_type": "code",
   "execution_count": null,
   "id": "5ba6172e",
   "metadata": {
    "fig.height": 2.5,
    "fig.width": 6
   },
   "outputs": [],
   "source": [
    "plotSpatialFeature(sfe, \"nucleus_area\", colGeometryName = \"nucSeg\",\n",
    "                   show_axes = TRUE)"
   ]
  },
  {
   "cell_type": "markdown",
   "id": "ee4b11b4",
   "metadata": {
    "lines_to_next_cell": 0
   },
   "source": [
    "Zoom into smaller regions to see the nature of the very large cells"
   ]
  },
  {
   "cell_type": "code",
   "execution_count": null,
   "id": "a863698a",
   "metadata": {},
   "outputs": [],
   "source": [
    "bbox3 <- c(xmin = 1350, xmax = 1550, ymin = -1750, ymax = -1550)\n",
    "bbox4 <- c(xmin = 3400, xmax = 3600, ymin = -2900, ymax = -2700)"
   ]
  },
  {
   "cell_type": "code",
   "execution_count": null,
   "id": "282b9181",
   "metadata": {},
   "outputs": [],
   "source": [
    "nuc <- st_intersection(st_as_sfc(st_bbox(bbox3)), nucSeg(sfe))\n",
    "nuc <- nuc - bbox3[c(\"xmin\", \"ymin\")]"
   ]
  },
  {
   "cell_type": "code",
   "execution_count": null,
   "id": "e68cdd04",
   "metadata": {},
   "outputs": [],
   "source": [
    "plotGeometry(sfe, \"cellSeg\", fill = FALSE, dark = TRUE,\n",
    "             image_id = \"morphology_focus\", \n",
    "             channel = 3:1, bbox = bbox3, normalize_channels = TRUE) +\n",
    "    geom_sf(data = nuc, fill = NA, color = \"magenta\")"
   ]
  },
  {
   "cell_type": "code",
   "execution_count": null,
   "id": "8df568b9",
   "metadata": {},
   "outputs": [],
   "source": [
    "nuc <- st_intersection(st_as_sfc(st_bbox(bbox4)), nucSeg(sfe))\n",
    "nuc <- nuc - bbox4[c(\"xmin\", \"ymin\")]"
   ]
  },
  {
   "cell_type": "code",
   "execution_count": null,
   "id": "540639ca",
   "metadata": {},
   "outputs": [],
   "source": [
    "plotGeometry(sfe, \"cellSeg\", fill = FALSE, dark = TRUE,\n",
    "             image_id = \"morphology_focus\", \n",
    "             channel = 3:1, bbox = bbox4, normalize_channels = TRUE) +\n",
    "    geom_sf(data = nuc, fill = NA, color = \"magenta\")"
   ]
  },
  {
   "cell_type": "markdown",
   "id": "8be9ae7f",
   "metadata": {},
   "source": [
    "In most cases, the large cells don't immediately look like artifacts of segmentation, so maybe don't remove them for QC purposes. Meanwhile we see different morphologies in the cells and nuclei which can be interesting to further explore. There are also some cells that don't have nuclei which may have nuclei in a different z-plane or may be false positives, and maybe some false negatives in regions with fluorescence and seemingly nuclei but not cell segmentation.\n",
    "\n",
    "Next we calculate the proportion of cell in this z-plane taken up by the nucleus, and examine the distribution:"
   ]
  },
  {
   "cell_type": "code",
   "execution_count": null,
   "id": "b85edf10",
   "metadata": {},
   "outputs": [],
   "source": [
    "colData(sfe)$prop_nuc <- sfe$nucleus_area / sfe$cell_area"
   ]
  },
  {
   "cell_type": "code",
   "execution_count": null,
   "id": "e71771bc",
   "metadata": {},
   "outputs": [],
   "source": [
    "summary(sfe$prop_nuc)"
   ]
  },
  {
   "cell_type": "code",
   "execution_count": null,
   "id": "2fa3ba42",
   "metadata": {},
   "outputs": [],
   "source": [
    "plotColDataHistogram(sfe, \"prop_nuc\")"
   ]
  },
  {
   "cell_type": "markdown",
   "id": "d53a1b69",
   "metadata": {
    "lines_to_next_cell": 0
   },
   "source": [
    "The NA's are cells that don't have nuclei detected. There are also nearly 2500 cells entirely taken up the their nuclei, which may be due to cell type or false negative in segmenting the rest of the cell.\n",
    "\n",
    "Here we plot the nuclei proportion in space:"
   ]
  },
  {
   "cell_type": "code",
   "execution_count": null,
   "id": "b8cafcd0",
   "metadata": {
    "fig.height": 2.5,
    "fig.width": 6
   },
   "outputs": [],
   "source": [
    "plotSpatialFeature(sfe, \"prop_nuc\", colGeometryName = \"cellSeg\")"
   ]
  },
  {
   "cell_type": "markdown",
   "id": "181cd38a",
   "metadata": {},
   "source": [
    "Cells in some histological regions have larger proportions occupied by the nuclei. It is interesting to check, controlling for cell type, how cell area, nucleus area, and the proportion of cell occupied by nucleus relate to gene expression. However, a problem in performing such an analysis is that cell segmentation is only available for one z-plane here and these areas also relate to where this z-plane intersects each cell. \n",
    "\n",
    "Does cell area relate to `nCounts`, nucleus area, proportion of area taken up by nucleus, and so on? Here we plot how each pair of variables relate to each other in a matrix plot using the [`ggforce`](https://ggforce.data-imaginist.com/) package."
   ]
  },
  {
   "cell_type": "code",
   "execution_count": null,
   "id": "d729f952",
   "metadata": {},
   "outputs": [],
   "source": [
    "cols_use <- c(\"nCounts\", \"nGenes\", \"cell_area\", \"nucleus_area\", \"prop_nuc\")\n",
    "df <- colData(sfe)[,cols_use] |> as.data.frame()"
   ]
  },
  {
   "cell_type": "code",
   "execution_count": null,
   "id": "9188b130",
   "metadata": {
    "fig.height": 6,
    "fig.width": 8
   },
   "outputs": [],
   "source": [
    "ggplot(df) +\n",
    "    geom_bin2d(aes(x = .panel_x, y = .panel_y), bins = 30) +\n",
    "    geom_autodensity(fill = \"gray90\", color = \"gray70\", linewidth = 0.2) +\n",
    "    facet_matrix(vars(tidyselect::everything()), layer.diag = 2) +\n",
    "    scale_fill_distiller(palette = \"Blues\", direction = 1)"
   ]
  },
  {
   "cell_type": "markdown",
   "id": "9b84e35a",
   "metadata": {},
   "source": [
    "Cool, so, generally, `nCounts`, `nGenes`, cell area, and nucleus area positively correlate with each other, but the proportion of cell area taken up by the nucleus doesn't seem to correlate with the other variables."
   ]
  },
  {
   "cell_type": "code",
   "execution_count": null,
   "id": "8c1a7912",
   "metadata": {},
   "outputs": [],
   "source": [
    "sfe$has_nuclei <- !is.na(sfe$nucleus_area)\n",
    "plotColData(sfe, y = \"has_nuclei\", x = \"cell_area\", \n",
    "            point_fun = function(...) list())"
   ]
  },
  {
   "cell_type": "markdown",
   "id": "e3f48ef0",
   "metadata": {},
   "source": [
    "It seems that cells that don't have nuclei detected tend to be smaller, probably because less of them are captured in this tissue section when their nuclei are not in this section. Where are the cells without nuclei distributed in space?"
   ]
  },
  {
   "cell_type": "code",
   "execution_count": null,
   "id": "e8defb0b",
   "metadata": {
    "fig.height": 2.5,
    "fig.width": 6
   },
   "outputs": [],
   "source": [
    "plotSpatialFeature(sfe, \"has_nuclei\", colGeometryName = \"cellSeg\",\n",
    "                   show_axes = TRUE) +\n",
    "    # To highlight the cells that don't have nuclei\n",
    "    geom_sf(data = SpatialFeatureExperiment::centroids(sfe)[!sfe$has_nuclei,], \n",
    "            color = ditto_colors[1], size = 0.3)"
   ]
  },
  {
   "cell_type": "markdown",
   "id": "0f7c91e2",
   "metadata": {},
   "source": [
    "It seems that there are more cells without nuclei in regions with higher cell density; would be interesting to do spatial point process analysis. Zoom into a smaller region to inspect, especially the cells outside the main piece of tissue:"
   ]
  },
  {
   "cell_type": "code",
   "execution_count": null,
   "id": "12a12482",
   "metadata": {},
   "outputs": [],
   "source": [
    "bbox5 <- c(xmin = 6400, xmax = 6800, ymin = -300, ymax = -50)\n",
    "bbox6 <- c(xmin = 600, xmax = 1000, ymin = -600, ymax = -300)\n",
    "bbox7 <- c(xmin = 6800, xmax = 7200, ymin = -2900, ymax = -2500)"
   ]
  },
  {
   "cell_type": "code",
   "execution_count": null,
   "id": "1bc2cf3d",
   "metadata": {},
   "outputs": [],
   "source": [
    "nuc <- st_intersection(st_as_sfc(st_bbox(bbox5)), nucSeg(sfe))\n",
    "nuc <- nuc - bbox5[c(\"xmin\", \"ymin\")]"
   ]
  },
  {
   "cell_type": "code",
   "execution_count": null,
   "id": "2f3cac94",
   "metadata": {},
   "outputs": [],
   "source": [
    "plotGeometry(sfe, \"cellSeg\", fill = FALSE, dark = TRUE,\n",
    "             image_id = \"morphology_focus\", show_axes = TRUE,\n",
    "             channel = 3:1, bbox = bbox5, normalize_channels = TRUE) +\n",
    "    geom_sf(data = nuc, fill = NA, color = \"magenta\")"
   ]
  },
  {
   "cell_type": "code",
   "execution_count": null,
   "id": "b397b095",
   "metadata": {},
   "outputs": [],
   "source": [
    "nuc <- st_intersection(st_as_sfc(st_bbox(bbox6)), nucSeg(sfe))\n",
    "nuc <- nuc - bbox6[c(\"xmin\", \"ymin\")]"
   ]
  },
  {
   "cell_type": "code",
   "execution_count": null,
   "id": "959234ff",
   "metadata": {},
   "outputs": [],
   "source": [
    "plotGeometry(sfe, \"cellSeg\", fill = FALSE, dark = TRUE,\n",
    "             image_id = \"morphology_focus\", show_axes = TRUE,\n",
    "             channel = 3:1, bbox = bbox6, normalize_channels = TRUE) +\n",
    "    geom_sf(data = nuc, fill = NA, color = \"magenta\")"
   ]
  },
  {
   "cell_type": "code",
   "execution_count": null,
   "id": "f56d4cfa",
   "metadata": {},
   "outputs": [],
   "source": [
    "nuc <- st_intersection(st_as_sfc(st_bbox(bbox7)), nucSeg(sfe))\n",
    "nuc <- nuc - bbox7[c(\"xmin\", \"ymin\")]"
   ]
  },
  {
   "cell_type": "code",
   "execution_count": null,
   "id": "533db3f2",
   "metadata": {},
   "outputs": [],
   "source": [
    "plotGeometry(sfe, \"cellSeg\", fill = FALSE, dark = TRUE,\n",
    "             image_id = \"morphology_focus\", show_axes = TRUE,\n",
    "             channel = 3:1, bbox = bbox7, normalize_channels = TRUE) +\n",
    "    geom_sf(data = nuc, fill = NA, color = \"magenta\")"
   ]
  },
  {
   "cell_type": "markdown",
   "id": "cf13d234",
   "metadata": {},
   "source": [
    "Here in QC we are looking for low quality cells. From what we've explored so far, cells with negative control counts and exceptionally large cells might not be suspect, but cells far outside the tissue are suspect. For some types of spatial neighborhood graphs, such as the k nearest neighbor graph, these cells will also affect spatial analysis. So here we remove those cells. Here we compute a k nearest neighbor graph with k = 5 and remove cells whith neighbors that are too far away."
   ]
  },
  {
   "cell_type": "code",
   "execution_count": null,
   "id": "a620daeb",
   "metadata": {},
   "outputs": [],
   "source": [
    "g <- findKNN(spatialCoords(sfe)[,1:2], k = 5, BNPARAM = AnnoyParam())"
   ]
  },
  {
   "cell_type": "code",
   "execution_count": null,
   "id": "00f21531",
   "metadata": {},
   "outputs": [],
   "source": [
    "max_dist <- rowMaxs(g$distance)\n",
    "data.frame(max_dist = max_dist) |> \n",
    "    ggplot(aes(max_dist)) +\n",
    "    geom_histogram(bins = 100) +\n",
    "    scale_y_continuous(transform = \"log1p\") +\n",
    "    scale_x_continuous(breaks = breaks_pretty()) +\n",
    "    annotation_logticks(sides = \"l\")"
   ]
  },
  {
   "cell_type": "markdown",
   "id": "9c097584",
   "metadata": {
    "lines_to_next_cell": 0
   },
   "source": [
    "Also look at minimum distance between the neighbors to find outlying single cells that may be less far from the tissue"
   ]
  },
  {
   "cell_type": "code",
   "execution_count": null,
   "id": "738191fc",
   "metadata": {},
   "outputs": [],
   "source": [
    "min_dist <- rowMins(g$distance)\n",
    "data.frame(min_dist = min_dist) |> \n",
    "    ggplot(aes(min_dist)) +\n",
    "    geom_histogram(bins = 100) +\n",
    "    scale_y_continuous(transform = \"log1p\") +\n",
    "    scale_x_continuous(breaks = breaks_pretty()) +\n",
    "    annotation_logticks(sides = \"l\")"
   ]
  },
  {
   "cell_type": "markdown",
   "id": "765d6c4f",
   "metadata": {
    "lines_to_next_cell": 0
   },
   "source": [
    "There's a long tail, which must be the small clusters of cells away from the tissue. Say use a cutoff of 60 microns, and see where those cells are."
   ]
  },
  {
   "cell_type": "code",
   "execution_count": null,
   "id": "64f970d1",
   "metadata": {},
   "outputs": [],
   "source": [
    "sfe$main_tissue <- !(max_dist > 60 | min_dist > 50)"
   ]
  },
  {
   "cell_type": "code",
   "execution_count": null,
   "id": "3a302ac8",
   "metadata": {
    "fig.height": 2.5,
    "fig.width": 6
   },
   "outputs": [],
   "source": [
    "plotSpatialFeature(sfe, \"main_tissue\", colGeometryName = \"cellSeg\",\n",
    "                   show_axes = TRUE) +\n",
    "    # To highlight the outliers\n",
    "    geom_sf(data = SpatialFeatureExperiment::centroids(sfe)[!sfe$main_tissue,], \n",
    "            color = ditto_colors[1], size = 0.3)"
   ]
  },
  {
   "cell_type": "markdown",
   "id": "d28533aa",
   "metadata": {},
   "source": [
    "To be more fastidious, I can also compare the max neighbor distance of each cell to those of its neighbors in order to account for cell density in different parts of the tissue, and to extract data from the image to remove cells that lack fluorescent signals. Here we remove the cells away from the main tissue, cells that have very low total gene expression, cells that are too small to make sense, and genes that are not detected."
   ]
  },
  {
   "cell_type": "code",
   "execution_count": null,
   "id": "06e9a269",
   "metadata": {},
   "outputs": [],
   "source": [
    "plotColDataHistogram(sfe, c(\"nCounts\", \"cell_area\")) +\n",
    "    scale_x_log10() +\n",
    "    annotation_logticks(sides = \"b\")"
   ]
  },
  {
   "cell_type": "markdown",
   "id": "0c7b93bd",
   "metadata": {},
   "source": [
    "The x axis is log transformed to better see the small values, and there's no obvious outlier. Say use an arbitrary cutoff of 5 for nCounts"
   ]
  },
  {
   "cell_type": "code",
   "execution_count": null,
   "id": "d2235288",
   "metadata": {},
   "outputs": [],
   "source": [
    "sfe <- sfe[,sfe$main_tissue & sfe$nCounts > 5]\n",
    "sfe <- sfe[rowSums(counts(sfe)) > 0,]\n",
    "dim(sfe)"
   ]
  },
  {
   "cell_type": "markdown",
   "id": "37e4b8c4",
   "metadata": {
    "lines_to_next_cell": 0
   },
   "source": [
    "## Genes\n",
    "Here we look at the mean and variance of each gene"
   ]
  },
  {
   "cell_type": "code",
   "execution_count": null,
<<<<<<< HEAD
   "id": "500b8723",
=======
   "id": "7e9b6b80",
>>>>>>> documentation
   "metadata": {},
   "outputs": [],
   "source": [
    "rowData(sfe)$means <- rowMeans(counts(sfe))\n",
    "rowData(sfe)$vars <- rowVars(counts(sfe))"
   ]
  },
  {
   "cell_type": "markdown",
<<<<<<< HEAD
   "id": "c9097261",
=======
   "id": "0c534cd5",
>>>>>>> documentation
   "metadata": {
    "lines_to_next_cell": 0
   },
   "source": [
    "Real genes generally have higher mean expression across cells than negative controls. This is the mean of each gene across cells."
   ]
  },
  {
   "cell_type": "code",
   "execution_count": null,
<<<<<<< HEAD
   "id": "2c4da953",
=======
   "id": "cf15da10",
>>>>>>> documentation
   "metadata": {},
   "outputs": [],
   "source": [
    "rowData(sfe)$is_neg <- rowData(sfe)$Type != \"Gene Expression\"\n",
    "plotRowData(sfe, x = \"means\", y = \"is_neg\") +\n",
    "    scale_y_log10() +\n",
    "    annotation_logticks(sides = \"b\")"
   ]
  },
  {
   "cell_type": "markdown",
<<<<<<< HEAD
   "id": "4a1a213b",
=======
   "id": "4db2aa90",
>>>>>>> documentation
   "metadata": {
    "lines_to_next_cell": 0
   },
   "source": [
    "Here the real genes and negative controls are plotted in different colors"
   ]
  },
  {
   "cell_type": "code",
   "execution_count": null,
<<<<<<< HEAD
   "id": "c8cbda65",
=======
   "id": "b797510e",
>>>>>>> documentation
   "metadata": {},
   "outputs": [],
   "source": [
    "plotRowData(sfe, x=\"means\", y=\"vars\", color_by = \"is_neg\") +\n",
    "    geom_abline(slope = 1, intercept = 0, color = \"red\") +\n",
    "    scale_x_log10() + scale_y_log10() +\n",
    "    annotation_logticks() +\n",
    "    coord_equal() +\n",
    "    labs(color = \"Negative control\")"
   ]
  },
  {
   "cell_type": "markdown",
<<<<<<< HEAD
   "id": "de84cf10",
=======
   "id": "001e1046",
>>>>>>> documentation
   "metadata": {},
   "source": [
    "The red line $y = x$ is expected if the data follows a Poisson distribution. Negative controls and real genes form mostly separate clusters. Negative controls stick close to the line, while real genes are overdispersed. Unlike in the [CosMX dataset](https://pachterlab.github.io/voyager/articles/vig4_cosmx.html#genes), the negative controls don't seem overdispersed. Overdispersion in gene expression can not only be caused by transcription bursts and cell type heterogeneity, but also by both positive and negative spatial autocorrelation [@Chun2018-ar; @Griffith2011-lx].\n",
    "\n",
    "# Spatial autocorrelation of QC metrics\n",
    "\n",
    "There's a sparse and a dense region. This poses the question of what type of neighborhood graph to use, e.g. it is conceivable that cells in the sparse region should just be singletons. Furthermore, it is unclear what the length scale of their influence might be. It might depend on the cell type and how contact and secreted signals are used in the cell type, and length scale of the influence. If k nearest neighbors are used, then the neighbors in the dense region are much closer together than those in the sparse region. If distance based neighbors are used, then cells in the dense region will have more neighbors than cells in the sparse region, and the sparse region can break into multiple compartments if the distance cutoff is not long enough. \n",
    "\n",
    "For the purpose of demonstration, we use k nearest neighbors with $k = 5$, with inverse distance weighting. Note that using more neighbors leads to longer computation time of spatial autocorrelation metrics."
   ]
  },
  {
   "cell_type": "code",
   "execution_count": null,
<<<<<<< HEAD
   "id": "b3dc1154",
=======
   "id": "cada56f3",
>>>>>>> documentation
   "metadata": {},
   "outputs": [],
   "source": [
    "colGraph(sfe, \"knn5\") <- findSpatialNeighbors(sfe, method = \"knearneigh\", \n",
    "                                              dist_type = \"idw\", k = 5, \n",
    "                                              style = \"W\")"
   ]
  },
  {
   "cell_type": "markdown",
   "id": "8748be5e",
   "metadata": {
    "lines_to_next_cell": 0
   },
   "source": [
    "I think it makes sense to replace NA with 0 for nucleus area here though generally 0 is not an appropriate substitute for NA. "
   ]
  },
  {
   "cell_type": "code",
   "execution_count": null,
<<<<<<< HEAD
   "id": "2a07775a",
   "metadata": {},
   "outputs": [],
   "source": [
    "sfe$nucleus_area <- ifelse(is.na(sfe$nucleus_area), 0, sfe$nucleus_area)"
   ]
  },
  {
   "cell_type": "code",
   "execution_count": null,
   "id": "6b14c02f",
=======
   "id": "f85eea66",
>>>>>>> documentation
   "metadata": {},
   "outputs": [],
   "source": [
    "sfe <- colDataMoransI(sfe, c(\"nCounts\", \"nGenes\", \"cell_area\", \"nucleus_area\"),\n",
    "                      colGraphName = \"knn5\")"
   ]
  },
  {
   "cell_type": "code",
   "execution_count": null,
<<<<<<< HEAD
   "id": "018b08e6",
=======
   "id": "dafddb24",
>>>>>>> documentation
   "metadata": {},
   "outputs": [],
   "source": [
    "colFeatureData(sfe)[c(\"nCounts\", \"nGenes\", \"cell_area\", \"nucleus_area\"),]"
   ]
  },
  {
   "cell_type": "markdown",
<<<<<<< HEAD
   "id": "1e236748",
=======
   "id": "f392a146",
>>>>>>> documentation
   "metadata": {},
   "source": [
    "Global Moran's I indicates positive spatial autocorrelation. Here global spatial autocorrelation for these QC metrics is moderate or weak, at least at the level of single cells using a k nearest neighbor graph with k = 5. From earlier plots of these metrics, there may be stronger spatial autocorrelation at a longer length scale. As the strength of spatial autocorrelation can vary spatially, we also run local Moran's I."
   ]
  },
  {
   "cell_type": "code",
   "execution_count": null,
<<<<<<< HEAD
   "id": "21e58ffc",
=======
   "id": "d3ca9606",
>>>>>>> documentation
   "metadata": {},
   "outputs": [],
   "source": [
    "sfe <- colDataUnivariate(sfe, type = \"localmoran\", \n",
    "                         features = c(\"nCounts\", \"nGenes\", \"cell_area\", \n",
    "                                      \"nucleus_area\"),\n",
    "                         colGraphName = \"knn5\", BPPARAM = MulticoreParam(2))"
   ]
  },
  {
   "cell_type": "markdown",
<<<<<<< HEAD
   "id": "9b9e1503",
=======
   "id": "e6fbff4d",
>>>>>>> documentation
   "metadata": {
    "lines_to_next_cell": 0
   },
   "source": [
    "The `pointsize` argument adjusts the point size in `scattermore`. The default is 0, meaning single pixels, but since the cells in the sparse region are hard to see that way, we increase `pointsize`. We would still plot the polygons in larger single panel plots, but use `scattermore` in multi-panel plots where the polygons in each panel are invisible anyway due to the small size to save some time."
   ]
  },
  {
   "cell_type": "code",
   "execution_count": null,
<<<<<<< HEAD
   "id": "396292da",
=======
   "id": "5410becb",
>>>>>>> documentation
   "metadata": {
    "fig.height": 7,
    "fig.width": 6
   },
   "outputs": [],
   "source": [
    "plotLocalResult(sfe, \"localmoran\",\n",
    "                features = c(\"nCounts\", \"nGenes\", \"cell_area\", \"nucleus_area\"),\n",
    "                colGeometryName = \"centroids\", scattermore = TRUE,\n",
    "                divergent = TRUE, diverge_center = 0, pointsize = 1.5,\n",
    "                ncol = 1)"
   ]
  },
  {
   "cell_type": "markdown",
<<<<<<< HEAD
   "id": "a1c9d033",
   "metadata": {},
   "source": [
    "It seems that the glandular areas tend to be more homogeneous, greatly contributing to the global Moran's I value, but most of the tissue is not very spatially autocorrelated for these metrics. The $I_i$ value is not the only thing computed in local Moran's I. P-values and types of neighborhoods are also computed. \"Type of neighborhood\" include cells with low values and neighbors with low values (low-low), low-high, high-high, and high-low, and \"low\" and \"high\" are relative to the mean. One can make a scatter plot with the value at each cell on the x axis and spatially weighted average of the cell's neighbors on the spatial neighborhood graph on the y axis; this is the Moran scatter plot. These neighborhood types are quadrants on the plot. However, when the value doesn't deviate much from the mean, the neighborhood type might not mean much, but it does seem to highlight some tissue structure. Another caveat is that the mean is from the entire section, while from tissue morphology, there clearly are two very different regions within the section. It would be cool to have a method to better determine areas in the tissue for spatial analysis that can best answer the questions of interest. It might make sense to analyze the sparse and dense regions separately at some point."
   ]
  },
  {
   "cell_type": "code",
   "execution_count": null,
   "id": "424b617a",
   "metadata": {},
   "outputs": [],
   "source": [
    "localResultAttrs(sfe, \"localmoran\", \"nCounts\")"
   ]
  },
  {
   "cell_type": "code",
   "execution_count": null,
   "id": "329e1ede",
   "metadata": {
    "fig.height": 7,
    "fig.width": 6
   },
   "outputs": [],
   "source": [
    "plotLocalResult(sfe, \"localmoran\", attribute = \"pysal\",\n",
    "                features = c(\"nCounts\", \"nGenes\", \"cell_area\", \"nucleus_area\"),\n",
    "                colGeometryName = \"centroids\", scattermore = TRUE, pointsize = 1.5,\n",
    "                ncol = 1, size = 3)"
   ]
  },
  {
   "cell_type": "markdown",
   "id": "b05437eb",
   "metadata": {},
   "source": [
    "It's hard to see without zooming in."
   ]
  },
  {
   "cell_type": "code",
   "execution_count": null,
   "id": "7ef94668",
   "metadata": {
    "fig.height": 7,
    "fig.width": 8
   },
   "outputs": [],
   "source": [
    "plotLocalResult(sfe, \"localmoran\",\n",
    "                features = c(\"nCounts\", \"nGenes\", \"cell_area\", \"nucleus_area\"),\n",
    "                colGeometryName = \"cellSeg\", divergent = TRUE, diverge_center = 0,\n",
    "                ncol = 2, bbox = bbox1)"
   ]
  },
  {
   "cell_type": "code",
   "execution_count": null,
   "id": "c139466f",
   "metadata": {
    "fig.height": 7,
    "fig.width": 8
   },
   "outputs": [],
   "source": [
    "plotLocalResult(sfe, \"localmoran\", attribute = \"pysal\",\n",
    "                features = c(\"nCounts\", \"nGenes\", \"cell_area\", \"nucleus_area\"),\n",
    "                colGeometryName = \"cellSeg\", bbox = bbox1, ncol = 2)"
   ]
  },
  {
   "cell_type": "code",
   "execution_count": null,
   "id": "dffffb95",
   "metadata": {
    "fig.height": 7,
    "fig.width": 8
   },
   "outputs": [],
   "source": [
    "plotLocalResult(sfe, \"localmoran\", attribute = \"-log10p_adj\", \n",
    "                features = c(\"nCounts\", \"nGenes\", \"cell_area\", \"nucleus_area\"),\n",
    "                colGeometryName = \"cellSeg\", divergent = TRUE, \n",
    "                diverge_center = -log10(0.05),\n",
    "                ncol = 2, bbox = bbox1)"
   ]
  },
  {
   "cell_type": "markdown",
   "id": "b29e453a",
   "metadata": {},
   "source": [
    "Here the center of the divergent palette is at $-\\mathrm{log}_{10}0.05$ and the p-values have been corrected for multiple testing (see `spdep::p.adjustSP()`). Warm color indicates \"significant\" and cool color indicates \"not significant\" based on this conventional threshold. Here in this dense region, for these metrics, local Moran's I is generally not significant."
   ]
  },
  {
   "cell_type": "code",
   "execution_count": null,
   "id": "f9f56136",
   "metadata": {
    "fig.height": 7,
    "fig.width": 8
   },
   "outputs": [],
   "source": [
    "plotLocalResult(sfe, \"localmoran\",\n",
    "                features = c(\"nCounts\", \"nGenes\", \"cell_area\", \"nucleus_area\"),\n",
    "                colGeometryName = \"cellSeg\", divergent = TRUE, diverge_center = 0,\n",
    "                ncol = 2, bbox = bbox2)"
   ]
  },
  {
   "cell_type": "code",
   "execution_count": null,
   "id": "fe5c6200",
   "metadata": {
    "fig.height": 7,
    "fig.width": 8
   },
   "outputs": [],
   "source": [
    "plotLocalResult(sfe, \"localmoran\", attribute = \"pysal\",\n",
    "                features = c(\"nCounts\", \"nGenes\", \"cell_area\", \"nucleus_area\"),\n",
    "                colGeometryName = \"cellSeg\", bbox = bbox2, ncol = 2)"
   ]
  },
  {
   "cell_type": "code",
   "execution_count": null,
   "id": "dd2f2e09",
   "metadata": {
    "fig.height": 7,
    "fig.width": 8
   },
   "outputs": [],
   "source": [
    "plotLocalResult(sfe, \"localmoran\", attribute = \"-log10p_adj\", \n",
    "                features = c(\"nCounts\", \"nGenes\", \"cell_area\", \"nucleus_area\"),\n",
    "                colGeometryName = \"cellSeg\", divergent = TRUE, \n",
    "                diverge_center = -log10(0.05),\n",
    "                ncol = 2, bbox = bbox2)"
   ]
  },
  {
   "cell_type": "markdown",
   "id": "1b988470",
=======
   "id": "d5c54052",
>>>>>>> documentation
   "metadata": {
    "lines_to_next_cell": 0
   },
   "source": [
    "In this sparser region, there're more areas where local Moran's I is significant for these metrics. It seems that locally we can have a mixture of positive and negative spatial autocorrelation, though for the most part local Moran's I is not statistically significant and the significant parts are in the high-high regions. What to make of this? \n",
    "\n",
    "Moran plot for nCounts"
   ]
  },
  {
   "cell_type": "code",
   "execution_count": null,
<<<<<<< HEAD
   "id": "dc1d2662",
=======
   "id": "6da9298f",
>>>>>>> documentation
   "metadata": {},
   "outputs": [],
   "source": [
    "sfe <- colDataUnivariate(sfe, \"moran.plot\", \"nCounts\", colGraphName = \"knn5\")"
   ]
  },
  {
   "cell_type": "code",
   "execution_count": null,
<<<<<<< HEAD
   "id": "03599c5d",
=======
   "id": "e2518d25",
>>>>>>> documentation
   "metadata": {
    "fig.height": 3,
    "fig.width": 6
   },
   "outputs": [],
   "source": [
    "moranPlot(sfe, \"nCounts\", binned = TRUE, plot_influential = FALSE, bins = c(150, 60)) "
   ]
  },
  {
   "cell_type": "markdown",
<<<<<<< HEAD
   "id": "adf757dd",
=======
   "id": "c8ac9a8a",
>>>>>>> documentation
   "metadata": {},
   "source": [
    "There are no obvious clusters here based on the 2D histogram showing point density in the scatter plot. With W style (the adjacency matrix with edge weights have row sums of 1), the slope of the least square line fitted to the scatter plot is Moran's I [@Anselin1996-mo].\n",
    "\n",
    "# Moran's I\n",
    "\n",
    "By default, for gene expression, the log normalized counts are used in spatial autocorrelation metrics because many statistical methods were developed for normally distributed data and there can be technical artifacts affecting the raw gene counts per cell, so before running Moran's I, we normalize the data. In the single cell tradition, total counts (nCounts) is treated like a technical artifact to be normalized away, which makes sense given the transcript capture and PCR amplification steps in the single cell RNA-seq protocol. However, as seen above, nCounts clearly has biologically relevant spatial structure, and imaging based technologies don't have those steps. Furthermore, in imaging based technologies, typically a curated gene panel of a few hundred genes targeting certain cell types of interest is used, while scRNA-seq is usually untargeted and transcriptome wide. Due to the skewed gene panel, nCounts is biologically skewed as well so using it to normalize data can lead to false negatives in finding spatially variable genes and differential expression [@Atta2024-tl]. \n",
    "\n",
    "Sometimes cell area is used when normalizing imaging based data, which makes sense when larger cells have more room for more transcripts and as seen above in the matrix plot, cell area does positively correlate with nCounts. However, as seen in the earlier cell level QC plots, cell size is also spatially structured and seemingly biologically relevant because cells of some types tend to be larger than cells of some other types, though its global Moran's I is a bit weaker than that of nCounts. Often some cells are larger because more of them get captured in this section and some cells are smaller because less of them are in this section, so there still is a technical component. In [@Atta2024-tl], normalizing by cell area and not normalizing are also examined; here SVG and DE results are more comparable to when using a more representative gene panel, with fewer false positives and false negatives compared to normalizing by nCounts. Due to the technical effect of partial capture of cells in the section, [@Atta2024-tl] recommends normalizing with cell area if it's reliable. While cell area from XOA v1 with cell segmentations that look like Voroni tessellation doesn't seem reliable, with multiple fluorescent stains in XOA v2, it seems much better, so we'll normalize with cell area here while noting the caveat that cell area can be biologically relevant."
   ]
  },
  {
   "cell_type": "code",
   "execution_count": null,
<<<<<<< HEAD
   "id": "b0c0037f",
=======
   "id": "856d62c0",
>>>>>>> documentation
   "metadata": {},
   "outputs": [],
   "source": [
    "sfe <- logNormCounts(sfe, size.factor = sfe$cell_area)"
   ]
  },
  {
   "cell_type": "markdown",
<<<<<<< HEAD
   "id": "e96b142a",
=======
   "id": "081581fa",
>>>>>>> documentation
   "metadata": {
    "lines_to_next_cell": 0
   },
   "source": [
    "Use more cores if available to speed this up. It's slower here because the gene count matrix is actually on disk thanks to `DelayedArray` and not loaded into memory."
   ]
  },
  {
   "cell_type": "code",
   "execution_count": null,
<<<<<<< HEAD
   "id": "8db7b0d4",
=======
   "id": "063df977",
>>>>>>> documentation
   "metadata": {},
   "outputs": [],
   "source": [
    "system.time(\n",
    "    sfe <- runMoransI(sfe, colGraphName = \"knn5\", BPPARAM = MulticoreParam(2))\n",
    ")"
   ]
  },
  {
   "cell_type": "code",
   "execution_count": null,
<<<<<<< HEAD
   "id": "72f0fc03",
=======
   "id": "8a71909d",
   "metadata": {},
   "outputs": [],
   "source": [
    "rowData(sfe)$is_neg <- is_any_neg"
   ]
  },
  {
   "cell_type": "code",
   "execution_count": null,
   "id": "cc1d9e5d",
>>>>>>> documentation
   "metadata": {},
   "outputs": [],
   "source": [
    "plotRowData(sfe, x = \"moran_sample01\", y = \"is_neg\")"
   ]
  },
  {
   "cell_type": "markdown",
<<<<<<< HEAD
   "id": "89dbbdea",
   "metadata": {},
=======
   "id": "84f4b6bb",
   "metadata": {
    "lines_to_next_cell": 0
   },
   "source": [
    "As expected, generally the negative controls are tightly clustered around 0, while the real genes have positive Moran's I, which means there is generally no technical artifact spatial trend. No significantly negative Moran's I is observed. Why is negative spatial autocorrelation so rare in gene expression?\n",
    "\n",
    "What are the two negative controls with a sizable Moran's I?"
   ]
  },
  {
   "cell_type": "code",
   "execution_count": null,
   "id": "a7a044bf",
   "metadata": {
    "fig.height": 3,
    "fig.width": 9
   },
   "outputs": [],
   "source": [
    "ord <- order(rowData(sfe)$moran_sample01[is_any_neg], decreasing = TRUE)[1:2]\n",
    "top_neg <- rownames(sfe)[is_any_neg][ord]\n",
    "plotSpatialFeature(sfe, top_neg, colGeometryName = \"centroids\",\n",
    "                   scattermore = TRUE, pointsize = 1)"
   ]
  },
  {
   "cell_type": "markdown",
   "id": "0117108b",
   "metadata": {
    "lines_to_next_cell": 0
   },
   "source": [
    "There is somewhat a spatial trend for that antisense probe, with more detected in the upper left. However, this might not significantly affect other results since there are at most 2 counts and at most about 1% of all counts in each cell. The negative control codeword has at most 1 count per cell and the cells with this negative control detected seem to be few and far between. \n",
    "\n",
    "These are the most detected negative controls, and the most detected one is also the one with the highest Moran's I among negative controls. However, the other negative control with higher Moran's I is not among the most detected."
   ]
  },
  {
   "cell_type": "code",
   "execution_count": null,
   "id": "8126770e",
   "metadata": {},
   "outputs": [],
   "source": [
    "head(sort(rowData(sfe)$means[is_any_neg], decreasing = TRUE), 15)"
   ]
  },
  {
   "cell_type": "markdown",
   "id": "38439346",
   "metadata": {
    "lines_to_next_cell": 0
   },
>>>>>>> documentation
   "source": [
    "As expected, generally the negative controls are tightly clustered around 0, while the real genes have positive Moran's I, which means there is generally no technical artifact spatial trend. \n",
    "\n",
    "What are the genes with the highest Moran's I?"
   ]
  },
  {
   "cell_type": "code",
   "execution_count": null,
<<<<<<< HEAD
   "id": "31ab8bc3",
=======
   "id": "4d5ea462",
>>>>>>> documentation
   "metadata": {
    "fig.height": 7,
    "fig.width": 6
   },
   "outputs": [],
   "source": [
    "top_moran <- rownames(sfe)[order(rowData(sfe)$moran_sample01, decreasing = TRUE)[1:4]]\n",
    "plotSpatialFeature(sfe, top_moran, colGeometryName = \"centroids\",\n",
    "                   scattermore = TRUE, pointsize = 1.5, ncol = 1)"
   ]
  },
  {
   "cell_type": "markdown",
<<<<<<< HEAD
   "id": "0ba8e390",
   "metadata": {},
=======
   "id": "1b75ccb4",
   "metadata": {
    "lines_to_next_cell": 0
   },
>>>>>>> documentation
   "source": [
    "AMY2A is amylase alpha 2A, involved in breaking down starch. INS is insulin. GCG is glucagon. GATM is glycine amidinotransferase involved in creatine biosynthesis. So the dense area have exocrine acini making digestive enzymes and the endocrine Langerhan's islets making insulin and glucagon. These are very spatially structured. Zoom into a smaller area"
   ]
  },
  {
   "cell_type": "code",
   "execution_count": null,
<<<<<<< HEAD
   "id": "4ecb54b1",
=======
   "id": "07c13daf",
>>>>>>> documentation
   "metadata": {},
   "outputs": [],
   "source": [
    "bbox8 <- c(xmin = 4950, xmax = 5450, ymin = -1000, ymax = -500)"
   ]
  },
  {
   "cell_type": "code",
   "execution_count": null,
   "id": "6a98872f",
   "metadata": {
    "fig.height": 7,
    "fig.width": 8
   },
   "outputs": [],
   "source": [
    "plotSpatialFeature(sfe, top_moran, colGeometryName = \"cellSeg\", ncol = 2,\n",
    "                   bbox = bbox8)"
   ]
  },
  {
   "cell_type": "code",
   "execution_count": null,
   "id": "a38bf1c8",
   "metadata": {
    "fig.height": 7,
    "fig.width": 6
   },
   "outputs": [],
   "source": [
    "top_moran2 <- rownames(sfe)[order(rowData(sfe)$moran_sample01, decreasing = TRUE)[5:8]]\n",
    "plotSpatialFeature(sfe, top_moran2, colGeometryName = \"centroids\",\n",
    "                   scattermore = TRUE, pointsize = 1.5, ncol = 1)"
   ]
  },
  {
   "cell_type": "markdown",
<<<<<<< HEAD
   "id": "b0c40ca3",
   "metadata": {
    "lines_to_next_cell": 0
   },
   "source": [
    "GPRC5A is G protein-coupled receptor class C group 5 member A, which may play a role in embryonic development and epithelial cell differentiation. SST is somatostatin, which is a regulator of the endocrine system. CFTR encodes the chlorine ion channel whose mutation causes cystic fibrosis. DMBT1 stands for deleted in malignant brain tumors 1. \"Loss of sequences from human chromosome 10q has been associated with the progression of human cancers\", according to RefSeq. So the sparse region is probably cancerous. Zoom into a smaller area"
   ]
  },
  {
   "cell_type": "code",
   "execution_count": null,
   "id": "6bb5698d",
   "metadata": {
    "fig.height": 7,
    "fig.width": 8
   },
   "outputs": [],
   "source": [
    "plotSpatialFeature(sfe, top_moran2, colGeometryName = \"cellSeg\", ncol = 2,\n",
    "                   bbox = bbox2)"
   ]
  },
  {
   "cell_type": "markdown",
   "id": "1b39af36",
   "metadata": {
    "lines_to_next_cell": 0
   },
   "source": [
    "How does Moran's I relate to gene expression level?"
   ]
  },
  {
   "cell_type": "code",
   "execution_count": null,
   "id": "2851af8a",
   "metadata": {},
   "outputs": [],
   "source": [
    "plotRowData(sfe, x = \"means\", y = \"moran_sample01\", color_by = \"is_neg\") +\n",
    "    scale_x_log10() + annotation_logticks(sides = \"b\")"
   ]
  },
  {
   "cell_type": "markdown",
   "id": "1edd17a8",
=======
   "id": "f8c310f7",
>>>>>>> documentation
   "metadata": {
    "lines_to_next_cell": 0
   },
   "source": [
    "Very highly expressed genes have higher Moran's I, but there are some less expressed genes with higher Moran's I as well.\n",
    "\n",
    "# Non-spatial dimension reduction and clustering\n",
    "\n",
    "Here we run non-spatial PCA as for scRNA-seq data"
   ]
  },
  {
   "cell_type": "code",
   "execution_count": null,
<<<<<<< HEAD
   "id": "be22bf33",
=======
   "id": "83016dc9",
>>>>>>> documentation
   "metadata": {},
   "outputs": [],
   "source": [
    "set.seed(29)\n",
    "sfe <- runPCA(sfe, ncomponents = 30, scale = TRUE, BSPARAM = IrlbaParam(),\n",
    "              subset_row = !rowData(sfe)$is_neg)"
   ]
  },
  {
   "cell_type": "code",
   "execution_count": null,
<<<<<<< HEAD
   "id": "5fa3d909",
=======
   "id": "0c94ab0a",
>>>>>>> documentation
   "metadata": {},
   "outputs": [],
   "source": [
    "ElbowPlot(sfe, ndims = 30)"
   ]
  },
  {
   "cell_type": "code",
   "execution_count": null,
<<<<<<< HEAD
   "id": "b34a0cb0",
   "metadata": {
    "fig.height": 6,
    "fig.width": 6
   },
=======
   "id": "42d9136e",
   "metadata": {},
>>>>>>> documentation
   "outputs": [],
   "source": [
    "plotDimLoadings(sfe, dims = 1:8)"
   ]
  },
  {
   "cell_type": "code",
   "execution_count": null,
<<<<<<< HEAD
   "id": "a9c2704e",
=======
   "id": "055e7dd7",
>>>>>>> documentation
   "metadata": {
    "fig.height": 7,
    "fig.width": 6
   },
   "outputs": [],
   "source": [
    "spatialReducedDim(sfe, \"PCA\", 4, colGeometryName = \"centroids\", divergent = TRUE,\n",
    "                  diverge_center = 0, ncol = 1, scattermore = TRUE, pointsize = 1.5)"
   ]
  },
  {
   "cell_type": "code",
   "execution_count": null,
   "id": "9dfa7da7",
   "metadata": {
    "fig.height": 7,
    "fig.width": 6
   },
   "outputs": [],
   "source": [
    "spatialReducedDim(sfe, \"PCA\", components = 5:8, colGeometryName = \"centroids\", \n",
    "                  divergent = TRUE, diverge_center = 0, \n",
    "                  ncol = 1, scattermore = TRUE, pointsize = 1.5)"
   ]
  },
  {
   "cell_type": "markdown",
<<<<<<< HEAD
   "id": "ac937a5e",
=======
   "id": "7edf9274",
>>>>>>> documentation
   "metadata": {
    "lines_to_next_cell": 0
   },
   "source": [
    "While spatial region is not explicitly used, the PC's highlight spatial regions due to spatial autocorrelation in gene expression and histological regions with different cell types.\n",
    "\n",
    "Non-spatial clustering and locating the clusters in space"
   ]
  },
  {
   "cell_type": "code",
   "execution_count": null,
<<<<<<< HEAD
   "id": "2109afb3",
=======
   "id": "a31cabde",
>>>>>>> documentation
   "metadata": {},
   "outputs": [],
   "source": [
    "colData(sfe)$cluster <- clusterRows(reducedDim(sfe, \"PCA\")[,1:15],\n",
    "                                    BLUSPARAM = SNNGraphParam(\n",
    "                                        cluster.fun = \"leiden\",\n",
    "                                        cluster.args = list(\n",
    "                                            resolution_parameter = 0.5,\n",
    "                                            objective_function = \"modularity\")))"
   ]
  },
  {
   "cell_type": "markdown",
<<<<<<< HEAD
   "id": "8318140c",
=======
   "id": "7a6e158b",
>>>>>>> documentation
   "metadata": {
    "lines_to_next_cell": 0
   },
   "source": [
    "Now the `scater` can also rasterize the plots with lots of points with the `rasterise` argument, but with a different mechanism from `scattermore` that requires more system dependencies. "
   ]
  },
  {
   "cell_type": "code",
   "execution_count": null,
<<<<<<< HEAD
   "id": "2cbf1c29",
=======
   "id": "8a98d720",
>>>>>>> documentation
   "metadata": {
    "fig.height": 8,
    "fig.width": 8
   },
   "outputs": [],
   "source": [
    "plotPCA(sfe, ncomponents = 4, colour_by = \"cluster\", scattermore = TRUE)"
   ]
  },
  {
   "cell_type": "markdown",
<<<<<<< HEAD
   "id": "e7ac0b1b",
=======
   "id": "6c230844",
>>>>>>> documentation
   "metadata": {
    "lines_to_next_cell": 0
   },
   "source": [
    "Plot the location of the clusters in space"
   ]
  },
  {
   "cell_type": "code",
   "execution_count": null,
<<<<<<< HEAD
   "id": "7492db5e",
=======
   "id": "0669eb00",
>>>>>>> documentation
   "metadata": {},
   "outputs": [],
   "source": [
    "plotSpatialFeature(sfe, \"cluster\", colGeometryName = \"centroids\", scattermore = TRUE,\n",
    "                   pointsize = 1.2, size = 3)"
   ]
  },
  {
   "cell_type": "markdown",
<<<<<<< HEAD
   "id": "5fc98ebd",
=======
   "id": "087a82b1",
>>>>>>> documentation
   "metadata": {
    "lines_to_next_cell": 0
   },
   "source": [
    "# Differential expression\n",
    "Cluster marker genes are found with Wilcoxon rank sum test as commonly done for scRNA-seq."
   ]
  },
  {
   "cell_type": "code",
   "execution_count": null,
<<<<<<< HEAD
   "id": "33fc1a46",
=======
   "id": "2b15430f",
>>>>>>> documentation
   "metadata": {},
   "outputs": [],
   "source": [
    "markers <- findMarkers(sfe, groups = colData(sfe)$cluster,\n",
    "                       test.type = \"wilcox\", pval.type = \"all\", direction = \"up\")"
   ]
  },
  {
   "cell_type": "markdown",
<<<<<<< HEAD
   "id": "ed10b5b9",
=======
   "id": "60fe7556",
>>>>>>> documentation
   "metadata": {
    "lines_to_next_cell": 0
   },
   "source": [
    "It's already sorted by p-values:"
   ]
  },
  {
   "cell_type": "code",
   "execution_count": null,
<<<<<<< HEAD
   "id": "efa8e380",
=======
   "id": "c7ee2525",
>>>>>>> documentation
   "metadata": {},
   "outputs": [],
   "source": [
    "markers[[6]]"
   ]
  },
  {
   "cell_type": "markdown",
<<<<<<< HEAD
   "id": "f3b11262",
=======
   "id": "0de48396",
>>>>>>> documentation
   "metadata": {
    "lines_to_next_cell": 0
   },
   "source": [
    "The code below extracts the significant markers for each cluster:"
   ]
  },
  {
   "cell_type": "code",
   "execution_count": null,
<<<<<<< HEAD
   "id": "e4ea4cfa",
=======
   "id": "88a5061c",
>>>>>>> documentation
   "metadata": {},
   "outputs": [],
   "source": [
    "genes_use <- vapply(markers, function(x) rownames(x)[1], FUN.VALUE = character(1))\n",
    "plotExpression(sfe, genes_use, x = \"cluster\", point_fun = function(...) list())"
   ]
  },
  {
   "cell_type": "markdown",
<<<<<<< HEAD
   "id": "e0ecc8ce",
=======
   "id": "ef967f7c",
>>>>>>> documentation
   "metadata": {
    "lines_to_next_cell": 0
   },
   "source": [
    "This allows for plotting more top marker genes in a heatmap:"
   ]
  },
  {
   "cell_type": "code",
   "execution_count": null,
<<<<<<< HEAD
   "id": "bacaff34",
=======
   "id": "08b4c085",
>>>>>>> documentation
   "metadata": {
    "fig.height": 8,
    "fig.width": 6
   },
   "outputs": [],
   "source": [
    "genes_use2 <- unique(unlist(lapply(markers, function(x) rownames(x)[1:5])))\n",
    "plotGroupedHeatmap(sfe, genes_use2, group = \"cluster\", colour = scales::viridis_pal()(100))"
   ]
  },
  {
   "cell_type": "markdown",
<<<<<<< HEAD
   "id": "7b34796b",
=======
   "id": "592d006e",
>>>>>>> documentation
   "metadata": {
    "lines_to_next_cell": 0
   },
   "source": [
    "# Local spatial statistics of marker genes\n",
    "\n",
    "First we plot those genes in space as a reference"
   ]
  },
  {
   "cell_type": "code",
   "execution_count": null,
<<<<<<< HEAD
   "id": "c7ca0bb5",
=======
   "id": "144abe69",
>>>>>>> documentation
   "metadata": {
    "fig.height": 9,
    "fig.width": 9
   },
   "outputs": [],
   "source": [
    "plotSpatialFeature(sfe, genes_use, colGeometryName = \"centroids\", ncol = 2,\n",
    "                   pointsize = 0, scattermore = TRUE)"
   ]
  },
  {
   "cell_type": "markdown",
<<<<<<< HEAD
   "id": "ec465290",
=======
   "id": "112634e0",
>>>>>>> documentation
   "metadata": {},
   "source": [
    "Global Moran's I of these marker genes is shown below:"
   ]
  },
  {
   "cell_type": "code",
   "execution_count": null,
<<<<<<< HEAD
   "id": "246aa5db",
=======
   "id": "da561d34",
>>>>>>> documentation
   "metadata": {},
   "outputs": [],
   "source": [
    "setNames(rowData(sfe)[genes_use, \"moran_sample01\"], genes_use)"
   ]
  },
  {
   "cell_type": "markdown",
<<<<<<< HEAD
   "id": "06366265",
=======
   "id": "48910e7c",
>>>>>>> documentation
   "metadata": {
    "lines_to_next_cell": 0
   },
   "source": [
    "All these marker genes have positive spatial autocorrelation, but some stronger than others.\n",
    "\n",
    "Local Moran's I of these marker genes is shown below:"
   ]
  },
  {
   "cell_type": "code",
   "execution_count": null,
<<<<<<< HEAD
   "id": "59778739",
=======
   "id": "31c00e2c",
>>>>>>> documentation
   "metadata": {},
   "outputs": [],
   "source": [
    "sfe <- runUnivariate(sfe, \"localmoran\", features = genes_use, colGraphName = \"knn5\",\n",
    "                     BPPARAM = MulticoreParam(2))"
   ]
  },
  {
   "cell_type": "code",
   "execution_count": null,
<<<<<<< HEAD
   "id": "cc7fd867",
=======
   "id": "717be07a",
>>>>>>> documentation
   "metadata": {
    "fig.height": 9,
    "fig.width": 9
   },
   "outputs": [],
   "source": [
    "plotLocalResult(sfe, \"localmoran\", features = genes_use, \n",
    "                colGeometryName = \"centroids\", ncol = 2, divergent = TRUE,\n",
    "                diverge_center = 0, scattermore = TRUE, pointsize = 0)"
   ]
  },
  {
   "cell_type": "markdown",
<<<<<<< HEAD
   "id": "2b948814",
=======
   "id": "b32356b3",
>>>>>>> documentation
   "metadata": {
    "lines_to_next_cell": 0
   },
   "source": [
    "It seems that some histological regions tend to be more spatially homogenous in gene expression than others. The epithelial region tends to be more homogenous. For some genes, regions with higher expression also have higher local Moran's I, such as FOXA1 and GATA3, while for some genes, this is not the case, such as FGL2 and LUM. \n",
    "\n",
    "Finally, we assess local spatial heteroscdasticity (LOSH) for these marker genes to find local heterogeneity:"
   ]
  },
  {
   "cell_type": "code",
   "execution_count": null,
<<<<<<< HEAD
   "id": "7704c9b0",
=======
   "id": "18cfef51",
>>>>>>> documentation
   "metadata": {},
   "outputs": [],
   "source": [
    "sfe <- runUnivariate(sfe, \"LOSH\", features = genes_use, colGraphName = \"knn5\",\n",
    "                     BPPARAM = MulticoreParam(2))"
   ]
  },
  {
   "cell_type": "code",
   "execution_count": null,
<<<<<<< HEAD
   "id": "6969933c",
=======
   "id": "8469645d",
>>>>>>> documentation
   "metadata": {
    "fig.height": 9,
    "fig.width": 9
   },
   "outputs": [],
   "source": [
    "plotLocalResult(sfe, \"LOSH\", features = genes_use, \n",
    "                colGeometryName = \"centroids\", ncol = 2, scattermore = TRUE, \n",
    "                pointsize = 0)"
   ]
  },
  {
   "cell_type": "markdown",
<<<<<<< HEAD
   "id": "0fa4f38c",
=======
   "id": "ffa972ee",
>>>>>>> documentation
   "metadata": {
    "lines_to_next_cell": 0
   },
   "source": [
    "Again, just like in the [CosMX dataset](https://pachterlab.github.io/voyager/articles/vig4_cosmx.html#local-spatial-statistics-of-marker-genes), LOSH is higher where the gene is more highly expressed in some (e.g. CD3E, LUM, TENT5C) but not all cases (e.g. FOXA1, GATA3). This may be due to spatial distribution of different cell types.\n",
    "\n",
    "# Explore multiple length scales\n",
    "Here we perform spatial binning of the transcript spots with bins of different sizes to see how the spatial statistics change over length scales.\n",
    "\n",
    "# Session info"
   ]
  },
  {
   "cell_type": "code",
   "execution_count": null,
<<<<<<< HEAD
   "id": "9ca57c54",
=======
   "id": "a4af6fb4",
>>>>>>> documentation
   "metadata": {},
   "outputs": [],
   "source": [
    "sessionInfo()"
   ]
  },
  {
   "cell_type": "markdown",
<<<<<<< HEAD
   "id": "c28db76a",
=======
   "id": "82e11fde",
>>>>>>> documentation
   "metadata": {},
   "source": [
    "# References"
   ]
  }
 ],
 "metadata": {
  "kernelspec": {
   "display_name": "R",
   "language": "R",
   "name": "ir"
  }
 },
 "nbformat": 4,
 "nbformat_minor": 5
}
