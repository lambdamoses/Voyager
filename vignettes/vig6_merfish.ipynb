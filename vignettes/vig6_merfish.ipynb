{
 "cells": [
  {
   "cell_type": "raw",
<<<<<<< HEAD
<<<<<<< HEAD
<<<<<<< HEAD
   "id": "c5fbb07a",
=======
   "id": "2bd50d57",
>>>>>>> documentation-devel
=======
   "id": "959fd58c",
>>>>>>> documentation-devel
=======
   "id": "4983b222",
>>>>>>> c9ed93f2a6d5e87fe6759d6fd26c06823f77f3f2
   "metadata": {},
   "source": [
    "---\n",
    "title: \"MERFISH mouse liver dataset and considerations of large data\"\n",
    "author: \"Lambda Moses\"\n",
    "date: \"`r Sys.Date()`\"\n",
    "output: \n",
    "  html_document:\n",
    "  toc: true\n",
    "  toc_float:\n",
    "    collapsed: false\n",
    "  toc_depth: 3\n",
    "bibliography: ref.bib\n",
    "vignette: >\n",
    "  %\\VignetteIndexEntry{merfish}\n",
    "  %\\VignetteEngine{knitr::rmarkdown}\n",
    "  %\\VignetteEncoding{UTF-8}\n",
    "---"
   ]
  },
  {
   "cell_type": "code",
   "execution_count": null,
<<<<<<< HEAD
<<<<<<< HEAD
<<<<<<< HEAD
   "id": "6395e94b",
=======
   "id": "5cc1d0c9",
>>>>>>> documentation-devel
=======
   "id": "6d0294f9",
>>>>>>> documentation-devel
=======
   "id": "dc6b99f0",
>>>>>>> c9ed93f2a6d5e87fe6759d6fd26c06823f77f3f2
   "metadata": {
    "tags": [
     "remove_cell"
    ]
   },
   "outputs": [],
   "source": [
    "knitr::opts_chunk$set(\n",
    "  collapse = TRUE,\n",
    "  comment = \"#>\"\n",
    ")"
   ]
  },
  {
   "cell_type": "code",
   "execution_count": null,
<<<<<<< HEAD
<<<<<<< HEAD
<<<<<<< HEAD
   "id": "a8edcd3d",
=======
   "id": "e8251397",
>>>>>>> documentation-devel
=======
   "id": "1a163526",
>>>>>>> documentation-devel
=======
   "id": "6925147c",
>>>>>>> c9ed93f2a6d5e87fe6759d6fd26c06823f77f3f2
   "metadata": {
    "eval": false,
    "tags": [
     "remove_cell"
    ]
   },
   "outputs": [],
   "source": [
    "# Install Google Colab dependencies\n",
    "# Note: this can take 30+ minutes (many of the dependencies include C++ code, which needs to be compiled)\n",
    "\n",
    "# First install `sf`, `ragg` and `textshaping` and their system dependencies:\n",
    "system(\"apt-get -y update && apt-get install -y  libudunits2-dev libgdal-dev libgeos-dev libproj-dev libharfbuzz-dev libfribidi-dev\")\n",
    "install.packages(\"sf\")\n",
    "install.packages(\"textshaping\")\n",
    "install.packages(\"ragg\")\n",
    "\n",
    "# Install system dependencies of some other R packages that Voyager either imports or suggests:\n",
    "system(\"apt-get install -y libfribidi-dev libcairo2-dev libmagick++-dev\")\n",
    "\n",
    "# Install Voyager from Bioconductor:\n",
    "install.packages(\"BiocManager\")\n",
    "BiocManager::install(version = \"release\", ask = FALSE, update = FALSE, Ncpus = 2)\n",
    "BiocManager::install(\"scater\")\n",
    "system.time(\n",
    "  BiocManager::install(\"Voyager\", dependencies = TRUE, Ncpus = 2, update = FALSE)\n",
    ")\n",
    "\n",
    "packageVersion(\"Voyager\")"
   ]
  },
  {
   "cell_type": "markdown",
<<<<<<< HEAD
<<<<<<< HEAD
<<<<<<< HEAD
   "id": "7921eb91",
=======
   "id": "a46c96a6",
>>>>>>> documentation-devel
=======
   "id": "c710abab",
>>>>>>> documentation-devel
=======
   "id": "817fd11c",
>>>>>>> c9ed93f2a6d5e87fe6759d6fd26c06823f77f3f2
   "metadata": {
    "lines_to_next_cell": 0
   },
   "source": [
    "# Introduction\n",
    "\n",
    "The `SpatialFeatureExperiment` (SFE) and `Voyager` packages were originally developed around a relatively small Visium dataset as a proof of concept, and were hence not originally optimized for very large datasets. However, larger smFISH datasets with hundreds of thousands, sometimes over a million cells have already been produced and will soon be produced routinely. Among studies using smFISH-based spatial transcriptomics technologies that reported the number of cells per dataset, the number of cells per dataset has increased in the past years [@Moses2022-xz].\n",
    "![alt](https://pachterlab.github.io/LP_2021/05-current-techs_files/figure-html/smfish-lm-cell-1.png)\n",
    "\n",
    "In anticipation of large datasets, this vignette was produced using limited GitHub Actions resources (MacOS), which are 14 GB of RAM with 3 CPU cores and 14 GB of disk space, comparable to laptops. We therefore expect that the analyses in this vignette should scale to reasonably sized datasets.  \n",
    "\n",
    "The dataset we use in this vignette is a MERFISH mouse liver dataset downloaded from the [Vizgen website](https://console.cloud.google.com/storage/browser/vz-liver-showcase/Liver1Slice1). We will use it to discuss some issues with large datasets and some upcoming features in the next release of `Voyager`. The gene count matrix and cell metadata (including centroid coordinates) were downloaded as CSV files and read into R. While 7 z-planes were imaged, cell segmentation is only available in one z-plane. The cell polygons are in HDF5 files, with one HDF5 file per field of view (FOV), and there are over 1000 FOVs in this dataset. Converting these HDF5 files into an `sf` data frame is not trivial. See the [vignette on creating a `SpatialFeatureExperiment` (SFE) object](https://pachterlab.github.io/voyager/articles/create_sfe.html#technology-specific-notes) for code used to do the conversion, and the polygons are included in the SFE object. The cell metadata already has cell volume. If the polygons are not used in the analyses, and the polygons can't be seen on a static plot with hundreds of thousands of cells anyway, then doing the conversion is optional. While the transcript spot locations are available, we cannot yet work with such a large point dataset.\n",
    "\n",
    "Here we load the packages used. "
   ]
  },
  {
   "cell_type": "code",
   "execution_count": null,
<<<<<<< HEAD
<<<<<<< HEAD
<<<<<<< HEAD
   "id": "0c241937",
=======
   "id": "76137ab1",
>>>>>>> documentation-devel
=======
   "id": "d214fc28",
>>>>>>> documentation-devel
=======
   "id": "10997dcf",
>>>>>>> c9ed93f2a6d5e87fe6759d6fd26c06823f77f3f2
   "metadata": {
    "message": false,
    "name": "setup"
   },
   "outputs": [],
   "source": [
    "library(Voyager)\n",
    "library(SFEData)\n",
    "library(SingleCellExperiment)\n",
    "library(SpatialExperiment)\n",
    "library(scater) \n",
    "library(ggplot2)\n",
    "library(patchwork)\n",
    "library(stringr)\n",
    "library(spdep)\n",
    "library(BiocParallel)\n",
    "library(BiocSingular)\n",
    "library(gstat)\n",
    "library(BiocNeighbors)\n",
    "library(sf)\n",
    "library(automap)\n",
    "theme_set(theme_bw())"
   ]
  },
  {
   "cell_type": "code",
   "execution_count": null,
<<<<<<< HEAD
<<<<<<< HEAD
<<<<<<< HEAD
   "id": "9b3c9708",
=======
   "id": "94b78125",
>>>>>>> documentation-devel
=======
   "id": "813ca208",
>>>>>>> documentation-devel
=======
   "id": "2ab51d49",
>>>>>>> c9ed93f2a6d5e87fe6759d6fd26c06823f77f3f2
   "metadata": {},
   "outputs": [],
   "source": [
    "(sfe <- VizgenLiverData())"
   ]
  },
  {
   "cell_type": "markdown",
<<<<<<< HEAD
<<<<<<< HEAD
<<<<<<< HEAD
   "id": "c4108710",
=======
   "id": "1dff58fb",
>>>>>>> documentation-devel
=======
   "id": "83a9ea1a",
>>>>>>> documentation-devel
=======
   "id": "2bb2eb0a",
>>>>>>> c9ed93f2a6d5e87fe6759d6fd26c06823f77f3f2
   "metadata": {
    "lines_to_next_cell": 0
   },
   "source": [
    "There are 395,215 cells in this dataset. Plotting them all as polygons takes a while, but it isn't too bad."
   ]
  },
  {
   "cell_type": "code",
   "execution_count": null,
<<<<<<< HEAD
<<<<<<< HEAD
<<<<<<< HEAD
   "id": "2fc80757",
=======
   "id": "99707b3f",
>>>>>>> documentation-devel
=======
   "id": "e379331c",
>>>>>>> documentation-devel
=======
   "id": "2fe5a060",
>>>>>>> c9ed93f2a6d5e87fe6759d6fd26c06823f77f3f2
   "metadata": {
    "fig.height": 6,
    "fig.width": 9
   },
   "outputs": [],
   "source": [
    "plotGeometry(sfe, \"cellSeg\")"
   ]
  },
  {
   "cell_type": "markdown",
<<<<<<< HEAD
<<<<<<< HEAD
<<<<<<< HEAD
   "id": "c0ccc951",
=======
   "id": "edb75280",
>>>>>>> documentation-devel
=======
   "id": "2ab3800f",
>>>>>>> documentation-devel
=======
   "id": "8abdc4ca",
>>>>>>> c9ed93f2a6d5e87fe6759d6fd26c06823f77f3f2
   "metadata": {
    "lines_to_next_cell": 0
   },
   "source": [
    "However, we do not wish to save this plot as PDF. To avoid this problem, we can either use the `scattermore = TRUE` argument in `plotSpatialFeature()` and plot the centroids since the polygons are hard to see anyway. \n",
    "\n",
    "Cell density can be vaguely seen in the plot above. Here we count the number of cells in bins to better visualize cell density."
   ]
  },
  {
   "cell_type": "code",
   "execution_count": null,
<<<<<<< HEAD
<<<<<<< HEAD
<<<<<<< HEAD
   "id": "29311964",
=======
   "id": "71b2d5f5",
>>>>>>> documentation-devel
=======
   "id": "d9e8adae",
>>>>>>> documentation-devel
=======
   "id": "97b0b5d1",
>>>>>>> c9ed93f2a6d5e87fe6759d6fd26c06823f77f3f2
   "metadata": {
    "fig.height": 6,
    "fig.width": 9
   },
   "outputs": [],
   "source": [
    "plotCellBin2D(sfe, bins = 300, hex = TRUE)"
   ]
  },
  {
   "cell_type": "markdown",
<<<<<<< HEAD
<<<<<<< HEAD
<<<<<<< HEAD
   "id": "d8b55309",
=======
   "id": "a39f5d94",
>>>>>>> documentation-devel
=======
   "id": "ce1989b1",
>>>>>>> documentation-devel
=======
   "id": "1445bad0",
>>>>>>> c9ed93f2a6d5e87fe6759d6fd26c06823f77f3f2
   "metadata": {
    "lines_to_next_cell": 0
   },
   "source": [
    "Cell density is for the most part homogeneous but shows some structure with denser regions that seem to relate to the blood vessels.\n",
    "\n",
    "# Quality control"
   ]
  },
  {
   "cell_type": "code",
   "execution_count": null,
<<<<<<< HEAD
<<<<<<< HEAD
<<<<<<< HEAD
   "id": "b82c4da1",
=======
   "id": "f7608a7d",
>>>>>>> documentation-devel
=======
   "id": "38c4af94",
>>>>>>> documentation-devel
=======
   "id": "8a36bbaf",
>>>>>>> c9ed93f2a6d5e87fe6759d6fd26c06823f77f3f2
   "metadata": {},
   "outputs": [],
   "source": [
    "names(colData(sfe))"
   ]
  },
  {
   "cell_type": "markdown",
<<<<<<< HEAD
<<<<<<< HEAD
<<<<<<< HEAD
   "id": "ee4f6202",
=======
   "id": "79ed266e",
>>>>>>> documentation-devel
=======
   "id": "958da44a",
>>>>>>> documentation-devel
=======
   "id": "7954eae9",
>>>>>>> c9ed93f2a6d5e87fe6759d6fd26c06823f77f3f2
   "metadata": {
    "lines_to_next_cell": 0
   },
   "source": [
    "Plotting almost 400,000 polygons is kind of slow but doable."
   ]
  },
  {
   "cell_type": "code",
   "execution_count": null,
<<<<<<< HEAD
<<<<<<< HEAD
<<<<<<< HEAD
   "id": "4ba921d6",
=======
   "id": "af3c2296",
>>>>>>> documentation-devel
=======
   "id": "356f2892",
>>>>>>> documentation-devel
=======
   "id": "3c0f9fe0",
>>>>>>> c9ed93f2a6d5e87fe6759d6fd26c06823f77f3f2
   "metadata": {},
   "outputs": [],
   "source": [
    "system.time(\n",
    "    print(plotSpatialFeature(sfe, \"nCounts\", colGeometryName = \"cellSeg\"))\n",
    ")"
   ]
  },
  {
   "cell_type": "markdown",
<<<<<<< HEAD
<<<<<<< HEAD
<<<<<<< HEAD
   "id": "c7949ccd",
=======
   "id": "3ccbdf5b",
>>>>>>> documentation-devel
=======
   "id": "a51f861d",
>>>>>>> documentation-devel
=======
   "id": "4d499fa2",
>>>>>>> c9ed93f2a6d5e87fe6759d6fd26c06823f77f3f2
   "metadata": {},
   "source": [
    "Here nCounts kind of looks like salt and pepper. Using the [`scattermore`](https://github.com/exaexa/scattermore) package can speed up plotting a large number of points. In this non-interactive plot, the cell polygons are too small to see anyway, so plotting cell centroid points should be fine. "
   ]
  },
  {
   "cell_type": "code",
   "execution_count": null,
<<<<<<< HEAD
<<<<<<< HEAD
<<<<<<< HEAD
   "id": "fc620a29",
=======
   "id": "c689907f",
>>>>>>> documentation-devel
=======
   "id": "106545fa",
>>>>>>> documentation-devel
=======
   "id": "7993d2e9",
>>>>>>> c9ed93f2a6d5e87fe6759d6fd26c06823f77f3f2
   "metadata": {},
   "outputs": [],
   "source": [
    "system.time({\n",
    "    print(plotSpatialFeature(sfe, \"nCounts\", colGeometryName = \"centroids\",\n",
    "                             scattermore = TRUE))\n",
    "})"
   ]
  },
  {
   "cell_type": "markdown",
<<<<<<< HEAD
<<<<<<< HEAD
<<<<<<< HEAD
   "id": "15b4b5b2",
=======
   "id": "ab7135af",
>>>>>>> documentation-devel
=======
   "id": "2c1604e2",
>>>>>>> documentation-devel
=======
   "id": "384706fc",
>>>>>>> c9ed93f2a6d5e87fe6759d6fd26c06823f77f3f2
   "metadata": {},
   "source": [
    "When run on our server, plotting almost 400,000 polygons took around 23 seconds, while using `geom_scattermore()` (`scattermore = TRUE`) took about 2 seconds. Since `geom_scattermore()` rasterizes the plot, the plot will be pixelated when zoomed in. \n",
    "\n",
    "While interactive data visualization is useful for ESDA, there is a need for static figures in publications. As of Voyager 1.2.0 (Bioconductor release), a bounding box can be specified to zoom into the data."
   ]
  },
  {
   "cell_type": "code",
   "execution_count": null,
<<<<<<< HEAD
<<<<<<< HEAD
<<<<<<< HEAD
   "id": "4d4471dc",
=======
   "id": "a7dd9ac2",
>>>>>>> documentation-devel
=======
   "id": "79f9afcd",
>>>>>>> documentation-devel
=======
   "id": "3dd004d8",
>>>>>>> c9ed93f2a6d5e87fe6759d6fd26c06823f77f3f2
   "metadata": {},
   "outputs": [],
   "source": [
    "bbox_use <- c(xmin = 3000, xmax = 3500, ymin = 2500, ymax = 3000)"
   ]
  },
  {
   "cell_type": "code",
   "execution_count": null,
<<<<<<< HEAD
<<<<<<< HEAD
<<<<<<< HEAD
   "id": "c141a7e5",
=======
   "id": "8bfb97f6",
>>>>>>> documentation-devel
=======
   "id": "04a092c0",
>>>>>>> documentation-devel
=======
   "id": "a380f7ab",
>>>>>>> c9ed93f2a6d5e87fe6759d6fd26c06823f77f3f2
   "metadata": {},
   "outputs": [],
   "source": [
    "plotSpatialFeature(sfe, \"nCounts\", colGeometryName = \"cellSeg\", bbox = bbox_use)"
   ]
  },
  {
   "cell_type": "markdown",
<<<<<<< HEAD
<<<<<<< HEAD
<<<<<<< HEAD
   "id": "8c873825",
=======
   "id": "9c00eace",
>>>>>>> documentation-devel
=======
   "id": "369e6734",
>>>>>>> documentation-devel
=======
   "id": "6c25023e",
>>>>>>> c9ed93f2a6d5e87fe6759d6fd26c06823f77f3f2
   "metadata": {
    "lines_to_next_cell": 0
   },
   "source": [
    "Much of the time making this plot is spent subsetting the `sf` data frame with the bounding box. Here, spatial autocorrelation is evident in the upper right region with smaller cells, but less so in the rest of this patch. nCounts seems to be related to cell size; larger cells seem to have more total counts.\n",
    "\n",
    "Interactive data visualization is currently beyond the scope of `Voyager` or this vignette. There are existing tools for interactive visualization of highly multiplexed imaging data, such as [`MERmaid`](https://github.com/JEFworks-Lab/MERmaid) [@Wang2020-sv] for MERFISH data, [`TissUUmaps`](https://github.com/TissUUmaps/TissUUmapsCore) [@Behanova2023-gl], [`Visinity`](https://github.com/labsyspharm/visinity) [@Warchol2023-zw], and the [samui broswer](https://github.com/chaichontat/samui) [@Sriworarat2023-jl].\n",
    "\n",
    "Since there aren't too many genes, all genes and negative control probes can be displayed:"
   ]
  },
  {
   "cell_type": "code",
   "execution_count": null,
<<<<<<< HEAD
<<<<<<< HEAD
<<<<<<< HEAD
   "id": "192dd77e",
=======
   "id": "ae71df3f",
>>>>>>> documentation-devel
=======
   "id": "8d3f95fe",
>>>>>>> documentation-devel
=======
   "id": "75249c25",
>>>>>>> c9ed93f2a6d5e87fe6759d6fd26c06823f77f3f2
   "metadata": {},
   "outputs": [],
   "source": [
    "rownames(sfe)"
   ]
  },
  {
   "cell_type": "markdown",
<<<<<<< HEAD
<<<<<<< HEAD
<<<<<<< HEAD
   "id": "07824611",
=======
   "id": "86bfb8dd",
>>>>>>> documentation-devel
=======
   "id": "19f8a6ab",
>>>>>>> documentation-devel
=======
   "id": "9a9e6156",
>>>>>>> c9ed93f2a6d5e87fe6759d6fd26c06823f77f3f2
   "metadata": {},
   "source": [
    "The number of real genes is 347."
   ]
  },
  {
   "cell_type": "code",
   "execution_count": null,
<<<<<<< HEAD
<<<<<<< HEAD
<<<<<<< HEAD
   "id": "230f7429",
=======
   "id": "40072c56",
>>>>>>> documentation-devel
=======
   "id": "0e73116f",
>>>>>>> documentation-devel
=======
   "id": "e2e2bdfa",
>>>>>>> c9ed93f2a6d5e87fe6759d6fd26c06823f77f3f2
   "metadata": {},
   "outputs": [],
   "source": [
    "n_panel <- 347"
   ]
  },
  {
   "cell_type": "markdown",
<<<<<<< HEAD
<<<<<<< HEAD
<<<<<<< HEAD
   "id": "f06eda33",
=======
   "id": "5b4f5675",
>>>>>>> documentation-devel
=======
   "id": "6de73d78",
>>>>>>> documentation-devel
=======
   "id": "259ec4ca",
>>>>>>> c9ed93f2a6d5e87fe6759d6fd26c06823f77f3f2
   "metadata": {
    "lines_to_next_cell": 0
   },
   "source": [
    "Next, we plot the distribution of nCounts divided by the number of genes in the panel, so this distribution is more comparable across datasets with different numbers of genes."
   ]
  },
  {
   "cell_type": "code",
   "execution_count": null,
<<<<<<< HEAD
<<<<<<< HEAD
<<<<<<< HEAD
   "id": "6232783b",
=======
   "id": "3f7e3404",
>>>>>>> documentation-devel
=======
   "id": "d97f04f9",
>>>>>>> documentation-devel
=======
   "id": "a9fbf9b2",
>>>>>>> c9ed93f2a6d5e87fe6759d6fd26c06823f77f3f2
   "metadata": {},
   "outputs": [],
   "source": [
    "colData(sfe)$nCounts_normed <- sfe$nCounts / n_panel\n",
    "colData(sfe)$nGenes_normed <- sfe$nGenes / n_panel"
   ]
  },
  {
   "cell_type": "code",
   "execution_count": null,
<<<<<<< HEAD
<<<<<<< HEAD
<<<<<<< HEAD
   "id": "1b84df85",
=======
   "id": "b7aa3039",
>>>>>>> documentation-devel
=======
   "id": "fc99ad48",
>>>>>>> documentation-devel
=======
   "id": "b9554d3a",
>>>>>>> c9ed93f2a6d5e87fe6759d6fd26c06823f77f3f2
   "metadata": {},
   "outputs": [],
   "source": [
    "plotColDataHistogram(sfe, c(\"nCounts_normed\", \"nGenes_normed\"))"
   ]
  },
  {
   "cell_type": "markdown",
<<<<<<< HEAD
<<<<<<< HEAD
<<<<<<< HEAD
   "id": "e7167c23",
=======
   "id": "7c53e23e",
>>>>>>> documentation-devel
=======
   "id": "d5aa5678",
>>>>>>> documentation-devel
=======
   "id": "8ed87db6",
>>>>>>> c9ed93f2a6d5e87fe6759d6fd26c06823f77f3f2
   "metadata": {
    "lines_to_next_cell": 0
   },
   "source": [
    "As with the [Xenium dataset](https://pachterlab.github.io/voyager/articles/vig5_xenium.html#cells), there are mysterious regular notches in the histogram of the number of genes detected.\n",
    "\n",
    "We also plot the number of genes detected per cell, with `geom_scattermore()`."
   ]
  },
  {
   "cell_type": "code",
   "execution_count": null,
<<<<<<< HEAD
<<<<<<< HEAD
<<<<<<< HEAD
   "id": "ff7480a0",
=======
   "id": "25fc5e0b",
>>>>>>> documentation-devel
=======
   "id": "3a67d701",
>>>>>>> documentation-devel
=======
   "id": "d10952cd",
>>>>>>> c9ed93f2a6d5e87fe6759d6fd26c06823f77f3f2
   "metadata": {},
   "outputs": [],
   "source": [
    "plotSpatialFeature(sfe, \"nGenes\", colGeometryName = \"centroids\", scattermore = TRUE)"
   ]
  },
  {
   "cell_type": "markdown",
<<<<<<< HEAD
<<<<<<< HEAD
<<<<<<< HEAD
   "id": "4c9a6bc1",
=======
   "id": "8008a2e3",
>>>>>>> documentation-devel
=======
   "id": "a2986edf",
>>>>>>> documentation-devel
=======
   "id": "16652554",
>>>>>>> c9ed93f2a6d5e87fe6759d6fd26c06823f77f3f2
   "metadata": {
    "lines_to_next_cell": 0
   },
   "source": [
    "Similarly to nCounts, the points look intermingled. \n",
    "\n",
    "Distribution of cell volume in space:"
   ]
  },
  {
   "cell_type": "code",
   "execution_count": null,
<<<<<<< HEAD
<<<<<<< HEAD
<<<<<<< HEAD
   "id": "a4647610",
=======
   "id": "b411e6b9",
>>>>>>> documentation-devel
=======
   "id": "1ae28428",
>>>>>>> documentation-devel
=======
   "id": "14bc3aaf",
>>>>>>> c9ed93f2a6d5e87fe6759d6fd26c06823f77f3f2
   "metadata": {},
   "outputs": [],
   "source": [
    "plotSpatialFeature(sfe, \"volume\", colGeometryName = \"centroids\", scattermore = TRUE)"
   ]
  },
  {
   "cell_type": "markdown",
<<<<<<< HEAD
<<<<<<< HEAD
<<<<<<< HEAD
   "id": "ffccc675",
=======
   "id": "cc0b0dff",
>>>>>>> documentation-devel
=======
   "id": "4e25ef73",
>>>>>>> documentation-devel
=======
   "id": "6ed2ce2d",
>>>>>>> c9ed93f2a6d5e87fe6759d6fd26c06823f77f3f2
   "metadata": {
    "lines_to_next_cell": 0
   },
   "source": [
    "Next, we explore how nCounts relates to nGenes:"
   ]
  },
  {
   "cell_type": "code",
   "execution_count": null,
<<<<<<< HEAD
<<<<<<< HEAD
<<<<<<< HEAD
   "id": "a690e713",
=======
   "id": "6b7ff4ea",
>>>>>>> documentation-devel
=======
   "id": "2e25d50a",
>>>>>>> documentation-devel
=======
   "id": "8d89f36a",
>>>>>>> c9ed93f2a6d5e87fe6759d6fd26c06823f77f3f2
   "metadata": {},
   "outputs": [],
   "source": [
    "plotColData(sfe, x=\"nCounts\", y=\"nGenes\", bins = 100)"
   ]
  },
  {
   "cell_type": "markdown",
<<<<<<< HEAD
<<<<<<< HEAD
<<<<<<< HEAD
   "id": "1610abe2",
=======
   "id": "86d3fe55",
>>>>>>> documentation-devel
=======
   "id": "ced4e341",
>>>>>>> documentation-devel
=======
   "id": "b273dd7c",
>>>>>>> c9ed93f2a6d5e87fe6759d6fd26c06823f77f3f2
   "metadata": {
    "lines_to_next_cell": 0
   },
   "source": [
    "There are two branches in this plot. \n",
    "\n",
    "How does cell size relate to nCounts?"
   ]
  },
  {
   "cell_type": "code",
   "execution_count": null,
<<<<<<< HEAD
<<<<<<< HEAD
<<<<<<< HEAD
   "id": "bb948305",
=======
   "id": "09649e78",
>>>>>>> documentation-devel
=======
   "id": "e14d0fe8",
>>>>>>> documentation-devel
=======
   "id": "4a18a0e8",
>>>>>>> c9ed93f2a6d5e87fe6759d6fd26c06823f77f3f2
   "metadata": {},
   "outputs": [],
   "source": [
    "plotColData(sfe, x=\"volume\", y=\"nCounts\", bins = 100)"
   ]
  },
  {
   "cell_type": "markdown",
<<<<<<< HEAD
<<<<<<< HEAD
<<<<<<< HEAD
   "id": "37e0aac6",
=======
   "id": "fbeb6d02",
>>>>>>> documentation-devel
=======
   "id": "06c1359e",
>>>>>>> documentation-devel
=======
   "id": "f2798723",
>>>>>>> c9ed93f2a6d5e87fe6759d6fd26c06823f77f3f2
   "metadata": {
    "lines_to_next_cell": 0
   },
   "source": [
    "The lower branch has the larger cells that don't tend to have more total counts, and the upper branch has larger cells that tend to have more total counts.\n",
    "\n",
    "We also examine how cell size relates to number of genes detected:"
   ]
  },
  {
   "cell_type": "code",
   "execution_count": null,
<<<<<<< HEAD
<<<<<<< HEAD
<<<<<<< HEAD
   "id": "2489b6f0",
=======
   "id": "7cf52c6c",
>>>>>>> documentation-devel
=======
   "id": "433c944a",
>>>>>>> documentation-devel
=======
   "id": "49246897",
>>>>>>> c9ed93f2a6d5e87fe6759d6fd26c06823f77f3f2
   "metadata": {},
   "outputs": [],
   "source": [
    "plotColData(sfe, x=\"volume\", y=\"nGenes\", bins = 100)"
   ]
  },
  {
   "cell_type": "markdown",
<<<<<<< HEAD
<<<<<<< HEAD
<<<<<<< HEAD
   "id": "9368f97e",
=======
   "id": "eeef5cbf",
>>>>>>> documentation-devel
=======
   "id": "6448e8a6",
>>>>>>> documentation-devel
=======
   "id": "675362e8",
>>>>>>> c9ed93f2a6d5e87fe6759d6fd26c06823f77f3f2
   "metadata": {
    "lines_to_next_cell": 0
   },
   "source": [
    "There seem to be clusters that are possibly related to cell type. \n",
    "\n",
    "### Negative controls\n",
    "Blank probes are used as negative controls."
   ]
  },
  {
   "cell_type": "code",
   "execution_count": null,
<<<<<<< HEAD
<<<<<<< HEAD
<<<<<<< HEAD
   "id": "fdd1c0cf",
=======
   "id": "757682c7",
>>>>>>> documentation-devel
=======
   "id": "851f302e",
>>>>>>> documentation-devel
=======
   "id": "cdb90c10",
>>>>>>> c9ed93f2a6d5e87fe6759d6fd26c06823f77f3f2
   "metadata": {},
   "outputs": [],
   "source": [
    "is_blank <- str_detect(rownames(sfe), \"^Blank-\")"
   ]
  },
  {
   "cell_type": "code",
   "execution_count": null,
<<<<<<< HEAD
<<<<<<< HEAD
<<<<<<< HEAD
   "id": "0f0f07ee",
=======
   "id": "6b92a667",
>>>>>>> documentation-devel
=======
   "id": "bab4cafb",
>>>>>>> documentation-devel
=======
   "id": "75416d00",
>>>>>>> c9ed93f2a6d5e87fe6759d6fd26c06823f77f3f2
   "metadata": {},
   "outputs": [],
   "source": [
    "sfe <- addPerCellQCMetrics(sfe, subset = list(blank = is_blank))"
   ]
  },
  {
   "cell_type": "code",
   "execution_count": null,
<<<<<<< HEAD
<<<<<<< HEAD
<<<<<<< HEAD
   "id": "ffcd76b0",
=======
   "id": "bb05192c",
>>>>>>> documentation-devel
=======
   "id": "1d6ab21b",
>>>>>>> documentation-devel
=======
   "id": "ac6d8141",
>>>>>>> c9ed93f2a6d5e87fe6759d6fd26c06823f77f3f2
   "metadata": {},
   "outputs": [],
   "source": [
    "names(colData(sfe))"
   ]
  },
  {
   "cell_type": "markdown",
<<<<<<< HEAD
<<<<<<< HEAD
<<<<<<< HEAD
   "id": "91dc104d",
=======
   "id": "72e5dec1",
>>>>>>> documentation-devel
=======
   "id": "11836fc3",
>>>>>>> documentation-devel
=======
   "id": "03bcb26c",
>>>>>>> c9ed93f2a6d5e87fe6759d6fd26c06823f77f3f2
   "metadata": {
    "lines_to_next_cell": 0
   },
   "source": [
    "Total transcript counts from the blank probes:"
   ]
  },
  {
   "cell_type": "code",
   "execution_count": null,
<<<<<<< HEAD
<<<<<<< HEAD
<<<<<<< HEAD
   "id": "0a7ed772",
=======
   "id": "eb706612",
>>>>>>> documentation-devel
=======
   "id": "82e9c6fc",
>>>>>>> documentation-devel
=======
   "id": "3b094844",
>>>>>>> c9ed93f2a6d5e87fe6759d6fd26c06823f77f3f2
   "metadata": {},
   "outputs": [],
   "source": [
    "plotSpatialFeature(sfe, \"subsets_blank_sum\", colGeometryName = \"centroids\",\n",
    "                   scattermore = TRUE)"
   ]
  },
  {
   "cell_type": "markdown",
<<<<<<< HEAD
<<<<<<< HEAD
<<<<<<< HEAD
   "id": "a4a70b50",
=======
   "id": "6e9782ca",
>>>>>>> documentation-devel
=======
   "id": "6492bc94",
>>>>>>> documentation-devel
=======
   "id": "f0b8bd6c",
>>>>>>> c9ed93f2a6d5e87fe6759d6fd26c06823f77f3f2
   "metadata": {
    "lines_to_next_cell": 0
   },
   "source": [
    "Number of blank features detected per cell:"
   ]
  },
  {
   "cell_type": "code",
   "execution_count": null,
<<<<<<< HEAD
<<<<<<< HEAD
<<<<<<< HEAD
   "id": "c594429a",
=======
   "id": "9bd2cc68",
>>>>>>> documentation-devel
=======
   "id": "29e154ac",
>>>>>>> documentation-devel
=======
   "id": "32afa107",
>>>>>>> c9ed93f2a6d5e87fe6759d6fd26c06823f77f3f2
   "metadata": {},
   "outputs": [],
   "source": [
    "plotSpatialFeature(sfe, \"subsets_blank_detected\", colGeometryName = \"centroids\",\n",
    "                   scattermore = TRUE)"
   ]
  },
  {
   "cell_type": "markdown",
<<<<<<< HEAD
<<<<<<< HEAD
<<<<<<< HEAD
   "id": "3ad64e12",
=======
   "id": "cb87c769",
>>>>>>> documentation-devel
=======
   "id": "99ed0d0c",
>>>>>>> documentation-devel
=======
   "id": "a3d9352e",
>>>>>>> c9ed93f2a6d5e87fe6759d6fd26c06823f77f3f2
   "metadata": {
    "lines_to_next_cell": 0
   },
   "source": [
    "Percentage of blank features per cell:"
   ]
  },
  {
   "cell_type": "code",
   "execution_count": null,
<<<<<<< HEAD
<<<<<<< HEAD
<<<<<<< HEAD
   "id": "46b7f221",
=======
   "id": "378198f4",
>>>>>>> documentation-devel
=======
   "id": "0ad8ff14",
>>>>>>> documentation-devel
=======
   "id": "a4eb3601",
>>>>>>> c9ed93f2a6d5e87fe6759d6fd26c06823f77f3f2
   "metadata": {},
   "outputs": [],
   "source": [
    "plotSpatialFeature(sfe, \"subsets_blank_percent\", colGeometryName = \"centroids\",\n",
    "                   scattermore = TRUE)"
   ]
  },
  {
   "cell_type": "markdown",
<<<<<<< HEAD
<<<<<<< HEAD
<<<<<<< HEAD
   "id": "6c4f7bb1",
=======
   "id": "9763927a",
>>>>>>> documentation-devel
=======
   "id": "3581c3f4",
>>>>>>> documentation-devel
=======
   "id": "bdc0e8e7",
>>>>>>> c9ed93f2a6d5e87fe6759d6fd26c06823f77f3f2
   "metadata": {
    "lines_to_next_cell": 0
   },
   "source": [
    "The percentage is more interesting: within the tissue, cells with high percentage of blank counts are scattered like salt and pepper, but more of these cells are on the left edge of the tissue, the edges of FOVs, where the tissue itself doesn't end. \n",
    "\n",
    "Also plot histograms: "
   ]
  },
  {
   "cell_type": "code",
   "execution_count": null,
<<<<<<< HEAD
<<<<<<< HEAD
<<<<<<< HEAD
   "id": "83191315",
=======
   "id": "670e579c",
>>>>>>> documentation-devel
=======
   "id": "aa4b270a",
>>>>>>> documentation-devel
=======
   "id": "bbaaec98",
>>>>>>> c9ed93f2a6d5e87fe6759d6fd26c06823f77f3f2
   "metadata": {},
   "outputs": [],
   "source": [
    "plotColDataHistogram(sfe, paste0(\"subsets_blank_\", c(\"sum\", \"detected\", \"percent\")))"
   ]
  },
  {
   "cell_type": "markdown",
<<<<<<< HEAD
<<<<<<< HEAD
<<<<<<< HEAD
   "id": "20a33e5f",
=======
   "id": "b7c2dc7e",
>>>>>>> documentation-devel
=======
   "id": "8d626705",
>>>>>>> documentation-devel
=======
   "id": "c27ce375",
>>>>>>> c9ed93f2a6d5e87fe6759d6fd26c06823f77f3f2
   "metadata": {
    "lines_to_next_cell": 0
   },
   "source": [
    "The NA's are cells without any transcript detected. "
   ]
  },
  {
   "cell_type": "code",
   "execution_count": null,
<<<<<<< HEAD
<<<<<<< HEAD
<<<<<<< HEAD
   "id": "2169b2b4",
=======
   "id": "11e11398",
>>>>>>> documentation-devel
=======
   "id": "6bfc5e0a",
>>>>>>> documentation-devel
=======
   "id": "8dc58389",
>>>>>>> c9ed93f2a6d5e87fe6759d6fd26c06823f77f3f2
   "metadata": {},
   "outputs": [],
   "source": [
    "mean(sfe$subsets_blank_sum > 0)"
   ]
  },
  {
   "cell_type": "markdown",
<<<<<<< HEAD
<<<<<<< HEAD
<<<<<<< HEAD
   "id": "35a6d102",
=======
   "id": "c6333231",
>>>>>>> documentation-devel
=======
   "id": "dc08e21a",
>>>>>>> documentation-devel
=======
   "id": "f9ee6f66",
>>>>>>> c9ed93f2a6d5e87fe6759d6fd26c06823f77f3f2
   "metadata": {
    "lines_to_next_cell": 0
   },
   "source": [
    "Unlike in the Xenium dataset, here most cells have at least one blank count. By log transforming, the zeroes are removed from the plot. "
   ]
  },
  {
   "cell_type": "code",
   "execution_count": null,
<<<<<<< HEAD
<<<<<<< HEAD
<<<<<<< HEAD
   "id": "4ac4c5c8",
=======
   "id": "331888ce",
>>>>>>> documentation-devel
=======
   "id": "daca5d79",
>>>>>>> documentation-devel
=======
   "id": "b4d43d17",
>>>>>>> c9ed93f2a6d5e87fe6759d6fd26c06823f77f3f2
   "metadata": {},
   "outputs": [],
   "source": [
    "plotColDataHistogram(sfe, \"subsets_blank_percent\") +\n",
    "    scale_x_log10() +\n",
    "    annotation_logticks()"
   ]
  },
  {
   "cell_type": "markdown",
<<<<<<< HEAD
<<<<<<< HEAD
<<<<<<< HEAD
   "id": "fd24dea3",
=======
   "id": "d7b9c6c3",
>>>>>>> documentation-devel
=======
   "id": "818b619b",
>>>>>>> documentation-devel
=======
   "id": "1bb7951b",
>>>>>>> c9ed93f2a6d5e87fe6759d6fd26c06823f77f3f2
   "metadata": {},
   "source": [
    "A small percentage of blank counts is acceptable. So we will remove the outlier based on the distribution of the percentage when it's greater than zero. How does the blank percentage relate to total counts?"
   ]
  },
  {
   "cell_type": "code",
   "execution_count": null,
<<<<<<< HEAD
<<<<<<< HEAD
<<<<<<< HEAD
   "id": "30fe1139",
=======
   "id": "720a67b1",
>>>>>>> documentation-devel
=======
   "id": "863e91ba",
>>>>>>> documentation-devel
=======
   "id": "e9e203b8",
>>>>>>> c9ed93f2a6d5e87fe6759d6fd26c06823f77f3f2
   "metadata": {},
   "outputs": [],
   "source": [
    "plotColData(sfe, x=\"nCounts\", y=\"subsets_blank_percent\", bins = 100)"
   ]
  },
  {
   "cell_type": "markdown",
<<<<<<< HEAD
<<<<<<< HEAD
<<<<<<< HEAD
   "id": "1e1ff552",
=======
   "id": "77728cfb",
>>>>>>> documentation-devel
=======
   "id": "b8022f15",
>>>>>>> documentation-devel
=======
   "id": "9af9d5ed",
>>>>>>> c9ed93f2a6d5e87fe6759d6fd26c06823f77f3f2
   "metadata": {
    "lines_to_next_cell": 0
   },
   "source": [
    "The outliers in percentage of blank counts have low total counts. But there are some seemingly real cells with sizable nCounts which have a relatively high percentage of blank counts. Since the distribution of this percentage has a very long tail, we log transform it when finding outliers."
   ]
  },
  {
   "cell_type": "code",
   "execution_count": null,
<<<<<<< HEAD
<<<<<<< HEAD
<<<<<<< HEAD
   "id": "1c3e1e44",
=======
   "id": "00b331db",
>>>>>>> documentation-devel
=======
   "id": "396eb011",
>>>>>>> documentation-devel
=======
   "id": "36d03835",
>>>>>>> c9ed93f2a6d5e87fe6759d6fd26c06823f77f3f2
   "metadata": {},
   "outputs": [],
   "source": [
    "get_neg_ctrl_outliers <- function(col, sfe, nmads = 3, log = FALSE) {\n",
    "    inds <- colData(sfe)$nCounts > 0 & colData(sfe)[[col]] > 0\n",
    "    df <- colData(sfe)[inds,]\n",
    "    outlier_inds <- isOutlier(df[[col]], type = \"higher\", nmads = nmads, log = log)\n",
    "    outliers <- rownames(df)[outlier_inds]\n",
    "    col2 <- str_remove(col, \"^subsets_\")\n",
    "    col2 <- str_remove(col2, \"_percent$\")\n",
    "    new_colname <- paste(\"is\", col2, \"outlier\", sep = \"_\")\n",
    "    colData(sfe)[[new_colname]] <- colnames(sfe) %in% outliers\n",
    "    sfe\n",
    "}"
   ]
  },
  {
   "cell_type": "code",
   "execution_count": null,
<<<<<<< HEAD
<<<<<<< HEAD
<<<<<<< HEAD
   "id": "05721abd",
=======
   "id": "7f30e906",
>>>>>>> documentation-devel
=======
   "id": "ff380cac",
>>>>>>> documentation-devel
=======
   "id": "bf26277c",
>>>>>>> c9ed93f2a6d5e87fe6759d6fd26c06823f77f3f2
   "metadata": {},
   "outputs": [],
   "source": [
    "sfe <- get_neg_ctrl_outliers(\"subsets_blank_percent\", sfe, log = TRUE)"
   ]
  },
  {
   "cell_type": "markdown",
<<<<<<< HEAD
<<<<<<< HEAD
<<<<<<< HEAD
   "id": "219d4e7b",
=======
   "id": "dcbb15f3",
>>>>>>> documentation-devel
=======
   "id": "e73f18fd",
>>>>>>> documentation-devel
=======
   "id": "5146507c",
>>>>>>> c9ed93f2a6d5e87fe6759d6fd26c06823f77f3f2
   "metadata": {
    "lines_to_next_cell": 0
   },
   "source": [
    "What proportion of all cells are outliers?"
   ]
  },
  {
   "cell_type": "code",
   "execution_count": null,
<<<<<<< HEAD
<<<<<<< HEAD
<<<<<<< HEAD
   "id": "97defaa5",
=======
   "id": "f18f78cb",
>>>>>>> documentation-devel
=======
   "id": "21758a53",
>>>>>>> documentation-devel
=======
   "id": "88891011",
>>>>>>> c9ed93f2a6d5e87fe6759d6fd26c06823f77f3f2
   "metadata": {},
   "outputs": [],
   "source": [
    "mean(sfe$is_blank_outlier)"
   ]
  },
  {
   "cell_type": "markdown",
<<<<<<< HEAD
<<<<<<< HEAD
<<<<<<< HEAD
   "id": "b86ab372",
=======
   "id": "de5f6977",
>>>>>>> documentation-devel
=======
   "id": "9b5d4015",
>>>>>>> documentation-devel
=======
   "id": "8445be2a",
>>>>>>> c9ed93f2a6d5e87fe6759d6fd26c06823f77f3f2
   "metadata": {
    "lines_to_next_cell": 0
   },
   "source": [
    "What's the cutoff for outlier?"
   ]
  },
  {
   "cell_type": "code",
   "execution_count": null,
<<<<<<< HEAD
<<<<<<< HEAD
<<<<<<< HEAD
   "id": "32e47aa7",
=======
   "id": "6c67d4c5",
>>>>>>> documentation-devel
=======
   "id": "a527face",
>>>>>>> documentation-devel
=======
   "id": "ebd6c546",
>>>>>>> c9ed93f2a6d5e87fe6759d6fd26c06823f77f3f2
   "metadata": {},
   "outputs": [],
   "source": [
    "min(sfe$subsets_blank_percent[sfe$is_blank_outlier])"
   ]
  },
  {
   "cell_type": "markdown",
<<<<<<< HEAD
<<<<<<< HEAD
<<<<<<< HEAD
   "id": "bfe6d779",
=======
   "id": "41aedba2",
>>>>>>> documentation-devel
=======
   "id": "ff90df9c",
>>>>>>> documentation-devel
=======
   "id": "67a1e9c9",
>>>>>>> c9ed93f2a6d5e87fe6759d6fd26c06823f77f3f2
   "metadata": {
    "lines_to_next_cell": 0
   },
   "source": [
    "Remove the outliers and empty cells:"
   ]
  },
  {
   "cell_type": "code",
   "execution_count": null,
<<<<<<< HEAD
<<<<<<< HEAD
<<<<<<< HEAD
   "id": "8c0308ca",
=======
   "id": "629bd8d2",
>>>>>>> documentation-devel
=======
   "id": "544e6603",
>>>>>>> documentation-devel
=======
   "id": "21176dd4",
>>>>>>> c9ed93f2a6d5e87fe6759d6fd26c06823f77f3f2
   "metadata": {},
   "outputs": [],
   "source": [
    "(sfe <- sfe[, !sfe$is_blank_outlier & sfe$nCounts > 0])"
   ]
  },
  {
   "cell_type": "markdown",
<<<<<<< HEAD
<<<<<<< HEAD
<<<<<<< HEAD
   "id": "4de35d25",
=======
   "id": "705a0f57",
>>>>>>> documentation-devel
=======
   "id": "61de5d2c",
>>>>>>> documentation-devel
=======
   "id": "f42c710a",
>>>>>>> c9ed93f2a6d5e87fe6759d6fd26c06823f77f3f2
   "metadata": {
    "lines_to_next_cell": 0
   },
   "source": [
    "There still are over 390,000 cells left after removing the outliers.\n",
    "\n",
    "## Genes\n",
    "Here we look at the mean and variance of each gene:"
   ]
  },
  {
   "cell_type": "code",
   "execution_count": null,
<<<<<<< HEAD
<<<<<<< HEAD
<<<<<<< HEAD
   "id": "e92eafe8",
=======
   "id": "8d44a772",
>>>>>>> documentation-devel
=======
   "id": "57acda46",
>>>>>>> documentation-devel
=======
   "id": "68a6d002",
>>>>>>> c9ed93f2a6d5e87fe6759d6fd26c06823f77f3f2
   "metadata": {},
   "outputs": [],
   "source": [
    "rowData(sfe)$means <- rowMeans(counts(sfe))\n",
    "rowData(sfe)$vars <- rowVars(counts(sfe))"
   ]
  },
  {
   "cell_type": "code",
   "execution_count": null,
<<<<<<< HEAD
<<<<<<< HEAD
<<<<<<< HEAD
   "id": "fbdbf0ac",
=======
   "id": "1a03a00f",
>>>>>>> documentation-devel
=======
   "id": "8dbcf188",
>>>>>>> documentation-devel
=======
   "id": "d22edfb9",
>>>>>>> c9ed93f2a6d5e87fe6759d6fd26c06823f77f3f2
   "metadata": {},
   "outputs": [],
   "source": [
    "rowData(sfe)$is_blank <- is_blank\n",
    "plotRowData(sfe, x = \"means\", y = \"is_blank\") +\n",
    "    scale_y_log10() +\n",
    "    annotation_logticks(sides = \"b\")"
   ]
  },
  {
   "cell_type": "markdown",
<<<<<<< HEAD
<<<<<<< HEAD
<<<<<<< HEAD
   "id": "787a56e8",
=======
   "id": "0dc585e1",
>>>>>>> documentation-devel
=======
   "id": "0b55b83f",
>>>>>>> documentation-devel
=======
   "id": "fcbdeb23",
>>>>>>> c9ed93f2a6d5e87fe6759d6fd26c06823f77f3f2
   "metadata": {
    "lines_to_next_cell": 0
   },
   "source": [
    "Most genes display higher mean expression than blanks, but there is considerable overlap in the distribution, probably because some genes expressed at lower levels or in fewer cells are included.\n",
    "\n",
    "Here the \"real\" genes and negative controls are plotted in different colors:"
   ]
  },
  {
   "cell_type": "code",
   "execution_count": null,
<<<<<<< HEAD
<<<<<<< HEAD
<<<<<<< HEAD
   "id": "45518e1e",
=======
   "id": "a808f6f3",
>>>>>>> documentation-devel
=======
   "id": "1d14001f",
>>>>>>> documentation-devel
=======
   "id": "3bca32b2",
>>>>>>> c9ed93f2a6d5e87fe6759d6fd26c06823f77f3f2
   "metadata": {},
   "outputs": [],
   "source": [
    "plotRowData(sfe, x = \"means\", y = \"vars\", colour_by = \"is_blank\") +\n",
    "    geom_abline(slope = 1, intercept = 0, color = \"red\") +\n",
    "    scale_x_log10() + scale_y_log10() +\n",
    "    annotation_logticks() +\n",
    "    coord_equal()"
   ]
  },
  {
   "cell_type": "markdown",
<<<<<<< HEAD
<<<<<<< HEAD
<<<<<<< HEAD
   "id": "500e9ae1",
=======
   "id": "b68d15ff",
>>>>>>> documentation-devel
=======
   "id": "823a8340",
>>>>>>> documentation-devel
=======
   "id": "19c8f9cd",
>>>>>>> c9ed93f2a6d5e87fe6759d6fd26c06823f77f3f2
   "metadata": {
    "lines_to_next_cell": 0
   },
   "source": [
    "The red line $y = x$ is expected when the data follows a Poisson distribution. "
   ]
  },
  {
   "cell_type": "code",
   "execution_count": null,
<<<<<<< HEAD
<<<<<<< HEAD
<<<<<<< HEAD
   "id": "01f82f98",
=======
   "id": "5f942c2e",
>>>>>>> documentation-devel
=======
   "id": "13d03f9d",
>>>>>>> documentation-devel
=======
   "id": "e8e6e2f7",
>>>>>>> c9ed93f2a6d5e87fe6759d6fd26c06823f77f3f2
   "metadata": {},
   "outputs": [],
   "source": [
    "as.data.frame(rowData(sfe)[is_blank,]) |> \n",
    "    ggplot(aes(means, vars)) +\n",
    "    geom_point() +\n",
    "    geom_abline(slope = 1, intercept = 0, color = \"red\") +\n",
    "    scale_x_log10() + scale_y_log10() +\n",
    "    annotation_logticks() +\n",
    "    coord_equal()"
   ]
  },
  {
   "cell_type": "markdown",
<<<<<<< HEAD
<<<<<<< HEAD
<<<<<<< HEAD
   "id": "d92d40ff",
=======
   "id": "0190ceb3",
>>>>>>> documentation-devel
=======
   "id": "03045c2b",
>>>>>>> documentation-devel
=======
   "id": "021969dc",
>>>>>>> c9ed93f2a6d5e87fe6759d6fd26c06823f77f3f2
   "metadata": {
    "lines_to_next_cell": 0
   },
   "source": [
    "When zoomed in, the blanks are somewhat overdispersed.\n",
    "\n",
    "# Spatial autocorrelation of QC metrics\n",
    "\n",
    "Again, we plot that zoomed in patch to visually inspect cell-cell contiguity:"
   ]
  },
  {
   "cell_type": "code",
   "execution_count": null,
<<<<<<< HEAD
<<<<<<< HEAD
<<<<<<< HEAD
   "id": "359effe9",
=======
   "id": "54d1f829",
>>>>>>> documentation-devel
=======
   "id": "eaac52be",
>>>>>>> documentation-devel
=======
   "id": "ff8f565d",
>>>>>>> c9ed93f2a6d5e87fe6759d6fd26c06823f77f3f2
   "metadata": {
    "lines_to_next_cell": 2
   },
   "outputs": [],
   "source": [
    "plotGeometry(sfe, \"cellSeg\", bbox = bbox_use)"
   ]
  },
  {
   "cell_type": "markdown",
<<<<<<< HEAD
<<<<<<< HEAD
<<<<<<< HEAD
   "id": "dd79804c",
=======
   "id": "96db81dd",
>>>>>>> documentation-devel
=======
   "id": "ea40d1c4",
>>>>>>> documentation-devel
=======
   "id": "1daa123f",
>>>>>>> c9ed93f2a6d5e87fe6759d6fd26c06823f77f3f2
   "metadata": {},
   "source": [
    "There are quite a few cells that are not contiguous to any other cell, and cell segmentation is imperfect, so purely using `poly2nb()` is problematic. In the next release, we might implement a way to blend a polygon contiguity graph with some other graph in case of singletons. For now, we use k nearest neighbors with $k = 5$, which seems like a reasonable approximation of contiguity based on the visual inspection. \n",
    "\n",
    "As of Voyager 1.2.0 (Bioconductor release), `findSpatialNeighbors()` by default uses `BiocNeighbors` for k nearest neighbors and distance neighbors and saving the distances between neighbors. This bypasses the most time consuming step in `spdep` when calculating distance based edge weights, which is to compute distance, hence greatly speeding up computation."
   ]
  },
  {
   "cell_type": "code",
   "execution_count": null,
<<<<<<< HEAD
<<<<<<< HEAD
<<<<<<< HEAD
   "id": "e6d6e5a5",
=======
   "id": "d0bc5658",
>>>>>>> documentation-devel
=======
   "id": "98e5b07c",
>>>>>>> documentation-devel
=======
   "id": "a87bb3cc",
>>>>>>> c9ed93f2a6d5e87fe6759d6fd26c06823f77f3f2
   "metadata": {},
   "outputs": [],
   "source": [
    "system.time(\n",
    "    colGraph(sfe, \"knn5\") <- findSpatialNeighbors(sfe, method = \"knearneigh\", \n",
    "                                                  dist_type = \"idw\", k = 5, \n",
    "                                                  style = \"W\")\n",
    ")"
   ]
  },
  {
   "cell_type": "markdown",
<<<<<<< HEAD
<<<<<<< HEAD
<<<<<<< HEAD
   "id": "cf922db5",
=======
   "id": "941ccdb1",
>>>>>>> documentation-devel
=======
   "id": "bd04c62d",
>>>>>>> documentation-devel
=======
   "id": "d98ddb24",
>>>>>>> c9ed93f2a6d5e87fe6759d6fd26c06823f77f3f2
   "metadata": {},
   "source": [
    "With the spatial neighborhood graph, we can compute Moran's I for QC metrics."
   ]
  },
  {
   "cell_type": "code",
   "execution_count": null,
<<<<<<< HEAD
<<<<<<< HEAD
<<<<<<< HEAD
   "id": "82fb708c",
=======
   "id": "c9a4563e",
>>>>>>> documentation-devel
=======
   "id": "2c061544",
>>>>>>> documentation-devel
=======
   "id": "2ebcd731",
>>>>>>> c9ed93f2a6d5e87fe6759d6fd26c06823f77f3f2
   "metadata": {},
   "outputs": [],
   "source": [
    "sfe <- colDataMoransI(sfe, c(\"nCounts\", \"nGenes\", \"volume\"), \n",
    "                      colGraphName = \"knn5\")"
   ]
  },
  {
   "cell_type": "code",
   "execution_count": null,
<<<<<<< HEAD
<<<<<<< HEAD
<<<<<<< HEAD
   "id": "27abb3c0",
=======
   "id": "b142c69b",
>>>>>>> documentation-devel
=======
   "id": "26a3e980",
>>>>>>> documentation-devel
=======
   "id": "7fba65d8",
>>>>>>> c9ed93f2a6d5e87fe6759d6fd26c06823f77f3f2
   "metadata": {},
   "outputs": [],
   "source": [
    "colFeatureData(sfe)[c(\"nCounts\", \"nGenes\", \"volume\"),]"
   ]
  },
  {
   "cell_type": "markdown",
<<<<<<< HEAD
<<<<<<< HEAD
<<<<<<< HEAD
   "id": "0b77bd7e",
=======
   "id": "def6f731",
>>>>>>> documentation-devel
=======
   "id": "3a1c1ff0",
>>>>>>> documentation-devel
=======
   "id": "68151c21",
>>>>>>> c9ed93f2a6d5e87fe6759d6fd26c06823f77f3f2
   "metadata": {
    "lines_to_next_cell": 0
   },
   "source": [
    "Unlike the other smFISH-based datasets on this website, nCounts and nGenes have sizable negative Moran's I's, which is closer to 0 for volume. It would be interesting to compare these metrics across different tissues, as we add more datasets to `SFEData` in future releases.\n",
    "\n",
    "Also check local Moran's I, since in that little patch we examined above, some regions may have more positive spatial autocorrelation."
   ]
  },
  {
   "cell_type": "code",
   "execution_count": null,
<<<<<<< HEAD
<<<<<<< HEAD
<<<<<<< HEAD
   "id": "066b03ef",
=======
   "id": "79976343",
>>>>>>> documentation-devel
=======
   "id": "dd80b49f",
>>>>>>> documentation-devel
=======
   "id": "98fab19e",
>>>>>>> c9ed93f2a6d5e87fe6759d6fd26c06823f77f3f2
   "metadata": {},
   "outputs": [],
   "source": [
    "sfe <- colDataUnivariate(sfe, type = \"localmoran\", \n",
    "                         features = c(\"nCounts\", \"nGenes\", \"volume\"),\n",
    "                         colGraphName = \"knn5\")"
   ]
  },
  {
   "cell_type": "code",
   "execution_count": null,
<<<<<<< HEAD
<<<<<<< HEAD
<<<<<<< HEAD
   "id": "5f277557",
=======
   "id": "9d9a320c",
>>>>>>> documentation-devel
=======
   "id": "4cf6b194",
>>>>>>> documentation-devel
=======
   "id": "a4e65e98",
>>>>>>> c9ed93f2a6d5e87fe6759d6fd26c06823f77f3f2
   "metadata": {
    "fig.height": 7,
    "fig.width": 9
   },
   "outputs": [],
   "source": [
    "plotLocalResult(sfe, \"localmoran\", c(\"nCounts\", \"nGenes\", \"volume\"),\n",
    "                colGeometryName = \"centroids\", scattermore = TRUE,\n",
    "                ncol = 2, divergent = TRUE, diverge_center = 0)"
   ]
  },
  {
   "cell_type": "markdown",
<<<<<<< HEAD
<<<<<<< HEAD
<<<<<<< HEAD
   "id": "57a1b036",
=======
   "id": "1f9857b3",
>>>>>>> documentation-devel
=======
   "id": "a102b555",
>>>>>>> documentation-devel
=======
   "id": "d3762ea8",
>>>>>>> c9ed93f2a6d5e87fe6759d6fd26c06823f77f3f2
   "metadata": {
    "lines_to_next_cell": 0
   },
   "source": [
    "There are some niches around smaller blood vessels with positive local Moran's I for nCounts and nGenes. This is most likely due to the more homogeneous endothelial cells compared to hepatocytes.\n",
    "\n",
    "# Moran's I"
   ]
  },
  {
   "cell_type": "code",
   "execution_count": null,
<<<<<<< HEAD
<<<<<<< HEAD
<<<<<<< HEAD
   "id": "edc2d18c",
=======
   "id": "087702dc",
>>>>>>> documentation-devel
=======
   "id": "5e09c1ca",
>>>>>>> documentation-devel
=======
   "id": "cf6459ed",
>>>>>>> c9ed93f2a6d5e87fe6759d6fd26c06823f77f3f2
   "metadata": {},
   "outputs": [],
   "source": [
    "sfe <- logNormCounts(sfe)"
   ]
  },
  {
   "cell_type": "code",
   "execution_count": null,
<<<<<<< HEAD
<<<<<<< HEAD
<<<<<<< HEAD
   "id": "2ac0d031",
=======
   "id": "6e125048",
>>>>>>> documentation-devel
=======
   "id": "173b8af5",
>>>>>>> documentation-devel
=======
   "id": "727029c5",
>>>>>>> c9ed93f2a6d5e87fe6759d6fd26c06823f77f3f2
   "metadata": {},
   "outputs": [],
   "source": [
    "system.time(\n",
    "    sfe <- runMoransI(sfe, BPPARAM = MulticoreParam(2))\n",
    ")"
   ]
  },
  {
   "cell_type": "markdown",
<<<<<<< HEAD
<<<<<<< HEAD
<<<<<<< HEAD
   "id": "63ee7845",
=======
   "id": "1ec628d8",
>>>>>>> documentation-devel
=======
   "id": "a0212081",
>>>>>>> documentation-devel
=======
   "id": "daf9d979",
>>>>>>> c9ed93f2a6d5e87fe6759d6fd26c06823f77f3f2
   "metadata": {},
   "source": [
    "It's actually not as slow as I thought for almost 400,000 cells. How are Moran's I's distributed for real genes and blank probes?"
   ]
  },
  {
   "cell_type": "code",
   "execution_count": null,
<<<<<<< HEAD
<<<<<<< HEAD
<<<<<<< HEAD
   "id": "6ddc86e8",
=======
   "id": "37e68399",
>>>>>>> documentation-devel
=======
   "id": "4d7a6927",
>>>>>>> documentation-devel
=======
   "id": "6012e88e",
>>>>>>> c9ed93f2a6d5e87fe6759d6fd26c06823f77f3f2
   "metadata": {},
   "outputs": [],
   "source": [
    "plotRowData(sfe, x = \"moran_sample01\", y = \"is_blank\") +\n",
    "    geom_hline(yintercept = 0, linetype = 2)"
   ]
  },
  {
   "cell_type": "markdown",
<<<<<<< HEAD
<<<<<<< HEAD
<<<<<<< HEAD
   "id": "25f3960e",
=======
   "id": "9626abc9",
>>>>>>> documentation-devel
=======
   "id": "e4159b49",
>>>>>>> documentation-devel
=======
   "id": "92d91623",
>>>>>>> c9ed93f2a6d5e87fe6759d6fd26c06823f77f3f2
   "metadata": {},
   "source": [
    "The blanks are clustered tightly around 0. The vast majority of real genes have positive spatial autocorrelation, some quite strong. But some genes have negative spatial autocorrelation, although it may or may not be statistically significant.\n",
    "\n",
    "Plot the top genes with positive spatial autocorrelation:"
   ]
  },
  {
   "cell_type": "code",
   "execution_count": null,
<<<<<<< HEAD
<<<<<<< HEAD
<<<<<<< HEAD
   "id": "493def46",
=======
   "id": "57e83708",
>>>>>>> documentation-devel
=======
   "id": "d3eece3a",
>>>>>>> documentation-devel
=======
   "id": "054abf53",
>>>>>>> c9ed93f2a6d5e87fe6759d6fd26c06823f77f3f2
   "metadata": {
    "fig.height": 12,
    "fig.width": 9
   },
   "outputs": [],
   "source": [
    "top_moran <- rownames(sfe)[order(rowData(sfe)$moran_sample01, decreasing = TRUE)[1:6]]\n",
    "plotSpatialFeature(sfe, top_moran, colGeometryName = \"centroids\", scattermore = TRUE,\n",
    "                   ncol = 2)"
   ]
  },
  {
   "cell_type": "markdown",
<<<<<<< HEAD
<<<<<<< HEAD
<<<<<<< HEAD
   "id": "228b1837",
=======
   "id": "98ebca44",
>>>>>>> documentation-devel
=======
   "id": "6e186ee8",
>>>>>>> documentation-devel
=======
   "id": "f9f9e000",
>>>>>>> c9ed93f2a6d5e87fe6759d6fd26c06823f77f3f2
   "metadata": {},
   "source": [
    "Unlike in the other smFISH-based cancer datasets on this dataset, the genes with the highest Moran's I highlight different histological regions. Some probably for zones in the hepatic lobule, and some for blood vessels. It would be interesting to compare spatial autocorrelation of marker genes among different tissues and cell types.\n",
    "\n",
    "Negative Moran's I means that nearby cells tend to be more dissimilar to each other. That would be hard to see when plotting the whole tissue section, so we will use that bounding box again. The gene with the most negative Moran's I is compared to one with Moran's I closest to 0."
   ]
  },
  {
   "cell_type": "code",
   "execution_count": null,
<<<<<<< HEAD
<<<<<<< HEAD
<<<<<<< HEAD
   "id": "5ae613fe",
=======
   "id": "18634165",
>>>>>>> documentation-devel
=======
   "id": "758d2e18",
>>>>>>> documentation-devel
=======
   "id": "fdf84fe2",
>>>>>>> c9ed93f2a6d5e87fe6759d6fd26c06823f77f3f2
   "metadata": {
    "fig.height": 5,
    "fig.width": 9
   },
   "outputs": [],
   "source": [
    "bottom_moran <- rownames(sfe)[order(rowData(sfe)$moran_sample01)[1]]\n",
    "bottom_abs_moran <- rownames(sfe)[order(abs(rowData(sfe)$moran_sample01))[1]]\n",
    "plotSpatialFeature(sfe, c(bottom_moran, bottom_abs_moran), \n",
    "                   colGeometryName = \"cellSeg\", bbox = bbox_use)"
   ]
  },
  {
   "cell_type": "markdown",
<<<<<<< HEAD
<<<<<<< HEAD
<<<<<<< HEAD
   "id": "815a8e5b",
=======
   "id": "0b696b72",
>>>>>>> documentation-devel
=======
   "id": "50e02f31",
>>>>>>> documentation-devel
=======
   "id": "550507a6",
>>>>>>> c9ed93f2a6d5e87fe6759d6fd26c06823f77f3f2
   "metadata": {
    "lines_to_next_cell": 0
   },
   "source": [
    "As expected, the feature with Moran's I closest to 0 is a blank.\n",
    "\n",
    "# Spatial autocorrelation at larger length scales\n",
    "The k nearest neighbor graph used above only concerns 5 cells around each cell, which is a very small neighborhood, over a very small length scale. In the current release of `Voyager`, a correlogram can be computed to get a sense of the length scale of spatial autocorrelation. However, since finding the lag values over higher and higher orders of neighborhoods is very slow for such a large number of cells for higher orders, the correlogram is not very helpful here. In this section, we use some other methods involving binning to explore spatial autocorrelation at larger length scales.\n",
    "\n",
    "## Binning\n",
    "The `sf` package can create polygons in a grid, with which we can bin the cells and their attributes and gene expressions. Here we make a 100 by 100 hexagonal grid in the bounding box of the cell centroids."
   ]
  },
  {
   "cell_type": "code",
   "execution_count": null,
<<<<<<< HEAD
<<<<<<< HEAD
<<<<<<< HEAD
   "id": "9ee17c41",
=======
   "id": "b6b5cff5",
>>>>>>> documentation-devel
=======
   "id": "260d5eb2",
>>>>>>> documentation-devel
=======
   "id": "0950dde2",
>>>>>>> c9ed93f2a6d5e87fe6759d6fd26c06823f77f3f2
   "metadata": {},
   "outputs": [],
   "source": [
    "(bins <- st_make_grid(colGeometry(sfe, \"centroids\"), n = 100, square = FALSE))"
   ]
  },
  {
   "cell_type": "markdown",
<<<<<<< HEAD
<<<<<<< HEAD
<<<<<<< HEAD
   "id": "22aa46d6",
=======
   "id": "c75840a6",
>>>>>>> documentation-devel
=======
   "id": "148f591a",
>>>>>>> documentation-devel
=======
   "id": "81fc19f0",
>>>>>>> c9ed93f2a6d5e87fe6759d6fd26c06823f77f3f2
   "metadata": {
    "lines_to_next_cell": 0
   },
   "source": [
    "Here we use this grid to bin the QC metrics by averaging the values from the cells. Since bins not completely covered by tissue have fewer cells, the mean may be less susceptible to edge effect than the sum, as bins near the edge will have lower sums, which may spuriously increase Moran's I. "
   ]
  },
  {
   "cell_type": "code",
   "execution_count": null,
<<<<<<< HEAD
<<<<<<< HEAD
<<<<<<< HEAD
   "id": "7d7c46b6",
=======
   "id": "5e5d22a8",
>>>>>>> documentation-devel
=======
   "id": "a334931f",
>>>>>>> documentation-devel
=======
   "id": "5cd947fe",
>>>>>>> c9ed93f2a6d5e87fe6759d6fd26c06823f77f3f2
   "metadata": {},
   "outputs": [],
   "source": [
    "df <- cbind(colGeometry(sfe, \"centroids\"), colData(sfe)[,c(\"nCounts\", \"nGenes\", \"volume\")])\n",
    "df_binned <- aggregate(df, bins, FUN = mean)\n",
    "# Remove bins not containing cells\n",
    "df_binned <- df_binned[!is.na(df_binned$nCounts),]"
   ]
  },
  {
   "cell_type": "markdown",
<<<<<<< HEAD
<<<<<<< HEAD
<<<<<<< HEAD
   "id": "39352aac",
=======
   "id": "21469db1",
>>>>>>> documentation-devel
=======
   "id": "bd992505",
>>>>>>> documentation-devel
=======
   "id": "61ce992b",
>>>>>>> c9ed93f2a6d5e87fe6759d6fd26c06823f77f3f2
   "metadata": {
    "lines_to_next_cell": 0
   },
   "source": [
    "Plot the binned values:"
   ]
  },
  {
   "cell_type": "code",
   "execution_count": null,
<<<<<<< HEAD
<<<<<<< HEAD
<<<<<<< HEAD
   "id": "5a00621b",
=======
   "id": "5f7b8c3d",
>>>>>>> documentation-devel
=======
   "id": "e8cf0b38",
>>>>>>> documentation-devel
=======
   "id": "15118880",
>>>>>>> c9ed93f2a6d5e87fe6759d6fd26c06823f77f3f2
   "metadata": {
    "fig.height": 7,
    "fig.width": 9
   },
   "outputs": [],
   "source": [
    "# Not using facet_wrap to give each panel its own color scale\n",
    "plts <- lapply(c(\"nCounts\", \"nGenes\", \"volume\"), function(f) {\n",
    "    ggplot(df_binned[,f]) + geom_sf(aes(fill = .data[[f]]), linewidth = 0) +\n",
    "        scale_fill_distiller(palette = \"Blues\", direction = 1) + theme_void()\n",
    "})\n",
    "wrap_plots(plts, nrow = 2)"
   ]
  },
  {
   "cell_type": "markdown",
<<<<<<< HEAD
<<<<<<< HEAD
<<<<<<< HEAD
   "id": "e33346f7",
=======
   "id": "3ac9325c",
>>>>>>> documentation-devel
=======
   "id": "a9d49e14",
>>>>>>> documentation-devel
=======
   "id": "0281e505",
>>>>>>> c9ed93f2a6d5e87fe6759d6fd26c06823f77f3f2
   "metadata": {
    "lines_to_next_cell": 0
   },
   "source": [
    "There's an outlier bin not as evident when plotting single cells. There's still some edge effect around blood vessels. This might be truly edge effect, or that endothelial cells tend to have lower values in all 3 variables here.\n",
    "\n",
    "Then compute Moran's I over the binned data, with contiguity neighborhoods. `zero.policy = TRUE` because there are some bins with no neighbors."
   ]
  },
  {
   "cell_type": "code",
   "execution_count": null,
<<<<<<< HEAD
<<<<<<< HEAD
<<<<<<< HEAD
   "id": "24f74e18",
=======
   "id": "ba01fa27",
>>>>>>> documentation-devel
=======
   "id": "a62cca1e",
>>>>>>> documentation-devel
=======
   "id": "f6115187",
>>>>>>> c9ed93f2a6d5e87fe6759d6fd26c06823f77f3f2
   "metadata": {},
   "outputs": [],
   "source": [
    "nb <- poly2nb(df_binned)\n",
    "listw <- nb2listw(nb, zero.policy = TRUE)"
   ]
  },
  {
   "cell_type": "code",
   "execution_count": null,
<<<<<<< HEAD
<<<<<<< HEAD
<<<<<<< HEAD
   "id": "f4f3d374",
=======
   "id": "dabdd65d",
>>>>>>> documentation-devel
=======
   "id": "cf0a4746",
>>>>>>> documentation-devel
=======
   "id": "5764241d",
>>>>>>> c9ed93f2a6d5e87fe6759d6fd26c06823f77f3f2
   "metadata": {},
   "outputs": [],
   "source": [
    "calculateMoransI(t(as.matrix(st_drop_geometry(df_binned[,c(\"nCounts\", \"nGenes\", \"volume\")]))),\n",
    "                 listw = listw, zero.policy = TRUE)"
   ]
  },
  {
   "cell_type": "markdown",
<<<<<<< HEAD
<<<<<<< HEAD
<<<<<<< HEAD
   "id": "778c60b8",
=======
   "id": "38fa8eeb",
>>>>>>> documentation-devel
=======
   "id": "f4fc72f3",
>>>>>>> documentation-devel
=======
   "id": "fcb37660",
>>>>>>> c9ed93f2a6d5e87fe6759d6fd26c06823f77f3f2
   "metadata": {},
   "source": [
    "At a larger length scale, Moran's I becomes positive. Comparing Moran's I across different sized bins can give a sense of the length scale of spatial autocorrelation. However, there are problems with binning to watch out for:\n",
    "\n",
    "1. Edge effect, especially when using the sum when binning\n",
    "2. Which function to use to aggregate the values when binning\n",
    "3. When using a rectangular grid, whether to use rook or queen neighbors. Rook means two cells are neighbors if they share an edge, while queen means they are neighbors even if they merely share a vertex. \n",
    "\n",
    "While binning can greatly speed up computation of spatial autocorrelation metrics for larger datasets, it can be used for smaller datasets to find length scales of spatial autocorrelation. On the other hand, as seen here, Moran's I can flip signs at different length scales, so for larger datasets, exploring spatial autocorrelation at the cell level would still be interesting.\n",
    "\n",
    "## Semivariogram\n",
    "In geostatistical data, an underlying spatial process is sampled at known locations. Kriging uses a Gaussian process to interpolate the values between the sample locations, and the semivariogram is used to model the spatial dependency between the locations as the covariance of the Gaussian process. When not kriging, the semivariogram can be used as an exploratory data analysis tool to find the length scale and anisotropy of spatial autocorrelation. One of the classic R packages in the geostatistical tradition is [`gstat`](https://cran.r-project.org/web/packages/gstat/index.html), which we use here to find semivariograms, defined as\n",
    "\n",
    "$$\n",
    "\\gamma(t) = \\frac 1 2 \\mathrm{Var}(X_t - X_0),\n",
    "$$\n",
    "\n",
    "where $X$ is the value such as gene expression, and $t$ is a spatial vector. $X_0$ is the value at a location of interest, and $X_t$ is the value lagged by $t$. With positive spatial autocorrelation, the variance would be smaller among nearby values, so the variogram would increase with distance, eventually leveling off when the distance is beyond the length scale of spatial autocorrelation. The \"semi\" comes from the 1/2.\n",
    "\n",
    "The variogram is in Voyager v1.2.0 or higher (Bioconductor release or later) and can be computed with the same `runUnivariate()` function. See [vignette for variograms and variogram maps](https://pachterlab.github.io/voyager/articles/variogram.html).\n",
    "\n",
    "First we find an empirical variogram assuming that it's the same in all directions. Here the data is binned at distance intervals, so this is much faster than the correlogram at the cell level. The `width` argument controlls the bin size. The `cutoff` argument is the maximum distance to consider. Here we use the defaults. The first argument is a formula; covariates can be specified, but is not done here.\n",
    "\n",
    "With different widths and cutoffs, the variogram can be estimated at different length scales. The `gstat` package can also fit a model to the empirical variogram. See `vgm()` for the different types of models. The [`automap`](https://cran.r-project.org/web/packages/automap/) package can choose a model for the user, and is used here and in Voyager. \n",
    "\n",
    "Unfortunately, `gstat` doesn't scale to 400,000 cells, although it worked for 100,000 cells in the other smFISH-based datasets on this website. But since the variogram is used to explore larger length scales here anyway, we use the binned data here, but the problems with binning will apply."
   ]
  },
  {
   "cell_type": "code",
   "execution_count": null,
<<<<<<< HEAD
<<<<<<< HEAD
<<<<<<< HEAD
   "id": "ccec783e",
=======
   "id": "164237f0",
>>>>>>> documentation-devel
=======
   "id": "556eb87b",
>>>>>>> documentation-devel
=======
   "id": "a3dd9f29",
>>>>>>> c9ed93f2a6d5e87fe6759d6fd26c06823f77f3f2
   "metadata": {
    "warning": false
   },
   "outputs": [],
   "source": [
    "# as_Spatial since automap uses old fashioned sp, the predecessor of sf\n",
    "v <- autofitVariogram(nCounts ~ 1, as_Spatial(df_binned))\n",
    "plot(v)"
   ]
  },
  {
   "cell_type": "markdown",
<<<<<<< HEAD
<<<<<<< HEAD
<<<<<<< HEAD
   "id": "b3b2f1ff",
=======
   "id": "3795f4b6",
>>>>>>> documentation-devel
=======
   "id": "2773c77e",
>>>>>>> documentation-devel
=======
   "id": "ef416178",
>>>>>>> c9ed93f2a6d5e87fe6759d6fd26c06823f77f3f2
   "metadata": {
    "lines_to_next_cell": 0
   },
   "source": [
    "The numbers in this plot are the number of pairs in each distance bin. The variogram is not 0 at 0 distance; this is the variance within the bin size, called the nugget. The variogram levels off at greater distance, and the value of the variogram where is levels off is the sill. Range is where the variogram is leveling off, indicating length scale of spatial autocorrelation; the range from visual inspection appears closer to 1000 while the model somehow indicates 423. \n",
    "\n",
    "A variogram map can be made to see how spatial autocorrelation may differ in different directions, i.e. anisotropy"
   ]
  },
  {
   "cell_type": "code",
   "execution_count": null,
<<<<<<< HEAD
<<<<<<< HEAD
<<<<<<< HEAD
   "id": "43f1be94",
=======
   "id": "546dad55",
>>>>>>> documentation-devel
=======
   "id": "32a442b5",
>>>>>>> documentation-devel
=======
   "id": "d0ff5c3b",
>>>>>>> c9ed93f2a6d5e87fe6759d6fd26c06823f77f3f2
   "metadata": {},
   "outputs": [],
   "source": [
    "v2 <- variogram(nCounts ~ 1, data = df_binned, width = 300, cutoff = 4500, map = TRUE)\n",
    "plot(v2)"
   ]
  },
  {
   "cell_type": "markdown",
<<<<<<< HEAD
<<<<<<< HEAD
<<<<<<< HEAD
   "id": "9b8aa471",
=======
   "id": "7574c520",
>>>>>>> documentation-devel
=======
   "id": "caada156",
>>>>>>> documentation-devel
=======
   "id": "a48f16bc",
>>>>>>> c9ed93f2a6d5e87fe6759d6fd26c06823f77f3f2
   "metadata": {
    "lines_to_next_cell": 0
   },
   "source": [
    "Here apparently there's no anisotropy at shorter length scales, but there may be some artifact from the hexagonal bins. Going beyond 2000 (whatever unit), the variance drops at the northwest and southeast direction but not in other directions, perhaps related to the repetitiveness of the hepatic lobules and the general NE/SW direction of the blood vessels seen in the previous plots. \n",
    "\n",
    "The variogram can also be calculated at specified angles, here selected as sides of the hexagon:"
   ]
  },
  {
   "cell_type": "code",
   "execution_count": null,
<<<<<<< HEAD
<<<<<<< HEAD
<<<<<<< HEAD
   "id": "4c1b75d8",
=======
   "id": "e5548ca9",
>>>>>>> documentation-devel
=======
   "id": "a9ac29e4",
>>>>>>> documentation-devel
=======
   "id": "4f9a5e89",
>>>>>>> c9ed93f2a6d5e87fe6759d6fd26c06823f77f3f2
   "metadata": {},
   "outputs": [],
   "source": [
    "v3 <- variogram(nCounts ~ 1, df_binned, alpha = c(30, 90, 150))\n",
    "v3_model <- fit.variogram(v3, vgm(\"Ste\"))\n",
    "plot(v3, v3_model)"
   ]
  },
  {
   "cell_type": "markdown",
<<<<<<< HEAD
<<<<<<< HEAD
<<<<<<< HEAD
   "id": "057afea3",
=======
   "id": "a055cd8f",
>>>>>>> documentation-devel
=======
   "id": "eea9dff2",
>>>>>>> documentation-devel
=======
   "id": "eb772195",
>>>>>>> c9ed93f2a6d5e87fe6759d6fd26c06823f77f3f2
   "metadata": {},
   "source": [
    "The variogram rises when going beyond 2000 at 30 and 90 degrees and drops at 150 degrees. This is consistent with the variogram map. These differences are averaged out in the omni-directional variogram. `gstat` does not fit anisotropy parameters, so the fitted curve is omni-directional. It fits pretty well below 2000. This is only for nCounts, and may differ for other QC metrics and genes. What if anisotropy varies in space? A problem with the variogram is that it's global, giving one result for the entire dataset, albeit more nuanced than just a number as in Moran's I, because kriging assumes that the data is intrinsically stationary, meaning that the same variogram model applies everywhere, and that spatial dependence only depends on lag between two observations.\n",
    "\n",
    "Voyager 1.2.0 and above implements `ggplot2` based plotting functions to make better looking and more customizable plots of the variograms for SFE objects. However, the binned data is not in an SFE object. We are considering writing a method to spatially bin all cell level data in an SFE object for Bioconductor 3.18. Here `gstat` is using `lattice`, a predecessor of `ggplot2` to make facetted plots and has been superseded by `ggplot2`. `gstat` is one of the oldest R packages still on CRAN, dating back to the days of S (prequel of R), although its oldest archive on CRAN is from 2003. `spdep` is also really old; its oldest archive on CRAN is from 2002, but it's still in active development. In using these time honored packages and methods (Moran's I and Geary's C themselves date back to the 1950s and their modern form date back to 1969 [@Cliff1969-wp; @Bivand2013-jx]) on the cool new spatial transcriptomics dataset, we are participating in a glorious tradition, which we will further develop as a spatial analysis tradition forms around spatial -omics data analysis.\n",
    "\n",
    "# PCA for larger datasets\n",
    "There are many ways to do PCA in R, and the [`BiocSingular`](https://bioconductor.org/packages/release/bioc/html/BiocSingular.html) package makes a number of different methods available with a consistent user interface, and it supports out of memory data in `DelayedArray`. According to [this benchmark](https://slowkow.com/notes/pca-benchmark/), `stats::prcomp()` shipped with R is rather slow for larger datasets. The fastest methods are `irlba::irlba()` and `RSpectra::svds()`, and the former is supported by `BiocSingular`. So here we use IRLBA and see how long it takes. Many PCA algorithms involve repeated matrix multiplications. R does not come with optimized BLAS and LAPACK, for portability reasons. However, the BLAS and LAPACK used by R can be changed to an optimized one (here's [how to do it](https://cran.r-project.org/doc/manuals/r-release/R-admin.html#Shared-BLAS)), which will speed up matrix multiplication. "
   ]
  },
  {
   "cell_type": "code",
   "execution_count": null,
<<<<<<< HEAD
<<<<<<< HEAD
<<<<<<< HEAD
   "id": "2adc1177",
=======
   "id": "0be62f87",
>>>>>>> documentation-devel
=======
   "id": "0db5f887",
>>>>>>> documentation-devel
=======
   "id": "f89a91d9",
>>>>>>> c9ed93f2a6d5e87fe6759d6fd26c06823f77f3f2
   "metadata": {},
   "outputs": [],
   "source": [
    "set.seed(29)\n",
    "system.time(\n",
    "    sfe <- runPCA(sfe, ncomponents = 20, subset_row = !is_blank,\n",
    "                  exprs_values = \"logcounts\",\n",
    "                  scale = TRUE, BSPARAM = IrlbaParam())\n",
    ")\n",
    "gc()"
   ]
  },
  {
   "cell_type": "markdown",
<<<<<<< HEAD
<<<<<<< HEAD
<<<<<<< HEAD
   "id": "dc7ad5b2",
=======
   "id": "de10c548",
>>>>>>> documentation-devel
=======
   "id": "6a9f1488",
>>>>>>> documentation-devel
=======
   "id": "597f3ae1",
>>>>>>> c9ed93f2a6d5e87fe6759d6fd26c06823f77f3f2
   "metadata": {},
   "source": [
    "That's pretty quick for almost 400,000 cells, but there aren't that many genes here. Use the elbow plot to see variance explained by each PC:"
   ]
  },
  {
   "cell_type": "code",
   "execution_count": null,
<<<<<<< HEAD
<<<<<<< HEAD
<<<<<<< HEAD
   "id": "458d3949",
=======
   "id": "009bdb2d",
>>>>>>> documentation-devel
=======
   "id": "897615b5",
>>>>>>> documentation-devel
=======
   "id": "8314afb9",
>>>>>>> c9ed93f2a6d5e87fe6759d6fd26c06823f77f3f2
   "metadata": {},
   "outputs": [],
   "source": [
    "ElbowPlot(sfe)"
   ]
  },
  {
   "cell_type": "markdown",
<<<<<<< HEAD
<<<<<<< HEAD
<<<<<<< HEAD
   "id": "896672c7",
=======
   "id": "1052b98d",
>>>>>>> documentation-devel
=======
   "id": "43bf93a9",
>>>>>>> documentation-devel
=======
   "id": "937a83c4",
>>>>>>> c9ed93f2a6d5e87fe6759d6fd26c06823f77f3f2
   "metadata": {
    "lines_to_next_cell": 0
   },
   "source": [
    "Plot top gene loadings in each PC"
   ]
  },
  {
   "cell_type": "code",
   "execution_count": null,
<<<<<<< HEAD
<<<<<<< HEAD
<<<<<<< HEAD
   "id": "8f34f0c0",
=======
   "id": "11ca4893",
>>>>>>> documentation-devel
=======
   "id": "1390bba5",
>>>>>>> documentation-devel
=======
   "id": "7121d442",
>>>>>>> c9ed93f2a6d5e87fe6759d6fd26c06823f77f3f2
   "metadata": {},
   "outputs": [],
   "source": [
    "plotDimLoadings(sfe)"
   ]
  },
  {
   "cell_type": "markdown",
<<<<<<< HEAD
<<<<<<< HEAD
<<<<<<< HEAD
   "id": "24caaf45",
=======
   "id": "0fd9c3f8",
>>>>>>> documentation-devel
=======
   "id": "02627481",
>>>>>>> documentation-devel
=======
   "id": "08636d35",
>>>>>>> c9ed93f2a6d5e87fe6759d6fd26c06823f77f3f2
   "metadata": {
    "lines_to_next_cell": 0
   },
   "source": [
    "Many of these genes seem to be related to the endothelium.\n",
    "\n",
    "Plot the first 4 PCs in space"
   ]
  },
  {
   "cell_type": "code",
   "execution_count": null,
<<<<<<< HEAD
<<<<<<< HEAD
<<<<<<< HEAD
   "id": "fa19d5d4",
=======
   "id": "b979fa0d",
>>>>>>> documentation-devel
=======
   "id": "4adb49c7",
>>>>>>> documentation-devel
=======
   "id": "7175e3b2",
>>>>>>> c9ed93f2a6d5e87fe6759d6fd26c06823f77f3f2
   "metadata": {
    "fig.height": 7,
    "fig.width": 9
   },
   "outputs": [],
   "source": [
    "spatialReducedDim(sfe, \"PCA\", 4, colGeometryName = \"centroids\", scattermore = TRUE,\n",
    "                  divergent = TRUE, diverge_center = 0)"
   ]
  },
  {
   "cell_type": "markdown",
<<<<<<< HEAD
<<<<<<< HEAD
<<<<<<< HEAD
   "id": "23bd6ffd",
=======
   "id": "5dfdb795",
>>>>>>> documentation-devel
=======
   "id": "2817b969",
>>>>>>> documentation-devel
=======
   "id": "527e0ad7",
>>>>>>> c9ed93f2a6d5e87fe6759d6fd26c06823f77f3f2
   "metadata": {
    "lines_to_next_cell": 0
   },
   "source": [
    "PC1 and PC4 highlight the major blood vessels, while PC2 and PC3 have less spatial structure. While in the CosMX and Xenium datasets on this website, the top PCs have clear spatial structures despite the absence of spatial information in non-spatial PCA because of clear spatial compartments for some cell types, which does not seem to be the case in this dataset except for the blood vessels. We have seen above that some genes have strong spatial structures. There are some methods for spatially informed PCA, such as MULTISPATI PCA [@Dray2008-en] in the [`adespatial`](https://cran.r-project.org/web/packages/adespatial/index.html) package, which seeks to maximize both variance (as in non-spatial PCA) and Moran's I on each PC. Unlike traditional PCs, where all eigenvalues, signifying variance explained, are positive, MULTISPATI PCA can have negative eigenvalues, which signify negative spatial autocorrelation. The PCs from MULTISPATI PCA with positive eigenvalues are also more spatially coherent than those from non-spatial PCA. For the CosMX and Xenium datasets on this website, the spatial coherence from MULTISPATI might not make a difference, but it might make a difference in this dataset where non-spatial PCs don't show as much spatial structure, at least at the larger scale over the entire tissue section. Voyager 1.2.0 (Bioconductor release) has a faster implementation of MULTISPATI PCA than that of `adespatial`, and is demonstrated in this dataset in [another vignette](https://pachterlab.github.io/voyager/articles/multispati.html).\n",
    "\n",
    "While PC2 and PC3 don't seem to have large scale spatial structure, they may have more local spatial structure not obvious from plotting the entire section, so we zoom into the bounding box:"
   ]
  },
  {
   "cell_type": "code",
   "execution_count": null,
<<<<<<< HEAD
<<<<<<< HEAD
<<<<<<< HEAD
   "id": "16cd7fa3",
=======
   "id": "67c40704",
>>>>>>> documentation-devel
=======
   "id": "eefb813e",
>>>>>>> documentation-devel
=======
   "id": "5bf03feb",
>>>>>>> c9ed93f2a6d5e87fe6759d6fd26c06823f77f3f2
   "metadata": {
    "fig.height": 5,
    "fig.width": 9
   },
   "outputs": [],
   "source": [
    "spatialReducedDim(sfe, \"PCA\", ncomponents = 2:3, colGeometryName = \"cellSeg\",\n",
    "                  bbox = bbox_use, divergent = TRUE, diverge_center = 0)"
   ]
  },
  {
   "cell_type": "markdown",
<<<<<<< HEAD
<<<<<<< HEAD
<<<<<<< HEAD
   "id": "b3c6e4cf",
=======
   "id": "2d9b3ee1",
>>>>>>> documentation-devel
=======
   "id": "a9e9eef7",
>>>>>>> documentation-devel
=======
   "id": "f8a34893",
>>>>>>> c9ed93f2a6d5e87fe6759d6fd26c06823f77f3f2
   "metadata": {},
   "source": [
    "There's some spatial structure in PC2 and PC3 at a smaller scale, perhaps some negative spatial autocorrelation.\n",
    "\n",
    "Like global Moran's I, PCA and MULTISPATI PCA return one result for the entire dataset. In contrast, [geographically weighted PCA (GWPCA)](https://rdrr.io/cran/GWmodel/man/gwpca.html) [@Harris2015-sr] can account for spatial heterogeneity. GWPCA runs PCA at each spatial location using only the nearby locations weighed by a kernel. The different locations can have different PCs, and the results can be visualized with \"winning variables\" in each PC, i.e. plotting which feature has the highest loading in each PC in space. This most likely doesn't scale to 400,000 cells, but it would still be interesting when performed on spatially binned data. GWPCA might be added in Bioconductor 3.18 and would require some changes in the user interface, because GWPCA is about the features rather than cell embeddings.\n",
    "\n",
    "# More challenges from large datasets\n",
    "Here, despite the numerous cells, the data was loaded into memory. What if the data doesn't fit into memory? We might write a new vignette with `DelayedArray` demonstrating out of memory data analysis for Bioconductor 3.18. This is already supported by `SingleCellExperiment`, which SFE inherits from. However, the geometries, graphs, and local results can take up a lot memory as well. These can possibly be stored in SQL databases and operated on with [`SQLDataFrame`](https://bioconductor.org/packages/release/bioc/html/SQLDataFrame.html). The geometric operations can be handled by [`sedona`](https://github.com/apache/incubator-sedona), although the options are limited compared to GEOS, which performs geometric operations behind the scene for `sf`.\n",
    "\n",
    "Another question can be raised about large spatial transcriptomics data: Is it still a good idea to analyze the entire dataset at once? There must be many interesting and unique neighborhoods that might not get the attention they deserve when the whole dataset is analyzed at once. After all, in the geographical space, national level data is usually not analyzed at the block resolution, although a reason for this is privacy of the subjects. County resolution is often used, but there aren't hundreds of thousands of counties. Many analyses are done for cities and counties with neighborhood resolution; using the largest geographical unit isn't always the most relevant. Back to histological space: How to aggregate cells into larger spatial units? How to decide which scale of spatial units (analogous to nation vs state vs county and etc) is relevant? We have traditional anatomical ontologies, such as from the Allen Brain Atlas, but this isn't available for all tissues. Also, with more single cell -omics data, the traditional ontologies can be improved.\n",
    "\n",
    "Furthermore, there are 3D thick section single cell resolution spatial transcriptomics data, such as from STARmap [@Wang2018-cv] and EASI-FISH [@Wang2021-fv], although the vast majority of spatial -omics data are from thin sections pretty much _de facto_ 2D. As we mostly live on the surface of Earth, there are many more 2D geospatial resources than 3D. However, some methods can in principle be applied to 3D and the existing software primarily made for 2D data might work. For example, GEOS supports 3D data, so in principle 3D geometries in `sf` should work, although there's little documentation on this. Also, k nearest neighbor, Moran's I, variograms, and etc. should in principle work in 3D, and `gstat` officially supports 3D. These are more challenges related to 3D data:\n",
    "\n",
    "1. Even when multiple z-planes are imaged, the resolution is much lower in the z direction than the x and y directions. Then should the z-plane be treated as an attribute or as a coordinate?\n",
    "2. How to make static plots for 3D data for publications? This is more complicated than plotting z-planes separately, since a 3D block can be sectioned from any other direction. Also for interactive visualization, we need to somehow see through the tissue. \n",
    "\n",
    "Finally, the geospatial tradition is only one tradition relevant to large spatial data, and at present `Voyager` only works with vector data. We are uncertain whether raster should be added in a later version, and there are existing tools for large raster data as well, such as [TileDB](https://docs.tiledb.com/geospatial/). Other traditions can be relevant, such as astronomy and image processing, but those are beyond the scope of this package.\n",
    "\n",
    "# Session Info"
   ]
  },
  {
   "cell_type": "code",
   "execution_count": null,
<<<<<<< HEAD
<<<<<<< HEAD
<<<<<<< HEAD
   "id": "62f3c9f0",
=======
   "id": "0dec8daf",
>>>>>>> documentation-devel
=======
   "id": "39877e74",
>>>>>>> documentation-devel
=======
   "id": "3b40370f",
>>>>>>> c9ed93f2a6d5e87fe6759d6fd26c06823f77f3f2
   "metadata": {},
   "outputs": [],
   "source": [
    "sessionInfo()"
   ]
  },
  {
   "cell_type": "markdown",
<<<<<<< HEAD
<<<<<<< HEAD
<<<<<<< HEAD
   "id": "8a40ab0e",
=======
   "id": "4592821d",
>>>>>>> documentation-devel
=======
   "id": "2789d728",
>>>>>>> documentation-devel
=======
   "id": "9a2c2ef7",
>>>>>>> c9ed93f2a6d5e87fe6759d6fd26c06823f77f3f2
   "metadata": {},
   "source": [
    "# References"
   ]
  }
 ],
 "metadata": {
  "kernelspec": {
   "display_name": "R",
   "language": "R",
   "name": "ir"
  }
 },
 "nbformat": 4,
 "nbformat_minor": 5
}
