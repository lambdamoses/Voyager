{
 "cells": [
  {
   "cell_type": "raw",
<<<<<<< HEAD
<<<<<<< HEAD
<<<<<<< HEAD
<<<<<<< HEAD
<<<<<<< HEAD
   "id": "8a07aca5",
=======
   "id": "0d3a5957",
>>>>>>> documentation-devel
=======
   "id": "03eb5772",
>>>>>>> documentation-devel
=======
   "id": "b75b4da7",
>>>>>>> c9ed93f2a6d5e87fe6759d6fd26c06823f77f3f2
=======
   "id": "1540bec7",
>>>>>>> documentation-devel
=======
   "id": "d38848a8",
>>>>>>> 487d062df8c9b8a19360e92edfd0678a37ff23f4
   "metadata": {},
   "source": [
    "---\n",
    "title: \"Variogram\"\n",
    "author: \"Lambda Moses\"\n",
    "date: \"`r Sys.Date()`\"\n",
    "output: \n",
    "  html_document:\n",
    "  toc: true\n",
    "  toc_float:\n",
    "    collapsed: false\n",
    "  toc_depth: 3\n",
    "bibliography: ref.bib\n",
    "vignette: >\n",
    "  %\\VignetteIndexEntry{variogram}\n",
    "  %\\VignetteEngine{knitr::rmarkdown}\n",
    "  %\\VignetteEncoding{UTF-8}\n",
    "---"
   ]
  },
  {
   "cell_type": "code",
   "execution_count": null,
<<<<<<< HEAD
<<<<<<< HEAD
<<<<<<< HEAD
<<<<<<< HEAD
<<<<<<< HEAD
   "id": "815b7daf",
=======
   "id": "51eaed70",
>>>>>>> documentation-devel
=======
   "id": "e6e2a8fe",
>>>>>>> documentation-devel
=======
   "id": "1bf2d75a",
>>>>>>> c9ed93f2a6d5e87fe6759d6fd26c06823f77f3f2
=======
   "id": "27661b45",
>>>>>>> documentation-devel
=======
   "id": "4b88199b",
>>>>>>> 487d062df8c9b8a19360e92edfd0678a37ff23f4
   "metadata": {
    "tags": [
     "remove_cell"
    ]
   },
   "outputs": [],
   "source": [
    "knitr::opts_chunk$set(\n",
    "  collapse = TRUE,\n",
    "  comment = \"#>\"\n",
    ")"
   ]
  },
  {
   "cell_type": "code",
   "execution_count": null,
<<<<<<< HEAD
<<<<<<< HEAD
<<<<<<< HEAD
<<<<<<< HEAD
<<<<<<< HEAD
   "id": "7d4cab51",
=======
   "id": "8daf3a5e",
>>>>>>> documentation-devel
=======
   "id": "c9d7c1e9",
>>>>>>> documentation-devel
=======
   "id": "73921456",
>>>>>>> c9ed93f2a6d5e87fe6759d6fd26c06823f77f3f2
=======
   "id": "38196d8c",
>>>>>>> documentation-devel
=======
   "id": "974d57ad",
>>>>>>> 487d062df8c9b8a19360e92edfd0678a37ff23f4
   "metadata": {
    "eval": false,
    "tags": [
     "remove_cell"
    ]
   },
   "outputs": [],
   "source": [
    "# Install Google Colab dependencies\n",
    "# Note: this can take 30+ minutes (many of the dependencies include C++ code, which needs to be compiled)\n",
    "\n",
    "# First install `sf`, `ragg` and `textshaping` and their system dependencies:\n",
    "system(\"apt-get -y update && apt-get install -y  libudunits2-dev libgdal-dev libgeos-dev libproj-dev libharfbuzz-dev libfribidi-dev\")\n",
    "install.packages(\"sf\")\n",
    "install.packages(\"textshaping\")\n",
    "install.packages(\"ragg\")\n",
    "\n",
    "# Install system dependencies of some other R packages that Voyager either imports or suggests:\n",
    "system(\"apt-get install -y libfribidi-dev libcairo2-dev libmagick++-dev\")\n",
    "\n",
    "# Install Voyager from Bioconductor:\n",
    "install.packages(\"BiocManager\")\n",
    "BiocManager::install(version = \"release\", ask = FALSE, update = FALSE, Ncpus = 2)\n",
    "BiocManager::install(\"scater\")\n",
    "system.time(\n",
    "  BiocManager::install(\"Voyager\", dependencies = TRUE, Ncpus = 2, update = FALSE)\n",
    ")\n",
    "\n",
    "# Other packages used in this vignette\n",
    "packageVersion(\"Voyager\")"
   ]
  },
  {
   "cell_type": "markdown",
<<<<<<< HEAD
<<<<<<< HEAD
<<<<<<< HEAD
<<<<<<< HEAD
<<<<<<< HEAD
   "id": "5c225a92",
=======
   "id": "b3a7ddad",
>>>>>>> documentation-devel
=======
   "id": "bc54c118",
>>>>>>> documentation-devel
=======
   "id": "ab77cb5a",
>>>>>>> c9ed93f2a6d5e87fe6759d6fd26c06823f77f3f2
=======
   "id": "804f9bf4",
>>>>>>> documentation-devel
=======
   "id": "454292ec",
>>>>>>> 487d062df8c9b8a19360e92edfd0678a37ff23f4
   "metadata": {
    "lines_to_next_cell": 0
   },
   "source": [
    "# Introduction\n",
    "In geostatistical data, an underlying spatial process is sampled at known locations. Kriging uses a Gaussian process model to interpolate the values between the sample locations, and the semivariogram is used to model the spatial dependency between the locations as the covariance of the Gaussian process. When not kriging, the semivariogram can be used as an exploratory data analysis tool to find the length scale and anisotropy of spatial autocorrelation. The semivariogram is defined as\n",
    "\n",
    "$$\n",
    "\\gamma(t) = \\frac 1 2 \\mathrm{Var}(X_t - X_0),\n",
    "$$\n",
    "\n",
    "where $X$ is the value such as gene expression, and $t$ is a spatial vector. $X_0$ is the value at a location of interest, and $X_t$ is the value lagged by $t$. With positive spatial autocorrelation, the variance would be smaller among nearby values, so the variogram would increase with distance, eventually leveling off when the distance is beyond the length scale of spatial autocorrelation. The \"semi\" comes from the 1/2, which comes from the assumption that the Gaussian process is weakly stationary, i.e. the covariance between two locations only depends on the spatial lag between them:\n",
    "\n",
    "$$\\begin{align}\n",
    "\\mathrm{Var}(X_{t_2} - X_{t_1}) &= \\mathrm{Var}(X_{t_2}) + \\mathrm{Var}(X_{t_1}) - 2\\mathrm{Cov}(X_{t_2}, X_{t_1}) \\\\\n",
    "&= 2\\rho(0) - 2\\rho(t_2 - t_1),\n",
    "\\end{align}$$\n",
    "\n",
    "where $\\rho$ is a covariance function and $t_1$ and $t_2$ are spatial locations. A model can be fitted to the empirical semivariogram, to model this $\\rho$. That the variance of differences between the value across locations only depends on the spatial lag means intrinsically stationary, which is even weaker and more generalizable than weakly stationary. The weaker assumption is used in kriging.\n",
    "\n",
    "This vignette demonstrates the variogram as an ESDA tool, including interpretation of the univariate variogram, anisotropic variograms (variograms in different directions), variogram maps, and bivariate cross variograms.\n",
    "\n",
    "Here we load the packages:"
   ]
  },
  {
   "cell_type": "code",
   "execution_count": null,
<<<<<<< HEAD
<<<<<<< HEAD
<<<<<<< HEAD
<<<<<<< HEAD
<<<<<<< HEAD
   "id": "c3735c45",
=======
   "id": "62a31718",
>>>>>>> documentation-devel
=======
   "id": "3ad69cab",
>>>>>>> documentation-devel
=======
   "id": "3f2ee767",
>>>>>>> c9ed93f2a6d5e87fe6759d6fd26c06823f77f3f2
=======
   "id": "73072506",
>>>>>>> documentation-devel
=======
   "id": "80d21127",
>>>>>>> 487d062df8c9b8a19360e92edfd0678a37ff23f4
   "metadata": {
    "message": false
   },
   "outputs": [],
   "source": [
    "library(Voyager)\n",
    "library(SFEData)\n",
    "library(SpatialFeatureExperiment)\n",
    "library(scater)\n",
    "library(scran)\n",
    "library(ggplot2)\n",
    "library(BiocParallel)\n",
    "library(bluster)\n",
    "library(dplyr)\n",
    "theme_set(theme_bw())"
   ]
  },
  {
   "cell_type": "markdown",
<<<<<<< HEAD
<<<<<<< HEAD
<<<<<<< HEAD
<<<<<<< HEAD
<<<<<<< HEAD
   "id": "0acd8d8b",
=======
   "id": "174dcd66",
>>>>>>> documentation-devel
=======
   "id": "bd3ce8da",
>>>>>>> documentation-devel
=======
   "id": "3811a259",
>>>>>>> c9ed93f2a6d5e87fe6759d6fd26c06823f77f3f2
=======
   "id": "43d15429",
>>>>>>> documentation-devel
=======
   "id": "8230236c",
>>>>>>> 487d062df8c9b8a19360e92edfd0678a37ff23f4
   "metadata": {
    "lines_to_next_cell": 0
   },
   "source": [
    "The Slide-seq melanoma metastasis data [@Biermann2022-cu] is used for demonstration. QC is performed in [another vignette](https://pachterlab.github.io/voyager/articles/vig3_slideseq_v2.html)."
   ]
  },
  {
   "cell_type": "code",
   "execution_count": null,
<<<<<<< HEAD
<<<<<<< HEAD
<<<<<<< HEAD
<<<<<<< HEAD
<<<<<<< HEAD
   "id": "e02cd7a6",
=======
   "id": "ae8a5ded",
>>>>>>> documentation-devel
=======
   "id": "96f5596b",
>>>>>>> documentation-devel
=======
   "id": "71dcddbb",
>>>>>>> c9ed93f2a6d5e87fe6759d6fd26c06823f77f3f2
=======
   "id": "320dedf5",
>>>>>>> documentation-devel
=======
   "id": "92b480ed",
>>>>>>> 487d062df8c9b8a19360e92edfd0678a37ff23f4
   "metadata": {},
   "outputs": [],
   "source": [
    "(sfe <- BiermannMelaMetasData(dataset = \"MBM05_rep1\"))"
   ]
  },
  {
   "cell_type": "code",
   "execution_count": null,
<<<<<<< HEAD
<<<<<<< HEAD
<<<<<<< HEAD
<<<<<<< HEAD
<<<<<<< HEAD
   "id": "5ab9f812",
=======
   "id": "21feca81",
>>>>>>> documentation-devel
=======
   "id": "51db93ae",
>>>>>>> documentation-devel
=======
   "id": "4be0b22b",
>>>>>>> c9ed93f2a6d5e87fe6759d6fd26c06823f77f3f2
=======
   "id": "5f204153",
>>>>>>> documentation-devel
=======
   "id": "0eb6c770",
>>>>>>> 487d062df8c9b8a19360e92edfd0678a37ff23f4
   "metadata": {},
   "outputs": [],
   "source": [
    "sfe <- sfe[, colData(sfe)$prop_mito < 0.1]\n",
    "sfe <- sfe[rowSums(counts(sfe)) > 0,]"
   ]
  },
  {
   "cell_type": "code",
   "execution_count": null,
<<<<<<< HEAD
<<<<<<< HEAD
<<<<<<< HEAD
<<<<<<< HEAD
<<<<<<< HEAD
   "id": "f11f235a",
=======
   "id": "133fe7c3",
>>>>>>> documentation-devel
=======
   "id": "033b8f00",
>>>>>>> documentation-devel
=======
   "id": "96800c8f",
>>>>>>> c9ed93f2a6d5e87fe6759d6fd26c06823f77f3f2
=======
   "id": "1db66b33",
>>>>>>> documentation-devel
=======
   "id": "96db3e02",
>>>>>>> 487d062df8c9b8a19360e92edfd0678a37ff23f4
   "metadata": {},
   "outputs": [],
   "source": [
    "sfe <- logNormCounts(sfe)"
   ]
  },
  {
   "cell_type": "markdown",
<<<<<<< HEAD
<<<<<<< HEAD
<<<<<<< HEAD
<<<<<<< HEAD
<<<<<<< HEAD
   "id": "2a081376",
=======
   "id": "1ab21d96",
>>>>>>> documentation-devel
=======
   "id": "4f2fe1f1",
>>>>>>> documentation-devel
=======
   "id": "1fc46213",
>>>>>>> c9ed93f2a6d5e87fe6759d6fd26c06823f77f3f2
=======
   "id": "8453c299",
>>>>>>> documentation-devel
=======
   "id": "1a3d3202",
>>>>>>> 487d062df8c9b8a19360e92edfd0678a37ff23f4
   "metadata": {
    "lines_to_next_cell": 0
   },
   "source": [
    "Variograms will be demonstrated on some of the top highly variable genes (HVGs)"
   ]
  },
  {
   "cell_type": "code",
   "execution_count": null,
<<<<<<< HEAD
<<<<<<< HEAD
<<<<<<< HEAD
<<<<<<< HEAD
<<<<<<< HEAD
   "id": "f945fb22",
=======
   "id": "1238cd2d",
>>>>>>> documentation-devel
=======
   "id": "48d8c993",
>>>>>>> documentation-devel
=======
   "id": "0b4c8078",
>>>>>>> c9ed93f2a6d5e87fe6759d6fd26c06823f77f3f2
=======
   "id": "cc941409",
>>>>>>> documentation-devel
=======
   "id": "b076e3c8",
>>>>>>> 487d062df8c9b8a19360e92edfd0678a37ff23f4
   "metadata": {},
   "outputs": [],
   "source": [
    "dec <- modelGeneVar(sfe)\n",
    "hvgs <- getTopHVGs(dec, n = 50)"
   ]
  },
  {
   "cell_type": "markdown",
<<<<<<< HEAD
<<<<<<< HEAD
<<<<<<< HEAD
<<<<<<< HEAD
<<<<<<< HEAD
   "id": "ef2fe255",
=======
   "id": "a455f963",
>>>>>>> documentation-devel
=======
   "id": "ba8f3b35",
>>>>>>> documentation-devel
=======
   "id": "b9c16277",
>>>>>>> c9ed93f2a6d5e87fe6759d6fd26c06823f77f3f2
=======
   "id": "2dbeadb0",
>>>>>>> documentation-devel
=======
   "id": "31a9d819",
>>>>>>> 487d062df8c9b8a19360e92edfd0678a37ff23f4
   "metadata": {},
   "source": [
    "# Variogram\n",
    "The same user interface used to run Moran's I can be used to compute variograms. However, since the variogram uses spatial distances instead of spatial neighborhood graph, the `colGraph` does not need to be specified. Instead, a `colGeometry` can be specified, and if the geometry is not `POINT`, then `spatialCoords(sfe)` will be used to compute the distances. Behind the scene, the [`automap`](https://github.com/cran/automap/tree/master) package is used, which fits a number of different variogram models to the empirical variogram and chooses one that fits the best. The `automap` package is a user friendly wrapper of `gstat`, a time honored package for geostatistics."
   ]
  },
  {
   "cell_type": "code",
   "execution_count": null,
<<<<<<< HEAD
<<<<<<< HEAD
<<<<<<< HEAD
<<<<<<< HEAD
<<<<<<< HEAD
   "id": "80914bdf",
=======
   "id": "2f6f0c1e",
>>>>>>> documentation-devel
=======
   "id": "3e366cee",
>>>>>>> documentation-devel
=======
   "id": "cc1d8fc7",
>>>>>>> c9ed93f2a6d5e87fe6759d6fd26c06823f77f3f2
=======
   "id": "deb67d4a",
>>>>>>> documentation-devel
=======
   "id": "e274fcff",
>>>>>>> 487d062df8c9b8a19360e92edfd0678a37ff23f4
   "metadata": {},
   "outputs": [],
   "source": [
    "sfe <- runUnivariate(sfe, \"variogram\", hvgs, BPPARAM = SnowParam(2),\n",
    "                     model = \"Ste\")"
   ]
  },
  {
   "cell_type": "code",
   "execution_count": null,
<<<<<<< HEAD
<<<<<<< HEAD
<<<<<<< HEAD
<<<<<<< HEAD
<<<<<<< HEAD
   "id": "1e5053bf",
=======
   "id": "b1694c76",
>>>>>>> documentation-devel
=======
   "id": "04b6f4c8",
>>>>>>> documentation-devel
=======
   "id": "f22f5dca",
>>>>>>> c9ed93f2a6d5e87fe6759d6fd26c06823f77f3f2
=======
   "id": "d42a3cb0",
>>>>>>> documentation-devel
=======
   "id": "3f4b827a",
>>>>>>> 487d062df8c9b8a19360e92edfd0678a37ff23f4
   "metadata": {},
   "outputs": [],
   "source": [
    "plotVariogram(sfe, hvgs[1:4], name = \"variogram\")"
   ]
  },
  {
   "cell_type": "markdown",
<<<<<<< HEAD
<<<<<<< HEAD
<<<<<<< HEAD
<<<<<<< HEAD
<<<<<<< HEAD
   "id": "18012e46",
=======
   "id": "b48131a6",
>>>>>>> documentation-devel
=======
   "id": "3e01638d",
>>>>>>> documentation-devel
=======
   "id": "5708351b",
>>>>>>> c9ed93f2a6d5e87fe6759d6fd26c06823f77f3f2
=======
   "id": "486448f3",
>>>>>>> documentation-devel
=======
   "id": "c5835ef8",
>>>>>>> 487d062df8c9b8a19360e92edfd0678a37ff23f4
   "metadata": {},
   "source": [
    "The data is binned by distance between spots and the variance is computed for each bin. While `gstat`'s plotting functions say \"semivariance\", because the data is scaled so the variance is 1, I do think the variance rather than semivariance is plotted. The numbers by the points in the plot indicate the number of pairs of spots in each bin. \"Ste\" means the Matern model with M. Stein's parameterization was fitted to the points. \n",
    "\n",
    "Nugget is the variance at distance 0, or variance within the first distance bin. The data is scaled by default prior to variogram computation to make the variograms for multiple genes comparable. \n",
    "\n",
    "Spatial autocorrelation makes the variance smaller at shorter distances. When the variogram levels off, it means that spatial autocorrelation no longer has an effect at this distance. Sill is the variance where the variogram levels off. Range is the distance where the variogram levels off. \n",
    "\n",
    "In the first 4 genes, IGHG3 and IGKC seem to have stronger spatial autocorrelation that dissipate in 100 to 200 units (whether it's microns or pixels is unclear from the publication), whereas spatial autocorrelation of B2M and MT-RNR1 is much weaker and has longer length scale. \n",
    "\n",
    "Here the genes are plotted in space:"
   ]
  },
  {
   "cell_type": "code",
   "execution_count": null,
<<<<<<< HEAD
<<<<<<< HEAD
<<<<<<< HEAD
<<<<<<< HEAD
<<<<<<< HEAD
   "id": "bc802b89",
=======
   "id": "0152b276",
>>>>>>> documentation-devel
=======
   "id": "7e2e8cd2",
>>>>>>> documentation-devel
=======
   "id": "57f45906",
>>>>>>> c9ed93f2a6d5e87fe6759d6fd26c06823f77f3f2
=======
   "id": "564c48eb",
>>>>>>> documentation-devel
=======
   "id": "eac0c27a",
>>>>>>> 487d062df8c9b8a19360e92edfd0678a37ff23f4
   "metadata": {
    "fig.height": 6,
    "fig.width": 9
   },
   "outputs": [],
   "source": [
    "plotSpatialFeature(sfe, hvgs[1:4], size = 0.3) & \n",
    "    theme_bw() # To show the length units"
   ]
  },
  {
   "cell_type": "markdown",
<<<<<<< HEAD
<<<<<<< HEAD
<<<<<<< HEAD
<<<<<<< HEAD
<<<<<<< HEAD
   "id": "b4491b47",
=======
   "id": "26b337b7",
>>>>>>> documentation-devel
=======
   "id": "e943f5eb",
>>>>>>> documentation-devel
=======
   "id": "53d89aeb",
>>>>>>> c9ed93f2a6d5e87fe6759d6fd26c06823f77f3f2
=======
   "id": "cfa07570",
>>>>>>> documentation-devel
=======
   "id": "ed81c516",
>>>>>>> 487d062df8c9b8a19360e92edfd0678a37ff23f4
   "metadata": {
    "lines_to_next_cell": 0
   },
   "source": [
    "The length scales of spatial autocorrelation for these genes are quite obvious from just plotting the genes. Then what's the point of plotting variograms for ESDA? We can also compute variograms for a larger number of genes and cluster the variograms for patterns in spatial autocorrelation length scales, or compare variograms of the same genes across different samples. Here we cluster the variograms for top highly variable genes (HVGs):\n",
    "\n",
    "The `BLUSPARAM` argument is used to specify methods of clustering, as implemented in the `bluster` package. Here we use hierarchical clustering."
   ]
  },
  {
   "cell_type": "code",
   "execution_count": null,
<<<<<<< HEAD
<<<<<<< HEAD
<<<<<<< HEAD
<<<<<<< HEAD
<<<<<<< HEAD
   "id": "e5d68d47",
=======
   "id": "15307f47",
>>>>>>> documentation-devel
=======
   "id": "d6fa2e72",
>>>>>>> documentation-devel
=======
   "id": "4dafe79a",
>>>>>>> c9ed93f2a6d5e87fe6759d6fd26c06823f77f3f2
=======
   "id": "26d75a3a",
>>>>>>> documentation-devel
=======
   "id": "77f679fe",
>>>>>>> 487d062df8c9b8a19360e92edfd0678a37ff23f4
   "metadata": {},
   "outputs": [],
   "source": [
    "clusts <- clusterVariograms(sfe, hvgs, BLUSPARAM = HclustParam())"
   ]
  },
  {
   "cell_type": "markdown",
<<<<<<< HEAD
<<<<<<< HEAD
<<<<<<< HEAD
<<<<<<< HEAD
<<<<<<< HEAD
   "id": "3458760a",
=======
   "id": "de7d0575",
>>>>>>> documentation-devel
=======
   "id": "d06d74ce",
>>>>>>> documentation-devel
=======
   "id": "f97297e1",
>>>>>>> c9ed93f2a6d5e87fe6759d6fd26c06823f77f3f2
=======
   "id": "adab658a",
>>>>>>> documentation-devel
=======
   "id": "b2b52a19",
>>>>>>> 487d062df8c9b8a19360e92edfd0678a37ff23f4
   "metadata": {
    "lines_to_next_cell": 0
   },
   "source": [
    "Then plot the clusters:"
   ]
  },
  {
   "cell_type": "code",
   "execution_count": null,
<<<<<<< HEAD
<<<<<<< HEAD
<<<<<<< HEAD
<<<<<<< HEAD
<<<<<<< HEAD
   "id": "e41c63cd",
=======
   "id": "293386fd",
>>>>>>> documentation-devel
=======
   "id": "c392408d",
>>>>>>> documentation-devel
=======
   "id": "e4e4a4e0",
>>>>>>> c9ed93f2a6d5e87fe6759d6fd26c06823f77f3f2
=======
   "id": "7e751679",
>>>>>>> documentation-devel
=======
   "id": "9e19c838",
>>>>>>> 487d062df8c9b8a19360e92edfd0678a37ff23f4
   "metadata": {},
   "outputs": [],
   "source": [
    "plotVariogram(sfe, hvgs, color_by = clusts, group = \"feature\", use_lty = FALSE,\n",
    "              show_np = FALSE)"
   ]
  },
  {
   "cell_type": "markdown",
<<<<<<< HEAD
<<<<<<< HEAD
<<<<<<< HEAD
<<<<<<< HEAD
<<<<<<< HEAD
   "id": "b1daf549",
=======
   "id": "be4ae728",
>>>>>>> documentation-devel
=======
   "id": "88db34f9",
>>>>>>> documentation-devel
=======
   "id": "071b2752",
>>>>>>> c9ed93f2a6d5e87fe6759d6fd26c06823f77f3f2
=======
   "id": "a285e0b7",
>>>>>>> documentation-devel
=======
   "id": "cac67c74",
>>>>>>> 487d062df8c9b8a19360e92edfd0678a37ff23f4
   "metadata": {
    "lines_to_next_cell": 0
   },
   "source": [
    "It seems that there are many genes, like MT-RNR1, with weak spatial autocorrelation over longer length scales, genes with stronger and shorter range spatial autocorrelation (around 150 to 200 units) like IGKC, and genes with somewhat longer length scale of spatial autocorrelation (around 400 units).\n",
    "\n",
    "Plot one gene from each cluster in space:"
   ]
  },
  {
   "cell_type": "code",
   "execution_count": null,
<<<<<<< HEAD
<<<<<<< HEAD
<<<<<<< HEAD
<<<<<<< HEAD
<<<<<<< HEAD
   "id": "8463a41a",
=======
   "id": "bc838f5d",
>>>>>>> documentation-devel
=======
   "id": "aa4acfe2",
>>>>>>> documentation-devel
=======
   "id": "0227982b",
>>>>>>> c9ed93f2a6d5e87fe6759d6fd26c06823f77f3f2
=======
   "id": "b4f75a35",
>>>>>>> documentation-devel
=======
   "id": "29ff8593",
>>>>>>> 487d062df8c9b8a19360e92edfd0678a37ff23f4
   "metadata": {},
   "outputs": [],
   "source": [
    "genes_clusts <- clusts |> \n",
    "    group_by(cluster) |> \n",
    "    slice_head(n = 1) |> \n",
    "    pull(feature)"
   ]
  },
  {
   "cell_type": "code",
   "execution_count": null,
<<<<<<< HEAD
<<<<<<< HEAD
<<<<<<< HEAD
<<<<<<< HEAD
<<<<<<< HEAD
   "id": "19945570",
=======
   "id": "0fd5d376",
>>>>>>> documentation-devel
=======
   "id": "26ef1f10",
>>>>>>> documentation-devel
=======
   "id": "83f8c2b8",
>>>>>>> c9ed93f2a6d5e87fe6759d6fd26c06823f77f3f2
=======
   "id": "bebb4e65",
>>>>>>> documentation-devel
=======
   "id": "d4c02b52",
>>>>>>> 487d062df8c9b8a19360e92edfd0678a37ff23f4
   "metadata": {
    "fig.height": 6,
    "fig.width": 10
   },
   "outputs": [],
   "source": [
    "plotSpatialFeature(sfe, genes_clusts, size = 0.3)"
   ]
  },
  {
   "cell_type": "markdown",
<<<<<<< HEAD
<<<<<<< HEAD
<<<<<<< HEAD
<<<<<<< HEAD
<<<<<<< HEAD
   "id": "5a677fb3",
=======
   "id": "ac0d9c27",
>>>>>>> documentation-devel
=======
   "id": "d59ced73",
>>>>>>> documentation-devel
=======
   "id": "7023427d",
>>>>>>> c9ed93f2a6d5e87fe6759d6fd26c06823f77f3f2
=======
   "id": "1b4ea907",
>>>>>>> documentation-devel
=======
   "id": "cbb61538",
>>>>>>> 487d062df8c9b8a19360e92edfd0678a37ff23f4
   "metadata": {},
   "source": [
    "MT-RNR1 is more widely expressed. IGKC and ICHC3 are restricted to smaller areas, and IGHM is restricted to even smaller areas. Note that genes with variograms in the same cluster don't have to be co-expressed; they only need to have similar length scales and strengths of spatial autocorrelation.\n",
    "\n",
    "# Anisotropy\n",
    "Anisotropy means different in different directions. An example is the cerebral cortex, which has a layered structure. The variogram can be computed in different directions.\n",
    "\n",
    "## Anisotropic variogram\n",
    "The directions on which to compute variograms can be explicitly specified, in the `alpha` argument. However, since `gstat` does not fit anisotropic variograms, the model is fitted to all directions and the empirical variograms at each angle are plotted separately. Here we compute anisotropic variograms for the 4 genes above:"
   ]
  },
  {
   "cell_type": "code",
   "execution_count": null,
<<<<<<< HEAD
<<<<<<< HEAD
<<<<<<< HEAD
<<<<<<< HEAD
<<<<<<< HEAD
   "id": "b514bc2d",
=======
   "id": "d16c875e",
>>>>>>> documentation-devel
=======
   "id": "0bb16e6f",
>>>>>>> documentation-devel
=======
   "id": "c8ebd586",
>>>>>>> c9ed93f2a6d5e87fe6759d6fd26c06823f77f3f2
=======
   "id": "88e18f13",
>>>>>>> documentation-devel
=======
   "id": "fa03c3ec",
>>>>>>> 487d062df8c9b8a19360e92edfd0678a37ff23f4
   "metadata": {},
   "outputs": [],
   "source": [
    "sfe <- runUnivariate(sfe, \"variogram\", genes_clusts, alpha = c(0, 45, 90, 135),\n",
    "                     # To not to overwrite omnidirectional variogram results\n",
    "                     name = \"variogram_anis\", model = \"Ste\", \n",
    "                     BPPARAM = SnowParam(2))"
   ]
  },
  {
   "cell_type": "code",
   "execution_count": null,
<<<<<<< HEAD
<<<<<<< HEAD
<<<<<<< HEAD
<<<<<<< HEAD
<<<<<<< HEAD
   "id": "089fb809",
=======
   "id": "15a71fec",
>>>>>>> documentation-devel
=======
   "id": "87075184",
>>>>>>> documentation-devel
=======
   "id": "3fea137c",
>>>>>>> c9ed93f2a6d5e87fe6759d6fd26c06823f77f3f2
=======
   "id": "3633924e",
>>>>>>> documentation-devel
=======
   "id": "9250c103",
>>>>>>> 487d062df8c9b8a19360e92edfd0678a37ff23f4
   "metadata": {},
   "outputs": [],
   "source": [
    "plotVariogram(sfe, genes_clusts, group = \"angle\", name = \"variogram_anis\",\n",
    "              show_np = FALSE)"
   ]
  },
  {
   "cell_type": "markdown",
<<<<<<< HEAD
<<<<<<< HEAD
<<<<<<< HEAD
<<<<<<< HEAD
<<<<<<< HEAD
   "id": "14e5a078",
=======
   "id": "ac2b2098",
>>>>>>> documentation-devel
=======
   "id": "9a072f1e",
>>>>>>> documentation-devel
=======
   "id": "c0b3a9f3",
>>>>>>> c9ed93f2a6d5e87fe6759d6fd26c06823f77f3f2
=======
   "id": "53770f58",
>>>>>>> documentation-devel
=======
   "id": "6c4bfea5",
>>>>>>> 487d062df8c9b8a19360e92edfd0678a37ff23f4
   "metadata": {},
   "source": [
    "Here the line is the variogram model fitted to all directions and the text describes this model. The points show the angles in different colors. Zero degree points north (up), and the angles go clockwise.\n",
    "\n",
    "## Variogram map\n",
    "\n",
    "The variogram map is another way to visualize spatial autocorrelation in different directions. It bins distances in x and distances in y, so we have a grid of distances where the variance is computed. Just like the variograms above, the origin usually has a low value, because spatial autocorrelation reduces the variance in a short distance, and the values increase with increasing distance from the origin, but it can increase more quickly in some directions than others. Here to compute variogram maps for the 4 genes above:"
   ]
  },
  {
   "cell_type": "code",
   "execution_count": null,
<<<<<<< HEAD
<<<<<<< HEAD
<<<<<<< HEAD
<<<<<<< HEAD
<<<<<<< HEAD
   "id": "0f401c5c",
=======
   "id": "9c13dcd5",
>>>>>>> documentation-devel
=======
   "id": "e62a50d8",
>>>>>>> documentation-devel
=======
   "id": "51288e23",
>>>>>>> c9ed93f2a6d5e87fe6759d6fd26c06823f77f3f2
=======
   "id": "f5e3db20",
>>>>>>> documentation-devel
=======
   "id": "37e7f62f",
>>>>>>> 487d062df8c9b8a19360e92edfd0678a37ff23f4
   "metadata": {},
   "outputs": [],
   "source": [
    "sfe <- runUnivariate(sfe, \"variogram_map\", genes_clusts, width = 100, \n",
    "                     cutoff = 800, BPPARAM = SnowParam(2), name = \"variogram_map2\")"
   ]
  },
  {
   "cell_type": "markdown",
<<<<<<< HEAD
<<<<<<< HEAD
<<<<<<< HEAD
<<<<<<< HEAD
<<<<<<< HEAD
   "id": "ce92908a",
=======
   "id": "c2266adc",
>>>>>>> documentation-devel
=======
   "id": "d14e7ec7",
>>>>>>> documentation-devel
=======
   "id": "9917d3b1",
>>>>>>> c9ed93f2a6d5e87fe6759d6fd26c06823f77f3f2
=======
   "id": "c9c0ee78",
>>>>>>> documentation-devel
=======
   "id": "700aa0c1",
>>>>>>> 487d062df8c9b8a19360e92edfd0678a37ff23f4
   "metadata": {},
   "source": [
    "The `width` argument is the width of the bins, and `cutoff` is the maximum distance."
   ]
  },
  {
   "cell_type": "code",
   "execution_count": null,
<<<<<<< HEAD
<<<<<<< HEAD
<<<<<<< HEAD
<<<<<<< HEAD
<<<<<<< HEAD
   "id": "d4d3c712",
=======
   "id": "b1a8f299",
>>>>>>> documentation-devel
=======
   "id": "52e3581a",
>>>>>>> documentation-devel
=======
   "id": "0c5dfe6b",
>>>>>>> c9ed93f2a6d5e87fe6759d6fd26c06823f77f3f2
=======
   "id": "450510d6",
>>>>>>> documentation-devel
=======
   "id": "78d0ad99",
>>>>>>> 487d062df8c9b8a19360e92edfd0678a37ff23f4
   "metadata": {},
   "outputs": [],
   "source": [
    "plotVariogramMap(sfe, genes_clusts, name = \"variogram_map2\")"
   ]
  },
  {
   "cell_type": "markdown",
<<<<<<< HEAD
<<<<<<< HEAD
<<<<<<< HEAD
<<<<<<< HEAD
<<<<<<< HEAD
   "id": "60be76ba",
=======
   "id": "b20d55b7",
>>>>>>> documentation-devel
=======
   "id": "0b7402f2",
>>>>>>> documentation-devel
=======
   "id": "ff2fa85c",
>>>>>>> c9ed93f2a6d5e87fe6759d6fd26c06823f77f3f2
=======
   "id": "a97f0cc1",
>>>>>>> documentation-devel
=======
   "id": "327a64a8",
>>>>>>> 487d062df8c9b8a19360e92edfd0678a37ff23f4
   "metadata": {},
   "source": [
    "# Cross variogram\n",
    "The cross variogram is used in cokriging, which uses multiple variables in the spatial interpolation model. The cross variogram is defined as\n",
    "\n",
    "$$\n",
    "\\gamma(t) = \\frac 1 2 \\mathrm{Cov}(X_t - X_0, Y_t - Y_0),\n",
    "$$\n",
    "\n",
    "where $Y$ is another variable. The cross variogram also has nugget, sill, and range. It shows how the covariance between two variables changes with distance. `Voyager` supports multiple bivariate spatial methods, and the cross variogram is one of them. Just like for univariate spatial methods, `Voyager` provides a uniform user interface for bivariate methods. However, bivariate local methods can't be stored in the SFE object at present because they tend to have very different formats in outputs (e.g. a correlation matrix for Lee's L and a list for most other methods) some of which may not be straightforward to store in the SFE object."
   ]
  },
  {
   "cell_type": "code",
   "execution_count": null,
<<<<<<< HEAD
<<<<<<< HEAD
<<<<<<< HEAD
<<<<<<< HEAD
<<<<<<< HEAD
   "id": "f4d0c983",
=======
   "id": "ff2803ca",
>>>>>>> documentation-devel
=======
   "id": "810319e4",
>>>>>>> documentation-devel
=======
   "id": "c48e4f21",
>>>>>>> c9ed93f2a6d5e87fe6759d6fd26c06823f77f3f2
=======
   "id": "8b8c3ed0",
>>>>>>> documentation-devel
=======
   "id": "886a1621",
>>>>>>> 487d062df8c9b8a19360e92edfd0678a37ff23f4
   "metadata": {},
   "outputs": [],
   "source": [
    "cross_v <- calculateBivariate(sfe, \"cross_variogram\", \n",
    "                              feature1 = \"IGKC\", feature2 = \"IGHG3\")"
   ]
  },
  {
   "cell_type": "code",
   "execution_count": null,
<<<<<<< HEAD
<<<<<<< HEAD
<<<<<<< HEAD
<<<<<<< HEAD
<<<<<<< HEAD
   "id": "20931dbd",
=======
   "id": "e3834f0a",
>>>>>>> documentation-devel
=======
   "id": "37f556e3",
>>>>>>> documentation-devel
=======
   "id": "7a877a50",
>>>>>>> c9ed93f2a6d5e87fe6759d6fd26c06823f77f3f2
=======
   "id": "71036ff7",
>>>>>>> documentation-devel
=======
   "id": "9b5e7a9d",
>>>>>>> 487d062df8c9b8a19360e92edfd0678a37ff23f4
   "metadata": {},
   "outputs": [],
   "source": [
    "plotCrossVariogram(cross_v, show_np = FALSE)"
   ]
  },
  {
   "cell_type": "markdown",
<<<<<<< HEAD
<<<<<<< HEAD
<<<<<<< HEAD
<<<<<<< HEAD
<<<<<<< HEAD
   "id": "59d12279",
=======
   "id": "282070dc",
>>>>>>> documentation-devel
=======
   "id": "af2ef256",
>>>>>>> documentation-devel
=======
   "id": "494a1f39",
>>>>>>> c9ed93f2a6d5e87fe6759d6fd26c06823f77f3f2
=======
   "id": "b20e1416",
>>>>>>> documentation-devel
=======
   "id": "d16947ee",
>>>>>>> 487d062df8c9b8a19360e92edfd0678a37ff23f4
   "metadata": {
    "lines_to_next_cell": 0
   },
   "source": [
    "The facets are shown in a matrix, whose diagonal is the variogram for each gene, and off diagonal entries are cross variograms. Here for IGKC and IGHG3, the length scale of the covariance is similar to that of spatial autocorrelation. \n",
    "\n",
    "There is also a cross variogram map to show the cross variogram in different directions:"
   ]
  },
  {
   "cell_type": "code",
   "execution_count": null,
<<<<<<< HEAD
<<<<<<< HEAD
<<<<<<< HEAD
<<<<<<< HEAD
<<<<<<< HEAD
   "id": "48ba6c22",
=======
   "id": "77cfe053",
>>>>>>> documentation-devel
=======
   "id": "f5a2d7e3",
>>>>>>> documentation-devel
=======
   "id": "d0c44fdf",
>>>>>>> c9ed93f2a6d5e87fe6759d6fd26c06823f77f3f2
=======
   "id": "326253fa",
>>>>>>> documentation-devel
=======
   "id": "7d905267",
>>>>>>> 487d062df8c9b8a19360e92edfd0678a37ff23f4
   "metadata": {},
   "outputs": [],
   "source": [
    "cross_v_map <- calculateBivariate(sfe, \"cross_variogram_map\",\n",
    "                                  feature1 = \"IGKC\", feature2 = \"IGHG3\",\n",
    "                                  width = 100, cutoff = 800)"
   ]
  },
  {
   "cell_type": "code",
   "execution_count": null,
<<<<<<< HEAD
<<<<<<< HEAD
<<<<<<< HEAD
<<<<<<< HEAD
<<<<<<< HEAD
   "id": "2bd5e4fc",
=======
   "id": "1757f2b7",
>>>>>>> documentation-devel
=======
   "id": "aef1de74",
>>>>>>> documentation-devel
=======
   "id": "025fa885",
>>>>>>> c9ed93f2a6d5e87fe6759d6fd26c06823f77f3f2
=======
   "id": "a14943c5",
>>>>>>> documentation-devel
=======
   "id": "a783e725",
>>>>>>> 487d062df8c9b8a19360e92edfd0678a37ff23f4
   "metadata": {},
   "outputs": [],
   "source": [
    "plotCrossVariogramMap(cross_v_map)"
   ]
  },
  {
   "cell_type": "markdown",
<<<<<<< HEAD
<<<<<<< HEAD
<<<<<<< HEAD
<<<<<<< HEAD
<<<<<<< HEAD
   "id": "087da1d3",
=======
   "id": "32ef9cfb",
>>>>>>> documentation-devel
=======
   "id": "647fe064",
>>>>>>> documentation-devel
=======
   "id": "9acbea72",
>>>>>>> c9ed93f2a6d5e87fe6759d6fd26c06823f77f3f2
=======
   "id": "ff195365",
>>>>>>> documentation-devel
=======
   "id": "d60ee3b8",
>>>>>>> 487d062df8c9b8a19360e92edfd0678a37ff23f4
   "metadata": {
    "lines_to_next_cell": 0
   },
   "source": [
    "# Session Info"
   ]
  },
  {
   "cell_type": "code",
   "execution_count": null,
<<<<<<< HEAD
<<<<<<< HEAD
<<<<<<< HEAD
<<<<<<< HEAD
<<<<<<< HEAD
   "id": "dc075e5c",
=======
   "id": "dd734e79",
>>>>>>> documentation-devel
=======
   "id": "aaae327a",
>>>>>>> documentation-devel
=======
   "id": "1bfc02cd",
>>>>>>> c9ed93f2a6d5e87fe6759d6fd26c06823f77f3f2
=======
   "id": "ab719622",
>>>>>>> documentation-devel
=======
   "id": "72c9873a",
>>>>>>> 487d062df8c9b8a19360e92edfd0678a37ff23f4
   "metadata": {
    "lines_to_next_cell": 2
   },
   "outputs": [],
   "source": [
    "sessionInfo()"
   ]
  },
  {
   "cell_type": "markdown",
<<<<<<< HEAD
<<<<<<< HEAD
<<<<<<< HEAD
<<<<<<< HEAD
<<<<<<< HEAD
   "id": "f2dc3508",
=======
   "id": "f99eeecf",
>>>>>>> documentation-devel
=======
   "id": "9e4d9a5d",
>>>>>>> documentation-devel
=======
   "id": "4829bd46",
>>>>>>> c9ed93f2a6d5e87fe6759d6fd26c06823f77f3f2
=======
   "id": "0a232ca7",
>>>>>>> documentation-devel
=======
   "id": "6221da98",
>>>>>>> 487d062df8c9b8a19360e92edfd0678a37ff23f4
   "metadata": {},
   "source": [
    "# References"
   ]
  }
 ],
 "metadata": {
  "kernelspec": {
   "display_name": "R",
   "language": "R",
   "name": "ir"
  }
 },
 "nbformat": 4,
 "nbformat_minor": 5
}
