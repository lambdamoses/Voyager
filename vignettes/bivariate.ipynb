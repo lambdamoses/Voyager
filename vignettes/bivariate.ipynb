{
 "cells": [
  {
   "cell_type": "raw",
<<<<<<< HEAD
<<<<<<< HEAD
<<<<<<< HEAD
   "id": "55875a20",
=======
   "id": "ec5ffbff",
>>>>>>> documentation-devel
=======
   "id": "5fa70c99",
>>>>>>> documentation-devel
=======
   "id": "d037484a",
>>>>>>> c9ed93f2a6d5e87fe6759d6fd26c06823f77f3f2
   "metadata": {},
   "source": [
    "---\n",
    "title: \"Bivariate spatial statistics\"\n",
    "author: \"Lambda Moses\"\n",
    "date: \"`r Sys.Date()`\"\n",
    "output: \n",
    "  html_document:\n",
    "  toc: true\n",
    "  toc_float:\n",
    "    collapsed: false\n",
    "  toc_depth: 3\n",
    "bibliography: ref.bib\n",
    "vignette: >\n",
    "  %\\VignetteIndexEntry{bivariate}\n",
    "  %\\VignetteEngine{knitr::rmarkdown}\n",
    "  %\\VignetteEncoding{UTF-8}\n",
    "---"
   ]
  },
  {
   "cell_type": "code",
   "execution_count": null,
<<<<<<< HEAD
<<<<<<< HEAD
<<<<<<< HEAD
   "id": "a8ae2850",
=======
   "id": "69a9e386",
>>>>>>> documentation-devel
=======
   "id": "967d6df8",
>>>>>>> documentation-devel
=======
   "id": "1f979791",
>>>>>>> c9ed93f2a6d5e87fe6759d6fd26c06823f77f3f2
   "metadata": {
    "tags": [
     "remove_cell"
    ]
   },
   "outputs": [],
   "source": [
    "knitr::opts_chunk$set(\n",
    "  collapse = TRUE,\n",
    "  comment = \"#>\"\n",
    ")"
   ]
  },
  {
   "cell_type": "code",
   "execution_count": null,
<<<<<<< HEAD
<<<<<<< HEAD
<<<<<<< HEAD
   "id": "0f6c40aa",
=======
   "id": "dd49af11",
>>>>>>> documentation-devel
=======
   "id": "fc82f0ab",
>>>>>>> documentation-devel
=======
   "id": "ff2f5f9a",
>>>>>>> c9ed93f2a6d5e87fe6759d6fd26c06823f77f3f2
   "metadata": {
    "eval": false,
    "tags": [
     "remove_cell"
    ]
   },
   "outputs": [],
   "source": [
    "# Install Google Colab dependencies\n",
    "# Note: this can take 30+ minutes (many of the dependencies include C++ code, which needs to be compiled)\n",
    "\n",
    "# First install `sf`, `ragg` and `textshaping` and their system dependencies:\n",
    "system(\"apt-get -y update && apt-get install -y  libudunits2-dev libgdal-dev libgeos-dev libproj-dev libharfbuzz-dev libfribidi-dev\")\n",
    "install.packages(\"sf\")\n",
    "install.packages(\"textshaping\")\n",
    "install.packages(\"ragg\")\n",
    "\n",
    "# Install system dependencies of some other R packages that Voyager either imports or suggests:\n",
    "system(\"apt-get install -y libfribidi-dev libcairo2-dev libmagick++-dev\")\n",
    "\n",
    "# Install Voyager from Bioconductor:\n",
    "install.packages(\"BiocManager\")\n",
    "BiocManager::install(version = \"release\", ask = FALSE, update = FALSE, Ncpus = 2)\n",
    "BiocManager::install(\"scater\")\n",
    "system.time(\n",
    "  BiocManager::install(\"Voyager\", dependencies = TRUE, Ncpus = 2, update = FALSE)\n",
    ")\n",
    "\n",
    "# Other packages used in this vignette\n",
    "packageVersion(\"Voyager\")"
   ]
  },
  {
   "cell_type": "markdown",
<<<<<<< HEAD
<<<<<<< HEAD
<<<<<<< HEAD
   "id": "97cadb9b",
=======
   "id": "99d86dd0",
>>>>>>> documentation-devel
=======
   "id": "3766071c",
>>>>>>> documentation-devel
=======
   "id": "c4306b9b",
>>>>>>> c9ed93f2a6d5e87fe6759d6fd26c06823f77f3f2
   "metadata": {
    "lines_to_next_cell": 0
   },
   "source": [
    "# Introduction\n",
    "\n",
    "Consider two variables that are correlated, say with Pearson correlation of 0.8. The observations are spatially referenced. The locations of the observations can be permuted without affecting Pearson correlation. The purpose of bivariate spatial statistics is to indicate both correlation in value (as in Pearson correlation), and spatial autocorrelation and co-patterning. \n",
    "One of the bivariate methods implemented in `Voyager` is the cross variogram, which is shown in the [variogram vignette](https://pachterlab.github.io/voyager/articles/variogram.html). This vignette demonstrates other bivariate spatial statistics, which use a spatial neighborhood graph, on the mouse skeletal muscle Visium dataset.\n",
    "\n",
    "Here we load the packages used:"
   ]
  },
  {
   "cell_type": "code",
   "execution_count": null,
<<<<<<< HEAD
<<<<<<< HEAD
<<<<<<< HEAD
   "id": "5ca6d185",
=======
   "id": "c0b7ad3f",
>>>>>>> documentation-devel
=======
   "id": "aa23bf97",
>>>>>>> documentation-devel
=======
   "id": "06029dd9",
>>>>>>> c9ed93f2a6d5e87fe6759d6fd26c06823f77f3f2
   "metadata": {
    "message": false
   },
   "outputs": [],
   "source": [
    "library(Voyager)\n",
    "library(SFEData)\n",
    "library(SpatialFeatureExperiment)\n",
    "library(scater)\n",
    "library(scran)\n",
    "library(ggplot2)\n",
    "library(pheatmap)\n",
    "library(scico)\n",
    "theme_set(theme_bw())"
   ]
  },
  {
   "cell_type": "markdown",
<<<<<<< HEAD
<<<<<<< HEAD
<<<<<<< HEAD
   "id": "12655009",
=======
   "id": "6b268d29",
>>>>>>> documentation-devel
=======
   "id": "f4d62684",
>>>>>>> documentation-devel
=======
   "id": "12707694",
>>>>>>> c9ed93f2a6d5e87fe6759d6fd26c06823f77f3f2
   "metadata": {
    "lines_to_next_cell": 0
   },
   "source": [
    "A list of all bivariate global methods can be seen here:"
   ]
  },
  {
   "cell_type": "code",
   "execution_count": null,
<<<<<<< HEAD
<<<<<<< HEAD
<<<<<<< HEAD
   "id": "5400576a",
=======
   "id": "8d4a6774",
>>>>>>> documentation-devel
=======
   "id": "1346432a",
>>>>>>> documentation-devel
=======
   "id": "03493c0b",
>>>>>>> c9ed93f2a6d5e87fe6759d6fd26c06823f77f3f2
   "metadata": {},
   "outputs": [],
   "source": [
    "listSFEMethods(variate = \"bi\", scope = \"global\")"
   ]
  },
  {
   "cell_type": "markdown",
<<<<<<< HEAD
<<<<<<< HEAD
<<<<<<< HEAD
   "id": "4b9eb540",
=======
   "id": "9b91ef35",
>>>>>>> documentation-devel
=======
   "id": "85b624b1",
>>>>>>> documentation-devel
=======
   "id": "5c3e97a4",
>>>>>>> c9ed93f2a6d5e87fe6759d6fd26c06823f77f3f2
   "metadata": {
    "lines_to_next_cell": 0
   },
   "source": [
    "When calling `calculate*variate()` or `run*variate()`, the `type` (2nd) argument takes either an `SFEMethod` object or a string that matches an entry in the `name` column in the data frame returned by `listSFEMethods()`.\n",
    "\n",
    "QC was performed in [another vignette](https://pachterlab.github.io/voyager/articles/vig1_visium_basic.html), so this vignette will not plot QC metrics."
   ]
  },
  {
   "cell_type": "code",
   "execution_count": null,
<<<<<<< HEAD
<<<<<<< HEAD
<<<<<<< HEAD
   "id": "e781a135",
=======
   "id": "d3196820",
>>>>>>> documentation-devel
=======
   "id": "0ee05746",
>>>>>>> documentation-devel
=======
   "id": "4ef5927b",
>>>>>>> c9ed93f2a6d5e87fe6759d6fd26c06823f77f3f2
   "metadata": {},
   "outputs": [],
   "source": [
    "(sfe <- McKellarMuscleData(\"full\"))"
   ]
  },
  {
   "cell_type": "markdown",
<<<<<<< HEAD
<<<<<<< HEAD
<<<<<<< HEAD
   "id": "3c70e04f",
=======
   "id": "5f775e7d",
>>>>>>> documentation-devel
=======
   "id": "e85f4ef5",
>>>>>>> documentation-devel
=======
   "id": "89169f3c",
>>>>>>> c9ed93f2a6d5e87fe6759d6fd26c06823f77f3f2
   "metadata": {
    "lines_to_next_cell": 0
   },
   "source": [
    "The image can be added to the SFE object and plotted behind the geometries, and needs to be flipped to align to the spots because the origin is at the top left for the image but bottom left for geometries."
   ]
  },
  {
   "cell_type": "code",
   "execution_count": null,
<<<<<<< HEAD
<<<<<<< HEAD
<<<<<<< HEAD
   "id": "623e615f",
=======
   "id": "ad994f05",
>>>>>>> documentation-devel
=======
   "id": "bedcd16b",
>>>>>>> documentation-devel
=======
   "id": "0e38898c",
>>>>>>> c9ed93f2a6d5e87fe6759d6fd26c06823f77f3f2
   "metadata": {},
   "outputs": [],
   "source": [
    "if (!file.exists(\"tissue_lowres_5a.jpeg\")) {\n",
    "    download.file(\"https://raw.githubusercontent.com/pachterlab/voyager/main/vignettes/tissue_lowres_5a.jpeg\",\n",
    "                  destfile = \"tissue_lowres_5a.jpeg\")\n",
    "}"
   ]
  },
  {
   "cell_type": "code",
   "execution_count": null,
<<<<<<< HEAD
<<<<<<< HEAD
<<<<<<< HEAD
   "id": "884d296f",
=======
   "id": "cbea00f5",
>>>>>>> documentation-devel
=======
   "id": "8c3931a2",
>>>>>>> documentation-devel
=======
   "id": "a11c6cef",
>>>>>>> c9ed93f2a6d5e87fe6759d6fd26c06823f77f3f2
   "metadata": {},
   "outputs": [],
   "source": [
    "sfe <- addImg(sfe, imageSource = \"tissue_lowres_5a.jpeg\", sample_id = \"Vis5A\", \n",
    "              image_id = \"lowres\", scale_fct = 1024/22208)"
   ]
  },
  {
   "cell_type": "code",
   "execution_count": null,
<<<<<<< HEAD
<<<<<<< HEAD
<<<<<<< HEAD
   "id": "61496622",
=======
   "id": "a0ee0ae3",
>>>>>>> documentation-devel
=======
   "id": "37004ac7",
>>>>>>> documentation-devel
=======
   "id": "acead57e",
>>>>>>> c9ed93f2a6d5e87fe6759d6fd26c06823f77f3f2
   "metadata": {},
   "outputs": [],
   "source": [
    "sfe_tissue <- sfe[,colData(sfe)$in_tissue]\n",
    "sfe_tissue <- sfe_tissue[rowSums(counts(sfe_tissue)) > 0,]"
   ]
  },
  {
   "cell_type": "code",
   "execution_count": null,
<<<<<<< HEAD
<<<<<<< HEAD
<<<<<<< HEAD
   "id": "2ecbd99b",
=======
   "id": "a40f7644",
>>>>>>> documentation-devel
=======
   "id": "0f93fbaa",
>>>>>>> documentation-devel
=======
   "id": "121f3151",
>>>>>>> c9ed93f2a6d5e87fe6759d6fd26c06823f77f3f2
   "metadata": {},
   "outputs": [],
   "source": [
    "sfe_tissue <- logNormCounts(sfe_tissue)"
   ]
  },
  {
   "cell_type": "code",
   "execution_count": null,
<<<<<<< HEAD
<<<<<<< HEAD
<<<<<<< HEAD
   "id": "46543df2",
=======
   "id": "85e6c211",
>>>>>>> documentation-devel
=======
   "id": "7712027f",
>>>>>>> documentation-devel
=======
   "id": "4a754c35",
>>>>>>> c9ed93f2a6d5e87fe6759d6fd26c06823f77f3f2
   "metadata": {},
   "outputs": [],
   "source": [
    "colGraph(sfe_tissue, \"visium\") <- findVisiumGraph(sfe_tissue)"
   ]
  },
  {
   "cell_type": "markdown",
<<<<<<< HEAD
<<<<<<< HEAD
<<<<<<< HEAD
   "id": "3680bcee",
=======
   "id": "e85772c9",
>>>>>>> documentation-devel
=======
   "id": "e99385d6",
>>>>>>> documentation-devel
=======
   "id": "49570b3f",
>>>>>>> c9ed93f2a6d5e87fe6759d6fd26c06823f77f3f2
   "metadata": {
    "lines_to_next_cell": 0
   },
   "source": [
    "# Lee's L\n",
    "\n",
    "Lee's L [@Lee2001-tm] was developed from relating Moran's I to Pearson correlation, and is defined as\n",
    "\n",
    "$$\n",
    "L_{X,Y} = \\frac{n}{\\sum_{i=1}^n \\sum_{j=1}^n w_{ij}} \\frac{\\sum_{i=1}^n \\left[ \\sum_{j=1}^n w_{ij}  (x_j - \\bar{x}) \\right] \\left[ \\sum_{j=1}^n w_{ij} (y_j - \\bar{y}) \\right]}{\\sqrt{\\sum_{i=1}^n (x_i - \\bar{x})^2}\\sqrt{\\sum_{i=1}^n (y_i - \\bar{y})^2} },\n",
    "$$\n",
    "\n",
    "where $n$ is the number of spots or locations, $i$ and $j$ are different locations, or spots in the Visium context, $x$ and $y$ are variables with values at each location, and $w_{ij}$ is a spatial weight, which can be inversely proportional to distance between spots or an indicator of whether two spots are neighbors, subject to various definitions of neighborhood. \n",
    "\n",
    "Here we compute Lee's L for top highly variagle genes (HVGs) in this dataset:"
   ]
  },
  {
   "cell_type": "code",
   "execution_count": null,
<<<<<<< HEAD
<<<<<<< HEAD
<<<<<<< HEAD
   "id": "a32fb4e8",
=======
   "id": "ee7a30c0",
>>>>>>> documentation-devel
=======
   "id": "f74ce6f3",
>>>>>>> documentation-devel
=======
   "id": "be875627",
>>>>>>> c9ed93f2a6d5e87fe6759d6fd26c06823f77f3f2
   "metadata": {},
   "outputs": [],
   "source": [
    "hvgs <- getTopHVGs(sfe_tissue, fdr.threshold = 0.01)"
   ]
  },
  {
   "cell_type": "markdown",
<<<<<<< HEAD
<<<<<<< HEAD
<<<<<<< HEAD
   "id": "6fa05671",
=======
   "id": "780d98c5",
>>>>>>> documentation-devel
=======
   "id": "1da1f696",
>>>>>>> documentation-devel
=======
   "id": "3ed70753",
>>>>>>> c9ed93f2a6d5e87fe6759d6fd26c06823f77f3f2
   "metadata": {},
   "source": [
    "Because bivariate global results can have very different formats (matrix for Lee's L and lists for many other methods), the results are not stored in the SFE object."
   ]
  },
  {
   "cell_type": "code",
   "execution_count": null,
<<<<<<< HEAD
<<<<<<< HEAD
<<<<<<< HEAD
   "id": "6c98a4eb",
=======
   "id": "dbc24ffc",
>>>>>>> documentation-devel
=======
   "id": "47d47236",
>>>>>>> documentation-devel
=======
   "id": "4f459ce8",
>>>>>>> c9ed93f2a6d5e87fe6759d6fd26c06823f77f3f2
   "metadata": {},
   "outputs": [],
   "source": [
    "res <- calculateBivariate(sfe_tissue, type = \"lee\", feature1 = hvgs)"
   ]
  },
  {
   "cell_type": "markdown",
<<<<<<< HEAD
<<<<<<< HEAD
<<<<<<< HEAD
   "id": "47d625c8",
=======
   "id": "f5b32e82",
>>>>>>> documentation-devel
=======
   "id": "a5d35f1c",
>>>>>>> documentation-devel
=======
   "id": "4d5f98e3",
>>>>>>> c9ed93f2a6d5e87fe6759d6fd26c06823f77f3f2
   "metadata": {
    "lines_to_next_cell": 0
   },
   "source": [
    "This gives a spatially informed correlation matrix among the genes, which can be plotted as a heatmap:"
   ]
  },
  {
   "cell_type": "code",
   "execution_count": null,
<<<<<<< HEAD
<<<<<<< HEAD
<<<<<<< HEAD
   "id": "4fe35c8a",
=======
   "id": "33a6b274",
>>>>>>> documentation-devel
=======
   "id": "7b17435c",
>>>>>>> documentation-devel
=======
   "id": "13ab7295",
>>>>>>> c9ed93f2a6d5e87fe6759d6fd26c06823f77f3f2
   "metadata": {},
   "outputs": [],
   "source": [
    "pal_rng <- getDivergeRange(res)\n",
    "pal <- scico(256, begin = pal_rng[1], end = pal_rng[2], palette = \"vik\")"
   ]
  },
  {
   "cell_type": "code",
   "execution_count": null,
<<<<<<< HEAD
<<<<<<< HEAD
<<<<<<< HEAD
   "id": "e99666f4",
=======
   "id": "e430f757",
>>>>>>> documentation-devel
=======
   "id": "ad7ed637",
>>>>>>> documentation-devel
=======
   "id": "b9165256",
>>>>>>> c9ed93f2a6d5e87fe6759d6fd26c06823f77f3f2
   "metadata": {
    "fig.height": 6,
    "fig.width": 6
   },
   "outputs": [],
   "source": [
    "pheatmap(res, color = pal, show_rownames = FALSE, \n",
    "         show_colnames = FALSE, cellwidth = 1, cellheight = 1)"
   ]
  },
  {
   "cell_type": "markdown",
<<<<<<< HEAD
<<<<<<< HEAD
<<<<<<< HEAD
   "id": "cfd7819d",
=======
   "id": "625d96e9",
>>>>>>> documentation-devel
=======
   "id": "7b0581ff",
>>>>>>> documentation-devel
=======
   "id": "5ede7999",
>>>>>>> c9ed93f2a6d5e87fe6759d6fd26c06823f77f3f2
   "metadata": {
    "lines_to_next_cell": 0
   },
   "source": [
    "Some coexpression blocks can be seen. Note that unlike in Pearson correlation, the diagonal is not 1, because\n",
    "\n",
    "$$\n",
    "L_{X,X} = \\frac{\\sum_i (\\tilde x_i - \\bar x)^2}{\\sum_i (x_i - \\bar x)^2} = \\mathrm{SSS}_X,\n",
    "$$\n",
    "\n",
    "which is approximated the ratio between the variance of spatially lagged $x$ and variance of $x$. Because the spatial lag introduces smoothing, the spatial lag reduced variance, making the diagonal less than 1. This is the spatial smoothing scalar (SSS), and Moran's I is approximately Pearson correlation between $X$ and spatially lagged $X$ ($\\tilde X$) multiplied by SSS:\n",
    "\n",
    "$$\n",
    "I \\approx \\mathrm{SSS}_X \\cdot \\rho_{X, \\tilde X}\n",
    "$$\n",
    "\n",
    "Similarly for Lee's L, as shown in [@Lee2001-tm],\n",
    "\n",
    "$$\n",
    "L_{X, Y} = \\sqrt{\\mathrm{SSS}_X}\\sqrt{\\mathrm{SSS}_Y} \\cdot \\rho_{\\tilde X, \\tilde Y}\n",
    "$$\n",
    "\n",
    "With more spatial clustering, the variance is less reduced by the spatial lag, leading to a larger SSS. Hence when both $X$ and $Y$ are spatially distributed like salt and pepper while strongly correlated, Lee's L will be low because the lack of spatial autocorrelation leads to a small SSS. \n",
    "\n",
    "Weighted correlation network analysis (WGCNA) [@Langfelder2008-fs] is a time honored method to find gene co-expression modules, and it can take any correlation matrix. Then it would be interesting to apply WGCNA to the Lee's L matrix to identify spatially informed gene co-expression modules.\n",
    "\n",
    "# Local Lee\n",
    "\n",
    "Local Lee's L [@Lee2001-tm] is defined as\n",
    "\n",
    "$$\n",
    "L_i = \\frac{n\\left[ \\sum_{j=1}^n w_{ij}  (x_j - \\bar{x}) \\right] \\left[ \\sum_{j=1}^n w_{ij} (y_j - \\bar{y}) \\right]}{\\sqrt{\\sum_{i=1}^n (x_i - \\bar{x})^2}\\sqrt{\\sum_{i=1}^n (y_i - \\bar{y})^2} }\n",
    "$$\n",
    "\n",
    "Compare this to the global L in the previous section. Local L does not sum over the locations $i$. This is the contribution of each location to global L and can show spatial heterogeneity in the relationship between two variables. \n",
    "\n",
    "All bivariate local methods in `Voyager` is listed here:"
   ]
  },
  {
   "cell_type": "code",
   "execution_count": null,
<<<<<<< HEAD
<<<<<<< HEAD
<<<<<<< HEAD
   "id": "3f0f6a8c",
=======
   "id": "2713a3ca",
>>>>>>> documentation-devel
=======
   "id": "d38c5a9d",
>>>>>>> documentation-devel
=======
   "id": "e93fd347",
>>>>>>> c9ed93f2a6d5e87fe6759d6fd26c06823f77f3f2
   "metadata": {},
   "outputs": [],
   "source": [
    "listSFEMethods(\"bi\", \"local\")"
   ]
  },
  {
   "cell_type": "markdown",
<<<<<<< HEAD
<<<<<<< HEAD
<<<<<<< HEAD
   "id": "77eaca21",
=======
   "id": "7ae83d68",
>>>>>>> documentation-devel
=======
   "id": "0c6d2cc4",
>>>>>>> documentation-devel
=======
   "id": "0ae250fb",
>>>>>>> c9ed93f2a6d5e87fe6759d6fd26c06823f77f3f2
   "metadata": {},
   "source": [
    "Here we compute local L for two myofiber marker genes and one gene highly expressed in the injury site:"
   ]
  },
  {
   "cell_type": "code",
   "execution_count": null,
<<<<<<< HEAD
<<<<<<< HEAD
<<<<<<< HEAD
   "id": "08098bdf",
=======
   "id": "e1c208ef",
>>>>>>> documentation-devel
=======
   "id": "29ba6c15",
>>>>>>> documentation-devel
=======
   "id": "ccb06671",
>>>>>>> c9ed93f2a6d5e87fe6759d6fd26c06823f77f3f2
   "metadata": {},
   "outputs": [],
   "source": [
    "sfe_tissue <- runBivariate(sfe_tissue, \"locallee\", swap_rownames = \"symbol\",\n",
    "                           feature1 = c(\"Myh2\", \"Myh1\", \"Ftl1\"))"
   ]
  },
  {
   "cell_type": "markdown",
<<<<<<< HEAD
<<<<<<< HEAD
<<<<<<< HEAD
   "id": "eb824a00",
=======
   "id": "5c07f7a5",
>>>>>>> documentation-devel
=======
   "id": "8567eaab",
>>>>>>> documentation-devel
=======
   "id": "de93c125",
>>>>>>> c9ed93f2a6d5e87fe6759d6fd26c06823f77f3f2
   "metadata": {},
   "source": [
    "Bivariate local results are stored in the `localResults` field and the feature names are the pairwise combinations of features supplied. When only `feature1` is specified, then the bivariate method is applied to all pairwise combinations of `feature1`. "
   ]
  },
  {
   "cell_type": "code",
   "execution_count": null,
<<<<<<< HEAD
<<<<<<< HEAD
<<<<<<< HEAD
   "id": "f33e6124",
=======
   "id": "5d09c269",
>>>>>>> documentation-devel
=======
   "id": "ed7fa6a3",
>>>>>>> documentation-devel
=======
   "id": "3c13f43d",
>>>>>>> c9ed93f2a6d5e87fe6759d6fd26c06823f77f3f2
   "metadata": {},
   "outputs": [],
   "source": [
    "localResultFeatures(sfe_tissue, \"locallee\")"
   ]
  },
  {
   "cell_type": "markdown",
<<<<<<< HEAD
<<<<<<< HEAD
<<<<<<< HEAD
   "id": "dc4b4013",
=======
   "id": "600e3024",
>>>>>>> documentation-devel
=======
   "id": "0a18fe82",
>>>>>>> documentation-devel
=======
   "id": "87081d4b",
>>>>>>> c9ed93f2a6d5e87fe6759d6fd26c06823f77f3f2
   "metadata": {
    "lines_to_next_cell": 0
   },
   "source": [
    "For Lee's L, both $L_{X,Y}$ and $L_{Y,X}$ are computed although they are the same. However, not all bivariate methods are symmetric (see next section). In the next release (Bioconductor 3.18), we may introduce another argument to indicate whether the method is symmetric and if so only compute $L_{X,Y}$ and not $L_{Y,X}$.\n",
    "\n",
    "First plot the three genes individually:"
   ]
  },
  {
   "cell_type": "code",
   "execution_count": null,
<<<<<<< HEAD
<<<<<<< HEAD
<<<<<<< HEAD
   "id": "750598b5",
=======
   "id": "5021a241",
>>>>>>> documentation-devel
=======
   "id": "13f823d5",
>>>>>>> documentation-devel
=======
   "id": "b536756b",
>>>>>>> c9ed93f2a6d5e87fe6759d6fd26c06823f77f3f2
   "metadata": {
    "fig.height": 4,
    "fig.width": 10
   },
   "outputs": [],
   "source": [
    "plotSpatialFeature(sfe_tissue, c(\"Myh2\", \"Myh1\", \"Ftl1\"), \n",
    "                   swap_rownames = \"symbol\", image_id = \"lowres\", maxcell = 5e4)"
   ]
  },
  {
   "cell_type": "markdown",
<<<<<<< HEAD
<<<<<<< HEAD
<<<<<<< HEAD
   "id": "b97109ba",
=======
   "id": "c81a5fcf",
>>>>>>> documentation-devel
=======
   "id": "6a8cb1a8",
>>>>>>> documentation-devel
=======
   "id": "9604d854",
>>>>>>> c9ed93f2a6d5e87fe6759d6fd26c06823f77f3f2
   "metadata": {
    "lines_to_next_cell": 0
   },
   "source": [
    "Then plot the local L's:"
   ]
  },
  {
   "cell_type": "code",
   "execution_count": null,
<<<<<<< HEAD
<<<<<<< HEAD
<<<<<<< HEAD
   "id": "c7dcebcc",
=======
   "id": "997117a6",
>>>>>>> documentation-devel
=======
   "id": "a39c8221",
>>>>>>> documentation-devel
=======
   "id": "1f9f7bc8",
>>>>>>> c9ed93f2a6d5e87fe6759d6fd26c06823f77f3f2
   "metadata": {
    "fig.height": 4,
    "fig.width": 10
   },
   "outputs": [],
   "source": [
    "plotLocalResult(sfe_tissue, \"locallee\", c(\"Myh1__Myh2\", \"Myh2__Ftl1\", \"Myh1__Ftl1\"),\n",
    "                colGeometryName = \"spotPoly\",\n",
    "                image_id = \"lowres\", maxcell = 5e4,\n",
    "                divergent = TRUE, diverge_center = 0)"
   ]
  },
  {
   "cell_type": "markdown",
<<<<<<< HEAD
<<<<<<< HEAD
<<<<<<< HEAD
   "id": "3ac8690a",
=======
   "id": "bcc01ffc",
>>>>>>> documentation-devel
=======
   "id": "8191aa91",
>>>>>>> documentation-devel
=======
   "id": "231467cd",
>>>>>>> c9ed93f2a6d5e87fe6759d6fd26c06823f77f3f2
   "metadata": {
    "lines_to_next_cell": 0
   },
   "source": [
    "Here we see regions where Myh1 and Myh2 are more co-expressed, and where the myosins and Ftl1 are negatively correlated. \n",
    "\n",
    "$L_{X,X}$ is also computed, so we can plot the local SSS for the three genes:"
   ]
  },
  {
   "cell_type": "code",
   "execution_count": null,
<<<<<<< HEAD
<<<<<<< HEAD
<<<<<<< HEAD
   "id": "a1a74b86",
=======
   "id": "b660a344",
>>>>>>> documentation-devel
=======
   "id": "8cb75f86",
>>>>>>> documentation-devel
=======
   "id": "ed8c29c6",
>>>>>>> c9ed93f2a6d5e87fe6759d6fd26c06823f77f3f2
   "metadata": {
    "fig.height": 4,
    "fig.width": 10
   },
   "outputs": [],
   "source": [
    "plotLocalResult(sfe_tissue, \"locallee\", c(\"Myh1__Myh1\", \"Myh2__Myh2\", \"Ftl1__Ftl1\"),\n",
    "                colGeometryName = \"spotPoly\",\n",
    "                image_id = \"lowres\", maxcell = 5e4)"
   ]
  },
  {
   "cell_type": "markdown",
<<<<<<< HEAD
<<<<<<< HEAD
<<<<<<< HEAD
   "id": "32e0d8d9",
=======
   "id": "1f1f128b",
>>>>>>> documentation-devel
=======
   "id": "8e019242",
>>>>>>> documentation-devel
=======
   "id": "90f8da3b",
>>>>>>> c9ed93f2a6d5e87fe6759d6fd26c06823f77f3f2
   "metadata": {
    "lines_to_next_cell": 0
   },
   "source": [
    "See how the local SSS compares to local Moran's I:"
   ]
  },
  {
   "cell_type": "code",
   "execution_count": null,
<<<<<<< HEAD
<<<<<<< HEAD
<<<<<<< HEAD
   "id": "dcd6c2ae",
=======
   "id": "e5979284",
>>>>>>> documentation-devel
=======
   "id": "2eec5578",
>>>>>>> documentation-devel
=======
   "id": "78c043ad",
>>>>>>> c9ed93f2a6d5e87fe6759d6fd26c06823f77f3f2
   "metadata": {},
   "outputs": [],
   "source": [
    "sfe_tissue <- runUnivariate(sfe_tissue, \"localmoran\", c(\"Myh2\", \"Myh1\", \"Ftl1\"),\n",
    "                            swap_rownames = \"symbol\")"
   ]
  },
  {
   "cell_type": "code",
   "execution_count": null,
<<<<<<< HEAD
<<<<<<< HEAD
<<<<<<< HEAD
   "id": "9cdbeb77",
=======
   "id": "206ea973",
>>>>>>> documentation-devel
=======
   "id": "d36b000b",
>>>>>>> documentation-devel
=======
   "id": "7409afef",
>>>>>>> c9ed93f2a6d5e87fe6759d6fd26c06823f77f3f2
   "metadata": {
    "fig.height": 4,
    "fig.width": 10
   },
   "outputs": [],
   "source": [
    "plotLocalResult(sfe_tissue, \"localmoran\", c(\"Myh1\", \"Myh2\", \"Ftl1\"),\n",
    "                colGeometryName = \"spotPoly\", swap_rownames = \"symbol\",\n",
    "                image_id = \"lowres\", maxcell = 5e4,\n",
    "                divergent = TRUE, diverge_center = 0)"
   ]
  },
  {
   "cell_type": "markdown",
<<<<<<< HEAD
<<<<<<< HEAD
<<<<<<< HEAD
   "id": "1580b1b2",
=======
   "id": "e92f642c",
>>>>>>> documentation-devel
=======
   "id": "c8291810",
>>>>>>> documentation-devel
=======
   "id": "361fb975",
>>>>>>> c9ed93f2a6d5e87fe6759d6fd26c06823f77f3f2
   "metadata": {},
   "source": [
    "The patterns are qualitatively the same, but while local Moran's I is negative in heterogeneous regions, the SSS can't be negative.\n",
    "\n",
    "# Bivariate local Moran\n",
    "\n",
    "The `spdep` package implements a bivariate version of local Moran, which basically is \n",
    "\n",
    "$$\n",
    "I_{X_i,Y_i} = (n-1)\\frac{(x_i - \\bar{x})\\sum_{j=1}^n w_{ij} (y_j - \\bar{y})}{\\sqrt{\\sum_{i=1}^n (x_i - \\bar{x})^2} \\sqrt{\\sum_{i=1}^n (y_i - \\bar{y})^2}}.\n",
    "$$\n",
    "\n",
    "Note that this is not symmetric, i.e. $I_{X_i,Y_i} \\neq I_{Y_i,X_i}$."
   ]
  },
  {
   "cell_type": "code",
   "execution_count": null,
<<<<<<< HEAD
<<<<<<< HEAD
<<<<<<< HEAD
   "id": "4e41ad54",
=======
   "id": "e2bcac2b",
>>>>>>> documentation-devel
=======
   "id": "7027c6a0",
>>>>>>> documentation-devel
=======
   "id": "39796495",
>>>>>>> c9ed93f2a6d5e87fe6759d6fd26c06823f77f3f2
   "metadata": {},
   "outputs": [],
   "source": [
    "sfe_tissue <- runBivariate(sfe_tissue, \"localmoran_bv\", c(\"Myh1\", \"Myh2\", \"Ftl1\"),\n",
    "                           swap_rownames = \"symbol\", nsim = 1000)"
   ]
  },
  {
   "cell_type": "code",
   "execution_count": null,
<<<<<<< HEAD
<<<<<<< HEAD
<<<<<<< HEAD
   "id": "38a26a3f",
=======
   "id": "4ea0c6f9",
>>>>>>> documentation-devel
=======
   "id": "4a1bb261",
>>>>>>> documentation-devel
=======
   "id": "4435aed8",
>>>>>>> c9ed93f2a6d5e87fe6759d6fd26c06823f77f3f2
   "metadata": {},
   "outputs": [],
   "source": [
    "localResultFeatures(sfe_tissue, \"localmoran_bv\")"
   ]
  },
  {
   "cell_type": "markdown",
<<<<<<< HEAD
<<<<<<< HEAD
<<<<<<< HEAD
   "id": "0dd47305",
=======
   "id": "cc678f14",
>>>>>>> documentation-devel
=======
   "id": "f5051984",
>>>>>>> documentation-devel
=======
   "id": "60b8fe63",
>>>>>>> c9ed93f2a6d5e87fe6759d6fd26c06823f77f3f2
   "metadata": {
    "lines_to_next_cell": 0
   },
   "source": [
    "Permutation testing is performed so we get a pseudo p-value"
   ]
  },
  {
   "cell_type": "code",
   "execution_count": null,
<<<<<<< HEAD
<<<<<<< HEAD
<<<<<<< HEAD
   "id": "50de93d9",
=======
   "id": "71169737",
>>>>>>> documentation-devel
=======
   "id": "97493f03",
>>>>>>> documentation-devel
=======
   "id": "bc562c84",
>>>>>>> c9ed93f2a6d5e87fe6759d6fd26c06823f77f3f2
   "metadata": {},
   "outputs": [],
   "source": [
    "localResultAttrs(sfe_tissue, \"localmoran_bv\", \"Myh1__Myh2\")"
   ]
  },
  {
   "cell_type": "markdown",
<<<<<<< HEAD
<<<<<<< HEAD
<<<<<<< HEAD
   "id": "92d7aff7",
=======
   "id": "0397748d",
>>>>>>> documentation-devel
=======
   "id": "b985848c",
>>>>>>> documentation-devel
=======
   "id": "9b94c0ac",
>>>>>>> c9ed93f2a6d5e87fe6759d6fd26c06823f77f3f2
   "metadata": {
    "lines_to_next_cell": 0
   },
   "source": [
    "First plot the bivariate local Moran's I values"
   ]
  },
  {
   "cell_type": "code",
   "execution_count": null,
<<<<<<< HEAD
<<<<<<< HEAD
<<<<<<< HEAD
   "id": "47519987",
=======
   "id": "23607499",
>>>>>>> documentation-devel
=======
   "id": "3627d180",
>>>>>>> documentation-devel
=======
   "id": "67cd43ea",
>>>>>>> c9ed93f2a6d5e87fe6759d6fd26c06823f77f3f2
   "metadata": {
    "fig.height": 7.5,
    "fig.width": 10
   },
   "outputs": [],
   "source": [
    "plotLocalResult(sfe_tissue, \"localmoran_bv\", c(\"Myh1__Myh2\", \"Myh2__Ftl1\", \"Myh1__Ftl1\",\n",
    "                                               \"Myh2__Myh1\", \"Ftl1__Myh2\", \"Ftl1__Myh1\"),\n",
    "                colGeometryName = \"spotPoly\", attribute = \"Ibvi\",\n",
    "                image_id = \"lowres\", maxcell = 5e4,\n",
    "                divergent = TRUE, diverge_center = 0)"
   ]
  },
  {
   "cell_type": "markdown",
<<<<<<< HEAD
<<<<<<< HEAD
<<<<<<< HEAD
   "id": "b4bc1d20",
=======
   "id": "dd38ad21",
>>>>>>> documentation-devel
=======
   "id": "ed1ee111",
>>>>>>> documentation-devel
=======
   "id": "3ca04bca",
>>>>>>> c9ed93f2a6d5e87fe6759d6fd26c06823f77f3f2
   "metadata": {},
   "source": [
    "The first row plots XY while the second row plots YX; note that while they are similar, they are not the same. What does bivariate local Moran mean? It's kind of like contribution of each location to the correlation between $x$ and spatially lagged $y$, so $x$ is not smoothed. In contrast, Lee's L is a scaled Pearson correlation between spatially lagged $x$ and spatially lagged $y$. Because permutation testing is performed, we can plot the pseudo-p-value, after correcting for multiple testing based on the spatial neighborhood graph:"
   ]
  },
  {
   "cell_type": "code",
   "execution_count": null,
<<<<<<< HEAD
<<<<<<< HEAD
<<<<<<< HEAD
   "id": "45e47c60",
=======
   "id": "1b73ae68",
>>>>>>> documentation-devel
=======
   "id": "ad508718",
>>>>>>> documentation-devel
=======
   "id": "e284634a",
>>>>>>> c9ed93f2a6d5e87fe6759d6fd26c06823f77f3f2
   "metadata": {
    "fig.height": 7.5,
    "fig.width": 10
   },
   "outputs": [],
   "source": [
    "plotLocalResult(sfe_tissue, \"localmoran_bv\", c(\"Myh1__Myh2\", \"Myh2__Ftl1\", \"Myh1__Ftl1\",\n",
    "                                               \"Myh2__Myh1\", \"Ftl1__Myh2\", \"Ftl1__Myh1\"),\n",
    "                colGeometryName = \"spotPoly\", attribute = \"-log10p_adj Sim\",\n",
    "                image_id = \"lowres\", maxcell = 5e4,\n",
    "                divergent = TRUE, diverge_center = -log10(0.05))"
   ]
  },
  {
   "cell_type": "markdown",
<<<<<<< HEAD
<<<<<<< HEAD
<<<<<<< HEAD
   "id": "bcbe3019",
=======
   "id": "c59399a9",
>>>>>>> documentation-devel
=======
   "id": "d82d38e3",
>>>>>>> documentation-devel
=======
   "id": "fb8bd8c2",
>>>>>>> c9ed93f2a6d5e87fe6759d6fd26c06823f77f3f2
   "metadata": {
    "lines_to_next_cell": 0
   },
   "source": [
    "Note that the p-values are asymetric, because according to the source code of `localmoran_bv()`, $y$ is permuted, but not $x$. It's also related to Wartenberg's spatial PCA [@Wartenberg1985-fk], where Moran's I is expressed in matrix form:\n",
    "\n",
    "$$\n",
    "\\mathbf{I} = \\frac{\\mathbf{Z}^T\\mathbf{WZ}}{\\mathbf 1^T \\mathbf{W1}},\n",
    "$$\n",
    "\n",
    "where $\\mathbf Z$ is the data matrix with scaled and centered variables in columns, $\\mathbf W$ is the spatial weights matrix, and $\\mathbf 1$ is a vector of all 1's, so the denominator is in effect $\\sum_{i=1}^n \\sum_{j=1}^n w_{ij}$. The diagonal entries are Moran's I's for the variables, and the off diagonal entries are the global versions of what we computed here that sum the bivariate local Moran's I's and divide by the sum of all spatial weights. Because $\\mathbf W$ doesn't have to be symmetric, this matrix may not be symmetric. Wartenberg diagonalized this matrix in place of the covariance matrix for spatial PCA. When using scaled and centered data and row normalized spatial weights matrix, MULTISPATI PCA is equivalent to Wartenberg's approach [@Dray2008-en]. Lee considered this asymmetry an inadequacy of Wartenberg's approach as a bivariate association measure [@Lee2001-tm]. While I'm not sure how bivariate local Moran's I helps with data analysis, it is an interesting piece of history. \n",
    "\n",
    "# Session info"
   ]
  },
  {
   "cell_type": "code",
   "execution_count": null,
<<<<<<< HEAD
<<<<<<< HEAD
<<<<<<< HEAD
   "id": "7115c25d",
=======
   "id": "3369b31b",
>>>>>>> documentation-devel
=======
   "id": "c974570e",
>>>>>>> documentation-devel
=======
   "id": "899a7433",
>>>>>>> c9ed93f2a6d5e87fe6759d6fd26c06823f77f3f2
   "metadata": {},
   "outputs": [],
   "source": [
    "sessionInfo()"
   ]
  },
  {
   "cell_type": "markdown",
<<<<<<< HEAD
<<<<<<< HEAD
<<<<<<< HEAD
   "id": "13ba5697",
=======
   "id": "33dcd81f",
>>>>>>> documentation-devel
=======
   "id": "6a65e330",
>>>>>>> documentation-devel
=======
   "id": "e3ff5bfe",
>>>>>>> c9ed93f2a6d5e87fe6759d6fd26c06823f77f3f2
   "metadata": {},
   "source": [
    "# References"
   ]
  }
 ],
 "metadata": {
  "kernelspec": {
   "display_name": "R",
   "language": "R",
   "name": "ir"
  }
 },
 "nbformat": 4,
 "nbformat_minor": 5
}
