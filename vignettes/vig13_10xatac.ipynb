{
 "cells": [
  {
   "cell_type": "raw",
<<<<<<< HEAD
<<<<<<< HEAD
<<<<<<< HEAD
<<<<<<< HEAD
   "id": "a8968560",
=======
   "id": "f8c4a2bf",
>>>>>>> documentation-devel
=======
   "id": "719aa130",
>>>>>>> documentation-devel
=======
   "id": "f075d06f",
>>>>>>> c9ed93f2a6d5e87fe6759d6fd26c06823f77f3f2
=======
   "id": "90c4bc44",
>>>>>>> documentation-devel
   "metadata": {},
   "source": [
    "---\n",
    "title: \"10X ATAC-seq basic quality control \"\n",
    "author: \"Kayla Jackson and A. Sina Booeshaghi\"\n",
    "date: \"`r Sys.Date()`\"\n",
    "output: \n",
    "  html_document:\n",
    "  toc: true\n",
    "  toc_float:\n",
    "    collapsed: false\n",
    "  toc_depth: 3\n",
    "bibliography: ref.bib\n",
    "vignette: >\n",
    "  %\\VignetteIndexEntry{10xatac_qc}\n",
    "  %\\VignetteEngine{knitr::rmarkdown}\n",
    "  %\\VignetteEncoding{UTF-8}\n",
    "---"
   ]
  },
  {
   "cell_type": "code",
   "execution_count": null,
<<<<<<< HEAD
<<<<<<< HEAD
<<<<<<< HEAD
<<<<<<< HEAD
   "id": "07d4310e",
=======
   "id": "e13e628e",
>>>>>>> documentation-devel
=======
   "id": "41acac28",
>>>>>>> documentation-devel
=======
   "id": "44564afe",
>>>>>>> c9ed93f2a6d5e87fe6759d6fd26c06823f77f3f2
=======
   "id": "b1afa5d2",
>>>>>>> documentation-devel
   "metadata": {
    "tags": [
     "remove_cell"
    ]
   },
   "outputs": [],
   "source": [
    "knitr::opts_chunk$set(\n",
    "  collapse = TRUE,\n",
    "  comment = \"#>\", fig.align = \"center\"\n",
    ")"
   ]
  },
  {
   "cell_type": "code",
   "execution_count": null,
<<<<<<< HEAD
<<<<<<< HEAD
<<<<<<< HEAD
<<<<<<< HEAD
   "id": "4866bc4e",
=======
   "id": "da4b7681",
>>>>>>> documentation-devel
=======
   "id": "39238a05",
>>>>>>> documentation-devel
=======
   "id": "5fa3ecea",
>>>>>>> c9ed93f2a6d5e87fe6759d6fd26c06823f77f3f2
=======
   "id": "43a3e29c",
>>>>>>> documentation-devel
   "metadata": {
    "eval": false,
    "tags": [
     "remove_cell"
    ]
   },
   "outputs": [],
   "source": [
    "# Install Google Colab dependencies\n",
    "# Note: this can take 30+ minutes (many of the dependencies include C++ code, which needs to be compiled)\n",
    "\n",
    "# First install `sf`, `ragg` and `textshaping` and their system dependencies:\n",
    "system(\"apt-get -y update && apt-get install -y  libudunits2-dev libgdal-dev libgeos-dev libproj-dev libharfbuzz-dev libfribidi-dev\")\n",
    "install.packages(\"sf\")\n",
    "install.packages(\"textshaping\")\n",
    "install.packages(\"ragg\")\n",
    "\n",
    "# Install system dependencies of some other R packages that Voyager either imports or suggests:\n",
    "system(\"apt-get install -y libfribidi-dev libcairo2-dev libmagick++-dev\")\n",
    "\n",
    "# Install Voyager from Bioconductor:\n",
    "install.packages(\"BiocManager\")\n",
    "BiocManager::install(version = \"release\", ask = FALSE, update = FALSE, Ncpus = 2)\n",
    "BiocManager::install(\"scater\")\n",
    "system.time(\n",
    "  BiocManager::install(\"Voyager\", dependencies = TRUE, Ncpus = 2, update = FALSE)\n",
    ")\n",
    "\n",
    "\n",
    "packageVersion(\"Voyager\")"
   ]
  },
  {
   "cell_type": "markdown",
<<<<<<< HEAD
<<<<<<< HEAD
<<<<<<< HEAD
<<<<<<< HEAD
   "id": "b012afae",
=======
   "id": "ce9f90ae",
>>>>>>> documentation-devel
=======
   "id": "9f458a41",
>>>>>>> documentation-devel
=======
   "id": "43c2a952",
>>>>>>> c9ed93f2a6d5e87fe6759d6fd26c06823f77f3f2
=======
   "id": "0eaeeb8f",
>>>>>>> documentation-devel
   "metadata": {},
   "source": [
    "# Introduction\n",
    "The data in this vignette is shipped with the `cellatlas` repository. The count matrix and metadata are provided in the `cellatlas/examples` folder as an [`AnnData`](https://anndata-tutorials.readthedocs.io/en/latest/getting-started.html) object. We will begin by loading the object and converting it to a `SingleCellExperiment` object. \n"
   ]
  },
  {
   "cell_type": "code",
   "execution_count": null,
<<<<<<< HEAD
<<<<<<< HEAD
<<<<<<< HEAD
<<<<<<< HEAD
   "id": "26cfd17a",
=======
   "id": "5ba81b88",
>>>>>>> documentation-devel
=======
   "id": "1c8d2412",
>>>>>>> documentation-devel
=======
   "id": "c97aeeae",
>>>>>>> c9ed93f2a6d5e87fe6759d6fd26c06823f77f3f2
=======
   "id": "f639924d",
>>>>>>> documentation-devel
   "metadata": {
    "message": false
   },
   "outputs": [],
   "source": [
    "library(stringr)\n",
    "library(DropletUtils)\n",
    "library(Matrix)\n",
    "library(SpatialExperiment)\n",
    "library(SpatialFeatureExperiment)\n",
    "library(scater)\n",
    "library(scuttle)\n",
    "library(Voyager)\n",
    "library(ggplot2)\n",
    "theme_set(theme_bw())"
   ]
  },
  {
   "cell_type": "code",
   "execution_count": null,
<<<<<<< HEAD
<<<<<<< HEAD
<<<<<<< HEAD
<<<<<<< HEAD
   "id": "bd1fd3cf",
=======
   "id": "8d7fc9c3",
>>>>>>> documentation-devel
=======
   "id": "e107d76e",
>>>>>>> documentation-devel
=======
   "id": "fa36de1a",
>>>>>>> c9ed93f2a6d5e87fe6759d6fd26c06823f77f3f2
=======
   "id": "ac711217",
>>>>>>> documentation-devel
   "metadata": {
    "message": true,
    "tags": [
     "remove_output"
    ]
   },
   "outputs": [],
   "source": [
    "if (!file.exists(\"10xatac.rds\"))\n",
    "    download.file(\"https://github.com/pachterlab/voyager/raw/documentation-devel/vignettes/10xatac.rds\", destfile = \"10xatac.rds\")\n",
    "sce <- readRDS(\"10xatac.rds\")"
   ]
  },
  {
   "cell_type": "code",
   "execution_count": null,
<<<<<<< HEAD
<<<<<<< HEAD
<<<<<<< HEAD
<<<<<<< HEAD
   "id": "7a6c236d",
=======
   "id": "073f489c",
>>>>>>> documentation-devel
=======
   "id": "463705c3",
>>>>>>> documentation-devel
=======
   "id": "7b4ad60a",
>>>>>>> c9ed93f2a6d5e87fe6759d6fd26c06823f77f3f2
=======
   "id": "67ee7bce",
>>>>>>> documentation-devel
   "metadata": {},
   "outputs": [],
   "source": [
    "sce <- addPerCellQCMetrics(sce)\n",
    "names(colData(sce))"
   ]
  },
  {
   "cell_type": "code",
   "execution_count": null,
<<<<<<< HEAD
<<<<<<< HEAD
<<<<<<< HEAD
<<<<<<< HEAD
   "id": "41812fa7",
=======
   "id": "aa1b7fc7",
>>>>>>> documentation-devel
=======
   "id": "bd151e4e",
>>>>>>> documentation-devel
=======
   "id": "c201029c",
>>>>>>> c9ed93f2a6d5e87fe6759d6fd26c06823f77f3f2
=======
   "id": "dc144fc3",
>>>>>>> documentation-devel
   "metadata": {},
   "outputs": [],
   "source": [
    "plotColData(sce, \"sum\") +\n",
    "    plotColData(sce, \"detected\") "
   ]
  },
  {
   "cell_type": "code",
   "execution_count": null,
<<<<<<< HEAD
<<<<<<< HEAD
<<<<<<< HEAD
<<<<<<< HEAD
   "id": "be16f785",
=======
   "id": "2e46041f",
>>>>>>> documentation-devel
=======
   "id": "2720e67f",
>>>>>>> documentation-devel
=======
   "id": "1e21b98b",
>>>>>>> c9ed93f2a6d5e87fe6759d6fd26c06823f77f3f2
=======
   "id": "86b38159",
>>>>>>> documentation-devel
   "metadata": {},
   "outputs": [],
   "source": [
    "plotColData(sce, x = \"sum\", y = \"detected\", bins = 100) +\n",
    "    scale_fill_distiller(palette = \"Blues\", direction = 1)"
   ]
  },
  {
   "cell_type": "code",
   "execution_count": null,
<<<<<<< HEAD
<<<<<<< HEAD
<<<<<<< HEAD
<<<<<<< HEAD
   "id": "ddf2c397",
=======
   "id": "a126c878",
>>>>>>> documentation-devel
=======
   "id": "6abac0ab",
>>>>>>> documentation-devel
=======
   "id": "6e9ad26e",
>>>>>>> c9ed93f2a6d5e87fe6759d6fd26c06823f77f3f2
=======
   "id": "aedbdbe5",
>>>>>>> documentation-devel
   "metadata": {
    "name": "subset-qc"
   },
   "outputs": [],
   "source": [
    "sce <- sce[, which(sce$total > 0)]\n",
    "sce <- sce[rowSums(counts(sce)) > 0,]\n",
    "\n",
    "sce"
   ]
  },
  {
   "cell_type": "code",
   "execution_count": null,
<<<<<<< HEAD
<<<<<<< HEAD
<<<<<<< HEAD
<<<<<<< HEAD
   "id": "be2535f7",
=======
   "id": "2ef85a44",
>>>>>>> documentation-devel
=======
   "id": "aef04f6e",
>>>>>>> documentation-devel
=======
   "id": "103c0c68",
>>>>>>> c9ed93f2a6d5e87fe6759d6fd26c06823f77f3f2
=======
   "id": "42577e04",
>>>>>>> documentation-devel
   "metadata": {},
   "outputs": [],
   "source": [
    "sessionInfo()"
   ]
  }
 ],
 "metadata": {
  "kernelspec": {
   "display_name": "R",
   "language": "R",
   "name": "ir"
  }
 },
 "nbformat": 4,
 "nbformat_minor": 5
}
