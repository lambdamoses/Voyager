{
 "cells": [
  {
   "cell_type": "raw",
<<<<<<< HEAD
<<<<<<< HEAD
<<<<<<< HEAD
<<<<<<< HEAD
<<<<<<< HEAD
   "id": "5aac747b",
=======
   "id": "b162e90e",
>>>>>>> documentation-devel
=======
   "id": "440287bf",
>>>>>>> documentation-devel
=======
   "id": "e06206cc",
>>>>>>> c9ed93f2a6d5e87fe6759d6fd26c06823f77f3f2
=======
   "id": "3aedc602",
>>>>>>> documentation-devel
=======
   "id": "00c8dd68",
>>>>>>> 487d062df8c9b8a19360e92edfd0678a37ff23f4
   "metadata": {},
   "source": [
    "---\n",
    "title: \"Apply spatial analyses to non-spatial scRNA-seq data\"\n",
    "author: \"Lambda Moses\"\n",
    "date: \"`r Sys.Date()`\"\n",
    "output: \n",
    "  html_document:\n",
    "  toc: true\n",
    "  toc_float:\n",
    "    collapsed: false\n",
    "  toc_depth: 3\n",
    "bibliography: ref.bib\n",
    "vignette: >\n",
    "  %\\VignetteIndexEntry{nonspatial}\n",
    "  %\\VignetteEngine{knitr::rmarkdown}\n",
    "  %\\VignetteEncoding{UTF-8}\n",
    "---"
   ]
  },
  {
   "cell_type": "code",
   "execution_count": null,
<<<<<<< HEAD
<<<<<<< HEAD
<<<<<<< HEAD
<<<<<<< HEAD
<<<<<<< HEAD
   "id": "8ad8309c",
=======
   "id": "1537f74e",
>>>>>>> documentation-devel
=======
   "id": "1790318a",
>>>>>>> documentation-devel
=======
   "id": "38fa9ea1",
>>>>>>> c9ed93f2a6d5e87fe6759d6fd26c06823f77f3f2
=======
   "id": "d6c2cdcc",
>>>>>>> documentation-devel
=======
   "id": "47c8d478",
>>>>>>> 487d062df8c9b8a19360e92edfd0678a37ff23f4
   "metadata": {
    "tags": [
     "remove_cell"
    ]
   },
   "outputs": [],
   "source": [
    "knitr::opts_chunk$set(\n",
    "  collapse = TRUE,\n",
    "  comment = \"#>\"\n",
    ")"
   ]
  },
  {
   "cell_type": "code",
   "execution_count": null,
<<<<<<< HEAD
<<<<<<< HEAD
<<<<<<< HEAD
<<<<<<< HEAD
<<<<<<< HEAD
   "id": "ad4511a3",
=======
   "id": "717cdac6",
>>>>>>> documentation-devel
=======
   "id": "998e5af9",
>>>>>>> documentation-devel
=======
   "id": "92c34344",
>>>>>>> c9ed93f2a6d5e87fe6759d6fd26c06823f77f3f2
=======
   "id": "55a42a1b",
>>>>>>> documentation-devel
=======
   "id": "e95b0f08",
>>>>>>> 487d062df8c9b8a19360e92edfd0678a37ff23f4
   "metadata": {
    "eval": false,
    "tags": [
     "remove_cell"
    ]
   },
   "outputs": [],
   "source": [
    "# Install Google Colab dependencies\n",
    "# Note: this can take 30+ minutes (many of the dependencies include C++ code, which needs to be compiled)\n",
    "\n",
    "# First install `sf`, `ragg` and `textshaping` and their system dependencies:\n",
    "system(\"apt-get -y update && apt-get install -y  libudunits2-dev libgdal-dev libgeos-dev libproj-dev libharfbuzz-dev libfribidi-dev\")\n",
    "install.packages(\"sf\")\n",
    "install.packages(\"textshaping\")\n",
    "install.packages(\"ragg\")\n",
    "\n",
    "# Install system dependencies of some other R packages that Voyager either imports or suggests:\n",
    "system(\"apt-get install -y libfribidi-dev libcairo2-dev libmagick++-dev\")\n",
    "\n",
    "# Install Voyager from Bioconductor:\n",
    "install.packages(\"BiocManager\")\n",
    "BiocManager::install(version = \"release\", ask = FALSE, update = FALSE, Ncpus = 2)\n",
    "BiocManager::install(\"scater\")\n",
    "system.time(\n",
    "  BiocManager::install(\"Voyager\", dependencies = TRUE, Ncpus = 2, update = FALSE)\n",
    ")\n",
    "\n",
    "# Additional dependencies for this notebook\n",
    "install.packages(\"reticulate\")\n",
    "#system(\"pip3 install gget\")\n",
    "packageVersion(\"Voyager\")"
   ]
  },
  {
   "cell_type": "markdown",
<<<<<<< HEAD
<<<<<<< HEAD
<<<<<<< HEAD
<<<<<<< HEAD
<<<<<<< HEAD
   "id": "0f4e8423",
=======
   "id": "44b0910d",
>>>>>>> documentation-devel
=======
   "id": "9e894618",
>>>>>>> documentation-devel
=======
   "id": "849ae127",
>>>>>>> c9ed93f2a6d5e87fe6759d6fd26c06823f77f3f2
=======
   "id": "28fee7cf",
>>>>>>> documentation-devel
=======
   "id": "e257844e",
>>>>>>> 487d062df8c9b8a19360e92edfd0678a37ff23f4
   "metadata": {
    "lines_to_next_cell": 0
   },
   "source": [
    "# Introduction\n",
    "\n",
    "For areal spatial data, the spatial neighborhood graph is used to indicate proximity, and is required for all spatial analysis methods in the package `spdep`. One of the methods to find the spatial neighborhood graph is k nearest neighbors, which is also commonly used in gene expression PCA space for graph-based clustering of cells in non-spatial scRNA-seq data. Then what if we use the k nearest neighbors graph in PCA space rather than histological space for \"spatial\" analyses for non-spatial scRNA-seq data?\n",
    "\n",
    "Here we try such an analysis on a human peripheral blood mononuclear cells (PBMC) scRNA-seq dataset, which doesn't originally have histological spatial organization. These are the packages loaded for the analysis:"
   ]
  },
  {
   "cell_type": "code",
   "execution_count": null,
<<<<<<< HEAD
<<<<<<< HEAD
<<<<<<< HEAD
<<<<<<< HEAD
<<<<<<< HEAD
   "id": "47519f0c",
=======
   "id": "50d3e2c7",
>>>>>>> documentation-devel
=======
   "id": "31cb0952",
>>>>>>> documentation-devel
=======
   "id": "9b5e3a73",
>>>>>>> c9ed93f2a6d5e87fe6759d6fd26c06823f77f3f2
=======
   "id": "30e371ac",
>>>>>>> documentation-devel
=======
   "id": "6526c702",
>>>>>>> 487d062df8c9b8a19360e92edfd0678a37ff23f4
   "metadata": {
    "message": false,
    "name": "setup"
   },
   "outputs": [],
   "source": [
    "library(Voyager)\n",
    "library(SpatialFeatureExperiment)\n",
    "library(SpatialExperiment)\n",
    "library(DropletUtils)\n",
    "library(BiocNeighbors)\n",
    "library(scater)\n",
    "library(scran)\n",
    "library(bluster)\n",
    "library(BiocParallel)\n",
    "library(scuttle)\n",
    "library(stringr)\n",
    "library(BiocSingular)\n",
    "library(spdep)\n",
    "library(patchwork)\n",
    "library(dplyr)\n",
    "library(reticulate)\n",
    "theme_set(theme_bw())"
   ]
  },
  {
   "cell_type": "markdown",
<<<<<<< HEAD
<<<<<<< HEAD
<<<<<<< HEAD
   "id": "3f0ffed7",
=======
   "id": "0338f049",
>>>>>>> c9ed93f2a6d5e87fe6759d6fd26c06823f77f3f2
=======
   "id": "5fc6e1a9",
>>>>>>> documentation-devel
=======
   "id": "846db47c",
>>>>>>> 487d062df8c9b8a19360e92edfd0678a37ff23f4
   "metadata": {
    "lines_to_next_cell": 0
   },
   "source": [
    "<<<<<<< HEAD"
   ]
  },
  {
   "cell_type": "code",
   "execution_count": null,
<<<<<<< HEAD
<<<<<<< HEAD
<<<<<<< HEAD
<<<<<<< HEAD
<<<<<<< HEAD
   "id": "22acf295",
=======
   "id": "0f55931c",
>>>>>>> documentation-devel
=======
   "id": "bd455333",
>>>>>>> documentation-devel
=======
   "id": "22835514",
>>>>>>> c9ed93f2a6d5e87fe6759d6fd26c06823f77f3f2
=======
   "id": "9a551d57",
>>>>>>> documentation-devel
=======
   "id": "6ae66b2c",
>>>>>>> 487d062df8c9b8a19360e92edfd0678a37ff23f4
   "metadata": {
    "eval": false
   },
   "outputs": [],
   "source": [
    "=======\n",
    "```{r, eval = FALSE}\n",
    ">>>>>>> documentation\n",
    "# Specify Python version to use gget\n",
    "PY_PATH <- Sys.which(\"python\")\n",
    "use_python(PY_PATH)\n",
    "py_config()\n",
    "\n",
    "# Load gget\n",
    "gget <- import(\"gget\")"
   ]
  },
  {
   "cell_type": "markdown",
<<<<<<< HEAD
<<<<<<< HEAD
<<<<<<< HEAD
<<<<<<< HEAD
<<<<<<< HEAD
   "id": "7fe5467b",
=======
   "id": "84030ace",
>>>>>>> documentation-devel
=======
   "id": "54f108f1",
>>>>>>> documentation-devel
=======
   "id": "6565b24b",
>>>>>>> c9ed93f2a6d5e87fe6759d6fd26c06823f77f3f2
=======
   "id": "5af7749f",
>>>>>>> documentation-devel
=======
   "id": "fabea976",
>>>>>>> 487d062df8c9b8a19360e92edfd0678a37ff23f4
   "metadata": {},
   "source": [
    "Here we download the filtered [Cell Ranger gene count matrix from the 10X website](https://support.10xgenomics.com/single-cell-gene-expression/datasets/3.0.2/5k_pbmc_v3_nextgem?). The empty droplets have already been removed."
   ]
  },
  {
   "cell_type": "code",
   "execution_count": null,
<<<<<<< HEAD
<<<<<<< HEAD
<<<<<<< HEAD
<<<<<<< HEAD
<<<<<<< HEAD
   "id": "a67a9bb9",
=======
   "id": "cf53aead",
>>>>>>> documentation-devel
=======
   "id": "1a1ba992",
>>>>>>> documentation-devel
=======
   "id": "1d04a74c",
>>>>>>> c9ed93f2a6d5e87fe6759d6fd26c06823f77f3f2
=======
   "id": "4aabd9b2",
>>>>>>> documentation-devel
=======
   "id": "1661c305",
>>>>>>> 487d062df8c9b8a19360e92edfd0678a37ff23f4
   "metadata": {},
   "outputs": [],
   "source": [
    "if (!dir.exists(\"filtered_feature_bc_matrix\")) {\n",
    "    download.file(\"https://cf.10xgenomics.com/samples/cell-exp/3.0.2/5k_pbmc_v3_nextgem/5k_pbmc_v3_nextgem_filtered_feature_bc_matrix.tar.gz\", destfile = \"5kpbmc.tar.gz\", quiet = TRUE)\n",
    "    system(\"tar -xzf 5kpbmc.tar.gz\")\n",
    "}"
   ]
  },
  {
   "cell_type": "markdown",
<<<<<<< HEAD
<<<<<<< HEAD
<<<<<<< HEAD
<<<<<<< HEAD
<<<<<<< HEAD
   "id": "b1efb083",
=======
   "id": "16bbf62f",
>>>>>>> documentation-devel
=======
   "id": "752df804",
>>>>>>> documentation-devel
=======
   "id": "eb3e4d11",
>>>>>>> c9ed93f2a6d5e87fe6759d6fd26c06823f77f3f2
=======
   "id": "b64ca518",
>>>>>>> documentation-devel
=======
   "id": "f1f9ad8f",
>>>>>>> 487d062df8c9b8a19360e92edfd0678a37ff23f4
   "metadata": {
    "lines_to_next_cell": 0
   },
   "source": [
    "This is loaded into R as a `SingleCellExperiment` (SCE) object."
   ]
  },
  {
   "cell_type": "code",
   "execution_count": null,
<<<<<<< HEAD
<<<<<<< HEAD
<<<<<<< HEAD
<<<<<<< HEAD
<<<<<<< HEAD
   "id": "c1387572",
=======
   "id": "140be4f6",
>>>>>>> documentation-devel
=======
   "id": "004f6f31",
>>>>>>> documentation-devel
=======
   "id": "82b333a9",
>>>>>>> c9ed93f2a6d5e87fe6759d6fd26c06823f77f3f2
=======
   "id": "f69057cc",
>>>>>>> documentation-devel
=======
   "id": "f138495b",
>>>>>>> 487d062df8c9b8a19360e92edfd0678a37ff23f4
   "metadata": {},
   "outputs": [],
   "source": [
    "(sce <- read10xCounts(\"filtered_feature_bc_matrix/\"))"
   ]
  },
  {
   "cell_type": "code",
   "execution_count": null,
<<<<<<< HEAD
<<<<<<< HEAD
<<<<<<< HEAD
<<<<<<< HEAD
<<<<<<< HEAD
   "id": "43f7e2b6",
=======
   "id": "eeee29d1",
>>>>>>> documentation-devel
=======
   "id": "221a7f0b",
>>>>>>> documentation-devel
=======
   "id": "aad8a3ef",
>>>>>>> c9ed93f2a6d5e87fe6759d6fd26c06823f77f3f2
=======
   "id": "5227f3b8",
>>>>>>> documentation-devel
=======
   "id": "78e0d8e6",
>>>>>>> 487d062df8c9b8a19360e92edfd0678a37ff23f4
   "metadata": {},
   "outputs": [],
   "source": [
    "colnames(sce) <- sce$Barcode"
   ]
  },
  {
   "cell_type": "markdown",
<<<<<<< HEAD
<<<<<<< HEAD
<<<<<<< HEAD
<<<<<<< HEAD
<<<<<<< HEAD
   "id": "499294b7",
=======
   "id": "972223c7",
>>>>>>> documentation-devel
=======
   "id": "68d9a934",
>>>>>>> documentation-devel
=======
   "id": "8e28da94",
>>>>>>> c9ed93f2a6d5e87fe6759d6fd26c06823f77f3f2
=======
   "id": "08f07e12",
>>>>>>> documentation-devel
=======
   "id": "d6c266ca",
>>>>>>> 487d062df8c9b8a19360e92edfd0678a37ff23f4
   "metadata": {
    "lines_to_next_cell": 0
   },
   "source": [
    "# Quality control (QC)\n",
    "Here we perform some basic QC, to remove low quality cells with high proportion of mitochondrially encoded counts. "
   ]
  },
  {
   "cell_type": "code",
   "execution_count": null,
<<<<<<< HEAD
<<<<<<< HEAD
<<<<<<< HEAD
<<<<<<< HEAD
<<<<<<< HEAD
   "id": "72d4e266",
=======
   "id": "84502dee",
>>>>>>> documentation-devel
=======
   "id": "c547d4ee",
>>>>>>> documentation-devel
=======
   "id": "9a368de6",
>>>>>>> c9ed93f2a6d5e87fe6759d6fd26c06823f77f3f2
=======
   "id": "699d6d44",
>>>>>>> documentation-devel
=======
   "id": "51794848",
>>>>>>> 487d062df8c9b8a19360e92edfd0678a37ff23f4
   "metadata": {},
   "outputs": [],
   "source": [
    "is_mito <- str_detect(rowData(sce)$Symbol, \"^MT-\")\n",
    "sum(is_mito)"
   ]
  },
  {
   "cell_type": "code",
   "execution_count": null,
<<<<<<< HEAD
<<<<<<< HEAD
<<<<<<< HEAD
<<<<<<< HEAD
<<<<<<< HEAD
   "id": "fe049dce",
=======
   "id": "63cefaca",
>>>>>>> documentation-devel
=======
   "id": "6d6f67f9",
>>>>>>> documentation-devel
=======
   "id": "d067b449",
>>>>>>> c9ed93f2a6d5e87fe6759d6fd26c06823f77f3f2
=======
   "id": "6ff83cfd",
>>>>>>> documentation-devel
=======
   "id": "45bfd04c",
>>>>>>> 487d062df8c9b8a19360e92edfd0678a37ff23f4
   "metadata": {},
   "outputs": [],
   "source": [
    "sce <- addPerCellQCMetrics(sce, subsets = list(mito = is_mito))\n",
    "names(colData(sce))"
   ]
  },
  {
   "cell_type": "markdown",
<<<<<<< HEAD
<<<<<<< HEAD
<<<<<<< HEAD
<<<<<<< HEAD
<<<<<<< HEAD
   "id": "cb7825f5",
=======
   "id": "d7915c72",
>>>>>>> documentation-devel
=======
   "id": "9c3dfafb",
>>>>>>> documentation-devel
=======
   "id": "76556ff5",
>>>>>>> c9ed93f2a6d5e87fe6759d6fd26c06823f77f3f2
=======
   "id": "b5eeb17e",
>>>>>>> documentation-devel
=======
   "id": "a6e09af0",
>>>>>>> 487d062df8c9b8a19360e92edfd0678a37ff23f4
   "metadata": {},
   "source": [
    "The `addPerCellQCMetrics()` function computes the total UMI counts detected per cell (`sum`), number of genes detected per cell (`detected`), `sum` and `detected` for mitochondrial counts, and percentage of mitochondrial counts per cell."
   ]
  },
  {
   "cell_type": "code",
   "execution_count": null,
<<<<<<< HEAD
<<<<<<< HEAD
<<<<<<< HEAD
<<<<<<< HEAD
<<<<<<< HEAD
   "id": "4e8f7539",
=======
   "id": "f4e0eec6",
>>>>>>> documentation-devel
=======
   "id": "d8019d98",
>>>>>>> documentation-devel
=======
   "id": "c0045b81",
>>>>>>> c9ed93f2a6d5e87fe6759d6fd26c06823f77f3f2
=======
   "id": "813ff0b2",
>>>>>>> documentation-devel
=======
   "id": "2cd52c46",
>>>>>>> 487d062df8c9b8a19360e92edfd0678a37ff23f4
   "metadata": {},
   "outputs": [],
   "source": [
    "plotColData(sce, \"sum\") +\n",
    "    plotColData(sce, \"detected\") +\n",
    "    plotColData(sce, \"subsets_mito_percent\")"
   ]
  },
  {
   "cell_type": "markdown",
<<<<<<< HEAD
<<<<<<< HEAD
<<<<<<< HEAD
<<<<<<< HEAD
<<<<<<< HEAD
   "id": "c025c41e",
=======
   "id": "30f6f878",
>>>>>>> documentation-devel
=======
   "id": "6ab4c303",
>>>>>>> documentation-devel
=======
   "id": "7233451a",
>>>>>>> c9ed93f2a6d5e87fe6759d6fd26c06823f77f3f2
=======
   "id": "4cf9f883",
>>>>>>> documentation-devel
=======
   "id": "b706d078",
>>>>>>> 487d062df8c9b8a19360e92edfd0678a37ff23f4
   "metadata": {
    "lines_to_next_cell": 0
   },
   "source": [
    "Here a 2D histogram is plotted to better show point density on the plot."
   ]
  },
  {
   "cell_type": "code",
   "execution_count": null,
<<<<<<< HEAD
<<<<<<< HEAD
<<<<<<< HEAD
<<<<<<< HEAD
<<<<<<< HEAD
   "id": "608e9bef",
=======
   "id": "261866b1",
>>>>>>> documentation-devel
=======
   "id": "295bed9f",
>>>>>>> documentation-devel
=======
   "id": "8555086f",
>>>>>>> c9ed93f2a6d5e87fe6759d6fd26c06823f77f3f2
=======
   "id": "9e739420",
>>>>>>> documentation-devel
=======
   "id": "da8ebf72",
>>>>>>> 487d062df8c9b8a19360e92edfd0678a37ff23f4
   "metadata": {},
   "outputs": [],
   "source": [
    "plotColData(sce, x = \"sum\", y = \"detected\", bins = 100)"
   ]
  },
  {
   "cell_type": "code",
   "execution_count": null,
<<<<<<< HEAD
<<<<<<< HEAD
<<<<<<< HEAD
<<<<<<< HEAD
<<<<<<< HEAD
   "id": "0402b9a5",
=======
   "id": "4e1d4352",
>>>>>>> documentation-devel
=======
   "id": "919dae1e",
>>>>>>> documentation-devel
=======
   "id": "116edc6a",
>>>>>>> c9ed93f2a6d5e87fe6759d6fd26c06823f77f3f2
=======
   "id": "ee99fa39",
>>>>>>> documentation-devel
=======
   "id": "255b3b46",
>>>>>>> 487d062df8c9b8a19360e92edfd0678a37ff23f4
   "metadata": {},
   "outputs": [],
   "source": [
    "plotColData(sce, x = \"sum\", y = \"subsets_mito_percent\", bins = 100)"
   ]
  },
  {
   "cell_type": "markdown",
<<<<<<< HEAD
<<<<<<< HEAD
<<<<<<< HEAD
<<<<<<< HEAD
<<<<<<< HEAD
   "id": "833a1178",
=======
   "id": "3b31a478",
>>>>>>> documentation-devel
=======
   "id": "9ee1b823",
>>>>>>> documentation-devel
=======
   "id": "16c22b35",
>>>>>>> c9ed93f2a6d5e87fe6759d6fd26c06823f77f3f2
=======
   "id": "77d2023b",
>>>>>>> documentation-devel
=======
   "id": "ec1d3927",
>>>>>>> 487d062df8c9b8a19360e92edfd0678a37ff23f4
   "metadata": {
    "lines_to_next_cell": 0
   },
   "source": [
    "Remove cells with >20% mitochondrial counts"
   ]
  },
  {
   "cell_type": "code",
   "execution_count": null,
<<<<<<< HEAD
<<<<<<< HEAD
<<<<<<< HEAD
<<<<<<< HEAD
<<<<<<< HEAD
   "id": "39b27590",
=======
   "id": "ed696d78",
>>>>>>> documentation-devel
=======
   "id": "71e1e844",
>>>>>>> documentation-devel
=======
   "id": "ee460ae5",
>>>>>>> c9ed93f2a6d5e87fe6759d6fd26c06823f77f3f2
=======
   "id": "131be7a6",
>>>>>>> documentation-devel
=======
   "id": "e953d518",
>>>>>>> 487d062df8c9b8a19360e92edfd0678a37ff23f4
   "metadata": {},
   "outputs": [],
   "source": [
    "sce <- sce[, sce$subsets_mito_percent < 20]\n",
    "sce <- sce[rowSums(counts(sce)) > 0,]"
   ]
  },
  {
   "cell_type": "markdown",
<<<<<<< HEAD
<<<<<<< HEAD
<<<<<<< HEAD
<<<<<<< HEAD
<<<<<<< HEAD
   "id": "eeab2be4",
=======
   "id": "51017e1a",
>>>>>>> documentation-devel
=======
   "id": "da5f3baa",
>>>>>>> documentation-devel
=======
   "id": "8a1bf484",
>>>>>>> c9ed93f2a6d5e87fe6759d6fd26c06823f77f3f2
=======
   "id": "1e3bd23c",
>>>>>>> documentation-devel
=======
   "id": "6a03dcb7",
>>>>>>> 487d062df8c9b8a19360e92edfd0678a37ff23f4
   "metadata": {
    "lines_to_next_cell": 0
   },
   "source": [
    "# Basic non-spatial analyses\n",
    "Here we normalize the data, perform PCA, cluster the cells, and find marker genes for the clusters."
   ]
  },
  {
   "cell_type": "code",
   "execution_count": null,
<<<<<<< HEAD
<<<<<<< HEAD
<<<<<<< HEAD
<<<<<<< HEAD
<<<<<<< HEAD
   "id": "77bd6be6",
=======
   "id": "a6999613",
>>>>>>> documentation-devel
=======
   "id": "3912325c",
>>>>>>> documentation-devel
=======
   "id": "d9a81ef9",
>>>>>>> c9ed93f2a6d5e87fe6759d6fd26c06823f77f3f2
=======
   "id": "4fefdf75",
>>>>>>> documentation-devel
=======
   "id": "b283b128",
>>>>>>> 487d062df8c9b8a19360e92edfd0678a37ff23f4
   "metadata": {},
   "outputs": [],
   "source": [
    "#clusts <- quickCluster(sce)\n",
    "#sce <- computeSumFactors(sce, cluster = clusts)\n",
    "#sce <- sce[, sizeFactors(sce) > 0]\n",
    "sce <- logNormCounts(sce)"
   ]
  },
  {
   "cell_type": "markdown",
<<<<<<< HEAD
<<<<<<< HEAD
<<<<<<< HEAD
<<<<<<< HEAD
<<<<<<< HEAD
   "id": "fc5458a0",
=======
   "id": "0412b0bb",
>>>>>>> documentation-devel
=======
   "id": "7cf67632",
>>>>>>> documentation-devel
=======
   "id": "5ea83ac4",
>>>>>>> c9ed93f2a6d5e87fe6759d6fd26c06823f77f3f2
=======
   "id": "48406470",
>>>>>>> documentation-devel
=======
   "id": "4b2bfa7c",
>>>>>>> 487d062df8c9b8a19360e92edfd0678a37ff23f4
   "metadata": {
    "lines_to_next_cell": 0
   },
   "source": [
    "Use the highly variable genes for PCA:"
   ]
  },
  {
   "cell_type": "code",
   "execution_count": null,
<<<<<<< HEAD
<<<<<<< HEAD
<<<<<<< HEAD
<<<<<<< HEAD
<<<<<<< HEAD
   "id": "105188be",
=======
   "id": "d36cc35d",
>>>>>>> documentation-devel
=======
   "id": "bc54be09",
>>>>>>> documentation-devel
=======
   "id": "d18bfe11",
>>>>>>> c9ed93f2a6d5e87fe6759d6fd26c06823f77f3f2
=======
   "id": "0666fb04",
>>>>>>> documentation-devel
=======
   "id": "7803918d",
>>>>>>> 487d062df8c9b8a19360e92edfd0678a37ff23f4
   "metadata": {},
   "outputs": [],
   "source": [
    "dec <- modelGeneVar(sce, lowess = FALSE)\n",
    "hvgs <- getTopHVGs(dec, n = 2000)"
   ]
  },
  {
   "cell_type": "code",
   "execution_count": null,
<<<<<<< HEAD
<<<<<<< HEAD
<<<<<<< HEAD
<<<<<<< HEAD
<<<<<<< HEAD
   "id": "3ba728f8",
=======
   "id": "57ad1f7c",
>>>>>>> documentation-devel
=======
   "id": "90000acc",
>>>>>>> documentation-devel
=======
   "id": "600f81bc",
>>>>>>> c9ed93f2a6d5e87fe6759d6fd26c06823f77f3f2
=======
   "id": "a3be9612",
>>>>>>> documentation-devel
=======
   "id": "707d1953",
>>>>>>> 487d062df8c9b8a19360e92edfd0678a37ff23f4
   "metadata": {},
   "outputs": [],
   "source": [
    "set.seed(29)\n",
    "sce <- runPCA(sce, ncomponents = 30, BSPARAM = IrlbaParam(),\n",
    "              subset_row = hvgs, scale = TRUE)"
   ]
  },
  {
   "cell_type": "markdown",
<<<<<<< HEAD
<<<<<<< HEAD
<<<<<<< HEAD
<<<<<<< HEAD
<<<<<<< HEAD
   "id": "47fb025c",
=======
   "id": "3b147c28",
>>>>>>> documentation-devel
=======
   "id": "ebdd6021",
>>>>>>> documentation-devel
=======
   "id": "81c7dbe3",
>>>>>>> c9ed93f2a6d5e87fe6759d6fd26c06823f77f3f2
=======
   "id": "90971b4c",
>>>>>>> documentation-devel
=======
   "id": "ef4fde10",
>>>>>>> 487d062df8c9b8a19360e92edfd0678a37ff23f4
   "metadata": {
    "lines_to_next_cell": 0
   },
   "source": [
    "How many PCs shall we use for further analyses?"
   ]
  },
  {
   "cell_type": "code",
   "execution_count": null,
<<<<<<< HEAD
<<<<<<< HEAD
<<<<<<< HEAD
<<<<<<< HEAD
<<<<<<< HEAD
   "id": "ec9f7ed4",
=======
   "id": "946ac817",
>>>>>>> documentation-devel
=======
   "id": "325c0adf",
>>>>>>> documentation-devel
=======
   "id": "509acd68",
>>>>>>> c9ed93f2a6d5e87fe6759d6fd26c06823f77f3f2
=======
   "id": "eb23e06e",
>>>>>>> documentation-devel
=======
   "id": "4130b3a1",
>>>>>>> 487d062df8c9b8a19360e92edfd0678a37ff23f4
   "metadata": {},
   "outputs": [],
   "source": [
    "ElbowPlot(sce, ndims = 30)"
   ]
  },
  {
   "cell_type": "markdown",
<<<<<<< HEAD
<<<<<<< HEAD
<<<<<<< HEAD
<<<<<<< HEAD
<<<<<<< HEAD
   "id": "fc2fe298",
=======
   "id": "2d66fb46",
>>>>>>> documentation-devel
=======
   "id": "e13a4755",
>>>>>>> documentation-devel
=======
   "id": "7742ba59",
>>>>>>> c9ed93f2a6d5e87fe6759d6fd26c06823f77f3f2
=======
   "id": "a9bc3d97",
>>>>>>> documentation-devel
=======
   "id": "6f7d5d41",
>>>>>>> 487d062df8c9b8a19360e92edfd0678a37ff23f4
   "metadata": {},
   "source": [
    "Variance explained drops sharply from PC1 and again from PC4 and then levels off. Plot genes with the largest loadings of the top 4 PCs:"
   ]
  },
  {
   "cell_type": "code",
   "execution_count": null,
<<<<<<< HEAD
<<<<<<< HEAD
<<<<<<< HEAD
<<<<<<< HEAD
<<<<<<< HEAD
   "id": "3bf22bb9",
=======
   "id": "1d98beb6",
>>>>>>> documentation-devel
=======
   "id": "4edefd7f",
>>>>>>> documentation-devel
=======
   "id": "e37d0960",
>>>>>>> c9ed93f2a6d5e87fe6759d6fd26c06823f77f3f2
=======
   "id": "f005d69d",
>>>>>>> documentation-devel
=======
   "id": "b96940c4",
>>>>>>> 487d062df8c9b8a19360e92edfd0678a37ff23f4
   "metadata": {
    "lines_to_next_cell": 2
   },
   "outputs": [],
   "source": [
    "plotDimLoadings(sce, swap_rownames = \"Symbol\")"
   ]
  },
  {
   "cell_type": "markdown",
<<<<<<< HEAD
<<<<<<< HEAD
<<<<<<< HEAD
<<<<<<< HEAD
<<<<<<< HEAD
   "id": "5117cccb",
=======
   "id": "1a2058df",
>>>>>>> documentation-devel
=======
   "id": "0639c06f",
>>>>>>> documentation-devel
=======
   "id": "288263d7",
>>>>>>> c9ed93f2a6d5e87fe6759d6fd26c06823f77f3f2
=======
   "id": "0535aed8",
>>>>>>> documentation-devel
=======
   "id": "85e258c1",
>>>>>>> 487d062df8c9b8a19360e92edfd0678a37ff23f4
   "metadata": {},
   "source": [
    "To keep a little more information, we use 10 PCs, after which variance explained levels off even more."
   ]
  },
  {
   "cell_type": "code",
   "execution_count": null,
<<<<<<< HEAD
<<<<<<< HEAD
<<<<<<< HEAD
<<<<<<< HEAD
<<<<<<< HEAD
   "id": "154338f7",
=======
   "id": "df74ed2d",
>>>>>>> documentation-devel
=======
   "id": "1978baf1",
>>>>>>> documentation-devel
=======
   "id": "d2c6e1d0",
>>>>>>> c9ed93f2a6d5e87fe6759d6fd26c06823f77f3f2
=======
   "id": "b2839322",
>>>>>>> documentation-devel
=======
   "id": "80b85dfd",
>>>>>>> 487d062df8c9b8a19360e92edfd0678a37ff23f4
   "metadata": {},
   "outputs": [],
   "source": [
    "sce$cluster <- clusterRows(reducedDim(sce, \"PCA\")[,1:10],\n",
    "                           BLUSPARAM = SNNGraphParam(cluster.fun = \"leiden\",\n",
    "                                                     k = 10,\n",
    "                                                     cluster.args = list(\n",
    "                                                         resolution=0.5,\n",
    "                                                         objective_function = \"modularity\"\n",
    "                                                     )))"
   ]
  },
  {
   "cell_type": "markdown",
<<<<<<< HEAD
<<<<<<< HEAD
<<<<<<< HEAD
<<<<<<< HEAD
<<<<<<< HEAD
   "id": "7fa9bde7",
=======
   "id": "828e0a54",
>>>>>>> documentation-devel
=======
   "id": "f614edac",
>>>>>>> documentation-devel
=======
   "id": "2bad2a12",
>>>>>>> c9ed93f2a6d5e87fe6759d6fd26c06823f77f3f2
=======
   "id": "f081bca2",
>>>>>>> documentation-devel
=======
   "id": "63d5f687",
>>>>>>> 487d062df8c9b8a19360e92edfd0678a37ff23f4
   "metadata": {},
   "source": [
    "Here we plot the cells in the first 4 PCs in a matrix plot. The diagonals are density plots of the number of cells as projected on each PC. The x axis should correspond to the columns of the matrix plot, and the y axis should correspond to the rows, so the plot in row 1 column 2 has PC2 in the x axis and PC1 in the y axis. The cells are colored by clusters found in the previous code chunk."
   ]
  },
  {
   "cell_type": "code",
   "execution_count": null,
<<<<<<< HEAD
<<<<<<< HEAD
<<<<<<< HEAD
<<<<<<< HEAD
<<<<<<< HEAD
   "id": "ad51d6fc",
=======
   "id": "b702e2c7",
>>>>>>> documentation-devel
=======
   "id": "ef1975f4",
>>>>>>> documentation-devel
=======
   "id": "c352e05c",
>>>>>>> c9ed93f2a6d5e87fe6759d6fd26c06823f77f3f2
=======
   "id": "7e7d86a6",
>>>>>>> documentation-devel
=======
   "id": "4d72360d",
>>>>>>> 487d062df8c9b8a19360e92edfd0678a37ff23f4
   "metadata": {
    "fig.height": 9,
    "fig.width": 9
   },
   "outputs": [],
   "source": [
    "plotPCA(sce, ncomponents = 4, color_by = \"cluster\")"
   ]
  },
  {
   "cell_type": "markdown",
<<<<<<< HEAD
<<<<<<< HEAD
<<<<<<< HEAD
<<<<<<< HEAD
<<<<<<< HEAD
   "id": "5cecd8a1",
=======
   "id": "73f58f1f",
>>>>>>> documentation-devel
=======
   "id": "6bc45941",
>>>>>>> documentation-devel
=======
   "id": "bbcc9475",
>>>>>>> c9ed93f2a6d5e87fe6759d6fd26c06823f77f3f2
=======
   "id": "4ee7079d",
>>>>>>> documentation-devel
=======
   "id": "d155923d",
>>>>>>> 487d062df8c9b8a19360e92edfd0678a37ff23f4
   "metadata": {
    "lines_to_next_cell": 0
   },
   "source": [
    "How many cells are there in each cluster?"
   ]
  },
  {
   "cell_type": "code",
   "execution_count": null,
<<<<<<< HEAD
<<<<<<< HEAD
<<<<<<< HEAD
<<<<<<< HEAD
<<<<<<< HEAD
   "id": "3cd9fc4b",
=======
   "id": "7f05169d",
>>>>>>> documentation-devel
=======
   "id": "4043da4c",
>>>>>>> documentation-devel
=======
   "id": "e19c1ebe",
>>>>>>> c9ed93f2a6d5e87fe6759d6fd26c06823f77f3f2
=======
   "id": "2e47dcff",
>>>>>>> documentation-devel
=======
   "id": "5506cef0",
>>>>>>> 487d062df8c9b8a19360e92edfd0678a37ff23f4
   "metadata": {},
   "outputs": [],
   "source": [
    "table(sce$cluster)"
   ]
  },
  {
   "cell_type": "markdown",
<<<<<<< HEAD
<<<<<<< HEAD
<<<<<<< HEAD
<<<<<<< HEAD
<<<<<<< HEAD
   "id": "85557108",
=======
   "id": "b17c6c29",
>>>>>>> documentation-devel
=======
   "id": "42c1c437",
>>>>>>> documentation-devel
=======
   "id": "ba8eab33",
>>>>>>> c9ed93f2a6d5e87fe6759d6fd26c06823f77f3f2
=======
   "id": "96989f2a",
>>>>>>> documentation-devel
=======
   "id": "c4d12c4d",
>>>>>>> 487d062df8c9b8a19360e92edfd0678a37ff23f4
   "metadata": {
    "lines_to_next_cell": 0
   },
   "source": [
    "Then we use the conventional Wilcoxon rank sum test to find marker genes for each cluster. The test compares each cluster to the rest of the cells, and only genes more highly expressed in the cluster compared to the other cells are considered. The result is a list of data frames, where each data frame corresponds to one cluster. Areas under the receiver operator curve (AUC), distinguishing each cluster vs. any other cluster, are also included. The closer to 1 the better, while 0.5 means no better than random guessing. The false discovery rate (FDR) column contains the Benjamini-Hochberg corrected p-values. Genes in these data frames are already sorted by p-values."
   ]
  },
  {
   "cell_type": "code",
   "execution_count": null,
<<<<<<< HEAD
<<<<<<< HEAD
<<<<<<< HEAD
<<<<<<< HEAD
<<<<<<< HEAD
   "id": "0f70cbe6",
=======
   "id": "0d615ea3",
>>>>>>> documentation-devel
=======
   "id": "098edbb6",
>>>>>>> documentation-devel
=======
   "id": "c4de9cca",
>>>>>>> c9ed93f2a6d5e87fe6759d6fd26c06823f77f3f2
=======
   "id": "f1270288",
>>>>>>> documentation-devel
=======
   "id": "7146f646",
>>>>>>> 487d062df8c9b8a19360e92edfd0678a37ff23f4
   "metadata": {
    "lines_to_next_cell": 2
   },
   "outputs": [],
   "source": [
    "markers <- findMarkers(sce, groups = colData(sce)$cluster,\n",
    "                       test.type = \"wilcox\", pval.type = \"all\", direction = \"up\")\n",
    "markers[[4]]"
   ]
  },
  {
   "cell_type": "markdown",
<<<<<<< HEAD
<<<<<<< HEAD
<<<<<<< HEAD
<<<<<<< HEAD
<<<<<<< HEAD
   "id": "876387ef",
=======
   "id": "0641867d",
>>>>>>> documentation-devel
=======
   "id": "58c81d95",
>>>>>>> documentation-devel
=======
   "id": "528e8ab5",
>>>>>>> c9ed93f2a6d5e87fe6759d6fd26c06823f77f3f2
=======
   "id": "1921f183",
>>>>>>> documentation-devel
=======
   "id": "5c7ad7b6",
>>>>>>> 487d062df8c9b8a19360e92edfd0678a37ff23f4
   "metadata": {},
   "source": [
    "See how specific the top markers are to each cluster:"
   ]
  },
  {
   "cell_type": "code",
   "execution_count": null,
<<<<<<< HEAD
<<<<<<< HEAD
<<<<<<< HEAD
<<<<<<< HEAD
<<<<<<< HEAD
   "id": "2ad7d35f",
=======
   "id": "ae24cac5",
>>>>>>> documentation-devel
=======
   "id": "9e1f568e",
>>>>>>> documentation-devel
=======
   "id": "4e9ff018",
>>>>>>> c9ed93f2a6d5e87fe6759d6fd26c06823f77f3f2
=======
   "id": "f3dcbaa8",
>>>>>>> documentation-devel
=======
   "id": "149e62a7",
>>>>>>> 487d062df8c9b8a19360e92edfd0678a37ff23f4
   "metadata": {},
   "outputs": [],
   "source": [
    "top_markers <- unlist(lapply(markers, function(x) head(rownames(x), 1)))\n",
    "top_markers_symbol <- rowData(sce)[top_markers, \"Symbol\"]"
   ]
  },
  {
   "cell_type": "code",
   "execution_count": null,
<<<<<<< HEAD
<<<<<<< HEAD
<<<<<<< HEAD
<<<<<<< HEAD
<<<<<<< HEAD
   "id": "ea111b97",
=======
   "id": "bd861003",
>>>>>>> documentation-devel
=======
   "id": "0086b059",
>>>>>>> documentation-devel
=======
   "id": "6684edc7",
>>>>>>> c9ed93f2a6d5e87fe6759d6fd26c06823f77f3f2
=======
   "id": "c6d04e10",
>>>>>>> documentation-devel
=======
   "id": "91f2d3c7",
>>>>>>> 487d062df8c9b8a19360e92edfd0678a37ff23f4
   "metadata": {},
   "outputs": [],
   "source": [
    "plotExpression(sce, top_markers_symbol, x = \"cluster\", swap_rownames = \"Symbol\",\n",
    "               point_fun = function(...) list())"
   ]
  },
  {
   "cell_type": "markdown",
<<<<<<< HEAD
<<<<<<< HEAD
<<<<<<< HEAD
<<<<<<< HEAD
<<<<<<< HEAD
   "id": "095976f3",
=======
   "id": "5437973f",
>>>>>>> documentation-devel
=======
   "id": "9f15ef66",
>>>>>>> documentation-devel
=======
   "id": "9f593cd7",
>>>>>>> c9ed93f2a6d5e87fe6759d6fd26c06823f77f3f2
=======
   "id": "415e7b4c",
>>>>>>> documentation-devel
=======
   "id": "3263850d",
>>>>>>> 487d062df8c9b8a19360e92edfd0678a37ff23f4
   "metadata": {
    "lines_to_next_cell": 0
   },
   "source": [
    "We can use the [gget info](https://pachterlab.github.io/gget/info.html) module from the [gget](https://pachterlab.github.io/gget/) package to get additional information for these marker genes. For example, their [NCBI](https://www.ncbi.nlm.nih.gov/) description:"
   ]
  },
  {
   "cell_type": "code",
   "execution_count": null,
<<<<<<< HEAD
<<<<<<< HEAD
<<<<<<< HEAD
<<<<<<< HEAD
<<<<<<< HEAD
   "id": "bb709561",
=======
   "id": "7a5a5893",
>>>>>>> documentation-devel
=======
   "id": "79753e1e",
>>>>>>> documentation-devel
=======
   "id": "8452f6ce",
>>>>>>> c9ed93f2a6d5e87fe6759d6fd26c06823f77f3f2
=======
   "id": "0dec6be5",
>>>>>>> documentation-devel
=======
   "id": "aed65afd",
>>>>>>> 487d062df8c9b8a19360e92edfd0678a37ff23f4
   "metadata": {
    "eval": false
   },
   "outputs": [],
   "source": [
    "gget_info <- gget$info(top_markers)\n",
    "\n",
    "rownames(gget_info) <- gget_info$ensembl_gene_name\n",
    "select(gget_info, ncbi_description)"
   ]
  },
  {
   "cell_type": "markdown",
<<<<<<< HEAD
<<<<<<< HEAD
<<<<<<< HEAD
<<<<<<< HEAD
<<<<<<< HEAD
   "id": "5d8b8a7b",
=======
   "id": "c1310ed9",
>>>>>>> documentation-devel
=======
   "id": "cf4c8b27",
>>>>>>> documentation-devel
=======
   "id": "ccc20233",
>>>>>>> c9ed93f2a6d5e87fe6759d6fd26c06823f77f3f2
=======
   "id": "6a2302a1",
>>>>>>> documentation-devel
=======
   "id": "0f150cac",
>>>>>>> 487d062df8c9b8a19360e92edfd0678a37ff23f4
   "metadata": {
    "lines_to_next_cell": 0
   },
   "source": [
    "# \"Spatial\" analyses for QC metrics\n",
    "Find k nearest neighbor graph in PCA space for Moran's I: We are not using `spdep` here since its `nb2listwdist()` function for distance based edge weighting requires 2-3 dimensional spatial coordinates while the coordinates here have 10 dimensions. Here, inverse distance weighting is used for edge weights."
   ]
  },
  {
   "cell_type": "code",
   "execution_count": null,
<<<<<<< HEAD
<<<<<<< HEAD
<<<<<<< HEAD
<<<<<<< HEAD
<<<<<<< HEAD
   "id": "bdd9e1aa",
=======
   "id": "51bd8776",
>>>>>>> documentation-devel
=======
   "id": "f693ddca",
>>>>>>> documentation-devel
=======
   "id": "09b014dd",
>>>>>>> c9ed93f2a6d5e87fe6759d6fd26c06823f77f3f2
=======
   "id": "c1fe355e",
>>>>>>> documentation-devel
=======
   "id": "10258e92",
>>>>>>> 487d062df8c9b8a19360e92edfd0678a37ff23f4
   "metadata": {},
   "outputs": [],
   "source": [
    "foo <- findKNN(reducedDim(sce, \"PCA\")[,1:10], k=10, BNPARAM=AnnoyParam())\n",
    "# Split by row\n",
    "foo_nb <- asplit(foo$index, 1)\n",
    "dmat <- 1/foo$distance\n",
    "# Row normalize the weights\n",
    "dmat <- sweep(dmat, 1, rowSums(dmat), FUN = \"/\")\n",
    "glist <- asplit(dmat, 1)\n",
    "# Sort based on index\n",
    "ord <- lapply(foo_nb, order)\n",
    "foo_nb <- lapply(seq_along(foo_nb), function(i) foo_nb[[i]][ord[[i]]])\n",
    "class(foo_nb) <- \"nb\"\n",
    "glist <- lapply(seq_along(glist), function(i) glist[[i]][ord[[i]]])\n",
    "\n",
    "listw <- list(style = \"W\",\n",
    "              neighbours = foo_nb,\n",
    "              weights = glist)\n",
    "class(listw) <- \"listw\"\n",
    "attr(listw, \"region.id\") <- colnames(sce)"
   ]
  },
  {
   "cell_type": "markdown",
<<<<<<< HEAD
<<<<<<< HEAD
<<<<<<< HEAD
<<<<<<< HEAD
<<<<<<< HEAD
   "id": "a2fc4553",
=======
   "id": "f909e9ba",
>>>>>>> documentation-devel
=======
   "id": "5fc3051f",
>>>>>>> documentation-devel
=======
   "id": "1bae7a12",
>>>>>>> c9ed93f2a6d5e87fe6759d6fd26c06823f77f3f2
=======
   "id": "3c2f5c6a",
>>>>>>> documentation-devel
=======
   "id": "1ea6782b",
>>>>>>> 487d062df8c9b8a19360e92edfd0678a37ff23f4
   "metadata": {
    "lines_to_next_cell": 0
   },
   "source": [
    "Because there is no histological space, we convert the SCE object into `SpatialFeatureExperiment` (SFE) to use the spatial analysis and plotting functions from `Voyager`, and pretend that the first 2 PCs are the histological space."
   ]
  },
  {
   "cell_type": "code",
   "execution_count": null,
<<<<<<< HEAD
<<<<<<< HEAD
<<<<<<< HEAD
<<<<<<< HEAD
<<<<<<< HEAD
   "id": "bd98de01",
=======
   "id": "2df4e2df",
>>>>>>> documentation-devel
=======
   "id": "2635f079",
>>>>>>> documentation-devel
=======
   "id": "555ea134",
>>>>>>> c9ed93f2a6d5e87fe6759d6fd26c06823f77f3f2
=======
   "id": "7ab6fb98",
>>>>>>> documentation-devel
=======
   "id": "cf0c68ce",
>>>>>>> 487d062df8c9b8a19360e92edfd0678a37ff23f4
   "metadata": {},
   "outputs": [],
   "source": [
    "(sfe <- toSpatialFeatureExperiment(sce, spatialCoords = reducedDim(sce, \"PCA\")[,1:2],\n",
    "                                  spatialCoordsNames = NULL))"
   ]
  },
  {
   "cell_type": "markdown",
<<<<<<< HEAD
<<<<<<< HEAD
<<<<<<< HEAD
<<<<<<< HEAD
<<<<<<< HEAD
   "id": "b7444b88",
=======
   "id": "37f2ddd8",
>>>>>>> documentation-devel
=======
   "id": "3f02ad83",
>>>>>>> documentation-devel
=======
   "id": "0a9a732c",
>>>>>>> c9ed93f2a6d5e87fe6759d6fd26c06823f77f3f2
=======
   "id": "97d9a858",
>>>>>>> documentation-devel
=======
   "id": "4452c72b",
>>>>>>> 487d062df8c9b8a19360e92edfd0678a37ff23f4
   "metadata": {
    "lines_to_next_cell": 0
   },
   "source": [
    "Add the k nearest neighbor graph to the SFE object:"
   ]
  },
  {
   "cell_type": "code",
   "execution_count": null,
<<<<<<< HEAD
<<<<<<< HEAD
<<<<<<< HEAD
<<<<<<< HEAD
<<<<<<< HEAD
   "id": "1063d98d",
=======
   "id": "35764826",
>>>>>>> documentation-devel
=======
   "id": "64d2259c",
>>>>>>> documentation-devel
=======
   "id": "b95effeb",
>>>>>>> c9ed93f2a6d5e87fe6759d6fd26c06823f77f3f2
=======
   "id": "9d8c7570",
>>>>>>> documentation-devel
=======
   "id": "65b2d86b",
>>>>>>> 487d062df8c9b8a19360e92edfd0678a37ff23f4
   "metadata": {},
   "outputs": [],
   "source": [
    "colGraph(sfe, \"knn10\") <- listw"
   ]
  },
  {
   "cell_type": "markdown",
<<<<<<< HEAD
<<<<<<< HEAD
<<<<<<< HEAD
<<<<<<< HEAD
<<<<<<< HEAD
   "id": "e632e1bc",
=======
   "id": "b81dd62e",
>>>>>>> documentation-devel
=======
   "id": "d5bfe316",
>>>>>>> documentation-devel
=======
   "id": "294e7f76",
>>>>>>> c9ed93f2a6d5e87fe6759d6fd26c06823f77f3f2
=======
   "id": "1284b987",
>>>>>>> documentation-devel
=======
   "id": "6cc3a73f",
>>>>>>> 487d062df8c9b8a19360e92edfd0678a37ff23f4
   "metadata": {
    "lines_to_next_cell": 0
   },
   "source": [
    "## Moran's I"
   ]
  },
  {
   "cell_type": "code",
   "execution_count": null,
<<<<<<< HEAD
<<<<<<< HEAD
<<<<<<< HEAD
<<<<<<< HEAD
<<<<<<< HEAD
   "id": "5a769174",
=======
   "id": "c7c330a0",
>>>>>>> documentation-devel
=======
   "id": "6dd3fc28",
>>>>>>> documentation-devel
=======
   "id": "5b39cbc4",
>>>>>>> c9ed93f2a6d5e87fe6759d6fd26c06823f77f3f2
=======
   "id": "e22896bf",
>>>>>>> documentation-devel
=======
   "id": "ee5ade53",
>>>>>>> 487d062df8c9b8a19360e92edfd0678a37ff23f4
   "metadata": {},
   "outputs": [],
   "source": [
    "sfe <- colDataMoransI(sfe, c(\"sum\", \"detected\", \"subsets_mito_percent\"))\n",
    "colFeatureData(sfe)[c(\"sum\", \"detected\", \"subsets_mito_percent\"),]"
   ]
  },
  {
   "cell_type": "markdown",
<<<<<<< HEAD
<<<<<<< HEAD
<<<<<<< HEAD
<<<<<<< HEAD
<<<<<<< HEAD
   "id": "7d049d16",
=======
   "id": "dea88a42",
>>>>>>> documentation-devel
=======
   "id": "c54ae937",
>>>>>>> documentation-devel
=======
   "id": "4e0c604e",
>>>>>>> c9ed93f2a6d5e87fe6759d6fd26c06823f77f3f2
=======
   "id": "930f768b",
>>>>>>> documentation-devel
=======
   "id": "4d336fd4",
>>>>>>> 487d062df8c9b8a19360e92edfd0678a37ff23f4
   "metadata": {
    "lines_to_next_cell": 0
   },
   "source": [
    "For total UMI counts (sum) and genes detected (detected), Moran's I is quite strong, while it's positive but weaker for percentage of mitochondrial counts. The second column, K, is kurtosis of the feature of interest. \n",
    "\n",
    "## Moran plot\n",
    "\n",
    "How about the local variations on the k nearest neighbors graph? In the Moran plot, the x axis is the value for each cell, and the y axis is the average value among neighboring cells in the graph weighted by edge weights. The slope of the fitted line is Moran's I. Sometimes there are clusters in this plot, showing different kinds of neighborhoods."
   ]
  },
  {
   "cell_type": "code",
   "execution_count": null,
<<<<<<< HEAD
<<<<<<< HEAD
<<<<<<< HEAD
<<<<<<< HEAD
<<<<<<< HEAD
   "id": "1e4995bf",
=======
   "id": "7a80e340",
>>>>>>> documentation-devel
=======
   "id": "2bfb3417",
>>>>>>> documentation-devel
=======
   "id": "0a479738",
>>>>>>> c9ed93f2a6d5e87fe6759d6fd26c06823f77f3f2
=======
   "id": "e2615054",
>>>>>>> documentation-devel
=======
   "id": "f2edff7c",
>>>>>>> 487d062df8c9b8a19360e92edfd0678a37ff23f4
   "metadata": {},
   "outputs": [],
   "source": [
    "sfe <- colDataUnivariate(sfe, \"moran.plot\", c(\"sum\", \"detected\", \"subsets_mito_percent\"))"
   ]
  },
  {
   "cell_type": "markdown",
<<<<<<< HEAD
<<<<<<< HEAD
<<<<<<< HEAD
<<<<<<< HEAD
<<<<<<< HEAD
   "id": "00580e8a",
=======
   "id": "0c869a84",
>>>>>>> documentation-devel
=======
   "id": "a7fe27f8",
>>>>>>> documentation-devel
=======
   "id": "1295df57",
>>>>>>> c9ed93f2a6d5e87fe6759d6fd26c06823f77f3f2
=======
   "id": "9ecd7926",
>>>>>>> documentation-devel
=======
   "id": "78a9675d",
>>>>>>> 487d062df8c9b8a19360e92edfd0678a37ff23f4
   "metadata": {
    "lines_to_next_cell": 0
   },
   "source": [
    "The dashed lines are the averages on the x and y axes."
   ]
  },
  {
   "cell_type": "code",
   "execution_count": null,
<<<<<<< HEAD
<<<<<<< HEAD
<<<<<<< HEAD
<<<<<<< HEAD
<<<<<<< HEAD
   "id": "e4889026",
=======
   "id": "c4619583",
>>>>>>> documentation-devel
=======
   "id": "c9e12dd6",
>>>>>>> documentation-devel
=======
   "id": "d286fa28",
>>>>>>> c9ed93f2a6d5e87fe6759d6fd26c06823f77f3f2
=======
   "id": "d81c60b6",
>>>>>>> documentation-devel
=======
   "id": "a716dc52",
>>>>>>> 487d062df8c9b8a19360e92edfd0678a37ff23f4
   "metadata": {},
   "outputs": [],
   "source": [
    "moranPlot(sfe, \"sum\", color_by = \"cluster\")"
   ]
  },
  {
   "cell_type": "markdown",
<<<<<<< HEAD
<<<<<<< HEAD
<<<<<<< HEAD
<<<<<<< HEAD
<<<<<<< HEAD
   "id": "1bc438c8",
=======
   "id": "97fb21ac",
>>>>>>> documentation-devel
=======
   "id": "8492dbf8",
>>>>>>> documentation-devel
=======
   "id": "466e70e6",
>>>>>>> c9ed93f2a6d5e87fe6759d6fd26c06823f77f3f2
=======
   "id": "d0e39e52",
>>>>>>> documentation-devel
=======
   "id": "e3548910",
>>>>>>> 487d062df8c9b8a19360e92edfd0678a37ff23f4
   "metadata": {
    "lines_to_next_cell": 0
   },
   "source": [
    "While most cells are in the cluster around the average, there is a cluster of cells with lower total counts whose neighbors also have lower total counts. There also is a cluster of cells with higher total counts whose neighbors also have higher total counts. These clusters seem to be somewhat related to some gene expression based clusters."
   ]
  },
  {
   "cell_type": "code",
   "execution_count": null,
<<<<<<< HEAD
<<<<<<< HEAD
<<<<<<< HEAD
<<<<<<< HEAD
<<<<<<< HEAD
   "id": "610bbb95",
=======
   "id": "434edead",
>>>>>>> documentation-devel
=======
   "id": "a053cc94",
>>>>>>> documentation-devel
=======
   "id": "5e39069f",
>>>>>>> c9ed93f2a6d5e87fe6759d6fd26c06823f77f3f2
=======
   "id": "4797e5c0",
>>>>>>> documentation-devel
=======
   "id": "419cfe08",
>>>>>>> 487d062df8c9b8a19360e92edfd0678a37ff23f4
   "metadata": {},
   "outputs": [],
   "source": [
    "moranPlot(sfe, \"detected\", color_by = \"cluster\")"
   ]
  },
  {
   "cell_type": "code",
   "execution_count": null,
<<<<<<< HEAD
<<<<<<< HEAD
<<<<<<< HEAD
<<<<<<< HEAD
<<<<<<< HEAD
   "id": "928de489",
=======
   "id": "40c6adc2",
>>>>>>> documentation-devel
=======
   "id": "a33a5827",
>>>>>>> documentation-devel
=======
   "id": "edd518e2",
>>>>>>> c9ed93f2a6d5e87fe6759d6fd26c06823f77f3f2
=======
   "id": "a3d1085c",
>>>>>>> documentation-devel
=======
   "id": "f72d734b",
>>>>>>> 487d062df8c9b8a19360e92edfd0678a37ff23f4
   "metadata": {},
   "outputs": [],
   "source": [
    "moranPlot(sfe, \"subsets_mito_percent\", color_by = \"cluster\")"
   ]
  },
  {
   "cell_type": "markdown",
<<<<<<< HEAD
<<<<<<< HEAD
<<<<<<< HEAD
<<<<<<< HEAD
<<<<<<< HEAD
   "id": "551b0ed9",
=======
   "id": "e87a81bf",
>>>>>>> documentation-devel
=======
   "id": "41862b1c",
>>>>>>> documentation-devel
=======
   "id": "b0a7ddaa",
>>>>>>> c9ed93f2a6d5e87fe6759d6fd26c06823f77f3f2
=======
   "id": "bb771f5e",
>>>>>>> documentation-devel
=======
   "id": "42d4ebdd",
>>>>>>> 487d062df8c9b8a19360e92edfd0678a37ff23f4
   "metadata": {},
   "source": [
    "There is one main cluster on this plot for the number of genes detected and for the percentage of mitochondrial counts. However, cells are somewhat separated by gene expression clusters. This is not surprising because the gene expression clusters are also based on the k nearest neighbor graph. Cluster 4 cells have a higher percentage of mitochondrial counts and so do their neighbors. \n",
    "\n",
    "## Local Moran's I\n",
    "Also see local Moran's I for these 3 QC metrics:"
   ]
  },
  {
   "cell_type": "code",
   "execution_count": null,
<<<<<<< HEAD
<<<<<<< HEAD
<<<<<<< HEAD
<<<<<<< HEAD
<<<<<<< HEAD
   "id": "345151ca",
=======
   "id": "1a62cb6c",
>>>>>>> documentation-devel
=======
   "id": "61c38bda",
>>>>>>> documentation-devel
=======
   "id": "d3eef983",
>>>>>>> c9ed93f2a6d5e87fe6759d6fd26c06823f77f3f2
=======
   "id": "b7e0163a",
>>>>>>> documentation-devel
=======
   "id": "2feb678a",
>>>>>>> 487d062df8c9b8a19360e92edfd0678a37ff23f4
   "metadata": {},
   "outputs": [],
   "source": [
    "sfe <- colDataUnivariate(sfe, \"localmoran\", c(\"sum\", \"detected\", \"subsets_mito_percent\"))"
   ]
  },
  {
   "cell_type": "markdown",
<<<<<<< HEAD
<<<<<<< HEAD
<<<<<<< HEAD
<<<<<<< HEAD
<<<<<<< HEAD
   "id": "8b3de5a6",
=======
   "id": "f85e695c",
>>>>>>> documentation-devel
=======
   "id": "91ca2b77",
>>>>>>> documentation-devel
=======
   "id": "7357edc9",
>>>>>>> c9ed93f2a6d5e87fe6759d6fd26c06823f77f3f2
=======
   "id": "8fcdc7bc",
>>>>>>> documentation-devel
=======
   "id": "c45d2b16",
>>>>>>> 487d062df8c9b8a19360e92edfd0678a37ff23f4
   "metadata": {
    "lines_to_next_cell": 0
   },
   "source": [
    "Here, we don't have a histological space. So how can we visualize the local \"spatial\" statistics? [UMAP is bad](https://www.biorxiv.org/content/10.1101/2021.08.25.457696v1), but in this case PCA can somewhat separate the clusters. We can use the first 2 PCs as if they are the histological space. As a reference, we plot the metrics themselves and the clusters in the first 2 PCs. "
   ]
  },
  {
   "cell_type": "code",
   "execution_count": null,
<<<<<<< HEAD
<<<<<<< HEAD
<<<<<<< HEAD
<<<<<<< HEAD
<<<<<<< HEAD
   "id": "22227f17",
=======
   "id": "61c5e803",
>>>>>>> documentation-devel
=======
   "id": "bc5eeed3",
>>>>>>> documentation-devel
=======
   "id": "376a88c8",
>>>>>>> c9ed93f2a6d5e87fe6759d6fd26c06823f77f3f2
=======
   "id": "ccf195f9",
>>>>>>> documentation-devel
=======
   "id": "4af67ffc",
>>>>>>> 487d062df8c9b8a19360e92edfd0678a37ff23f4
   "metadata": {
    "fig.height": 6,
    "fig.width": 8
   },
   "outputs": [],
   "source": [
    "plotSpatialFeature(sfe, c(\"sum\", \"detected\", \"subsets_mito_percent\", \"cluster\"))"
   ]
  },
  {
   "cell_type": "markdown",
<<<<<<< HEAD
<<<<<<< HEAD
<<<<<<< HEAD
<<<<<<< HEAD
<<<<<<< HEAD
   "id": "e9dd2459",
=======
   "id": "3a0d9398",
>>>>>>> documentation-devel
=======
   "id": "f6c0739e",
>>>>>>> documentation-devel
=======
   "id": "d8b1fb9e",
>>>>>>> c9ed93f2a6d5e87fe6759d6fd26c06823f77f3f2
=======
   "id": "163f21d5",
>>>>>>> documentation-devel
=======
   "id": "221e7033",
>>>>>>> 487d062df8c9b8a19360e92edfd0678a37ff23f4
   "metadata": {
    "lines_to_next_cell": 0
   },
   "source": [
    "Plot the local Moran's I for these metrics in the first 2 PCs:"
   ]
  },
  {
   "cell_type": "code",
   "execution_count": null,
<<<<<<< HEAD
<<<<<<< HEAD
<<<<<<< HEAD
<<<<<<< HEAD
<<<<<<< HEAD
   "id": "ef4182df",
=======
   "id": "da688ee9",
>>>>>>> documentation-devel
=======
   "id": "3921567d",
>>>>>>> documentation-devel
=======
   "id": "4d958580",
>>>>>>> c9ed93f2a6d5e87fe6759d6fd26c06823f77f3f2
=======
   "id": "f5afb08c",
>>>>>>> documentation-devel
=======
   "id": "def82641",
>>>>>>> 487d062df8c9b8a19360e92edfd0678a37ff23f4
   "metadata": {
    "fig.height": 6,
    "fig.width": 8
   },
   "outputs": [],
   "source": [
    "plotLocalResult(sfe, \"localmoran\", c(\"sum\", \"detected\", \"subsets_mito_percent\"), \n",
    "                colGeometryName = \"centroids\",\n",
    "                divergent = TRUE, diverge_center = 0, ncol = 2)"
   ]
  },
  {
   "cell_type": "markdown",
<<<<<<< HEAD
<<<<<<< HEAD
<<<<<<< HEAD
<<<<<<< HEAD
<<<<<<< HEAD
   "id": "c49a372b",
=======
   "id": "204f13ce",
>>>>>>> documentation-devel
=======
   "id": "f837849d",
>>>>>>> documentation-devel
=======
   "id": "5d08a2d9",
>>>>>>> c9ed93f2a6d5e87fe6759d6fd26c06823f77f3f2
=======
   "id": "4123e87f",
>>>>>>> documentation-devel
=======
   "id": "ecec33c0",
>>>>>>> 487d062df8c9b8a19360e92edfd0678a37ff23f4
   "metadata": {
    "lines_to_next_cell": 0
   },
   "source": [
    "However, what if there is no good 2D representation of the data for easy plotting? Remember that here the k nearest neighbor graph was computed on the first 10 PCs rather than the first 2 PCs. The graph is not tied to the 2D representation. We can still plot histograms to show the distribution and scatter plots to compare the same local metric for different variables, which can be colored by another variable such as cluster. This may be added to the next release of Voyager. For now, we add the results of interest to `colData(sfe)` and use the existing `colData` plotting functions from `scater` and `Voyager`."
   ]
  },
  {
   "cell_type": "code",
   "execution_count": null,
<<<<<<< HEAD
<<<<<<< HEAD
<<<<<<< HEAD
<<<<<<< HEAD
<<<<<<< HEAD
   "id": "181a3661",
=======
   "id": "7f257a4a",
>>>>>>> documentation-devel
=======
   "id": "166620d4",
>>>>>>> documentation-devel
=======
   "id": "9d763243",
>>>>>>> c9ed93f2a6d5e87fe6759d6fd26c06823f77f3f2
=======
   "id": "6d4b052e",
>>>>>>> documentation-devel
=======
   "id": "ca0845fe",
>>>>>>> 487d062df8c9b8a19360e92edfd0678a37ff23f4
   "metadata": {},
   "outputs": [],
   "source": [
    "localResultAttrs(sfe, \"localmoran\", \"sum\")"
   ]
  },
  {
   "cell_type": "code",
   "execution_count": null,
<<<<<<< HEAD
<<<<<<< HEAD
<<<<<<< HEAD
<<<<<<< HEAD
<<<<<<< HEAD
   "id": "25d7b9ca",
=======
   "id": "4c53f7d5",
>>>>>>> documentation-devel
=======
   "id": "7c3e7c43",
>>>>>>> documentation-devel
=======
   "id": "e7a29a25",
>>>>>>> c9ed93f2a6d5e87fe6759d6fd26c06823f77f3f2
=======
   "id": "23d06a6d",
>>>>>>> documentation-devel
=======
   "id": "678e9e04",
>>>>>>> 487d062df8c9b8a19360e92edfd0678a37ff23f4
   "metadata": {},
   "outputs": [],
   "source": [
    "sfe$sum_localmoran <- localResult(sfe, \"localmoran\", \"sum\")[,\"Ii\"]\n",
    "sfe$detected_localmoran <- localResult(sfe, \"localmoran\", \"detected\")[,\"Ii\"]\n",
    "sfe$pct_mito_localmoran <- localResult(sfe, \"localmoran\", \"subsets_mito_percent\")[,\"Ii\"]"
   ]
  },
  {
   "cell_type": "code",
   "execution_count": null,
<<<<<<< HEAD
<<<<<<< HEAD
<<<<<<< HEAD
<<<<<<< HEAD
<<<<<<< HEAD
   "id": "36eaf0dc",
=======
   "id": "5a72e87f",
>>>>>>> documentation-devel
=======
   "id": "bcff44d5",
>>>>>>> documentation-devel
=======
   "id": "9b37a58c",
>>>>>>> c9ed93f2a6d5e87fe6759d6fd26c06823f77f3f2
=======
   "id": "66f53344",
>>>>>>> documentation-devel
=======
   "id": "c78c23a0",
>>>>>>> 487d062df8c9b8a19360e92edfd0678a37ff23f4
   "metadata": {},
   "outputs": [],
   "source": [
    "# Colorblind friendly palette\n",
    "data(\"ditto_colors\")"
   ]
  },
  {
   "cell_type": "code",
   "execution_count": null,
<<<<<<< HEAD
<<<<<<< HEAD
<<<<<<< HEAD
<<<<<<< HEAD
<<<<<<< HEAD
   "id": "feef8e4c",
=======
   "id": "9505593f",
>>>>>>> documentation-devel
=======
   "id": "058b5e83",
>>>>>>> documentation-devel
=======
   "id": "679b2f5e",
>>>>>>> c9ed93f2a6d5e87fe6759d6fd26c06823f77f3f2
=======
   "id": "c332dc37",
>>>>>>> documentation-devel
=======
   "id": "47068f5c",
>>>>>>> 487d062df8c9b8a19360e92edfd0678a37ff23f4
   "metadata": {},
   "outputs": [],
   "source": [
    "plotColDataFreqpoly(sfe, c(\"sum_localmoran\", \"detected_localmoran\", \n",
    "                           \"pct_mito_localmoran\"), bins = 50, \n",
    "                    color_by = \"cluster\") +\n",
    "    scale_y_log10() +\n",
    "    annotation_logticks(sides = \"l\")"
   ]
  },
  {
   "cell_type": "markdown",
<<<<<<< HEAD
<<<<<<< HEAD
<<<<<<< HEAD
<<<<<<< HEAD
<<<<<<< HEAD
   "id": "d4a8d633",
=======
   "id": "9985416c",
>>>>>>> documentation-devel
=======
   "id": "dfa58974",
>>>>>>> documentation-devel
=======
   "id": "fb22eb9f",
>>>>>>> c9ed93f2a6d5e87fe6759d6fd26c06823f77f3f2
=======
   "id": "aa83a2f0",
>>>>>>> documentation-devel
=======
   "id": "61366fa1",
>>>>>>> 487d062df8c9b8a19360e92edfd0678a37ff23f4
   "metadata": {},
   "source": [
    "The y axis is log transformed (hence that warning when some bins have no cells), so the color of cells in the long tail can be seen because most cells don't have very strong local Moran's I. Cells in cluster 7 have high local Moran's I in total UMI counts and genes detected, which means that they tend to be more homogeneous in these QC metrics.\n",
    "\n",
    "How do local Moran's I for these QC metrics relate to each other?"
   ]
  },
  {
   "cell_type": "code",
   "execution_count": null,
<<<<<<< HEAD
<<<<<<< HEAD
<<<<<<< HEAD
<<<<<<< HEAD
<<<<<<< HEAD
   "id": "8a6df368",
=======
   "id": "1b932766",
>>>>>>> documentation-devel
=======
   "id": "567567f3",
>>>>>>> documentation-devel
=======
   "id": "bf9813f9",
>>>>>>> c9ed93f2a6d5e87fe6759d6fd26c06823f77f3f2
=======
   "id": "909e359f",
>>>>>>> documentation-devel
=======
   "id": "42c22b95",
>>>>>>> 487d062df8c9b8a19360e92edfd0678a37ff23f4
   "metadata": {},
   "outputs": [],
   "source": [
    "plotColData(sfe, x = \"sum_localmoran\", y = \"detected_localmoran\", \n",
    "            color_by = \"cluster\") +\n",
    "    scale_color_manual(values = ditto_colors)"
   ]
  },
  {
   "cell_type": "markdown",
<<<<<<< HEAD
<<<<<<< HEAD
<<<<<<< HEAD
<<<<<<< HEAD
<<<<<<< HEAD
   "id": "5a15488b",
=======
   "id": "f10b3b76",
>>>>>>> documentation-devel
=======
   "id": "f679aead",
>>>>>>> documentation-devel
=======
   "id": "3973dac4",
>>>>>>> c9ed93f2a6d5e87fe6759d6fd26c06823f77f3f2
=======
   "id": "d433f1af",
>>>>>>> documentation-devel
=======
   "id": "ad734edd",
>>>>>>> 487d062df8c9b8a19360e92edfd0678a37ff23f4
   "metadata": {},
   "source": [
    "Cells more locally homogeneous in total UMI counts are also more homogeneous in number of genes detected, which is not surprising given the correlation between the two."
   ]
  },
  {
   "cell_type": "code",
   "execution_count": null,
<<<<<<< HEAD
<<<<<<< HEAD
<<<<<<< HEAD
<<<<<<< HEAD
<<<<<<< HEAD
   "id": "9e7fa40d",
=======
   "id": "4d6e2b4b",
>>>>>>> documentation-devel
=======
   "id": "879df721",
>>>>>>> documentation-devel
=======
   "id": "826cac20",
>>>>>>> c9ed93f2a6d5e87fe6759d6fd26c06823f77f3f2
=======
   "id": "dc5bc8bc",
>>>>>>> documentation-devel
=======
   "id": "4d469cb2",
>>>>>>> 487d062df8c9b8a19360e92edfd0678a37ff23f4
   "metadata": {},
   "outputs": [],
   "source": [
    "plotColData(sfe, x = \"sum_localmoran\", y = \"pct_mito_localmoran\", \n",
    "            color_by = \"cluster\") +\n",
    "    scale_color_manual(values = ditto_colors)"
   ]
  },
  {
   "cell_type": "markdown",
<<<<<<< HEAD
<<<<<<< HEAD
<<<<<<< HEAD
<<<<<<< HEAD
<<<<<<< HEAD
   "id": "943fe3a4",
=======
   "id": "108565ce",
>>>>>>> documentation-devel
=======
   "id": "d1a950e9",
>>>>>>> documentation-devel
=======
   "id": "7ae253b9",
>>>>>>> c9ed93f2a6d5e87fe6759d6fd26c06823f77f3f2
=======
   "id": "bdbb70c3",
>>>>>>> documentation-devel
=======
   "id": "63524c89",
>>>>>>> 487d062df8c9b8a19360e92edfd0678a37ff23f4
   "metadata": {
    "lines_to_next_cell": 0
   },
   "source": [
    "For local Moran's I, `sum` vs percentage mitochondrial counts shows a more interesting pattern, highlighting clusters 4 and 7 as in the Moran plots.\n",
    "\n",
    "How does local Moran's I relate to the value itself?"
   ]
  },
  {
   "cell_type": "code",
   "execution_count": null,
<<<<<<< HEAD
<<<<<<< HEAD
<<<<<<< HEAD
<<<<<<< HEAD
<<<<<<< HEAD
   "id": "0b243131",
=======
   "id": "3924672e",
>>>>>>> documentation-devel
=======
   "id": "9fa6ae63",
>>>>>>> documentation-devel
=======
   "id": "7b64fb15",
>>>>>>> c9ed93f2a6d5e87fe6759d6fd26c06823f77f3f2
=======
   "id": "0325bf7a",
>>>>>>> documentation-devel
=======
   "id": "9304677c",
>>>>>>> 487d062df8c9b8a19360e92edfd0678a37ff23f4
   "metadata": {},
   "outputs": [],
   "source": [
    "plotColData(sfe, x = \"sum\", y = \"sum_localmoran\", color_by = \"cluster\") +\n",
    "    geom_density2d(data = as.data.frame(colData(sfe)),\n",
    "                   mapping = aes(x = sum, y = sum_localmoran), color = \"blue\", \n",
    "                   linewidth = 0.3) +\n",
    "    scale_color_manual(values = ditto_colors)"
   ]
  },
  {
   "cell_type": "markdown",
<<<<<<< HEAD
<<<<<<< HEAD
<<<<<<< HEAD
<<<<<<< HEAD
<<<<<<< HEAD
   "id": "db6c79b3",
=======
   "id": "a469912b",
>>>>>>> documentation-devel
=======
   "id": "c1a398de",
>>>>>>> documentation-devel
=======
   "id": "8d3401a5",
>>>>>>> c9ed93f2a6d5e87fe6759d6fd26c06823f77f3f2
=======
   "id": "072a34da",
>>>>>>> documentation-devel
=======
   "id": "905bc972",
>>>>>>> 487d062df8c9b8a19360e92edfd0678a37ff23f4
   "metadata": {
    "lines_to_next_cell": 0
   },
   "source": [
    "In this case, generally cells with higher total counts also tend to have higher local Moran's I in total counts. However, there is another wing where cells with lower total counts have slightly higher local Moran's I in total counts and there's a central value of total counts with near 0 local Moran's I. The density contour shows that cells are concentrated at that central value.\n",
    "\n",
    "## Local spatial heteroscedasticity (LOSH)\n",
    "\n",
    "LOSH indicates heterogeneity around each cell in the k nearest neighbor graph."
   ]
  },
  {
   "cell_type": "code",
   "execution_count": null,
<<<<<<< HEAD
<<<<<<< HEAD
<<<<<<< HEAD
<<<<<<< HEAD
<<<<<<< HEAD
   "id": "6f30510e",
=======
   "id": "382796d0",
>>>>>>> documentation-devel
=======
   "id": "b09a7fac",
>>>>>>> documentation-devel
=======
   "id": "ab1d22a5",
>>>>>>> c9ed93f2a6d5e87fe6759d6fd26c06823f77f3f2
=======
   "id": "c34a8160",
>>>>>>> documentation-devel
=======
   "id": "60802fda",
>>>>>>> 487d062df8c9b8a19360e92edfd0678a37ff23f4
   "metadata": {},
   "outputs": [],
   "source": [
    "sfe <- colDataUnivariate(sfe, \"LOSH\", c(\"sum\", \"detected\", \"subsets_mito_percent\"))"
   ]
  },
  {
   "cell_type": "code",
   "execution_count": null,
<<<<<<< HEAD
<<<<<<< HEAD
<<<<<<< HEAD
<<<<<<< HEAD
<<<<<<< HEAD
   "id": "c3c140a0",
=======
   "id": "97701ee0",
>>>>>>> documentation-devel
=======
   "id": "79235f21",
>>>>>>> documentation-devel
=======
   "id": "fd181727",
>>>>>>> c9ed93f2a6d5e87fe6759d6fd26c06823f77f3f2
=======
   "id": "b21f7400",
>>>>>>> documentation-devel
=======
   "id": "496cdffc",
>>>>>>> 487d062df8c9b8a19360e92edfd0678a37ff23f4
   "metadata": {
    "fig.height": 6,
    "fig.width": 8
   },
   "outputs": [],
   "source": [
    "plotLocalResult(sfe, \"LOSH\", c(\"sum\", \"detected\", \"subsets_mito_percent\"), \n",
    "                colGeometryName = \"centroids\", ncol = 2)"
   ]
  },
  {
   "cell_type": "markdown",
<<<<<<< HEAD
<<<<<<< HEAD
<<<<<<< HEAD
<<<<<<< HEAD
<<<<<<< HEAD
   "id": "16537beb",
=======
   "id": "59d27d00",
>>>>>>> documentation-devel
=======
   "id": "ecc6b212",
>>>>>>> documentation-devel
=======
   "id": "4b8740fd",
>>>>>>> c9ed93f2a6d5e87fe6759d6fd26c06823f77f3f2
=======
   "id": "8f95791d",
>>>>>>> documentation-devel
=======
   "id": "1834085d",
>>>>>>> 487d062df8c9b8a19360e92edfd0678a37ff23f4
   "metadata": {},
   "source": [
    "Here we make the same non-spatial plots for LOSH as in local Moran's I."
   ]
  },
  {
   "cell_type": "code",
   "execution_count": null,
<<<<<<< HEAD
<<<<<<< HEAD
<<<<<<< HEAD
<<<<<<< HEAD
<<<<<<< HEAD
   "id": "f6ffd776",
=======
   "id": "a58cbed2",
>>>>>>> documentation-devel
=======
   "id": "2801650f",
>>>>>>> documentation-devel
=======
   "id": "4ad8dff9",
>>>>>>> c9ed93f2a6d5e87fe6759d6fd26c06823f77f3f2
=======
   "id": "8054cab5",
>>>>>>> documentation-devel
=======
   "id": "fb591501",
>>>>>>> 487d062df8c9b8a19360e92edfd0678a37ff23f4
   "metadata": {},
   "outputs": [],
   "source": [
    "localResultAttrs(sfe, \"LOSH\", \"sum\")"
   ]
  },
  {
   "cell_type": "code",
   "execution_count": null,
<<<<<<< HEAD
<<<<<<< HEAD
<<<<<<< HEAD
<<<<<<< HEAD
<<<<<<< HEAD
   "id": "579948a7",
=======
   "id": "7e3eb935",
>>>>>>> documentation-devel
=======
   "id": "8e56aacd",
>>>>>>> documentation-devel
=======
   "id": "f72f9f76",
>>>>>>> c9ed93f2a6d5e87fe6759d6fd26c06823f77f3f2
=======
   "id": "4eff4c88",
>>>>>>> documentation-devel
=======
   "id": "3a390146",
>>>>>>> 487d062df8c9b8a19360e92edfd0678a37ff23f4
   "metadata": {},
   "outputs": [],
   "source": [
    "sfe$sum_losh <- localResult(sfe, \"LOSH\", \"sum\")[,\"Hi\"]\n",
    "sfe$detected_losh <- localResult(sfe, \"LOSH\", \"detected\")[,\"Hi\"]\n",
    "sfe$pct_mito_losh <- localResult(sfe, \"LOSH\", \"subsets_mito_percent\")[,\"Hi\"]"
   ]
  },
  {
   "cell_type": "code",
   "execution_count": null,
<<<<<<< HEAD
<<<<<<< HEAD
<<<<<<< HEAD
<<<<<<< HEAD
<<<<<<< HEAD
   "id": "2d2d88d1",
=======
   "id": "b3783ef5",
>>>>>>> documentation-devel
=======
   "id": "a4f117c9",
>>>>>>> documentation-devel
=======
   "id": "06fae192",
>>>>>>> c9ed93f2a6d5e87fe6759d6fd26c06823f77f3f2
=======
   "id": "cdb6562d",
>>>>>>> documentation-devel
=======
   "id": "16d313e6",
>>>>>>> 487d062df8c9b8a19360e92edfd0678a37ff23f4
   "metadata": {},
   "outputs": [],
   "source": [
    "plotColDataFreqpoly(sfe, c(\"sum_losh\", \"detected_losh\", \n",
    "                           \"pct_mito_losh\"), bins = 50, \n",
    "                     color_by = \"cluster\") +\n",
    "    scale_y_log10() +\n",
    "    annotation_logticks(sides = \"l\")"
   ]
  },
  {
   "cell_type": "markdown",
<<<<<<< HEAD
<<<<<<< HEAD
<<<<<<< HEAD
<<<<<<< HEAD
<<<<<<< HEAD
   "id": "7f9ef39e",
=======
   "id": "a421f77e",
>>>>>>> documentation-devel
=======
   "id": "825a07b4",
>>>>>>> documentation-devel
=======
   "id": "4f1badc4",
>>>>>>> c9ed93f2a6d5e87fe6759d6fd26c06823f77f3f2
=======
   "id": "f9094c30",
>>>>>>> documentation-devel
=======
   "id": "0788751f",
>>>>>>> 487d062df8c9b8a19360e92edfd0678a37ff23f4
   "metadata": {},
   "source": [
    "Here, clusters 2 and 6 tend to be more locally heterogeneous. How do total counts and genes detected relate in LOSH?"
   ]
  },
  {
   "cell_type": "code",
   "execution_count": null,
<<<<<<< HEAD
<<<<<<< HEAD
<<<<<<< HEAD
<<<<<<< HEAD
<<<<<<< HEAD
   "id": "9fb05b93",
=======
   "id": "5b79f85b",
>>>>>>> documentation-devel
=======
   "id": "be8ef65a",
>>>>>>> documentation-devel
=======
   "id": "15cb00b2",
>>>>>>> c9ed93f2a6d5e87fe6759d6fd26c06823f77f3f2
=======
   "id": "ba611b37",
>>>>>>> documentation-devel
=======
   "id": "04e43a7a",
>>>>>>> 487d062df8c9b8a19360e92edfd0678a37ff23f4
   "metadata": {},
   "outputs": [],
   "source": [
    "plotColData(sfe, x = \"sum_losh\", y = \"detected_losh\", color_by = \"cluster\") +\n",
    "    scale_color_manual(values = ditto_colors)"
   ]
  },
  {
   "cell_type": "markdown",
<<<<<<< HEAD
<<<<<<< HEAD
<<<<<<< HEAD
<<<<<<< HEAD
<<<<<<< HEAD
   "id": "f4006180",
=======
   "id": "511c057d",
>>>>>>> documentation-devel
=======
   "id": "fb32666f",
>>>>>>> documentation-devel
=======
   "id": "fe75093f",
>>>>>>> c9ed93f2a6d5e87fe6759d6fd26c06823f77f3f2
=======
   "id": "24a79b4b",
>>>>>>> documentation-devel
=======
   "id": "a7d28edf",
>>>>>>> 487d062df8c9b8a19360e92edfd0678a37ff23f4
   "metadata": {},
   "source": [
    "While generally cells higher in LOSH in total counts are also higher in LOSH in genes detected, there are some outliers that are very high in both, with more heterogeneous neighborhoods. Absolute distance to the neighbors is not taken into account when the adjacency matrix is row normalized. It would be interesting to see if those outliers tend to be further away from their 10 nearest neighbors, or in a region in the PCA space where cells are further apart.\n",
    "\n",
    "How does total counts itself relate to its LOSH?"
   ]
  },
  {
   "cell_type": "code",
   "execution_count": null,
<<<<<<< HEAD
<<<<<<< HEAD
<<<<<<< HEAD
<<<<<<< HEAD
<<<<<<< HEAD
   "id": "b100b5dc",
=======
   "id": "82e38d19",
>>>>>>> documentation-devel
=======
   "id": "3d1f9324",
>>>>>>> documentation-devel
=======
   "id": "d7d15f7e",
>>>>>>> c9ed93f2a6d5e87fe6759d6fd26c06823f77f3f2
=======
   "id": "013ca372",
>>>>>>> documentation-devel
=======
   "id": "200c9f4e",
>>>>>>> 487d062df8c9b8a19360e92edfd0678a37ff23f4
   "metadata": {},
   "outputs": [],
   "source": [
    "plotColData(sfe, x = \"sum\", y = \"sum_losh\", color_by = \"cluster\") +\n",
    "    scale_color_manual(values = ditto_colors)"
   ]
  },
  {
   "cell_type": "markdown",
<<<<<<< HEAD
<<<<<<< HEAD
<<<<<<< HEAD
<<<<<<< HEAD
<<<<<<< HEAD
   "id": "b1e57667",
=======
   "id": "4f493caa",
>>>>>>> documentation-devel
=======
   "id": "47061ba9",
>>>>>>> documentation-devel
=======
   "id": "14e5775c",
>>>>>>> c9ed93f2a6d5e87fe6759d6fd26c06823f77f3f2
=======
   "id": "9a4634b8",
>>>>>>> documentation-devel
=======
   "id": "0d92da61",
>>>>>>> 487d062df8c9b8a19360e92edfd0678a37ff23f4
   "metadata": {
    "lines_to_next_cell": 0
   },
   "source": [
    "There does not seem to be a clear relationship in this case. \n",
    "\n",
    "# \"Spatial\" analyses for gene expression\n",
    "First, we need to reorganize the differential expression results:"
   ]
  },
  {
   "cell_type": "code",
   "execution_count": null,
<<<<<<< HEAD
<<<<<<< HEAD
<<<<<<< HEAD
<<<<<<< HEAD
<<<<<<< HEAD
   "id": "38c55d24",
=======
   "id": "75a9fdf5",
>>>>>>> documentation-devel
=======
   "id": "7215f04a",
>>>>>>> documentation-devel
=======
   "id": "99a0e8c3",
>>>>>>> c9ed93f2a6d5e87fe6759d6fd26c06823f77f3f2
=======
   "id": "71d8a28f",
>>>>>>> documentation-devel
=======
   "id": "30d4877d",
>>>>>>> 487d062df8c9b8a19360e92edfd0678a37ff23f4
   "metadata": {},
   "outputs": [],
   "source": [
    "top_markers_df <- lapply(seq_along(markers), function(i) {\n",
    "    out <- markers[[i]][markers[[i]]$FDR < 0.05, c(\"FDR\", \"summary.AUC\")]\n",
    "    if (nrow(out)) out$cluster <- i\n",
    "    out\n",
    "})\n",
    "top_markers_df <- do.call(rbind, top_markers_df)\n",
    "top_markers_df$symbol <- rowData(sce)[rownames(top_markers_df), \"Symbol\"]"
   ]
  },
  {
   "cell_type": "markdown",
<<<<<<< HEAD
<<<<<<< HEAD
<<<<<<< HEAD
<<<<<<< HEAD
<<<<<<< HEAD
   "id": "997aa02b",
=======
   "id": "dd6c10ac",
>>>>>>> documentation-devel
=======
   "id": "45d00f28",
>>>>>>> documentation-devel
=======
   "id": "cfd1db14",
>>>>>>> c9ed93f2a6d5e87fe6759d6fd26c06823f77f3f2
=======
   "id": "b346c9a2",
>>>>>>> documentation-devel
=======
   "id": "c5510cc5",
>>>>>>> 487d062df8c9b8a19360e92edfd0678a37ff23f4
   "metadata": {
    "lines_to_next_cell": 0
   },
   "source": [
    "## Moran's I"
   ]
  },
  {
   "cell_type": "code",
   "execution_count": null,
<<<<<<< HEAD
<<<<<<< HEAD
<<<<<<< HEAD
<<<<<<< HEAD
<<<<<<< HEAD
   "id": "52fac9e4",
=======
   "id": "1bf86dd8",
>>>>>>> documentation-devel
=======
   "id": "460c78f3",
>>>>>>> documentation-devel
=======
   "id": "e00f8f02",
>>>>>>> c9ed93f2a6d5e87fe6759d6fd26c06823f77f3f2
=======
   "id": "6329939f",
>>>>>>> documentation-devel
=======
   "id": "176b0772",
>>>>>>> 487d062df8c9b8a19360e92edfd0678a37ff23f4
   "metadata": {},
   "outputs": [],
   "source": [
    "sfe <- runMoransI(sfe, features = hvgs, BPPARAM = MulticoreParam(2))"
   ]
  },
  {
   "cell_type": "markdown",
<<<<<<< HEAD
<<<<<<< HEAD
<<<<<<< HEAD
<<<<<<< HEAD
<<<<<<< HEAD
   "id": "7d1268bf",
=======
   "id": "3088fb7a",
>>>>>>> documentation-devel
=======
   "id": "0cdc0051",
>>>>>>> documentation-devel
=======
   "id": "124299e6",
>>>>>>> c9ed93f2a6d5e87fe6759d6fd26c06823f77f3f2
=======
   "id": "125d5100",
>>>>>>> documentation-devel
=======
   "id": "4d6e3f83",
>>>>>>> 487d062df8c9b8a19360e92edfd0678a37ff23f4
   "metadata": {
    "lines_to_next_cell": 0
   },
   "source": [
    "The results are added to `rowData(sfe)`. The NA's are for non-highly variable genes, as Moran's I was only computed for highly variable genes here."
   ]
  },
  {
   "cell_type": "code",
   "execution_count": null,
<<<<<<< HEAD
<<<<<<< HEAD
<<<<<<< HEAD
<<<<<<< HEAD
<<<<<<< HEAD
   "id": "473d20a4",
=======
   "id": "4d8c2516",
>>>>>>> documentation-devel
=======
   "id": "110bfcb1",
>>>>>>> documentation-devel
=======
   "id": "5b7bf10a",
>>>>>>> c9ed93f2a6d5e87fe6759d6fd26c06823f77f3f2
=======
   "id": "3c8fd938",
>>>>>>> documentation-devel
=======
   "id": "91cc4ce2",
>>>>>>> 487d062df8c9b8a19360e92edfd0678a37ff23f4
   "metadata": {},
   "outputs": [],
   "source": [
    "rowData(sfe)"
   ]
  },
  {
   "cell_type": "markdown",
<<<<<<< HEAD
<<<<<<< HEAD
<<<<<<< HEAD
<<<<<<< HEAD
<<<<<<< HEAD
   "id": "1245276d",
=======
   "id": "a04723a9",
>>>>>>> documentation-devel
=======
   "id": "7a1cb5e5",
>>>>>>> documentation-devel
=======
   "id": "d7bd4945",
>>>>>>> c9ed93f2a6d5e87fe6759d6fd26c06823f77f3f2
=======
   "id": "5da3a36f",
>>>>>>> documentation-devel
=======
   "id": "22c72b8f",
>>>>>>> 487d062df8c9b8a19360e92edfd0678a37ff23f4
   "metadata": {
    "lines_to_next_cell": 0
   },
   "source": [
    "How are the Moran's I's for highly variable genes distributed? Also, where are the top cluster marker genes in this distribution?"
   ]
  },
  {
   "cell_type": "code",
   "execution_count": null,
<<<<<<< HEAD
<<<<<<< HEAD
<<<<<<< HEAD
<<<<<<< HEAD
<<<<<<< HEAD
   "id": "50ef7d30",
=======
   "id": "34c96781",
>>>>>>> documentation-devel
=======
   "id": "4d84b859",
>>>>>>> documentation-devel
=======
   "id": "5ee74d4c",
>>>>>>> c9ed93f2a6d5e87fe6759d6fd26c06823f77f3f2
=======
   "id": "bfd08e21",
>>>>>>> documentation-devel
=======
   "id": "ebb2c593",
>>>>>>> 487d062df8c9b8a19360e92edfd0678a37ff23f4
   "metadata": {},
   "outputs": [],
   "source": [
    "plotRowDataHistogram(sfe, \"moran_sample01\", bins = 50) +\n",
    "    geom_vline(data = as.data.frame(rowData(sfe)[top_markers,]) |> \n",
    "                   mutate(index = seq_along(top_markers)),\n",
    "               aes(xintercept = moran_sample01, color = index)) +\n",
    "    scale_color_continuous(breaks = scales::breaks_width(2))"
   ]
  },
  {
   "cell_type": "markdown",
<<<<<<< HEAD
<<<<<<< HEAD
<<<<<<< HEAD
<<<<<<< HEAD
<<<<<<< HEAD
   "id": "0ecf1296",
=======
   "id": "f36bce1a",
>>>>>>> documentation-devel
=======
   "id": "d8230bdf",
>>>>>>> documentation-devel
=======
   "id": "c4d7eeee",
>>>>>>> c9ed93f2a6d5e87fe6759d6fd26c06823f77f3f2
=======
   "id": "c15f7ac2",
>>>>>>> documentation-devel
=======
   "id": "119a208d",
>>>>>>> 487d062df8c9b8a19360e92edfd0678a37ff23f4
   "metadata": {},
   "source": [
    "The top marker genes all have quite positive Moran's I on the k nearest neighbor graph. It would also be interesting to color this histogram by gene sets. Since the k nearest neighbor graph was found in PCA space, which is based on gene expression, as expected, Moran's I with this graph is mostly positive, although often not that strong. A small number of genes have slightly negative Moran's I. What do the top genes look like in PCA?"
   ]
  },
  {
   "cell_type": "code",
   "execution_count": null,
<<<<<<< HEAD
<<<<<<< HEAD
<<<<<<< HEAD
<<<<<<< HEAD
<<<<<<< HEAD
   "id": "227e3c78",
=======
   "id": "e82baeed",
>>>>>>> documentation-devel
=======
   "id": "e20d781b",
>>>>>>> documentation-devel
=======
   "id": "d2c83c51",
>>>>>>> c9ed93f2a6d5e87fe6759d6fd26c06823f77f3f2
=======
   "id": "2cdf4893",
>>>>>>> documentation-devel
=======
   "id": "9aa45ee7",
>>>>>>> 487d062df8c9b8a19360e92edfd0678a37ff23f4
   "metadata": {
    "fig.height": 6,
    "fig.width": 8
   },
   "outputs": [],
   "source": [
    "top_moran <- head(rownames(sfe)[order(rowData(sfe)$moran_sample01, decreasing = TRUE)], 4)\n",
    "plotSpatialFeature(sfe, top_moran, ncol = 2)"
   ]
  },
  {
   "cell_type": "code",
   "execution_count": null,
<<<<<<< HEAD
<<<<<<< HEAD
<<<<<<< HEAD
<<<<<<< HEAD
<<<<<<< HEAD
   "id": "6a51be7d",
=======
   "id": "464ba440",
>>>>>>> documentation-devel
=======
   "id": "76e43f1b",
>>>>>>> documentation-devel
=======
   "id": "09bf7acc",
>>>>>>> c9ed93f2a6d5e87fe6759d6fd26c06823f77f3f2
=======
   "id": "7342597e",
>>>>>>> documentation-devel
=======
   "id": "8206c826",
>>>>>>> 487d062df8c9b8a19360e92edfd0678a37ff23f4
   "metadata": {},
   "outputs": [],
   "source": [
    "top_moran_symbol <- rowData(sfe)[top_moran, \"Symbol\"]\n",
    "plotExpression(sfe, top_moran_symbol, swap_rownames = \"Symbol\")"
   ]
  },
  {
   "cell_type": "markdown",
<<<<<<< HEAD
<<<<<<< HEAD
<<<<<<< HEAD
<<<<<<< HEAD
<<<<<<< HEAD
   "id": "a15130d2",
=======
   "id": "c9f38e6c",
>>>>>>> documentation-devel
=======
   "id": "e633ad71",
>>>>>>> documentation-devel
=======
   "id": "372a9a2e",
>>>>>>> c9ed93f2a6d5e87fe6759d6fd26c06823f77f3f2
=======
   "id": "4fe46543",
>>>>>>> documentation-devel
=======
   "id": "e7807ff1",
>>>>>>> 487d062df8c9b8a19360e92edfd0678a37ff23f4
   "metadata": {},
   "source": [
    "They are all marker genes for the same cluster, cluster 9. Perhaps these genes have high Moran's I because they are specific to a cell type. Then how does the Moran's I relate to cluster AUC and cluster differential expression p-value?"
   ]
  },
  {
   "cell_type": "code",
   "execution_count": null,
<<<<<<< HEAD
<<<<<<< HEAD
<<<<<<< HEAD
<<<<<<< HEAD
<<<<<<< HEAD
   "id": "7661d6a7",
=======
   "id": "9671a353",
>>>>>>> documentation-devel
=======
   "id": "0b6354ea",
>>>>>>> documentation-devel
=======
   "id": "0ae475ff",
>>>>>>> c9ed93f2a6d5e87fe6759d6fd26c06823f77f3f2
=======
   "id": "1463d6e2",
>>>>>>> documentation-devel
=======
   "id": "1a9f380a",
>>>>>>> 487d062df8c9b8a19360e92edfd0678a37ff23f4
   "metadata": {},
   "outputs": [],
   "source": [
    "# See if markers are unique to clusters\n",
    "anyDuplicated(rownames(top_markers_df))"
   ]
  },
  {
   "cell_type": "code",
   "execution_count": null,
<<<<<<< HEAD
<<<<<<< HEAD
<<<<<<< HEAD
<<<<<<< HEAD
<<<<<<< HEAD
   "id": "fea043bf",
=======
   "id": "4ebc0b84",
>>>>>>> documentation-devel
=======
   "id": "bf901185",
>>>>>>> documentation-devel
=======
   "id": "e81ec687",
>>>>>>> c9ed93f2a6d5e87fe6759d6fd26c06823f77f3f2
=======
   "id": "483f49b8",
>>>>>>> documentation-devel
=======
   "id": "d231a083",
>>>>>>> 487d062df8c9b8a19360e92edfd0678a37ff23f4
   "metadata": {},
   "outputs": [],
   "source": [
    "top_markers_df$moran <- rowData(sfe)[rownames(top_markers_df), \"moran_sample01\"]\n",
    "top_markers_df$log_p_adj <- -log10(top_markers_df$FDR)\n",
    "top_markers_df$cluster <- factor(top_markers_df$cluster, \n",
    "                                 levels = seq_len(length(unique(top_markers_df$cluster))))"
   ]
  },
  {
   "cell_type": "markdown",
<<<<<<< HEAD
<<<<<<< HEAD
<<<<<<< HEAD
<<<<<<< HEAD
<<<<<<< HEAD
   "id": "8af8ce57",
=======
   "id": "a533eea6",
>>>>>>> documentation-devel
=======
   "id": "baf05874",
>>>>>>> documentation-devel
=======
   "id": "bf19146a",
>>>>>>> c9ed93f2a6d5e87fe6759d6fd26c06823f77f3f2
=======
   "id": "ce5b5567",
>>>>>>> documentation-devel
=======
   "id": "2d78dcc2",
>>>>>>> 487d062df8c9b8a19360e92edfd0678a37ff23f4
   "metadata": {
    "lines_to_next_cell": 0
   },
   "source": [
    "How does the differential expression p-value relate to Moran's I?"
   ]
  },
  {
   "cell_type": "code",
   "execution_count": null,
<<<<<<< HEAD
<<<<<<< HEAD
<<<<<<< HEAD
<<<<<<< HEAD
<<<<<<< HEAD
   "id": "65f0e363",
=======
   "id": "788cd749",
>>>>>>> documentation-devel
=======
   "id": "9773868c",
>>>>>>> documentation-devel
=======
   "id": "e3d8e11c",
>>>>>>> c9ed93f2a6d5e87fe6759d6fd26c06823f77f3f2
=======
   "id": "09c67e53",
>>>>>>> documentation-devel
=======
   "id": "08ce2bdc",
>>>>>>> 487d062df8c9b8a19360e92edfd0678a37ff23f4
   "metadata": {},
   "outputs": [],
   "source": [
    "as.data.frame(top_markers_df) |> \n",
    "    ggplot(aes(log_p_adj, moran)) +\n",
    "    geom_point(aes(color = cluster)) +\n",
    "    geom_smooth(method = \"lm\") +\n",
    "    scale_color_manual(values = ditto_colors)"
   ]
  },
  {
   "cell_type": "markdown",
<<<<<<< HEAD
<<<<<<< HEAD
<<<<<<< HEAD
<<<<<<< HEAD
<<<<<<< HEAD
   "id": "c4190db2",
=======
   "id": "8747da78",
>>>>>>> documentation-devel
=======
   "id": "7c22e482",
>>>>>>> documentation-devel
=======
   "id": "b09ec842",
>>>>>>> c9ed93f2a6d5e87fe6759d6fd26c06823f77f3f2
=======
   "id": "b262d7fa",
>>>>>>> documentation-devel
=======
   "id": "7e336235",
>>>>>>> 487d062df8c9b8a19360e92edfd0678a37ff23f4
   "metadata": {},
   "source": [
    "Generally, more significant marker genes tend to have higher Moran's I. This is not surprising because the clusters and Moran's I here are both based on the k nearest neighbor graph."
   ]
  },
  {
   "cell_type": "code",
   "execution_count": null,
<<<<<<< HEAD
<<<<<<< HEAD
<<<<<<< HEAD
<<<<<<< HEAD
<<<<<<< HEAD
   "id": "dba62289",
=======
   "id": "3824d554",
>>>>>>> documentation-devel
=======
   "id": "8e30f61e",
>>>>>>> documentation-devel
=======
   "id": "fa0858ca",
>>>>>>> c9ed93f2a6d5e87fe6759d6fd26c06823f77f3f2
=======
   "id": "9755c84a",
>>>>>>> documentation-devel
=======
   "id": "c94a04b4",
>>>>>>> 487d062df8c9b8a19360e92edfd0678a37ff23f4
   "metadata": {},
   "outputs": [],
   "source": [
    "as.data.frame(top_markers_df) |> \n",
    "    ggplot(aes(summary.AUC, moran)) +\n",
    "    geom_point(aes(color = cluster)) +\n",
    "    geom_smooth(method = \"lm\") +\n",
    "    scale_color_manual(values = ditto_colors)"
   ]
  },
  {
   "cell_type": "markdown",
<<<<<<< HEAD
<<<<<<< HEAD
<<<<<<< HEAD
<<<<<<< HEAD
<<<<<<< HEAD
   "id": "720c35a9",
=======
   "id": "998e2dcf",
>>>>>>> documentation-devel
=======
   "id": "9e75528e",
>>>>>>> documentation-devel
=======
   "id": "e3e5b91e",
>>>>>>> c9ed93f2a6d5e87fe6759d6fd26c06823f77f3f2
=======
   "id": "c776e399",
>>>>>>> documentation-devel
=======
   "id": "8d879d2f",
>>>>>>> 487d062df8c9b8a19360e92edfd0678a37ff23f4
   "metadata": {
    "lines_to_next_cell": 0
   },
   "source": [
    "Similarly, genes with higher AUC tend to have higher Moran's I. For other clusters, generally speaking, genes more specific to a cluster tend to have higher Moran's I.\n",
    "\n",
    "Let's use permutation testing to see if Moran's I is statistically significant:"
   ]
  },
  {
   "cell_type": "code",
   "execution_count": null,
<<<<<<< HEAD
<<<<<<< HEAD
<<<<<<< HEAD
<<<<<<< HEAD
<<<<<<< HEAD
   "id": "2cdd6b7c",
=======
   "id": "d4bd8423",
>>>>>>> documentation-devel
=======
   "id": "c43fcea8",
>>>>>>> documentation-devel
=======
   "id": "0cd167f8",
>>>>>>> c9ed93f2a6d5e87fe6759d6fd26c06823f77f3f2
=======
   "id": "79c3b984",
>>>>>>> documentation-devel
=======
   "id": "ce024d17",
>>>>>>> 487d062df8c9b8a19360e92edfd0678a37ff23f4
   "metadata": {},
   "outputs": [],
   "source": [
    "sfe <- runUnivariate(sfe, \"moran.mc\", features = top_markers, nsim = 200)"
   ]
  },
  {
   "cell_type": "code",
   "execution_count": null,
<<<<<<< HEAD
<<<<<<< HEAD
<<<<<<< HEAD
<<<<<<< HEAD
<<<<<<< HEAD
   "id": "c57d8163",
=======
   "id": "fedf30de",
>>>>>>> documentation-devel
=======
   "id": "2aa8a35b",
>>>>>>> documentation-devel
=======
   "id": "f1a41d16",
>>>>>>> c9ed93f2a6d5e87fe6759d6fd26c06823f77f3f2
=======
   "id": "3e402a4e",
>>>>>>> documentation-devel
=======
   "id": "1480161c",
>>>>>>> 487d062df8c9b8a19360e92edfd0678a37ff23f4
   "metadata": {},
   "outputs": [],
   "source": [
    "top_markers_symbol"
   ]
  },
  {
   "cell_type": "code",
   "execution_count": null,
<<<<<<< HEAD
<<<<<<< HEAD
<<<<<<< HEAD
<<<<<<< HEAD
<<<<<<< HEAD
   "id": "075758c8",
=======
   "id": "4364fd3e",
>>>>>>> documentation-devel
=======
   "id": "a8661938",
>>>>>>> documentation-devel
=======
   "id": "b0bbb0fb",
>>>>>>> c9ed93f2a6d5e87fe6759d6fd26c06823f77f3f2
=======
   "id": "e604fd61",
>>>>>>> documentation-devel
=======
   "id": "ee6f7a81",
>>>>>>> 487d062df8c9b8a19360e92edfd0678a37ff23f4
   "metadata": {},
   "outputs": [],
   "source": [
    "plotMoranMC(sfe, top_markers, swap_rownames = \"Symbol\")"
   ]
  },
  {
   "cell_type": "markdown",
<<<<<<< HEAD
<<<<<<< HEAD
<<<<<<< HEAD
<<<<<<< HEAD
<<<<<<< HEAD
   "id": "6b2f635b",
=======
   "id": "d4aa6bf8",
>>>>>>> documentation-devel
=======
   "id": "99d204e5",
>>>>>>> documentation-devel
=======
   "id": "b03f529f",
>>>>>>> c9ed93f2a6d5e87fe6759d6fd26c06823f77f3f2
=======
   "id": "0ea195e8",
>>>>>>> documentation-devel
=======
   "id": "fc8443e6",
>>>>>>> 487d062df8c9b8a19360e92edfd0678a37ff23f4
   "metadata": {},
   "source": [
    "They all seem to be very significant. \n",
    "\n",
    "The correlogram finds Moran's I for a higher order of neighbors and can be a proxy for distance. "
   ]
  },
  {
   "cell_type": "code",
   "execution_count": null,
<<<<<<< HEAD
<<<<<<< HEAD
<<<<<<< HEAD
<<<<<<< HEAD
<<<<<<< HEAD
   "id": "08b3041e",
=======
   "id": "0806c4be",
>>>>>>> documentation-devel
=======
   "id": "3a1eeb26",
>>>>>>> documentation-devel
=======
   "id": "48c7cdd5",
>>>>>>> c9ed93f2a6d5e87fe6759d6fd26c06823f77f3f2
=======
   "id": "a5b7fe5c",
>>>>>>> documentation-devel
=======
   "id": "3dab23e9",
>>>>>>> 487d062df8c9b8a19360e92edfd0678a37ff23f4
   "metadata": {},
   "outputs": [],
   "source": [
    "system.time({\n",
    "    sfe <- runUnivariate(sfe, \"sp.correlogram\", top_markers, order = 6, \n",
    "                     zero.policy = TRUE, BPPARAM = MulticoreParam(2))\n",
    "})"
   ]
  },
  {
   "cell_type": "code",
   "execution_count": null,
<<<<<<< HEAD
<<<<<<< HEAD
<<<<<<< HEAD
<<<<<<< HEAD
<<<<<<< HEAD
   "id": "8ff28996",
=======
   "id": "a6d99902",
>>>>>>> documentation-devel
=======
   "id": "d780083b",
>>>>>>> documentation-devel
=======
   "id": "c5bebacd",
>>>>>>> c9ed93f2a6d5e87fe6759d6fd26c06823f77f3f2
=======
   "id": "a9ef0d7e",
>>>>>>> documentation-devel
=======
   "id": "a93e6a27",
>>>>>>> 487d062df8c9b8a19360e92edfd0678a37ff23f4
   "metadata": {},
   "outputs": [],
   "source": [
    "plotCorrelogram(sfe, top_markers, swap_rownames = \"Symbol\")"
   ]
  },
  {
   "cell_type": "markdown",
<<<<<<< HEAD
<<<<<<< HEAD
<<<<<<< HEAD
<<<<<<< HEAD
<<<<<<< HEAD
   "id": "644f3bd1",
=======
   "id": "fa76fe64",
>>>>>>> documentation-devel
=======
   "id": "e6d7a0f5",
>>>>>>> documentation-devel
=======
   "id": "5bbf92e2",
>>>>>>> c9ed93f2a6d5e87fe6759d6fd26c06823f77f3f2
=======
   "id": "5211978c",
>>>>>>> documentation-devel
=======
   "id": "35a4b76c",
>>>>>>> 487d062df8c9b8a19360e92edfd0678a37ff23f4
   "metadata": {
    "lines_to_next_cell": 0
   },
   "source": [
    "We see different patterns of decay in spatial autocorrelation and different length scales of spatial autocorrelation. CLU is a marker gene very specific to the smallest cluster, so higher order neighbors are very likely to be from other clusters. Marker genes for the other larger clusters with hundreds of cells nevertheless display different patterns in the correlogram.\n",
    "\n",
    "## Local Moran's I"
   ]
  },
  {
   "cell_type": "code",
   "execution_count": null,
<<<<<<< HEAD
<<<<<<< HEAD
<<<<<<< HEAD
<<<<<<< HEAD
<<<<<<< HEAD
   "id": "511d2c86",
=======
   "id": "ae5d6276",
>>>>>>> documentation-devel
=======
   "id": "10edddec",
>>>>>>> documentation-devel
=======
   "id": "ac0f4ae6",
>>>>>>> c9ed93f2a6d5e87fe6759d6fd26c06823f77f3f2
=======
   "id": "48efa83e",
>>>>>>> documentation-devel
=======
   "id": "9cf16cec",
>>>>>>> 487d062df8c9b8a19360e92edfd0678a37ff23f4
   "metadata": {},
   "outputs": [],
   "source": [
    "sfe <- runUnivariate(sfe, \"localmoran\", features = top_markers)"
   ]
  },
  {
   "cell_type": "code",
   "execution_count": null,
<<<<<<< HEAD
<<<<<<< HEAD
<<<<<<< HEAD
<<<<<<< HEAD
<<<<<<< HEAD
   "id": "6e9304f9",
=======
   "id": "4d4bacfa",
>>>>>>> documentation-devel
=======
   "id": "9521ed81",
>>>>>>> documentation-devel
=======
   "id": "e4b0c055",
>>>>>>> c9ed93f2a6d5e87fe6759d6fd26c06823f77f3f2
=======
   "id": "92739e64",
>>>>>>> documentation-devel
=======
   "id": "e2dd8d24",
>>>>>>> 487d062df8c9b8a19360e92edfd0678a37ff23f4
   "metadata": {
    "fig.height": 9,
    "fig.width": 12
   },
   "outputs": [],
   "source": [
    "plotLocalResult(sfe, \"localmoran\", top_markers, colGeometryName = \"centroids\", \n",
    "                divergent = TRUE, diverge_center = 0, ncol = 3,\n",
    "                swap_rownames = \"Symbol\")"
   ]
  },
  {
   "cell_type": "markdown",
<<<<<<< HEAD
<<<<<<< HEAD
<<<<<<< HEAD
<<<<<<< HEAD
<<<<<<< HEAD
   "id": "42e9fd74",
=======
   "id": "a85953ff",
>>>>>>> documentation-devel
=======
   "id": "42ccb9a5",
>>>>>>> documentation-devel
=======
   "id": "dd9d63b9",
>>>>>>> c9ed93f2a6d5e87fe6759d6fd26c06823f77f3f2
=======
   "id": "bdfb5e46",
>>>>>>> documentation-devel
=======
   "id": "dc926c0f",
>>>>>>> 487d062df8c9b8a19360e92edfd0678a37ff23f4
   "metadata": {},
   "source": [
    "We will also plot the histograms, but for now the results need to be added to `colData` first."
   ]
  },
  {
   "cell_type": "code",
   "execution_count": null,
<<<<<<< HEAD
<<<<<<< HEAD
<<<<<<< HEAD
<<<<<<< HEAD
<<<<<<< HEAD
   "id": "648f0206",
=======
   "id": "4900b300",
>>>>>>> documentation-devel
=======
   "id": "64fafda9",
>>>>>>> documentation-devel
=======
   "id": "760858a8",
>>>>>>> c9ed93f2a6d5e87fe6759d6fd26c06823f77f3f2
=======
   "id": "41650d77",
>>>>>>> documentation-devel
=======
   "id": "534c894e",
>>>>>>> 487d062df8c9b8a19360e92edfd0678a37ff23f4
   "metadata": {},
   "outputs": [],
   "source": [
    "new_colname <- paste0(\"cluster\", seq_along(top_markers), \"_\", \n",
    "                      top_markers_symbol, \"_localmoran\")\n",
    "for (i in seq_along(top_markers)) {\n",
    "    g <- top_markers[i]\n",
    "    colData(sfe)[[new_colname[i]]] <- \n",
    "        localResult(sfe, \"localmoran\", g)[,\"Ii\"]\n",
    "}"
   ]
  },
  {
   "cell_type": "code",
   "execution_count": null,
<<<<<<< HEAD
<<<<<<< HEAD
<<<<<<< HEAD
<<<<<<< HEAD
<<<<<<< HEAD
   "id": "9cd876d9",
=======
   "id": "d0356eb4",
>>>>>>> documentation-devel
=======
   "id": "62beff69",
>>>>>>> documentation-devel
=======
   "id": "eddf1707",
>>>>>>> c9ed93f2a6d5e87fe6759d6fd26c06823f77f3f2
=======
   "id": "4de45bc5",
>>>>>>> documentation-devel
=======
   "id": "2605f4ae",
>>>>>>> 487d062df8c9b8a19360e92edfd0678a37ff23f4
   "metadata": {
    "fig.height": 12,
    "fig.width": 8
   },
   "outputs": [],
   "source": [
    "plotColDataFreqpoly(sfe, new_colname, color_by = \"cluster\") +\n",
    "    ggtitle(\"Local Moran's I\") +\n",
    "    theme(legend.position = \"top\") +\n",
    "    scale_y_log10() +\n",
    "    annotation_logticks(sides = \"l\")"
   ]
  },
  {
   "cell_type": "markdown",
<<<<<<< HEAD
<<<<<<< HEAD
<<<<<<< HEAD
<<<<<<< HEAD
<<<<<<< HEAD
   "id": "3ef958cc",
=======
   "id": "1cddbd95",
>>>>>>> documentation-devel
=======
   "id": "a58aa777",
>>>>>>> documentation-devel
=======
   "id": "9f85cc81",
>>>>>>> c9ed93f2a6d5e87fe6759d6fd26c06823f77f3f2
=======
   "id": "424d37bd",
>>>>>>> documentation-devel
=======
   "id": "40587d02",
>>>>>>> 487d062df8c9b8a19360e92edfd0678a37ff23f4
   "metadata": {
    "lines_to_next_cell": 0
   },
   "source": [
    "Again, the y axis is log transformed to make the tail more visible. For some clusters, the top marker gene's local Moran's I forms its own peak for cells in the cluster with higher local Moran's I than other cells. However, sometimes cells within the cluster form a long tail shared with some cells from other clusters. Then the local Moran's I could be another method for differential expression. Or since both local Moran's I and Leiden clustering use the k nearest neighbor graph in PCA space, local Moran's I of marker genes or perhaps eigengenes signifying gene programs for each cell type on this k nearest neighbor graph can validate or criticize Leiden clusters. Furthermore, interestingly, for some genes, the tallest peak in the histogram is away from 0.\n",
    "\n",
    "The scatter plots as shown in the \"spatial\" analyses for the QC metrics section can be made to see how local Moran's I relates to the expression of the gene itself."
   ]
  },
  {
   "cell_type": "code",
   "execution_count": null,
<<<<<<< HEAD
<<<<<<< HEAD
<<<<<<< HEAD
<<<<<<< HEAD
<<<<<<< HEAD
   "id": "c6c161d1",
=======
   "id": "1d69dd5f",
>>>>>>> documentation-devel
=======
   "id": "b084d73b",
>>>>>>> documentation-devel
=======
   "id": "27b15751",
>>>>>>> c9ed93f2a6d5e87fe6759d6fd26c06823f77f3f2
=======
   "id": "f9931401",
>>>>>>> documentation-devel
=======
   "id": "a3248a03",
>>>>>>> 487d062df8c9b8a19360e92edfd0678a37ff23f4
   "metadata": {},
   "outputs": [],
   "source": [
    "i <- 6 # Change if running this notebook\n",
    "plotExpression(sfe, top_markers_symbol[i], x = new_colname[i], color_by = \"cluster\",\n",
    "               swap_rownames = \"Symbol\") +\n",
    "    scale_color_manual(values = ditto_colors) +\n",
    "    coord_flip() +\n",
    "    # comment out in case of error after changing i\n",
    "    geom_density2d(data = as.data.frame(colData(sfe)) |> \n",
    "                       mutate(gene = logcounts(sfe)[top_markers[i],]),\n",
    "                   mapping = aes(x = .data[[new_colname[i]]], y = gene), \n",
    "                   color = \"blue\", linewidth = 0.3) "
   ]
  },
  {
   "cell_type": "markdown",
<<<<<<< HEAD
<<<<<<< HEAD
<<<<<<< HEAD
<<<<<<< HEAD
<<<<<<< HEAD
   "id": "de23b821",
=======
   "id": "8b132405",
>>>>>>> documentation-devel
=======
   "id": "fc85bf81",
>>>>>>> documentation-devel
=======
   "id": "f46de9e2",
>>>>>>> c9ed93f2a6d5e87fe6759d6fd26c06823f77f3f2
=======
   "id": "c092ffd6",
>>>>>>> documentation-devel
=======
   "id": "4f857033",
>>>>>>> 487d062df8c9b8a19360e92edfd0678a37ff23f4
   "metadata": {},
   "source": [
    "For this gene, just like for total UMI counts, there are two wings and a central value where local Moran's I is around 0. Generally, cells with higher expression of this gene have higher local Moran's I for this gene as well. The density contours show that cells concentrate around 0 expression and some weaker positive local Moran. The streak of cells with 0 expression means that many cells don't express this gene, and their neighbors have low and slightly homogeneous expression of this gene. This pattern may be different for different genes. Also, the p-values for each cell for local Moran's I are available and corrected for multiple hypothesis testing, and can be plotted. The p-values are based on the z score of the local Moran statistic, although how the statistic is distributed for gene expression data warrants more investigation. This p-value can also be computed with permutation (see `localmoran_perm()`). "
   ]
  },
  {
   "cell_type": "code",
   "execution_count": null,
<<<<<<< HEAD
<<<<<<< HEAD
<<<<<<< HEAD
<<<<<<< HEAD
<<<<<<< HEAD
   "id": "2f7c935f",
=======
   "id": "c025e49c",
>>>>>>> documentation-devel
=======
   "id": "e5611424",
>>>>>>> documentation-devel
=======
   "id": "cb63168d",
>>>>>>> c9ed93f2a6d5e87fe6759d6fd26c06823f77f3f2
=======
   "id": "27ebca16",
>>>>>>> documentation-devel
=======
   "id": "ff43e384",
>>>>>>> 487d062df8c9b8a19360e92edfd0678a37ff23f4
   "metadata": {},
   "outputs": [],
   "source": [
    "localResultAttrs(sfe, \"localmoran\", top_markers[1])"
   ]
  },
  {
   "cell_type": "markdown",
<<<<<<< HEAD
<<<<<<< HEAD
<<<<<<< HEAD
<<<<<<< HEAD
<<<<<<< HEAD
   "id": "be456c10",
=======
   "id": "2f6b653a",
>>>>>>> documentation-devel
=======
   "id": "dd23f4eb",
>>>>>>> documentation-devel
=======
   "id": "cd6c02bf",
>>>>>>> c9ed93f2a6d5e87fe6759d6fd26c06823f77f3f2
=======
   "id": "1f36dae2",
>>>>>>> documentation-devel
=======
   "id": "0d9ed9d7",
>>>>>>> 487d062df8c9b8a19360e92edfd0678a37ff23f4
   "metadata": {},
   "source": [
    "## LOSH"
   ]
  },
  {
   "cell_type": "code",
   "execution_count": null,
<<<<<<< HEAD
<<<<<<< HEAD
<<<<<<< HEAD
<<<<<<< HEAD
<<<<<<< HEAD
   "id": "23f66152",
=======
   "id": "df9550ff",
>>>>>>> documentation-devel
=======
   "id": "b207ef84",
>>>>>>> documentation-devel
=======
   "id": "4f3c2b3f",
>>>>>>> c9ed93f2a6d5e87fe6759d6fd26c06823f77f3f2
=======
   "id": "d7f89b98",
>>>>>>> documentation-devel
=======
   "id": "3cfc07c5",
>>>>>>> 487d062df8c9b8a19360e92edfd0678a37ff23f4
   "metadata": {},
   "outputs": [],
   "source": [
    "sfe <- runUnivariate(sfe, \"LOSH\", top_markers)"
   ]
  },
  {
   "cell_type": "code",
   "execution_count": null,
<<<<<<< HEAD
<<<<<<< HEAD
<<<<<<< HEAD
<<<<<<< HEAD
<<<<<<< HEAD
   "id": "99296ab0",
=======
   "id": "d70f4e5f",
>>>>>>> documentation-devel
=======
   "id": "03b9729d",
>>>>>>> documentation-devel
=======
   "id": "672b5bc3",
>>>>>>> c9ed93f2a6d5e87fe6759d6fd26c06823f77f3f2
=======
   "id": "a3af2817",
>>>>>>> documentation-devel
=======
   "id": "9d28d3ad",
>>>>>>> 487d062df8c9b8a19360e92edfd0678a37ff23f4
   "metadata": {
    "fig.height": 9,
    "fig.width": 12
   },
   "outputs": [],
   "source": [
    "plotLocalResult(sfe, \"LOSH\", top_markers, colGeometryName = \"centroids\", ncol = 3,\n",
    "                swap_rownames = \"Symbol\")"
   ]
  },
  {
   "cell_type": "markdown",
<<<<<<< HEAD
<<<<<<< HEAD
<<<<<<< HEAD
<<<<<<< HEAD
<<<<<<< HEAD
   "id": "f69ad1d5",
=======
   "id": "a3d5f550",
>>>>>>> documentation-devel
=======
   "id": "ad0996d4",
>>>>>>> documentation-devel
=======
   "id": "41cbaba7",
>>>>>>> c9ed93f2a6d5e87fe6759d6fd26c06823f77f3f2
=======
   "id": "e4df0bc2",
>>>>>>> documentation-devel
=======
   "id": "024ef0d3",
>>>>>>> 487d062df8c9b8a19360e92edfd0678a37ff23f4
   "metadata": {
    "lines_to_next_cell": 0
   },
   "source": [
    "In the two genes on the right, it's interesting to see higher LOSH in the middle cluster. The two genes on the left have some outliers throwing off the dynamic range, but it seems that their high LOSH regions are different.\n",
    "\n",
    "Again, we plot the histograms:"
   ]
  },
  {
   "cell_type": "code",
   "execution_count": null,
<<<<<<< HEAD
<<<<<<< HEAD
<<<<<<< HEAD
<<<<<<< HEAD
<<<<<<< HEAD
   "id": "b3897a18",
=======
   "id": "da441d4a",
>>>>>>> documentation-devel
=======
   "id": "12f6e672",
>>>>>>> documentation-devel
=======
   "id": "b0ecf940",
>>>>>>> c9ed93f2a6d5e87fe6759d6fd26c06823f77f3f2
=======
   "id": "051e0a58",
>>>>>>> documentation-devel
=======
   "id": "e49f307d",
>>>>>>> 487d062df8c9b8a19360e92edfd0678a37ff23f4
   "metadata": {},
   "outputs": [],
   "source": [
    "new_colname2 <- paste0(\"cluster\", seq_along(top_markers), \"_\", \n",
    "                      top_markers_symbol, \"_losh\")\n",
    "for (i in seq_along(top_markers)) {\n",
    "    g <- top_markers[i]\n",
    "    colData(sfe)[[new_colname2[i]]] <- \n",
    "        localResult(sfe, \"LOSH\", g)[,\"Hi\"]\n",
    "}"
   ]
  },
  {
   "cell_type": "code",
   "execution_count": null,
<<<<<<< HEAD
<<<<<<< HEAD
<<<<<<< HEAD
<<<<<<< HEAD
<<<<<<< HEAD
   "id": "c6df5cea",
=======
   "id": "18dade59",
>>>>>>> documentation-devel
=======
   "id": "941850c6",
>>>>>>> documentation-devel
=======
   "id": "4b3b54d0",
>>>>>>> c9ed93f2a6d5e87fe6759d6fd26c06823f77f3f2
=======
   "id": "d2bc3ce3",
>>>>>>> documentation-devel
=======
   "id": "4a187665",
>>>>>>> 487d062df8c9b8a19360e92edfd0678a37ff23f4
   "metadata": {
    "fig.height": 12,
    "fig.width": 8
   },
   "outputs": [],
   "source": [
    "plotColDataFreqpoly(sfe, new_colname2, color_by = \"cluster\") +\n",
    "    ggtitle(\"Local heteroscedasticity\") +\n",
    "    theme(legend.position = \"top\") +\n",
    "    scale_y_log10() +\n",
    "    annotation_logticks(sides = \"l\")"
   ]
  },
  {
   "cell_type": "markdown",
<<<<<<< HEAD
<<<<<<< HEAD
<<<<<<< HEAD
<<<<<<< HEAD
<<<<<<< HEAD
   "id": "0a19c634",
=======
   "id": "adbf560b",
>>>>>>> documentation-devel
=======
   "id": "e358a316",
>>>>>>> documentation-devel
=======
   "id": "3cc3ffd4",
>>>>>>> c9ed93f2a6d5e87fe6759d6fd26c06823f77f3f2
=======
   "id": "3d1a6913",
>>>>>>> documentation-devel
=======
   "id": "4cb588ed",
>>>>>>> 487d062df8c9b8a19360e92edfd0678a37ff23f4
   "metadata": {},
   "source": [
    "The relationship between expression and LOSH is more complicated. For some genes, such as the top marker gene for cluster 1 LYAR, cells in the cluster with higher expression also have higher LOSH - much like how in Poisson and negative binomial distributions, higher mean also means higher variance. However, some genes, such as the top marker gene for cluster 2 CTSS, have lower LOSH among cells that have higher expression, which means expression of this gene is more homogeneous within the cluster, consistent with local Moran. "
   ]
  },
  {
   "cell_type": "code",
   "execution_count": null,
<<<<<<< HEAD
<<<<<<< HEAD
<<<<<<< HEAD
<<<<<<< HEAD
<<<<<<< HEAD
   "id": "018beec9",
=======
   "id": "ed05c44f",
>>>>>>> documentation-devel
=======
   "id": "284d5433",
>>>>>>> documentation-devel
=======
   "id": "6494ec21",
>>>>>>> c9ed93f2a6d5e87fe6759d6fd26c06823f77f3f2
=======
   "id": "2ee357ce",
>>>>>>> documentation-devel
=======
   "id": "2f1a6039",
>>>>>>> 487d062df8c9b8a19360e92edfd0678a37ff23f4
   "metadata": {},
   "outputs": [],
   "source": [
    "i <- 6 # Change if running this notebook\n",
    "plotExpression(sfe, top_markers_symbol[i], x = new_colname2[i], \n",
    "               color_by = \"cluster\", swap_rownames = \"Symbol\") +\n",
    "    scale_color_manual(values = ditto_colors) +\n",
    "    coord_flip() +\n",
    "    # comment out in case of error after changing i\n",
    "    geom_density2d(data = as.data.frame(colData(sfe)) |> \n",
    "                       mutate(gene = logcounts(sfe)[top_markers[i],]),\n",
    "                   mapping = aes(x = .data[[new_colname2[i]]], y = gene), \n",
    "                   color = \"blue\", linewidth = 0.3) "
   ]
  },
  {
   "cell_type": "markdown",
<<<<<<< HEAD
<<<<<<< HEAD
<<<<<<< HEAD
<<<<<<< HEAD
<<<<<<< HEAD
   "id": "13b5b354",
=======
   "id": "226f54a9",
>>>>>>> documentation-devel
=======
   "id": "514a745e",
>>>>>>> documentation-devel
=======
   "id": "941c02c9",
>>>>>>> c9ed93f2a6d5e87fe6759d6fd26c06823f77f3f2
=======
   "id": "d6f7c7ea",
>>>>>>> documentation-devel
=======
   "id": "1a8a3b2c",
>>>>>>> 487d062df8c9b8a19360e92edfd0678a37ff23f4
   "metadata": {
    "lines_to_next_cell": 0
   },
   "source": [
    "For this gene, the density contour indicates that many cells don't express this gene and have homogeneous neighborhoods also with low expression. That streak around 0 expression means that neighbors of cells that don't express this gene have different levels of heterogeneity in this gene.\n",
    "\n",
    "## Moran plot\n",
    "\n",
    "Here we make Moran plots for the top marker genes."
   ]
  },
  {
   "cell_type": "code",
   "execution_count": null,
<<<<<<< HEAD
<<<<<<< HEAD
<<<<<<< HEAD
<<<<<<< HEAD
<<<<<<< HEAD
   "id": "254d7aca",
=======
   "id": "31423da5",
>>>>>>> documentation-devel
=======
   "id": "dce27c41",
>>>>>>> documentation-devel
=======
   "id": "5d50fae5",
>>>>>>> c9ed93f2a6d5e87fe6759d6fd26c06823f77f3f2
=======
   "id": "68bb7709",
>>>>>>> documentation-devel
=======
   "id": "6143c39b",
>>>>>>> 487d062df8c9b8a19360e92edfd0678a37ff23f4
   "metadata": {},
   "outputs": [],
   "source": [
    "sfe <- runUnivariate(sfe, \"moran.plot\", features = top_markers, colGraphName = \"knn10\")"
   ]
  },
  {
   "cell_type": "markdown",
<<<<<<< HEAD
<<<<<<< HEAD
<<<<<<< HEAD
<<<<<<< HEAD
<<<<<<< HEAD
   "id": "e1955c01",
=======
   "id": "a7ace433",
>>>>>>> documentation-devel
=======
   "id": "11953ef3",
>>>>>>> documentation-devel
=======
   "id": "896e4bae",
>>>>>>> c9ed93f2a6d5e87fe6759d6fd26c06823f77f3f2
=======
   "id": "06ab59c3",
>>>>>>> documentation-devel
=======
   "id": "66798950",
>>>>>>> 487d062df8c9b8a19360e92edfd0678a37ff23f4
   "metadata": {
    "lines_to_next_cell": 0
   },
   "source": [
    "As a reference, we show Moran's I for the top marker genes, which is the slope of the line fitted to the Moran scatter plot."
   ]
  },
  {
   "cell_type": "code",
   "execution_count": null,
<<<<<<< HEAD
<<<<<<< HEAD
<<<<<<< HEAD
<<<<<<< HEAD
<<<<<<< HEAD
   "id": "4eb3848a",
=======
   "id": "d37f2c26",
>>>>>>> documentation-devel
=======
   "id": "cb9adf65",
>>>>>>> documentation-devel
=======
   "id": "2f339f9e",
>>>>>>> c9ed93f2a6d5e87fe6759d6fd26c06823f77f3f2
=======
   "id": "a8e7773c",
>>>>>>> documentation-devel
=======
   "id": "3674f5f4",
>>>>>>> 487d062df8c9b8a19360e92edfd0678a37ff23f4
   "metadata": {},
   "outputs": [],
   "source": [
    "top_markers_df[top_markers,]"
   ]
  },
  {
   "cell_type": "markdown",
<<<<<<< HEAD
<<<<<<< HEAD
<<<<<<< HEAD
<<<<<<< HEAD
<<<<<<< HEAD
   "id": "410bbdbf",
=======
   "id": "01f314ac",
>>>>>>> documentation-devel
=======
   "id": "ddf94cd1",
>>>>>>> documentation-devel
=======
   "id": "037f90b2",
>>>>>>> c9ed93f2a6d5e87fe6759d6fd26c06823f77f3f2
=======
   "id": "9d581dc7",
>>>>>>> documentation-devel
=======
   "id": "f860fc62",
>>>>>>> 487d062df8c9b8a19360e92edfd0678a37ff23f4
   "metadata": {
    "lines_to_next_cell": 0
   },
   "source": [
    "There is no significant marker gene for cluster 7. These plots are shown in sequence"
   ]
  },
  {
   "cell_type": "code",
   "execution_count": null,
<<<<<<< HEAD
<<<<<<< HEAD
<<<<<<< HEAD
<<<<<<< HEAD
<<<<<<< HEAD
   "id": "a9285352",
=======
   "id": "f463ddb0",
>>>>>>> documentation-devel
=======
   "id": "6066c6e3",
>>>>>>> documentation-devel
=======
   "id": "f0c66fdd",
>>>>>>> c9ed93f2a6d5e87fe6759d6fd26c06823f77f3f2
=======
   "id": "a37b2159",
>>>>>>> documentation-devel
=======
   "id": "9d50bff9",
>>>>>>> 487d062df8c9b8a19360e92edfd0678a37ff23f4
   "metadata": {},
   "outputs": [],
   "source": [
    "plts <- lapply(top_markers, moranPlot, sfe = sfe, color_by = \"cluster\", \n",
    "               swap_rownames = \"Symbol\")"
   ]
  },
  {
   "cell_type": "code",
   "execution_count": null,
<<<<<<< HEAD
<<<<<<< HEAD
<<<<<<< HEAD
<<<<<<< HEAD
<<<<<<< HEAD
   "id": "381878e4",
=======
   "id": "a96dbfa8",
>>>>>>> documentation-devel
=======
   "id": "133cc179",
>>>>>>> documentation-devel
=======
   "id": "0ff2b524",
>>>>>>> c9ed93f2a6d5e87fe6759d6fd26c06823f77f3f2
=======
   "id": "7844219d",
>>>>>>> documentation-devel
=======
   "id": "ed48ffeb",
>>>>>>> 487d062df8c9b8a19360e92edfd0678a37ff23f4
   "metadata": {
    "fig.height": 9,
    "fig.width": 9
   },
   "outputs": [],
   "source": [
    "wrap_plots(plts, widths = 1, heights = 1) +\n",
    "    plot_layout(ncol = 3, guides = \"collect\") +\n",
    "    plot_annotation(tag_levels = \"1\")"
   ]
  },
  {
   "cell_type": "markdown",
<<<<<<< HEAD
<<<<<<< HEAD
<<<<<<< HEAD
<<<<<<< HEAD
<<<<<<< HEAD
   "id": "f752b0e2",
=======
   "id": "1ea8c567",
>>>>>>> documentation-devel
=======
   "id": "4619b07f",
>>>>>>> documentation-devel
=======
   "id": "41782dd1",
>>>>>>> c9ed93f2a6d5e87fe6759d6fd26c06823f77f3f2
=======
   "id": "02d97419",
>>>>>>> documentation-devel
=======
   "id": "964c3d4b",
>>>>>>> 487d062df8c9b8a19360e92edfd0678a37ff23f4
   "metadata": {
    "lines_to_next_cell": 0
   },
   "source": [
    "For some genes, the points are so concentrated around the origin that there aren't \"enough\" points elsewhere to plot the density contours. But for the cells that do express these genes, there are clusters on this plot. Some genes are not expressed in many cells, but those cells have neighbors that do express the gene, hence the vertical streak at x = 0. \n",
    "\n",
    "In this tutorial, we applied univariate spatial statistics to the k nearest neighbor graph in the gene expression PCA space rather than the histological space. Just like in histological space, it would be impractical to examine all these statistics gene by gene, so multivariate analyses that incorporate the k nearest neighbor graph may be interesting.\n",
    "\n",
    "# Session info"
   ]
  },
  {
   "cell_type": "code",
   "execution_count": null,
<<<<<<< HEAD
<<<<<<< HEAD
<<<<<<< HEAD
<<<<<<< HEAD
<<<<<<< HEAD
   "id": "bc718c02",
=======
   "id": "98d322e6",
>>>>>>> documentation-devel
=======
   "id": "b7290e0c",
>>>>>>> documentation-devel
=======
   "id": "acd08b6e",
>>>>>>> c9ed93f2a6d5e87fe6759d6fd26c06823f77f3f2
=======
   "id": "7d1addde",
>>>>>>> documentation-devel
=======
   "id": "c92a3cb0",
>>>>>>> 487d062df8c9b8a19360e92edfd0678a37ff23f4
   "metadata": {
    "lines_to_next_cell": 0
   },
   "outputs": [],
   "source": [
    "sessionInfo()"
   ]
  },
  {
   "cell_type": "markdown",
<<<<<<< HEAD
<<<<<<< HEAD
<<<<<<< HEAD
<<<<<<< HEAD
<<<<<<< HEAD
   "id": "1b4a2a99",
=======
   "id": "65216fee",
>>>>>>> documentation-devel
=======
   "id": "a0a88362",
>>>>>>> documentation-devel
=======
   "id": "dc6b052d",
>>>>>>> c9ed93f2a6d5e87fe6759d6fd26c06823f77f3f2
=======
   "id": "5fb62783",
>>>>>>> documentation-devel
=======
   "id": "60037647",
>>>>>>> 487d062df8c9b8a19360e92edfd0678a37ff23f4
   "metadata": {},
   "source": []
  }
 ],
 "metadata": {
  "kernelspec": {
   "display_name": "R",
   "language": "R",
   "name": "ir"
  }
 },
 "nbformat": 4,
 "nbformat_minor": 5
}
