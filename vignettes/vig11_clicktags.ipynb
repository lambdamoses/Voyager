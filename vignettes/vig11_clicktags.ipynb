{
 "cells": [
  {
   "cell_type": "raw",
<<<<<<< HEAD
<<<<<<< HEAD
<<<<<<< HEAD
<<<<<<< HEAD
   "id": "09fb3301",
=======
   "id": "a7e9972c",
>>>>>>> documentation-devel
=======
   "id": "71b9b41c",
>>>>>>> documentation-devel
=======
   "id": "88d5e1d2",
>>>>>>> c9ed93f2a6d5e87fe6759d6fd26c06823f77f3f2
=======
   "id": "82787acc",
>>>>>>> documentation-devel
   "metadata": {},
   "source": [
    "---\n",
    "title: \"Basic quality control on scRNA-seq data with ClickTag barcodes\"\n",
    "author: \"Kayla Jackson and A. Sina Booeshaghi\"\n",
    "date: \"`r Sys.Date()`\"\n",
    "output: \n",
    "  html_document:\n",
    "  toc: true\n",
    "  toc_float:\n",
    "    collapsed: false\n",
    "  toc_depth: 3\n",
    "bibliography: ref.bib\n",
    "vignette: >\n",
    "  %\\VignetteIndexEntry{clicktag_qc}\n",
    "  %\\VignetteEngine{knitr::rmarkdown}\n",
    "  %\\VignetteEncoding{UTF-8}\n",
    "---"
   ]
  },
  {
   "cell_type": "code",
   "execution_count": null,
<<<<<<< HEAD
<<<<<<< HEAD
<<<<<<< HEAD
<<<<<<< HEAD
   "id": "4ac7d31e",
=======
   "id": "4c2f0188",
>>>>>>> documentation-devel
=======
   "id": "a1416c8b",
>>>>>>> documentation-devel
=======
   "id": "72af0c6e",
>>>>>>> c9ed93f2a6d5e87fe6759d6fd26c06823f77f3f2
=======
   "id": "bceb838d",
>>>>>>> documentation-devel
   "metadata": {
    "tags": [
     "remove_cell"
    ]
   },
   "outputs": [],
   "source": [
    "knitr::opts_chunk$set(\n",
    "  collapse = TRUE,\n",
    "  comment = \"#>\", fig.align = \"center\"\n",
    ")"
   ]
  },
  {
   "cell_type": "code",
   "execution_count": null,
<<<<<<< HEAD
<<<<<<< HEAD
<<<<<<< HEAD
<<<<<<< HEAD
   "id": "ac6e94c6",
=======
   "id": "264402da",
>>>>>>> documentation-devel
=======
   "id": "f2b9b619",
>>>>>>> documentation-devel
=======
   "id": "32ce5a84",
>>>>>>> c9ed93f2a6d5e87fe6759d6fd26c06823f77f3f2
=======
   "id": "966567a8",
>>>>>>> documentation-devel
   "metadata": {
    "eval": false,
    "tags": [
     "remove_cell"
    ]
   },
   "outputs": [],
   "source": [
    "# Install Google Colab dependencies\n",
    "# Note: this can take 30+ minutes (many of the dependencies include C++ code, which needs to be compiled)\n",
    "\n",
    "# First install `sf`, `ragg` and `textshaping` and their system dependencies:\n",
    "system(\"apt-get -y update && apt-get install -y  libudunits2-dev libgdal-dev libgeos-dev libproj-dev libharfbuzz-dev libfribidi-dev\")\n",
    "install.packages(\"sf\")\n",
    "install.packages(\"textshaping\")\n",
    "install.packages(\"ragg\")\n",
    "\n",
    "# Install system dependencies of some other R packages that Voyager either imports or suggests:\n",
    "system(\"apt-get install -y libfribidi-dev libcairo2-dev libmagick++-dev\")\n",
    "\n",
    "# Install Voyager from Bioconductor:\n",
    "install.packages(\"BiocManager\")\n",
    "BiocManager::install(version = \"release\", ask = FALSE, update = FALSE, Ncpus = 2)\n",
    "BiocManager::install(\"scater\")\n",
    "system.time(\n",
    "  BiocManager::install(\"Voyager\", dependencies = TRUE, Ncpus = 2, update = FALSE)\n",
    ")\n",
    "\n",
    "\n",
    "packageVersion(\"Voyager\")"
   ]
  },
  {
   "cell_type": "markdown",
<<<<<<< HEAD
<<<<<<< HEAD
<<<<<<< HEAD
<<<<<<< HEAD
   "id": "ceb3a586",
=======
   "id": "bdd16ba8",
>>>>>>> documentation-devel
=======
   "id": "ec2ab90c",
>>>>>>> documentation-devel
=======
   "id": "f9b4f546",
>>>>>>> c9ed93f2a6d5e87fe6759d6fd26c06823f77f3f2
=======
   "id": "476792db",
>>>>>>> documentation-devel
   "metadata": {},
   "source": [
    "# Introduction\n",
    "The data in this vignette is shipped with the `cellatlas` repository. The count matrix and metadata are provided in the `cellatlas/examples` folder as an [`AnnData`](https://anndata-tutorials.readthedocs.io/en/latest/getting-started.html) object. We will begin by loading the object and converting it to a `SingleCellExperiment` object. "
   ]
  },
  {
   "cell_type": "code",
   "execution_count": null,
<<<<<<< HEAD
<<<<<<< HEAD
<<<<<<< HEAD
<<<<<<< HEAD
   "id": "9381f3a5",
=======
   "id": "f338500d",
>>>>>>> documentation-devel
=======
   "id": "da8a18d2",
>>>>>>> documentation-devel
=======
   "id": "8c89506d",
>>>>>>> c9ed93f2a6d5e87fe6759d6fd26c06823f77f3f2
=======
   "id": "35a599fa",
>>>>>>> documentation-devel
   "metadata": {
    "message": false
   },
   "outputs": [],
   "source": [
    "library(stringr)\n",
    "library(DropletUtils)\n",
    "library(Matrix)\n",
    "library(SpatialExperiment)\n",
    "library(SpatialFeatureExperiment)\n",
    "library(scater)\n",
    "library(scuttle)\n",
    "library(Voyager)\n",
    "library(ggplot2)\n",
    "theme_set(theme_bw())"
   ]
  },
  {
   "cell_type": "code",
   "execution_count": null,
<<<<<<< HEAD
<<<<<<< HEAD
<<<<<<< HEAD
<<<<<<< HEAD
   "id": "374594f9",
=======
   "id": "52625182",
>>>>>>> documentation-devel
=======
   "id": "72b21292",
>>>>>>> documentation-devel
=======
   "id": "226f3a3f",
>>>>>>> c9ed93f2a6d5e87fe6759d6fd26c06823f77f3f2
=======
   "id": "120b22d9",
>>>>>>> documentation-devel
   "metadata": {
    "message": true,
    "tags": [
     "remove_output"
    ]
   },
   "outputs": [],
   "source": [
    "if (!file.exists(\"clicktags.rds\"))\n",
    "    download.file(\"https://github.com/pachterlab/voyager/raw/documentation-devel/vignettes/clicktags.rds\", destfile = \"clicktags.rds\")\n",
    "sce <- readRDS(\"clicktags.rds\")"
   ]
  },
  {
   "cell_type": "code",
   "execution_count": null,
<<<<<<< HEAD
<<<<<<< HEAD
<<<<<<< HEAD
<<<<<<< HEAD
   "id": "771978b8",
=======
   "id": "2184c666",
>>>>>>> documentation-devel
=======
   "id": "e6dea24a",
>>>>>>> documentation-devel
=======
   "id": "2c8e0f93",
>>>>>>> c9ed93f2a6d5e87fe6759d6fd26c06823f77f3f2
=======
   "id": "f12511fd",
>>>>>>> documentation-devel
   "metadata": {},
   "outputs": [],
   "source": [
    "sce <- addPerCellQCMetrics(sce)\n",
    "names(colData(sce))"
   ]
  },
  {
   "cell_type": "code",
   "execution_count": null,
<<<<<<< HEAD
<<<<<<< HEAD
<<<<<<< HEAD
<<<<<<< HEAD
   "id": "80e87f4b",
=======
   "id": "5b5c9335",
>>>>>>> documentation-devel
=======
   "id": "d7760dc7",
>>>>>>> documentation-devel
=======
   "id": "bc943f61",
>>>>>>> c9ed93f2a6d5e87fe6759d6fd26c06823f77f3f2
=======
   "id": "2158424a",
>>>>>>> documentation-devel
   "metadata": {},
   "outputs": [],
   "source": [
    "plotColData(sce, \"sum\") +\n",
    "    plotColData(sce, \"detected\") "
   ]
  },
  {
   "cell_type": "code",
   "execution_count": null,
<<<<<<< HEAD
<<<<<<< HEAD
<<<<<<< HEAD
<<<<<<< HEAD
   "id": "60c3f471",
=======
   "id": "f567b6c3",
>>>>>>> documentation-devel
=======
   "id": "2277fa1f",
>>>>>>> documentation-devel
=======
   "id": "b0142aab",
>>>>>>> c9ed93f2a6d5e87fe6759d6fd26c06823f77f3f2
=======
   "id": "1d8c2644",
>>>>>>> documentation-devel
   "metadata": {
    "lines_to_next_cell": 0
   },
   "outputs": [],
   "source": [
    "plotColData(sce, x = \"sum\", y = \"detected\", bins = 100) +\n",
    "    scale_fill_distiller(palette = \"Blues\", direction = 1)"
   ]
  },
  {
   "cell_type": "code",
   "execution_count": null,
<<<<<<< HEAD
<<<<<<< HEAD
<<<<<<< HEAD
<<<<<<< HEAD
   "id": "6adf33e4",
=======
   "id": "d7de0680",
>>>>>>> documentation-devel
=======
   "id": "0afad4d7",
>>>>>>> documentation-devel
=======
   "id": "1142e4b8",
>>>>>>> c9ed93f2a6d5e87fe6759d6fd26c06823f77f3f2
=======
   "id": "cf80996c",
>>>>>>> documentation-devel
   "metadata": {
    "name": "knee-plot"
   },
   "outputs": [],
   "source": [
    "bcrank <- barcodeRanks(counts(sce))\n",
    "\n",
    "knee <- metadata(bcrank)$knee\n",
    "inflection <- metadata(bcrank)$inflection\n",
    "\n",
    "plot(bcrank$rank, bcrank$total, log=\"xy\",\n",
    "      xlab=\"Rank\", ylab=\"Total ClickTags count\", cex.lab=1.2)\n",
    "\n",
    "abline(h=inflection, col=\"darkgreen\", lty=2)\n",
    "abline(h=knee, col=\"dodgerblue\", lty=2)"
   ]
  },
  {
   "cell_type": "code",
   "execution_count": null,
<<<<<<< HEAD
<<<<<<< HEAD
<<<<<<< HEAD
<<<<<<< HEAD
   "id": "d60d0963",
=======
   "id": "c4862eb1",
>>>>>>> documentation-devel
=======
   "id": "ac5b4046",
>>>>>>> documentation-devel
=======
   "id": "f5f76dc6",
>>>>>>> c9ed93f2a6d5e87fe6759d6fd26c06823f77f3f2
=======
   "id": "4900f681",
>>>>>>> documentation-devel
   "metadata": {
    "name": "subset-qc"
   },
   "outputs": [],
   "source": [
    "sce <- sce[, colSums(counts(sce)) > inflection]\n",
    "\n",
    "sce"
   ]
  },
  {
   "cell_type": "code",
   "execution_count": null,
<<<<<<< HEAD
<<<<<<< HEAD
<<<<<<< HEAD
<<<<<<< HEAD
   "id": "9a662ea3",
=======
   "id": "c8ac7b86",
>>>>>>> documentation-devel
=======
   "id": "f7adcf1d",
>>>>>>> documentation-devel
=======
   "id": "f16fff2a",
>>>>>>> c9ed93f2a6d5e87fe6759d6fd26c06823f77f3f2
=======
   "id": "08d9f5b2",
>>>>>>> documentation-devel
   "metadata": {
    "lines_to_next_cell": 0
   },
   "outputs": [],
   "source": [
    "sessionInfo()"
   ]
  },
  {
   "cell_type": "markdown",
<<<<<<< HEAD
<<<<<<< HEAD
<<<<<<< HEAD
<<<<<<< HEAD
   "id": "2a438546",
=======
   "id": "e118f306",
>>>>>>> documentation-devel
=======
   "id": "dad42c1b",
>>>>>>> documentation-devel
=======
   "id": "88d3b565",
>>>>>>> c9ed93f2a6d5e87fe6759d6fd26c06823f77f3f2
=======
   "id": "36c5eecc",
>>>>>>> documentation-devel
   "metadata": {},
   "source": []
  }
 ],
 "metadata": {
  "kernelspec": {
   "display_name": "R",
   "language": "R",
   "name": "ir"
  }
 },
 "nbformat": 4,
 "nbformat_minor": 5
}
