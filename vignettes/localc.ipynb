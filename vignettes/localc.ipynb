{
 "cells": [
  {
   "cell_type": "raw",
<<<<<<< HEAD
   "id": "a0746eb5",
=======
   "id": "d1ea61c5",
>>>>>>> documentation
   "metadata": {},
   "source": [
    "---\n",
    "title: \"Multivariate local Geary's C\"\n",
    "author: \"Lambda Moses\"\n",
    "date: \"`r Sys.Date()`\"\n",
    "output: \n",
    "  html_document:\n",
    "  toc: true\n",
    "  toc_float:\n",
    "    collapsed: false\n",
    "  toc_depth: 3\n",
    "bibliography: ref.bib\n",
    "vignette: >\n",
    "  %\\VignetteIndexEntry{localc}\n",
    "  %\\VignetteEngine{knitr::rmarkdown}\n",
    "  %\\VignetteEncoding{UTF-8}\n",
    "---"
   ]
  },
  {
   "cell_type": "code",
   "execution_count": null,
<<<<<<< HEAD
   "id": "f3f322d9",
=======
   "id": "df45261b",
>>>>>>> documentation
   "metadata": {
    "lines_to_next_cell": 2,
    "tags": [
     "remove_cell"
    ]
   },
   "outputs": [],
   "source": [
    "knitr::opts_chunk$set(\n",
    "  collapse = TRUE,\n",
    "  comment = \"#>\"\n",
    ")"
   ]
  },
  {
   "cell_type": "code",
   "execution_count": null,
<<<<<<< HEAD
   "id": "abac5723",
=======
   "id": "8173accf",
>>>>>>> documentation
   "metadata": {
    "eval": false,
    "tags": [
     "remove_cell"
    ]
   },
   "outputs": [],
   "source": [
    "# Install Google Colab dependencies\n",
    "# Note: this can take 30+ minutes (many of the dependencies include C++ code, which needs to be compiled)\n",
    "\n",
    "# First install `sf`, `ragg` and `textshaping` and their system dependencies:\n",
    "system(\"apt-get -y update && apt-get install -y  libudunits2-dev libgdal-dev libgeos-dev libproj-dev libharfbuzz-dev libfribidi-dev\")\n",
    "install.packages(\"sf\")\n",
    "install.packages(\"textshaping\")\n",
    "install.packages(\"ragg\")\n",
    "\n",
    "# Install system dependencies of some other R packages that Voyager either imports or suggests:\n",
    "system(\"apt-get install -y libfribidi-dev libcairo2-dev libmagick++-dev\")\n",
    "\n",
    "# Install Voyager from Bioconductor:\n",
    "install.packages(\"BiocManager\")\n",
    "BiocManager::install(version = \"3.17\", ask = FALSE, update = FALSE, Ncpus = 2)\n",
    "BiocManager::install(\"scater\")\n",
    "system.time(\n",
    "  BiocManager::install(\"Voyager\", dependencies = TRUE, Ncpus = 2, update = FALSE)\n",
    ")\n",
    "\n",
    "# Other packages used in this vignette\n",
    "packageVersion(\"Voyager\")"
   ]
  },
  {
   "cell_type": "markdown",
<<<<<<< HEAD
   "id": "f8b2b095",
=======
   "id": "99d523eb",
>>>>>>> documentation
   "metadata": {
    "lines_to_next_cell": 0
   },
   "source": [
    "# Introduction\n",
    "Local Geary's C [@Anselin1995-cs] is defined as:\n",
    "\n",
    "$$\n",
    "c_i = \\sum_jw_{ij}(x_i - x_j)^2,\n",
    "$$\n",
    "\n",
    "where $w_{ij}$s are spatial weights from location $i$ to location $j$ and $x$ is a variable at spatial location. This is generalized to multiple variables in [@Anselin2019-uv]:\n",
    "\n",
    "$$\n",
    "c_{k,i} = \\sum_{v=1}^k c_{v,i},\n",
    "$$\n",
    "\n",
    "where there are $k$ variables. This is essentially a spatially weighted sum of squared distances between locations in feature space. This vignette demonstrates usage of multivariate local Geary's C.\n",
    "\n",
    "Here we load the packages used:"
   ]
  },
  {
   "cell_type": "code",
   "execution_count": null,
<<<<<<< HEAD
   "id": "625ec654",
=======
   "id": "ea5e794c",
>>>>>>> documentation
   "metadata": {
    "message": false
   },
   "outputs": [],
   "source": [
    "library(Voyager)\n",
    "library(SFEData)\n",
    "library(SpatialFeatureExperiment)\n",
    "library(scater)\n",
    "library(scran)\n",
    "library(ggplot2)\n",
    "library(spdep)\n",
    "theme_set(theme_bw())"
   ]
  },
  {
   "cell_type": "markdown",
<<<<<<< HEAD
   "id": "949342e7",
=======
   "id": "bb899357",
>>>>>>> documentation
   "metadata": {
    "lines_to_next_cell": 0
   },
   "source": [
    "QC was performed in [another vignette](https://pachterlab.github.io/voyager/articles/vig1_visium_basic.html), so this vignette will not plot QC metrics."
   ]
  },
  {
   "cell_type": "code",
   "execution_count": null,
<<<<<<< HEAD
   "id": "a4c011b6",
=======
   "id": "cfc1fd3b",
>>>>>>> documentation
   "metadata": {},
   "outputs": [],
   "source": [
    "(sfe <- McKellarMuscleData(\"full\"))"
   ]
  },
  {
   "cell_type": "markdown",
<<<<<<< HEAD
   "id": "b23bed72",
=======
   "id": "930e80dd",
>>>>>>> documentation
   "metadata": {
    "lines_to_next_cell": 0
   },
   "source": [
    "The image can be added to the SFE object and plotted behind the geometries, and needs to be flipped to align to the spots because the origin is at the top left for the image but bottom left for geometries."
   ]
  },
  {
   "cell_type": "code",
   "execution_count": null,
<<<<<<< HEAD
   "id": "32f82d23",
=======
   "id": "bdbb0f13",
>>>>>>> documentation
   "metadata": {},
   "outputs": [],
   "source": [
    "if (!file.exists(\"tissue_lowres_5a.jpeg\")) {\n",
    "    download.file(\"https://raw.githubusercontent.com/pachterlab/voyager/main/vignettes/tissue_lowres_5a.jpeg\",\n",
    "                  destfile = \"tissue_lowres_5a.jpeg\")\n",
    "}"
   ]
  },
  {
   "cell_type": "code",
   "execution_count": null,
<<<<<<< HEAD
   "id": "17f1b8dc",
=======
   "id": "325efb26",
>>>>>>> documentation
   "metadata": {},
   "outputs": [],
   "source": [
    "sfe <- addImg(sfe, file = \"tissue_lowres_5a.jpeg\", sample_id = \"Vis5A\", \n",
    "              image_id = \"lowres\", \n",
    "              scale_fct = 1024/22208)\n",
    "sfe <- mirrorImg(sfe, sample_id = \"Vis5A\", image_id = \"lowres\")"
   ]
  },
  {
   "cell_type": "code",
   "execution_count": null,
<<<<<<< HEAD
   "id": "8131922d",
=======
   "id": "1d6e0f1f",
>>>>>>> documentation
   "metadata": {},
   "outputs": [],
   "source": [
    "sfe_tissue <- sfe[,colData(sfe)$in_tissue]\n",
    "sfe_tissue <- sfe_tissue[rowSums(counts(sfe_tissue)) > 0,]"
   ]
  },
  {
   "cell_type": "code",
   "execution_count": null,
<<<<<<< HEAD
   "id": "5626cd86",
=======
   "id": "82b49bcc",
>>>>>>> documentation
   "metadata": {},
   "outputs": [],
   "source": [
    "sfe_tissue <- logNormCounts(sfe_tissue)"
   ]
  },
  {
   "cell_type": "code",
   "execution_count": null,
<<<<<<< HEAD
   "id": "44dd4d39",
=======
   "id": "70158d10",
>>>>>>> documentation
   "metadata": {},
   "outputs": [],
   "source": [
    "colGraph(sfe_tissue, \"visium\") <- findVisiumGraph(sfe_tissue)"
   ]
  },
  {
   "cell_type": "markdown",
<<<<<<< HEAD
   "id": "c2c586b9",
=======
   "id": "bd5e69a6",
>>>>>>> documentation
   "metadata": {
    "lines_to_next_cell": 0
   },
   "source": [
    "# Gene expression\n",
    "Here we compute multivariate local C for top highly variagle genes (HVGs) in this dataset:"
   ]
  },
  {
   "cell_type": "code",
   "execution_count": null,
<<<<<<< HEAD
   "id": "ca1cee74",
=======
   "id": "25366699",
>>>>>>> documentation
   "metadata": {},
   "outputs": [],
   "source": [
    "hvgs <- getTopHVGs(sfe_tissue, fdr.threshold = 0.01)"
   ]
  },
  {
   "cell_type": "code",
   "execution_count": null,
<<<<<<< HEAD
   "id": "0f72d4cd",
=======
   "id": "123451ef",
>>>>>>> documentation
   "metadata": {},
   "outputs": [],
   "source": [
    "sfe_tissue <- runMultivariate(sfe_tissue, \"localC_perm_multi\", subset_row = hvgs)"
   ]
  },
  {
   "cell_type": "markdown",
<<<<<<< HEAD
   "id": "3d7f02dc",
=======
   "id": "14f3ae58",
>>>>>>> documentation
   "metadata": {
    "lines_to_next_cell": 0
   },
   "source": [
    "The results are stored in `reducedDim` although it's not really a dimension reduction. It can also go into `colData` if `dest = \"colData\"`. The test is two sided, but the `alternative` argument can be set to \"greater\" to only test for positive spatial autocorrelation and \"less\" for negative spatial autocorrelation."
   ]
  },
  {
   "cell_type": "code",
   "execution_count": null,
<<<<<<< HEAD
   "id": "dbdd8e62",
=======
   "id": "b4e71b5b",
>>>>>>> documentation
   "metadata": {},
   "outputs": [],
   "source": [
    "names(reducedDim(sfe_tissue, \"localC_perm_multi\"))"
   ]
  },
  {
   "cell_type": "code",
   "execution_count": null,
<<<<<<< HEAD
   "id": "2bb639a0",
=======
   "id": "f83446f4",
>>>>>>> documentation
   "metadata": {},
   "outputs": [],
   "source": [
    "spatialReducedDim(sfe_tissue, \"localC_perm_multi\", c(1, 12),\n",
    "                  image_id = \"lowres\", maxcell = 5e4)"
   ]
  },
  {
   "cell_type": "markdown",
<<<<<<< HEAD
   "id": "4546d924",
=======
   "id": "7d244ce8",
>>>>>>> documentation
   "metadata": {},
   "source": [
    "In Geary's C, a value below 1 indicates positive spatial autocorrelation and a value above 1 indicates negative spatial autocorrelation. Local Geary's C is not scaled, but from the square difference expression, a low value means a more homogeneous neighborhood and a high value means a more heterogeneous neighborhood. Here considering all 341 top HVGs, the muscle tendon junction and the unjury site are more heterogeneous, which is detected as negative cluster.\n",
    "\n",
    "Permutation testing was performed, although Anselin noted that the pseudo-p-values should only be taken as indicative of _interesting_ regions and should not be interpreted in a strict sense."
   ]
  },
  {
   "cell_type": "code",
   "execution_count": null,
<<<<<<< HEAD
   "id": "173997db",
=======
   "id": "ee466ed3",
>>>>>>> documentation
   "metadata": {},
   "outputs": [],
   "source": [
    "spatialReducedDim(sfe_tissue, \"localC_perm_multi\", c(11, 12),\n",
    "                  image_id = \"lowres\", maxcell = 5e4, \n",
    "                  divergent = TRUE, diverge_center = -log10(0.05))"
   ]
  },
  {
   "cell_type": "markdown",
<<<<<<< HEAD
   "id": "3cfcc2c1",
=======
   "id": "8066c7a5",
>>>>>>> documentation
   "metadata": {},
   "source": [
    "Warm colors indicate adjusted p < 0.05. This should be interpreted along with the clusters. In this dataset, there are interestingly homogeneous regions in the myofibers, and an interestingly heterogeneous region in the injury site. Most of the significant regions are positive cluster, but the center of the injury site is significant and is negative cluster.\n",
    "\n",
    "# Top principal components\n",
    "Because multivariate local Geary's C is a spatially weighted sum of squared distances between locations in feature space, it's affected by the curse of dimensionality when used on a large number of features, when uniformly distributed data points in higher dimensions become more equidistant to each other with increasing number of dimensions. However, real data is not uniformly distributed and can have a much smaller effective dimension than the number of features, as many genes are co-regulated. Anselin suggested using the main principal components, but the issue of curse of dimensionality remains to be further investigated. Furthermore, as the cosine and Manhattan distances have been suggested to mitigate curse of dimensionality, I wonder what if I use these instead of the Euclidean distance in feature space for multivariate local Geary's C.\n",
    "\n",
    "So here we perform multivariate local Geary's C on the top PCs:"
   ]
  },
  {
   "cell_type": "code",
   "execution_count": null,
<<<<<<< HEAD
   "id": "8259b325",
=======
   "id": "2d02513b",
>>>>>>> documentation
   "metadata": {},
   "outputs": [],
   "source": [
    "sfe_tissue <- runPCA(sfe_tissue, ncomponents = 20, scale = TRUE)"
   ]
  },
  {
   "cell_type": "code",
   "execution_count": null,
<<<<<<< HEAD
   "id": "565ed3c4",
=======
   "id": "9bc9cd4a",
>>>>>>> documentation
   "metadata": {},
   "outputs": [],
   "source": [
    "ElbowPlot(sfe_tissue)"
   ]
  },
  {
   "cell_type": "markdown",
<<<<<<< HEAD
   "id": "e9ffb10b",
=======
   "id": "a788be46",
>>>>>>> documentation
   "metadata": {
    "lines_to_next_cell": 0
   },
   "source": [
    "What percentage of variance is explained by the top 20 PCs?"
   ]
  },
  {
   "cell_type": "code",
   "execution_count": null,
<<<<<<< HEAD
   "id": "3498b55b",
=======
   "id": "2a6bcb3a",
>>>>>>> documentation
   "metadata": {},
   "outputs": [],
   "source": [
    "sum(attr(reducedDim(sfe_tissue, \"PCA\"), \"percentVar\"))"
   ]
  },
  {
   "cell_type": "code",
   "execution_count": null,
<<<<<<< HEAD
   "id": "83220504",
=======
   "id": "2b7882bc",
>>>>>>> documentation
   "metadata": {},
   "outputs": [],
   "source": [
    "out <- localC_perm(reducedDim(sfe_tissue, \"PCA\"), \n",
    "                   listw = colGraph(sfe_tissue, \"visium\"))\n",
    "out <- Voyager:::.localCpermmulti2df(out, \n",
    "                                     nb = colGraph(sfe_tissue, \"visium\")$neighbours,\n",
    "                                     p.adjust.method = \"BH\")\n",
    "reducedDim(sfe_tissue, \"localC_PCs\", withDimnames = FALSE) <- out"
   ]
  },
  {
   "cell_type": "code",
   "execution_count": null,
<<<<<<< HEAD
   "id": "50ee64dc",
=======
   "id": "e3e63e69",
>>>>>>> documentation
   "metadata": {},
   "outputs": [],
   "source": [
    "spatialReducedDim(sfe_tissue, \"localC_PCs\", c(1, 12),\n",
    "                  image_id = \"lowres\", maxcell = 5e4)"
   ]
  },
  {
   "cell_type": "code",
   "execution_count": null,
<<<<<<< HEAD
   "id": "e2685844",
=======
   "id": "762f85c7",
>>>>>>> documentation
   "metadata": {},
   "outputs": [],
   "source": [
    "spatialReducedDim(sfe_tissue, \"localC_PCs\", c(11, 12),\n",
    "                  image_id = \"lowres\", maxcell = 5e4, \n",
    "                  divergent = TRUE, diverge_center = -log10(0.05))"
   ]
  },
  {
   "cell_type": "markdown",
<<<<<<< HEAD
   "id": "0626f4a8",
=======
   "id": "0d78a377",
>>>>>>> documentation
   "metadata": {
    "lines_to_next_cell": 0
   },
   "source": [
    "The area that seem significant from the permutation test is larger than that from the HVGs, and the area considered negative clusters is smaller. The significant regions are pretty much all positive cluster. Do the differences in results have anything to do with curse of dimensionality? Twenty dimensions can still exhibit curse of dimensionality, but over 300 HVGs here would be worse. Or is it that we lose a lot of information, including negative spatial autocorrelation, by only using 20 PCs?\n",
    "\n",
    "# Session info"
   ]
  },
  {
   "cell_type": "code",
   "execution_count": null,
<<<<<<< HEAD
   "id": "1b59ea03",
=======
   "id": "b1be4708",
>>>>>>> documentation
   "metadata": {},
   "outputs": [],
   "source": [
    "sessionInfo()"
   ]
  },
  {
   "cell_type": "markdown",
<<<<<<< HEAD
   "id": "614b9bf0",
=======
   "id": "a01aa4a2",
>>>>>>> documentation
   "metadata": {},
   "source": [
    "# References"
   ]
  }
 ],
 "metadata": {
  "kernelspec": {
   "display_name": "R",
   "language": "R",
   "name": "ir"
  }
 },
 "nbformat": 4,
 "nbformat_minor": 5
}
