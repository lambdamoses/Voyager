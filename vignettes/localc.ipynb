{
 "cells": [
  {
   "cell_type": "raw",
<<<<<<< HEAD
<<<<<<< HEAD
<<<<<<< HEAD
<<<<<<< HEAD
<<<<<<< HEAD
   "id": "4a72781c",
=======
   "id": "fbc61a56",
>>>>>>> documentation-devel
=======
   "id": "b9093484",
>>>>>>> documentation-devel
=======
   "id": "132f7903",
>>>>>>> c9ed93f2a6d5e87fe6759d6fd26c06823f77f3f2
=======
   "id": "ce4ba7ea",
>>>>>>> documentation-devel
=======
   "id": "2fdeaaa4",
>>>>>>> 487d062df8c9b8a19360e92edfd0678a37ff23f4
   "metadata": {},
   "source": [
    "---\n",
    "title: \"Multivariate local Geary's C\"\n",
    "author: \"Lambda Moses\"\n",
    "date: \"`r Sys.Date()`\"\n",
    "output: \n",
    "  html_document:\n",
    "  toc: true\n",
    "  toc_float:\n",
    "    collapsed: false\n",
    "  toc_depth: 3\n",
    "bibliography: ref.bib\n",
    "vignette: >\n",
    "  %\\VignetteIndexEntry{localc}\n",
    "  %\\VignetteEngine{knitr::rmarkdown}\n",
    "  %\\VignetteEncoding{UTF-8}\n",
    "---"
   ]
  },
  {
   "cell_type": "code",
   "execution_count": null,
<<<<<<< HEAD
<<<<<<< HEAD
<<<<<<< HEAD
<<<<<<< HEAD
<<<<<<< HEAD
   "id": "a375cfa0",
=======
   "id": "de996a6c",
>>>>>>> documentation-devel
=======
   "id": "9c60f443",
>>>>>>> documentation-devel
=======
   "id": "a0dd2d8c",
>>>>>>> c9ed93f2a6d5e87fe6759d6fd26c06823f77f3f2
=======
   "id": "40022bbe",
>>>>>>> documentation-devel
=======
   "id": "66ada5cd",
>>>>>>> 487d062df8c9b8a19360e92edfd0678a37ff23f4
   "metadata": {
    "lines_to_next_cell": 2,
    "tags": [
     "remove_cell"
    ]
   },
   "outputs": [],
   "source": [
    "knitr::opts_chunk$set(\n",
    "  collapse = TRUE,\n",
    "  comment = \"#>\"\n",
    ")"
   ]
  },
  {
   "cell_type": "code",
   "execution_count": null,
<<<<<<< HEAD
<<<<<<< HEAD
<<<<<<< HEAD
<<<<<<< HEAD
<<<<<<< HEAD
   "id": "d2350c4b",
=======
   "id": "52369d99",
>>>>>>> documentation-devel
=======
   "id": "8cf153cf",
>>>>>>> documentation-devel
=======
   "id": "7c01fd1e",
>>>>>>> c9ed93f2a6d5e87fe6759d6fd26c06823f77f3f2
=======
   "id": "5e3d9f2d",
>>>>>>> documentation-devel
=======
   "id": "81b3da34",
>>>>>>> 487d062df8c9b8a19360e92edfd0678a37ff23f4
   "metadata": {
    "eval": false,
    "tags": [
     "remove_cell"
    ]
   },
   "outputs": [],
   "source": [
    "# Install Google Colab dependencies\n",
    "# Note: this can take 30+ minutes (many of the dependencies include C++ code, which needs to be compiled)\n",
    "\n",
    "# First install `sf`, `ragg` and `textshaping` and their system dependencies:\n",
    "system(\"apt-get -y update && apt-get install -y  libudunits2-dev libgdal-dev libgeos-dev libproj-dev libharfbuzz-dev libfribidi-dev\")\n",
    "install.packages(\"sf\")\n",
    "install.packages(\"textshaping\")\n",
    "install.packages(\"ragg\")\n",
    "\n",
    "# Install system dependencies of some other R packages that Voyager either imports or suggests:\n",
    "system(\"apt-get install -y libfribidi-dev libcairo2-dev libmagick++-dev\")\n",
    "\n",
    "# Install Voyager from Bioconductor:\n",
    "install.packages(\"BiocManager\")\n",
    "BiocManager::install(version = \"release\", ask = FALSE, update = FALSE, Ncpus = 2)\n",
    "BiocManager::install(\"scater\")\n",
    "system.time(\n",
    "  BiocManager::install(\"Voyager\", dependencies = TRUE, Ncpus = 2, update = FALSE)\n",
    ")\n",
    "\n",
    "# Other packages used in this vignette\n",
    "packageVersion(\"Voyager\")"
   ]
  },
  {
   "cell_type": "markdown",
<<<<<<< HEAD
<<<<<<< HEAD
<<<<<<< HEAD
<<<<<<< HEAD
<<<<<<< HEAD
   "id": "ae8bd7b8",
=======
   "id": "31cad6db",
>>>>>>> documentation-devel
=======
   "id": "01e23b55",
>>>>>>> documentation-devel
=======
   "id": "a30a8ea9",
>>>>>>> c9ed93f2a6d5e87fe6759d6fd26c06823f77f3f2
=======
   "id": "162b5a36",
>>>>>>> documentation-devel
=======
   "id": "c1bf53f8",
>>>>>>> 487d062df8c9b8a19360e92edfd0678a37ff23f4
   "metadata": {
    "lines_to_next_cell": 0
   },
   "source": [
    "# Introduction\n",
    "Local Geary's C [@Anselin1995-cs] is defined as:\n",
    "\n",
    "$$\n",
    "c_i = \\sum_jw_{ij}(x_i - x_j)^2,\n",
    "$$\n",
    "\n",
    "where $w_{ij}$s are spatial weights from location $i$ to location $j$ and $x$ is a variable at spatial location. This is generalized to multiple variables in [@Anselin2019-uv]:\n",
    "\n",
    "$$\n",
    "c_{k,i} = \\sum_{v=1}^k c_{v,i},\n",
    "$$\n",
    "\n",
    "where there are $k$ variables. This is essentially a spatially weighted sum of squared distances between locations in feature space. This vignette demonstrates usage of multivariate local Geary's C.\n",
    "\n",
    "Here we load the packages used:"
   ]
  },
  {
   "cell_type": "code",
   "execution_count": null,
<<<<<<< HEAD
<<<<<<< HEAD
<<<<<<< HEAD
<<<<<<< HEAD
<<<<<<< HEAD
   "id": "7c7dd8aa",
=======
   "id": "ca2a59aa",
>>>>>>> documentation-devel
=======
   "id": "b291053a",
>>>>>>> documentation-devel
=======
   "id": "88b3e039",
>>>>>>> c9ed93f2a6d5e87fe6759d6fd26c06823f77f3f2
=======
   "id": "4fea346c",
>>>>>>> documentation-devel
=======
   "id": "65140e33",
>>>>>>> 487d062df8c9b8a19360e92edfd0678a37ff23f4
   "metadata": {
    "message": false
   },
   "outputs": [],
   "source": [
    "library(Voyager)\n",
    "library(SFEData)\n",
    "library(SpatialFeatureExperiment)\n",
    "library(scater)\n",
    "library(scran)\n",
    "library(ggplot2)\n",
    "library(spdep)\n",
    "theme_set(theme_bw())"
   ]
  },
  {
   "cell_type": "markdown",
<<<<<<< HEAD
<<<<<<< HEAD
<<<<<<< HEAD
<<<<<<< HEAD
<<<<<<< HEAD
   "id": "d3c535bc",
=======
   "id": "4f33626c",
>>>>>>> documentation-devel
=======
   "id": "e0e7d990",
>>>>>>> documentation-devel
=======
   "id": "65127b00",
>>>>>>> c9ed93f2a6d5e87fe6759d6fd26c06823f77f3f2
=======
   "id": "68ec7c09",
>>>>>>> documentation-devel
=======
   "id": "dec2d52e",
>>>>>>> 487d062df8c9b8a19360e92edfd0678a37ff23f4
   "metadata": {
    "lines_to_next_cell": 0
   },
   "source": [
    "QC was performed in [another vignette](https://pachterlab.github.io/voyager/articles/vig1_visium_basic.html), so this vignette will not plot QC metrics."
   ]
  },
  {
   "cell_type": "code",
   "execution_count": null,
<<<<<<< HEAD
<<<<<<< HEAD
<<<<<<< HEAD
<<<<<<< HEAD
<<<<<<< HEAD
   "id": "266581df",
=======
   "id": "15d7f0a3",
>>>>>>> documentation-devel
=======
   "id": "dbd181c3",
>>>>>>> documentation-devel
=======
   "id": "f242938a",
>>>>>>> c9ed93f2a6d5e87fe6759d6fd26c06823f77f3f2
=======
   "id": "1ae98f1d",
>>>>>>> documentation-devel
=======
   "id": "850fb244",
>>>>>>> 487d062df8c9b8a19360e92edfd0678a37ff23f4
   "metadata": {},
   "outputs": [],
   "source": [
    "(sfe <- McKellarMuscleData(\"full\"))"
   ]
  },
  {
   "cell_type": "markdown",
<<<<<<< HEAD
<<<<<<< HEAD
<<<<<<< HEAD
<<<<<<< HEAD
<<<<<<< HEAD
   "id": "c0d948cf",
=======
   "id": "e971dfa0",
>>>>>>> documentation-devel
=======
   "id": "1d009488",
>>>>>>> documentation-devel
=======
   "id": "a64f91ae",
>>>>>>> c9ed93f2a6d5e87fe6759d6fd26c06823f77f3f2
=======
   "id": "dc710120",
>>>>>>> documentation-devel
=======
   "id": "99517046",
>>>>>>> 487d062df8c9b8a19360e92edfd0678a37ff23f4
   "metadata": {
    "lines_to_next_cell": 0
   },
   "source": [
    "The image can be added to the SFE object and plotted behind the geometries, and needs to be flipped to align to the spots because the origin is at the top left for the image but bottom left for geometries."
   ]
  },
  {
   "cell_type": "code",
   "execution_count": null,
<<<<<<< HEAD
<<<<<<< HEAD
<<<<<<< HEAD
<<<<<<< HEAD
<<<<<<< HEAD
   "id": "55b56547",
=======
   "id": "50300454",
>>>>>>> documentation-devel
=======
   "id": "03e28923",
>>>>>>> documentation-devel
=======
   "id": "bc330deb",
>>>>>>> c9ed93f2a6d5e87fe6759d6fd26c06823f77f3f2
=======
   "id": "0d163463",
>>>>>>> documentation-devel
=======
   "id": "036abdd4",
>>>>>>> 487d062df8c9b8a19360e92edfd0678a37ff23f4
   "metadata": {},
   "outputs": [],
   "source": [
    "if (!file.exists(\"tissue_lowres_5a.jpeg\")) {\n",
    "    download.file(\"https://raw.githubusercontent.com/pachterlab/voyager/main/vignettes/tissue_lowres_5a.jpeg\",\n",
    "                  destfile = \"tissue_lowres_5a.jpeg\")\n",
    "}"
   ]
  },
  {
   "cell_type": "code",
   "execution_count": null,
<<<<<<< HEAD
<<<<<<< HEAD
<<<<<<< HEAD
<<<<<<< HEAD
<<<<<<< HEAD
   "id": "d0cbf0bc",
=======
   "id": "c196f8fc",
>>>>>>> documentation-devel
=======
   "id": "e11a2ed7",
>>>>>>> documentation-devel
=======
   "id": "54e02bc6",
>>>>>>> c9ed93f2a6d5e87fe6759d6fd26c06823f77f3f2
=======
   "id": "0d74167e",
>>>>>>> documentation-devel
=======
   "id": "5be3d222",
>>>>>>> 487d062df8c9b8a19360e92edfd0678a37ff23f4
   "metadata": {},
   "outputs": [],
   "source": [
    "sfe <- addImg(sfe, imageSource = \"tissue_lowres_5a.jpeg\", sample_id = \"Vis5A\", \n",
    "              image_id = \"lowres\", \n",
    "              scale_fct = 1024/22208)"
   ]
  },
  {
   "cell_type": "code",
   "execution_count": null,
<<<<<<< HEAD
<<<<<<< HEAD
<<<<<<< HEAD
<<<<<<< HEAD
<<<<<<< HEAD
   "id": "abc90295",
=======
   "id": "3c157f90",
>>>>>>> documentation-devel
=======
   "id": "899c61ac",
>>>>>>> documentation-devel
=======
   "id": "0411f5ca",
>>>>>>> c9ed93f2a6d5e87fe6759d6fd26c06823f77f3f2
=======
   "id": "78eaa611",
>>>>>>> documentation-devel
=======
   "id": "b3168f58",
>>>>>>> 487d062df8c9b8a19360e92edfd0678a37ff23f4
   "metadata": {},
   "outputs": [],
   "source": [
    "sfe_tissue <- sfe[,colData(sfe)$in_tissue]\n",
    "sfe_tissue <- sfe_tissue[rowSums(counts(sfe_tissue)) > 0,]"
   ]
  },
  {
   "cell_type": "code",
   "execution_count": null,
<<<<<<< HEAD
<<<<<<< HEAD
<<<<<<< HEAD
<<<<<<< HEAD
<<<<<<< HEAD
   "id": "3caf1087",
=======
   "id": "29e921f8",
>>>>>>> documentation-devel
=======
   "id": "4a9c83d7",
>>>>>>> documentation-devel
=======
   "id": "bc5f4709",
>>>>>>> c9ed93f2a6d5e87fe6759d6fd26c06823f77f3f2
=======
   "id": "4c934763",
>>>>>>> documentation-devel
=======
   "id": "f19d641b",
>>>>>>> 487d062df8c9b8a19360e92edfd0678a37ff23f4
   "metadata": {},
   "outputs": [],
   "source": [
    "sfe_tissue <- logNormCounts(sfe_tissue)"
   ]
  },
  {
   "cell_type": "code",
   "execution_count": null,
<<<<<<< HEAD
<<<<<<< HEAD
<<<<<<< HEAD
<<<<<<< HEAD
<<<<<<< HEAD
   "id": "e832e8c7",
=======
   "id": "9906542f",
>>>>>>> documentation-devel
=======
   "id": "869596d6",
>>>>>>> documentation-devel
=======
   "id": "3658a11f",
>>>>>>> c9ed93f2a6d5e87fe6759d6fd26c06823f77f3f2
=======
   "id": "ddd791ca",
>>>>>>> documentation-devel
=======
   "id": "d7a8c59f",
>>>>>>> 487d062df8c9b8a19360e92edfd0678a37ff23f4
   "metadata": {},
   "outputs": [],
   "source": [
    "colGraph(sfe_tissue, \"visium\") <- findVisiumGraph(sfe_tissue)"
   ]
  },
  {
   "cell_type": "markdown",
<<<<<<< HEAD
<<<<<<< HEAD
<<<<<<< HEAD
<<<<<<< HEAD
<<<<<<< HEAD
   "id": "0a1d0f01",
=======
   "id": "0827c3de",
>>>>>>> documentation-devel
=======
   "id": "6135db19",
>>>>>>> documentation-devel
=======
   "id": "336e71ef",
>>>>>>> c9ed93f2a6d5e87fe6759d6fd26c06823f77f3f2
=======
   "id": "d7682eb9",
>>>>>>> documentation-devel
=======
   "id": "34fe1011",
>>>>>>> 487d062df8c9b8a19360e92edfd0678a37ff23f4
   "metadata": {
    "lines_to_next_cell": 0
   },
   "source": [
    "# Gene expression\n",
    "Here we compute multivariate local C for top highly variagle genes (HVGs) in this dataset:"
   ]
  },
  {
   "cell_type": "code",
   "execution_count": null,
<<<<<<< HEAD
<<<<<<< HEAD
<<<<<<< HEAD
<<<<<<< HEAD
<<<<<<< HEAD
   "id": "d0c46a9c",
=======
   "id": "050ea009",
>>>>>>> documentation-devel
=======
   "id": "e93eb624",
>>>>>>> documentation-devel
=======
   "id": "2843035a",
>>>>>>> c9ed93f2a6d5e87fe6759d6fd26c06823f77f3f2
=======
   "id": "cd1d00c0",
>>>>>>> documentation-devel
=======
   "id": "e7eca4f9",
>>>>>>> 487d062df8c9b8a19360e92edfd0678a37ff23f4
   "metadata": {},
   "outputs": [],
   "source": [
    "hvgs <- getTopHVGs(sfe_tissue, fdr.threshold = 0.01)"
   ]
  },
  {
   "cell_type": "code",
   "execution_count": null,
<<<<<<< HEAD
<<<<<<< HEAD
<<<<<<< HEAD
<<<<<<< HEAD
<<<<<<< HEAD
   "id": "5ed6b1d2",
=======
   "id": "c5c1f14b",
>>>>>>> documentation-devel
=======
   "id": "e01cb5fc",
>>>>>>> documentation-devel
=======
   "id": "bc91cce5",
>>>>>>> c9ed93f2a6d5e87fe6759d6fd26c06823f77f3f2
=======
   "id": "ad4e4caf",
>>>>>>> documentation-devel
=======
   "id": "4ec9281a",
>>>>>>> 487d062df8c9b8a19360e92edfd0678a37ff23f4
   "metadata": {},
   "outputs": [],
   "source": [
    "sfe_tissue <- runMultivariate(sfe_tissue, \"localC_perm_multi\", subset_row = hvgs)"
   ]
  },
  {
   "cell_type": "markdown",
<<<<<<< HEAD
<<<<<<< HEAD
<<<<<<< HEAD
<<<<<<< HEAD
<<<<<<< HEAD
   "id": "2cdc5401",
=======
   "id": "990f9885",
>>>>>>> documentation-devel
=======
   "id": "6966d5d7",
>>>>>>> documentation-devel
=======
   "id": "73e228f4",
>>>>>>> c9ed93f2a6d5e87fe6759d6fd26c06823f77f3f2
=======
   "id": "0f0019d2",
>>>>>>> documentation-devel
=======
   "id": "1ac9177a",
>>>>>>> 487d062df8c9b8a19360e92edfd0678a37ff23f4
   "metadata": {
    "lines_to_next_cell": 0
   },
   "source": [
    "The results are stored in `reducedDim` although it's not really a dimension reduction. It can also go into `colData` if `dest = \"colData\"`. The test is two sided, but the `alternative` argument can be set to \"greater\" to only test for positive spatial autocorrelation and \"less\" for negative spatial autocorrelation."
   ]
  },
  {
   "cell_type": "code",
   "execution_count": null,
<<<<<<< HEAD
<<<<<<< HEAD
<<<<<<< HEAD
<<<<<<< HEAD
<<<<<<< HEAD
   "id": "8b2f93f3",
=======
   "id": "28e8c34a",
>>>>>>> documentation-devel
=======
   "id": "3b58feec",
>>>>>>> documentation-devel
=======
   "id": "c496320c",
>>>>>>> c9ed93f2a6d5e87fe6759d6fd26c06823f77f3f2
=======
   "id": "5f0562d1",
>>>>>>> documentation-devel
=======
   "id": "f40af755",
>>>>>>> 487d062df8c9b8a19360e92edfd0678a37ff23f4
   "metadata": {},
   "outputs": [],
   "source": [
    "names(reducedDim(sfe_tissue, \"localC_perm_multi\"))"
   ]
  },
  {
   "cell_type": "code",
   "execution_count": null,
<<<<<<< HEAD
<<<<<<< HEAD
<<<<<<< HEAD
<<<<<<< HEAD
<<<<<<< HEAD
   "id": "ce357405",
=======
   "id": "2f1ec008",
>>>>>>> documentation-devel
=======
   "id": "11d02eed",
>>>>>>> documentation-devel
=======
   "id": "bd6e29c3",
>>>>>>> c9ed93f2a6d5e87fe6759d6fd26c06823f77f3f2
=======
   "id": "4d696933",
>>>>>>> documentation-devel
=======
   "id": "52d78fb8",
>>>>>>> 487d062df8c9b8a19360e92edfd0678a37ff23f4
   "metadata": {},
   "outputs": [],
   "source": [
    "spatialReducedDim(sfe_tissue, \"localC_perm_multi\", c(1, 12),\n",
    "                  image_id = \"lowres\", maxcell = 5e4)"
   ]
  },
  {
   "cell_type": "markdown",
<<<<<<< HEAD
<<<<<<< HEAD
<<<<<<< HEAD
<<<<<<< HEAD
<<<<<<< HEAD
   "id": "92e6c517",
=======
   "id": "ea8995e0",
>>>>>>> documentation-devel
=======
   "id": "c068d6f8",
>>>>>>> documentation-devel
=======
   "id": "fb8c6687",
>>>>>>> c9ed93f2a6d5e87fe6759d6fd26c06823f77f3f2
=======
   "id": "5c55dea3",
>>>>>>> documentation-devel
=======
   "id": "ca9f6f59",
>>>>>>> 487d062df8c9b8a19360e92edfd0678a37ff23f4
   "metadata": {},
   "source": [
    "In Geary's C, a value below 1 indicates positive spatial autocorrelation and a value above 1 indicates negative spatial autocorrelation. Local Geary's C is not scaled, but from the square difference expression, a low value means a more homogeneous neighborhood and a high value means a more heterogeneous neighborhood. Here considering all 341 top HVGs, the muscle tendon junction and the unjury site are more heterogeneous, which is detected as negative cluster.\n",
    "\n",
    "Permutation testing was performed, although Anselin noted that the pseudo-p-values should only be taken as indicative of _interesting_ regions and should not be interpreted in a strict sense."
   ]
  },
  {
   "cell_type": "code",
   "execution_count": null,
<<<<<<< HEAD
<<<<<<< HEAD
<<<<<<< HEAD
<<<<<<< HEAD
<<<<<<< HEAD
   "id": "63162d95",
=======
   "id": "653e4e24",
>>>>>>> documentation-devel
=======
   "id": "cd6f80e0",
>>>>>>> documentation-devel
=======
   "id": "2747d41b",
>>>>>>> c9ed93f2a6d5e87fe6759d6fd26c06823f77f3f2
=======
   "id": "a57b274e",
>>>>>>> documentation-devel
=======
   "id": "28744f17",
>>>>>>> 487d062df8c9b8a19360e92edfd0678a37ff23f4
   "metadata": {},
   "outputs": [],
   "source": [
    "spatialReducedDim(sfe_tissue, \"localC_perm_multi\", c(11, 12),\n",
    "                  image_id = \"lowres\", maxcell = 5e4, \n",
    "                  divergent = TRUE, diverge_center = -log10(0.05))"
   ]
  },
  {
   "cell_type": "markdown",
<<<<<<< HEAD
<<<<<<< HEAD
<<<<<<< HEAD
<<<<<<< HEAD
<<<<<<< HEAD
   "id": "46a8a795",
=======
   "id": "1412c0b8",
>>>>>>> documentation-devel
=======
   "id": "5fe893ed",
>>>>>>> documentation-devel
=======
   "id": "b7174d34",
>>>>>>> c9ed93f2a6d5e87fe6759d6fd26c06823f77f3f2
=======
   "id": "bd18c62c",
>>>>>>> documentation-devel
=======
   "id": "8b48047d",
>>>>>>> 487d062df8c9b8a19360e92edfd0678a37ff23f4
   "metadata": {},
   "source": [
    "Warm colors indicate adjusted p < 0.05. This should be interpreted along with the clusters. In this dataset, there are interestingly homogeneous regions in the myofibers, and an interestingly heterogeneous region in the injury site. Most of the significant regions are positive cluster, but the center of the injury site is significant and is negative cluster.\n",
    "\n",
    "# Top principal components\n",
    "Because multivariate local Geary's C is a spatially weighted sum of squared distances between locations in feature space, it's affected by the curse of dimensionality when used on a large number of features, when uniformly distributed data points in higher dimensions become more equidistant to each other with increasing number of dimensions. However, real data is not uniformly distributed and can have a much smaller effective dimension than the number of features, as many genes are co-regulated. Anselin suggested using the main principal components, but the issue of curse of dimensionality remains to be further investigated. Furthermore, as the cosine and Manhattan distances have been suggested to mitigate curse of dimensionality, I wonder what if I use these instead of the Euclidean distance in feature space for multivariate local Geary's C.\n",
    "\n",
    "So here we perform multivariate local Geary's C on the top PCs:"
   ]
  },
  {
   "cell_type": "code",
   "execution_count": null,
<<<<<<< HEAD
<<<<<<< HEAD
<<<<<<< HEAD
<<<<<<< HEAD
<<<<<<< HEAD
   "id": "d5408209",
=======
   "id": "574d851f",
>>>>>>> documentation-devel
=======
   "id": "b29e87cc",
>>>>>>> documentation-devel
=======
   "id": "07abb254",
>>>>>>> c9ed93f2a6d5e87fe6759d6fd26c06823f77f3f2
=======
   "id": "53332b3d",
>>>>>>> documentation-devel
=======
   "id": "ae91e0f2",
>>>>>>> 487d062df8c9b8a19360e92edfd0678a37ff23f4
   "metadata": {},
   "outputs": [],
   "source": [
    "sfe_tissue <- runPCA(sfe_tissue, ncomponents = 20, scale = TRUE)"
   ]
  },
  {
   "cell_type": "code",
   "execution_count": null,
<<<<<<< HEAD
<<<<<<< HEAD
<<<<<<< HEAD
<<<<<<< HEAD
<<<<<<< HEAD
   "id": "64f2ab48",
=======
   "id": "427d76fa",
>>>>>>> documentation-devel
=======
   "id": "e70964f7",
>>>>>>> documentation-devel
=======
   "id": "85d66e72",
>>>>>>> c9ed93f2a6d5e87fe6759d6fd26c06823f77f3f2
=======
   "id": "c03af818",
>>>>>>> documentation-devel
=======
   "id": "a3b5f717",
>>>>>>> 487d062df8c9b8a19360e92edfd0678a37ff23f4
   "metadata": {},
   "outputs": [],
   "source": [
    "ElbowPlot(sfe_tissue)"
   ]
  },
  {
   "cell_type": "markdown",
<<<<<<< HEAD
<<<<<<< HEAD
<<<<<<< HEAD
<<<<<<< HEAD
<<<<<<< HEAD
   "id": "d6391ce0",
=======
   "id": "55f11431",
>>>>>>> documentation-devel
=======
   "id": "081b9536",
>>>>>>> documentation-devel
=======
   "id": "7a4d4722",
>>>>>>> c9ed93f2a6d5e87fe6759d6fd26c06823f77f3f2
=======
   "id": "42b3d350",
>>>>>>> documentation-devel
=======
   "id": "b3f20cb1",
>>>>>>> 487d062df8c9b8a19360e92edfd0678a37ff23f4
   "metadata": {
    "lines_to_next_cell": 0
   },
   "source": [
    "What percentage of variance is explained by the top 20 PCs?"
   ]
  },
  {
   "cell_type": "code",
   "execution_count": null,
<<<<<<< HEAD
<<<<<<< HEAD
<<<<<<< HEAD
<<<<<<< HEAD
<<<<<<< HEAD
   "id": "15a812a5",
=======
   "id": "b03a9ade",
>>>>>>> documentation-devel
=======
   "id": "c6f389d0",
>>>>>>> documentation-devel
=======
   "id": "c2c6c6fe",
>>>>>>> c9ed93f2a6d5e87fe6759d6fd26c06823f77f3f2
=======
   "id": "e3f1674a",
>>>>>>> documentation-devel
=======
   "id": "8df5178e",
>>>>>>> 487d062df8c9b8a19360e92edfd0678a37ff23f4
   "metadata": {},
   "outputs": [],
   "source": [
    "sum(attr(reducedDim(sfe_tissue, \"PCA\"), \"percentVar\"))"
   ]
  },
  {
   "cell_type": "code",
   "execution_count": null,
<<<<<<< HEAD
<<<<<<< HEAD
<<<<<<< HEAD
<<<<<<< HEAD
<<<<<<< HEAD
   "id": "c05f4dac",
=======
   "id": "7c95bd4e",
>>>>>>> documentation-devel
=======
   "id": "154fc13d",
>>>>>>> documentation-devel
=======
   "id": "21b046ab",
>>>>>>> c9ed93f2a6d5e87fe6759d6fd26c06823f77f3f2
=======
   "id": "98e50aa2",
>>>>>>> documentation-devel
=======
   "id": "8f148325",
>>>>>>> 487d062df8c9b8a19360e92edfd0678a37ff23f4
   "metadata": {},
   "outputs": [],
   "source": [
    "out <- localC_perm(reducedDim(sfe_tissue, \"PCA\"), \n",
    "                   listw = colGraph(sfe_tissue, \"visium\"))\n",
    "out <- Voyager:::.localCpermmulti2df(out, \n",
    "                                     nb = colGraph(sfe_tissue, \"visium\")$neighbours,\n",
    "                                     p.adjust.method = \"BH\")\n",
    "reducedDim(sfe_tissue, \"localC_PCs\", withDimnames = FALSE) <- out"
   ]
  },
  {
   "cell_type": "code",
   "execution_count": null,
<<<<<<< HEAD
<<<<<<< HEAD
<<<<<<< HEAD
<<<<<<< HEAD
<<<<<<< HEAD
   "id": "8f1d9826",
=======
   "id": "741a9ff2",
>>>>>>> documentation-devel
=======
   "id": "0c330591",
>>>>>>> documentation-devel
=======
   "id": "87ad7fa1",
>>>>>>> c9ed93f2a6d5e87fe6759d6fd26c06823f77f3f2
=======
   "id": "b0ccb379",
>>>>>>> documentation-devel
=======
   "id": "676b32eb",
>>>>>>> 487d062df8c9b8a19360e92edfd0678a37ff23f4
   "metadata": {},
   "outputs": [],
   "source": [
    "spatialReducedDim(sfe_tissue, \"localC_PCs\", c(1, 12),\n",
    "                  image_id = \"lowres\", maxcell = 5e4)"
   ]
  },
  {
   "cell_type": "code",
   "execution_count": null,
<<<<<<< HEAD
<<<<<<< HEAD
<<<<<<< HEAD
<<<<<<< HEAD
<<<<<<< HEAD
   "id": "e918a718",
=======
   "id": "dd868849",
>>>>>>> documentation-devel
=======
   "id": "6eeaa4f9",
>>>>>>> documentation-devel
=======
   "id": "047d52c3",
>>>>>>> c9ed93f2a6d5e87fe6759d6fd26c06823f77f3f2
=======
   "id": "fd779302",
>>>>>>> documentation-devel
=======
   "id": "18bde76a",
>>>>>>> 487d062df8c9b8a19360e92edfd0678a37ff23f4
   "metadata": {},
   "outputs": [],
   "source": [
    "spatialReducedDim(sfe_tissue, \"localC_PCs\", c(11, 12),\n",
    "                  image_id = \"lowres\", maxcell = 5e4, \n",
    "                  divergent = TRUE, diverge_center = -log10(0.05))"
   ]
  },
  {
   "cell_type": "markdown",
<<<<<<< HEAD
<<<<<<< HEAD
<<<<<<< HEAD
<<<<<<< HEAD
<<<<<<< HEAD
   "id": "82eb4aaf",
=======
   "id": "e41dd425",
>>>>>>> documentation-devel
=======
   "id": "f9dcaae2",
>>>>>>> documentation-devel
=======
   "id": "86d3f7c4",
>>>>>>> c9ed93f2a6d5e87fe6759d6fd26c06823f77f3f2
=======
   "id": "4ac801cf",
>>>>>>> documentation-devel
=======
   "id": "bfcac1d7",
>>>>>>> 487d062df8c9b8a19360e92edfd0678a37ff23f4
   "metadata": {
    "lines_to_next_cell": 0
   },
   "source": [
    "The area that seem significant from the permutation test is larger than that from the HVGs, and the area considered negative clusters is smaller. The significant regions are pretty much all positive cluster. Do the differences in results have anything to do with curse of dimensionality? Twenty dimensions can still exhibit curse of dimensionality, but over 300 HVGs here would be worse. Or is it that we lose a lot of information, including negative spatial autocorrelation, by only using 20 PCs?\n",
    "\n",
    "# Session info"
   ]
  },
  {
   "cell_type": "code",
   "execution_count": null,
<<<<<<< HEAD
<<<<<<< HEAD
<<<<<<< HEAD
<<<<<<< HEAD
<<<<<<< HEAD
   "id": "8546abb1",
=======
   "id": "93868c54",
>>>>>>> documentation-devel
=======
   "id": "8c8135b0",
>>>>>>> documentation-devel
=======
   "id": "5b80a015",
>>>>>>> c9ed93f2a6d5e87fe6759d6fd26c06823f77f3f2
=======
   "id": "e809dd95",
>>>>>>> documentation-devel
=======
   "id": "ba8c6399",
>>>>>>> 487d062df8c9b8a19360e92edfd0678a37ff23f4
   "metadata": {},
   "outputs": [],
   "source": [
    "sessionInfo()"
   ]
  },
  {
   "cell_type": "markdown",
<<<<<<< HEAD
<<<<<<< HEAD
<<<<<<< HEAD
<<<<<<< HEAD
<<<<<<< HEAD
   "id": "85638098",
=======
   "id": "c1c71961",
>>>>>>> documentation-devel
=======
   "id": "ce668036",
>>>>>>> documentation-devel
=======
   "id": "c7461066",
>>>>>>> c9ed93f2a6d5e87fe6759d6fd26c06823f77f3f2
=======
   "id": "1079e6d2",
>>>>>>> documentation-devel
=======
   "id": "7db92a62",
>>>>>>> 487d062df8c9b8a19360e92edfd0678a37ff23f4
   "metadata": {},
   "source": [
    "# References"
   ]
  }
 ],
 "metadata": {
  "kernelspec": {
   "display_name": "R",
   "language": "R",
   "name": "ir"
  }
 },
 "nbformat": 4,
 "nbformat_minor": 5
}
