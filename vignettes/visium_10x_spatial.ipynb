{
 "cells": [
  {
   "cell_type": "raw",
<<<<<<< HEAD
<<<<<<< HEAD
<<<<<<< HEAD
   "id": "cd8b2b21",
=======
   "id": "4a879ffa",
>>>>>>> documentation-devel
=======
   "id": "2a764eec",
>>>>>>> documentation-devel
=======
   "id": "5f1f55cd",
>>>>>>> c9ed93f2a6d5e87fe6759d6fd26c06823f77f3f2
   "metadata": {},
   "source": [
    "---\n",
    "title: \"Spatial analysis of 10X example Visium dataset\"\n",
    "author: \"Lambda Moses\"\n",
    "date: \"`r Sys.Date()`\"\n",
    "output: \n",
    "  html_document:\n",
    "  toc: true\n",
    "  toc_float:\n",
    "    collapsed: false\n",
    "  toc_depth: 3\n",
    "bibliography: ref.bib\n",
    "vignette: >\n",
    "  %\\VignetteIndexEntry{visium_10x_spatial}\n",
    "  %\\VignetteEngine{knitr::rmarkdown}\n",
    "  %\\VignetteEncoding{UTF-8}\n",
    "---"
   ]
  },
  {
   "cell_type": "code",
   "execution_count": null,
<<<<<<< HEAD
<<<<<<< HEAD
<<<<<<< HEAD
   "id": "8b877397",
=======
   "id": "58cc2a34",
>>>>>>> documentation-devel
=======
   "id": "3cdc6e49",
>>>>>>> documentation-devel
=======
   "id": "4cbcdca8",
>>>>>>> c9ed93f2a6d5e87fe6759d6fd26c06823f77f3f2
   "metadata": {
    "tags": [
     "remove_cell"
    ]
   },
   "outputs": [],
   "source": [
    "knitr::opts_chunk$set(\n",
    "  collapse = TRUE,\n",
    "  comment = \"#>\"\n",
    ")"
   ]
  },
  {
   "cell_type": "code",
   "execution_count": null,
<<<<<<< HEAD
<<<<<<< HEAD
<<<<<<< HEAD
   "id": "8885af99",
=======
   "id": "888ee711",
>>>>>>> documentation-devel
=======
   "id": "3d07ec0b",
>>>>>>> documentation-devel
=======
   "id": "602aa525",
>>>>>>> c9ed93f2a6d5e87fe6759d6fd26c06823f77f3f2
   "metadata": {
    "eval": false,
    "tags": [
     "remove_cell"
    ]
   },
   "outputs": [],
   "source": [
    "# Install Google Colab dependencies\n",
    "# Note: this can take 30+ minutes (many of the dependencies include C++ code, which needs to be compiled)\n",
    "\n",
    "# First install `sf`, `ragg` and `textshaping` and their system dependencies:\n",
    "system(\"apt-get -y update && apt-get install -y  libudunits2-dev libgdal-dev libgeos-dev libproj-dev libharfbuzz-dev libfribidi-dev\")\n",
    "install.packages(\"sf\")\n",
    "install.packages(\"textshaping\")\n",
    "install.packages(\"ragg\")\n",
    "\n",
    "# Install system dependencies of some other R packages that Voyager either imports or suggests:\n",
    "system(\"apt-get install -y libfribidi-dev libcairo2-dev libmagick++-dev\")\n",
    "\n",
    "# Install Voyager from Bioconductor:\n",
    "install.packages(\"BiocManager\")\n",
    "BiocManager::install(version = \"release\", ask = FALSE, update = FALSE, Ncpus = 2)\n",
    "BiocManager::install(\"scater\")\n",
    "system.time(\n",
    "  BiocManager::install(\"Voyager\", dependencies = TRUE, Ncpus = 2, update = FALSE)\n",
    ")\n",
    "\n",
    "# Additional dependencies for this notebook\n",
    "system(\"apt-get install -y libfftw3-dev libprotobuf-dev\")\n",
    "BiocManager::install(\"EBImage\")\n",
    "BiocManager::install(\"terra\")\n",
    "BiocManager::install(\"rmapshaper\")\n",
    "install.packages(\"reticulate\")\n",
    "\n",
    "packageVersion(\"Voyager\")"
   ]
  },
  {
   "cell_type": "markdown",
<<<<<<< HEAD
<<<<<<< HEAD
<<<<<<< HEAD
   "id": "53fd34c8",
=======
   "id": "b97e57fb",
>>>>>>> documentation-devel
=======
   "id": "70161534",
>>>>>>> documentation-devel
=======
   "id": "6ba781c3",
>>>>>>> c9ed93f2a6d5e87fe6759d6fd26c06823f77f3f2
   "metadata": {
    "lines_to_next_cell": 0
   },
   "source": [
    "# Introduction\n",
    "In a [more introductory vignette](https://pachterlab.github.io/voyager/articles/visium_10x.html), we performed basic non-spatial analyses on a mouse olfactory bulb Visium dataset from the 10X website. In this vignette, we perform spatial analyses in histological space as well as in gene expression space. \n",
    "\n",
    "Here we load the packages used in this vignette:"
   ]
  },
  {
   "cell_type": "code",
   "execution_count": null,
<<<<<<< HEAD
<<<<<<< HEAD
<<<<<<< HEAD
   "id": "727763d6",
=======
   "id": "5316d206",
>>>>>>> documentation-devel
=======
   "id": "d2a4c170",
>>>>>>> documentation-devel
=======
   "id": "85dd39fd",
>>>>>>> c9ed93f2a6d5e87fe6759d6fd26c06823f77f3f2
   "metadata": {
    "message": false
   },
   "outputs": [],
   "source": [
    "library(Voyager)\n",
    "library(SpatialFeatureExperiment)\n",
    "library(SingleCellExperiment)\n",
    "library(ggplot2)\n",
    "library(scater)\n",
    "library(scuttle)\n",
    "library(scran)\n",
    "library(stringr)\n",
    "library(patchwork)\n",
    "library(bluster)\n",
    "library(rjson)\n",
    "library(EBImage)\n",
    "library(terra)\n",
    "library(rlang)\n",
    "library(sf)\n",
    "library(rmapshaper)\n",
    "library(dplyr)\n",
    "library(BiocParallel)\n",
    "library(BiocNeighbors)\n",
    "library(reticulate)\n",
    "theme_set(theme_bw())"
   ]
  },
  {
   "cell_type": "code",
   "execution_count": null,
<<<<<<< HEAD
<<<<<<< HEAD
<<<<<<< HEAD
   "id": "a8acd3ba",
=======
   "id": "f19ea182",
>>>>>>> documentation-devel
=======
   "id": "8164f1c4",
>>>>>>> documentation-devel
=======
   "id": "8ca78ead",
>>>>>>> c9ed93f2a6d5e87fe6759d6fd26c06823f77f3f2
   "metadata": {
    "eval": false
   },
   "outputs": [],
   "source": [
    "# Specify Python version to use gget\n",
    "PY_PATH <- system(\"which python\", intern = TRUE)\n",
    "use_python(PY_PATH)\n",
    "py_config()"
   ]
  },
  {
   "cell_type": "code",
   "execution_count": null,
<<<<<<< HEAD
<<<<<<< HEAD
<<<<<<< HEAD
   "id": "3e223ec1",
=======
   "id": "8c5c5494",
>>>>>>> documentation-devel
=======
   "id": "052ccb41",
>>>>>>> documentation-devel
=======
   "id": "24efe4c7",
>>>>>>> c9ed93f2a6d5e87fe6759d6fd26c06823f77f3f2
   "metadata": {
    "eval": false,
    "tags": [
     "remove_cell"
    ]
   },
   "outputs": [],
   "source": [
    "system(\"pip3 install gget\")"
   ]
  },
  {
   "cell_type": "markdown",
<<<<<<< HEAD
   "id": "9d3cfbcc",
=======
   "id": "eae63295",
>>>>>>> c9ed93f2a6d5e87fe6759d6fd26c06823f77f3f2
   "metadata": {
    "lines_to_next_cell": 0
   },
   "source": [
    "<<<<<<< HEAD"
   ]
  },
  {
   "cell_type": "code",
   "execution_count": null,
<<<<<<< HEAD
<<<<<<< HEAD
<<<<<<< HEAD
   "id": "0cecb88a",
=======
   "id": "c5e5aa61",
>>>>>>> documentation-devel
=======
   "id": "731a1b73",
>>>>>>> documentation-devel
=======
   "id": "54238804",
>>>>>>> c9ed93f2a6d5e87fe6759d6fd26c06823f77f3f2
   "metadata": {
    "eval": false
   },
   "outputs": [],
   "source": [
    "=======\n",
    "```{r,eval=FALSE}\n",
    ">>>>>>> documentation\n",
    "gget <- import(\"gget\")"
   ]
  },
  {
   "cell_type": "markdown",
<<<<<<< HEAD
<<<<<<< HEAD
<<<<<<< HEAD
   "id": "f61fdfe6",
=======
   "id": "00996c39",
>>>>>>> documentation-devel
=======
   "id": "8a6cb015",
>>>>>>> documentation-devel
=======
   "id": "c9a6e290",
>>>>>>> c9ed93f2a6d5e87fe6759d6fd26c06823f77f3f2
   "metadata": {
    "lines_to_next_cell": 0
   },
   "source": [
    "Here we download the data from the 10X website. This is the unfiltered gene count matrix:"
   ]
  },
  {
   "cell_type": "code",
   "execution_count": null,
<<<<<<< HEAD
<<<<<<< HEAD
<<<<<<< HEAD
   "id": "e56b95f7",
=======
   "id": "6116b255",
>>>>>>> documentation-devel
=======
   "id": "0dc1e86b",
>>>>>>> documentation-devel
=======
   "id": "001c3ee5",
>>>>>>> c9ed93f2a6d5e87fe6759d6fd26c06823f77f3f2
   "metadata": {},
   "outputs": [],
   "source": [
    "if (!file.exists(\"visium_ob.tar.gz\"))\n",
    "    download.file(\"https://cf.10xgenomics.com/samples/spatial-exp/2.0.0/Visium_Mouse_Olfactory_Bulb/Visium_Mouse_Olfactory_Bulb_raw_feature_bc_matrix.tar.gz\", \n",
    "                  destfile = \"visium_ob.tar.gz\")"
   ]
  },
  {
   "cell_type": "markdown",
<<<<<<< HEAD
<<<<<<< HEAD
<<<<<<< HEAD
   "id": "273f3a98",
=======
   "id": "f215fd98",
>>>>>>> documentation-devel
=======
   "id": "68676b0c",
>>>>>>> documentation-devel
=======
   "id": "17b63786",
>>>>>>> c9ed93f2a6d5e87fe6759d6fd26c06823f77f3f2
   "metadata": {
    "lines_to_next_cell": 0
   },
   "source": [
    "This is the spatial information:"
   ]
  },
  {
   "cell_type": "code",
   "execution_count": null,
<<<<<<< HEAD
<<<<<<< HEAD
<<<<<<< HEAD
   "id": "d9c794f5",
=======
   "id": "a4ae0aae",
>>>>>>> documentation-devel
=======
   "id": "054c3f60",
>>>>>>> documentation-devel
=======
   "id": "f564096f",
>>>>>>> c9ed93f2a6d5e87fe6759d6fd26c06823f77f3f2
   "metadata": {},
   "outputs": [],
   "source": [
    "if (!file.exists(\"visium_ob_spatial.tar.gz\"))\n",
    "    download.file(\"https://cf.10xgenomics.com/samples/spatial-exp/2.0.0/Visium_Mouse_Olfactory_Bulb/Visium_Mouse_Olfactory_Bulb_spatial.tar.gz\", \n",
    "                  destfile = \"visium_ob_spatial.tar.gz\")"
   ]
  },
  {
   "cell_type": "markdown",
<<<<<<< HEAD
<<<<<<< HEAD
<<<<<<< HEAD
   "id": "adfd62ed",
=======
   "id": "9f567b50",
>>>>>>> documentation-devel
=======
   "id": "bad8d6b9",
>>>>>>> documentation-devel
=======
   "id": "9cee28c8",
>>>>>>> c9ed93f2a6d5e87fe6759d6fd26c06823f77f3f2
   "metadata": {
    "lines_to_next_cell": 0
   },
   "source": [
    "Decompress the downloaded content:"
   ]
  },
  {
   "cell_type": "code",
   "execution_count": null,
<<<<<<< HEAD
<<<<<<< HEAD
<<<<<<< HEAD
   "id": "d50d4fc1",
=======
   "id": "c42e33cc",
>>>>>>> documentation-devel
=======
   "id": "f17e128e",
>>>>>>> documentation-devel
=======
   "id": "179f1c3e",
>>>>>>> c9ed93f2a6d5e87fe6759d6fd26c06823f77f3f2
   "metadata": {},
   "outputs": [],
   "source": [
    "if (!dir.exists(\"outs\")) {\n",
    "    dir.create(\"outs\")\n",
    "    system(\"tar -xvf visium_ob.tar.gz -C outs\")\n",
    "    system(\"tar -xvf visium_ob_spatial.tar.gz -C outs\")\n",
    "}"
   ]
  },
  {
   "cell_type": "markdown",
<<<<<<< HEAD
<<<<<<< HEAD
<<<<<<< HEAD
   "id": "022993ba",
=======
   "id": "4b5c9a37",
>>>>>>> documentation-devel
=======
   "id": "4b58b7c1",
>>>>>>> documentation-devel
=======
   "id": "1b10aad8",
>>>>>>> c9ed93f2a6d5e87fe6759d6fd26c06823f77f3f2
   "metadata": {
    "lines_to_next_cell": 0
   },
   "source": [
    "Contents of the `outs` directory as from Space Ranger is explained in [the introductory vignette](https://pachterlab.github.io/voyager/articles/visium_10x.html).\n",
    "\n",
    "Here we read the data into R as an SFE object."
   ]
  },
  {
   "cell_type": "code",
   "execution_count": null,
<<<<<<< HEAD
<<<<<<< HEAD
<<<<<<< HEAD
   "id": "ec4bc333",
=======
   "id": "6baa06ad",
>>>>>>> documentation-devel
=======
   "id": "8786266f",
>>>>>>> documentation-devel
=======
   "id": "257283e8",
>>>>>>> c9ed93f2a6d5e87fe6759d6fd26c06823f77f3f2
   "metadata": {},
   "outputs": [],
   "source": [
    "(sfe <- read10xVisiumSFE(samples = \".\", type = \"sparse\", data = \"raw\"))"
   ]
  },
  {
   "cell_type": "markdown",
<<<<<<< HEAD
<<<<<<< HEAD
<<<<<<< HEAD
   "id": "0df38ec4",
=======
   "id": "9ec1c2d2",
>>>>>>> documentation-devel
=======
   "id": "7e84c83d",
>>>>>>> documentation-devel
=======
   "id": "a92ccd2f",
>>>>>>> c9ed93f2a6d5e87fe6759d6fd26c06823f77f3f2
   "metadata": {},
   "source": [
    "Here we add QC metrics, already plotted in the introductory vignette."
   ]
  },
  {
   "cell_type": "code",
   "execution_count": null,
<<<<<<< HEAD
<<<<<<< HEAD
<<<<<<< HEAD
   "id": "a1dbb8f9",
=======
   "id": "41a6b091",
>>>>>>> documentation-devel
=======
   "id": "8c2a4fa2",
>>>>>>> documentation-devel
=======
   "id": "436626c7",
>>>>>>> c9ed93f2a6d5e87fe6759d6fd26c06823f77f3f2
   "metadata": {},
   "outputs": [],
   "source": [
    "is_mt <- str_detect(rowData(sfe)$symbol, \"^mt-\")"
   ]
  },
  {
   "cell_type": "code",
   "execution_count": null,
<<<<<<< HEAD
<<<<<<< HEAD
<<<<<<< HEAD
   "id": "885244a2",
=======
   "id": "1d7c8ca3",
>>>>>>> documentation-devel
=======
   "id": "3f7fcf15",
>>>>>>> documentation-devel
=======
   "id": "4d684600",
>>>>>>> c9ed93f2a6d5e87fe6759d6fd26c06823f77f3f2
   "metadata": {},
   "outputs": [],
   "source": [
    "sfe <- addPerCellQCMetrics(sfe, subsets = list(mito = is_mt))"
   ]
  },
  {
   "cell_type": "markdown",
<<<<<<< HEAD
<<<<<<< HEAD
<<<<<<< HEAD
   "id": "9ee6a6f5",
=======
   "id": "0d93dbcc",
>>>>>>> documentation-devel
=======
   "id": "041834e3",
>>>>>>> documentation-devel
=======
   "id": "02b028da",
>>>>>>> c9ed93f2a6d5e87fe6759d6fd26c06823f77f3f2
   "metadata": {},
   "source": [
    "# Tissue segmentation\n",
    "While Space Ranger can automatically detect which spots are in tissue and the Loupe browser can be used to manually annotate which spots are in tissue, it may be interesting to get the tissue outline polygon, so we would know how much each spot overlaps with the tissue and plot the outline. The tissue boundary polygon can be manually annotated with QuPath, which saves the polygon as a GeoJSON and can be directly read into R with `st_read()`. \n",
    "\n",
    "Or we can segment the tissue computationally. R generally isn't great for image processing, but there are some packages that can perform the segmentation, such as [`EBImage`](https://bioconductor.org/packages/release/bioc/html/EBImage.html), which is based on its own in house C and C++ code, and [`imager`](https://github.com/dahtah/imager/), which is based on [`CImg`](http://cimg.eu/).\n",
    "\n",
    "Here we don't have the full resolution image. We will perform tissue segmentation on the high resolution downsampled image and then scale it to make the coordinates of the tissue boundary match those of the spots. The `EBImage` package is used here. Compared to OpenCV, `EBImage` is slow on the full resolution image, but should be fine here for the downsized image."
   ]
  },
  {
   "cell_type": "code",
   "execution_count": null,
<<<<<<< HEAD
<<<<<<< HEAD
<<<<<<< HEAD
   "id": "b5c6d238",
=======
   "id": "dd8bd5ff",
>>>>>>> documentation-devel
=======
   "id": "c4f59174",
>>>>>>> documentation-devel
=======
   "id": "10b35e14",
>>>>>>> c9ed93f2a6d5e87fe6759d6fd26c06823f77f3f2
   "metadata": {},
   "outputs": [],
   "source": [
    "img <- readImage(\"outs/spatial/tissue_hires_image.png\")\n",
    "display(img)"
   ]
  },
  {
   "cell_type": "markdown",
<<<<<<< HEAD
<<<<<<< HEAD
<<<<<<< HEAD
   "id": "703e46dc",
=======
   "id": "cf16dc6d",
>>>>>>> documentation-devel
=======
   "id": "b221ae78",
>>>>>>> documentation-devel
=======
   "id": "e85ea11c",
>>>>>>> c9ed93f2a6d5e87fe6759d6fd26c06823f77f3f2
   "metadata": {
    "lines_to_next_cell": 0
   },
   "source": [
    "When rendered as a static webpage, the image is static, but when run interactively, this image will be shown in an interactive widget where you can zoom and pan.\n",
    "\n",
    "Here we show the RGB channels separately"
   ]
  },
  {
   "cell_type": "code",
   "execution_count": null,
<<<<<<< HEAD
<<<<<<< HEAD
<<<<<<< HEAD
   "id": "9185b65a",
=======
   "id": "0de52000",
>>>>>>> documentation-devel
=======
   "id": "d9dc4bfd",
>>>>>>> documentation-devel
=======
   "id": "1160d2c5",
>>>>>>> c9ed93f2a6d5e87fe6759d6fd26c06823f77f3f2
   "metadata": {},
   "outputs": [],
   "source": [
    "img2 <- img\n",
    "colorMode(img2) <- Grayscale\n",
    "display(img2, all = TRUE)"
   ]
  },
  {
   "cell_type": "code",
   "execution_count": null,
<<<<<<< HEAD
<<<<<<< HEAD
<<<<<<< HEAD
   "id": "e855d170",
=======
   "id": "7597c56e",
>>>>>>> documentation-devel
=======
   "id": "b2cda151",
>>>>>>> documentation-devel
=======
   "id": "92977fe8",
>>>>>>> c9ed93f2a6d5e87fe6759d6fd26c06823f77f3f2
   "metadata": {},
   "outputs": [],
   "source": [
    "hist(img)"
   ]
  },
  {
   "cell_type": "markdown",
<<<<<<< HEAD
<<<<<<< HEAD
<<<<<<< HEAD
   "id": "ed7ebea1",
=======
   "id": "d407a6a2",
>>>>>>> documentation-devel
=======
   "id": "07fed13b",
>>>>>>> documentation-devel
=======
   "id": "168b9678",
>>>>>>> c9ed93f2a6d5e87fe6759d6fd26c06823f77f3f2
   "metadata": {},
   "source": [
    "The tissue can be discerned with thresholding. The tall peak on the right is the background. The much lower peaks from around 0.6 to 0.85 must be the tissue. To capture the faint bluish region, the blue channel is used for thresholding. The threshold here is chosen based on the histogram and experimenting with nearby values."
   ]
  },
  {
   "cell_type": "code",
   "execution_count": null,
<<<<<<< HEAD
<<<<<<< HEAD
<<<<<<< HEAD
   "id": "501f122b",
=======
   "id": "3247dec5",
>>>>>>> documentation-devel
=======
   "id": "f7dc572d",
>>>>>>> documentation-devel
=======
   "id": "b1d6946c",
>>>>>>> c9ed93f2a6d5e87fe6759d6fd26c06823f77f3f2
   "metadata": {},
   "outputs": [],
   "source": [
    "mask <- img2[,,3] < 0.87\n",
    "display(mask)"
   ]
  },
  {
   "cell_type": "markdown",
<<<<<<< HEAD
<<<<<<< HEAD
<<<<<<< HEAD
   "id": "fe2a3258",
=======
   "id": "5f671bd3",
>>>>>>> documentation-devel
=======
   "id": "0892f0df",
>>>>>>> documentation-devel
=======
   "id": "a734987f",
>>>>>>> c9ed93f2a6d5e87fe6759d6fd26c06823f77f3f2
   "metadata": {
    "lines_to_next_cell": 0
   },
   "source": [
    "Then we use an opening operation (erosion followed by dilation) to denoise"
   ]
  },
  {
   "cell_type": "code",
   "execution_count": null,
<<<<<<< HEAD
<<<<<<< HEAD
<<<<<<< HEAD
   "id": "eb6d46ce",
=======
   "id": "546f432a",
>>>>>>> documentation-devel
=======
   "id": "dc8f09c8",
>>>>>>> documentation-devel
=======
   "id": "d9be88cb",
>>>>>>> c9ed93f2a6d5e87fe6759d6fd26c06823f77f3f2
   "metadata": {},
   "outputs": [],
   "source": [
    "kern <- makeBrush(3, shape='disc')\n",
    "mask_open <- opening(mask, kern)\n",
    "display(mask_open)"
   ]
  },
  {
   "cell_type": "markdown",
<<<<<<< HEAD
<<<<<<< HEAD
<<<<<<< HEAD
   "id": "1ca330df",
=======
   "id": "cd51f03d",
>>>>>>> documentation-devel
=======
   "id": "60e9ddf8",
>>>>>>> documentation-devel
=======
   "id": "2a749f4c",
>>>>>>> c9ed93f2a6d5e87fe6759d6fd26c06823f77f3f2
   "metadata": {
    "lines_to_next_cell": 0
   },
   "source": [
    "There are some small holes in the tissue, which can be removed by a closing operation (dilation followed by erosion):"
   ]
  },
  {
   "cell_type": "code",
   "execution_count": null,
<<<<<<< HEAD
<<<<<<< HEAD
<<<<<<< HEAD
   "id": "e9e2962a",
=======
   "id": "776cdf71",
>>>>>>> documentation-devel
=======
   "id": "2570844a",
>>>>>>> documentation-devel
=======
   "id": "5ea14a5a",
>>>>>>> c9ed93f2a6d5e87fe6759d6fd26c06823f77f3f2
   "metadata": {},
   "outputs": [],
   "source": [
    "mask_close <- closing(mask_open, kern)\n",
    "display(mask_close)"
   ]
  },
  {
   "cell_type": "markdown",
<<<<<<< HEAD
<<<<<<< HEAD
<<<<<<< HEAD
   "id": "21b3d7b6",
=======
   "id": "114edfde",
>>>>>>> documentation-devel
=======
   "id": "c146d027",
>>>>>>> documentation-devel
=======
   "id": "8828e180",
>>>>>>> c9ed93f2a6d5e87fe6759d6fd26c06823f77f3f2
   "metadata": {},
   "source": [
    "There are some larger holes in the tissue mask, which may be real holes or faint regions with few nuclei missed by thresholding. They might not be large enough to affect which Visium spots intersect the tissue.\n",
    "\n",
    "Now the main piece of tissue is clear. It must be the object with the largest area. However, there are two small pieces that should belong to the tissue at the top left. The debris and fiducials can be removed by setting all pixels in the mask outside the bounding box of the main piece to 0. Here we assign a different value to each contiguous object with `bwlabel()`, and use `computeFeatures.shape()` to find the area among other shape features (e.g. perimeter) of each object."
   ]
  },
  {
   "cell_type": "code",
   "execution_count": null,
<<<<<<< HEAD
<<<<<<< HEAD
<<<<<<< HEAD
   "id": "882532f0",
=======
   "id": "031d8c7d",
>>>>>>> documentation-devel
=======
   "id": "783a543d",
>>>>>>> documentation-devel
=======
   "id": "505f6e75",
>>>>>>> c9ed93f2a6d5e87fe6759d6fd26c06823f77f3f2
   "metadata": {},
   "outputs": [],
   "source": [
    "mask_label <- bwlabel(mask_close)\n",
    "fts <- computeFeatures.shape(mask_label)"
   ]
  },
  {
   "cell_type": "code",
   "execution_count": null,
<<<<<<< HEAD
<<<<<<< HEAD
<<<<<<< HEAD
   "id": "888b43f7",
=======
   "id": "7649736c",
>>>>>>> documentation-devel
=======
   "id": "86269cfc",
>>>>>>> documentation-devel
=======
   "id": "37fd8015",
>>>>>>> c9ed93f2a6d5e87fe6759d6fd26c06823f77f3f2
   "metadata": {},
   "outputs": [],
   "source": [
    "head(fts)"
   ]
  },
  {
   "cell_type": "code",
   "execution_count": null,
<<<<<<< HEAD
<<<<<<< HEAD
<<<<<<< HEAD
   "id": "f03331d6",
=======
   "id": "24761d76",
>>>>>>> documentation-devel
=======
   "id": "d2b2a159",
>>>>>>> documentation-devel
=======
   "id": "b65ac295",
>>>>>>> c9ed93f2a6d5e87fe6759d6fd26c06823f77f3f2
   "metadata": {},
   "outputs": [],
   "source": [
    "summary(fts[,\"s.area\"])"
   ]
  },
  {
   "cell_type": "code",
   "execution_count": null,
<<<<<<< HEAD
<<<<<<< HEAD
<<<<<<< HEAD
   "id": "1829cbe6",
=======
   "id": "1b48b2e4",
>>>>>>> documentation-devel
=======
   "id": "7092fb06",
>>>>>>> documentation-devel
=======
   "id": "871e56cb",
>>>>>>> c9ed93f2a6d5e87fe6759d6fd26c06823f77f3f2
   "metadata": {},
   "outputs": [],
   "source": [
    "max_ind <- which.max(fts[,\"s.area\"])\n",
    "inds <- which(as.array(mask_label) == max_ind, arr.ind = TRUE)\n",
    "head(inds)"
   ]
  },
  {
   "cell_type": "code",
   "execution_count": null,
<<<<<<< HEAD
<<<<<<< HEAD
<<<<<<< HEAD
   "id": "f325f07d",
=======
   "id": "56740801",
>>>>>>> documentation-devel
=======
   "id": "03eadb19",
>>>>>>> documentation-devel
=======
   "id": "29203fd1",
>>>>>>> c9ed93f2a6d5e87fe6759d6fd26c06823f77f3f2
   "metadata": {},
   "outputs": [],
   "source": [
    "row_inds <- c(seq_len(min(inds[,1])-1), seq(max(inds[,1])+1, nrow(mask_label), by = 1))\n",
    "col_inds <- c(seq_len(min(inds[,2])-1), seq(max(inds[,2])+1, nrow(mask_label), by = 1))\n",
    "mask_label[row_inds, ] <- 0\n",
    "mask_label[,col_inds] <- 0\n",
    "display(mask_label)"
   ]
  },
  {
   "cell_type": "markdown",
<<<<<<< HEAD
<<<<<<< HEAD
<<<<<<< HEAD
   "id": "0b6c88e6",
=======
   "id": "2904860d",
>>>>>>> documentation-devel
=======
   "id": "0485830a",
>>>>>>> documentation-devel
=======
   "id": "69bb51a6",
>>>>>>> c9ed93f2a6d5e87fe6759d6fd26c06823f77f3f2
   "metadata": {
    "lines_to_next_cell": 0
   },
   "source": [
    "Then remove the small pieces that are debris."
   ]
  },
  {
   "cell_type": "code",
   "execution_count": null,
<<<<<<< HEAD
<<<<<<< HEAD
<<<<<<< HEAD
   "id": "32f5bbb7",
=======
   "id": "7b2971ae",
>>>>>>> documentation-devel
=======
   "id": "a2290708",
>>>>>>> documentation-devel
=======
   "id": "8dd1f56c",
>>>>>>> c9ed93f2a6d5e87fe6759d6fd26c06823f77f3f2
   "metadata": {},
   "outputs": [],
   "source": [
    "unique(as.vector(mask_label))"
   ]
  },
  {
   "cell_type": "code",
   "execution_count": null,
<<<<<<< HEAD
<<<<<<< HEAD
<<<<<<< HEAD
   "id": "307015ad",
=======
   "id": "2c6691dc",
>>>>>>> documentation-devel
=======
   "id": "b0031a8a",
>>>>>>> documentation-devel
=======
   "id": "ed0726c7",
>>>>>>> c9ed93f2a6d5e87fe6759d6fd26c06823f77f3f2
   "metadata": {},
   "outputs": [],
   "source": [
    "fts2 <- fts[unique(as.vector(mask_label))[-1],]\n",
    "fts2 <- fts2[order(fts2[,\"s.area\"], decreasing = TRUE),]"
   ]
  },
  {
   "cell_type": "code",
   "execution_count": null,
<<<<<<< HEAD
<<<<<<< HEAD
<<<<<<< HEAD
   "id": "7a2a5dd9",
=======
   "id": "cfde4054",
>>>>>>> documentation-devel
=======
   "id": "e9fe1e97",
>>>>>>> documentation-devel
=======
   "id": "9e54e62c",
>>>>>>> c9ed93f2a6d5e87fe6759d6fd26c06823f77f3f2
   "metadata": {},
   "outputs": [],
   "source": [
    "plot(fts2[,1][-1], type = \"l\", ylab = \"Area\")"
   ]
  },
  {
   "cell_type": "code",
   "execution_count": null,
<<<<<<< HEAD
<<<<<<< HEAD
<<<<<<< HEAD
   "id": "3965f539",
=======
   "id": "5a901ae5",
>>>>>>> documentation-devel
=======
   "id": "6caf7182",
>>>>>>> documentation-devel
=======
   "id": "dee94651",
>>>>>>> c9ed93f2a6d5e87fe6759d6fd26c06823f77f3f2
   "metadata": {},
   "outputs": [],
   "source": [
    "head(fts2, 10)"
   ]
  },
  {
   "cell_type": "markdown",
<<<<<<< HEAD
<<<<<<< HEAD
<<<<<<< HEAD
   "id": "966bd31a",
=======
   "id": "85a80ee4",
>>>>>>> documentation-devel
=======
   "id": "140cb55b",
>>>>>>> documentation-devel
=======
   "id": "c8e19bdb",
>>>>>>> c9ed93f2a6d5e87fe6759d6fd26c06823f77f3f2
   "metadata": {},
   "source": [
    "Object number 797 is a piece of debris at the bottom left. The other pieces with area over 100 pixels are tissue. Since debris really is small bits of tissue, so the boundary between debris and tissue can be blurry. Here the two are distinguished by morphology on the H&E image and proximity to the main tissue."
   ]
  },
  {
   "cell_type": "code",
   "execution_count": null,
<<<<<<< HEAD
<<<<<<< HEAD
<<<<<<< HEAD
   "id": "b6f6dd21",
=======
   "id": "728432b0",
>>>>>>> documentation-devel
=======
   "id": "076429ae",
>>>>>>> documentation-devel
=======
   "id": "e8be5559",
>>>>>>> c9ed93f2a6d5e87fe6759d6fd26c06823f77f3f2
   "metadata": {},
   "outputs": [],
   "source": [
    "#display(mask_label == 797)"
   ]
  },
  {
   "cell_type": "markdown",
<<<<<<< HEAD
<<<<<<< HEAD
<<<<<<< HEAD
   "id": "d48938f1",
=======
   "id": "2d129f5f",
>>>>>>> documentation-devel
=======
   "id": "677fa617",
>>>>>>> documentation-devel
=======
   "id": "ec196bdd",
>>>>>>> c9ed93f2a6d5e87fe6759d6fd26c06823f77f3f2
   "metadata": {
    "lines_to_next_cell": 0
   },
   "source": [
    "Here we remove the debris from the mask"
   ]
  },
  {
   "cell_type": "code",
   "execution_count": null,
<<<<<<< HEAD
<<<<<<< HEAD
<<<<<<< HEAD
   "id": "aaac5d57",
=======
   "id": "f2f451ce",
>>>>>>> documentation-devel
=======
   "id": "a83831db",
>>>>>>> documentation-devel
=======
   "id": "37131529",
>>>>>>> c9ed93f2a6d5e87fe6759d6fd26c06823f77f3f2
   "metadata": {},
   "outputs": [],
   "source": [
    "mask_label[mask_label %in% c(797, as.numeric(rownames(fts2)[fts2[,1] < 100]))] <- 0"
   ]
  },
  {
   "cell_type": "markdown",
<<<<<<< HEAD
<<<<<<< HEAD
<<<<<<< HEAD
   "id": "73bb8e6b",
=======
   "id": "60ede8df",
>>>>>>> documentation-devel
=======
   "id": "1d1b6599",
>>>>>>> documentation-devel
=======
   "id": "71ac1ad8",
>>>>>>> c9ed93f2a6d5e87fe6759d6fd26c06823f77f3f2
   "metadata": {
    "lines_to_next_cell": 0
   },
   "source": [
    "Since most holes in the mask are faint regions of the tissue missed by thresholding, the holes will be filled"
   ]
  },
  {
   "cell_type": "code",
   "execution_count": null,
<<<<<<< HEAD
<<<<<<< HEAD
<<<<<<< HEAD
   "id": "603df3da",
=======
   "id": "9e628dd8",
>>>>>>> documentation-devel
=======
   "id": "6cc88f6e",
>>>>>>> documentation-devel
=======
   "id": "16fe350e",
>>>>>>> c9ed93f2a6d5e87fe6759d6fd26c06823f77f3f2
   "metadata": {},
   "outputs": [],
   "source": [
    "mask_label <- fillHull(mask_label)"
   ]
  },
  {
   "cell_type": "code",
   "execution_count": null,
<<<<<<< HEAD
<<<<<<< HEAD
<<<<<<< HEAD
   "id": "51f51347",
=======
   "id": "e917511b",
>>>>>>> documentation-devel
=======
   "id": "cc78673e",
>>>>>>> documentation-devel
=======
   "id": "8fad0060",
>>>>>>> c9ed93f2a6d5e87fe6759d6fd26c06823f77f3f2
   "metadata": {},
   "outputs": [],
   "source": [
    "display(paintObjects(mask_label, img, col=c(\"red\", \"yellow\"), opac=c(1, 0.3)))"
   ]
  },
  {
   "cell_type": "markdown",
<<<<<<< HEAD
<<<<<<< HEAD
<<<<<<< HEAD
   "id": "82ef90ab",
=======
   "id": "c66d598e",
>>>>>>> documentation-devel
=======
   "id": "641bd4b8",
>>>>>>> documentation-devel
=======
   "id": "a880eaeb",
>>>>>>> c9ed93f2a6d5e87fe6759d6fd26c06823f77f3f2
   "metadata": {},
   "source": [
    "This segmentation process took a lot of manual oversight, in choosing the threshold, choosing kernel size and shape in the opening and closing operations, deciding whether to fill the holes, and deciding what is debris and what is tissue. \n",
    "\n",
    "# Convert tissue mask to polygon\n",
    "Now we have the tissue mask, which we will convert to polygon. While OpenCV can directly perform the conversion, as there isn't a comprehensive R wrapper of OpenCV, this conversion is more convoluted in R. We first convert the `Image` object to a raster as implemented in `terra`, the core R package for geospatial raster data. Then `terra` can convert the raster to polygon. As this image is downsized, the polygon will look quite pixelated. To mitigate this pixelation and save memory, the `ms_simplify()` function is used to simplify the polygon, only keeping a small proportion of all vertices. The `st_simplify()` function in `sf` can also simplify the polygons, but we can't specify what proportion of vertices to keep."
   ]
  },
  {
   "cell_type": "code",
   "execution_count": null,
<<<<<<< HEAD
<<<<<<< HEAD
<<<<<<< HEAD
   "id": "cb0f4c39",
=======
   "id": "e58635cc",
>>>>>>> documentation-devel
=======
   "id": "03f14ae3",
>>>>>>> documentation-devel
=======
   "id": "0b9ffc6d",
>>>>>>> c9ed93f2a6d5e87fe6759d6fd26c06823f77f3f2
   "metadata": {},
   "outputs": [],
   "source": [
    "raster2polygon <- function(seg, keep = 0.2) {\n",
    "    r <- rast(as.array(seg), extent = ext(0, nrow(seg), 0, ncol(seg))) |> \n",
    "        trans() |> flip()\n",
    "    r[r < 1] <- NA\n",
    "    contours <- st_as_sf(as.polygons(r, dissolve = TRUE))\n",
    "    simplified <- ms_simplify(contours, keep = keep)\n",
    "    list(full = contours,\n",
    "         simplified = simplified)\n",
    "}"
   ]
  },
  {
   "cell_type": "code",
   "execution_count": null,
<<<<<<< HEAD
<<<<<<< HEAD
<<<<<<< HEAD
   "id": "4d5fe786",
=======
   "id": "ff8fbb0b",
>>>>>>> documentation-devel
=======
   "id": "7308a032",
>>>>>>> documentation-devel
=======
   "id": "2eaa696e",
>>>>>>> c9ed93f2a6d5e87fe6759d6fd26c06823f77f3f2
   "metadata": {},
   "outputs": [],
   "source": [
    "tb <- raster2polygon(mask_label)"
   ]
  },
  {
   "cell_type": "markdown",
<<<<<<< HEAD
<<<<<<< HEAD
<<<<<<< HEAD
   "id": "69011e44",
=======
   "id": "5da6aa96",
>>>>>>> documentation-devel
=======
   "id": "1c4c7b49",
>>>>>>> documentation-devel
=======
   "id": "187bb2ac",
>>>>>>> c9ed93f2a6d5e87fe6759d6fd26c06823f77f3f2
   "metadata": {
    "lines_to_next_cell": 0
   },
   "source": [
    "Before adding the geometry to the SFE object, it needs to be scaled to match the coordinates of the spots"
   ]
  },
  {
   "cell_type": "code",
   "execution_count": null,
<<<<<<< HEAD
<<<<<<< HEAD
<<<<<<< HEAD
   "id": "c87d05d6",
=======
   "id": "69e7eb01",
>>>>>>> documentation-devel
=======
   "id": "3265af10",
>>>>>>> documentation-devel
=======
   "id": "a768a918",
>>>>>>> c9ed93f2a6d5e87fe6759d6fd26c06823f77f3f2
   "metadata": {},
   "outputs": [],
   "source": [
    "scale_factors <- fromJSON(file = \"outs/spatial/scalefactors_json.json\")"
   ]
  },
  {
   "cell_type": "code",
   "execution_count": null,
<<<<<<< HEAD
<<<<<<< HEAD
<<<<<<< HEAD
   "id": "5782275d",
=======
   "id": "0edfd00e",
>>>>>>> documentation-devel
=======
   "id": "b1a23e63",
>>>>>>> documentation-devel
=======
   "id": "a4335e35",
>>>>>>> c9ed93f2a6d5e87fe6759d6fd26c06823f77f3f2
   "metadata": {},
   "outputs": [],
   "source": [
    "tb$simplified$geometry <- tb$simplified$geometry / scale_factors$tissue_hires_scalef"
   ]
  },
  {
   "cell_type": "code",
   "execution_count": null,
<<<<<<< HEAD
<<<<<<< HEAD
<<<<<<< HEAD
   "id": "14d899bf",
=======
   "id": "d8cf71bd",
>>>>>>> documentation-devel
=======
   "id": "44fed49c",
>>>>>>> documentation-devel
=======
   "id": "b034bda8",
>>>>>>> c9ed93f2a6d5e87fe6759d6fd26c06823f77f3f2
   "metadata": {},
   "outputs": [],
   "source": [
    "tissueBoundary(sfe) <- tb$simplified"
   ]
  },
  {
   "cell_type": "code",
   "execution_count": null,
<<<<<<< HEAD
<<<<<<< HEAD
<<<<<<< HEAD
   "id": "b9310c0a",
=======
   "id": "7f071619",
>>>>>>> documentation-devel
=======
   "id": "4010923f",
>>>>>>> documentation-devel
=======
   "id": "6d29a7c6",
>>>>>>> c9ed93f2a6d5e87fe6759d6fd26c06823f77f3f2
   "metadata": {},
   "outputs": [],
   "source": [
    "plotSpatialFeature(sfe, \"sum\", annotGeometryName = \"tissueBoundary\", \n",
    "                   annot_fixed = list(fill = NA, color = \"black\"),\n",
    "                   image_id = \"lowres\") +\n",
    "    theme_void()"
   ]
  },
  {
   "cell_type": "markdown",
<<<<<<< HEAD
<<<<<<< HEAD
<<<<<<< HEAD
   "id": "517d9b46",
=======
   "id": "c97c97c5",
>>>>>>> documentation-devel
=======
   "id": "fdcb813b",
>>>>>>> documentation-devel
=======
   "id": "18b06604",
>>>>>>> c9ed93f2a6d5e87fe6759d6fd26c06823f77f3f2
   "metadata": {},
   "source": [
    "The mouse olfactory bulb is conventionally plotted horizontally. The entire SFE object can be transposed in histologial space to make the olfactory bulb horizontal."
   ]
  },
  {
   "cell_type": "code",
   "execution_count": null,
<<<<<<< HEAD
<<<<<<< HEAD
<<<<<<< HEAD
   "id": "9a1bd163",
=======
   "id": "3652b278",
>>>>>>> documentation-devel
=======
   "id": "b1ddf829",
>>>>>>> documentation-devel
=======
   "id": "b413240a",
>>>>>>> c9ed93f2a6d5e87fe6759d6fd26c06823f77f3f2
   "metadata": {},
   "outputs": [],
   "source": [
    "sfe <- SpatialFeatureExperiment::transpose(sfe)"
   ]
  },
  {
   "cell_type": "code",
   "execution_count": null,
<<<<<<< HEAD
<<<<<<< HEAD
<<<<<<< HEAD
   "id": "90cc1b4c",
=======
   "id": "12193bb9",
>>>>>>> documentation-devel
=======
   "id": "22285f0f",
>>>>>>> documentation-devel
=======
   "id": "bc8e66c2",
>>>>>>> c9ed93f2a6d5e87fe6759d6fd26c06823f77f3f2
   "metadata": {},
   "outputs": [],
   "source": [
    "plotSpatialFeature(sfe, \"sum\", annotGeometryName = \"tissueBoundary\", \n",
    "                   annot_fixed = list(fill = NA, color = \"black\"),\n",
    "                   image_id = \"lowres\")"
   ]
  },
  {
   "cell_type": "markdown",
<<<<<<< HEAD
<<<<<<< HEAD
<<<<<<< HEAD
   "id": "1dd07f54",
=======
   "id": "a402cf0a",
>>>>>>> documentation-devel
=======
   "id": "6a5b0f06",
>>>>>>> documentation-devel
=======
   "id": "cd6ee390",
>>>>>>> c9ed93f2a6d5e87fe6759d6fd26c06823f77f3f2
   "metadata": {},
   "source": [
    "Then we can use geometric operations to find which spots intersect tissue, which spots are covered by tissue, and how much of each spot intersects tissue."
   ]
  },
  {
   "cell_type": "code",
   "execution_count": null,
<<<<<<< HEAD
<<<<<<< HEAD
<<<<<<< HEAD
   "id": "a71d9cfc",
=======
   "id": "6e58e131",
>>>>>>> documentation-devel
=======
   "id": "d4ed4f62",
>>>>>>> documentation-devel
=======
   "id": "3dc2d021",
>>>>>>> c9ed93f2a6d5e87fe6759d6fd26c06823f77f3f2
   "metadata": {},
   "outputs": [],
   "source": [
    "# Which spots intersect tissue\n",
    "sfe$int_tissue <- annotPred(sfe, colGeometryName = \"spotPoly\", \n",
    "                            annotGeometryName = \"tissueBoundary\",\n",
    "                            pred = st_intersects)\n",
    "sfe$cov_tissue <- annotPred(sfe, colGeometryName = \"spotPoly\", \n",
    "                            annotGeometryName = \"tissueBoundary\",\n",
    "                            pred = st_covered_by)"
   ]
  },
  {
   "cell_type": "markdown",
<<<<<<< HEAD
<<<<<<< HEAD
<<<<<<< HEAD
   "id": "37852a19",
=======
   "id": "57917bf3",
>>>>>>> documentation-devel
=======
   "id": "8c0b42ec",
>>>>>>> documentation-devel
=======
   "id": "0f456a47",
>>>>>>> c9ed93f2a6d5e87fe6759d6fd26c06823f77f3f2
   "metadata": {
    "lines_to_next_cell": 0
   },
   "source": [
    "Discrepancies between Space Ranger's annotation and the annotation based on tissue segmentation here:"
   ]
  },
  {
   "cell_type": "code",
   "execution_count": null,
<<<<<<< HEAD
<<<<<<< HEAD
<<<<<<< HEAD
   "id": "019b66e4",
=======
   "id": "0b2dbace",
>>>>>>> documentation-devel
=======
   "id": "4f75daea",
>>>>>>> documentation-devel
=======
   "id": "aacc18dd",
>>>>>>> c9ed93f2a6d5e87fe6759d6fd26c06823f77f3f2
   "metadata": {},
   "outputs": [],
   "source": [
    "sfe$diff_sr <- case_when(sfe$in_tissue == sfe$int_tissue ~ \"same\",\n",
    "                         sfe$in_tissue & !sfe$int_tissue ~ \"Space Ranger\",\n",
    "                         sfe$int_tissue & !sfe$in_tissue ~ \"segmentation\") |> \n",
    "    factor(levels = c(\"Space Ranger\", \"same\", \"segmentation\"))\n",
    "plotSpatialFeature(sfe, \"diff_sr\", \n",
    "                   annotGeometryName = \"tissueBoundary\", \n",
    "                   annot_fixed = list(fill = NA, size = 0.5, color = \"black\")) +\n",
    "    scale_fill_brewer(type = \"div\", palette = 4)"
   ]
  },
  {
   "cell_type": "markdown",
<<<<<<< HEAD
<<<<<<< HEAD
<<<<<<< HEAD
   "id": "691274f5",
=======
   "id": "42efe756",
>>>>>>> documentation-devel
=======
   "id": "d8a6e89c",
>>>>>>> documentation-devel
=======
   "id": "b149dd43",
>>>>>>> c9ed93f2a6d5e87fe6759d6fd26c06823f77f3f2
   "metadata": {
    "lines_to_next_cell": 0
   },
   "source": [
    "Spots at the margin can intersect the tissue without being covered by it."
   ]
  },
  {
   "cell_type": "code",
   "execution_count": null,
<<<<<<< HEAD
<<<<<<< HEAD
<<<<<<< HEAD
   "id": "20368fb6",
=======
   "id": "65a88924",
>>>>>>> documentation-devel
=======
   "id": "2fdc83c5",
>>>>>>> documentation-devel
=======
   "id": "2673c2f5",
>>>>>>> c9ed93f2a6d5e87fe6759d6fd26c06823f77f3f2
   "metadata": {},
   "outputs": [],
   "source": [
    "sfe$diff_int_cov <- sfe$int_tissue != sfe$cov_tissue\n",
    "plotSpatialFeature(sfe, \"diff_int_cov\", \n",
    "                   annotGeometryName = \"tissueBoundary\", \n",
    "                   annot_fixed = list(fill = NA, size = 0.5, color = \"black\"))"
   ]
  },
  {
   "cell_type": "markdown",
<<<<<<< HEAD
<<<<<<< HEAD
<<<<<<< HEAD
   "id": "6c76a972",
=======
   "id": "0810715a",
>>>>>>> documentation-devel
=======
   "id": "e53d4c58",
>>>>>>> documentation-devel
=======
   "id": "012f3857",
>>>>>>> c9ed93f2a6d5e87fe6759d6fd26c06823f77f3f2
   "metadata": {},
   "source": [
    "We can also get the geometries of the intersections between the tissue and the Visium spots, and then calculate what percentage of each spot is in tissue. However, this percentage may not be very useful if the tissue segmentation is subject to error. This percentage may be more useful for pathologist annotated histological regions or objects such as nuclei and myofibers."
   ]
  },
  {
   "cell_type": "code",
   "execution_count": null,
<<<<<<< HEAD
<<<<<<< HEAD
<<<<<<< HEAD
   "id": "1a9216f8",
=======
   "id": "02f81b9b",
>>>>>>> documentation-devel
=======
   "id": "848a4c58",
>>>>>>> documentation-devel
=======
   "id": "14f04e8e",
>>>>>>> c9ed93f2a6d5e87fe6759d6fd26c06823f77f3f2
   "metadata": {},
   "outputs": [],
   "source": [
    "spot_ints <- annotOp(sfe, colGeometryName = \"spotPoly\", \n",
    "                     annotGeometryName = \"tissueBoundary\", op = st_intersection)\n",
    "sfe$pct_tissue <- st_area(spot_ints) / st_area(spotPoly(sfe)) * 100"
   ]
  },
  {
   "cell_type": "markdown",
<<<<<<< HEAD
<<<<<<< HEAD
<<<<<<< HEAD
   "id": "a6a8ab18",
=======
   "id": "0ab9f973",
>>>>>>> documentation-devel
=======
   "id": "260da325",
>>>>>>> documentation-devel
=======
   "id": "39c5def3",
>>>>>>> c9ed93f2a6d5e87fe6759d6fd26c06823f77f3f2
   "metadata": {
    "lines_to_next_cell": 0
   },
   "source": [
    "For spots that intersect tissue, does total counts relate to percentage of the spot in tissue?"
   ]
  },
  {
   "cell_type": "code",
   "execution_count": null,
<<<<<<< HEAD
<<<<<<< HEAD
<<<<<<< HEAD
   "id": "9b269134",
=======
   "id": "567768e9",
>>>>>>> documentation-devel
=======
   "id": "f40c9cea",
>>>>>>> documentation-devel
=======
   "id": "64f36fa5",
>>>>>>> c9ed93f2a6d5e87fe6759d6fd26c06823f77f3f2
   "metadata": {},
   "outputs": [],
   "source": [
    "sfe_tissue <- sfe[,sfe$int_tissue]"
   ]
  },
  {
   "cell_type": "code",
   "execution_count": null,
<<<<<<< HEAD
<<<<<<< HEAD
<<<<<<< HEAD
   "id": "3411a668",
=======
   "id": "b3610138",
>>>>>>> documentation-devel
=======
   "id": "e1a9c964",
>>>>>>> documentation-devel
=======
   "id": "d1ad9fb3",
>>>>>>> c9ed93f2a6d5e87fe6759d6fd26c06823f77f3f2
   "metadata": {},
   "outputs": [],
   "source": [
    "plotColData(sfe_tissue, x = \"pct_tissue\", y = \"sum\", color_by = \"diff_int_cov\")"
   ]
  },
  {
   "cell_type": "markdown",
<<<<<<< HEAD
<<<<<<< HEAD
<<<<<<< HEAD
   "id": "d97c7a0a",
=======
   "id": "c1d74fea",
>>>>>>> documentation-devel
=======
   "id": "8aa0b05a",
>>>>>>> documentation-devel
=======
   "id": "de3d05a0",
>>>>>>> c9ed93f2a6d5e87fe6759d6fd26c06823f77f3f2
   "metadata": {
    "lines_to_next_cell": 0
   },
   "source": [
    "Spots that are not fully covered by tissue have lower total UMI counts, which can be due to both that they are not fully in tissue and the cell types with lower total counts in the histological region near the edge, as some spots fully covered by tissue also have low UMI counts.\n",
    "\n",
    "# Spatial autocorrelation of QC metrics"
   ]
  },
  {
   "cell_type": "code",
   "execution_count": null,
<<<<<<< HEAD
<<<<<<< HEAD
<<<<<<< HEAD
   "id": "7c670cb5",
=======
   "id": "8320df10",
>>>>>>> documentation-devel
=======
   "id": "0649e815",
>>>>>>> documentation-devel
=======
   "id": "efe9e1de",
>>>>>>> c9ed93f2a6d5e87fe6759d6fd26c06823f77f3f2
   "metadata": {},
   "outputs": [],
   "source": [
    "colGraph(sfe_tissue, \"visium\") <- findVisiumGraph(sfe_tissue)"
   ]
  },
  {
   "cell_type": "code",
   "execution_count": null,
<<<<<<< HEAD
<<<<<<< HEAD
<<<<<<< HEAD
   "id": "30e8fc39",
=======
   "id": "812d78f9",
>>>>>>> documentation-devel
=======
   "id": "e1ef71bd",
>>>>>>> documentation-devel
=======
   "id": "10fd2b5d",
>>>>>>> c9ed93f2a6d5e87fe6759d6fd26c06823f77f3f2
   "metadata": {},
   "outputs": [],
   "source": [
    "qc_features <- c(\"sum\", \"detected\", \"subsets_mito_percent\")"
   ]
  },
  {
   "cell_type": "code",
   "execution_count": null,
<<<<<<< HEAD
<<<<<<< HEAD
<<<<<<< HEAD
   "id": "d70b5708",
=======
   "id": "ad9e0b30",
>>>>>>> documentation-devel
=======
   "id": "bd6ae518",
>>>>>>> documentation-devel
=======
   "id": "1dbdb7b8",
>>>>>>> c9ed93f2a6d5e87fe6759d6fd26c06823f77f3f2
   "metadata": {},
   "outputs": [],
   "source": [
    "sfe_tissue <- colDataUnivariate(sfe_tissue, \"moran.mc\", qc_features, nsim = 200)"
   ]
  },
  {
   "cell_type": "code",
   "execution_count": null,
<<<<<<< HEAD
<<<<<<< HEAD
<<<<<<< HEAD
   "id": "b2e7a32b",
=======
   "id": "08f7cd35",
>>>>>>> documentation-devel
=======
   "id": "7d2dc607",
>>>>>>> documentation-devel
=======
   "id": "8e1707a1",
>>>>>>> c9ed93f2a6d5e87fe6759d6fd26c06823f77f3f2
   "metadata": {},
   "outputs": [],
   "source": [
    "plotMoranMC(sfe_tissue, qc_features)"
   ]
  },
  {
   "cell_type": "code",
   "execution_count": null,
<<<<<<< HEAD
<<<<<<< HEAD
<<<<<<< HEAD
   "id": "dfdafd28",
=======
   "id": "72d1a19f",
>>>>>>> documentation-devel
=======
   "id": "ab88bac2",
>>>>>>> documentation-devel
=======
   "id": "2fecce64",
>>>>>>> c9ed93f2a6d5e87fe6759d6fd26c06823f77f3f2
   "metadata": {},
   "outputs": [],
   "source": [
    "sfe_tissue <- colDataUnivariate(sfe_tissue, \"sp.correlogram\", qc_features,\n",
    "                                order = 8)"
   ]
  },
  {
   "cell_type": "code",
   "execution_count": null,
<<<<<<< HEAD
<<<<<<< HEAD
<<<<<<< HEAD
   "id": "7ff4f6b7",
=======
   "id": "9f6b7669",
>>>>>>> documentation-devel
=======
   "id": "194172fb",
>>>>>>> documentation-devel
=======
   "id": "4df95a4f",
>>>>>>> c9ed93f2a6d5e87fe6759d6fd26c06823f77f3f2
   "metadata": {},
   "outputs": [],
   "source": [
    "plotCorrelogram(sfe_tissue, qc_features)"
   ]
  },
  {
   "cell_type": "code",
   "execution_count": null,
<<<<<<< HEAD
<<<<<<< HEAD
<<<<<<< HEAD
   "id": "89b91930",
=======
   "id": "09aac745",
>>>>>>> documentation-devel
=======
   "id": "1cd9544c",
>>>>>>> documentation-devel
=======
   "id": "fb9fd544",
>>>>>>> c9ed93f2a6d5e87fe6759d6fd26c06823f77f3f2
   "metadata": {},
   "outputs": [],
   "source": [
    "sfe_tissue <- colDataUnivariate(sfe_tissue, \"localmoran\", qc_features)"
   ]
  },
  {
   "cell_type": "code",
   "execution_count": null,
<<<<<<< HEAD
<<<<<<< HEAD
<<<<<<< HEAD
   "id": "3d76758d",
=======
   "id": "50002170",
>>>>>>> documentation-devel
=======
   "id": "570b064e",
>>>>>>> documentation-devel
=======
   "id": "0e14e15e",
>>>>>>> c9ed93f2a6d5e87fe6759d6fd26c06823f77f3f2
   "metadata": {
    "fig.height": 6,
    "fig.width": 8
   },
   "outputs": [],
   "source": [
    "plotLocalResult(sfe_tissue, \"localmoran\", qc_features, ncol = 2,\n",
    "                colGeometryName = \"spotPoly\", divergent = TRUE, \n",
    "                diverge_center = 0, image_id = \"lowres\", maxcell = 5e4)"
   ]
  },
  {
   "cell_type": "code",
   "execution_count": null,
<<<<<<< HEAD
<<<<<<< HEAD
<<<<<<< HEAD
   "id": "28182605",
=======
   "id": "13b5bd72",
>>>>>>> documentation-devel
=======
   "id": "b5b65ffd",
>>>>>>> documentation-devel
=======
   "id": "506129e3",
>>>>>>> c9ed93f2a6d5e87fe6759d6fd26c06823f77f3f2
   "metadata": {},
   "outputs": [],
   "source": [
    "sfe_tissue <- colDataUnivariate(sfe_tissue, \"LOSH\", qc_features)"
   ]
  },
  {
   "cell_type": "code",
   "execution_count": null,
<<<<<<< HEAD
<<<<<<< HEAD
<<<<<<< HEAD
   "id": "d417427f",
=======
   "id": "64aed76f",
>>>>>>> documentation-devel
=======
   "id": "41e7490b",
>>>>>>> documentation-devel
=======
   "id": "ac26e4c4",
>>>>>>> c9ed93f2a6d5e87fe6759d6fd26c06823f77f3f2
   "metadata": {
    "fig.height": 6,
    "fig.width": 8
   },
   "outputs": [],
   "source": [
    "plotLocalResult(sfe_tissue, \"LOSH\", qc_features, ncol = 2,\n",
    "                colGeometryName = \"spotPoly\", image_id = \"lowres\", maxcell = 5e4)"
   ]
  },
  {
   "cell_type": "code",
   "execution_count": null,
<<<<<<< HEAD
<<<<<<< HEAD
<<<<<<< HEAD
   "id": "c17d4a08",
=======
   "id": "df879ed3",
>>>>>>> documentation-devel
=======
   "id": "193df814",
>>>>>>> documentation-devel
=======
   "id": "a15905b1",
>>>>>>> c9ed93f2a6d5e87fe6759d6fd26c06823f77f3f2
   "metadata": {},
   "outputs": [],
   "source": [
    "sfe_tissue <- colDataUnivariate(sfe_tissue, \"moran.plot\", qc_features)"
   ]
  },
  {
   "cell_type": "code",
   "execution_count": null,
<<<<<<< HEAD
<<<<<<< HEAD
<<<<<<< HEAD
   "id": "f9126084",
=======
   "id": "4e996108",
>>>>>>> documentation-devel
=======
   "id": "137cc960",
>>>>>>> documentation-devel
=======
   "id": "0c667518",
>>>>>>> c9ed93f2a6d5e87fe6759d6fd26c06823f77f3f2
   "metadata": {},
   "outputs": [],
   "source": [
    "moranPlot(sfe_tissue, \"subsets_mito_percent\")"
   ]
  },
  {
   "cell_type": "markdown",
<<<<<<< HEAD
<<<<<<< HEAD
<<<<<<< HEAD
   "id": "ed5a70fb",
=======
   "id": "f0aa2862",
>>>>>>> documentation-devel
=======
   "id": "20ee322d",
>>>>>>> documentation-devel
=======
   "id": "92ce4f7f",
>>>>>>> c9ed93f2a6d5e87fe6759d6fd26c06823f77f3f2
   "metadata": {
    "lines_to_next_cell": 0
   },
   "source": [
    "# Spatial autocorrelation of gene expression\n",
    "\n",
    "Normalize data with the `scran` method, and find highly variable genes"
   ]
  },
  {
   "cell_type": "code",
   "execution_count": null,
<<<<<<< HEAD
<<<<<<< HEAD
<<<<<<< HEAD
   "id": "04d00c71",
=======
   "id": "84bc47b6",
>>>>>>> documentation-devel
=======
   "id": "9f3fdb1e",
>>>>>>> documentation-devel
=======
   "id": "3ee4228e",
>>>>>>> c9ed93f2a6d5e87fe6759d6fd26c06823f77f3f2
   "metadata": {},
   "outputs": [],
   "source": [
    "#clusters <- quickCluster(sfe_tissue)\n",
    "#sfe_tissue <- computeSumFactors(sfe_tissue, clusters=clusters)\n",
    "#sfe_tissue <- sfe_tissue[, sizeFactors(sfe_tissue) > 0]\n",
    "sfe_tissue <- logNormCounts(sfe_tissue)"
   ]
  },
  {
   "cell_type": "code",
   "execution_count": null,
<<<<<<< HEAD
<<<<<<< HEAD
<<<<<<< HEAD
   "id": "c3ec5922",
=======
   "id": "67f3ea9c",
>>>>>>> documentation-devel
=======
   "id": "0521c8f4",
>>>>>>> documentation-devel
=======
   "id": "60f80d98",
>>>>>>> c9ed93f2a6d5e87fe6759d6fd26c06823f77f3f2
   "metadata": {},
   "outputs": [],
   "source": [
    "dec <- modelGeneVar(sfe_tissue)\n",
    "hvgs <- getTopHVGs(dec, n = 2000)"
   ]
  },
  {
   "cell_type": "markdown",
<<<<<<< HEAD
<<<<<<< HEAD
<<<<<<< HEAD
   "id": "3000edb7",
=======
   "id": "82efc8a5",
>>>>>>> documentation-devel
=======
   "id": "3f5c8a0a",
>>>>>>> documentation-devel
=======
   "id": "45003012",
>>>>>>> c9ed93f2a6d5e87fe6759d6fd26c06823f77f3f2
   "metadata": {
    "lines_to_next_cell": 0
   },
   "source": [
    "Find Moran's I for all highly variable genes:"
   ]
  },
  {
   "cell_type": "code",
   "execution_count": null,
<<<<<<< HEAD
<<<<<<< HEAD
<<<<<<< HEAD
   "id": "31e1d26c",
=======
   "id": "a7d4d5c8",
>>>>>>> documentation-devel
=======
   "id": "f79fc958",
>>>>>>> documentation-devel
=======
   "id": "ab1a7f1d",
>>>>>>> c9ed93f2a6d5e87fe6759d6fd26c06823f77f3f2
   "metadata": {},
   "outputs": [],
   "source": [
    "sfe_tissue <- runMoransI(sfe_tissue, features = hvgs, BPPARAM = MulticoreParam(2))"
   ]
  },
  {
   "cell_type": "code",
   "execution_count": null,
<<<<<<< HEAD
<<<<<<< HEAD
<<<<<<< HEAD
   "id": "f8ec66e8",
=======
   "id": "a5232ea1",
>>>>>>> documentation-devel
=======
   "id": "2f713142",
>>>>>>> documentation-devel
=======
   "id": "27a12a16",
>>>>>>> c9ed93f2a6d5e87fe6759d6fd26c06823f77f3f2
   "metadata": {},
   "outputs": [],
   "source": [
    "plotRowDataHistogram(sfe_tissue, \"moran_sample01\")"
   ]
  },
  {
   "cell_type": "markdown",
<<<<<<< HEAD
<<<<<<< HEAD
<<<<<<< HEAD
   "id": "ae06a3dd",
=======
   "id": "b9967e6e",
>>>>>>> documentation-devel
=======
   "id": "b41a6623",
>>>>>>> documentation-devel
=======
   "id": "e9d77729",
>>>>>>> c9ed93f2a6d5e87fe6759d6fd26c06823f77f3f2
   "metadata": {
    "lines_to_next_cell": 0
   },
   "source": [
    "The vast majority of genes have positive Moran's I. Here we'll find the genes with the highest Moran's I:"
   ]
  },
  {
   "cell_type": "code",
   "execution_count": null,
<<<<<<< HEAD
<<<<<<< HEAD
<<<<<<< HEAD
   "id": "9399473a",
=======
   "id": "3294448d",
>>>>>>> documentation-devel
=======
   "id": "02901626",
>>>>>>> documentation-devel
=======
   "id": "34a96e2d",
>>>>>>> c9ed93f2a6d5e87fe6759d6fd26c06823f77f3f2
   "metadata": {},
   "outputs": [],
   "source": [
    "top_moran <- rownames(sfe_tissue)[order(rowData(sfe_tissue)$moran_sample01, \n",
    "                                        decreasing = TRUE)[1:9]]"
   ]
  },
  {
   "cell_type": "markdown",
<<<<<<< HEAD
<<<<<<< HEAD
<<<<<<< HEAD
   "id": "8814c72e",
=======
   "id": "9055433a",
>>>>>>> documentation-devel
=======
   "id": "a5d3c197",
>>>>>>> documentation-devel
=======
   "id": "797c080b",
>>>>>>> c9ed93f2a6d5e87fe6759d6fd26c06823f77f3f2
   "metadata": {
    "lines_to_next_cell": 0
   },
   "source": [
    "We can use the [gget info](https://pachterlab.github.io/gget/info.html) module from the [gget](https://pachterlab.github.io/gget/) package to get additional information on these genes, such as their descriptions, synonyms, transcripts and more from a collection of reference databases including [Ensembl](https://ensembl.org/), [UniProt](https://www.uniprot.org/) and [NCBI](https://www.ncbi.nlm.nih.gov/) Here, we are showing their gene descriptions from [NCBI](https://www.ncbi.nlm.nih.gov/):\n",
    "<<<<<<< HEAD"
   ]
  },
  {
   "cell_type": "code",
   "execution_count": null,
<<<<<<< HEAD
<<<<<<< HEAD
<<<<<<< HEAD
   "id": "52a10aaf",
=======
   "id": "7d778ba5",
>>>>>>> documentation-devel
=======
   "id": "2ebd2907",
>>>>>>> documentation-devel
=======
   "id": "d88859c3",
>>>>>>> c9ed93f2a6d5e87fe6759d6fd26c06823f77f3f2
   "metadata": {
    "eval": false
   },
   "outputs": [],
   "source": [
    "=======\n",
    "```{r,eval=FALSE}\n",
    ">>>>>>> documentation\n",
    "gget_info <- gget$info(top_moran)\n",
    "\n",
    "rownames(gget_info) <- gget_info$primary_gene_name\n",
    "select(gget_info, ncbi_description)"
   ]
  },
  {
   "cell_type": "markdown",
<<<<<<< HEAD
<<<<<<< HEAD
<<<<<<< HEAD
   "id": "99be565f",
=======
   "id": "5e3f8886",
>>>>>>> documentation-devel
=======
   "id": "bab146be",
>>>>>>> documentation-devel
=======
   "id": "2ca7bf3e",
>>>>>>> c9ed93f2a6d5e87fe6759d6fd26c06823f77f3f2
   "metadata": {
    "lines_to_next_cell": 0
   },
   "source": [
    "Plot the genes with the highest Moran's I:"
   ]
  },
  {
   "cell_type": "code",
   "execution_count": null,
<<<<<<< HEAD
<<<<<<< HEAD
<<<<<<< HEAD
   "id": "7a350962",
=======
   "id": "df88ce84",
>>>>>>> documentation-devel
=======
   "id": "d7722437",
>>>>>>> documentation-devel
=======
   "id": "0f9ffbc2",
>>>>>>> c9ed93f2a6d5e87fe6759d6fd26c06823f77f3f2
   "metadata": {
    "fig.height": 5,
    "fig.width": 9
   },
   "outputs": [],
   "source": [
    "plotSpatialFeature(sfe_tissue, top_moran, ncol = 3, image_id = \"lowres\",\n",
    "                   maxcell = 5e4, swap_rownames = \"symbol\")"
   ]
  },
  {
   "cell_type": "markdown",
<<<<<<< HEAD
<<<<<<< HEAD
<<<<<<< HEAD
   "id": "b45cdba4",
=======
   "id": "3526d39b",
>>>>>>> documentation-devel
=======
   "id": "1a8200a1",
>>>>>>> documentation-devel
=======
   "id": "dfb45b98",
>>>>>>> c9ed93f2a6d5e87fe6759d6fd26c06823f77f3f2
   "metadata": {
    "lines_to_next_cell": 0
   },
   "source": [
    "Here global Moran's I seems to be more about tissue structure. \n",
    "\n",
    "Some genes have negative Moran's I that might not be statistically significant:"
   ]
  },
  {
   "cell_type": "code",
   "execution_count": null,
<<<<<<< HEAD
<<<<<<< HEAD
<<<<<<< HEAD
   "id": "cabc96d0",
=======
   "id": "ab40c712",
>>>>>>> documentation-devel
=======
   "id": "bce2e3d8",
>>>>>>> documentation-devel
=======
   "id": "1f6fc50c",
>>>>>>> c9ed93f2a6d5e87fe6759d6fd26c06823f77f3f2
   "metadata": {},
   "outputs": [],
   "source": [
    "neg_moran <- rownames(sfe_tissue)[order(rowData(sfe_tissue)$moran_sample01, \n",
    "                                        decreasing = FALSE)[1:9]]"
   ]
  },
  {
   "cell_type": "markdown",
<<<<<<< HEAD
   "id": "5f04bbb5",
=======
   "id": "851d85c2",
>>>>>>> c9ed93f2a6d5e87fe6759d6fd26c06823f77f3f2
   "metadata": {
    "lines_to_next_cell": 0
   },
   "source": [
    "<<<<<<< HEAD"
   ]
  },
  {
   "cell_type": "code",
   "execution_count": null,
<<<<<<< HEAD
<<<<<<< HEAD
<<<<<<< HEAD
   "id": "ac794d13",
=======
   "id": "509c732b",
>>>>>>> documentation-devel
=======
   "id": "35ddd05a",
>>>>>>> documentation-devel
=======
   "id": "b7488d45",
>>>>>>> c9ed93f2a6d5e87fe6759d6fd26c06823f77f3f2
   "metadata": {
    "eval": false
   },
   "outputs": [],
   "source": [
    "=======\n",
    "```{r,eval=FALSE}\n",
    ">>>>>>> documentation\n",
    "# Display NCBI descriptions for these genes\n",
    "gget_info_neg <- gget$info(neg_moran)\n",
    "\n",
    "rownames(gget_info_neg) <- gget_info_neg$primary_gene_name\n",
    "select(gget_info_neg, ncbi_description)"
   ]
  },
  {
   "cell_type": "code",
   "execution_count": null,
<<<<<<< HEAD
<<<<<<< HEAD
<<<<<<< HEAD
   "id": "6d3e6f9a",
=======
   "id": "50eb8ca8",
>>>>>>> documentation-devel
=======
   "id": "f64fe662",
>>>>>>> documentation-devel
=======
   "id": "b67d87d3",
>>>>>>> c9ed93f2a6d5e87fe6759d6fd26c06823f77f3f2
   "metadata": {
    "fig.height": 5,
    "fig.width": 9
   },
   "outputs": [],
   "source": [
    "plotSpatialFeature(sfe_tissue, neg_moran, ncol = 3, swap_rownames = \"symbol\",\n",
    "                   image_id = \"lowres\", maxcell = 5e4)"
   ]
  },
  {
   "cell_type": "code",
   "execution_count": null,
<<<<<<< HEAD
<<<<<<< HEAD
<<<<<<< HEAD
   "id": "a8e587ec",
=======
   "id": "fb8d14e1",
>>>>>>> documentation-devel
=======
   "id": "c3af8319",
>>>>>>> documentation-devel
=======
   "id": "33d6e8ca",
>>>>>>> c9ed93f2a6d5e87fe6759d6fd26c06823f77f3f2
   "metadata": {},
   "outputs": [],
   "source": [
    "sfe_tissue <- runUnivariate(sfe_tissue, \"moran.mc\", neg_moran, \n",
    "                            colGraphName = \"visium\", nsim = 200, alternative = \"less\")"
   ]
  },
  {
   "cell_type": "code",
   "execution_count": null,
<<<<<<< HEAD
<<<<<<< HEAD
<<<<<<< HEAD
   "id": "944b0803",
=======
   "id": "092c5b83",
>>>>>>> documentation-devel
=======
   "id": "9e301918",
>>>>>>> documentation-devel
=======
   "id": "252cc452",
>>>>>>> c9ed93f2a6d5e87fe6759d6fd26c06823f77f3f2
   "metadata": {},
   "outputs": [],
   "source": [
    "plotMoranMC(sfe_tissue, neg_moran, swap_rownames = \"symbol\")"
   ]
  },
  {
   "cell_type": "code",
   "execution_count": null,
<<<<<<< HEAD
<<<<<<< HEAD
<<<<<<< HEAD
   "id": "3a9b2c93",
=======
   "id": "cefee9b5",
>>>>>>> documentation-devel
=======
   "id": "c87eacc1",
>>>>>>> documentation-devel
=======
   "id": "829337d1",
>>>>>>> c9ed93f2a6d5e87fe6759d6fd26c06823f77f3f2
   "metadata": {},
   "outputs": [],
   "source": [
    "rowData(sfe_tissue)[neg_moran, c(\"moran_sample01\", \"moran.mc_p.value_sample01\")]"
   ]
  },
  {
   "cell_type": "markdown",
<<<<<<< HEAD
<<<<<<< HEAD
<<<<<<< HEAD
   "id": "af3f3ea5",
=======
   "id": "9e5bdcf5",
>>>>>>> documentation-devel
=======
   "id": "2d4a23c2",
>>>>>>> documentation-devel
=======
   "id": "e728ff41",
>>>>>>> c9ed93f2a6d5e87fe6759d6fd26c06823f77f3f2
   "metadata": {},
   "source": [
    "As there are 2000 highly variable genes and 2000 tests, these would no longer be significant after correcting for multiple testing. \n",
    "\n",
    "Does global Moran's I relate to gene expression level?"
   ]
  },
  {
   "cell_type": "code",
   "execution_count": null,
<<<<<<< HEAD
<<<<<<< HEAD
<<<<<<< HEAD
   "id": "6968130a",
=======
   "id": "03fb7735",
>>>>>>> documentation-devel
=======
   "id": "d48fd651",
>>>>>>> documentation-devel
=======
   "id": "bb228be3",
>>>>>>> c9ed93f2a6d5e87fe6759d6fd26c06823f77f3f2
   "metadata": {},
   "outputs": [],
   "source": [
    "sfe_tissue <- addPerFeatureQCMetrics(sfe_tissue)\n",
    "names(rowData(sfe_tissue))"
   ]
  },
  {
   "cell_type": "code",
   "execution_count": null,
<<<<<<< HEAD
<<<<<<< HEAD
<<<<<<< HEAD
   "id": "d982285a",
=======
   "id": "bd6d569b",
>>>>>>> documentation-devel
=======
   "id": "7bc8450f",
>>>>>>> documentation-devel
=======
   "id": "a9627dc7",
>>>>>>> c9ed93f2a6d5e87fe6759d6fd26c06823f77f3f2
   "metadata": {},
   "outputs": [],
   "source": [
    "plotRowData(sfe_tissue, x = \"mean\", y = \"moran_sample01\") +\n",
    "    scale_x_log10() +\n",
    "    annotation_logticks(sides = \"b\") +\n",
    "    geom_density2d()"
   ]
  },
  {
   "cell_type": "markdown",
<<<<<<< HEAD
<<<<<<< HEAD
<<<<<<< HEAD
   "id": "8cbd1956",
=======
   "id": "8dea00f5",
>>>>>>> documentation-devel
=======
   "id": "ac4f3eda",
>>>>>>> documentation-devel
=======
   "id": "22d3c941",
>>>>>>> c9ed93f2a6d5e87fe6759d6fd26c06823f77f3f2
   "metadata": {
    "lines_to_next_cell": 0
   },
   "source": [
    "Genes that are more highly expressed overall tend to have higher Moran's I. \n",
    "\n",
    "# Apply spatial analysis methods to gene expression space\n",
    "Spatial statistics that require a spatial neighborhood graph can also be applied to the k nearest neighbor graph not in histological space but in gene expression space. This is done in more depth in [this vignette](https://pachterlab.github.io/voyager/articles/nonspatial.html)."
   ]
  },
  {
   "cell_type": "code",
   "execution_count": null,
<<<<<<< HEAD
<<<<<<< HEAD
<<<<<<< HEAD
   "id": "f663594e",
=======
   "id": "663e2c21",
>>>>>>> documentation-devel
=======
   "id": "6d10ba63",
>>>>>>> documentation-devel
=======
   "id": "ddc33916",
>>>>>>> c9ed93f2a6d5e87fe6759d6fd26c06823f77f3f2
   "metadata": {},
   "outputs": [],
   "source": [
    "sfe_tissue <- runPCA(sfe_tissue, ncomponents = 30, subset_row = hvgs,\n",
    "                     scale = TRUE) # scale as in Seurat"
   ]
  },
  {
   "cell_type": "code",
   "execution_count": null,
<<<<<<< HEAD
<<<<<<< HEAD
<<<<<<< HEAD
   "id": "efde5b73",
=======
   "id": "94000eba",
>>>>>>> documentation-devel
=======
   "id": "8bdde490",
>>>>>>> documentation-devel
=======
   "id": "6de10e7b",
>>>>>>> c9ed93f2a6d5e87fe6759d6fd26c06823f77f3f2
   "metadata": {},
   "outputs": [],
   "source": [
    "foo <- findKNN(reducedDim(sfe_tissue, \"PCA\")[,1:10], k=10, BNPARAM=AnnoyParam())\n",
    "# Split by row\n",
    "foo_nb <- asplit(foo$index, 1)\n",
    "dmat <- 1/foo$distance\n",
    "# Row normalize the weights\n",
    "dmat <- sweep(dmat, 1, rowSums(dmat), FUN = \"/\")\n",
    "glist <- asplit(dmat, 1)\n",
    "# Sort based on index\n",
    "ord <- lapply(foo_nb, order)\n",
    "foo_nb <- lapply(seq_along(foo_nb), function(i) foo_nb[[i]][ord[[i]]])\n",
    "class(foo_nb) <- \"nb\"\n",
    "glist <- lapply(seq_along(glist), function(i) glist[[i]][ord[[i]]])\n",
    "\n",
    "listw <- list(style = \"W\",\n",
    "              neighbours = foo_nb,\n",
    "              weights = glist)\n",
    "class(listw) <- \"listw\"\n",
    "attr(listw, \"region.id\") <- colnames(sfe_tissue)"
   ]
  },
  {
   "cell_type": "code",
   "execution_count": null,
<<<<<<< HEAD
<<<<<<< HEAD
<<<<<<< HEAD
   "id": "47f7c362",
=======
   "id": "98898e8a",
>>>>>>> documentation-devel
=======
   "id": "ff09dc4f",
>>>>>>> documentation-devel
=======
   "id": "7cb1735b",
>>>>>>> c9ed93f2a6d5e87fe6759d6fd26c06823f77f3f2
   "metadata": {},
   "outputs": [],
   "source": [
    "colGraph(sfe_tissue, \"knn10\") <- listw"
   ]
  },
  {
   "cell_type": "code",
   "execution_count": null,
<<<<<<< HEAD
<<<<<<< HEAD
<<<<<<< HEAD
   "id": "60353ed7",
=======
   "id": "1797c631",
>>>>>>> documentation-devel
=======
   "id": "eeb7a780",
>>>>>>> documentation-devel
=======
   "id": "63975fc8",
>>>>>>> c9ed93f2a6d5e87fe6759d6fd26c06823f77f3f2
   "metadata": {},
   "outputs": [],
   "source": [
    "sfe_tissue <- runMoransI(sfe_tissue, features = hvgs, BPPARAM = MulticoreParam(2),\n",
    "                         colGraphName = \"knn10\", name = \"moran_ns\")"
   ]
  },
  {
   "cell_type": "markdown",
<<<<<<< HEAD
<<<<<<< HEAD
<<<<<<< HEAD
   "id": "630f5cff",
=======
   "id": "1c6ac56d",
>>>>>>> documentation-devel
=======
   "id": "26f196eb",
>>>>>>> documentation-devel
=======
   "id": "7372cf0e",
>>>>>>> c9ed93f2a6d5e87fe6759d6fd26c06823f77f3f2
   "metadata": {
    "lines_to_next_cell": 0
   },
   "source": [
    "Here we store the results in \"moran_ns\", not to be confused with spatial Moran's I results.\n",
    "\n",
    "These are the genes that tend to be more similar to their neighbors in the 10 nearest neighbor graph in PCA space for gene expression rather than in histological space:"
   ]
  },
  {
   "cell_type": "code",
   "execution_count": null,
<<<<<<< HEAD
<<<<<<< HEAD
<<<<<<< HEAD
   "id": "8da9df1f",
=======
   "id": "34798df5",
>>>>>>> documentation-devel
=======
   "id": "b108ac67",
>>>>>>> documentation-devel
=======
   "id": "f0175b25",
>>>>>>> c9ed93f2a6d5e87fe6759d6fd26c06823f77f3f2
   "metadata": {},
   "outputs": [],
   "source": [
    "top_moran2 <- rownames(sfe_tissue)[order(rowData(sfe_tissue)$moran_ns_sample01, \n",
    "                                        decreasing = TRUE)[1:9]]"
   ]
  },
  {
   "cell_type": "markdown",
<<<<<<< HEAD
   "id": "f90bbac2",
=======
   "id": "9dda27cc",
>>>>>>> c9ed93f2a6d5e87fe6759d6fd26c06823f77f3f2
   "metadata": {
    "lines_to_next_cell": 0
   },
   "source": [
    "<<<<<<< HEAD"
   ]
  },
  {
   "cell_type": "code",
   "execution_count": null,
<<<<<<< HEAD
<<<<<<< HEAD
<<<<<<< HEAD
   "id": "15b868bc",
=======
   "id": "8552fe4e",
>>>>>>> documentation-devel
=======
   "id": "56f1774b",
>>>>>>> documentation-devel
=======
   "id": "22f2ed19",
>>>>>>> c9ed93f2a6d5e87fe6759d6fd26c06823f77f3f2
   "metadata": {
    "eval": false
   },
   "outputs": [],
   "source": [
    "=======\n",
    "```{r,eval=FALSE}\n",
    ">>>>>>> documentation\n",
    "# Display NCBI descriptions for these genes\n",
    "gget_info2 <- gget$info(top_moran2)\n",
    "\n",
    "rownames(gget_info2) <- gget_info2$primary_gene_name\n",
    "select(gget_info2, ncbi_description)"
   ]
  },
  {
   "cell_type": "code",
   "execution_count": null,
<<<<<<< HEAD
<<<<<<< HEAD
<<<<<<< HEAD
   "id": "84865817",
=======
   "id": "f3c143b5",
>>>>>>> documentation-devel
=======
   "id": "cd626e43",
>>>>>>> documentation-devel
=======
   "id": "232d40a9",
>>>>>>> c9ed93f2a6d5e87fe6759d6fd26c06823f77f3f2
   "metadata": {
    "fig.height": 6,
    "fig.width": 9
   },
   "outputs": [],
   "source": [
    "plotSpatialFeature(sfe_tissue, top_moran2, ncol = 3, swap_rownames = \"symbol\",\n",
    "                   image_id = \"lowres\", maxcell = 5e4)"
   ]
  },
  {
   "cell_type": "markdown",
<<<<<<< HEAD
<<<<<<< HEAD
<<<<<<< HEAD
   "id": "b476e6e7",
=======
   "id": "40f2c344",
>>>>>>> documentation-devel
=======
   "id": "665c1ae7",
>>>>>>> documentation-devel
=======
   "id": "e5e5f33c",
>>>>>>> c9ed93f2a6d5e87fe6759d6fd26c06823f77f3f2
   "metadata": {},
   "source": [
    "Although this Moran's I was not computed in histological space, these genes with the highest Moran's I in PCA space also show spatial structure, as different cell types reside in different spatial regions.\n",
    "\n",
    "# Session info"
   ]
  },
  {
   "cell_type": "code",
   "execution_count": null,
<<<<<<< HEAD
<<<<<<< HEAD
<<<<<<< HEAD
   "id": "83f472a1",
=======
   "id": "eef46623",
>>>>>>> documentation-devel
=======
   "id": "de6b176a",
>>>>>>> documentation-devel
=======
   "id": "a9797ae6",
>>>>>>> c9ed93f2a6d5e87fe6759d6fd26c06823f77f3f2
   "metadata": {
    "lines_to_next_cell": 0
   },
   "outputs": [],
   "source": [
    "sessionInfo()"
   ]
  },
  {
   "cell_type": "markdown",
<<<<<<< HEAD
<<<<<<< HEAD
<<<<<<< HEAD
   "id": "f3196dad",
=======
   "id": "7603e089",
>>>>>>> documentation-devel
=======
   "id": "26e2bcb3",
>>>>>>> documentation-devel
=======
   "id": "dec73399",
>>>>>>> c9ed93f2a6d5e87fe6759d6fd26c06823f77f3f2
   "metadata": {},
   "source": []
  }
 ],
 "metadata": {
  "kernelspec": {
   "display_name": "R",
   "language": "R",
   "name": "ir"
  }
 },
 "nbformat": 4,
 "nbformat_minor": 5
}
