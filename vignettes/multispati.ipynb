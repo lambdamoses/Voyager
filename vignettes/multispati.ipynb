{
 "cells": [
  {
   "cell_type": "raw",
<<<<<<< HEAD
<<<<<<< HEAD
<<<<<<< HEAD
   "id": "8bf82196",
=======
   "id": "ada9679a",
>>>>>>> documentation-devel
=======
   "id": "81859232",
>>>>>>> documentation-devel
=======
   "id": "20f87bc7",
>>>>>>> c9ed93f2a6d5e87fe6759d6fd26c06823f77f3f2
   "metadata": {},
   "source": [
    "---\n",
    "title: \"MULTISPATI PCA and negative spatial autocorrelation\"\n",
    "author: \"Lambda Moses\"\n",
    "date: \"`r Sys.Date()`\"\n",
    "output: \n",
    "  html_document:\n",
    "  toc: true\n",
    "  toc_float:\n",
    "    collapsed: false\n",
    "  toc_depth: 3\n",
    "bibliography: ref.bib\n",
    "vignette: >\n",
    "  %\\VignetteIndexEntry{multispati}\n",
    "  %\\VignetteEngine{knitr::rmarkdown}\n",
    "  %\\VignetteEncoding{UTF-8}\n",
    "---"
   ]
  },
  {
   "cell_type": "code",
   "execution_count": null,
<<<<<<< HEAD
<<<<<<< HEAD
<<<<<<< HEAD
   "id": "8da54d13",
=======
   "id": "e5f51a6e",
>>>>>>> documentation-devel
=======
   "id": "fecfc075",
>>>>>>> documentation-devel
=======
   "id": "bb391e2c",
>>>>>>> c9ed93f2a6d5e87fe6759d6fd26c06823f77f3f2
   "metadata": {
    "lines_to_next_cell": 2,
    "tags": [
     "remove_cell"
    ]
   },
   "outputs": [],
   "source": [
    "knitr::opts_chunk$set(\n",
    "  collapse = TRUE,\n",
    "  comment = \"#>\"\n",
    ")"
   ]
  },
  {
   "cell_type": "code",
   "execution_count": null,
<<<<<<< HEAD
<<<<<<< HEAD
<<<<<<< HEAD
   "id": "caabf6eb",
=======
   "id": "ca753a15",
>>>>>>> documentation-devel
=======
   "id": "56636b44",
>>>>>>> documentation-devel
=======
   "id": "caa494b6",
>>>>>>> c9ed93f2a6d5e87fe6759d6fd26c06823f77f3f2
   "metadata": {
    "eval": false,
    "tags": [
     "remove_cell"
    ]
   },
   "outputs": [],
   "source": [
    "# Install Google Colab dependencies\n",
    "# Note: this can take 30+ minutes (many of the dependencies include C++ code, which needs to be compiled)\n",
    "\n",
    "# First install `sf`, `ragg` and `textshaping` and their system dependencies:\n",
    "system(\"apt-get -y update && apt-get install -y  libudunits2-dev libgdal-dev libgeos-dev libproj-dev libharfbuzz-dev libfribidi-dev\")\n",
    "install.packages(\"sf\")\n",
    "install.packages(\"textshaping\")\n",
    "install.packages(\"ragg\")\n",
    "\n",
    "# Install system dependencies of some other R packages that Voyager either imports or suggests:\n",
    "system(\"apt-get install -y libfribidi-dev libcairo2-dev libmagick++-dev\")\n",
    "\n",
    "# Install Voyager from Bioconductor:\n",
    "install.packages(\"BiocManager\")\n",
    "BiocManager::install(version = \"release\", ask = FALSE, update = FALSE, Ncpus = 2)\n",
    "BiocManager::install(\"scater\")\n",
    "system.time(\n",
    "  BiocManager::install(\"Voyager\", dependencies = TRUE, Ncpus = 2, update = FALSE)\n",
    ")\n",
    "\n",
    "# Other packages used in this vignette\n",
    "packageVersion(\"Voyager\")"
   ]
  },
  {
   "cell_type": "markdown",
<<<<<<< HEAD
<<<<<<< HEAD
<<<<<<< HEAD
   "id": "95f93599",
=======
   "id": "61b57d0f",
>>>>>>> documentation-devel
=======
   "id": "2195db90",
>>>>>>> documentation-devel
=======
   "id": "13eca468",
>>>>>>> c9ed93f2a6d5e87fe6759d6fd26c06823f77f3f2
   "metadata": {},
   "source": [
    "# Introduction\n",
    "Due to the large number of genes quantified in single cell and spatial transcriptomics, dimension reduction is part of the standard workflow to analyze such data, to visualize, to help interpreting the data, to distill relevant information and reduce noise, to facilitate downstream analyses such as clustering and pseudotime, to project different samples into a shared latent space for data integration, and so on.\n",
    "\n",
    "The first dimension reduction methods we learn about, such as good old principal component analysis (PCA), tSNE, and UMAP, don't use spatial information. With the rise of spatial transcriptomics, some dimension reduction methods that take spatial dependence into account have been written. Some, such as `SpatialPCA` [@Shang2022-qy], `NSF` [@Townes2023-bi], and `MEFISTO` [@Velten2022-gv] use factor analysis or probabilistic PCA which is related to factor analysis, and model the factors as Gaussian processes, with a spatial kernel for the covariance matrix, so the factors have positive spatial autocorrelation and can be used for downstream clustering where the clusters can be more spatially coherent. Some use graph convolution networks on a spatial neighborhood graph to find spatially informed embeddings of the cells, such as `conST` [@Zong2022-tb] and `SpaceFlow` [@Ren2022-qx]. `SpaSRL` [@Zhang2023-kf] finds a low dimension projection of spatial neighborhood augmented data. \n",
    "\n",
    "Spatially informed dimension reduction is actually not new, and dates back to at least 1985, with Wartenberg's crossover of Moran's I and PCA [@Wartenberg1985-fk], which was generalized and further developed as MULTISPATI PCA [@Dray2008-en], implemented in the [`adespatial`](https://cran.r-project.org/web/packages/adespatial/index.html) package on CRAN. In short, while PCA tries to maximize the variance explained by each PC, MULTISPATI maximizes the product of Moran's I and variance explained. Also, while all the eigenvalues from PCA are non-negative, because the covariance matrix is positive semidefinite, MULTISPATI can give negative eigenvalues, which represent negative spatial autocorrelation, which can be present and interesting but is not as common as positive spatial autocorrelation and is often masked by the latter [@Griffith2019-bo]. \n",
    "\n",
    "In single cell -omics conventions, let $X$ denote a gene count matrix whose columns are cells or Visium spots and whose rows are genes, with $n$ columns. Let $W$ denote the row normalized $n\\times n$ adjacency matrix of the spatial neighborhood graph of the cells or Visium spots, which does not have to be symmetric. MULTISPATI diagonalizes a symmetric matrix\n",
    "\n",
    "$$\n",
    "H = \\frac 1 {2n} X(W^t+W)X^t\n",
    "$$\n",
    "\n",
    "However, the implementation in `adespatial` is more general and can be used for other multivariate analyses in the [duality diagram](https://www.ncbi.nlm.nih.gov/pmc/articles/PMC3265363/) paradigm, such as correspondence analysis; the equation above is simplified just for PCA, without having to introduce the duality diagram here.\n",
    "\n",
    "Voyager 1.2.0 (Bioconductor release) has a much faster implementation of MULTISPATI PCA based on [`RSpectra`](https://cran.r-project.org/web/packages/RSpectra/index.html). See benchmark [here](https://lambdamoses.github.io/thevoyages/posts/2023-03-25-multispati-part-2/).\n",
    "\n",
    "In this vignette, we perform MULTISPATI PCA on the MERFISH mouse liver dataset. See the first vignette using this dataset [here](https://pachterlab.github.io/voyager/articles/vig6_merfish.html).\n",
    "\n",
    "Here we load the packages used:"
   ]
  },
  {
   "cell_type": "code",
   "execution_count": null,
<<<<<<< HEAD
<<<<<<< HEAD
<<<<<<< HEAD
   "id": "bc287d92",
=======
   "id": "6b0dd3f3",
>>>>>>> documentation-devel
=======
   "id": "f3c046c2",
>>>>>>> documentation-devel
=======
   "id": "d6bf1daf",
>>>>>>> c9ed93f2a6d5e87fe6759d6fd26c06823f77f3f2
   "metadata": {
    "message": false,
    "name": "setup"
   },
   "outputs": [],
   "source": [
    "library(Voyager)\n",
    "library(SFEData)\n",
    "library(SpatialFeatureExperiment)\n",
    "library(scater)\n",
    "library(scran)\n",
    "library(scuttle)\n",
    "library(ggplot2)\n",
    "library(stringr)\n",
    "library(tidyr)\n",
    "library(tibble)\n",
    "library(bluster)\n",
    "library(BiocSingular)\n",
    "library(BiocParallel)\n",
    "library(sf)\n",
    "library(patchwork)\n",
    "library(spdep)\n",
    "set.ZeroPolicyOption(TRUE)\n",
    "theme_set(theme_bw())"
   ]
  },
  {
   "cell_type": "code",
   "execution_count": null,
<<<<<<< HEAD
<<<<<<< HEAD
<<<<<<< HEAD
   "id": "bb95d740",
=======
   "id": "a2ac4c34",
>>>>>>> documentation-devel
=======
   "id": "6ddde1d8",
>>>>>>> documentation-devel
=======
   "id": "786f0911",
>>>>>>> c9ed93f2a6d5e87fe6759d6fd26c06823f77f3f2
   "metadata": {},
   "outputs": [],
   "source": [
    "(sfe <- VizgenLiverData())"
   ]
  },
  {
   "cell_type": "markdown",
<<<<<<< HEAD
<<<<<<< HEAD
<<<<<<< HEAD
   "id": "aa42344c",
=======
   "id": "2c147225",
>>>>>>> documentation-devel
=======
   "id": "67cd8261",
>>>>>>> documentation-devel
=======
   "id": "19d2a44a",
>>>>>>> c9ed93f2a6d5e87fe6759d6fd26c06823f77f3f2
   "metadata": {
    "lines_to_next_cell": 0
   },
   "source": [
    "MULTISPATI PCA is one of the multivariate methods introduced in `Voyager` 1.2.0. All multivariate methods in `Voyager` are listed here:"
   ]
  },
  {
   "cell_type": "code",
   "execution_count": null,
<<<<<<< HEAD
<<<<<<< HEAD
<<<<<<< HEAD
   "id": "17568d18",
=======
   "id": "2c8c41e1",
>>>>>>> documentation-devel
=======
   "id": "62dfe163",
>>>>>>> documentation-devel
=======
   "id": "9617d5dc",
>>>>>>> c9ed93f2a6d5e87fe6759d6fd26c06823f77f3f2
   "metadata": {},
   "outputs": [],
   "source": [
    "listSFEMethods(variate = \"multi\")"
   ]
  },
  {
   "cell_type": "markdown",
<<<<<<< HEAD
<<<<<<< HEAD
<<<<<<< HEAD
   "id": "f29258bf",
=======
   "id": "8245b027",
>>>>>>> documentation-devel
=======
   "id": "135ef45d",
>>>>>>> documentation-devel
=======
   "id": "477e2735",
>>>>>>> c9ed93f2a6d5e87fe6759d6fd26c06823f77f3f2
   "metadata": {
    "lines_to_next_cell": 0
   },
   "source": [
    "When calling `calculate*variate()` or `run*variate()`, the `type` (2nd) argument takes either an `SFEMethod` object or a string that matches an entry in the `name` column in the data frame returned by `listSFEMethods()`.\n",
    "\n",
    "# Quality control\n",
    "QC was already performed in the [first vignette](https://pachterlab.github.io/voyager/articles/vig6_merfish.html). We do the same QC here, but see the first vignette for more details."
   ]
  },
  {
   "cell_type": "code",
   "execution_count": null,
<<<<<<< HEAD
<<<<<<< HEAD
<<<<<<< HEAD
   "id": "89b56e07",
=======
   "id": "3e0857a4",
>>>>>>> documentation-devel
=======
   "id": "e3c38f33",
>>>>>>> documentation-devel
=======
   "id": "141cbbdf",
>>>>>>> c9ed93f2a6d5e87fe6759d6fd26c06823f77f3f2
   "metadata": {},
   "outputs": [],
   "source": [
    "is_blank <- str_detect(rownames(sfe), \"^Blank-\")\n",
    "sfe <- addPerCellQCMetrics(sfe, subset = list(blank = is_blank))"
   ]
  },
  {
   "cell_type": "code",
   "execution_count": null,
<<<<<<< HEAD
<<<<<<< HEAD
<<<<<<< HEAD
   "id": "2ff858c8",
=======
   "id": "eac917b2",
>>>>>>> documentation-devel
=======
   "id": "c9c542ea",
>>>>>>> documentation-devel
=======
   "id": "414d078e",
>>>>>>> c9ed93f2a6d5e87fe6759d6fd26c06823f77f3f2
   "metadata": {},
   "outputs": [],
   "source": [
    "get_neg_ctrl_outliers <- function(col, sfe, nmads = 3, log = FALSE) {\n",
    "    inds <- colData(sfe)$nCounts > 0 & colData(sfe)[[col]] > 0\n",
    "    df <- colData(sfe)[inds,]\n",
    "    outlier_inds <- isOutlier(df[[col]], type = \"higher\", nmads = nmads, log = log)\n",
    "    outliers <- rownames(df)[outlier_inds]\n",
    "    col2 <- str_remove(col, \"^subsets_\")\n",
    "    col2 <- str_remove(col2, \"_percent$\")\n",
    "    new_colname <- paste(\"is\", col2, \"outlier\", sep = \"_\")\n",
    "    colData(sfe)[[new_colname]] <- colnames(sfe) %in% outliers\n",
    "    sfe\n",
    "}"
   ]
  },
  {
   "cell_type": "code",
   "execution_count": null,
<<<<<<< HEAD
<<<<<<< HEAD
<<<<<<< HEAD
   "id": "6da82bc0",
=======
   "id": "d35a14b0",
>>>>>>> documentation-devel
=======
   "id": "92e992ec",
>>>>>>> documentation-devel
=======
   "id": "ee782c69",
>>>>>>> c9ed93f2a6d5e87fe6759d6fd26c06823f77f3f2
   "metadata": {},
   "outputs": [],
   "source": [
    "sfe <- get_neg_ctrl_outliers(\"subsets_blank_percent\", sfe, log = TRUE)"
   ]
  },
  {
   "cell_type": "markdown",
<<<<<<< HEAD
<<<<<<< HEAD
<<<<<<< HEAD
   "id": "f0ae5a86",
=======
   "id": "410dbd54",
>>>>>>> documentation-devel
=======
   "id": "ac8d9b2f",
>>>>>>> documentation-devel
=======
   "id": "db06b90b",
>>>>>>> c9ed93f2a6d5e87fe6759d6fd26c06823f77f3f2
   "metadata": {
    "lines_to_next_cell": 0
   },
   "source": [
    "Remove the outliers and empty cells:"
   ]
  },
  {
   "cell_type": "code",
   "execution_count": null,
<<<<<<< HEAD
<<<<<<< HEAD
<<<<<<< HEAD
   "id": "3bab6dcb",
=======
   "id": "a446b78d",
>>>>>>> documentation-devel
=======
   "id": "0e5e43a7",
>>>>>>> documentation-devel
=======
   "id": "7cc011aa",
>>>>>>> c9ed93f2a6d5e87fe6759d6fd26c06823f77f3f2
   "metadata": {},
   "outputs": [],
   "source": [
    "inds <- !sfe$is_blank_outlier & sfe$nCounts > 0\n",
    "(sfe <- sfe[, inds])"
   ]
  },
  {
   "cell_type": "markdown",
<<<<<<< HEAD
<<<<<<< HEAD
<<<<<<< HEAD
   "id": "7fe5060c",
=======
   "id": "9ad522f8",
>>>>>>> documentation-devel
=======
   "id": "ef28951c",
>>>>>>> documentation-devel
=======
   "id": "06d8fa4f",
>>>>>>> c9ed93f2a6d5e87fe6759d6fd26c06823f77f3f2
   "metadata": {},
   "source": [
    "There still are over 390,000 cells left after removing the outliers. \n",
    "\n",
    "Next we compute Moran's I for QC metrics, which requires a spatial neighborhood graph:"
   ]
  },
  {
   "cell_type": "code",
   "execution_count": null,
<<<<<<< HEAD
<<<<<<< HEAD
<<<<<<< HEAD
   "id": "7bba190c",
=======
   "id": "6312c783",
>>>>>>> documentation-devel
=======
   "id": "52f03e0d",
>>>>>>> documentation-devel
=======
   "id": "51630fd5",
>>>>>>> c9ed93f2a6d5e87fe6759d6fd26c06823f77f3f2
   "metadata": {},
   "outputs": [],
   "source": [
    "system.time(\n",
    "    colGraph(sfe, \"knn5\") <- findSpatialNeighbors(sfe, method = \"knearneigh\", \n",
    "                                                  dist_type = \"idw\", k = 5, \n",
    "                                                  style = \"W\", zero.policy = TRUE)\n",
    ")"
   ]
  },
  {
   "cell_type": "code",
   "execution_count": null,
<<<<<<< HEAD
<<<<<<< HEAD
<<<<<<< HEAD
   "id": "384005b3",
=======
   "id": "adb2e9df",
>>>>>>> documentation-devel
=======
   "id": "5caa5e86",
>>>>>>> documentation-devel
=======
   "id": "1f26c9cf",
>>>>>>> c9ed93f2a6d5e87fe6759d6fd26c06823f77f3f2
   "metadata": {},
   "outputs": [],
   "source": [
    "features_use <- c(\"nCounts\", \"nGenes\", \"volume\")\n",
    "sfe <- colDataUnivariate(sfe, \"moran.mc\", features_use, \n",
    "                         colGraphName = \"knn5\", nsim = 49, \n",
    "                         BPPARAM = MulticoreParam(2))"
   ]
  },
  {
   "cell_type": "code",
   "execution_count": null,
<<<<<<< HEAD
<<<<<<< HEAD
<<<<<<< HEAD
   "id": "2158d3be",
=======
   "id": "fd424918",
>>>>>>> documentation-devel
=======
   "id": "fc609fbe",
>>>>>>> documentation-devel
=======
   "id": "9fc4d8bb",
>>>>>>> c9ed93f2a6d5e87fe6759d6fd26c06823f77f3f2
   "metadata": {},
   "outputs": [],
   "source": [
    "plotMoranMC(sfe, features_use)"
   ]
  },
  {
   "cell_type": "markdown",
<<<<<<< HEAD
<<<<<<< HEAD
<<<<<<< HEAD
   "id": "28aefb6d",
=======
   "id": "323cfbc6",
>>>>>>> documentation-devel
=======
   "id": "cca4f296",
>>>>>>> documentation-devel
=======
   "id": "47f2d47a",
>>>>>>> c9ed93f2a6d5e87fe6759d6fd26c06823f77f3f2
   "metadata": {},
   "source": [
    "Here Moran's I is a little negative, but from the permutation testing, it is significant, though that can also be the large number of cells. The lower bound of Moran's I given the spatial neighborhood graph is usually closer to -0.5 than -1, while the upper bound is usually around 1. The bounds given a specific spatial neighborhood graph can be found with `moranBounds()`, but because it double centers the adjacency matrix, hence making it dense, there isn't enough memory to use it for the entire dataset. But we can look at the Moran bounds of a small subset of data, which might be generalizable to the whole dataset given that this tissue appears quite homogeneous in space."
   ]
  },
  {
   "cell_type": "code",
   "execution_count": null,
<<<<<<< HEAD
<<<<<<< HEAD
<<<<<<< HEAD
   "id": "497ba041",
=======
   "id": "2d392d85",
>>>>>>> documentation-devel
=======
   "id": "eb4cdc95",
>>>>>>> documentation-devel
=======
   "id": "e0c6cddd",
>>>>>>> c9ed93f2a6d5e87fe6759d6fd26c06823f77f3f2
   "metadata": {},
   "outputs": [],
   "source": [
    "bbox_use <- c(xmin = 6000, xmax = 7000, ymin = 4000, ymax = 5000)\n",
    "inds2 <- st_intersects(cellSeg(sfe), st_as_sfc(st_bbox(bbox_use)), \n",
    "                       sparse = FALSE)[,1]\n",
    "sfe_sub <- sfe[, inds2]"
   ]
  },
  {
   "cell_type": "markdown",
<<<<<<< HEAD
<<<<<<< HEAD
<<<<<<< HEAD
   "id": "1afe2678",
=======
   "id": "be0cc022",
>>>>>>> documentation-devel
=======
   "id": "0626e6f8",
>>>>>>> documentation-devel
=======
   "id": "d97ce1a5",
>>>>>>> c9ed93f2a6d5e87fe6759d6fd26c06823f77f3f2
   "metadata": {},
   "source": [
    "Note that since SpatialFeatureExperiment v1.8, the sptial graphs are subsetted rather than reconstructed when the SFE object is subsetted because reconstruction tends to be more time consuming and the BPPARAM and BNPARAM arguments can't be stored and saved by `alabaster.sfe`. Subsetting removes some of the neighbors of cells near the boundary of this bounding box but the vast majority of cells still have all 5 nearest neighbors."
   ]
  },
  {
   "cell_type": "code",
   "execution_count": null,
<<<<<<< HEAD
<<<<<<< HEAD
<<<<<<< HEAD
   "id": "60bc23ae",
=======
   "id": "d43be563",
>>>>>>> documentation-devel
=======
   "id": "a30e8107",
>>>>>>> documentation-devel
=======
   "id": "ecc486f0",
>>>>>>> c9ed93f2a6d5e87fe6759d6fd26c06823f77f3f2
   "metadata": {},
   "outputs": [],
   "source": [
    "table(card(colGraph(sfe_sub, \"knn5\")$neighbours))"
   ]
  },
  {
   "cell_type": "code",
   "execution_count": null,
<<<<<<< HEAD
<<<<<<< HEAD
<<<<<<< HEAD
   "id": "cc6a68fd",
=======
   "id": "fa59beac",
>>>>>>> documentation-devel
=======
   "id": "6cf03a61",
>>>>>>> documentation-devel
=======
   "id": "39ff1070",
>>>>>>> c9ed93f2a6d5e87fe6759d6fd26c06823f77f3f2
   "metadata": {},
   "outputs": [],
   "source": [
    "(mb <- moranBounds(colGraph(sfe_sub, \"knn5\")))"
   ]
  },
  {
   "cell_type": "markdown",
<<<<<<< HEAD
<<<<<<< HEAD
<<<<<<< HEAD
   "id": "b314476b",
=======
   "id": "2df1548c",
>>>>>>> documentation-devel
=======
   "id": "fa98e41d",
>>>>>>> documentation-devel
=======
   "id": "e6c8cf3e",
>>>>>>> c9ed93f2a6d5e87fe6759d6fd26c06823f77f3f2
   "metadata": {
    "lines_to_next_cell": 0
   },
   "source": [
    "The lower bound is quite different from if we reconstruct the knn graph on the subset"
   ]
  },
  {
   "cell_type": "code",
   "execution_count": null,
<<<<<<< HEAD
<<<<<<< HEAD
<<<<<<< HEAD
   "id": "377e3271",
=======
   "id": "3f8987fa",
>>>>>>> documentation-devel
=======
   "id": "02c5359e",
>>>>>>> documentation-devel
=======
   "id": "d1f557ef",
>>>>>>> c9ed93f2a6d5e87fe6759d6fd26c06823f77f3f2
   "metadata": {},
   "outputs": [],
   "source": [
    "colGraph(sfe_sub, \"knn5_reconst\") <- findSpatialNeighbors(sfe_sub, method = \"knearneigh\", \n",
    "                                                          k = 5L, dist_type = \"idw\",\n",
    "                                                          style = \"W\")"
   ]
  },
  {
   "cell_type": "code",
   "execution_count": null,
<<<<<<< HEAD
<<<<<<< HEAD
<<<<<<< HEAD
   "id": "751e5043",
=======
   "id": "5cf4bdb5",
>>>>>>> documentation-devel
=======
   "id": "b1c3a796",
>>>>>>> documentation-devel
=======
   "id": "e2a18576",
>>>>>>> c9ed93f2a6d5e87fe6759d6fd26c06823f77f3f2
   "metadata": {},
   "outputs": [],
   "source": [
    "(mb2 <- moranBounds(colGraph(sfe_sub, \"knn5_reconst\")))"
   ]
  },
  {
   "cell_type": "markdown",
<<<<<<< HEAD
<<<<<<< HEAD
<<<<<<< HEAD
   "id": "3790cc2d",
=======
   "id": "86b9c3fe",
>>>>>>> documentation-devel
=======
   "id": "6683504b",
>>>>>>> documentation-devel
=======
   "id": "a2387325",
>>>>>>> c9ed93f2a6d5e87fe6759d6fd26c06823f77f3f2
   "metadata": {
    "lines_to_next_cell": 0
   },
   "source": [
    "It would be cool to systematically investigate the effects of perturbations to the spatial neighborhood graph on Moran's I and other spatial statistics.\n",
    "\n",
    "So considering the bounds, the Moran's I values of the QC metrics are more like"
   ]
  },
  {
   "cell_type": "code",
   "execution_count": null,
<<<<<<< HEAD
<<<<<<< HEAD
<<<<<<< HEAD
   "id": "c686b648",
=======
   "id": "a681bcfc",
>>>>>>> documentation-devel
=======
   "id": "1993bcca",
>>>>>>> documentation-devel
=======
   "id": "4720918d",
>>>>>>> c9ed93f2a6d5e87fe6759d6fd26c06823f77f3f2
   "metadata": {},
   "outputs": [],
   "source": [
    "setNames(colFeatureData(sfe)[c(\"nCounts\", \"nGenes\", \"volume\"), \n",
    "                             \"moran.mc_statistic_sample01\"] / mb2[\"Imin\"],\n",
    "         features_use)"
   ]
  },
  {
   "cell_type": "markdown",
<<<<<<< HEAD
<<<<<<< HEAD
<<<<<<< HEAD
   "id": "ccaf9fea",
=======
   "id": "f5b33e8e",
>>>>>>> documentation-devel
=======
   "id": "70dc31f6",
>>>>>>> documentation-devel
=======
   "id": "259fcdfa",
>>>>>>> c9ed93f2a6d5e87fe6759d6fd26c06823f77f3f2
   "metadata": {},
   "source": [
    "whose magnitudes seem more substantial for `nCounts` and `nGenes` if it's positive spatial autocorrelation. So there may be mild to moderate negative spatial autocorrelation."
   ]
  },
  {
   "cell_type": "code",
   "execution_count": null,
<<<<<<< HEAD
<<<<<<< HEAD
<<<<<<< HEAD
   "id": "8f454769",
=======
   "id": "5887d094",
>>>>>>> documentation-devel
=======
   "id": "66d3bf0a",
>>>>>>> documentation-devel
=======
   "id": "8d61b14e",
>>>>>>> c9ed93f2a6d5e87fe6759d6fd26c06823f77f3f2
   "metadata": {},
   "outputs": [],
   "source": [
    "# Normalize data\n",
    "sfe <- logNormCounts(sfe)"
   ]
  },
  {
   "cell_type": "markdown",
<<<<<<< HEAD
<<<<<<< HEAD
<<<<<<< HEAD
   "id": "811f5e9b",
=======
   "id": "fac74377",
>>>>>>> documentation-devel
=======
   "id": "244fd83b",
>>>>>>> documentation-devel
=======
   "id": "9ac5591c",
>>>>>>> c9ed93f2a6d5e87fe6759d6fd26c06823f77f3f2
   "metadata": {},
   "source": [
    "# Hepatic zonation\n",
    "\n",
    "This dataset comes from a relatively large piece of tissue and we need to zoom into a smaller region to better see the local structures. Here we specify a bounding box."
   ]
  },
  {
   "cell_type": "code",
   "execution_count": null,
<<<<<<< HEAD
<<<<<<< HEAD
<<<<<<< HEAD
   "id": "94b9dad8",
=======
   "id": "bd17dca2",
>>>>>>> documentation-devel
=======
   "id": "869396f4",
>>>>>>> documentation-devel
=======
   "id": "b6d17d83",
>>>>>>> c9ed93f2a6d5e87fe6759d6fd26c06823f77f3f2
   "metadata": {},
   "outputs": [],
   "source": [
    "bbox_use <- c(xmin = 6100, xmax = 7100, ymin = 7500, ymax = 8500)"
   ]
  },
  {
   "cell_type": "markdown",
<<<<<<< HEAD
<<<<<<< HEAD
<<<<<<< HEAD
   "id": "40083d27",
=======
   "id": "bed31dfe",
>>>>>>> documentation-devel
=======
   "id": "08f3d49b",
>>>>>>> documentation-devel
=======
   "id": "6067e4c2",
>>>>>>> c9ed93f2a6d5e87fe6759d6fd26c06823f77f3f2
   "metadata": {},
   "source": [
    "A portal triad is shown near the top right of this bounding box. The two large vessels on the left and bottom right are central veins. The portal triad consists of the hepatic artery, portal vein which brings blood from the intestine, and bile duct, so it's more oxygenated. The regions around the central vein is more deoxygenated. The different oxygen and nutrient contents mean that hepatocytes play different metabolic roles in the zones between the portal triad and the central vein. Here we plot some zonation marker genes from [@Halpern2017-lq]. "
   ]
  },
  {
   "cell_type": "code",
   "execution_count": null,
<<<<<<< HEAD
<<<<<<< HEAD
<<<<<<< HEAD
   "id": "417683be",
=======
   "id": "b6fd3533",
>>>>>>> documentation-devel
=======
   "id": "46448dfa",
>>>>>>> documentation-devel
=======
   "id": "4372fdb5",
>>>>>>> c9ed93f2a6d5e87fe6759d6fd26c06823f77f3f2
   "metadata": {},
   "outputs": [],
   "source": [
    "markers <- c(\"Axin2\", \"Cyp1a2\", \"Gstm3\", \"Psmd4\", # Pericentral\n",
    "             \"Cyp2e1\", \"Asl\", \"Alb\", \"Ass1\", # Monotonic but has intermediate\n",
    "             \"Hamp\", \"Igfbp2\", \"Cyp8b1\", \"Mup3\", # Non-monotonic\n",
    "             \"Arg1\", \"Pck1\", \"C2\", \"Sdhd\") # Periportal"
   ]
  },
  {
   "cell_type": "code",
   "execution_count": null,
<<<<<<< HEAD
<<<<<<< HEAD
<<<<<<< HEAD
   "id": "fdf74f39",
=======
   "id": "33f1721f",
>>>>>>> documentation-devel
=======
   "id": "f73fffa7",
>>>>>>> documentation-devel
=======
   "id": "ae4bfb6b",
>>>>>>> c9ed93f2a6d5e87fe6759d6fd26c06823f77f3f2
   "metadata": {},
   "outputs": [],
   "source": [
    "(inds <- which(markers %in% rownames(sfe)))"
   ]
  },
  {
   "cell_type": "markdown",
<<<<<<< HEAD
<<<<<<< HEAD
<<<<<<< HEAD
   "id": "87378f21",
=======
   "id": "9b0a4ec5",
>>>>>>> documentation-devel
=======
   "id": "61336259",
>>>>>>> documentation-devel
=======
   "id": "73b3635f",
>>>>>>> c9ed93f2a6d5e87fe6759d6fd26c06823f77f3f2
   "metadata": {
    "lines_to_next_cell": 0
   },
   "source": [
    "Only 3 of these marker genes are present in this dataset. The first two are pericentral (near the central vein), and the last one is periportal (near the portal triad)."
   ]
  },
  {
   "cell_type": "code",
   "execution_count": null,
<<<<<<< HEAD
<<<<<<< HEAD
<<<<<<< HEAD
   "id": "0d01adda",
=======
   "id": "87fddbaa",
>>>>>>> documentation-devel
=======
   "id": "932dd50a",
>>>>>>> documentation-devel
=======
   "id": "7a1e3854",
>>>>>>> c9ed93f2a6d5e87fe6759d6fd26c06823f77f3f2
   "metadata": {
    "fig.height": 3,
    "fig.width": 9
   },
   "outputs": [],
   "source": [
    "plotSpatialFeature(sfe, markers[inds], colGeometryName = \"cellSeg\",\n",
    "                   ncol = 3, bbox = bbox_use)"
   ]
  },
  {
   "cell_type": "markdown",
<<<<<<< HEAD
<<<<<<< HEAD
<<<<<<< HEAD
   "id": "64db6882",
=======
   "id": "069de530",
>>>>>>> documentation-devel
=======
   "id": "a7b2466a",
>>>>>>> documentation-devel
=======
   "id": "72c27df3",
>>>>>>> c9ed93f2a6d5e87fe6759d6fd26c06823f77f3f2
   "metadata": {},
   "source": [
    "Besides hepatocytes, the liver also has many endothelial cells and Kupffer cells (macrophages). Marker genes of these cells from [@Bonnardel2019-le] are plotted to visualize these cell types in space:"
   ]
  },
  {
   "cell_type": "code",
   "execution_count": null,
<<<<<<< HEAD
<<<<<<< HEAD
<<<<<<< HEAD
   "id": "003346ed",
=======
   "id": "f58ca285",
>>>>>>> documentation-devel
=======
   "id": "bf855094",
>>>>>>> documentation-devel
=======
   "id": "40539143",
>>>>>>> c9ed93f2a6d5e87fe6759d6fd26c06823f77f3f2
   "metadata": {},
   "outputs": [],
   "source": [
    "# Kuppfer cells\n",
    "kc_genes <- c(\"Timd4\", \"Vsig4\", \"Clec4f\", \"Clec1b\", \"Il18bp\", \"C6\", \"Irf7\",\n",
    "              \"Slc40a1\", \"Cdh5\", \"Nr1h3\", \"Dmpk\", \"Paqr9\", \"Pcolce2\", \"Kcna2\",\n",
    "              \"Gbp8\", \"Iigp1\", \"Helz2\", \"Cd207\", \"Icos\", \"Adcy4\", \"Slc1a2\",\n",
    "              \"Rsad2\", \"Slc16a9\", \"Cd209f\", \"Oasl1\", \"Fam167a\")\n",
    "which(kc_genes %in% rownames(sfe))"
   ]
  },
  {
   "cell_type": "markdown",
<<<<<<< HEAD
<<<<<<< HEAD
<<<<<<< HEAD
   "id": "cc640056",
=======
   "id": "d71494ff",
>>>>>>> documentation-devel
=======
   "id": "e4eb87f1",
>>>>>>> documentation-devel
=======
   "id": "877ddcc4",
>>>>>>> c9ed93f2a6d5e87fe6759d6fd26c06823f77f3f2
   "metadata": {
    "lines_to_next_cell": 0
   },
   "source": [
    "Only one of the Kupffer cell markers is available in this dataset."
   ]
  },
  {
   "cell_type": "code",
   "execution_count": null,
<<<<<<< HEAD
<<<<<<< HEAD
<<<<<<< HEAD
   "id": "dc8c3927",
=======
   "id": "b2f46fac",
>>>>>>> documentation-devel
=======
   "id": "d4d3f2bc",
>>>>>>> documentation-devel
=======
   "id": "182de5a1",
>>>>>>> c9ed93f2a6d5e87fe6759d6fd26c06823f77f3f2
   "metadata": {},
   "outputs": [],
   "source": [
    "plotSpatialFeature(sfe, kc_genes[9], colGeometryName = \"cellSeg\",\n",
    "                   bbox = bbox_use)"
   ]
  },
  {
   "cell_type": "markdown",
<<<<<<< HEAD
<<<<<<< HEAD
<<<<<<< HEAD
   "id": "b17d8d66",
=======
   "id": "66ab66e2",
>>>>>>> documentation-devel
=======
   "id": "802014c2",
>>>>>>> documentation-devel
=======
   "id": "983a512d",
>>>>>>> c9ed93f2a6d5e87fe6759d6fd26c06823f77f3f2
   "metadata": {},
   "source": [
    "Expression of this gene does not seem very spatially coherent."
   ]
  },
  {
   "cell_type": "code",
   "execution_count": null,
<<<<<<< HEAD
<<<<<<< HEAD
<<<<<<< HEAD
   "id": "ddcb7694",
=======
   "id": "b7361609",
>>>>>>> documentation-devel
=======
   "id": "c6571a61",
>>>>>>> documentation-devel
=======
   "id": "4587d9c6",
>>>>>>> c9ed93f2a6d5e87fe6759d6fd26c06823f77f3f2
   "metadata": {},
   "outputs": [],
   "source": [
    "# Endothelial cells\n",
    "lec_genes <- c(\"Rspo3\", \"Wnt2\", \"Wnt9b\", \"Pcdhgc5\", \"Ecm1\", \"Ltbp4\", \"Efnb2\")\n",
    "(inds_lec <- which(lec_genes %in% rownames(sfe)))"
   ]
  },
  {
   "cell_type": "markdown",
<<<<<<< HEAD
<<<<<<< HEAD
<<<<<<< HEAD
   "id": "4d7533e6",
=======
   "id": "7779b20c",
>>>>>>> documentation-devel
=======
   "id": "e25c96fb",
>>>>>>> documentation-devel
=======
   "id": "350eb37d",
>>>>>>> c9ed93f2a6d5e87fe6759d6fd26c06823f77f3f2
   "metadata": {
    "lines_to_next_cell": 0
   },
   "source": [
    "Only 3 of these endothelial cell marker genes are available in this dataset."
   ]
  },
  {
   "cell_type": "code",
   "execution_count": null,
<<<<<<< HEAD
<<<<<<< HEAD
<<<<<<< HEAD
   "id": "2a359e2b",
=======
   "id": "44f62d89",
>>>>>>> documentation-devel
=======
   "id": "e38fb184",
>>>>>>> documentation-devel
=======
   "id": "a43788e8",
>>>>>>> c9ed93f2a6d5e87fe6759d6fd26c06823f77f3f2
   "metadata": {
    "fig.height": 3,
    "fig.width": 9
   },
   "outputs": [],
   "source": [
    "plotSpatialFeature(sfe, lec_genes[inds_lec], colGeometryName = \"cellSeg\",\n",
    "                   bbox = bbox_use, ncol = 3)"
   ]
  },
  {
   "cell_type": "markdown",
<<<<<<< HEAD
<<<<<<< HEAD
<<<<<<< HEAD
   "id": "20a0a5cf",
=======
   "id": "6ceeadb0",
>>>>>>> documentation-devel
=======
   "id": "e68b8e13",
>>>>>>> documentation-devel
=======
   "id": "8b16ad53",
>>>>>>> c9ed93f2a6d5e87fe6759d6fd26c06823f77f3f2
   "metadata": {},
   "source": [
    "Wnt2 seems to be more pericentral, while Ltbp4 and Efnb2 seem more periportal.\n",
    "\n",
    "Some of these marker genes will show up in the top PC loadings non-spatial and spatial PCA.\n",
    "\n",
    "# Non-spatial PCA\n",
    "First we run non-spatial PCA, to compare to MULTISPATI."
   ]
  },
  {
   "cell_type": "code",
   "execution_count": null,
<<<<<<< HEAD
<<<<<<< HEAD
<<<<<<< HEAD
   "id": "9fb12a63",
=======
   "id": "f739817c",
>>>>>>> documentation-devel
=======
   "id": "6774bade",
>>>>>>> documentation-devel
=======
   "id": "7341a7e2",
>>>>>>> c9ed93f2a6d5e87fe6759d6fd26c06823f77f3f2
   "metadata": {},
   "outputs": [],
   "source": [
    "set.seed(29)\n",
    "system.time(\n",
    "    sfe <- runPCA(sfe, ncomponents = 20, subset_row = !is_blank,\n",
    "                  exprs_values = \"logcounts\",\n",
    "                  scale = TRUE, BSPARAM = IrlbaParam())\n",
    ")\n",
    "gc()"
   ]
  },
  {
   "cell_type": "markdown",
<<<<<<< HEAD
<<<<<<< HEAD
<<<<<<< HEAD
   "id": "33e7dc7f",
=======
   "id": "2ef33e85",
>>>>>>> documentation-devel
=======
   "id": "d9c1f2d1",
>>>>>>> documentation-devel
=======
   "id": "75d69f59",
>>>>>>> c9ed93f2a6d5e87fe6759d6fd26c06823f77f3f2
   "metadata": {},
   "source": [
    "That's pretty quick for almost 400,000 cells, but there aren't that many genes here. Use the elbow plot to see variance explained by each PC:"
   ]
  },
  {
   "cell_type": "code",
   "execution_count": null,
<<<<<<< HEAD
<<<<<<< HEAD
<<<<<<< HEAD
   "id": "0533fa15",
=======
   "id": "9df6f6e5",
>>>>>>> documentation-devel
=======
   "id": "c5c37730",
>>>>>>> documentation-devel
=======
   "id": "52ec2a0c",
>>>>>>> c9ed93f2a6d5e87fe6759d6fd26c06823f77f3f2
   "metadata": {},
   "outputs": [],
   "source": [
    "ElbowPlot(sfe)"
   ]
  },
  {
   "cell_type": "markdown",
<<<<<<< HEAD
<<<<<<< HEAD
<<<<<<< HEAD
   "id": "dc0c87b8",
=======
   "id": "f40adec9",
>>>>>>> documentation-devel
=======
   "id": "ae514e70",
>>>>>>> documentation-devel
=======
   "id": "dee9c471",
>>>>>>> c9ed93f2a6d5e87fe6759d6fd26c06823f77f3f2
   "metadata": {
    "lines_to_next_cell": 0
   },
   "source": [
    "Plot top gene loadings in each PC"
   ]
  },
  {
   "cell_type": "code",
   "execution_count": null,
<<<<<<< HEAD
<<<<<<< HEAD
<<<<<<< HEAD
   "id": "be661ebb",
=======
   "id": "c319de53",
>>>>>>> documentation-devel
=======
   "id": "53ec096f",
>>>>>>> documentation-devel
=======
   "id": "24c6f8c9",
>>>>>>> c9ed93f2a6d5e87fe6759d6fd26c06823f77f3f2
   "metadata": {},
   "outputs": [],
   "source": [
    "plotDimLoadings(sfe)"
   ]
  },
  {
   "cell_type": "markdown",
<<<<<<< HEAD
<<<<<<< HEAD
<<<<<<< HEAD
   "id": "3d87f5f9",
=======
   "id": "ac4868a1",
>>>>>>> documentation-devel
=======
   "id": "3205f626",
>>>>>>> documentation-devel
=======
   "id": "8551f055",
>>>>>>> c9ed93f2a6d5e87fe6759d6fd26c06823f77f3f2
   "metadata": {
    "lines_to_next_cell": 0
   },
   "source": [
    "Many of these genes seem to be related to the endothelium. PC1 and PC4 concern the Kupffer cells as well, as the Kupffer cell marker gene Cdh5 has high loading.\n",
    "\n",
    "Plot the first 4 PCs in space"
   ]
  },
  {
   "cell_type": "code",
   "execution_count": null,
<<<<<<< HEAD
<<<<<<< HEAD
<<<<<<< HEAD
   "id": "4c6d1c87",
=======
   "id": "c2cb7d20",
>>>>>>> documentation-devel
=======
   "id": "453122cb",
>>>>>>> documentation-devel
=======
   "id": "da84a1d1",
>>>>>>> c9ed93f2a6d5e87fe6759d6fd26c06823f77f3f2
   "metadata": {
    "fig.height": 7,
    "fig.width": 9
   },
   "outputs": [],
   "source": [
    "spatialReducedDim(sfe, \"PCA\", 4, colGeometryName = \"centroids\", scattermore = TRUE,\n",
    "                  divergent = TRUE, diverge_center = 0)"
   ]
  },
  {
   "cell_type": "markdown",
<<<<<<< HEAD
<<<<<<< HEAD
<<<<<<< HEAD
   "id": "f6e1806d",
=======
   "id": "7a469457",
>>>>>>> documentation-devel
=======
   "id": "d68edc79",
>>>>>>> documentation-devel
=======
   "id": "7a24a375",
>>>>>>> c9ed93f2a6d5e87fe6759d6fd26c06823f77f3f2
   "metadata": {},
   "source": [
    "PC1 and PC4 highlight the major blood vessels, while PC2 and PC3 have less spatial structure. While in the CosMX and Xenium datasets on this website, the top PCs have clear spatial structures despite the absence of spatial information in non-spatial PCA because of clear spatial compartments for some cell types, which does not seem to be the case in this dataset except for the blood vessels. We have seen above that some genes have strong spatial structures. \n",
    "\n",
    "While PC2 and PC3 don't seem to have large scale spatial structure, they may have more local spatial structure not obvious from plotting the entire section, so we zoom into a bounding box which shows hepatic zonation."
   ]
  },
  {
   "cell_type": "code",
   "execution_count": null,
<<<<<<< HEAD
<<<<<<< HEAD
<<<<<<< HEAD
   "id": "84302af4",
=======
   "id": "bbf03246",
>>>>>>> documentation-devel
=======
   "id": "1e263d3e",
>>>>>>> documentation-devel
=======
   "id": "aa9b717a",
>>>>>>> c9ed93f2a6d5e87fe6759d6fd26c06823f77f3f2
   "metadata": {
    "fig.height": 7,
    "fig.width": 9
   },
   "outputs": [],
   "source": [
    "spatialReducedDim(sfe, \"PCA\", ncomponents = 4, colGeometryName = \"cellSeg\",\n",
    "                  bbox = bbox_use, divergent = TRUE, diverge_center = 0)"
   ]
  },
  {
   "cell_type": "markdown",
<<<<<<< HEAD
<<<<<<< HEAD
<<<<<<< HEAD
   "id": "22e14960",
=======
   "id": "ef416249",
>>>>>>> documentation-devel
=======
   "id": "02047359",
>>>>>>> documentation-devel
=======
   "id": "7ab8516f",
>>>>>>> c9ed93f2a6d5e87fe6759d6fd26c06823f77f3f2
   "metadata": {},
   "source": [
    "There's some spatial structure at a smaller scale, perhaps some negative spatial autocorrelation.\n",
    "\n",
    "# MULTISPATI PCA"
   ]
  },
  {
   "cell_type": "code",
   "execution_count": null,
<<<<<<< HEAD
<<<<<<< HEAD
<<<<<<< HEAD
   "id": "a2c1927b",
=======
   "id": "063eb80a",
>>>>>>> documentation-devel
=======
   "id": "c3324b35",
>>>>>>> documentation-devel
=======
   "id": "8f860cf1",
>>>>>>> c9ed93f2a6d5e87fe6759d6fd26c06823f77f3f2
   "metadata": {},
   "outputs": [],
   "source": [
    "system.time({\n",
    "    sfe <- runMultivariate(sfe, \"multispati\", colGraphName = \"knn5\", nfposi = 20,\n",
    "                       nfnega = 20)\n",
    "})"
   ]
  },
  {
   "cell_type": "markdown",
<<<<<<< HEAD
<<<<<<< HEAD
<<<<<<< HEAD
   "id": "25222cdc",
=======
   "id": "f8049794",
>>>>>>> documentation-devel
=======
   "id": "5802e076",
>>>>>>> documentation-devel
=======
   "id": "784f63dd",
>>>>>>> c9ed93f2a6d5e87fe6759d6fd26c06823f77f3f2
   "metadata": {
    "lines_to_next_cell": 0
   },
   "source": [
    "Then plot the most positive and most negative eigenvalues. Note that the eigenvalues here are not variance explained. Instead, they are the product of variance explained and Moran's I. So the most positive eigenvalues correspond to eigenvectors that simultaneously explain more variance and have large positive Moran's I. The most negative eigenvalues correspond to eigenvectors that simultaneously explain more variance and have negative Moran's I."
   ]
  },
  {
   "cell_type": "code",
   "execution_count": null,
<<<<<<< HEAD
<<<<<<< HEAD
<<<<<<< HEAD
   "id": "6ba4148a",
=======
   "id": "b5e8a918",
>>>>>>> documentation-devel
=======
   "id": "04eb621c",
>>>>>>> documentation-devel
=======
   "id": "3b9241cc",
>>>>>>> c9ed93f2a6d5e87fe6759d6fd26c06823f77f3f2
   "metadata": {},
   "outputs": [],
   "source": [
    "ElbowPlot(sfe, nfnega = 20, reduction = \"multispati\")"
   ]
  },
  {
   "cell_type": "markdown",
<<<<<<< HEAD
<<<<<<< HEAD
<<<<<<< HEAD
   "id": "a04af734",
=======
   "id": "fb30b54f",
>>>>>>> documentation-devel
=======
   "id": "156393e1",
>>>>>>> documentation-devel
=======
   "id": "43061589",
>>>>>>> c9ed93f2a6d5e87fe6759d6fd26c06823f77f3f2
   "metadata": {},
   "source": [
    "Here the positive eigenvalues drop sharply from PC1 to PC4, and there is only one very negative eigenvalue which might be interesting, which is unsurprising given the moderately negative Moran's I for `nCounts` and `nGenes`. However, from the [first MERFISH vignette](https://pachterlab.github.io/voyager/articles/vig6_merfish.html#morans-i), none of the genes have very negative Moran's I. Perhaps the negative eigenvalue comes from negative spatial autocorrelation in a gene program or \"eigengene\" and is not obvious from individual genes. This is the beauty of multivariate analysis.\n",
    "\n",
    "What do these components mean? Each component is a linear combination of genes to maximize the product of variance explained and Moran's I. The second component maximizes this product provided that it's orthogonal to the first component, and so on. As the loss in variance explained is usually not huge, these components can be considered axes along which _spatially coherent_ groups of spots are separated from each other as much as possible according to expression of the highly variable genes, so in theory, clustering with positive MULTISPATI components should give more spatially coherent clusters. Because of the spatial coherence, MULTISPATI might be more robust to outliers."
   ]
  },
  {
   "cell_type": "code",
   "execution_count": null,
<<<<<<< HEAD
<<<<<<< HEAD
<<<<<<< HEAD
   "id": "02f830b0",
=======
   "id": "267df6b0",
>>>>>>> documentation-devel
=======
   "id": "c2d9601e",
>>>>>>> documentation-devel
=======
   "id": "5a656d40",
>>>>>>> c9ed93f2a6d5e87fe6759d6fd26c06823f77f3f2
   "metadata": {},
   "outputs": [],
   "source": [
    "plotDimLoadings(sfe, dims = c(1:3, 40), reduction = \"multispati\")"
   ]
  },
  {
   "cell_type": "markdown",
<<<<<<< HEAD
<<<<<<< HEAD
<<<<<<< HEAD
   "id": "01431f8c",
=======
   "id": "64ab5141",
>>>>>>> documentation-devel
=======
   "id": "f39202bf",
>>>>>>> documentation-devel
=======
   "id": "caadf5e2",
>>>>>>> c9ed93f2a6d5e87fe6759d6fd26c06823f77f3f2
   "metadata": {
    "lines_to_next_cell": 0
   },
   "source": [
    "From gene loadings, PC40 seems to separate endothelial cells and Kupffer cells from hepatocytes.\n",
    "\n",
    "Plot the these PCs:"
   ]
  },
  {
   "cell_type": "code",
   "execution_count": null,
<<<<<<< HEAD
<<<<<<< HEAD
<<<<<<< HEAD
   "id": "223f5601",
=======
   "id": "c5dbe4a1",
>>>>>>> documentation-devel
=======
   "id": "5b9bfd4f",
>>>>>>> documentation-devel
=======
   "id": "fcef4816",
>>>>>>> c9ed93f2a6d5e87fe6759d6fd26c06823f77f3f2
   "metadata": {
    "fig.height": 7,
    "fig.width": 9,
    "lines_to_next_cell": 2
   },
   "outputs": [],
   "source": [
    "spatialReducedDim(sfe, \"multispati\", components = c(1:3, 40), \n",
    "                  colGeometryName = \"cellSeg\", bbox = bbox_use,\n",
    "                  divergent = TRUE, diverge_center = 0)"
   ]
  },
  {
   "cell_type": "markdown",
<<<<<<< HEAD
<<<<<<< HEAD
<<<<<<< HEAD
   "id": "e15aa7a7",
=======
   "id": "68bd16ee",
>>>>>>> documentation-devel
=======
   "id": "f6530c84",
>>>>>>> documentation-devel
=======
   "id": "de11b6a5",
>>>>>>> c9ed93f2a6d5e87fe6759d6fd26c06823f77f3f2
   "metadata": {},
   "source": [
    "The first two PCs pick up zoning. PC3 seems to have smaller scale spatial structure. PC\"40\" (should really be 300 something) is an example of negative spatial autocorrelation in biology. That Kupffer cells and endothelial cells are scattered among hepatocytes may play a functional role. This does not mean that non-spatial PCA is bad. While MULTISPATI tends not to lose too much variance explained in per PC with positive eigenvalues, it identifies co-expressed genes with spatially structured expression patterns. MULTISPATI tells a different story from non-spatial PCA. PCA cell embeddings are often used for downstream analysis. Whether to use MULTISPATI embeddings instead and which or how many PCs to use depend on the questions asked in the further downstream analyses.\n",
    "\n",
    "# Spatial autocorrelation of principal components\n",
    "## Moran's I\n",
    "Here we compare Moran's I for cell embeddings in each non-spatial and MULTISPATI PC:"
   ]
  },
  {
   "cell_type": "code",
   "execution_count": null,
<<<<<<< HEAD
<<<<<<< HEAD
<<<<<<< HEAD
   "id": "34e0ff62",
=======
   "id": "781c2866",
>>>>>>> documentation-devel
=======
   "id": "0c76cc58",
>>>>>>> documentation-devel
=======
   "id": "6aa893e8",
>>>>>>> c9ed93f2a6d5e87fe6759d6fd26c06823f77f3f2
   "metadata": {},
   "outputs": [],
   "source": [
    "# non-spatial\n",
    "sfe <- reducedDimMoransI(sfe, dimred = \"PCA\", components = 1:20,\n",
    "                         BPPARAM = MulticoreParam(2))\n",
    "# spatial\n",
    "sfe <- reducedDimMoransI(sfe, dimred = \"multispati\", components = 1:40,\n",
    "                         BPPARAM = MulticoreParam(2))"
   ]
  },
  {
   "cell_type": "code",
   "execution_count": null,
<<<<<<< HEAD
<<<<<<< HEAD
<<<<<<< HEAD
   "id": "c385ca6e",
=======
   "id": "2763bc6e",
>>>>>>> documentation-devel
=======
   "id": "68b4f1c3",
>>>>>>> documentation-devel
=======
   "id": "5ec24c48",
>>>>>>> c9ed93f2a6d5e87fe6759d6fd26c06823f77f3f2
   "metadata": {},
   "outputs": [],
   "source": [
    "df_moran <- tibble(PCA = reducedDimFeatureData(sfe, \"PCA\")$moran_sample01[1:20],\n",
    "                   MULTISPATI_pos = \n",
    "                       reducedDimFeatureData(sfe, \"multispati\")$moran_sample01[1:20],\n",
    "                   MULTISPATI_neg = \n",
    "                       reducedDimFeatureData(sfe,\"multispati\")$moran_sample01[21:40] |> \n",
    "                       rev(),\n",
    "                   index = 1:20)"
   ]
  },
  {
   "cell_type": "code",
   "execution_count": null,
<<<<<<< HEAD
<<<<<<< HEAD
<<<<<<< HEAD
   "id": "2ccb3344",
=======
   "id": "5507d9c1",
>>>>>>> documentation-devel
=======
   "id": "d1852b9e",
>>>>>>> documentation-devel
=======
   "id": "956c40bf",
>>>>>>> c9ed93f2a6d5e87fe6759d6fd26c06823f77f3f2
   "metadata": {},
   "outputs": [],
   "source": [
    "data(\"ditto_colors\")"
   ]
  },
  {
   "cell_type": "code",
   "execution_count": null,
<<<<<<< HEAD
<<<<<<< HEAD
<<<<<<< HEAD
   "id": "ee62e3d3",
=======
   "id": "505ee805",
>>>>>>> documentation-devel
=======
   "id": "a505be06",
>>>>>>> documentation-devel
=======
   "id": "1b64cd6c",
>>>>>>> c9ed93f2a6d5e87fe6759d6fd26c06823f77f3f2
   "metadata": {},
   "outputs": [],
   "source": [
    "df_moran |> \n",
    "    pivot_longer(cols = -index, values_to = \"value\", names_to = \"name\") |> \n",
    "    ggplot(aes(index, value, color = name)) +\n",
    "    geom_line() +\n",
    "    scale_color_manual(values = ditto_colors) +\n",
    "    geom_hline(yintercept = 0, color = \"gray\") +\n",
    "    geom_hline(yintercept = mb2, linetype = 2, color = \"gray\") +\n",
    "    scale_y_continuous(breaks = scales::breaks_pretty()) +\n",
    "    scale_x_continuous(breaks = scales::breaks_width(5)) +\n",
    "    labs(y = \"Moran's I\", color = \"Type\", x = \"Component\")"
   ]
  },
  {
   "cell_type": "markdown",
<<<<<<< HEAD
<<<<<<< HEAD
<<<<<<< HEAD
   "id": "c0432037",
=======
   "id": "75d9c69e",
>>>>>>> documentation-devel
=======
   "id": "2ba28bfc",
>>>>>>> documentation-devel
=======
   "id": "81b0db3e",
>>>>>>> c9ed93f2a6d5e87fe6759d6fd26c06823f77f3f2
   "metadata": {},
   "source": [
    "In MULTISPATI, Moran's I is high in PC1 and PC2, but then sharply drops. Moran's I for the PC with the most negative eigenvalues is not very negative, which means the large magnitude of that eigenvalue comes from explaining more variance. However, considering the lower bound of Moran's I that is around -0.6 instead of -1, the magnitude of Moran's I for the PC with the most negative eigenvalue is not trivial."
   ]
  },
  {
   "cell_type": "code",
   "execution_count": null,
<<<<<<< HEAD
<<<<<<< HEAD
<<<<<<< HEAD
   "id": "344d414a",
=======
   "id": "0ccb8998",
>>>>>>> documentation-devel
=======
   "id": "440c60c4",
>>>>>>> documentation-devel
=======
   "id": "f401e416",
>>>>>>> c9ed93f2a6d5e87fe6759d6fd26c06823f77f3f2
   "metadata": {},
   "outputs": [],
   "source": [
    "min(df_moran$MULTISPATI_neg) / mb2[1]"
   ]
  },
  {
   "cell_type": "markdown",
<<<<<<< HEAD
<<<<<<< HEAD
<<<<<<< HEAD
   "id": "9b49a480",
=======
   "id": "89f06ddc",
>>>>>>> documentation-devel
=======
   "id": "fe2de9b7",
>>>>>>> documentation-devel
=======
   "id": "d26617b9",
>>>>>>> c9ed93f2a6d5e87fe6759d6fd26c06823f77f3f2
   "metadata": {},
   "source": [
    "Non-spatial PCs are not sorted by Moran's I; PC5 has surprising large Moran's I. "
   ]
  },
  {
   "cell_type": "code",
   "execution_count": null,
<<<<<<< HEAD
<<<<<<< HEAD
<<<<<<< HEAD
   "id": "86d410c1",
=======
   "id": "b71556d9",
>>>>>>> documentation-devel
=======
   "id": "630bec79",
>>>>>>> documentation-devel
=======
   "id": "5cf971e9",
>>>>>>> c9ed93f2a6d5e87fe6759d6fd26c06823f77f3f2
   "metadata": {},
   "outputs": [],
   "source": [
    "spatialReducedDim(sfe, \"PCA\", component = 5, colGeometryName = \"cellSeg\", \n",
    "                  divergent = TRUE, diverge_center = 0, bbox = bbox_use)"
   ]
  },
  {
   "cell_type": "markdown",
<<<<<<< HEAD
<<<<<<< HEAD
<<<<<<< HEAD
   "id": "bbac712f",
=======
   "id": "d475c26b",
>>>>>>> documentation-devel
=======
   "id": "0c217c30",
>>>>>>> documentation-devel
=======
   "id": "fa24a076",
>>>>>>> c9ed93f2a6d5e87fe6759d6fd26c06823f77f3f2
   "metadata": {},
   "source": [
    "PC5 must be about zonation. Also show a larger scale:"
   ]
  },
  {
   "cell_type": "code",
   "execution_count": null,
<<<<<<< HEAD
<<<<<<< HEAD
<<<<<<< HEAD
   "id": "95f731cc",
=======
   "id": "791d352a",
>>>>>>> documentation-devel
=======
   "id": "aaeda067",
>>>>>>> documentation-devel
=======
   "id": "b1a26592",
>>>>>>> c9ed93f2a6d5e87fe6759d6fd26c06823f77f3f2
   "metadata": {},
   "outputs": [],
   "source": [
    "spatialReducedDim(sfe, \"PCA\", components = 5, colGeometryName = \"centroids\", \n",
    "                  divergent = TRUE, diverge_center = 0, scattermore = TRUE)"
   ]
  },
  {
   "cell_type": "markdown",
<<<<<<< HEAD
<<<<<<< HEAD
<<<<<<< HEAD
   "id": "e369a5c2",
=======
   "id": "198dde0d",
>>>>>>> documentation-devel
=======
   "id": "1cb8adcd",
>>>>>>> documentation-devel
=======
   "id": "1c797769",
>>>>>>> c9ed93f2a6d5e87fe6759d6fd26c06823f77f3f2
   "metadata": {
    "lines_to_next_cell": 0
   },
   "source": [
    "## Moran scatter plot\n",
    "Local positive and negative spatial autocorrelation can average out in global Moran's I. From the zoomed in plots and gene loadings above, some PCs are about endothelial cells. The Moran scatter plot can help discovering more local heterogeneity."
   ]
  },
  {
   "cell_type": "code",
   "execution_count": null,
<<<<<<< HEAD
<<<<<<< HEAD
<<<<<<< HEAD
   "id": "907801f0",
=======
   "id": "0e9ec3c3",
>>>>>>> documentation-devel
=======
   "id": "591a13a4",
>>>>>>> documentation-devel
=======
   "id": "1c09a580",
>>>>>>> c9ed93f2a6d5e87fe6759d6fd26c06823f77f3f2
   "metadata": {},
   "outputs": [],
   "source": [
    "sfe <- reducedDimUnivariate(sfe, \"moran.plot\", dimred = \"PCA\", components = 1:6)"
   ]
  },
  {
   "cell_type": "code",
   "execution_count": null,
<<<<<<< HEAD
<<<<<<< HEAD
<<<<<<< HEAD
   "id": "bcc99b8c",
=======
   "id": "aa1f67fd",
>>>>>>> documentation-devel
=======
   "id": "3535b60e",
>>>>>>> documentation-devel
=======
   "id": "e120ae74",
>>>>>>> c9ed93f2a6d5e87fe6759d6fd26c06823f77f3f2
   "metadata": {},
   "outputs": [],
   "source": [
    "plts <- lapply(seq_len(6), function(i) {\n",
    "    moranPlot(sfe, paste0(\"PC\", i), binned = TRUE, hex = TRUE, plot_influential = FALSE)\n",
    "})"
   ]
  },
  {
   "cell_type": "code",
   "execution_count": null,
<<<<<<< HEAD
<<<<<<< HEAD
<<<<<<< HEAD
   "id": "a69a8ab2",
=======
   "id": "629ebfd2",
>>>>>>> documentation-devel
=======
   "id": "c57f8977",
>>>>>>> documentation-devel
=======
   "id": "6602320b",
>>>>>>> c9ed93f2a6d5e87fe6759d6fd26c06823f77f3f2
   "metadata": {
    "fig.height": 6,
    "fig.width": 10
   },
   "outputs": [],
   "source": [
    "wrap_plots(plts, widths = 1, heights = 1) +\n",
    "    plot_layout(ncol = 3) +\n",
    "    plot_annotation(tag_levels = \"1\", \n",
    "                    title = \"Moran scatter plot for non-spatial PCs\") &\n",
    "    theme(legend.position = \"none\")"
   ]
  },
  {
   "cell_type": "markdown",
<<<<<<< HEAD
<<<<<<< HEAD
<<<<<<< HEAD
   "id": "f8761b58",
=======
   "id": "99bfd25d",
>>>>>>> documentation-devel
=======
   "id": "04eee94d",
>>>>>>> documentation-devel
=======
   "id": "46f5e808",
>>>>>>> c9ed93f2a6d5e87fe6759d6fd26c06823f77f3f2
   "metadata": {},
   "source": [
    "PCs 1-3 have some fainter clusters outside the main cluster, indicating heterogeneous spatial autocorrelation. Also make Moran scatter plots for MULTISPATI"
   ]
  },
  {
   "cell_type": "code",
   "execution_count": null,
<<<<<<< HEAD
<<<<<<< HEAD
<<<<<<< HEAD
   "id": "52f2a8c4",
=======
   "id": "aeb4083a",
>>>>>>> documentation-devel
=======
   "id": "1616fe4a",
>>>>>>> documentation-devel
=======
   "id": "8629c04b",
>>>>>>> c9ed93f2a6d5e87fe6759d6fd26c06823f77f3f2
   "metadata": {},
   "outputs": [],
   "source": [
    "sfe <- reducedDimUnivariate(sfe, \"moran.plot\", dimred = \"multispati\", \n",
    "                            components = c(1:5, 40), \n",
    "                            # Not to overwrite non-spatial PCA moran plots\n",
    "                            name = \"moran.plot2\") "
   ]
  },
  {
   "cell_type": "code",
   "execution_count": null,
<<<<<<< HEAD
<<<<<<< HEAD
<<<<<<< HEAD
   "id": "374f37dd",
=======
   "id": "efb1fad6",
>>>>>>> documentation-devel
=======
   "id": "f81756a8",
>>>>>>> documentation-devel
=======
   "id": "da8aa238",
>>>>>>> c9ed93f2a6d5e87fe6759d6fd26c06823f77f3f2
   "metadata": {},
   "outputs": [],
   "source": [
    "plts2 <- lapply(c(1:5, 40), function(i) {\n",
    "    moranPlot(sfe, paste0(\"PC\", i), binned = TRUE, hex = TRUE, \n",
    "              plot_influential = FALSE, name = \"moran.plot2\")\n",
    "})"
   ]
  },
  {
   "cell_type": "code",
   "execution_count": null,
<<<<<<< HEAD
<<<<<<< HEAD
<<<<<<< HEAD
   "id": "9d02b8a2",
=======
   "id": "9e80e85c",
>>>>>>> documentation-devel
=======
   "id": "5eab9410",
>>>>>>> documentation-devel
=======
   "id": "c7570eae",
>>>>>>> c9ed93f2a6d5e87fe6759d6fd26c06823f77f3f2
   "metadata": {
    "fig.height": 6,
    "fig.width": 10
   },
   "outputs": [],
   "source": [
    "wrap_plots(plts2, widths = 1, heights = 1) +\n",
    "    plot_layout(ncol = 3) +\n",
    "    plot_annotation(tag_levels = \"1\",\n",
    "                    title = \"Moran scatter plot for MULTISPATI PCs\") &\n",
    "    theme(legend.position = \"none\")"
   ]
  },
  {
   "cell_type": "markdown",
<<<<<<< HEAD
<<<<<<< HEAD
<<<<<<< HEAD
   "id": "3ef07ecc",
=======
   "id": "6e188d92",
>>>>>>> documentation-devel
=======
   "id": "ac5d5a18",
>>>>>>> documentation-devel
=======
   "id": "b22b4021",
>>>>>>> c9ed93f2a6d5e87fe6759d6fd26c06823f77f3f2
   "metadata": {},
   "source": [
    "There are some interesting clusters.\n",
    "\n",
    "# Clustering with MULTISPATI PCA\n",
    "\n",
    "In the standard scRNA-seq data analysis workflow, a k nearest neighbor graph is found in the PCA space, which is then used for graph based clustering such as Louvain and Leiden, which is used to perform differential expression. Spatial dimension reductions can similarly be used to perform clustering, to identify spatial regions in the tissue, as done in [@Shang2022-qy; @Ren2022-qx; @Zhang2023-kf]. This type of studies often use a manual segmentation as ground truth to compare different methods that identify spatial regions. \n",
    "\n",
    "The problem with this is that spatial region methods are meant to help us to identify novel spatial regions based on new -omics data, which might reveal what's previously unknown from manual annotations. If the output from a method doesn't match manual annotations, it might simply be pointing out a previously unknown aspect of the tissue rather than wrong. Depending on the questions being asked, there can simultaneously be multiple spatial partitions. This happens in geographical space. For instance, there's land use and neighborhood boundaries, but equally valid are watershed boundaries and types of rock formation. Which one is relevant depends on the questions asked.\n",
    "\n",
    "Here we perform Leiden clustering with non-spatial and MULTISPATI PCA and compare the results. For the k nearest neighbor graph, I used the default k = 10."
   ]
  },
  {
   "cell_type": "code",
   "execution_count": null,
<<<<<<< HEAD
<<<<<<< HEAD
<<<<<<< HEAD
   "id": "3ac1686e",
=======
   "id": "867ee6a5",
>>>>>>> documentation-devel
=======
   "id": "7b6f3511",
>>>>>>> documentation-devel
=======
   "id": "d4c7bfd8",
>>>>>>> c9ed93f2a6d5e87fe6759d6fd26c06823f77f3f2
   "metadata": {},
   "outputs": [],
   "source": [
    "system.time({\n",
    "    set.seed(29)\n",
    "    sfe$clusts_nonspatial <- clusterCells(sfe, use.dimred = \"PCA\", \n",
    "                                          BLUSPARAM = NNGraphParam(\n",
    "                                              cluster.fun = \"leiden\",\n",
    "                                              cluster.args = list(\n",
    "                                                  objective_function = \"modularity\",\n",
    "                                                  resolution_parameter = 1\n",
    "                                              )\n",
    "                                          ))\n",
    "})"
   ]
  },
  {
   "cell_type": "markdown",
<<<<<<< HEAD
<<<<<<< HEAD
<<<<<<< HEAD
   "id": "ed585deb",
=======
   "id": "3f2ed17d",
>>>>>>> documentation-devel
=======
   "id": "ac4ace79",
>>>>>>> documentation-devel
=======
   "id": "140214a8",
>>>>>>> c9ed93f2a6d5e87fe6759d6fd26c06823f77f3f2
   "metadata": {
    "lines_to_next_cell": 0
   },
   "source": [
    "See if clustering with the positive MULTISPATI PCs give more spatially coherent clusters"
   ]
  },
  {
   "cell_type": "code",
   "execution_count": null,
<<<<<<< HEAD
<<<<<<< HEAD
<<<<<<< HEAD
   "id": "0f2f1539",
=======
   "id": "75c2f34d",
>>>>>>> documentation-devel
=======
   "id": "dce7bec3",
>>>>>>> documentation-devel
=======
   "id": "3ae83423",
>>>>>>> c9ed93f2a6d5e87fe6759d6fd26c06823f77f3f2
   "metadata": {},
   "outputs": [],
   "source": [
    "system.time({\n",
    "    set.seed(29)\n",
    "    sfe$clusts_multispati <- clusterRows(reducedDim(sfe, \"multispati\")[,1:20], \n",
    "                                          BLUSPARAM = NNGraphParam(\n",
    "                                              cluster.fun = \"leiden\",\n",
    "                                              cluster.args = list(\n",
    "                                                  objective_function = \"modularity\",\n",
    "                                                  resolution_parameter = 1\n",
    "                                              )\n",
    "                                          ))\n",
    "})"
   ]
  },
  {
   "cell_type": "markdown",
<<<<<<< HEAD
<<<<<<< HEAD
<<<<<<< HEAD
   "id": "a79ce04f",
=======
   "id": "d1d842e1",
>>>>>>> documentation-devel
=======
   "id": "bf753dda",
>>>>>>> documentation-devel
=======
   "id": "2b771f68",
>>>>>>> c9ed93f2a6d5e87fe6759d6fd26c06823f77f3f2
   "metadata": {
    "lines_to_next_cell": 0
   },
   "source": [
    "Plot the clusters in space:"
   ]
  },
  {
   "cell_type": "code",
   "execution_count": null,
<<<<<<< HEAD
<<<<<<< HEAD
<<<<<<< HEAD
   "id": "677425e0",
=======
   "id": "96bc9080",
>>>>>>> documentation-devel
=======
   "id": "f953948b",
>>>>>>> documentation-devel
=======
   "id": "3322327d",
>>>>>>> c9ed93f2a6d5e87fe6759d6fd26c06823f77f3f2
   "metadata": {
    "fig.height": 4,
    "fig.width": 11
   },
   "outputs": [],
   "source": [
    "plotSpatialFeature(sfe, c(\"clusts_nonspatial\", \"clusts_multispati\"), \n",
    "                   colGeometryName = \"centroids\",\n",
    "                   scattermore = TRUE) &\n",
    "     guides(colour = guide_legend(override.aes = list(size=2), ncol = 2))"
   ]
  },
  {
   "cell_type": "markdown",
<<<<<<< HEAD
<<<<<<< HEAD
<<<<<<< HEAD
   "id": "4056e291",
=======
   "id": "17bcabd0",
>>>>>>> documentation-devel
=======
   "id": "e589be4c",
>>>>>>> documentation-devel
=======
   "id": "ae673302",
>>>>>>> c9ed93f2a6d5e87fe6759d6fd26c06823f77f3f2
   "metadata": {
    "lines_to_next_cell": 0
   },
   "source": [
    "The MULTISPATI clusters do look somewhat more spatially structured than clusters from non-spatial PCA. Also zoom into a small area:"
   ]
  },
  {
   "cell_type": "code",
   "execution_count": null,
<<<<<<< HEAD
<<<<<<< HEAD
<<<<<<< HEAD
   "id": "f7597824",
=======
   "id": "b9f9e51f",
>>>>>>> documentation-devel
=======
   "id": "55e58d50",
>>>>>>> documentation-devel
=======
   "id": "e0246b48",
>>>>>>> c9ed93f2a6d5e87fe6759d6fd26c06823f77f3f2
   "metadata": {
    "fig.height": 4,
    "fig.width": 11
   },
   "outputs": [],
   "source": [
    "plotSpatialFeature(sfe, c(\"clusts_nonspatial\", \"clusts_multispati\"), \n",
    "                   colGeometryName = \"cellSeg\",\n",
    "                   bbox = bbox_use) &\n",
    "     guides(fill = guide_legend(ncol = 2))"
   ]
  },
  {
   "cell_type": "markdown",
<<<<<<< HEAD
<<<<<<< HEAD
<<<<<<< HEAD
   "id": "e8f9e42a",
=======
   "id": "8e04fcfd",
>>>>>>> documentation-devel
=======
   "id": "f4a4ff40",
>>>>>>> documentation-devel
=======
   "id": "546ee912",
>>>>>>> c9ed93f2a6d5e87fe6759d6fd26c06823f77f3f2
   "metadata": {
    "lines_to_next_cell": 0
   },
   "source": [
    "What do these clusters mean? Clusters are supposed to be groups of different spots that are more similar within a group, sharing some characteristics. Non-spatial and MULTISPATI PCA use different characteristics for the clustering. Non-spatial PCA finds genes that are good for telling cell types apart, although those genes may happen to be very spatially structured. Non-spatial clustering aims to find these groups only from gene expression, and cells with similar gene expression can be surrounded by cells of other types in histological space. This is just like mapping Art Deco buildings, which are often near Spanish revival and Beaux Art buildings whose styles are quite different and perform different functions, thus not necessarily forming a coherent spatial region. \n",
    "\n",
    "In contrast, MULTISPATI's positive components find genes that must characterize spatial regions in addition to distinguishing between different cell types. Which genes are involved in each MULTISPATI component may be as interesting as the clusters. It would be interesting to perform gene set enrichment analysis, or to interpret this as some sort of spatial patterns of spatially variable genes. This is like mapping when the buildings were built, so Art Deco, Spanish revival, Beaux Art popular in the 1920s and 1930s will end up in the same cluster and form a more spatially coherent region, which can be found in DTLA Historical Core and Jewelry District, and Old Pasadena. Hence non-spatial clustering of spatial data isn't necessarily bad. Rather, it tells a different story and reveals different aspects of the data from spatial clustering. \n",
    "\n",
    "# Session Info"
   ]
  },
  {
   "cell_type": "code",
   "execution_count": null,
<<<<<<< HEAD
<<<<<<< HEAD
<<<<<<< HEAD
   "id": "d4aadf25",
=======
   "id": "b5da259b",
>>>>>>> documentation-devel
=======
   "id": "d561af8f",
>>>>>>> documentation-devel
=======
   "id": "69a90c63",
>>>>>>> c9ed93f2a6d5e87fe6759d6fd26c06823f77f3f2
   "metadata": {},
   "outputs": [],
   "source": [
    "sessionInfo()"
   ]
  },
  {
   "cell_type": "markdown",
<<<<<<< HEAD
<<<<<<< HEAD
<<<<<<< HEAD
   "id": "9675e4ac",
=======
   "id": "1f53ca7d",
>>>>>>> documentation-devel
=======
   "id": "250d8e92",
>>>>>>> documentation-devel
=======
   "id": "6074bcd1",
>>>>>>> c9ed93f2a6d5e87fe6759d6fd26c06823f77f3f2
   "metadata": {},
   "source": [
    "# References"
   ]
  }
 ],
 "metadata": {
  "kernelspec": {
   "display_name": "R",
   "language": "R",
   "name": "ir"
  }
 },
 "nbformat": 4,
 "nbformat_minor": 5
}
