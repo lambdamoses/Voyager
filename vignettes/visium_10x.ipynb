{
 "cells": [
  {
   "cell_type": "raw",
   "id": "2bd2d942",
   "metadata": {},
   "source": [
    "---\n",
    "title: \"Basic analysis of 10X example Visium dataset\"\n",
    "author: \"Lambda Moses\"\n",
    "date: \"`r Sys.Date()`\"\n",
    "output: \n",
    "  html_document:\n",
    "  toc: true\n",
    "  toc_float:\n",
    "    collapsed: false\n",
    "  toc_depth: 3\n",
    "bibliography: ref.bib\n",
    "vignette: >\n",
    "  %\\VignetteIndexEntry{visium_10x}\n",
    "  %\\VignetteEngine{knitr::rmarkdown}\n",
    "  %\\VignetteEncoding{UTF-8}\n",
    "---"
   ]
  },
  {
   "cell_type": "code",
   "execution_count": null,
   "id": "6eeccbc8",
   "metadata": {
    "tags": [
     "remove_cell"
    ]
   },
   "outputs": [],
   "source": [
    "knitr::opts_chunk$set(\n",
    "  collapse = TRUE,\n",
    "  comment = \"#>\"\n",
    ")"
   ]
  },
  {
   "cell_type": "code",
   "execution_count": null,
   "id": "bcc4a309",
   "metadata": {
    "eval": false,
    "tags": [
     "remove_cell"
    ]
   },
   "outputs": [],
   "source": [
    "# Install Google Colab dependencies\n",
    "# Note: this can take 30+ minutes (many of the dependencies include C++ code, which needs to be compiled)\n",
    "\n",
    "# First install `sf`, `ragg` and `textshaping` and their system dependencies:\n",
    "system(\"apt-get -y update && apt-get install -y  libudunits2-dev libgdal-dev libgeos-dev libproj-dev libharfbuzz-dev libfribidi-dev\")\n",
    "install.packages(\"sf\")\n",
    "install.packages(\"textshaping\")\n",
    "install.packages(\"ragg\")\n",
    "\n",
    "# Install system dependencies of some other R packages that Voyager either imports or suggests:\n",
    "system(\"apt-get install -y libfribidi-dev libcairo2-dev libmagick++-dev\")\n",
    "\n",
    "# Install Voyager from Bioconductor:\n",
    "install.packages(\"BiocManager\")\n",
    "BiocManager::install(version = \"release\", ask = FALSE, update = FALSE, Ncpus = 2)\n",
    "BiocManager::install(\"scater\")\n",
    "system.time(\n",
    "  BiocManager::install(\"Voyager\", dependencies = TRUE, Ncpus = 2, update = FALSE)\n",
    ")\n",
    "\n",
    "packageVersion(\"Voyager\")"
   ]
  },
  {
   "cell_type": "markdown",
   "id": "68945a8c",
   "metadata": {
    "lines_to_next_cell": 0
   },
   "source": [
    "# Introduction\n",
    "\n",
    "In this introductory vignette for [`SpatialFeatureExperiment`](https://bioconductor.org/packages/devel/bioc/html/SpatialFeatureExperiment.html) data representation and [`Voyager`](https://bioconductor.org/packages/devel/bioc/html/Voyager.html) anlaysis package, we demonstrate a basic exploratory data analysis (EDA) of spatial transcriptomics data. Basic knowledge of R and [`SingleCellExperiment`](https://bioconductor.org/packages/release/bioc/html/SingleCellExperiment.html) is assumed.\n",
    "\n",
    "This vignette showcases the packages with a Visium spatial gene expression system dataset, downloaded from the 10X website, in the Space Ranger output format. The technology was chosen due to its popularity, and therefore the availability of numerous publicly available datasets for analysis [@Moses2022-xz].\n",
    "\n",
    "While Voyager was developed with the goal of facilitating the use of geospatial methods in spatial genomics, this introductory vignette is restricted to non-spatial scRNA-seq EDA with the Visium dataset. There is [another Visium introductory vignette](https://pachterlab.github.io/voyager/articles/vig1_visium_basic.html) using a dataset in the [`SFEData`](https://bioconductor.org/packages/release/data/experiment/html/SFEData.html) package but not from the 10X website.\n",
    "\n",
    "Here we load the packages used in this vignette."
   ]
  },
  {
   "cell_type": "code",
   "execution_count": null,
   "id": "924dd569",
   "metadata": {
    "message": false,
    "name": "setup"
   },
   "outputs": [],
   "source": [
    "library(Voyager)\n",
    "library(SpatialExperiment)\n",
    "library(SpatialFeatureExperiment)\n",
    "library(SingleCellExperiment)\n",
    "library(ggplot2)\n",
    "library(scater)\n",
    "library(scuttle)\n",
    "library(scran)\n",
    "library(stringr)\n",
    "library(patchwork)\n",
    "library(bluster)\n",
    "library(rjson)\n",
    "theme_set(theme_bw())"
   ]
  },
  {
   "cell_type": "markdown",
   "id": "d56fc9e4",
   "metadata": {
    "lines_to_next_cell": 0
   },
   "source": [
    "Here we download the data from the 10X website. This is the unfiltered gene count matrix:"
   ]
  },
  {
   "cell_type": "code",
   "execution_count": null,
   "id": "ea428c61",
   "metadata": {},
   "outputs": [],
   "source": [
    "if (!file.exists(\"visium_ob.tar.gz\"))\n",
    "    download.file(\"https://cf.10xgenomics.com/samples/spatial-exp/2.0.0/Visium_Mouse_Olfactory_Bulb/Visium_Mouse_Olfactory_Bulb_raw_feature_bc_matrix.tar.gz\", \n",
    "                  destfile = \"visium_ob.tar.gz\")"
   ]
  },
  {
   "cell_type": "markdown",
   "id": "3a324c06",
   "metadata": {
    "lines_to_next_cell": 0
   },
   "source": [
    "This is the spatial information:"
   ]
  },
  {
   "cell_type": "code",
   "execution_count": null,
   "id": "f09c7e79",
   "metadata": {},
   "outputs": [],
   "source": [
    "if (!file.exists(\"visium_ob_spatial.tar.gz\"))\n",
    "    download.file(\"https://cf.10xgenomics.com/samples/spatial-exp/2.0.0/Visium_Mouse_Olfactory_Bulb/Visium_Mouse_Olfactory_Bulb_spatial.tar.gz\", \n",
    "                  destfile = \"visium_ob_spatial.tar.gz\")"
   ]
  },
  {
   "cell_type": "markdown",
   "id": "f68998c4",
   "metadata": {
    "lines_to_next_cell": 0
   },
   "source": [
    "Decompress the downloaded content:"
   ]
  },
  {
   "cell_type": "code",
   "execution_count": null,
   "id": "a6cc9307",
   "metadata": {},
   "outputs": [],
   "source": [
    "if (!dir.exists(\"outs\")) {\n",
    "    dir.create(\"outs\")\n",
    "    system(\"tar -xvf visium_ob.tar.gz -C outs\")\n",
    "    system(\"tar -xvf visium_ob_spatial.tar.gz -C outs\")\n",
    "}"
   ]
  },
  {
   "cell_type": "markdown",
   "id": "fd7bcade",
   "metadata": {
    "lines_to_next_cell": 0
   },
   "source": [
    "This is what the `outs` directory in Space Ranger output looks like:"
   ]
  },
  {
   "cell_type": "code",
   "execution_count": null,
   "id": "8d343c7f",
   "metadata": {},
   "outputs": [],
   "source": [
    "list.dirs(\"outs\")"
   ]
  },
  {
   "cell_type": "markdown",
   "id": "cf3bc940",
   "metadata": {
    "lines_to_next_cell": 0
   },
   "source": [
    "In the gene count matrix directory:"
   ]
  },
  {
   "cell_type": "code",
   "execution_count": null,
   "id": "4fa2bcbb",
   "metadata": {},
   "outputs": [],
   "source": [
    "list.files(\"outs/raw_feature_bc_matrix\")"
   ]
  },
  {
   "cell_type": "markdown",
   "id": "a760bbf3",
   "metadata": {},
   "source": [
    "In the spatial directory:"
   ]
  },
  {
   "cell_type": "code",
   "execution_count": null,
   "id": "c2499f20",
   "metadata": {},
   "outputs": [],
   "source": [
    "list.files(\"outs/spatial\")"
   ]
  },
  {
   "cell_type": "markdown",
   "id": "51510fd6",
   "metadata": {},
   "source": [
    "The outputs in the spatial directory is explained [here on the 10X website](https://support.10xgenomics.com/spatial-gene-expression/software/pipelines/latest/output/spatial).\n",
    "\n",
    "The `tissue_hires_image.png` is a relatively high resolution image of the tissue, but not full resolution. The `tissue_lowres_image.png` file is a low resolution image of the tissue, suitable for quick plotting, and is shown here:\n",
    "![tissue_lowres_image.png](https://raw.githubusercontent.com/pachterlab/voyager/documentation/vignettes/tissue_lowres_image.png)\n",
    "\n",
    "The array of dots framing the tissue seen in this image is the fiducials, used to align the tissue image to the positions of the Visium spots, so gene expression can be matched to spatial locations. The alignment of the fiducials is shown in `aligned_fiducials.jpg`. Space Ranger can automatically detect which spots are in tissue, and these spots are highlighted in `detected_tissue_image.jpg`. \n",
    "\n",
    "Inside the `scalefactors_json.json` file:"
   ]
  },
  {
   "cell_type": "code",
   "execution_count": null,
   "id": "feca1dbe",
   "metadata": {
    "lines_to_next_cell": 0
   },
   "outputs": [],
   "source": [
    "fromJSON(file = \"outs/spatial/scalefactors_json.json\")"
   ]
  },
  {
   "cell_type": "markdown",
   "id": "f53af7a9",
   "metadata": {
    "lines_to_next_cell": 0
   },
   "source": [
    "`spot_diameter_fullres` is the diameter of each Visium spot in the full resolution H&E image in pixels. `tissue_hires_scalef` and `tissue_lowres_scalef` are the ratio of the size of the high resolution (but not full resolution) and low resolution H&E image to the full resolution image. `fiducial_diameter_fullres` is the diameter of each fiducial spot used to align the spots to the H&E image in pixels in the full resolution image.\n",
    "\n",
    "The `tissue_positions_list.csv` file contains information for the coordinates of the spots in the full resolution image and whether each spot is in tissue (`in_tissue`, 1 means yes and 0 means no) as automatically detected by Space Ranger or manually annotated in the Loupe browser."
   ]
  },
  {
   "cell_type": "code",
   "execution_count": null,
   "id": "c159d7db",
   "metadata": {},
   "outputs": [],
   "source": [
    "head(read.csv(\"outs/spatial/tissue_positions.csv\"))"
   ]
  },
  {
   "cell_type": "markdown",
   "id": "02e7658d",
   "metadata": {
    "lines_to_next_cell": 0
   },
   "source": [
    "The `spatial_enrichment.csv` file has Moran's I (presumably for spots in tissue) and its p-value for each gene that is detected in at least 10 spots and has at least 20 UMIs. "
   ]
  },
  {
   "cell_type": "code",
   "execution_count": null,
   "id": "ca7b2bdc",
   "metadata": {},
   "outputs": [],
   "source": [
    "head(read.csv(\"outs/spatial/spatial_enrichment.csv\"))"
   ]
  },
  {
   "cell_type": "markdown",
   "id": "cb454f2e",
   "metadata": {
    "lines_to_next_cell": 0
   },
   "source": [
    "Here we read the Space Ranger output into R as an SFE object:"
   ]
  },
  {
   "cell_type": "code",
   "execution_count": null,
   "id": "685cc869",
   "metadata": {},
   "outputs": [],
   "source": [
    "(sfe <- read10xVisiumSFE(samples = \".\", type = \"sparse\", data = \"raw\"))"
   ]
  },
  {
   "cell_type": "markdown",
   "id": "82b7e4ef",
   "metadata": {
    "lines_to_next_cell": 0
   },
   "source": [
    "# Quality control (QC)"
   ]
  },
  {
   "cell_type": "code",
   "execution_count": null,
   "id": "5f4bf571",
   "metadata": {},
   "outputs": [],
   "source": [
    "is_mt <- str_detect(rowData(sfe)$symbol, \"^mt-\")"
   ]
  },
  {
   "cell_type": "code",
   "execution_count": null,
   "id": "81bcad2f",
   "metadata": {},
   "outputs": [],
   "source": [
    "sfe <- addPerCellQCMetrics(sfe, subsets = list(mito = is_mt))"
   ]
  },
  {
   "cell_type": "code",
   "execution_count": null,
   "id": "68914c77",
   "metadata": {
    "lines_to_next_cell": 0
   },
   "outputs": [],
   "source": [
    "names(colData(sfe))"
   ]
  },
  {
   "cell_type": "markdown",
   "id": "c671191a",
   "metadata": {},
   "source": [
    "The mouse olfactory bulb is conventionally plotted horizontally. The entire SFE object can be transposed in histologial space to make the olfactory bulb horizontal."
   ]
  },
  {
   "cell_type": "code",
   "execution_count": null,
   "id": "25759979",
   "metadata": {},
   "outputs": [],
   "source": [
    "sfe <- SpatialFeatureExperiment::transpose(sfe)"
   ]
  },
  {
   "cell_type": "code",
   "execution_count": null,
   "id": "34b1708a",
   "metadata": {
    "fig.height": 6,
    "fig.width": 8
   },
   "outputs": [],
   "source": [
    "plotSpatialFeature(sfe, c(\"sum\", \"detected\", \"subsets_mito_percent\"), \n",
    "                   image_id = \"lowres\", maxcell = 5e4, ncol = 2)"
   ]
  },
  {
   "cell_type": "markdown",
   "id": "6c249d9c",
   "metadata": {
    "lines_to_next_cell": 0
   },
   "source": [
    "Percentage of mitochondrial counts in spots outside tissue is higher near the tissue, especially on the left."
   ]
  },
  {
   "cell_type": "code",
   "execution_count": null,
   "id": "02dddaa3",
   "metadata": {},
   "outputs": [],
   "source": [
    "plotColData(sfe, \"sum\", x = \"in_tissue\", color_by = \"in_tissue\") +\n",
    "    plotColData(sfe, \"detected\", x = \"in_tissue\", color_by = \"in_tissue\") +\n",
    "    plotColData(sfe, \"subsets_mito_percent\", x = \"in_tissue\", color_by = \"in_tissue\") +\n",
    "    plot_layout(guides = \"collect\")"
   ]
  },
  {
   "cell_type": "markdown",
   "id": "82e9abdc",
   "metadata": {},
   "source": [
    "3 peaks, apparently histologically relevant. Also no obvious outliers."
   ]
  },
  {
   "cell_type": "code",
   "execution_count": null,
   "id": "11905069",
   "metadata": {},
   "outputs": [],
   "source": [
    "plotColData(sfe, x = \"sum\", y = \"subsets_mito_percent\", color_by = \"in_tissue\") +\n",
    "    geom_density_2d()"
   ]
  },
  {
   "cell_type": "markdown",
   "id": "621460b8",
   "metadata": {},
   "source": [
    "This is unlike scRNA-seq data. Spots not in tissue have a wide range of mitocondrial percentage. Spots in tissue fall into 3 clusters in this plot, seemingly related to histological regions."
   ]
  },
  {
   "cell_type": "code",
   "execution_count": null,
   "id": "69b5405f",
   "metadata": {},
   "outputs": [],
   "source": [
    "sfe_tissue <- sfe[,sfe$in_tissue]"
   ]
  },
  {
   "cell_type": "code",
   "execution_count": null,
   "id": "24b43e9a",
   "metadata": {},
   "outputs": [],
   "source": [
    "plotColData(sfe_tissue, x = \"sum\", y = \"detected\", bins = 75)"
   ]
  },
  {
   "cell_type": "code",
   "execution_count": null,
   "id": "b73caf89",
   "metadata": {},
   "outputs": [],
   "source": [
    "#clusters <- quickCluster(sfe_tissue)\n",
    "#sfe_tissue <- computeSumFactors(sfe_tissue, clusters=clusters)\n",
    "#sfe_tissue <- sfe_tissue[, sizeFactors(sfe_tissue) > 0]\n",
    "sfe_tissue <- logNormCounts(sfe_tissue)"
   ]
  },
  {
   "cell_type": "code",
   "execution_count": null,
   "id": "821b7c89",
   "metadata": {},
   "outputs": [],
   "source": [
    "dec <- modelGeneVar(sfe_tissue, lowess = FALSE)\n",
    "hvgs <- getTopHVGs(dec, n = 2000)"
   ]
  },
  {
   "cell_type": "markdown",
   "id": "993cc8bd",
   "metadata": {
    "lines_to_next_cell": 0
   },
   "source": [
    "# Dimension reduction and clustering"
   ]
  },
  {
   "cell_type": "code",
   "execution_count": null,
   "id": "4136d102",
   "metadata": {},
   "outputs": [],
   "source": [
    "sfe_tissue <- runPCA(sfe_tissue, ncomponents = 30, subset_row = hvgs,\n",
    "                     scale = TRUE) # scale as in Seurat"
   ]
  },
  {
   "cell_type": "code",
   "execution_count": null,
   "id": "860cd5f8",
   "metadata": {},
   "outputs": [],
   "source": [
    "ElbowPlot(sfe_tissue, ndims = 30)"
   ]
  },
  {
   "cell_type": "code",
   "execution_count": null,
   "id": "a07c47cf",
   "metadata": {},
   "outputs": [],
   "source": [
    "names(rowData(sfe_tissue))"
   ]
  },
  {
   "cell_type": "code",
   "execution_count": null,
   "id": "5b8c3ba0",
   "metadata": {},
   "outputs": [],
   "source": [
    "plotDimLoadings(sfe_tissue, dims = 1:5, swap_rownames = \"symbol\", ncol = 3)"
   ]
  },
  {
   "cell_type": "markdown",
   "id": "d0b9a9f7",
   "metadata": {
    "lines_to_next_cell": 0
   },
   "source": [
    "Do the clustering to show on the dimension reduction plots"
   ]
  },
  {
   "cell_type": "code",
   "execution_count": null,
   "id": "c922ed7d",
   "metadata": {},
   "outputs": [],
   "source": [
    "set.seed(29)\n",
    "colData(sfe_tissue)$cluster <- clusterRows(reducedDim(sfe_tissue, \"PCA\")[,1:3],\n",
    "                                           BLUSPARAM = SNNGraphParam(\n",
    "                                               cluster.fun = \"leiden\",\n",
    "                                               cluster.args = list(\n",
    "                                                   resolution_parameter = 0.5,\n",
    "                                                   objective_function = \"modularity\")))"
   ]
  },
  {
   "cell_type": "code",
   "execution_count": null,
   "id": "72eda8fa",
   "metadata": {
    "fig.height": 9,
    "fig.width": 9
   },
   "outputs": [],
   "source": [
    "plotPCA(sfe_tissue, ncomponents = 5, colour_by = \"cluster\")"
   ]
  },
  {
   "cell_type": "code",
   "execution_count": null,
   "id": "90b77d18",
   "metadata": {},
   "outputs": [],
   "source": [
    "plotSpatialFeature(sfe_tissue, features = \"cluster\", \n",
    "                   colGeometryName = \"spotPoly\", image_id = \"lowres\")"
   ]
  },
  {
   "cell_type": "code",
   "execution_count": null,
   "id": "a2052468",
   "metadata": {
    "fig.height": 8,
    "fig.width": 8
   },
   "outputs": [],
   "source": [
    "spatialReducedDim(sfe_tissue, \"PCA\", ncomponents = 5, \n",
    "                  colGeometryName = \"spotPoly\", divergent = TRUE, \n",
    "                  diverge_center = 0, ncol = 2, \n",
    "                  image_id = \"lowres\", maxcell = 5e4)"
   ]
  },
  {
   "cell_type": "code",
   "execution_count": null,
   "id": "63b14568",
   "metadata": {},
   "outputs": [],
   "source": [
    "markers <- findMarkers(sfe_tissue, groups = colData(sfe_tissue)$cluster,\n",
    "                       test.type = \"wilcox\", pval.type = \"all\", direction = \"up\")"
   ]
  },
  {
   "cell_type": "markdown",
   "id": "6b27d5b0",
   "metadata": {
    "lines_to_next_cell": 0
   },
   "source": [
    "Significant markers for each cluster can be obtained as follows:"
   ]
  },
  {
   "cell_type": "code",
   "execution_count": null,
   "id": "11a3a511",
   "metadata": {},
   "outputs": [],
   "source": [
    "genes_use <- vapply(markers, function(x) rownames(x)[1], FUN.VALUE = character(1))\n",
    "plotExpression(sfe_tissue, rowData(sfe_tissue)[genes_use, \"symbol\"], x = \"cluster\",\n",
    "               colour_by = \"cluster\", swap_rownames = \"symbol\")"
   ]
  },
  {
   "cell_type": "markdown",
   "id": "3680ca61",
   "metadata": {
    "lines_to_next_cell": 0
   },
   "source": [
    "These genes are interesting to view in spatial context:"
   ]
  },
  {
   "cell_type": "code",
   "execution_count": null,
   "id": "3b1a43a9",
   "metadata": {
    "fig.height": 8,
    "fig.width": 8
   },
   "outputs": [],
   "source": [
    "plotSpatialFeature(sfe_tissue, genes_use, colGeometryName = \"spotPoly\", ncol = 2,\n",
    "                   swap_rownames = \"symbol\", image_id = \"lowres\", maxcell = 5e4)"
   ]
  },
  {
   "cell_type": "markdown",
   "id": "7189649d",
   "metadata": {
    "lines_to_next_cell": 0
   },
   "source": [
    "More spatial analyses on this dataset is performed in [an \"advanced\" version of this vignette](https://pachterlab.github.io/voyager/articles/visium_10x_spatial.html).\n",
    "\n",
    "# Session info"
   ]
  },
  {
   "cell_type": "code",
   "execution_count": null,
   "id": "1d9222a8",
   "metadata": {},
   "outputs": [],
   "source": [
    "sessionInfo()"
   ]
  }
 ],
 "metadata": {
  "kernelspec": {
   "display_name": "R",
   "language": "R",
   "name": "ir"
  }
 },
 "nbformat": 4,
 "nbformat_minor": 5
}
