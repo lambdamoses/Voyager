{
 "cells": [
  {
   "cell_type": "raw",
<<<<<<< HEAD
<<<<<<< HEAD
<<<<<<< HEAD
<<<<<<< HEAD
<<<<<<< HEAD
   "id": "2fbe8222",
=======
   "id": "d92c1d69",
>>>>>>> documentation-devel
=======
   "id": "ea2301a2",
>>>>>>> documentation-devel
=======
   "id": "72ac2ad7",
>>>>>>> c9ed93f2a6d5e87fe6759d6fd26c06823f77f3f2
=======
   "id": "b5a6ffa6",
>>>>>>> documentation-devel
=======
   "id": "a7edf7a3",
>>>>>>> 487d062df8c9b8a19360e92edfd0678a37ff23f4
   "metadata": {},
   "source": [
    "---\n",
    "title: \"Basic Visium exploratory data analysis\"\n",
    "author: \"Lambda Moses\"\n",
    "date: \"`r Sys.Date()`\"\n",
    "output: \n",
    "  html_document:\n",
    "  toc: true\n",
    "  toc_float:\n",
    "    collapsed: false\n",
    "  toc_depth: 3\n",
    "bibliography: ref.bib\n",
    "vignette: >\n",
    "  %\\VignetteIndexEntry{visium_basic}\n",
    "  %\\VignetteEngine{knitr::rmarkdown}\n",
    "  %\\VignetteEncoding{UTF-8}\n",
    "---"
   ]
  },
  {
   "cell_type": "code",
   "execution_count": null,
<<<<<<< HEAD
<<<<<<< HEAD
<<<<<<< HEAD
<<<<<<< HEAD
<<<<<<< HEAD
   "id": "12b793ea",
=======
   "id": "80e7ab76",
>>>>>>> documentation-devel
=======
   "id": "d8786af4",
>>>>>>> documentation-devel
=======
   "id": "cdaedab9",
>>>>>>> c9ed93f2a6d5e87fe6759d6fd26c06823f77f3f2
=======
   "id": "869a1342",
>>>>>>> documentation-devel
=======
   "id": "280d515e",
>>>>>>> 487d062df8c9b8a19360e92edfd0678a37ff23f4
   "metadata": {
    "tags": [
     "remove_cell"
    ]
   },
   "outputs": [],
   "source": [
    "knitr::opts_chunk$set(\n",
    "  collapse = TRUE,\n",
    "  comment = \"#>\", fig.align = \"center\"\n",
    ")"
   ]
  },
  {
   "cell_type": "code",
   "execution_count": null,
<<<<<<< HEAD
<<<<<<< HEAD
<<<<<<< HEAD
<<<<<<< HEAD
<<<<<<< HEAD
   "id": "94e97492",
=======
   "id": "b090d5d3",
>>>>>>> documentation-devel
=======
   "id": "bac82ad2",
>>>>>>> documentation-devel
=======
   "id": "cef127e3",
>>>>>>> c9ed93f2a6d5e87fe6759d6fd26c06823f77f3f2
=======
   "id": "b68c72d5",
>>>>>>> documentation-devel
=======
   "id": "fcd7449d",
>>>>>>> 487d062df8c9b8a19360e92edfd0678a37ff23f4
   "metadata": {
    "eval": false,
    "tags": [
     "remove_cell"
    ]
   },
   "outputs": [],
   "source": [
    "# Install Google Colab dependencies\n",
    "# Note: this can take 30+ minutes (many of the dependencies include C++ code, which needs to be compiled)\n",
    "\n",
    "# First install `sf`, `ragg` and `textshaping` and their system dependencies:\n",
    "system(\"apt-get -y update && apt-get install -y  libudunits2-dev libgdal-dev libgeos-dev libproj-dev libharfbuzz-dev libfribidi-dev\")\n",
    "install.packages(\"sf\")\n",
    "install.packages(\"textshaping\")\n",
    "install.packages(\"ragg\")\n",
    "\n",
    "# Install system dependencies of some other R packages that Voyager either imports or suggests:\n",
    "system(\"apt-get install -y libfribidi-dev libcairo2-dev libmagick++-dev\")\n",
    "\n",
    "# Install Voyager from Bioconductor:\n",
    "install.packages(\"BiocManager\")\n",
    "BiocManager::install(version = \"release\", ask = FALSE, update = FALSE, Ncpus = 2)\n",
    "BiocManager::install(c(\"scater\", \"concordexR\"))\n",
    "system.time(\n",
    "  BiocManager::install(\"Voyager\", dependencies = TRUE, Ncpus = 2, update = FALSE)\n",
    ")\n",
    "\n",
    "# Additional dependencies for this notebook\n",
    "install.packages(\"reticulate\")\n",
    "\n",
    "packageVersion(\"Voyager\")"
   ]
  },
  {
   "cell_type": "markdown",
<<<<<<< HEAD
<<<<<<< HEAD
<<<<<<< HEAD
<<<<<<< HEAD
<<<<<<< HEAD
   "id": "6ebef2cf",
=======
   "id": "977cde19",
>>>>>>> documentation-devel
=======
   "id": "759f0b0b",
>>>>>>> documentation-devel
=======
   "id": "a880cd41",
>>>>>>> c9ed93f2a6d5e87fe6759d6fd26c06823f77f3f2
=======
   "id": "55064597",
>>>>>>> documentation-devel
=======
   "id": "a3798399",
>>>>>>> 487d062df8c9b8a19360e92edfd0678a37ff23f4
   "metadata": {
    "lines_to_next_cell": 0
   },
   "source": [
    "# Introduction\n",
    "\n",
    "In this introductory vignette for the [`SpatialFeatureExperiment`](https://bioconductor.org/packages/devel/bioc/html/SpatialFeatureExperiment.html) data representation and [`Voyager`](https://bioconductor.org/packages/devel/bioc/html/Voyager.html) analysis package, we demonstrate a basic exploratory data analysis (EDA) of spatial transcriptomics data. Basic knowledge of R and [`SingleCellExperiment`](https://bioconductor.org/packages/release/bioc/html/SingleCellExperiment.html) is assumed.\n",
    "\n",
    "This vignette showcases the packages with a Visium spatial gene expression system dataset. The technology was chosen due to its popularity, and therefore the availability of numerous publicly available datasets for analysis [@Moses2022-xz].  \n",
    "\n",
    "![Bar chart showing the number of institutions using each spatial transcriptomics data collection method. Only methods used by at least 3 different institutions are shown. The bars are colored by category of the methods. 10X Visium which is based on sequence barcoding is used by over 100 institutions. Following Visium are GeoMX DSP and GeoMX WTA which are \"regions of interest\" (ROI) methods, along with 2016 ST and some other ROI selection methods.](https://pachterlab.github.io/LP_2021/04-current_files/figure-html/n-insts-1.png)\n",
    "While Voyager was developed with the goal of facilitating the use of geospatial methods in spatial genomics, this introductory vignette is restricted to non-spatial scRNA-seq EDA with the Visium dataset. For a vignette illustrating univariate spatial analysis with the same dataset, see the more advanced [exploratory spatial data analyis vignette](https://pachterlab.github.io/voyager/articles/vig2_visium.html) with the same dataset.\n",
    "\n",
    "Here we load the packages used in this vignette."
   ]
  },
  {
   "cell_type": "code",
   "execution_count": null,
<<<<<<< HEAD
<<<<<<< HEAD
<<<<<<< HEAD
<<<<<<< HEAD
<<<<<<< HEAD
   "id": "358d91b7",
=======
   "id": "d91212e1",
>>>>>>> documentation-devel
=======
   "id": "02f55b5d",
>>>>>>> documentation-devel
=======
   "id": "1bb64443",
>>>>>>> c9ed93f2a6d5e87fe6759d6fd26c06823f77f3f2
=======
   "id": "5ff25bab",
>>>>>>> documentation-devel
=======
   "id": "6075b071",
>>>>>>> 487d062df8c9b8a19360e92edfd0678a37ff23f4
   "metadata": {
    "message": false,
    "name": "setup"
   },
   "outputs": [],
   "source": [
    "library(Voyager)\n",
    "library(SpatialFeatureExperiment)\n",
    "library(SingleCellExperiment)\n",
    "library(SpatialExperiment)\n",
    "library(scater)\n",
    "library(scran)\n",
    "library(patchwork)\n",
    "library(bluster)\n",
    "library(SFEData)\n",
    "library(BiocParallel)\n",
    "library(stringr)\n",
    "library(ggplot2)\n",
    "library(sparseMatrixStats)\n",
    "library(dplyr)\n",
    "library(reticulate)\n",
    "library(concordexR)\n",
    "library(BiocNeighbors)\n",
    "library(pheatmap)\n",
    "theme_set(theme_bw(10))"
   ]
  },
  {
   "cell_type": "code",
   "execution_count": null,
<<<<<<< HEAD
<<<<<<< HEAD
<<<<<<< HEAD
<<<<<<< HEAD
<<<<<<< HEAD
   "id": "07a6ca7c",
=======
   "id": "b28f36d5",
>>>>>>> documentation-devel
=======
   "id": "5c4bd19b",
>>>>>>> documentation-devel
=======
   "id": "a4e0d022",
>>>>>>> c9ed93f2a6d5e87fe6759d6fd26c06823f77f3f2
=======
   "id": "18dde856",
>>>>>>> documentation-devel
=======
   "id": "cc011c79",
>>>>>>> 487d062df8c9b8a19360e92edfd0678a37ff23f4
   "metadata": {
    "eval": false
   },
   "outputs": [],
   "source": [
    "# Specify Python version to use gget\n",
    "PY_PATH <- Sys.which(\"python\")\n",
    "use_python(PY_PATH)\n",
    "py_config()"
   ]
  },
  {
   "cell_type": "code",
   "execution_count": null,
<<<<<<< HEAD
<<<<<<< HEAD
<<<<<<< HEAD
<<<<<<< HEAD
<<<<<<< HEAD
   "id": "ba06af5a",
=======
   "id": "f342898a",
>>>>>>> documentation-devel
=======
   "id": "5a14d1d1",
>>>>>>> documentation-devel
=======
   "id": "bc9b4271",
>>>>>>> c9ed93f2a6d5e87fe6759d6fd26c06823f77f3f2
=======
   "id": "55587727",
>>>>>>> documentation-devel
=======
   "id": "27137322",
>>>>>>> 487d062df8c9b8a19360e92edfd0678a37ff23f4
   "metadata": {
    "eval": false,
    "tags": [
     "remove_cell"
    ]
   },
   "outputs": [],
   "source": [
    "system(\"pip3 install gget\")"
   ]
  },
  {
   "cell_type": "code",
   "execution_count": null,
<<<<<<< HEAD
<<<<<<< HEAD
<<<<<<< HEAD
<<<<<<< HEAD
<<<<<<< HEAD
   "id": "20c72f80",
=======
   "id": "744b1759",
>>>>>>> documentation-devel
=======
   "id": "21f0507a",
>>>>>>> documentation-devel
=======
   "id": "90f9e4e2",
>>>>>>> c9ed93f2a6d5e87fe6759d6fd26c06823f77f3f2
=======
   "id": "4f1bf4fd",
>>>>>>> documentation-devel
=======
   "id": "61ecafc1",
>>>>>>> 487d062df8c9b8a19360e92edfd0678a37ff23f4
   "metadata": {
    "eval": false
   },
   "outputs": [],
   "source": [
    "gget <- import(\"gget\")"
   ]
  },
  {
   "cell_type": "markdown",
<<<<<<< HEAD
<<<<<<< HEAD
<<<<<<< HEAD
<<<<<<< HEAD
<<<<<<< HEAD
   "id": "36658e54",
=======
   "id": "2de3b9db",
>>>>>>> documentation-devel
=======
   "id": "55b9e94e",
>>>>>>> documentation-devel
=======
   "id": "e95c8a2f",
>>>>>>> c9ed93f2a6d5e87fe6759d6fd26c06823f77f3f2
=======
   "id": "77b5160d",
>>>>>>> documentation-devel
=======
   "id": "d3decb97",
>>>>>>> 487d062df8c9b8a19360e92edfd0678a37ff23f4
   "metadata": {},
   "source": [
    "# Mouse skeletal muscle dataset\n",
    "The dataset used in this vignette is from the paper [Large-scale integration of single-cell transcriptomic data captures transitional progenitor states in mouse skeletal muscle regeneration](https://doi.org/10.1038/s42003-021-02810-x) [@McKellar2021-ek]. Notexin was injected into the tibialis anterior muscle of mice to induce injury, and the healing muscle was collected 2, 5, and 7 days post injury for Visium analysis. The dataset in this vignette is from the timepoint at day 2. The vignette starts with a `SpatialFeatureExperiment` (SFE) object.\n",
    "\n",
    "The gene count matrix was directly downloaded [from GEO](https://www.ncbi.nlm.nih.gov/geo/query/acc.cgi?acc=GSM4904759). All 4992 spots, whether in tissue or not, are included. The tissue boundary was found by thresholding the H&E image in OpenCV, and small polygons were removed as they are likely to be debris. Spot polygons were constructed with the spot centroid coordinates and diameter in the Space Ranger output. The `in_tissue` column in `colData` indicates which spot polygons intersect the tissue polygons, and is based on `st_intersects()`. \n",
    "\n",
    "Tissue boundary, nuclei, myofiber, and Visium spot polygons are stored as `sf` data frames in the SFE object. The Visium spot polygons are called \"spotPoly\" in this SFE object. The `SpatialFeatureExperiment` package has a few convenience wrappers to get and set common types of geometries, including `spotPoly()` for Visium (or other technologies when relevant) spot polygons, `cellSeg()` for cell segmentation, `nucSeg()` for nuclei segmentation, and `centroids()` for cell centroids. Behind the scene are specially named `sf` data frames. See [the vignette of `SpatialFeatureExperiment`](https://bioconductor.org/packages/devel/bioc/vignettes/SpatialFeatureExperiment/inst/doc/SFE.html) for more details on the structure of the SFE object. \n",
    "\n",
    "The SFE object of this dataset is provided in the `SFEData` package; we begin by downloading the data and loading it into R."
   ]
  },
  {
   "cell_type": "code",
   "execution_count": null,
<<<<<<< HEAD
<<<<<<< HEAD
<<<<<<< HEAD
<<<<<<< HEAD
<<<<<<< HEAD
   "id": "b366438e",
=======
   "id": "f5f615c3",
>>>>>>> documentation-devel
=======
   "id": "d91f35a1",
>>>>>>> documentation-devel
=======
   "id": "d1cfc384",
>>>>>>> c9ed93f2a6d5e87fe6759d6fd26c06823f77f3f2
=======
   "id": "8a1e5c45",
>>>>>>> documentation-devel
=======
   "id": "c67c1d46",
>>>>>>> 487d062df8c9b8a19360e92edfd0678a37ff23f4
   "metadata": {},
   "outputs": [],
   "source": [
    "(sfe <- McKellarMuscleData(\"full\"))"
   ]
  },
  {
   "cell_type": "markdown",
<<<<<<< HEAD
<<<<<<< HEAD
<<<<<<< HEAD
<<<<<<< HEAD
<<<<<<< HEAD
   "id": "5c84fa62",
=======
   "id": "f1ca796e",
>>>>>>> documentation-devel
=======
   "id": "e05df661",
>>>>>>> documentation-devel
=======
   "id": "ff6d9781",
>>>>>>> c9ed93f2a6d5e87fe6759d6fd26c06823f77f3f2
=======
   "id": "0a0dcc0f",
>>>>>>> documentation-devel
=======
   "id": "9c6fb842",
>>>>>>> 487d062df8c9b8a19360e92edfd0678a37ff23f4
   "metadata": {
    "lines_to_next_cell": 0
   },
   "source": [
    "The authors provided the full resolution hematoxylin and eosin (H&E) image on GEO, which we downsized to facilitate its display:\n",
    "![A cross section of mouse muscle is slightly off center to the lower left. In the middle of the tissue is the notexin injury site with leukocyte infiltration and fewer myofibers. The rest of the tissue section is tightly packed with myofibers.](https://raw.githubusercontent.com/pachterlab/voyager/documentation/vignettes/tissue_lowres_5a.jpeg)\n",
    "\n",
    "The image can be added to the SFE object and plotted behind the geometries, and needs to be flipped to align to the spots because the origin is at the top left for the image but bottom left for geometries."
   ]
  },
  {
   "cell_type": "code",
   "execution_count": null,
<<<<<<< HEAD
<<<<<<< HEAD
<<<<<<< HEAD
<<<<<<< HEAD
<<<<<<< HEAD
   "id": "f74e56e3",
=======
   "id": "6266021e",
>>>>>>> documentation-devel
=======
   "id": "02da850d",
>>>>>>> documentation-devel
=======
   "id": "059b97c2",
>>>>>>> c9ed93f2a6d5e87fe6759d6fd26c06823f77f3f2
=======
   "id": "1b7d6c75",
>>>>>>> documentation-devel
=======
   "id": "52e339a6",
>>>>>>> 487d062df8c9b8a19360e92edfd0678a37ff23f4
   "metadata": {},
   "outputs": [],
   "source": [
    "if (!file.exists(\"tissue_lowres_5a.jpeg\")) {\n",
    "    download.file(\"https://raw.githubusercontent.com/pachterlab/voyager/main/vignettes/tissue_lowres_5a.jpeg\",\n",
    "                  destfile = \"tissue_lowres_5a.jpeg\")\n",
    "}"
   ]
  },
  {
   "cell_type": "code",
   "execution_count": null,
<<<<<<< HEAD
<<<<<<< HEAD
<<<<<<< HEAD
<<<<<<< HEAD
<<<<<<< HEAD
   "id": "a81aa3db",
=======
   "id": "c7ecf9d5",
>>>>>>> documentation-devel
=======
   "id": "7616c59e",
>>>>>>> documentation-devel
=======
   "id": "3b3f5d1b",
>>>>>>> c9ed93f2a6d5e87fe6759d6fd26c06823f77f3f2
=======
   "id": "e215b8e6",
>>>>>>> documentation-devel
=======
   "id": "127cdf58",
>>>>>>> 487d062df8c9b8a19360e92edfd0678a37ff23f4
   "metadata": {
    "lines_to_next_cell": 2
   },
   "outputs": [],
   "source": [
    "sfe <- addImg(sfe, imageSource = \"tissue_lowres_5a.jpeg\", sample_id = \"Vis5A\", \n",
    "              image_id = \"lowres\", \n",
    "              scale_fct = 1024/22208)\n",
    "# Don't need to mirror for terra >= 1.7.83\n",
    "#sfe <- mirrorImg(sfe, sample_id = \"Vis5A\", image_id = \"lowres\")"
   ]
  },
  {
   "cell_type": "markdown",
<<<<<<< HEAD
<<<<<<< HEAD
<<<<<<< HEAD
<<<<<<< HEAD
<<<<<<< HEAD
   "id": "c2ab6565",
=======
   "id": "06413fac",
>>>>>>> documentation-devel
=======
   "id": "40efd9f4",
>>>>>>> documentation-devel
=======
   "id": "fc1197fc",
>>>>>>> c9ed93f2a6d5e87fe6759d6fd26c06823f77f3f2
=======
   "id": "5b560299",
>>>>>>> documentation-devel
=======
   "id": "8bc47755",
>>>>>>> 487d062df8c9b8a19360e92edfd0678a37ff23f4
   "metadata": {},
   "source": [
    "# Quality control\n",
    "## Spots\n",
    "We begin quality control (QC) by plotting various metrics both as violin plots and in space. The QC metrics are pre-computed and stored in `colData` (for spots) and `rowData` of the SFE object."
   ]
  },
  {
   "cell_type": "code",
   "execution_count": null,
<<<<<<< HEAD
<<<<<<< HEAD
<<<<<<< HEAD
<<<<<<< HEAD
<<<<<<< HEAD
   "id": "d4992456",
=======
   "id": "d1b9300b",
>>>>>>> documentation-devel
=======
   "id": "6a09425b",
>>>>>>> documentation-devel
=======
   "id": "4ad2bff9",
>>>>>>> c9ed93f2a6d5e87fe6759d6fd26c06823f77f3f2
=======
   "id": "692b97d0",
>>>>>>> documentation-devel
=======
   "id": "9dcb80e1",
>>>>>>> 487d062df8c9b8a19360e92edfd0678a37ff23f4
   "metadata": {},
   "outputs": [],
   "source": [
    "names(colData(sfe))"
   ]
  },
  {
   "cell_type": "markdown",
<<<<<<< HEAD
<<<<<<< HEAD
<<<<<<< HEAD
<<<<<<< HEAD
<<<<<<< HEAD
   "id": "c6acf33c",
=======
   "id": "d3011bd1",
>>>>>>> documentation-devel
=======
   "id": "7b9f6306",
>>>>>>> documentation-devel
=======
   "id": "6c5bce3b",
>>>>>>> c9ed93f2a6d5e87fe6759d6fd26c06823f77f3f2
=======
   "id": "03015a54",
>>>>>>> documentation-devel
=======
   "id": "061696c0",
>>>>>>> 487d062df8c9b8a19360e92edfd0678a37ff23f4
   "metadata": {
    "lines_to_next_cell": 0
   },
   "source": [
    "Below we plot the total unique molecular identifier (UMI) counts per spot. The commented out line of code shows how to compute the total UMI counts. The `maxcell` argument is the maximum number of pixels to plot for the image; the image is downsampled if it has more pixels than `maxcells`. This can speed up plotting when plotting the same image in multiple facets."
   ]
  },
  {
   "cell_type": "code",
   "execution_count": null,
<<<<<<< HEAD
<<<<<<< HEAD
<<<<<<< HEAD
<<<<<<< HEAD
<<<<<<< HEAD
   "id": "42782f1c",
=======
   "id": "31d52e04",
>>>>>>> documentation-devel
=======
   "id": "868b8126",
>>>>>>> documentation-devel
=======
   "id": "413c29f3",
>>>>>>> c9ed93f2a6d5e87fe6759d6fd26c06823f77f3f2
=======
   "id": "03dea725",
>>>>>>> documentation-devel
=======
   "id": "4c06c0fc",
>>>>>>> 487d062df8c9b8a19360e92edfd0678a37ff23f4
   "metadata": {},
   "outputs": [],
   "source": [
    "# colData(sfe)$nCounts <- colSums(counts(sfe))\n",
    "violin <- plotColData(sfe, \"nCounts\", x = \"in_tissue\", colour_by = \"in_tissue\") +\n",
    "    theme(legend.position = \"top\")\n",
    "spatial <- plotSpatialFeature(sfe, \"nCounts\", colGeometryName = \"spotPoly\",\n",
    "                              annotGeometryName = \"tissueBoundary\", \n",
    "                              image = \"lowres\", maxcell = 5e4,\n",
    "                              annot_fixed = list(fill = NA, color = \"black\")) +\n",
    "    theme_void()\n",
    "violin + spatial"
   ]
  },
  {
   "cell_type": "markdown",
<<<<<<< HEAD
<<<<<<< HEAD
<<<<<<< HEAD
<<<<<<< HEAD
<<<<<<< HEAD
   "id": "88d80cb7",
=======
   "id": "4b72700e",
>>>>>>> documentation-devel
=======
   "id": "cd077ebe",
>>>>>>> documentation-devel
=======
   "id": "04fec0a4",
>>>>>>> c9ed93f2a6d5e87fe6759d6fd26c06823f77f3f2
=======
   "id": "382a9312",
>>>>>>> documentation-devel
=======
   "id": "a67203b1",
>>>>>>> 487d062df8c9b8a19360e92edfd0678a37ff23f4
   "metadata": {
    "lines_to_next_cell": 0
   },
   "source": [
    "Some spots in the injury site with leukocyte infiltration have high total counts. Spatial autocorrelation of the total counts is apparent, which will be discussed in a later section of this vignette.\n",
    "\n",
    "Next we find number of genes detected per spot. The commented out line of code shows how to find the number of genes detected."
   ]
  },
  {
   "cell_type": "code",
   "execution_count": null,
<<<<<<< HEAD
<<<<<<< HEAD
<<<<<<< HEAD
<<<<<<< HEAD
<<<<<<< HEAD
   "id": "fa028d5e",
=======
   "id": "7724e9fe",
>>>>>>> documentation-devel
=======
   "id": "9b99ec8a",
>>>>>>> documentation-devel
=======
   "id": "3e08ae51",
>>>>>>> c9ed93f2a6d5e87fe6759d6fd26c06823f77f3f2
=======
   "id": "25427a9b",
>>>>>>> documentation-devel
=======
   "id": "bb6a01a3",
>>>>>>> 487d062df8c9b8a19360e92edfd0678a37ff23f4
   "metadata": {},
   "outputs": [],
   "source": [
    "# colData(sfe)$nGenes <- colSums(counts(sfe) > 0)\n",
    "violin <- plotColData(sfe, \"nGenes\", x = \"in_tissue\", colour_by = \"in_tissue\") +\n",
    "    theme(legend.position = \"top\")\n",
    "spatial <- plotSpatialFeature(sfe, \"nGenes\", colGeometryName = \"spotPoly\",\n",
    "                              annotGeometryName = \"tissueBoundary\",\n",
    "                              image = \"lowres\", maxcell = 5e4,\n",
    "                              annot_fixed = list(fill = NA, color = \"black\")) +\n",
    "    theme_void()\n",
    "violin + spatial"
   ]
  },
  {
   "cell_type": "markdown",
<<<<<<< HEAD
<<<<<<< HEAD
<<<<<<< HEAD
<<<<<<< HEAD
<<<<<<< HEAD
   "id": "d172a4e3",
=======
   "id": "ce742ae4",
>>>>>>> documentation-devel
=======
   "id": "6b8ae115",
>>>>>>> documentation-devel
=======
   "id": "6c1d0a54",
>>>>>>> c9ed93f2a6d5e87fe6759d6fd26c06823f77f3f2
=======
   "id": "5f82f26a",
>>>>>>> documentation-devel
=======
   "id": "280d7064",
>>>>>>> 487d062df8c9b8a19360e92edfd0678a37ff23f4
   "metadata": {
    "lines_to_next_cell": 0
   },
   "source": [
    "As commonly done for scRNA-seq data, here we plot nCounts vs. nGenes"
   ]
  },
  {
   "cell_type": "code",
   "execution_count": null,
<<<<<<< HEAD
<<<<<<< HEAD
<<<<<<< HEAD
<<<<<<< HEAD
<<<<<<< HEAD
   "id": "3777d565",
=======
   "id": "ed52b84e",
>>>>>>> documentation-devel
=======
   "id": "a04101f9",
>>>>>>> documentation-devel
=======
   "id": "93b214b9",
>>>>>>> c9ed93f2a6d5e87fe6759d6fd26c06823f77f3f2
=======
   "id": "f7fda2a5",
>>>>>>> documentation-devel
=======
   "id": "d68a2468",
>>>>>>> 487d062df8c9b8a19360e92edfd0678a37ff23f4
   "metadata": {},
   "outputs": [],
   "source": [
    "plotColData(sfe, x = \"nCounts\", y = \"nGenes\", colour_by = \"in_tissue\")"
   ]
  },
  {
   "cell_type": "markdown",
<<<<<<< HEAD
<<<<<<< HEAD
<<<<<<< HEAD
<<<<<<< HEAD
<<<<<<< HEAD
   "id": "46dc4491",
=======
   "id": "7159f7e9",
>>>>>>> documentation-devel
=======
   "id": "4988c174",
>>>>>>> documentation-devel
=======
   "id": "c6d5dcb9",
>>>>>>> c9ed93f2a6d5e87fe6759d6fd26c06823f77f3f2
=======
   "id": "016717f4",
>>>>>>> documentation-devel
=======
   "id": "ef2dc15d",
>>>>>>> 487d062df8c9b8a19360e92edfd0678a37ff23f4
   "metadata": {
    "lines_to_next_cell": 0
   },
   "source": [
    "This plot has two branches for the spots in tissue, which turn out to be related to myofiber size. See [the exploratory spatial data analysis (ESDA) Visium vignette](https://pachterlab.github.io/voyager/articles/vig2_visium.html).\n",
    "\n",
    "As is commonly done for scRNA-seq data, we plot the proportion of mitochondrially encoded counts. The commented out code shows how to find this proportion:"
   ]
  },
  {
   "cell_type": "code",
   "execution_count": null,
<<<<<<< HEAD
<<<<<<< HEAD
<<<<<<< HEAD
<<<<<<< HEAD
<<<<<<< HEAD
   "id": "d5e9d465",
=======
   "id": "60034c8b",
>>>>>>> documentation-devel
=======
   "id": "d8205d95",
>>>>>>> documentation-devel
=======
   "id": "c29d9f28",
>>>>>>> c9ed93f2a6d5e87fe6759d6fd26c06823f77f3f2
=======
   "id": "3fb100e5",
>>>>>>> documentation-devel
=======
   "id": "9d18d974",
>>>>>>> 487d062df8c9b8a19360e92edfd0678a37ff23f4
   "metadata": {},
   "outputs": [],
   "source": [
    "# mito_ind <- str_detect(rowData(sfe)$symbol, \"^Mt-\")\n",
    "# colData(sfe)$prop_mito <- colSums(counts(sfe)[mito_ind,]) / colData(sfe)$nCounts\n",
    "violin <- plotColData(sfe, \"prop_mito\", x = \"in_tissue\", colour_by = \"in_tissue\") +\n",
    "    theme(legend.position = \"top\")\n",
    "spatial <- plotSpatialFeature(sfe, \"prop_mito\", colGeometryName = \"spotPoly\",\n",
    "                              annotGeometryName = \"tissueBoundary\",\n",
    "                              image = \"lowres\", maxcell = 5e4,\n",
    "                              annot_fixed = list(fill = NA, color = \"black\")) +\n",
    "    theme_void()\n",
    "violin + spatial"
   ]
  },
  {
   "cell_type": "markdown",
<<<<<<< HEAD
<<<<<<< HEAD
<<<<<<< HEAD
<<<<<<< HEAD
<<<<<<< HEAD
   "id": "58bd9166",
=======
   "id": "0fdd3ce5",
>>>>>>> documentation-devel
=======
   "id": "e15584cd",
>>>>>>> documentation-devel
=======
   "id": "f125c410",
>>>>>>> c9ed93f2a6d5e87fe6759d6fd26c06823f77f3f2
=======
   "id": "d614fa72",
>>>>>>> documentation-devel
=======
   "id": "75129b47",
>>>>>>> 487d062df8c9b8a19360e92edfd0678a37ff23f4
   "metadata": {
    "lines_to_next_cell": 0
   },
   "source": [
    "As expected, spots outside tissue have a higher proportion of mitochondrial counts, because when the tissue is lysed, mitochondrial transcripts are are less likely to degrade than cytosolic transcripts as they are protected by a double membrane. However, spots on myofibers also have a high proportion of mitochondrial counts, because of the function of myofibers. The injury site with leukocyte infiltration has a lower proportion of mitochondrial counts.\n",
    "\n",
    "To see the relationship between the proportion of mitochondrial counts and total UMI counts,  we plot them against each other as is commonly done in scRNA-seq analysis to identify low quality cells, i.e. cells with few UMI counts and a high proportion of mitochondrial counts."
   ]
  },
  {
   "cell_type": "code",
   "execution_count": null,
<<<<<<< HEAD
<<<<<<< HEAD
<<<<<<< HEAD
<<<<<<< HEAD
<<<<<<< HEAD
   "id": "d37a7740",
=======
   "id": "39a5b99b",
>>>>>>> documentation-devel
=======
   "id": "ceb840ab",
>>>>>>> documentation-devel
=======
   "id": "19c8abe8",
>>>>>>> c9ed93f2a6d5e87fe6759d6fd26c06823f77f3f2
=======
   "id": "be721f21",
>>>>>>> documentation-devel
=======
   "id": "17d3f434",
>>>>>>> 487d062df8c9b8a19360e92edfd0678a37ff23f4
   "metadata": {},
   "outputs": [],
   "source": [
    "plotColData(sfe, x = \"nCounts\", y = \"prop_mito\", colour_by = \"in_tissue\")"
   ]
  },
  {
   "cell_type": "markdown",
<<<<<<< HEAD
<<<<<<< HEAD
<<<<<<< HEAD
<<<<<<< HEAD
<<<<<<< HEAD
   "id": "8725e90f",
=======
   "id": "c1d47c7d",
>>>>>>> documentation-devel
=======
   "id": "811452e4",
>>>>>>> documentation-devel
=======
   "id": "0beab791",
>>>>>>> c9ed93f2a6d5e87fe6759d6fd26c06823f77f3f2
=======
   "id": "d1be894a",
>>>>>>> documentation-devel
=======
   "id": "2064c768",
>>>>>>> 487d062df8c9b8a19360e92edfd0678a37ff23f4
   "metadata": {
    "lines_to_next_cell": 0
   },
   "source": [
    "There are two clusters for the spots in tissue, which also turn out to be related to myofiber size. See the [ESDA Visium vignette](https://pachterlab.github.io/voyager/articles/vig2_visium.html). \n",
    "\n",
    "So far we haven't seen spots that are obvious outliers in these QC metrics.\n",
    "\n",
    "The following analyses only use spots in tissue, which are selected as follows:"
   ]
  },
  {
   "cell_type": "code",
   "execution_count": null,
<<<<<<< HEAD
<<<<<<< HEAD
<<<<<<< HEAD
<<<<<<< HEAD
<<<<<<< HEAD
   "id": "a4f50462",
=======
   "id": "4203df47",
>>>>>>> documentation-devel
=======
   "id": "39979de6",
>>>>>>> documentation-devel
=======
   "id": "c7ab643c",
>>>>>>> c9ed93f2a6d5e87fe6759d6fd26c06823f77f3f2
=======
   "id": "ba5292fe",
>>>>>>> documentation-devel
=======
   "id": "03ddffb1",
>>>>>>> 487d062df8c9b8a19360e92edfd0678a37ff23f4
   "metadata": {},
   "outputs": [],
   "source": [
    "sfe_tissue <- sfe[, colData(sfe)$in_tissue]\n",
    "sfe_tissue <- sfe_tissue[rowSums(counts(sfe_tissue)) > 0,]"
   ]
  },
  {
   "cell_type": "markdown",
<<<<<<< HEAD
<<<<<<< HEAD
<<<<<<< HEAD
<<<<<<< HEAD
<<<<<<< HEAD
   "id": "2115099a",
=======
   "id": "d44c0dc3",
>>>>>>> documentation-devel
=======
   "id": "55a1b2a2",
>>>>>>> documentation-devel
=======
   "id": "fa5fed56",
>>>>>>> c9ed93f2a6d5e87fe6759d6fd26c06823f77f3f2
=======
   "id": "e1ad218f",
>>>>>>> documentation-devel
=======
   "id": "90d33194",
>>>>>>> 487d062df8c9b8a19360e92edfd0678a37ff23f4
   "metadata": {
    "lines_to_next_cell": 0
   },
   "source": [
    "## Genes\n",
    "As in scRNA-seq, gene expression variance in Visium measurements is overdispersed compared to variance of counts that are Poisson distributed.\n",
    "\n",
    "To understand the mean-variance relationship, we compute the mean, variance, and coefficient of variance (CV2) for each gene among spots in tissue:"
   ]
  },
  {
   "cell_type": "code",
   "execution_count": null,
<<<<<<< HEAD
<<<<<<< HEAD
<<<<<<< HEAD
<<<<<<< HEAD
<<<<<<< HEAD
   "id": "6c3577b7",
=======
   "id": "8854c3b9",
>>>>>>> documentation-devel
=======
   "id": "ab1835b8",
>>>>>>> documentation-devel
=======
   "id": "730ebd99",
>>>>>>> c9ed93f2a6d5e87fe6759d6fd26c06823f77f3f2
=======
   "id": "3e5f49f0",
>>>>>>> documentation-devel
=======
   "id": "56badf6e",
>>>>>>> 487d062df8c9b8a19360e92edfd0678a37ff23f4
   "metadata": {},
   "outputs": [],
   "source": [
    "rowData(sfe_tissue)$means <- rowMeans(counts(sfe_tissue))\n",
    "rowData(sfe_tissue)$vars <- rowVars(counts(sfe_tissue))\n",
    "# Coefficient of variance\n",
    "rowData(sfe_tissue)$cv2 <- rowData(sfe_tissue)$vars/rowData(sfe_tissue)$means^2"
   ]
  },
  {
   "cell_type": "markdown",
<<<<<<< HEAD
<<<<<<< HEAD
<<<<<<< HEAD
<<<<<<< HEAD
<<<<<<< HEAD
   "id": "16f72e78",
=======
   "id": "58b04981",
>>>>>>> documentation-devel
=======
   "id": "70a2b499",
>>>>>>> documentation-devel
=======
   "id": "3ec9045b",
>>>>>>> c9ed93f2a6d5e87fe6759d6fd26c06823f77f3f2
=======
   "id": "ec715d79",
>>>>>>> documentation-devel
=======
   "id": "1429f669",
>>>>>>> 487d062df8c9b8a19360e92edfd0678a37ff23f4
   "metadata": {
    "lines_to_next_cell": 0
   },
   "source": [
    "To avoid overplotting and better show point density on the plot, we use a 2D histogram. The color of each bin indicates the number of points in that bin."
   ]
  },
  {
   "cell_type": "code",
   "execution_count": null,
<<<<<<< HEAD
<<<<<<< HEAD
<<<<<<< HEAD
<<<<<<< HEAD
<<<<<<< HEAD
   "id": "10c32588",
=======
   "id": "9940ac68",
>>>>>>> documentation-devel
=======
   "id": "35c1d258",
>>>>>>> documentation-devel
=======
   "id": "58cc82e6",
>>>>>>> c9ed93f2a6d5e87fe6759d6fd26c06823f77f3f2
=======
   "id": "e999cacb",
>>>>>>> documentation-devel
=======
   "id": "08a240f4",
>>>>>>> 487d062df8c9b8a19360e92edfd0678a37ff23f4
   "metadata": {},
   "outputs": [],
   "source": [
    "plotRowData(sfe, x = \"means\", y = \"vars\", bins = 50) +\n",
    "    geom_abline(slope = 1, intercept = 0, color = \"red\") +\n",
    "    scale_x_log10() + scale_y_log10() +\n",
    "    scale_fill_distiller(palette = \"Blues\", direction = 1) +\n",
    "    annotation_logticks() +\n",
    "    coord_equal()"
   ]
  },
  {
   "cell_type": "markdown",
<<<<<<< HEAD
<<<<<<< HEAD
<<<<<<< HEAD
<<<<<<< HEAD
<<<<<<< HEAD
   "id": "247a2f92",
=======
   "id": "eba25b0c",
>>>>>>> documentation-devel
=======
   "id": "c03871d6",
>>>>>>> documentation-devel
=======
   "id": "9bfdae83",
>>>>>>> c9ed93f2a6d5e87fe6759d6fd26c06823f77f3f2
=======
   "id": "0b4bc94f",
>>>>>>> documentation-devel
=======
   "id": "9281b49f",
>>>>>>> 487d062df8c9b8a19360e92edfd0678a37ff23f4
   "metadata": {},
   "source": [
    "The red line, $y = x$ is what is expected for Poisson distributed data, but we find that the variance is higher for more highly expressed genes than expected from Poisson distributed counts. The coefficient of variation shows the same."
   ]
  },
  {
   "cell_type": "code",
   "execution_count": null,
<<<<<<< HEAD
<<<<<<< HEAD
<<<<<<< HEAD
<<<<<<< HEAD
<<<<<<< HEAD
   "id": "30e52c63",
=======
   "id": "7ab450fa",
>>>>>>> documentation-devel
=======
   "id": "cb613eb6",
>>>>>>> documentation-devel
=======
   "id": "18cdd2b1",
>>>>>>> c9ed93f2a6d5e87fe6759d6fd26c06823f77f3f2
=======
   "id": "c0cf58af",
>>>>>>> documentation-devel
=======
   "id": "0ede8c0f",
>>>>>>> 487d062df8c9b8a19360e92edfd0678a37ff23f4
   "metadata": {},
   "outputs": [],
   "source": [
    "plotRowData(sfe, x = \"means\", y = \"cv2\", bins = 50) +\n",
    "    geom_abline(slope = -1, intercept = 0, color = \"red\") +\n",
    "    scale_x_log10() + scale_y_log10() +\n",
    "    scale_fill_distiller(palette = \"Blues\", direction = 1) +\n",
    "    annotation_logticks() +\n",
    "    coord_equal()"
   ]
  },
  {
   "cell_type": "markdown",
<<<<<<< HEAD
<<<<<<< HEAD
<<<<<<< HEAD
<<<<<<< HEAD
<<<<<<< HEAD
   "id": "e32bcdb7",
=======
   "id": "50d91d4c",
>>>>>>> documentation-devel
=======
   "id": "e628ce1c",
>>>>>>> documentation-devel
=======
   "id": "9217752a",
>>>>>>> c9ed93f2a6d5e87fe6759d6fd26c06823f77f3f2
=======
   "id": "f700942c",
>>>>>>> documentation-devel
=======
   "id": "50994308",
>>>>>>> 487d062df8c9b8a19360e92edfd0678a37ff23f4
   "metadata": {},
   "source": [
    "# Normalize data\n",
    "\n",
    "We demonstrate the use of `scater` for normalization below, although we note that it is not necessarily the best approach to normalizing spatial transcriptomics data. The problem of when and how to normalize spatial transcriptomics data is non-trivial because, as the `nCounts` plot in space shows above, spatial autocorrelation is evident. Furthemrore, in Visium, reverse transcription occurs in situ on the spots, but PCR amplification occurs after the cDNA is dissociated from the spots. Artifacts may be subsequently introduced from the amplification step, and these would not be associated with spatial origin. Spatial artifacts may arise from the diffusion of transcripts and tissue permeablization. However, given how the total counts seem to correspond to histological regions, the total counts may have a biological component and hence should not be treated as a technical artifact to be normalized away as in scRNA-seq data normalization methods. In other words, the issue of normalization for spatial transcriptomics data, and Visium in particular, is complex and is currently unsolved.\n",
    "\n",
    "There is no one way to normalize non-spatial scRNA-seq data. The commented out code implements the `scran` method [@Lun2016-yq]. To simplify the matter, we only perform `logNormCounts()` in this introductory vignette. \n",
    "\n",
    "Note that `scater`'s `logNormCounts()` is quite different from that in Seurat. Let $N$ denote the total UMI count in one Visium spot, $\\bar N$ the average total UMI count in all spots in this dataset, and $x$ denote the UMI count of one gene in the Visium spot of interest. Seurat performs log normalization as $\\mathrm{log}\\left( \\frac{x}{N/10000} + 1 \\right)$, where the natural log is used. In contrast, with default parameters, `scater` uses $\\mathrm{log_2}\\left( \\frac{x}{N/\\bar N} + 1 \\right)$. The pseudocount (default to 1), library size factors (default to $N/\\bar N$), and transform (default to log2) can be changed. Log 2 is used because differences in values can be interpreted as log fold change."
   ]
  },
  {
   "cell_type": "code",
   "execution_count": null,
<<<<<<< HEAD
<<<<<<< HEAD
<<<<<<< HEAD
<<<<<<< HEAD
<<<<<<< HEAD
   "id": "111e271b",
=======
   "id": "f4a5d29b",
>>>>>>> documentation-devel
=======
   "id": "9a6ba1e3",
>>>>>>> documentation-devel
=======
   "id": "61689ee0",
>>>>>>> c9ed93f2a6d5e87fe6759d6fd26c06823f77f3f2
=======
   "id": "0917fbc9",
>>>>>>> documentation-devel
=======
   "id": "a1746591",
>>>>>>> 487d062df8c9b8a19360e92edfd0678a37ff23f4
   "metadata": {},
   "outputs": [],
   "source": [
    "# clusters <- quickCluster(sfe_tissue)\n",
    "# sfe_tissue <- computeSumFactors(sfe_tissue, clusters=clusters)\n",
    "# sfe_tissue <- sfe_tissue[, sizeFactors(sfe_tissue) > 0]\n",
    "sfe_tissue <- logNormCounts(sfe_tissue)"
   ]
  },
  {
   "cell_type": "markdown",
<<<<<<< HEAD
<<<<<<< HEAD
<<<<<<< HEAD
<<<<<<< HEAD
<<<<<<< HEAD
   "id": "9acee484",
=======
   "id": "97be83ef",
>>>>>>> documentation-devel
=======
   "id": "4f69235e",
>>>>>>> documentation-devel
=======
   "id": "4c8b5f12",
>>>>>>> c9ed93f2a6d5e87fe6759d6fd26c06823f77f3f2
=======
   "id": "aa53514c",
>>>>>>> documentation-devel
=======
   "id": "a93ff9aa",
>>>>>>> 487d062df8c9b8a19360e92edfd0678a37ff23f4
   "metadata": {
    "lines_to_next_cell": 0
   },
   "source": [
    "Next, we identify highly variable genes (HVGs), which will be used for principal component analysis (PCA) dimensionality reduction. Again, there are different ways to identify HVGs, and `scater` does so differently from Seurat. In both frameworks, the log normalized data is used by default. In summary, in Seurat, with default parameters, a Loess curve is fitted to the log transformed data (the log normalized data is log transformed for fitting purposes), and the fitted values are exponentiated as the expected variance for each gene. Then the expected variance and the mean are used to standardize the log normalized gene expression; the standardized values are used to calculate a standardized variance for each gene. The top HVGs are the genes with the largest standardized variance.\n",
    "\n",
    "In `scater`, with default parameters, a parametric non-linear curve of variance vs. mean for each gene of the log normalized data. Then the log ratio of the actual variance to the fitted variance from the curve calculated, and a Loess curve is fitted to this log ratio vs. mean for each gene. The \"technical\" component of the variance is the fitted values from the Loess curve. The \"biological\" component is the difference between the actual variance and the Loess fitted variance. The top HVGs are genes with the largest biological component. See the documentation of `modelGeneVar()`, `fitTrendVar()`, and `getTopHVGs()` for more details.\n",
    "\n",
    "These differences can lead to different downstream results. While we don't comment on which way is better in this vignette, it's important to be aware of such differences."
   ]
  },
  {
   "cell_type": "code",
   "execution_count": null,
<<<<<<< HEAD
<<<<<<< HEAD
<<<<<<< HEAD
<<<<<<< HEAD
<<<<<<< HEAD
   "id": "d4aad527",
=======
   "id": "4c18eea0",
>>>>>>> documentation-devel
=======
   "id": "2cfa6249",
>>>>>>> documentation-devel
=======
   "id": "7c2df7fe",
>>>>>>> c9ed93f2a6d5e87fe6759d6fd26c06823f77f3f2
=======
   "id": "a58f7c5f",
>>>>>>> documentation-devel
=======
   "id": "f00a2154",
>>>>>>> 487d062df8c9b8a19360e92edfd0678a37ff23f4
   "metadata": {},
   "outputs": [],
   "source": [
    "dec <- modelGeneVar(sfe_tissue)\n",
    "hvgs <- getTopHVGs(dec, n = 2000)"
   ]
  },
  {
   "cell_type": "markdown",
<<<<<<< HEAD
<<<<<<< HEAD
<<<<<<< HEAD
<<<<<<< HEAD
<<<<<<< HEAD
   "id": "d89496c2",
=======
   "id": "ab6fb50b",
>>>>>>> documentation-devel
=======
   "id": "84c331f0",
>>>>>>> documentation-devel
=======
   "id": "02fdfa36",
>>>>>>> c9ed93f2a6d5e87fe6759d6fd26c06823f77f3f2
=======
   "id": "1f7aed9d",
>>>>>>> documentation-devel
=======
   "id": "eaebbf27",
>>>>>>> 487d062df8c9b8a19360e92edfd0678a37ff23f4
   "metadata": {
    "lines_to_next_cell": 0
   },
   "source": [
    "# Dimension reduction and clustering"
   ]
  },
  {
   "cell_type": "code",
   "execution_count": null,
<<<<<<< HEAD
<<<<<<< HEAD
<<<<<<< HEAD
<<<<<<< HEAD
<<<<<<< HEAD
   "id": "22d5ddd9",
=======
   "id": "4d1e3bc4",
>>>>>>> documentation-devel
=======
   "id": "95f3fd3e",
>>>>>>> documentation-devel
=======
   "id": "74a150e6",
>>>>>>> c9ed93f2a6d5e87fe6759d6fd26c06823f77f3f2
=======
   "id": "fd9a7e20",
>>>>>>> documentation-devel
=======
   "id": "336a4e33",
>>>>>>> 487d062df8c9b8a19360e92edfd0678a37ff23f4
   "metadata": {},
   "outputs": [],
   "source": [
    "sfe_tissue <- runPCA(sfe_tissue, ncomponents = 30, subset_row = hvgs,\n",
    "                     scale = TRUE) # scale as in Seurat"
   ]
  },
  {
   "cell_type": "code",
   "execution_count": null,
<<<<<<< HEAD
<<<<<<< HEAD
<<<<<<< HEAD
<<<<<<< HEAD
<<<<<<< HEAD
   "id": "7f402143",
=======
   "id": "05a95cdf",
>>>>>>> documentation-devel
=======
   "id": "5efcf222",
>>>>>>> documentation-devel
=======
   "id": "164268f8",
>>>>>>> c9ed93f2a6d5e87fe6759d6fd26c06823f77f3f2
=======
   "id": "30032d81",
>>>>>>> documentation-devel
=======
   "id": "147c85fe",
>>>>>>> 487d062df8c9b8a19360e92edfd0678a37ff23f4
   "metadata": {},
   "outputs": [],
   "source": [
    "ElbowPlot(sfe_tissue, ndims = 30)"
   ]
  },
  {
   "cell_type": "code",
   "execution_count": null,
<<<<<<< HEAD
<<<<<<< HEAD
<<<<<<< HEAD
<<<<<<< HEAD
<<<<<<< HEAD
   "id": "970da656",
=======
   "id": "7f016085",
>>>>>>> documentation-devel
=======
   "id": "2e83fef3",
>>>>>>> documentation-devel
=======
   "id": "2e6c00c4",
>>>>>>> c9ed93f2a6d5e87fe6759d6fd26c06823f77f3f2
=======
   "id": "9c8164d2",
>>>>>>> documentation-devel
=======
   "id": "65c1b0b0",
>>>>>>> 487d062df8c9b8a19360e92edfd0678a37ff23f4
   "metadata": {},
   "outputs": [],
   "source": [
    "plotDimLoadings(sfe_tissue, dims = 1:4, swap_rownames = \"symbol\")"
   ]
  },
  {
   "cell_type": "markdown",
<<<<<<< HEAD
<<<<<<< HEAD
<<<<<<< HEAD
<<<<<<< HEAD
<<<<<<< HEAD
   "id": "5d5af116",
=======
   "id": "c944b00b",
>>>>>>> documentation-devel
=======
   "id": "a1e01c9c",
>>>>>>> documentation-devel
=======
   "id": "424b2b86",
>>>>>>> c9ed93f2a6d5e87fe6759d6fd26c06823f77f3f2
=======
   "id": "b55e1926",
>>>>>>> documentation-devel
=======
   "id": "b5937cf0",
>>>>>>> 487d062df8c9b8a19360e92edfd0678a37ff23f4
   "metadata": {
    "lines_to_next_cell": 0
   },
   "source": [
    "Do the clustering to show on the dimension reduction plots"
   ]
  },
  {
   "cell_type": "code",
   "execution_count": null,
<<<<<<< HEAD
<<<<<<< HEAD
<<<<<<< HEAD
<<<<<<< HEAD
<<<<<<< HEAD
   "id": "2c317fd6",
=======
   "id": "59a48bc8",
>>>>>>> documentation-devel
=======
   "id": "5d707afa",
>>>>>>> documentation-devel
=======
   "id": "a3a175bf",
>>>>>>> c9ed93f2a6d5e87fe6759d6fd26c06823f77f3f2
=======
   "id": "2b78d170",
>>>>>>> documentation-devel
=======
   "id": "89869d86",
>>>>>>> 487d062df8c9b8a19360e92edfd0678a37ff23f4
   "metadata": {},
   "outputs": [],
   "source": [
    "colData(sfe_tissue)$cluster <- clusterRows(reducedDim(sfe_tissue, \"PCA\")[,1:3],\n",
    "                                           BLUSPARAM = SNNGraphParam(\n",
    "                                               cluster.fun = \"leiden\",\n",
    "                                               cluster.args = list(\n",
    "                                                   resolution_parameter = 0.5,\n",
    "                                                   objective_function = \"modularity\")))"
   ]
  },
  {
   "cell_type": "code",
   "execution_count": null,
<<<<<<< HEAD
<<<<<<< HEAD
<<<<<<< HEAD
<<<<<<< HEAD
<<<<<<< HEAD
   "id": "d7c052bf",
=======
   "id": "e703b192",
>>>>>>> documentation-devel
=======
   "id": "eeab1701",
>>>>>>> documentation-devel
=======
   "id": "309014a2",
>>>>>>> c9ed93f2a6d5e87fe6759d6fd26c06823f77f3f2
=======
   "id": "891964f5",
>>>>>>> documentation-devel
=======
   "id": "a4771f4e",
>>>>>>> 487d062df8c9b8a19360e92edfd0678a37ff23f4
   "metadata": {
    "fig.height": 6,
    "fig.width": 7
   },
   "outputs": [],
   "source": [
    "plotPCA(sfe_tissue, ncomponents = 3, colour_by = \"cluster\")"
   ]
  },
  {
   "cell_type": "markdown",
<<<<<<< HEAD
<<<<<<< HEAD
<<<<<<< HEAD
<<<<<<< HEAD
<<<<<<< HEAD
   "id": "fe623853",
=======
   "id": "98702be7",
>>>>>>> documentation-devel
=======
   "id": "fbb8cd98",
>>>>>>> documentation-devel
=======
   "id": "87247ce9",
>>>>>>> c9ed93f2a6d5e87fe6759d6fd26c06823f77f3f2
=======
   "id": "b72ad8b5",
>>>>>>> documentation-devel
=======
   "id": "33deebd0",
>>>>>>> 487d062df8c9b8a19360e92edfd0678a37ff23f4
   "metadata": {
    "lines_to_next_cell": 0
   },
   "source": [
    "The principal components (PCs) can be plotted in space. Due to spatial autocorrelation of many genes and spatial regions of different histological characters, even though spatial information is not used in the PCA procedure, the PCs may show spatial structure. "
   ]
  },
  {
   "cell_type": "code",
   "execution_count": null,
<<<<<<< HEAD
<<<<<<< HEAD
<<<<<<< HEAD
<<<<<<< HEAD
<<<<<<< HEAD
   "id": "e9d02748",
=======
   "id": "972c662e",
>>>>>>> documentation-devel
=======
   "id": "8480ca86",
>>>>>>> documentation-devel
=======
   "id": "06104f44",
>>>>>>> c9ed93f2a6d5e87fe6759d6fd26c06823f77f3f2
=======
   "id": "1182359c",
>>>>>>> documentation-devel
=======
   "id": "3fae2fa0",
>>>>>>> 487d062df8c9b8a19360e92edfd0678a37ff23f4
   "metadata": {
    "fig.height": 8,
    "fig.width": 6
   },
   "outputs": [],
   "source": [
    "spatialReducedDim(sfe_tissue, \"PCA\", ncomponents = 4, \n",
    "                  colGeometryName = \"spotPoly\", divergent = TRUE, \n",
    "                  diverge_center = 0, image = \"lowres\", maxcell = 5e4)"
   ]
  },
  {
   "cell_type": "markdown",
<<<<<<< HEAD
<<<<<<< HEAD
<<<<<<< HEAD
<<<<<<< HEAD
<<<<<<< HEAD
   "id": "c387e3f7",
=======
   "id": "7b5ad56a",
>>>>>>> documentation-devel
=======
   "id": "212082a5",
>>>>>>> documentation-devel
=======
   "id": "f1d8bdcd",
>>>>>>> c9ed93f2a6d5e87fe6759d6fd26c06823f77f3f2
=======
   "id": "b7d290e4",
>>>>>>> documentation-devel
=======
   "id": "8940d286",
>>>>>>> 487d062df8c9b8a19360e92edfd0678a37ff23f4
   "metadata": {
    "lines_to_next_cell": 0
   },
   "source": [
    "PC1, which explains far more variance than PC2, separates the injury site leukocytes and myofibers close to the site from the Visium myofibers. PC2 highlights the center of the injury site and some myofibers near the edge. PC3 highlights the muscle tendon junctions. PC4 does not seem to be informative; it might have picked up an outlier.\n",
    "\n",
    "It is also possible to run UMAP following the PCA, as is done for scRNA-seq. We do not recommend producing a UMAP since the procedure distorts distances, and does not respect either local or global structure in the data [@Chari2021-hb]. However, for completeness, we show how to compute a UMAP below:"
   ]
  },
  {
   "cell_type": "code",
   "execution_count": null,
<<<<<<< HEAD
<<<<<<< HEAD
<<<<<<< HEAD
<<<<<<< HEAD
<<<<<<< HEAD
   "id": "0a9b4a54",
=======
   "id": "1f7ca704",
>>>>>>> documentation-devel
=======
   "id": "7b1a86af",
>>>>>>> documentation-devel
=======
   "id": "36fa840b",
>>>>>>> c9ed93f2a6d5e87fe6759d6fd26c06823f77f3f2
=======
   "id": "ff1fe348",
>>>>>>> documentation-devel
=======
   "id": "e1a7cbb1",
>>>>>>> 487d062df8c9b8a19360e92edfd0678a37ff23f4
   "metadata": {},
   "outputs": [],
   "source": [
    "set.seed(29)\n",
    "sfe_tissue <- runUMAP(sfe_tissue, dimred = \"PCA\", n_dimred = 3)"
   ]
  },
  {
   "cell_type": "code",
   "execution_count": null,
<<<<<<< HEAD
<<<<<<< HEAD
<<<<<<< HEAD
<<<<<<< HEAD
<<<<<<< HEAD
   "id": "441c491f",
=======
   "id": "9b14a465",
>>>>>>> documentation-devel
=======
   "id": "df06a1f2",
>>>>>>> documentation-devel
=======
   "id": "7ace8497",
>>>>>>> c9ed93f2a6d5e87fe6759d6fd26c06823f77f3f2
=======
   "id": "66c314a6",
>>>>>>> documentation-devel
=======
   "id": "c9bb3c77",
>>>>>>> 487d062df8c9b8a19360e92edfd0678a37ff23f4
   "metadata": {},
   "outputs": [],
   "source": [
    "plotUMAP(sfe_tissue, colour_by = \"cluster\")"
   ]
  },
  {
   "cell_type": "markdown",
<<<<<<< HEAD
<<<<<<< HEAD
<<<<<<< HEAD
<<<<<<< HEAD
<<<<<<< HEAD
   "id": "9841f7c0",
=======
   "id": "f205d6ef",
>>>>>>> documentation-devel
=======
   "id": "09620321",
>>>>>>> documentation-devel
=======
   "id": "cf156ab1",
>>>>>>> c9ed93f2a6d5e87fe6759d6fd26c06823f77f3f2
=======
   "id": "543b347a",
>>>>>>> documentation-devel
=======
   "id": "0dbb6510",
>>>>>>> 487d062df8c9b8a19360e92edfd0678a37ff23f4
   "metadata": {},
   "source": [
    "UMAP is often used to visualize clusters. An alternative to UMAP is [`concordex`](https://bioconductor.org/packages/devel/bioc/html/concordexR.html), which quantitatively shows the proportion of neighbors on the k nearest neighbor graph with the same cluster label. To be consistent with the default in igraph Leiden clustering, we use k = 10."
   ]
  },
  {
   "cell_type": "code",
   "execution_count": null,
<<<<<<< HEAD
<<<<<<< HEAD
<<<<<<< HEAD
<<<<<<< HEAD
<<<<<<< HEAD
   "id": "f176b177",
=======
   "id": "fd8e944d",
>>>>>>> documentation-devel
=======
   "id": "1cf740cb",
>>>>>>> documentation-devel
=======
   "id": "5c6802f1",
>>>>>>> c9ed93f2a6d5e87fe6759d6fd26c06823f77f3f2
=======
   "id": "6650efdd",
>>>>>>> documentation-devel
=======
   "id": "c23da74b",
>>>>>>> 487d062df8c9b8a19360e92edfd0678a37ff23f4
   "metadata": {},
   "outputs": [],
   "source": [
    "res <- calculateConcordex(sfe_tissue, labels = sfe_tissue$cluster, \n",
    "                          n_neighbors = 18,\n",
    "                          BLUSPARAM = SNNGraphParam(\n",
    "                              cluster.fun = \"leiden\",\n",
    "                              cluster.args = list(\n",
    "                                  resolution_parameter = 0.5,\n",
    "                                  objective_function = \"modularity\")))"
   ]
  },
  {
   "cell_type": "markdown",
<<<<<<< HEAD
<<<<<<< HEAD
<<<<<<< HEAD
<<<<<<< HEAD
<<<<<<< HEAD
   "id": "a9a53efe",
=======
   "id": "c3adb85d",
>>>>>>> documentation-devel
=======
   "id": "78ef0ae7",
>>>>>>> documentation-devel
=======
   "id": "59c1404b",
>>>>>>> c9ed93f2a6d5e87fe6759d6fd26c06823f77f3f2
=======
   "id": "26e57b31",
>>>>>>> documentation-devel
=======
   "id": "4b08b7b3",
>>>>>>> 487d062df8c9b8a19360e92edfd0678a37ff23f4
   "metadata": {
    "lines_to_next_cell": 0
   },
   "source": [
    "The result is a neighborhood consolidation matrix which can help finding spatial regions, see the [concordex paper](https://www.biorxiv.org/content/10.1101/2023.06.28.546949v2). The heatmap here shows the proportion of the spatial neighborhood (k nearest neighbors with k = 18 here for 2nd order neighbors on the hexagonal array) of each spot that belongs to a given gene expression based cluster; this matrix shown in this heatmap is then clustered "
   ]
  },
  {
   "cell_type": "code",
   "execution_count": null,
<<<<<<< HEAD
<<<<<<< HEAD
<<<<<<< HEAD
<<<<<<< HEAD
<<<<<<< HEAD
   "id": "4ede7a07",
=======
   "id": "81466543",
>>>>>>> documentation-devel
=======
   "id": "4894a8c6",
>>>>>>> documentation-devel
=======
   "id": "10c647bc",
>>>>>>> c9ed93f2a6d5e87fe6759d6fd26c06823f77f3f2
=======
   "id": "044a1a81",
>>>>>>> documentation-devel
=======
   "id": "05837b4a",
>>>>>>> 487d062df8c9b8a19360e92edfd0678a37ff23f4
   "metadata": {},
   "outputs": [],
   "source": [
    "pheatmap(res)"
   ]
  },
  {
   "cell_type": "code",
   "execution_count": null,
<<<<<<< HEAD
<<<<<<< HEAD
<<<<<<< HEAD
<<<<<<< HEAD
<<<<<<< HEAD
   "id": "eb6ab89b",
=======
   "id": "c7b323d2",
>>>>>>> documentation-devel
=======
   "id": "057ea974",
>>>>>>> documentation-devel
=======
   "id": "e1348a5e",
>>>>>>> c9ed93f2a6d5e87fe6759d6fd26c06823f77f3f2
=======
   "id": "07721ffa",
>>>>>>> documentation-devel
=======
   "id": "2121e494",
>>>>>>> 487d062df8c9b8a19360e92edfd0678a37ff23f4
   "metadata": {},
   "outputs": [],
   "source": [
    "sfe_tissue$concordex <- attr(res, \"shrs\")"
   ]
  },
  {
   "cell_type": "code",
   "execution_count": null,
<<<<<<< HEAD
<<<<<<< HEAD
<<<<<<< HEAD
<<<<<<< HEAD
<<<<<<< HEAD
   "id": "7cdb26a7",
=======
   "id": "c881d746",
>>>>>>> documentation-devel
=======
   "id": "71f51885",
>>>>>>> documentation-devel
=======
   "id": "8522b1db",
>>>>>>> c9ed93f2a6d5e87fe6759d6fd26c06823f77f3f2
=======
   "id": "a59a35bd",
>>>>>>> documentation-devel
=======
   "id": "d1e5700c",
>>>>>>> 487d062df8c9b8a19360e92edfd0678a37ff23f4
   "metadata": {},
   "outputs": [],
   "source": [
    "plotSpatialFeature(sfe_tissue, \"concordex\", image = \"lowres\", maxcell = 5e4)"
   ]
  },
  {
   "cell_type": "markdown",
<<<<<<< HEAD
<<<<<<< HEAD
<<<<<<< HEAD
<<<<<<< HEAD
<<<<<<< HEAD
   "id": "3302c0a1",
=======
   "id": "9034646a",
>>>>>>> documentation-devel
=======
   "id": "9868641e",
>>>>>>> documentation-devel
=======
   "id": "449d2a87",
>>>>>>> c9ed93f2a6d5e87fe6759d6fd26c06823f77f3f2
=======
   "id": "f71b192b",
>>>>>>> documentation-devel
=======
   "id": "5d13025a",
>>>>>>> 487d062df8c9b8a19360e92edfd0678a37ff23f4
   "metadata": {
    "lines_to_next_cell": 0
   },
   "source": [
    "Also plot the clusters that did not use spatial information here"
   ]
  },
  {
   "cell_type": "code",
   "execution_count": null,
<<<<<<< HEAD
<<<<<<< HEAD
<<<<<<< HEAD
<<<<<<< HEAD
<<<<<<< HEAD
   "id": "006fe770",
=======
   "id": "21dfecb9",
>>>>>>> documentation-devel
=======
   "id": "d5c49f49",
>>>>>>> documentation-devel
=======
   "id": "6483c6db",
>>>>>>> c9ed93f2a6d5e87fe6759d6fd26c06823f77f3f2
=======
   "id": "c1ca4e3f",
>>>>>>> documentation-devel
=======
   "id": "ea38b40f",
>>>>>>> 487d062df8c9b8a19360e92edfd0678a37ff23f4
   "metadata": {},
   "outputs": [],
   "source": [
    "plotSpatialFeature(sfe_tissue, \"cluster\", colGeometryName = \"spotPoly\",\n",
    "                   image = \"lowres\")"
   ]
  },
  {
   "cell_type": "markdown",
<<<<<<< HEAD
<<<<<<< HEAD
<<<<<<< HEAD
<<<<<<< HEAD
<<<<<<< HEAD
   "id": "93d3f8e2",
=======
   "id": "1681fe3c",
>>>>>>> documentation-devel
=======
   "id": "860ca461",
>>>>>>> documentation-devel
=======
   "id": "681d08ba",
>>>>>>> c9ed93f2a6d5e87fe6759d6fd26c06823f77f3f2
=======
   "id": "042ef639",
>>>>>>> documentation-devel
=======
   "id": "515eca25",
>>>>>>> 487d062df8c9b8a19360e92edfd0678a37ff23f4
   "metadata": {
    "lines_to_next_cell": 0
   },
   "source": [
    "While spatial information is not explicitly used in clustering, due to spatial autocorrelation of gene expression and the histological regions, some of these clusters are spatially contiguous. There are many methods to find spatially informed clusters, such as [`BayesSpace`](https://bioconductor.org/packages/release/bioc/html/BayesSpace.html) [@Zhao2021-vb], which is on Bioconductor.\n",
    "\n",
    "Remark on spatial regions: In geographical space, there is usually no one single way to define spatial regions. For example, influenced by both sociology and geology, LA county can be partitioned into regions such as Eastside, Westside, South Central, San Fernado Valley, San Gabriel Valley, Pomona Valley, Gateway Cities, South Bay, and etc., each containing multiple smaller cities or parts of LA City, each of which can be further divided into many neighborhoods, such as Koreatown, Highland Park, Lincoln Heights, and etc. Definitions of some of these regions are subject to dispute. Meanwhile, LA county can also be partitioned into watersheds of the LA River, San Gabriel River, Ballona Creek, and etc., as well as different rock formations. Which kind of spatial region at which resolution is relevant depends on the question being asked. There are also gray areas in spatial regions. For example, the Whittier Narrows dam intercepts both the San Gabriel River and Rio Hondo (a large tributary of the LA River), so whether the dam area belongs to the watershed of San Gabriel River or LA River is unclear. \n",
    "\n",
    "Similarly, in spatial transcriptomics, while methods identifying spatial regions currently generally only aim to give one result, multiple results at different resolutions depending on the question asked may be relevant. Furthermore, methods for spatial region demarcation to be used for spatial -omics would ideally provide uncertainty assessments for assignment of cells or Visium spots. An existing geospatial method that accounts for such uncertainty is [`geocmeans`](https://cran.r-project.org/web/packages/geocmeans/) [@Zhao2013-tw], which is on CRAN.\n",
    "\n",
    "In both the geographical and histological space, there conflicting views on spatial variation. On the one hand, methods that identify spatially variable genes such as SpatialDE often assume that gene expression vary smoothly and continuously in space. On the other hand, methods identifying spatial regions attempt to identify discrete regions. The continuous variation in features might be why definitions of geographical neighborhoods are often subject to dispute. Some existing methods attempt to harmonize the two views. For example, the spatially variable gene method [`belayer`](https://github.com/raphael-group/belayer) [@Ma2022-dc] takes discrete tissue layers into account.\n",
    "\n",
    "# Non-spatial differential expression\n",
    "Cluster marker genes can be found using differential analysis methods as is commonly done for scRNA-seq. Below is an example with the Wilcoxon rank sum test:"
   ]
  },
  {
   "cell_type": "code",
   "execution_count": null,
<<<<<<< HEAD
<<<<<<< HEAD
<<<<<<< HEAD
<<<<<<< HEAD
<<<<<<< HEAD
   "id": "64797e06",
=======
   "id": "1c31f0b9",
>>>>>>> documentation-devel
=======
   "id": "d3938b3f",
>>>>>>> documentation-devel
=======
   "id": "616f0c26",
>>>>>>> c9ed93f2a6d5e87fe6759d6fd26c06823f77f3f2
=======
   "id": "a36fd716",
>>>>>>> documentation-devel
=======
   "id": "cd91a4fa",
>>>>>>> 487d062df8c9b8a19360e92edfd0678a37ff23f4
   "metadata": {},
   "outputs": [],
   "source": [
    "markers <- findMarkers(sfe_tissue, groups = colData(sfe_tissue)$cluster,\n",
    "                       test.type = \"wilcox\", pval.type = \"all\", direction = \"up\")"
   ]
  },
  {
   "cell_type": "markdown",
<<<<<<< HEAD
<<<<<<< HEAD
<<<<<<< HEAD
<<<<<<< HEAD
<<<<<<< HEAD
   "id": "7f2e38a7",
=======
   "id": "560114c8",
>>>>>>> documentation-devel
=======
   "id": "84aa3c04",
>>>>>>> documentation-devel
=======
   "id": "c458ddc4",
>>>>>>> c9ed93f2a6d5e87fe6759d6fd26c06823f77f3f2
=======
   "id": "c8f1e1eb",
>>>>>>> documentation-devel
=======
   "id": "798f266b",
>>>>>>> 487d062df8c9b8a19360e92edfd0678a37ff23f4
   "metadata": {
    "lines_to_next_cell": 0
   },
   "source": [
    "The result is sorted by p-values:"
   ]
  },
  {
   "cell_type": "code",
   "execution_count": null,
<<<<<<< HEAD
<<<<<<< HEAD
<<<<<<< HEAD
<<<<<<< HEAD
<<<<<<< HEAD
   "id": "c46621d9",
=======
   "id": "87800418",
>>>>>>> documentation-devel
=======
   "id": "ee974553",
>>>>>>> documentation-devel
=======
   "id": "5089150c",
>>>>>>> c9ed93f2a6d5e87fe6759d6fd26c06823f77f3f2
=======
   "id": "d8944978",
>>>>>>> documentation-devel
=======
   "id": "a486b682",
>>>>>>> 487d062df8c9b8a19360e92edfd0678a37ff23f4
   "metadata": {},
   "outputs": [],
   "source": [
    "markers[[1]]"
   ]
  },
  {
   "cell_type": "markdown",
<<<<<<< HEAD
<<<<<<< HEAD
<<<<<<< HEAD
<<<<<<< HEAD
<<<<<<< HEAD
   "id": "096afc03",
=======
   "id": "191b9ee0",
>>>>>>> documentation-devel
=======
   "id": "abfc1078",
>>>>>>> documentation-devel
=======
   "id": "e6de3cd4",
>>>>>>> c9ed93f2a6d5e87fe6759d6fd26c06823f77f3f2
=======
   "id": "84481bf8",
>>>>>>> documentation-devel
=======
   "id": "7e93c495",
>>>>>>> 487d062df8c9b8a19360e92edfd0678a37ff23f4
   "metadata": {
    "lines_to_next_cell": 0
   },
   "source": [
    "We can use the [gget enrichr](https://pachterlab.github.io/gget/enrichr.html) module from the [gget](https://pachterlab.github.io/gget/) package to perform a gene enrichment analysis. You can choose from >200 enrichment databases which are listed on the [Enrichr website](https://maayanlab.cloud/Enrichr/#libraries). Here, we are analyzing the top 20 genes for cluster 1 using the default ontology database [GO_Biological_Process_2021](http://geneontology.org/):"
   ]
  },
  {
   "cell_type": "code",
   "execution_count": null,
<<<<<<< HEAD
<<<<<<< HEAD
<<<<<<< HEAD
<<<<<<< HEAD
<<<<<<< HEAD
   "id": "9b798a71",
=======
   "id": "ebe3dc5c",
>>>>>>> documentation-devel
=======
   "id": "aa51d564",
>>>>>>> documentation-devel
=======
   "id": "305d747e",
>>>>>>> c9ed93f2a6d5e87fe6759d6fd26c06823f77f3f2
=======
   "id": "34203c3c",
>>>>>>> documentation-devel
=======
   "id": "6cab2d55",
>>>>>>> 487d062df8c9b8a19360e92edfd0678a37ff23f4
   "metadata": {
    "eval": false
   },
   "outputs": [],
   "source": [
    "enrichr_genes <- rownames(markers[[1]])[1:20]\n",
    "gget_e <- gget$enrichr(enrichr_genes, ensembl=TRUE, database = \"ontology\")\n",
    "\n",
    "# Plot results of gene enrichment analysis\n",
    "# Count number of overlapping genes\n",
    "gget_e$overlapping_genes_count <- lapply(gget_e$overlapping_genes, length) |> as.numeric()\n",
    "# Only keep the top 10 results\n",
    "gget_e <- gget_e[1:10,]\n",
    "gget_e |>\n",
    "    ggplot() +\n",
    "    geom_bar(aes(\n",
    "        x = -log10(adj_p_val),\n",
    "        y = reorder(path_name, -adj_p_val)\n",
    "    ),\n",
    "    stat = \"identity\",\n",
    "  \tfill = \"lightgrey\",\n",
    "  \twidth = 0.5,\n",
    "    color = \"black\") +\n",
    "    geom_text(\n",
    "        aes(\n",
    "            y = path_name,\n",
    "            x = (-log10(adj_p_val)),\n",
    "            label = overlapping_genes_count\n",
    "        ),\n",
    "        nudge_x = 0.25,\n",
    "        show.legend = NA,\n",
    "        color = \"red\"\n",
    "    ) +\n",
    "  \tgeom_text(\n",
    "        aes(\n",
    "            y = Inf,\n",
    "            x = Inf,\n",
    "      \t\t\thjust = 1,\n",
    "      \t\t\tvjust = 1,\n",
    "            label = \"# of overlapping genes\"\n",
    "        ),\n",
    "        show.legend = NA,\n",
    "        size=4,\n",
    "        color = \"red\"\n",
    "    ) +\n",
    "    geom_vline(linetype = \"dashed\", linewidth = 0.5, xintercept = -log10(0.05)) +\n",
    "    ylab(\"Pathway name\") +\n",
    "    xlab(\"-log10(adjusted P value)\")"
   ]
  },
  {
   "cell_type": "markdown",
<<<<<<< HEAD
<<<<<<< HEAD
<<<<<<< HEAD
<<<<<<< HEAD
<<<<<<< HEAD
   "id": "978aac8b",
=======
   "id": "cd705407",
>>>>>>> documentation-devel
=======
   "id": "e7247611",
>>>>>>> documentation-devel
=======
   "id": "efee586b",
>>>>>>> c9ed93f2a6d5e87fe6759d6fd26c06823f77f3f2
=======
   "id": "27bcdfff",
>>>>>>> documentation-devel
=======
   "id": "8b9d9570",
>>>>>>> 487d062df8c9b8a19360e92edfd0678a37ff23f4
   "metadata": {
    "lines_to_next_cell": 0
   },
   "source": [
    "Significant markers for each cluster can be obtained as follows:"
   ]
  },
  {
   "cell_type": "code",
   "execution_count": null,
<<<<<<< HEAD
<<<<<<< HEAD
<<<<<<< HEAD
<<<<<<< HEAD
<<<<<<< HEAD
   "id": "ce3c7c7e",
=======
   "id": "b09f71c0",
>>>>>>> documentation-devel
=======
   "id": "a47559b2",
>>>>>>> documentation-devel
=======
   "id": "c94728c6",
>>>>>>> c9ed93f2a6d5e87fe6759d6fd26c06823f77f3f2
=======
   "id": "99e99709",
>>>>>>> documentation-devel
=======
   "id": "66eb0091",
>>>>>>> 487d062df8c9b8a19360e92edfd0678a37ff23f4
   "metadata": {},
   "outputs": [],
   "source": [
    "genes_use <- vapply(markers, function(x) rownames(x)[1], FUN.VALUE = character(1))\n",
    "plotExpression(sfe_tissue, rowData(sfe_tissue)[genes_use, \"symbol\"], x = \"cluster\",\n",
    "               colour_by = \"cluster\", swap_rownames = \"symbol\")"
   ]
  },
  {
   "cell_type": "markdown",
<<<<<<< HEAD
<<<<<<< HEAD
<<<<<<< HEAD
<<<<<<< HEAD
<<<<<<< HEAD
   "id": "656b4383",
=======
   "id": "34ef53cd",
>>>>>>> documentation-devel
=======
   "id": "d125f260",
>>>>>>> documentation-devel
=======
   "id": "b790261a",
>>>>>>> c9ed93f2a6d5e87fe6759d6fd26c06823f77f3f2
=======
   "id": "5c289dc8",
>>>>>>> documentation-devel
=======
   "id": "37e586bf",
>>>>>>> 487d062df8c9b8a19360e92edfd0678a37ff23f4
   "metadata": {
    "lines_to_next_cell": 0
   },
   "source": [
    "We'll use the module [gget info](https://pachterlab.github.io/gget/info.html) to get additional information on these genes, such as their descriptions, synonyms, transcripts and more from a collection of reference databases including [Ensembl](https://ensembl.org/), [UniProt](https://www.uniprot.org/), and [NCBI](https://www.ncbi.nlm.nih.gov/). Here, we are showing their gene descriptions from [NCBI](https://www.ncbi.nlm.nih.gov/):"
   ]
  },
  {
   "cell_type": "code",
   "execution_count": null,
<<<<<<< HEAD
<<<<<<< HEAD
<<<<<<< HEAD
<<<<<<< HEAD
<<<<<<< HEAD
   "id": "95f23fc2",
=======
   "id": "3fb78110",
>>>>>>> documentation-devel
=======
   "id": "bf5632ec",
>>>>>>> documentation-devel
=======
   "id": "6b8821ca",
>>>>>>> c9ed93f2a6d5e87fe6759d6fd26c06823f77f3f2
=======
   "id": "be643a5c",
>>>>>>> documentation-devel
=======
   "id": "baf00474",
>>>>>>> 487d062df8c9b8a19360e92edfd0678a37ff23f4
   "metadata": {
    "eval": false
   },
   "outputs": [],
   "source": [
    "gget_info <- gget$info(genes_use)\n",
    "\n",
    "rownames(gget_info) <- gget_info$primary_gene_name\n",
    "select(gget_info, ncbi_description)"
   ]
  },
  {
   "cell_type": "markdown",
<<<<<<< HEAD
<<<<<<< HEAD
<<<<<<< HEAD
<<<<<<< HEAD
<<<<<<< HEAD
   "id": "0c0f9c40",
=======
   "id": "02ac858f",
>>>>>>> documentation-devel
=======
   "id": "973709d8",
>>>>>>> documentation-devel
=======
   "id": "f1f4a922",
>>>>>>> c9ed93f2a6d5e87fe6759d6fd26c06823f77f3f2
=======
   "id": "0728443a",
>>>>>>> documentation-devel
=======
   "id": "8800e2f9",
>>>>>>> 487d062df8c9b8a19360e92edfd0678a37ff23f4
   "metadata": {
    "lines_to_next_cell": 0
   },
   "source": [
    "These genes are interesting to view in spatial context:"
   ]
  },
  {
   "cell_type": "code",
   "execution_count": null,
<<<<<<< HEAD
<<<<<<< HEAD
<<<<<<< HEAD
<<<<<<< HEAD
<<<<<<< HEAD
   "id": "d0223ac5",
=======
   "id": "26c6fd70",
>>>>>>> documentation-devel
=======
   "id": "60b2f9d8",
>>>>>>> documentation-devel
=======
   "id": "886b44e0",
>>>>>>> c9ed93f2a6d5e87fe6759d6fd26c06823f77f3f2
=======
   "id": "e954c943",
>>>>>>> documentation-devel
=======
   "id": "3dd0deee",
>>>>>>> 487d062df8c9b8a19360e92edfd0678a37ff23f4
   "metadata": {
    "fig.height": 7,
    "fig.width": 9
   },
   "outputs": [],
   "source": [
    "plotSpatialFeature(sfe_tissue, genes_use, colGeometryName = \"spotPoly\", ncol = 3,\n",
    "                   image = \"lowres\", maxcell = 5e4, swap_rownames = \"symbol\")"
   ]
  },
  {
   "cell_type": "markdown",
<<<<<<< HEAD
<<<<<<< HEAD
<<<<<<< HEAD
<<<<<<< HEAD
<<<<<<< HEAD
   "id": "573a7882",
=======
   "id": "68de404a",
>>>>>>> documentation-devel
=======
   "id": "5f47dd63",
>>>>>>> documentation-devel
=======
   "id": "71c4372a",
>>>>>>> c9ed93f2a6d5e87fe6759d6fd26c06823f77f3f2
=======
   "id": "84e0ad50",
>>>>>>> documentation-devel
=======
   "id": "737f3206",
>>>>>>> 487d062df8c9b8a19360e92edfd0678a37ff23f4
   "metadata": {
    "lines_to_next_cell": 0
   },
   "source": [
    "# Moran's I\n",
    "Tobler's first law of geography [@Tobler1970-hz] states that\n",
    "\n",
    "> Everything is related to everything else. But near things are more related than distant things.\n",
    "\n",
    "This observation motivates the examination of spatial autocorrelation. Positive spatial autocorrelation is evident when nearby things tend to be similar, such as that weather in Pasadena and downtown Los Angeles (as opposed to the weather in Pasadena and San Francisco). Negative spatial autocorrelation is evident when nearby things tend to be more dissimilar, like squares on a chessboard. Spatial autocorrelation can arise from an intrinsic process such as diffusion or communication by physical contact, or result from a covariate that has such an intrinsic process, or in areal data, when the areal units of observation are smaller than the scale of the spatial process.\n",
    "\n",
    "The most commonly used measure of spatial autocorrelation is Moran's I [@Moran1950-aq], defined as\n",
    "\n",
    "$$\n",
    "I = \\frac{n}{\\sum_{i=1}^n \\sum_{j=1}^n w_{ij}} \\frac{\\sum_{i=1}^n \\sum_{j=1}^n w_{ij} (x_i - \\bar{x})(x_j - \\bar{x})}{\\sum_{i=1}^n (x_i - \\bar{x})^2},\n",
    "$$\n",
    "\n",
    "where $n$ is the number of spots or locations, $i$ and $j$ are different locations, or spots in the Visium context, $x$ is a variable with values at each location, and $w_{ij}$ is a spatial weight, which can be inversely proportional to distance between spots or an indicator of whether two spots are neighbors, subject to various definitions of neighborhood and whether to normalize the number of neighbors. The [`spdep`](https://r-spatial.github.io/spdep/index.html) package uses the neighborhood.\n",
    "\n",
    "Moran's I is similar to the Pearson correlation between the value at each location and the average value at its neighbors (but not identical, see [@Lee2001-tm]). Just like Pearson correlation, Moran's I is generally bound between -1 and 1, where positive value indicates positive spatial autocorrelation and negative value indicates negative spatial autocorrelation. \n",
    "Spatial dependence analysis in `spdep` requires a spatial neighborhood graph. The graph for adjacent Visium spot can be found with"
   ]
  },
  {
   "cell_type": "code",
   "execution_count": null,
<<<<<<< HEAD
<<<<<<< HEAD
<<<<<<< HEAD
<<<<<<< HEAD
<<<<<<< HEAD
   "id": "5ae22e7e",
=======
   "id": "de01f473",
>>>>>>> documentation-devel
=======
   "id": "30885515",
>>>>>>> documentation-devel
=======
   "id": "913f9ff1",
>>>>>>> c9ed93f2a6d5e87fe6759d6fd26c06823f77f3f2
=======
   "id": "7050e538",
>>>>>>> documentation-devel
=======
   "id": "15a9f250",
>>>>>>> 487d062df8c9b8a19360e92edfd0678a37ff23f4
   "metadata": {},
   "outputs": [],
   "source": [
    "colGraph(sfe_tissue, \"visium\") <- findVisiumGraph(sfe_tissue)"
   ]
  },
  {
   "cell_type": "markdown",
<<<<<<< HEAD
<<<<<<< HEAD
<<<<<<< HEAD
<<<<<<< HEAD
<<<<<<< HEAD
   "id": "13ce6493",
=======
   "id": "671be19a",
>>>>>>> documentation-devel
=======
   "id": "0961c64c",
>>>>>>> documentation-devel
=======
   "id": "a117aa8e",
>>>>>>> c9ed93f2a6d5e87fe6759d6fd26c06823f77f3f2
=======
   "id": "c45e2b9c",
>>>>>>> documentation-devel
=======
   "id": "cdb1c060",
>>>>>>> 487d062df8c9b8a19360e92edfd0678a37ff23f4
   "metadata": {
    "lines_to_next_cell": 0
   },
   "source": [
    "We mentioned that spatial autocorrelation is apparent in total UMI counts. Here's what Moran's I shows:"
   ]
  },
  {
   "cell_type": "code",
   "execution_count": null,
<<<<<<< HEAD
<<<<<<< HEAD
<<<<<<< HEAD
<<<<<<< HEAD
<<<<<<< HEAD
   "id": "825776ee",
=======
   "id": "9f2ec624",
>>>>>>> documentation-devel
=======
   "id": "374cf909",
>>>>>>> documentation-devel
=======
   "id": "77099292",
>>>>>>> c9ed93f2a6d5e87fe6759d6fd26c06823f77f3f2
=======
   "id": "8ea09957",
>>>>>>> documentation-devel
=======
   "id": "6acdc979",
>>>>>>> 487d062df8c9b8a19360e92edfd0678a37ff23f4
   "metadata": {},
   "outputs": [],
   "source": [
    "calculateMoransI(t(colData(sfe_tissue)[,c(\"nCounts\", \"nGenes\")]), \n",
    "                 listw = colGraph(sfe_tissue, \"visium\"))"
   ]
  },
  {
   "cell_type": "markdown",
<<<<<<< HEAD
<<<<<<< HEAD
<<<<<<< HEAD
<<<<<<< HEAD
<<<<<<< HEAD
   "id": "3472f4a9",
=======
   "id": "5beb6e5c",
>>>>>>> documentation-devel
=======
   "id": "c8f510ee",
>>>>>>> documentation-devel
=======
   "id": "42c1f655",
>>>>>>> c9ed93f2a6d5e87fe6759d6fd26c06823f77f3f2
=======
   "id": "b9f56e74",
>>>>>>> documentation-devel
=======
   "id": "698835f2",
>>>>>>> 487d062df8c9b8a19360e92edfd0678a37ff23f4
   "metadata": {},
   "source": [
    "K means kurtosis. The positive values of Moran's I indicate positive spatial autocorrelation.\n",
    "\n",
    "## Spatially variable genes\n",
    "A spatially variable gene is a gene whose expression depends on spatial locations, rather than being spatially random, like salt grains spread on a soup. Spatially variable genes can be identified by spatial autocorrelation signatures, and sometimes Moran's I is used to compare and assess spatially variable genes identified with different methods. Below `BPPARAM` is used to paralelize the computation of Moran's I for 2000 highly variable genes, and 2 cores are used with the SNOW backend."
   ]
  },
  {
   "cell_type": "code",
   "execution_count": null,
<<<<<<< HEAD
<<<<<<< HEAD
<<<<<<< HEAD
<<<<<<< HEAD
<<<<<<< HEAD
   "id": "657cff5b",
=======
   "id": "49cd12da",
>>>>>>> documentation-devel
=======
   "id": "63874ff0",
>>>>>>> documentation-devel
=======
   "id": "3e79348d",
>>>>>>> c9ed93f2a6d5e87fe6759d6fd26c06823f77f3f2
=======
   "id": "e7d29ebd",
>>>>>>> documentation-devel
=======
   "id": "cf12a073",
>>>>>>> 487d062df8c9b8a19360e92edfd0678a37ff23f4
   "metadata": {},
   "outputs": [],
   "source": [
    "sfe_tissue <- runMoransI(sfe_tissue, features = hvgs, colGraphName = \"visium\",\n",
    "                         BPPARAM = SnowParam(2))"
   ]
  },
  {
   "cell_type": "markdown",
<<<<<<< HEAD
<<<<<<< HEAD
<<<<<<< HEAD
<<<<<<< HEAD
<<<<<<< HEAD
   "id": "535ef7a0",
=======
   "id": "d2166100",
>>>>>>> documentation-devel
=======
   "id": "758665a9",
>>>>>>> documentation-devel
=======
   "id": "e1b3812c",
>>>>>>> c9ed93f2a6d5e87fe6759d6fd26c06823f77f3f2
=======
   "id": "0ddfc7d5",
>>>>>>> documentation-devel
=======
   "id": "1ffee044",
>>>>>>> 487d062df8c9b8a19360e92edfd0678a37ff23f4
   "metadata": {
    "lines_to_next_cell": 0
   },
   "source": [
    "The results are stored in `rowData`"
   ]
  },
  {
   "cell_type": "code",
   "execution_count": null,
<<<<<<< HEAD
<<<<<<< HEAD
<<<<<<< HEAD
<<<<<<< HEAD
<<<<<<< HEAD
   "id": "f4a6dd01",
=======
   "id": "a06854ad",
>>>>>>> documentation-devel
=======
   "id": "6a6f32b3",
>>>>>>> documentation-devel
=======
   "id": "857202ab",
>>>>>>> c9ed93f2a6d5e87fe6759d6fd26c06823f77f3f2
=======
   "id": "c83bb717",
>>>>>>> documentation-devel
=======
   "id": "af44d483",
>>>>>>> 487d062df8c9b8a19360e92edfd0678a37ff23f4
   "metadata": {},
   "outputs": [],
   "source": [
    "rowData(sfe_tissue)"
   ]
  },
  {
   "cell_type": "markdown",
<<<<<<< HEAD
<<<<<<< HEAD
<<<<<<< HEAD
<<<<<<< HEAD
<<<<<<< HEAD
   "id": "436bf1ed",
=======
   "id": "e32c3743",
>>>>>>> documentation-devel
=======
   "id": "d9331cbf",
>>>>>>> documentation-devel
=======
   "id": "dfbc7b2b",
>>>>>>> c9ed93f2a6d5e87fe6759d6fd26c06823f77f3f2
=======
   "id": "ad3a151d",
>>>>>>> documentation-devel
=======
   "id": "0ada0161",
>>>>>>> 487d062df8c9b8a19360e92edfd0678a37ff23f4
   "metadata": {},
   "source": [
    "The `NA`'s are for genes that are not highly variable and Moran's I was not computed for those genes. We rank the genes by Moran's I and plot them in space as follows:"
   ]
  },
  {
   "cell_type": "code",
   "execution_count": null,
<<<<<<< HEAD
<<<<<<< HEAD
<<<<<<< HEAD
<<<<<<< HEAD
<<<<<<< HEAD
   "id": "c13ad310",
=======
   "id": "19d8451f",
>>>>>>> documentation-devel
=======
   "id": "b0db97af",
>>>>>>> documentation-devel
=======
   "id": "32c04612",
>>>>>>> c9ed93f2a6d5e87fe6759d6fd26c06823f77f3f2
=======
   "id": "8db75d08",
>>>>>>> documentation-devel
=======
   "id": "ec9f8a7b",
>>>>>>> 487d062df8c9b8a19360e92edfd0678a37ff23f4
   "metadata": {},
   "outputs": [],
   "source": [
    "df <- rowData(sfe_tissue)[hvgs,]\n",
    "ord <- order(df$moran_Vis5A, decreasing = TRUE)\n",
    "df[ord, c(\"symbol\", \"moran_Vis5A\")]"
   ]
  },
  {
   "cell_type": "markdown",
<<<<<<< HEAD
<<<<<<< HEAD
<<<<<<< HEAD
<<<<<<< HEAD
<<<<<<< HEAD
   "id": "81c20d09",
=======
   "id": "64889a44",
>>>>>>> documentation-devel
=======
   "id": "d8270c46",
>>>>>>> documentation-devel
=======
   "id": "55bc5e84",
>>>>>>> c9ed93f2a6d5e87fe6759d6fd26c06823f77f3f2
=======
   "id": "ff79f2b5",
>>>>>>> documentation-devel
=======
   "id": "288fdae1",
>>>>>>> 487d062df8c9b8a19360e92edfd0678a37ff23f4
   "metadata": {
    "lines_to_next_cell": 0
   },
   "source": [
    "We see that some genes that have strong positive spatial autocorrelation, but don't observe strong negative spatial autocorrelation.\n",
    "\n",
    "Let's get some additional information on the genes with the strongest positive spatial autocorrelation in space using [gget info](https://pachterlab.github.io/gget/info.html) as above:\n",
    "<<<<<<< HEAD"
   ]
  },
  {
   "cell_type": "code",
   "execution_count": null,
<<<<<<< HEAD
<<<<<<< HEAD
<<<<<<< HEAD
<<<<<<< HEAD
<<<<<<< HEAD
   "id": "ef68ec12",
=======
   "id": "e533e5d8",
>>>>>>> documentation-devel
=======
   "id": "0d3c03d9",
>>>>>>> documentation-devel
=======
   "id": "ddc2cfe0",
>>>>>>> c9ed93f2a6d5e87fe6759d6fd26c06823f77f3f2
=======
   "id": "a9eb3366",
>>>>>>> documentation-devel
=======
   "id": "ae21bee9",
>>>>>>> 487d062df8c9b8a19360e92edfd0678a37ff23f4
   "metadata": {
    "eval": false
   },
   "outputs": [],
   "source": [
    "=======\n",
    "```{r,eval=FALSE}\n",
    ">>>>>>> documentation\n",
    "gget_info2 <- gget$info(rownames(df)[1:6])\n",
    "\n",
    "rownames(gget_info2) <- gget_info2$primary_gene_name\n",
    "select(gget_info2, ncbi_description)"
   ]
  },
  {
   "cell_type": "markdown",
<<<<<<< HEAD
<<<<<<< HEAD
<<<<<<< HEAD
<<<<<<< HEAD
<<<<<<< HEAD
   "id": "e19233b0",
=======
   "id": "855d53b4",
>>>>>>> documentation-devel
=======
   "id": "8ec21cef",
>>>>>>> documentation-devel
=======
   "id": "8a68d535",
>>>>>>> c9ed93f2a6d5e87fe6759d6fd26c06823f77f3f2
=======
   "id": "43746bb2",
>>>>>>> documentation-devel
=======
   "id": "6d711b61",
>>>>>>> 487d062df8c9b8a19360e92edfd0678a37ff23f4
   "metadata": {
    "lines_to_next_cell": 0
   },
   "source": [
    "Let's plot these genes:"
   ]
  },
  {
   "cell_type": "code",
   "execution_count": null,
<<<<<<< HEAD
<<<<<<< HEAD
<<<<<<< HEAD
<<<<<<< HEAD
<<<<<<< HEAD
   "id": "d519f563",
=======
   "id": "7b59434c",
>>>>>>> documentation-devel
=======
   "id": "61896235",
>>>>>>> documentation-devel
=======
   "id": "3417a2f4",
>>>>>>> c9ed93f2a6d5e87fe6759d6fd26c06823f77f3f2
=======
   "id": "ab6ef97f",
>>>>>>> documentation-devel
=======
   "id": "9b5b9e3c",
>>>>>>> 487d062df8c9b8a19360e92edfd0678a37ff23f4
   "metadata": {
    "fig.height": 7,
    "fig.width": 9
   },
   "outputs": [],
   "source": [
    "plotSpatialFeature(sfe_tissue, rownames(df)[1:6], colGeometryName = \"spotPoly\",\n",
    "                   image = \"lowres\", maxcell = 5e4, swap_rownames = \"symbol\")"
   ]
  },
  {
   "cell_type": "markdown",
<<<<<<< HEAD
<<<<<<< HEAD
<<<<<<< HEAD
<<<<<<< HEAD
<<<<<<< HEAD
   "id": "bd55d1d2",
=======
   "id": "8d11383a",
>>>>>>> documentation-devel
=======
   "id": "a569123d",
>>>>>>> documentation-devel
=======
   "id": "edfff8ff",
>>>>>>> c9ed93f2a6d5e87fe6759d6fd26c06823f77f3f2
=======
   "id": "453c2811",
>>>>>>> documentation-devel
=======
   "id": "3a9b94cb",
>>>>>>> 487d062df8c9b8a19360e92edfd0678a37ff23f4
   "metadata": {
    "lines_to_next_cell": 0
   },
   "source": [
    "These genes do indeed look spatially variable. However, such spatial variability can simply be due to the histological regions in space, or in other words, spatial distribution of different cell types. There are many methods to identify spatially variable genes, often involving Gaussian process modeling, which are far more complex than Moran's I, such as [`SpatialDE`](https://bioconductor.org/packages/release/bioc/html/spatialDE.html) [@Svensson2018-sx]. However, such methods usually don't account for the histological regions, except for `C-SIDE` [@Cable2022-ma], which identifies spatially variable genes within cell types. This leads to the question of what is really meant by \"cell type\". It remains to see how spatial methods made specifically for identifying spatially variable genes compare with methods that don't explicitly use spatial information but simply perform differential analysis between cell types which often are in spatially defined histological regions. \n",
    "\n",
    "Another consideration in using Moran's I is the extent to which the strength of spatial autocorrelation varies in space. What if a gene exhibits strong spatial autocorrelation in one region, but not in another? Should the different histological regions be analyzed separately in some cases? \n",
    "\n",
    "There are ways to see whether Moran's I is statistically significant, and many other methods to explore spatial autocorrelation. These are discussed in the more advanced [ESDA Visium vignette](https://pachterlab.github.io/voyager/articles/vig2_visium.html). \n",
    "\n",
    "# Session Info"
   ]
  },
  {
   "cell_type": "code",
   "execution_count": null,
<<<<<<< HEAD
<<<<<<< HEAD
<<<<<<< HEAD
<<<<<<< HEAD
<<<<<<< HEAD
   "id": "3531a624",
=======
   "id": "575582a2",
>>>>>>> documentation-devel
=======
   "id": "11fb1c86",
>>>>>>> documentation-devel
=======
   "id": "0a3a07fc",
>>>>>>> c9ed93f2a6d5e87fe6759d6fd26c06823f77f3f2
=======
   "id": "b126f7c3",
>>>>>>> documentation-devel
=======
   "id": "78c39061",
>>>>>>> 487d062df8c9b8a19360e92edfd0678a37ff23f4
   "metadata": {},
   "outputs": [],
   "source": [
    "sessionInfo()"
   ]
  },
  {
   "cell_type": "markdown",
<<<<<<< HEAD
<<<<<<< HEAD
<<<<<<< HEAD
<<<<<<< HEAD
<<<<<<< HEAD
   "id": "18622869",
=======
   "id": "cb02de16",
>>>>>>> documentation-devel
=======
   "id": "c46198c1",
>>>>>>> documentation-devel
=======
   "id": "4496c699",
>>>>>>> c9ed93f2a6d5e87fe6759d6fd26c06823f77f3f2
=======
   "id": "8133cc35",
>>>>>>> documentation-devel
=======
   "id": "e430aec1",
>>>>>>> 487d062df8c9b8a19360e92edfd0678a37ff23f4
   "metadata": {},
   "source": [
    "# References"
   ]
  }
 ],
 "metadata": {
  "kernelspec": {
   "display_name": "R",
   "language": "R",
   "name": "ir"
  }
 },
 "nbformat": 4,
 "nbformat_minor": 5
}
