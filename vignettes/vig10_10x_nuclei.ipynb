{
 "cells": [
  {
   "cell_type": "raw",
<<<<<<< HEAD
<<<<<<< HEAD
<<<<<<< HEAD
<<<<<<< HEAD
   "id": "50c97000",
=======
   "id": "45bbd170",
>>>>>>> documentation-devel
=======
   "id": "6edfad4e",
>>>>>>> documentation-devel
=======
   "id": "ef5017ab",
>>>>>>> c9ed93f2a6d5e87fe6759d6fd26c06823f77f3f2
=======
   "id": "6b031c45",
>>>>>>> documentation-devel
   "metadata": {},
   "source": [
    "---\n",
    "title: \"Chromium nuclei isolation basic quality control\"\n",
    "author: \"Kayla Jackson and A. Sina Booeshaghi\"\n",
    "date: \"`r Sys.Date()`\"\n",
    "output: \n",
    "  html_document:\n",
    "  toc: true\n",
    "  toc_float:\n",
    "    collapsed: false\n",
    "  toc_depth: 3\n",
    "bibliography: ref.bib\n",
    "vignette: >\n",
    "  %\\VignetteIndexEntry{10xnuclei_qc}\n",
    "  %\\VignetteEngine{knitr::rmarkdown}\n",
    "  %\\VignetteEncoding{UTF-8}\n",
    "---"
   ]
  },
  {
   "cell_type": "code",
   "execution_count": null,
<<<<<<< HEAD
<<<<<<< HEAD
<<<<<<< HEAD
<<<<<<< HEAD
   "id": "2f7ddd91",
=======
   "id": "1b2a30cc",
>>>>>>> documentation-devel
=======
   "id": "ce6d2370",
>>>>>>> documentation-devel
=======
   "id": "c2ae867e",
>>>>>>> c9ed93f2a6d5e87fe6759d6fd26c06823f77f3f2
=======
   "id": "e7b569b7",
>>>>>>> documentation-devel
   "metadata": {
    "tags": [
     "remove_cell"
    ]
   },
   "outputs": [],
   "source": [
    "knitr::opts_chunk$set(\n",
    "  collapse = TRUE,\n",
    "  comment = \"#>\", fig.align = \"center\"\n",
    ")"
   ]
  },
  {
   "cell_type": "code",
   "execution_count": null,
<<<<<<< HEAD
<<<<<<< HEAD
<<<<<<< HEAD
<<<<<<< HEAD
   "id": "1e292985",
=======
   "id": "d606361b",
>>>>>>> documentation-devel
=======
   "id": "021c965a",
>>>>>>> documentation-devel
=======
   "id": "3d32e666",
>>>>>>> c9ed93f2a6d5e87fe6759d6fd26c06823f77f3f2
=======
   "id": "0e4bedc6",
>>>>>>> documentation-devel
   "metadata": {
    "eval": false,
    "tags": [
     "remove_cell"
    ]
   },
   "outputs": [],
   "source": [
    "# Install Google Colab dependencies\n",
    "# Note: this can take 30+ minutes (many of the dependencies include C++ code, which needs to be compiled)\n",
    "\n",
    "# First install `sf`, `ragg` and `textshaping` and their system dependencies:\n",
    "system(\"apt-get -y update && apt-get install -y  libudunits2-dev libgdal-dev libgeos-dev libproj-dev libharfbuzz-dev libfribidi-dev\")\n",
    "install.packages(\"sf\")\n",
    "install.packages(\"textshaping\")\n",
    "install.packages(\"ragg\")\n",
    "\n",
    "# Install system dependencies of some other R packages that Voyager either imports or suggests:\n",
    "system(\"apt-get install -y libfribidi-dev libcairo2-dev libmagick++-dev\")\n",
    "\n",
    "# Install Voyager from Bioconductor:\n",
    "install.packages(\"BiocManager\")\n",
    "BiocManager::install(version = \"release\", ask = FALSE, update = FALSE, Ncpus = 2)\n",
    "BiocManager::install(\"scater\")\n",
    "system.time(\n",
    "  BiocManager::install(\"Voyager\", dependencies = TRUE, Ncpus = 2, update = FALSE)\n",
    ")\n",
    "\n",
    "\n",
    "packageVersion(\"Voyager\")"
   ]
  },
  {
   "cell_type": "markdown",
<<<<<<< HEAD
<<<<<<< HEAD
<<<<<<< HEAD
<<<<<<< HEAD
   "id": "a79486f7",
=======
   "id": "474720bb",
>>>>>>> documentation-devel
=======
   "id": "204068ac",
>>>>>>> documentation-devel
=======
   "id": "66cfcbbd",
>>>>>>> c9ed93f2a6d5e87fe6759d6fd26c06823f77f3f2
=======
   "id": "cfa68623",
>>>>>>> documentation-devel
   "metadata": {},
   "source": [
    "# Introduction\n",
    "The data in this vignette is shipped with the `cellatlas` repository. The count matrix and metadata are provided in the `cellatlas/examples` folder as an [`AnnData`](https://anndata-tutorials.readthedocs.io/en/latest/getting-started.html) object. We will begin by loading the object and converting it to a `SingleCellExperiment` object. "
   ]
  },
  {
   "cell_type": "code",
   "execution_count": null,
<<<<<<< HEAD
<<<<<<< HEAD
<<<<<<< HEAD
<<<<<<< HEAD
   "id": "8dd8da34",
=======
   "id": "8c0799c9",
>>>>>>> documentation-devel
=======
   "id": "aa0da044",
>>>>>>> documentation-devel
=======
   "id": "99674316",
>>>>>>> c9ed93f2a6d5e87fe6759d6fd26c06823f77f3f2
=======
   "id": "e65614d4",
>>>>>>> documentation-devel
   "metadata": {
    "message": false
   },
   "outputs": [],
   "source": [
    "library(stringr)\n",
    "library(Matrix)\n",
    "library(SpatialExperiment)\n",
    "library(SpatialFeatureExperiment)\n",
    "library(scater)\n",
    "library(scuttle)\n",
    "library(Voyager)\n",
    "library(ggplot2)\n",
    "theme_set(theme_bw())"
   ]
  },
  {
   "cell_type": "code",
   "execution_count": null,
<<<<<<< HEAD
<<<<<<< HEAD
<<<<<<< HEAD
<<<<<<< HEAD
   "id": "70d18f96",
=======
   "id": "76a4080e",
>>>>>>> documentation-devel
=======
   "id": "c651d516",
>>>>>>> documentation-devel
=======
   "id": "3ada88a6",
>>>>>>> c9ed93f2a6d5e87fe6759d6fd26c06823f77f3f2
=======
   "id": "6bf489ea",
>>>>>>> documentation-devel
   "metadata": {
    "message": true,
    "tags": [
     "remove_output"
    ]
   },
   "outputs": [],
   "source": [
    "if (!file.exists(\"10x_nuclei.rds\"))\n",
    "    download.file(\"https://github.com/pachterlab/voyager/raw/documentation-devel/vignettes/10x_nuclei.rds\", destfile = \"10x_nuclei.rds\")\n",
    "sce <- readRDS(\"10x_nuclei.rds\")"
   ]
  },
  {
   "cell_type": "code",
   "execution_count": null,
<<<<<<< HEAD
<<<<<<< HEAD
<<<<<<< HEAD
<<<<<<< HEAD
   "id": "f69dc13f",
=======
   "id": "731889e6",
>>>>>>> documentation-devel
=======
   "id": "70e9de2d",
>>>>>>> documentation-devel
=======
   "id": "02d505a1",
>>>>>>> c9ed93f2a6d5e87fe6759d6fd26c06823f77f3f2
=======
   "id": "3479ab65",
>>>>>>> documentation-devel
   "metadata": {},
   "outputs": [],
   "source": [
    "is_mito <- str_detect(rowData(sce)$gene_name, regex(\"^mt-\", ignore_case=TRUE))\n",
    "sum(is_mito)"
   ]
  },
  {
   "cell_type": "code",
   "execution_count": null,
<<<<<<< HEAD
<<<<<<< HEAD
<<<<<<< HEAD
<<<<<<< HEAD
   "id": "b0a7bc10",
=======
   "id": "cca3b205",
>>>>>>> documentation-devel
=======
   "id": "c19aa667",
>>>>>>> documentation-devel
=======
   "id": "3930f01f",
>>>>>>> c9ed93f2a6d5e87fe6759d6fd26c06823f77f3f2
=======
   "id": "1629f98d",
>>>>>>> documentation-devel
   "metadata": {},
   "outputs": [],
   "source": [
    "sce <- addPerCellQCMetrics(sce, subsets = list(mito = is_mito))\n",
    "names(colData(sce))"
   ]
  },
  {
   "cell_type": "code",
   "execution_count": null,
<<<<<<< HEAD
<<<<<<< HEAD
<<<<<<< HEAD
<<<<<<< HEAD
   "id": "f7a28993",
=======
   "id": "3b4a418f",
>>>>>>> documentation-devel
=======
   "id": "b2083d83",
>>>>>>> documentation-devel
=======
   "id": "384a311e",
>>>>>>> c9ed93f2a6d5e87fe6759d6fd26c06823f77f3f2
=======
   "id": "908c9379",
>>>>>>> documentation-devel
   "metadata": {},
   "outputs": [],
   "source": [
    "plotColData(sce, \"sum\") +\n",
    "    plotColData(sce, \"detected\") +\n",
    "    plotColData(sce, \"subsets_mito_percent\")"
   ]
  },
  {
   "cell_type": "code",
   "execution_count": null,
<<<<<<< HEAD
<<<<<<< HEAD
<<<<<<< HEAD
<<<<<<< HEAD
   "id": "47412c13",
=======
   "id": "a1065699",
>>>>>>> documentation-devel
=======
   "id": "3578f305",
>>>>>>> documentation-devel
=======
   "id": "fa238000",
>>>>>>> c9ed93f2a6d5e87fe6759d6fd26c06823f77f3f2
=======
   "id": "3aac8e0d",
>>>>>>> documentation-devel
   "metadata": {},
   "outputs": [],
   "source": [
    "plotColData(sce, x = \"sum\", y = \"detected\", bins = 100) +\n",
    "    scale_fill_distiller(palette = \"Blues\", direction = 1)"
   ]
  },
  {
   "cell_type": "code",
   "execution_count": null,
<<<<<<< HEAD
<<<<<<< HEAD
<<<<<<< HEAD
<<<<<<< HEAD
   "id": "f6c017d0",
=======
   "id": "a8cc700e",
>>>>>>> documentation-devel
=======
   "id": "8eb20082",
>>>>>>> documentation-devel
=======
   "id": "b2482b33",
>>>>>>> c9ed93f2a6d5e87fe6759d6fd26c06823f77f3f2
=======
   "id": "76d01306",
>>>>>>> documentation-devel
   "metadata": {},
   "outputs": [],
   "source": [
    "plotColData(sce, x = \"sum\", y = \"subsets_mito_detected\", bins = 100) +\n",
    "    scale_fill_distiller(palette = \"Blues\", direction = 1)"
   ]
  },
  {
   "cell_type": "code",
   "execution_count": null,
<<<<<<< HEAD
<<<<<<< HEAD
<<<<<<< HEAD
<<<<<<< HEAD
   "id": "69ba7104",
=======
   "id": "13c4cde5",
>>>>>>> documentation-devel
=======
   "id": "e2317085",
>>>>>>> documentation-devel
=======
   "id": "4ca4d8e7",
>>>>>>> c9ed93f2a6d5e87fe6759d6fd26c06823f77f3f2
=======
   "id": "d580e6c7",
>>>>>>> documentation-devel
   "metadata": {
    "name": "subset-qc"
   },
   "outputs": [],
   "source": [
    "sce <- sce[, which(sce$subsets_mito_percent < 20)]\n",
    "sce <- sce[rowSums(counts(sce)) > 0,]\n",
    "\n",
    "sce"
   ]
  },
  {
   "cell_type": "code",
   "execution_count": null,
<<<<<<< HEAD
<<<<<<< HEAD
<<<<<<< HEAD
<<<<<<< HEAD
   "id": "5287f79a",
=======
   "id": "34e278d7",
>>>>>>> documentation-devel
=======
   "id": "2662c8da",
>>>>>>> documentation-devel
=======
   "id": "fe57b0c6",
>>>>>>> c9ed93f2a6d5e87fe6759d6fd26c06823f77f3f2
=======
   "id": "0c150817",
>>>>>>> documentation-devel
   "metadata": {},
   "outputs": [],
   "source": [
    "sessionInfo()"
   ]
  }
 ],
 "metadata": {
  "kernelspec": {
   "display_name": "R",
   "language": "R",
   "name": "ir"
  }
 },
 "nbformat": 4,
 "nbformat_minor": 5
}
