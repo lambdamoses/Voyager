{
 "cells": [
  {
   "cell_type": "raw",
<<<<<<< HEAD
<<<<<<< HEAD
<<<<<<< HEAD
<<<<<<< HEAD
   "id": "3fba9133",
=======
   "id": "47c144a7",
>>>>>>> documentation-devel
=======
   "id": "3d7bee15",
>>>>>>> documentation-devel
=======
   "id": "5d879c7c",
>>>>>>> c9ed93f2a6d5e87fe6759d6fd26c06823f77f3f2
=======
   "id": "a61ece45",
>>>>>>> documentation-devel
   "metadata": {},
   "source": [
    "---\n",
    "title: \"Create a SpatialFeatureExperiment object\"\n",
    "author: \"Lambda Moses\"\n",
    "date: \"`r Sys.Date()`\"\n",
    "output: \n",
    "  html_document:\n",
    "  toc: true\n",
    "  toc_float:\n",
    "    collapsed: false\n",
    "  toc_depth: 3\n",
    "vignette: >\n",
    "  %\\VignetteIndexEntry{create_sfe}\n",
    "  %\\VignetteEngine{knitr::rmarkdown}\n",
    "  %\\VignetteEncoding{UTF-8}\n",
    "---"
   ]
  },
  {
   "cell_type": "code",
   "execution_count": null,
<<<<<<< HEAD
<<<<<<< HEAD
<<<<<<< HEAD
<<<<<<< HEAD
   "id": "3f7118d6",
=======
   "id": "58cc3581",
>>>>>>> documentation-devel
=======
   "id": "73df4e26",
>>>>>>> documentation-devel
=======
   "id": "d2d63524",
>>>>>>> c9ed93f2a6d5e87fe6759d6fd26c06823f77f3f2
=======
   "id": "95be6d45",
>>>>>>> documentation-devel
   "metadata": {
    "tags": [
     "remove_cell"
    ]
   },
   "outputs": [],
   "source": [
    "knitr::opts_chunk$set(\n",
    "  collapse = TRUE,\n",
    "  comment = \"#>\"\n",
    ")"
   ]
  },
  {
   "cell_type": "code",
   "execution_count": null,
<<<<<<< HEAD
<<<<<<< HEAD
<<<<<<< HEAD
<<<<<<< HEAD
   "id": "9165a7b3",
=======
   "id": "6774da8c",
>>>>>>> documentation-devel
=======
   "id": "b93b0763",
>>>>>>> documentation-devel
=======
   "id": "2b4136c2",
>>>>>>> c9ed93f2a6d5e87fe6759d6fd26c06823f77f3f2
=======
   "id": "bbc178f5",
>>>>>>> documentation-devel
   "metadata": {
    "eval": false,
    "tags": [
     "remove_cell"
    ]
   },
   "outputs": [],
   "source": [
    "# Install Google Colab dependencies\n",
    "# Note: this can take 30+ minutes (many of the dependencies include C++ code, which needs to be compiled)\n",
    "\n",
    "# First install `sf`, `ragg` and `textshaping` and their system dependencies:\n",
    "system(\"apt-get -y update && apt-get install -y  libudunits2-dev libgdal-dev libgeos-dev libproj-dev libharfbuzz-dev libfribidi-dev\")\n",
    "install.packages(\"sf\")\n",
    "install.packages(\"textshaping\")\n",
    "install.packages(\"ragg\")\n",
    "\n",
    "# Install system dependencies of some other R packages that Voyager either imports or suggests:\n",
    "system(\"apt-get install -y libfribidi-dev libcairo2-dev libmagick++-dev\")\n",
    "\n",
    "# Install Voyager from Bioconductor:\n",
    "install.packages(\"BiocManager\")\n",
    "BiocManager::install(version = \"release\", ask = FALSE, update = FALSE, Ncpus = 2)\n",
    "BiocManager::install(\"scater\")\n",
    "system.time(\n",
    "  BiocManager::install(\"Voyager\", dependencies = TRUE, Ncpus = 2, update = FALSE)\n",
    ")\n",
    "\n",
    "# Additional dependencies for this notebook\n",
    "#install.packages(\"arrow\")\n",
    "\n",
    "packageVersion(\"Voyager\")"
   ]
  },
  {
   "cell_type": "code",
   "execution_count": null,
<<<<<<< HEAD
<<<<<<< HEAD
<<<<<<< HEAD
<<<<<<< HEAD
   "id": "b48c1083",
=======
   "id": "74eb3a12",
>>>>>>> documentation-devel
=======
   "id": "a21059fd",
>>>>>>> documentation-devel
=======
   "id": "f772ccb5",
>>>>>>> c9ed93f2a6d5e87fe6759d6fd26c06823f77f3f2
=======
   "id": "ae5bf9ad",
>>>>>>> documentation-devel
   "metadata": {
    "lines_to_next_cell": 0,
    "message": false,
    "name": "setup"
   },
   "outputs": [],
   "source": [
    "library(Voyager)\n",
    "library(SpatialFeatureExperiment)\n",
    "library(rjson)\n",
    "library(Matrix)\n",
    "library(SFEData)\n",
    "library(RBioFormats)"
   ]
  },
  {
   "cell_type": "markdown",
<<<<<<< HEAD
<<<<<<< HEAD
<<<<<<< HEAD
<<<<<<< HEAD
   "id": "26bae819",
=======
   "id": "e0009855",
>>>>>>> documentation-devel
=======
   "id": "f088ebd3",
>>>>>>> documentation-devel
=======
   "id": "b6604e12",
>>>>>>> c9ed93f2a6d5e87fe6759d6fd26c06823f77f3f2
=======
   "id": "c196bb3e",
>>>>>>> documentation-devel
   "metadata": {},
   "source": [
    "The following is reproduced from the [SFE vignette](https://pachterlab.github.io/SpatialFeatureExperiment/articles/SFE.html#object-construction).\n",
    "\n",
    "# Visium Space Ranger output\n",
    "\n",
    "10x Genomics Space Ranger output from a Visium experiment can be read in a similar manner as in `SpatialExperiment`; the `SpatialFeatureExperiment` SFE object has the `spotPoly` column geometry for the spot polygons. If the filtered matrix (i.e. only spots in the tissue) is read in, then a column graph called `visium` will also be present for the spatial neighborhood graph of the Visium spots on the tissue. The graph is not computed if all spots are read in regardless of whether they are on tissue."
   ]
  },
  {
   "cell_type": "code",
   "execution_count": null,
<<<<<<< HEAD
<<<<<<< HEAD
<<<<<<< HEAD
<<<<<<< HEAD
   "id": "67afdca1",
=======
   "id": "68808830",
>>>>>>> documentation-devel
=======
   "id": "ba80ad0a",
>>>>>>> documentation-devel
=======
   "id": "67fd03aa",
>>>>>>> c9ed93f2a6d5e87fe6759d6fd26c06823f77f3f2
=======
   "id": "86cdc7c7",
>>>>>>> documentation-devel
   "metadata": {},
   "outputs": [],
   "source": [
    "dir <- system.file(\"extdata\", package = \"SpatialFeatureExperiment\")\n",
    "sample_ids <- c(\"sample01\", \"sample02\")\n",
    "(samples <- file.path(dir, sample_ids, \"outs\"))"
   ]
  },
  {
   "cell_type": "markdown",
<<<<<<< HEAD
<<<<<<< HEAD
<<<<<<< HEAD
<<<<<<< HEAD
   "id": "732a6c82",
=======
   "id": "4027ac76",
>>>>>>> documentation-devel
=======
   "id": "d9f27e0a",
>>>>>>> documentation-devel
=======
   "id": "daed33ad",
>>>>>>> c9ed93f2a6d5e87fe6759d6fd26c06823f77f3f2
=======
   "id": "a0206a47",
>>>>>>> documentation-devel
   "metadata": {},
   "source": [
    "The results for each tissue capture should be in the `outs` directory. Inside the `outs` directory there are two directories: `raw_reature_bc_matrix` has the unfiltered gene count matrix, and `spatial` has the spatial information. "
   ]
  },
  {
   "cell_type": "code",
   "execution_count": null,
<<<<<<< HEAD
<<<<<<< HEAD
<<<<<<< HEAD
<<<<<<< HEAD
   "id": "1b3fb9a1",
=======
   "id": "d0351760",
>>>>>>> documentation-devel
=======
   "id": "d1bc70fa",
>>>>>>> documentation-devel
=======
   "id": "fdc9ef79",
>>>>>>> c9ed93f2a6d5e87fe6759d6fd26c06823f77f3f2
=======
   "id": "2762bc7d",
>>>>>>> documentation-devel
   "metadata": {},
   "outputs": [],
   "source": [
    "list.files(samples[1])"
   ]
  },
  {
   "cell_type": "markdown",
<<<<<<< HEAD
<<<<<<< HEAD
<<<<<<< HEAD
<<<<<<< HEAD
   "id": "667aa295",
=======
   "id": "fc57cdef",
>>>>>>> documentation-devel
=======
   "id": "769ecb96",
>>>>>>> documentation-devel
=======
   "id": "e28d6e9a",
>>>>>>> c9ed93f2a6d5e87fe6759d6fd26c06823f77f3f2
=======
   "id": "532c8441",
>>>>>>> documentation-devel
   "metadata": {},
   "source": [
    "The [`DropletUtils`](https://bioconductor.org/packages/release/bioc/html/DropletUtils.html) package has a function `read10xCounts()` which reads the gene count matrix. SPE reads in the spatial information, and SFE uses the spatial information to construct Visium spot polygons and spatial neighborhood graphs. Inside the `spatial` directory:"
   ]
  },
  {
   "cell_type": "code",
   "execution_count": null,
<<<<<<< HEAD
<<<<<<< HEAD
<<<<<<< HEAD
<<<<<<< HEAD
   "id": "6093c8fa",
=======
   "id": "0cc70a76",
>>>>>>> documentation-devel
=======
   "id": "6e597bf2",
>>>>>>> documentation-devel
=======
   "id": "52f2dd09",
>>>>>>> c9ed93f2a6d5e87fe6759d6fd26c06823f77f3f2
=======
   "id": "1b169fa9",
>>>>>>> documentation-devel
   "metadata": {},
   "outputs": [],
   "source": [
    "list.files(file.path(samples[1], \"spatial\"))"
   ]
  },
  {
   "cell_type": "markdown",
<<<<<<< HEAD
<<<<<<< HEAD
<<<<<<< HEAD
<<<<<<< HEAD
   "id": "23f9d8d6",
=======
   "id": "cc1c4964",
>>>>>>> documentation-devel
=======
   "id": "eb7feb00",
>>>>>>> documentation-devel
=======
   "id": "7e197d0b",
>>>>>>> c9ed93f2a6d5e87fe6759d6fd26c06823f77f3f2
=======
   "id": "2473cfb9",
>>>>>>> documentation-devel
   "metadata": {},
   "source": [
    "`tissue_lowres_image.png` is a low resolution image of the tissue.\n",
    "\n",
    "Inside the `scalefactors_json.json` file:"
   ]
  },
  {
   "cell_type": "code",
   "execution_count": null,
<<<<<<< HEAD
<<<<<<< HEAD
<<<<<<< HEAD
<<<<<<< HEAD
   "id": "ca1425c2",
=======
   "id": "9a61e02d",
>>>>>>> documentation-devel
=======
   "id": "847570a9",
>>>>>>> documentation-devel
=======
   "id": "306312b0",
>>>>>>> c9ed93f2a6d5e87fe6759d6fd26c06823f77f3f2
=======
   "id": "ac643df1",
>>>>>>> documentation-devel
   "metadata": {},
   "outputs": [],
   "source": [
    "fromJSON(file = file.path(samples[1], \"spatial\", \"scalefactors_json.json\"))"
   ]
  },
  {
   "cell_type": "markdown",
<<<<<<< HEAD
<<<<<<< HEAD
<<<<<<< HEAD
<<<<<<< HEAD
   "id": "89ca48dc",
=======
   "id": "0f8af0b4",
>>>>>>> documentation-devel
=======
   "id": "d57c5770",
>>>>>>> documentation-devel
=======
   "id": "5a477974",
>>>>>>> c9ed93f2a6d5e87fe6759d6fd26c06823f77f3f2
=======
   "id": "37dbe773",
>>>>>>> documentation-devel
   "metadata": {},
   "source": [
    "`spot_diameter_fullres` is the diameter of each Visium spot in the full resolution H&E image in pixels. `tissue_hires_scalef` and `tissue_lowres_scalef` are the ratio of the size of the high resolution (but not full resolution) and low resolution H&E image to the full resolution image. `fiducial_diameter_fullres` is the diameter of each fiducial spot used to align the spots to the H&E image in pixels in the full resolution image.\n",
    "\n",
    "The `tissue_positions_list.csv` file contains information for the spatial coordinates of the spots and whether each spot is in tissue as automatically detected by Space Ranger or manually annotated in the Loupe browser. If the polygon of the tissue boundary is available, whether from image processing or manual annotation, geometric operations as supported by the SFE package, which is based on the `sf` package, can be used to find which spots intersect with the tissue and which spots are contained in the tissue. Geometric operations can also find the polygons of the intersections between spots and the tissue, but the results can get messy since the intersections can have not only polygons but also points and lines. \n",
    "\n",
    "Now we read in the toy data that is in the Space Ranger output format. Since Bioconductor version release (Voyager version 1.2.0), the image is read as a `SpatRaster` object with the [`terra`](https://rspatial.github.io/terra/index.html) package, so it is not loaded into memory unless necessary. When plotting a large image, it will be downsampled and thus not fully loaded into memory. The unit can be set with the `unit` argument, and can be either pixels in full resolution image or microns. The latter is calculated from the former based on spacing between spots, which is known to be 100 microns."
   ]
  },
  {
   "cell_type": "code",
   "execution_count": null,
<<<<<<< HEAD
<<<<<<< HEAD
<<<<<<< HEAD
<<<<<<< HEAD
   "id": "c82d3aa9",
=======
   "id": "096ce242",
>>>>>>> documentation-devel
=======
   "id": "327dcbc9",
>>>>>>> documentation-devel
=======
   "id": "26d16cf7",
>>>>>>> c9ed93f2a6d5e87fe6759d6fd26c06823f77f3f2
=======
   "id": "479ecb27",
>>>>>>> documentation-devel
   "metadata": {},
   "outputs": [],
   "source": [
    "(sfe3 <- read10xVisiumSFE(samples, dirs = samples, sample_id = sample_ids, \n",
    "                          type = \"sparse\", data = \"filtered\", images = \"lowres\", \n",
    "                          unit = \"full_res_image_pixel\"))"
   ]
  },
  {
   "cell_type": "markdown",
<<<<<<< HEAD
<<<<<<< HEAD
<<<<<<< HEAD
<<<<<<< HEAD
   "id": "7f811acc",
=======
   "id": "e589ae5a",
>>>>>>> documentation-devel
=======
   "id": "3d4d9d08",
>>>>>>> documentation-devel
=======
   "id": "d6eaca9f",
>>>>>>> c9ed93f2a6d5e87fe6759d6fd26c06823f77f3f2
=======
   "id": "19dceab8",
>>>>>>> documentation-devel
   "metadata": {},
   "source": [
    "Space Ranger output includes the gene count matrix, spot coordinates, and spot diameter. The Space Ranger output does NOT include nuclei segmentation or pathologist annotation of histological regions. Extra image processing, such as with ImageJ and QuPath, are required for those geometries.\n",
    "\n",
    "# Vizgen MERFISH output\n",
    "The commercialized MERFISH from Vizgen has a standard output format, that can be read into SFE with `readVizgen()`. Because the cell segmentation from each field of view (FOV) has a separate HDF5 file and a MERFISH dataset can have hundreds of FOVs, we strongly recommend reading the MERFISH output on a server with a large number of CPU cores. Alternatively, some but not all MERFISH datasets store cell segmentation in a `parquet` file, which can be more easily read into R. This requires the installation of `arrow`. Here we read a toy dataset which is the first FOV from a real dataset:"
   ]
  },
  {
   "cell_type": "code",
   "execution_count": null,
<<<<<<< HEAD
<<<<<<< HEAD
<<<<<<< HEAD
<<<<<<< HEAD
   "id": "d88adc73",
=======
   "id": "445827bd",
>>>>>>> documentation-devel
=======
   "id": "61d8f435",
>>>>>>> documentation-devel
=======
   "id": "ca1975a7",
>>>>>>> c9ed93f2a6d5e87fe6759d6fd26c06823f77f3f2
=======
   "id": "b4e2432b",
>>>>>>> documentation-devel
   "metadata": {},
   "outputs": [],
   "source": [
    "fp <- tempdir()\n",
    "dir_use <- VizgenOutput(file_path = file.path(fp, \"vizgen\"))\n",
    "list.files(dir_use)"
   ]
  },
  {
   "cell_type": "markdown",
<<<<<<< HEAD
<<<<<<< HEAD
<<<<<<< HEAD
<<<<<<< HEAD
   "id": "ea7d3e40",
=======
   "id": "ba554aad",
>>>>>>> documentation-devel
=======
   "id": "9d3b3961",
>>>>>>> documentation-devel
=======
   "id": "84eaa13b",
>>>>>>> c9ed93f2a6d5e87fe6759d6fd26c06823f77f3f2
=======
   "id": "a31c233a",
>>>>>>> documentation-devel
   "metadata": {
    "lines_to_next_cell": 0
   },
   "source": [
    "The optional `add_molecules` argument can be set to `TRUE` to read in the transcript spots"
   ]
  },
  {
   "cell_type": "code",
   "execution_count": null,
<<<<<<< HEAD
<<<<<<< HEAD
<<<<<<< HEAD
<<<<<<< HEAD
   "id": "71d903f9",
=======
   "id": "b344bb1c",
>>>>>>> documentation-devel
=======
   "id": "ea96ce5e",
>>>>>>> documentation-devel
=======
   "id": "bb444d74",
>>>>>>> c9ed93f2a6d5e87fe6759d6fd26c06823f77f3f2
=======
   "id": "b5e31c75",
>>>>>>> documentation-devel
   "metadata": {},
   "outputs": [],
   "source": [
    "(sfe_mer <- readVizgen(dir_use, z = 3L, image = \"PolyT\", add_molecules = TRUE))"
   ]
  },
  {
   "cell_type": "markdown",
<<<<<<< HEAD
<<<<<<< HEAD
<<<<<<< HEAD
<<<<<<< HEAD
   "id": "f8bd6990",
=======
   "id": "c44e472a",
>>>>>>> documentation-devel
=======
   "id": "df8fee97",
>>>>>>> documentation-devel
=======
   "id": "02d6aee3",
>>>>>>> c9ed93f2a6d5e87fe6759d6fd26c06823f77f3f2
=======
   "id": "b33293a4",
>>>>>>> documentation-devel
   "metadata": {
    "lines_to_next_cell": 0
   },
   "source": [
    "The unit is always in microns. To make it easier and faster to read the data next time, the processed cell segmentation geometries and transcript spots are written to the same directory where the data resides:"
   ]
  },
  {
   "cell_type": "code",
   "execution_count": null,
<<<<<<< HEAD
<<<<<<< HEAD
<<<<<<< HEAD
<<<<<<< HEAD
   "id": "b5460c8f",
=======
   "id": "bd9f8498",
>>>>>>> documentation-devel
=======
   "id": "46ec2b8a",
>>>>>>> documentation-devel
=======
   "id": "50eeec33",
>>>>>>> c9ed93f2a6d5e87fe6759d6fd26c06823f77f3f2
=======
   "id": "717e64bf",
>>>>>>> documentation-devel
   "metadata": {},
   "outputs": [],
   "source": [
    "list.files(dir_use)"
   ]
  },
  {
   "cell_type": "markdown",
<<<<<<< HEAD
<<<<<<< HEAD
<<<<<<< HEAD
<<<<<<< HEAD
   "id": "5f52493a",
=======
   "id": "d9e869f6",
>>>>>>> documentation-devel
=======
   "id": "f55cdea6",
>>>>>>> documentation-devel
=======
   "id": "8937630d",
>>>>>>> c9ed93f2a6d5e87fe6759d6fd26c06823f77f3f2
=======
   "id": "05203d22",
>>>>>>> documentation-devel
   "metadata": {},
   "source": [
    "# 10X Xenium output\n",
    "SFE supports reading the output from Xenium Onboarding Analysis (XOA) v1 and v2 with the function `readXenium()`. Especially for XOA v2, `arrow` is strongly recommended. The cell and nuclei polygon vertices and transcript spot coordinates are in `parquet` files  Similar to `readVizgen()`, `readXenium()` makes `sf` data frames from the vertices and transcript spots and saves them as GeoParquet files."
   ]
  },
  {
   "cell_type": "code",
   "execution_count": null,
<<<<<<< HEAD
<<<<<<< HEAD
<<<<<<< HEAD
<<<<<<< HEAD
   "id": "f51d08a2",
=======
   "id": "825fcb20",
>>>>>>> documentation-devel
=======
   "id": "4c9c0adb",
>>>>>>> documentation-devel
=======
   "id": "09cd1c16",
>>>>>>> c9ed93f2a6d5e87fe6759d6fd26c06823f77f3f2
=======
   "id": "dc44eae0",
>>>>>>> documentation-devel
   "metadata": {},
   "outputs": [],
   "source": [
    "dir_use <- XeniumOutput(\"v2\", file_path = file.path(fp, \"xenium\"))\n",
    "list.files(dir_use)"
   ]
  },
  {
   "cell_type": "code",
   "execution_count": null,
<<<<<<< HEAD
<<<<<<< HEAD
<<<<<<< HEAD
<<<<<<< HEAD
   "id": "15fbf00d",
=======
   "id": "43c08361",
>>>>>>> documentation-devel
=======
   "id": "10aad9f9",
>>>>>>> documentation-devel
=======
   "id": "496f7413",
>>>>>>> c9ed93f2a6d5e87fe6759d6fd26c06823f77f3f2
=======
   "id": "86a2ee79",
>>>>>>> documentation-devel
   "metadata": {},
   "outputs": [],
   "source": [
    "# RBioFormats issue: https://github.com/aoles/RBioFormats/issues/42\n",
    "try(sfe_xen <- readXenium(dir_use, add_molecules = TRUE))\n",
    "(sfe_xen <- readXenium(dir_use, add_molecules = TRUE))"
   ]
  },
  {
   "cell_type": "code",
   "execution_count": null,
<<<<<<< HEAD
<<<<<<< HEAD
<<<<<<< HEAD
<<<<<<< HEAD
   "id": "0997992c",
=======
   "id": "abb16647",
>>>>>>> documentation-devel
=======
   "id": "88b4f126",
>>>>>>> documentation-devel
=======
   "id": "4dbdb3e8",
>>>>>>> c9ed93f2a6d5e87fe6759d6fd26c06823f77f3f2
=======
   "id": "19479a3e",
>>>>>>> documentation-devel
   "metadata": {
    "lines_to_next_cell": 2
   },
   "outputs": [],
   "source": [
    "list.files(dir_use)"
   ]
  },
  {
   "cell_type": "markdown",
<<<<<<< HEAD
<<<<<<< HEAD
<<<<<<< HEAD
<<<<<<< HEAD
   "id": "42e1dc04",
=======
   "id": "02f96330",
>>>>>>> documentation-devel
=======
   "id": "0126c5a7",
>>>>>>> documentation-devel
=======
   "id": "a046e777",
>>>>>>> c9ed93f2a6d5e87fe6759d6fd26c06823f77f3f2
=======
   "id": "c3afcc87",
>>>>>>> documentation-devel
   "metadata": {},
   "source": [
    "# Nanostring CosMX output\n",
    "This is similar to `readVizgen()` and `readXenium()`, except that the output doesn't come with images."
   ]
  },
  {
   "cell_type": "code",
   "execution_count": null,
<<<<<<< HEAD
<<<<<<< HEAD
<<<<<<< HEAD
<<<<<<< HEAD
   "id": "3a39ca93",
=======
   "id": "af22b64d",
>>>>>>> documentation-devel
=======
   "id": "69f6c52b",
>>>>>>> documentation-devel
=======
   "id": "2fd06d4c",
>>>>>>> c9ed93f2a6d5e87fe6759d6fd26c06823f77f3f2
=======
   "id": "7268ac5d",
>>>>>>> documentation-devel
   "metadata": {},
   "outputs": [],
   "source": [
    "dir_use <- CosMXOutput(file_path = file.path(fp, \"cosmx\"))\n",
    "list.files(dir_use)"
   ]
  },
  {
   "cell_type": "code",
   "execution_count": null,
<<<<<<< HEAD
<<<<<<< HEAD
<<<<<<< HEAD
<<<<<<< HEAD
   "id": "b0f45eba",
=======
   "id": "a7f65048",
>>>>>>> documentation-devel
=======
   "id": "bd6690b7",
>>>>>>> documentation-devel
=======
   "id": "fe1cbe34",
>>>>>>> c9ed93f2a6d5e87fe6759d6fd26c06823f77f3f2
=======
   "id": "3aaf60fc",
>>>>>>> documentation-devel
   "metadata": {},
   "outputs": [],
   "source": [
    "(sfe_cosmx <- readCosMX(dir_use, add_molecules = TRUE))"
   ]
  },
  {
   "cell_type": "code",
   "execution_count": null,
<<<<<<< HEAD
<<<<<<< HEAD
<<<<<<< HEAD
<<<<<<< HEAD
   "id": "8ef0a78d",
=======
   "id": "a5f881a0",
>>>>>>> documentation-devel
=======
   "id": "5e5b9ac2",
>>>>>>> documentation-devel
=======
   "id": "757aa571",
>>>>>>> c9ed93f2a6d5e87fe6759d6fd26c06823f77f3f2
=======
   "id": "72bcc9a7",
>>>>>>> documentation-devel
   "metadata": {},
   "outputs": [],
   "source": [
    "list.files(dir_use)"
   ]
  },
  {
   "cell_type": "markdown",
<<<<<<< HEAD
<<<<<<< HEAD
<<<<<<< HEAD
<<<<<<< HEAD
   "id": "3e300438",
=======
   "id": "2c50c8eb",
>>>>>>> documentation-devel
=======
   "id": "9740db7b",
>>>>>>> documentation-devel
=======
   "id": "cdb01e71",
>>>>>>> c9ed93f2a6d5e87fe6759d6fd26c06823f77f3f2
=======
   "id": "a1dbb493",
>>>>>>> documentation-devel
   "metadata": {
    "lines_to_next_cell": 0
   },
   "source": [
    "# Other technologies\n",
    "A read function for Visium HD is in progress. Contribution for Akoya, Molecular Cartography, and Curio Seeker are welcome. See the [issues](https://github.com/pachterlab/SpatialFeatureExperiment/issues).\n",
    "\n",
    "# Create SFE object from scratch\n",
    "An SFE object can be constructed from scratch with the assay matrices and metadata. In this toy example, `dgCMatrix` is used, but since SFE inherits from SingleCellExperiment (SCE), other types of arrays supported by SCE such as delayed arrays should also work."
   ]
  },
  {
   "cell_type": "code",
   "execution_count": null,
<<<<<<< HEAD
<<<<<<< HEAD
<<<<<<< HEAD
<<<<<<< HEAD
   "id": "a5d0643c",
=======
   "id": "47c7f370",
>>>>>>> documentation-devel
=======
   "id": "21cebbd0",
>>>>>>> documentation-devel
=======
   "id": "ec6781ad",
>>>>>>> c9ed93f2a6d5e87fe6759d6fd26c06823f77f3f2
=======
   "id": "3e7cb98a",
>>>>>>> documentation-devel
   "metadata": {},
   "outputs": [],
   "source": [
    "# Visium barcode location from Space Ranger\n",
    "data(\"visium_row_col\")\n",
    "coords1 <- visium_row_col[visium_row_col$col < 6 & visium_row_col$row < 6,]\n",
    "coords1$row <- coords1$row * sqrt(3)\n",
    "\n",
    "# Random toy sparse matrix\n",
    "set.seed(29)\n",
    "col_inds <- sample(1:13, 13)\n",
    "row_inds <- sample(1:5, 13, replace = TRUE)\n",
    "values <- sample(1:5, 13, replace = TRUE)\n",
    "mat <- sparseMatrix(i = row_inds, j = col_inds, x = values)\n",
    "colnames(mat) <- coords1$barcode\n",
    "rownames(mat) <- sample(LETTERS, 5)"
   ]
  },
  {
   "cell_type": "markdown",
<<<<<<< HEAD
<<<<<<< HEAD
<<<<<<< HEAD
<<<<<<< HEAD
   "id": "3d1f0462",
=======
   "id": "f46f9303",
>>>>>>> documentation-devel
=======
   "id": "576cd860",
>>>>>>> documentation-devel
=======
   "id": "7469f570",
>>>>>>> c9ed93f2a6d5e87fe6759d6fd26c06823f77f3f2
=======
   "id": "fc236aac",
>>>>>>> documentation-devel
   "metadata": {
    "lines_to_next_cell": 0
   },
   "source": [
    "This should be sufficient to create an SPE object, and an SFE object, even though no `sf` data frame was constructed for the geometries. The constructor behaves similarly to the SPE constructor. The centroid coordinates of the Visium spots in the example can be converted into spot polygons with the `spotDiameter` argument, which can also be relevant to other technologies with round spots or beads, such as Slide-seq. Spot diameter in pixels in full resolution images can be found in the `scalefactors_json.json` file in Space Ranger output."
   ]
  },
  {
   "cell_type": "code",
   "execution_count": null,
<<<<<<< HEAD
<<<<<<< HEAD
<<<<<<< HEAD
<<<<<<< HEAD
   "id": "320bdffc",
=======
   "id": "ab6f2426",
>>>>>>> documentation-devel
=======
   "id": "5a73359a",
>>>>>>> documentation-devel
=======
   "id": "991ebe39",
>>>>>>> c9ed93f2a6d5e87fe6759d6fd26c06823f77f3f2
=======
   "id": "d524a7d4",
>>>>>>> documentation-devel
   "metadata": {},
   "outputs": [],
   "source": [
    "sfe3 <- SpatialFeatureExperiment(list(counts = mat), colData = coords1,\n",
    "                                spatialCoordsNames = c(\"col\", \"row\"),\n",
    "                                spotDiameter = 0.7)"
   ]
  },
  {
   "cell_type": "markdown",
<<<<<<< HEAD
<<<<<<< HEAD
<<<<<<< HEAD
<<<<<<< HEAD
   "id": "06ec979b",
=======
   "id": "49e19ce2",
>>>>>>> documentation-devel
=======
   "id": "fa2ecccf",
>>>>>>> documentation-devel
=======
   "id": "2cff956e",
>>>>>>> c9ed93f2a6d5e87fe6759d6fd26c06823f77f3f2
=======
   "id": "89ec7cb8",
>>>>>>> documentation-devel
   "metadata": {
    "lines_to_next_cell": 0
   },
   "source": [
    "More geometries and spatial graphs can be added after calling the constructor.\n",
    "\n",
    "Geometries can also be supplied in the constructor. "
   ]
  },
  {
   "cell_type": "code",
   "execution_count": null,
<<<<<<< HEAD
<<<<<<< HEAD
<<<<<<< HEAD
<<<<<<< HEAD
   "id": "1231b2d1",
=======
   "id": "84db2835",
>>>>>>> documentation-devel
=======
   "id": "b32c8909",
>>>>>>> documentation-devel
=======
   "id": "2d11894e",
>>>>>>> c9ed93f2a6d5e87fe6759d6fd26c06823f77f3f2
=======
   "id": "410fab24",
>>>>>>> documentation-devel
   "metadata": {},
   "outputs": [],
   "source": [
    "# Convert regular data frame with coordinates to sf data frame\n",
    "cg <- df2sf(coords1[,c(\"col\", \"row\")], c(\"col\", \"row\"), spotDiameter = 0.7)\n",
    "rownames(cg) <- colnames(mat)\n",
    "sfe3 <- SpatialFeatureExperiment(list(counts = mat), colGeometries = list(foo = cg))"
   ]
  },
  {
   "cell_type": "markdown",
<<<<<<< HEAD
<<<<<<< HEAD
<<<<<<< HEAD
<<<<<<< HEAD
   "id": "3eed9ed3",
=======
   "id": "1888114c",
>>>>>>> documentation-devel
=======
   "id": "94ab8958",
>>>>>>> documentation-devel
=======
   "id": "2a67a6ab",
>>>>>>> c9ed93f2a6d5e87fe6759d6fd26c06823f77f3f2
=======
   "id": "9b7ce988",
>>>>>>> documentation-devel
   "metadata": {
    "lines_to_next_cell": 0
   },
   "source": [
    "# Coercion from `SpatialExperiment`\n",
    "SPE objects can be coerced into SFE objects. If column geometries or spot diameter are not specified, then a column geometry called \"centroids\" will be created."
   ]
  },
  {
   "cell_type": "code",
   "execution_count": null,
<<<<<<< HEAD
<<<<<<< HEAD
<<<<<<< HEAD
<<<<<<< HEAD
   "id": "2fd4cfbc",
=======
   "id": "6389f91e",
>>>>>>> documentation-devel
=======
   "id": "070aeb29",
>>>>>>> documentation-devel
=======
   "id": "b318b441",
>>>>>>> c9ed93f2a6d5e87fe6759d6fd26c06823f77f3f2
=======
   "id": "bd72d4b4",
>>>>>>> documentation-devel
   "metadata": {},
   "outputs": [],
   "source": [
    "spe <- SpatialExperiment::read10xVisium(samples, sample_ids, type = \"sparse\", \n",
    "                                        data = \"filtered\", \n",
    "                                        images = \"hires\", load = FALSE)"
   ]
  },
  {
   "cell_type": "markdown",
<<<<<<< HEAD
<<<<<<< HEAD
<<<<<<< HEAD
<<<<<<< HEAD
   "id": "8ff98ed2",
=======
   "id": "98d91cd0",
>>>>>>> documentation-devel
=======
   "id": "152165ff",
>>>>>>> documentation-devel
=======
   "id": "9a4a6b96",
>>>>>>> c9ed93f2a6d5e87fe6759d6fd26c06823f77f3f2
=======
   "id": "406162fb",
>>>>>>> documentation-devel
   "metadata": {
    "lines_to_next_cell": 0
   },
   "source": [
    "For the coercion, column names must not be duplicate."
   ]
  },
  {
   "cell_type": "code",
   "execution_count": null,
<<<<<<< HEAD
<<<<<<< HEAD
<<<<<<< HEAD
<<<<<<< HEAD
   "id": "d6d1a6b9",
=======
   "id": "b6115406",
>>>>>>> documentation-devel
=======
   "id": "6322697d",
>>>>>>> documentation-devel
=======
   "id": "2a688d7a",
>>>>>>> c9ed93f2a6d5e87fe6759d6fd26c06823f77f3f2
=======
   "id": "cd57e19e",
>>>>>>> documentation-devel
   "metadata": {},
   "outputs": [],
   "source": [
    "colnames(spe) <- make.unique(colnames(spe), sep = \"-\")\n",
    "rownames(spatialCoords(spe)) <- colnames(spe)"
   ]
  },
  {
   "cell_type": "code",
   "execution_count": null,
<<<<<<< HEAD
<<<<<<< HEAD
<<<<<<< HEAD
<<<<<<< HEAD
   "id": "8b50c499",
=======
   "id": "64cba653",
>>>>>>> documentation-devel
=======
   "id": "1b49c569",
>>>>>>> documentation-devel
=======
   "id": "c115f53c",
>>>>>>> c9ed93f2a6d5e87fe6759d6fd26c06823f77f3f2
=======
   "id": "2ab81612",
>>>>>>> documentation-devel
   "metadata": {},
   "outputs": [],
   "source": [
    "(sfe3 <- toSpatialFeatureExperiment(spe))"
   ]
  },
  {
   "cell_type": "markdown",
<<<<<<< HEAD
<<<<<<< HEAD
<<<<<<< HEAD
<<<<<<< HEAD
   "id": "869f3a6b",
=======
   "id": "8b31d515",
>>>>>>> documentation-devel
=======
   "id": "ff74d5da",
>>>>>>> documentation-devel
=======
   "id": "69e7632c",
>>>>>>> c9ed93f2a6d5e87fe6759d6fd26c06823f77f3f2
=======
   "id": "48d66d5c",
>>>>>>> documentation-devel
   "metadata": {
    "lines_to_next_cell": 0
   },
   "source": [
    "If images are present in the SPE object, they will be converted into `SpatRaster` when the SPE object is converted into SFE. Plotting functions in the `Voyager` package relies on `SpatRaster` to plot the image behind the geometries. \n",
    "\n",
    "# Coercion from `Seurat`\n",
    "Seurat objects can be coerced into SFE objects though coercion from SFE to Seurat is not yet implemented."
   ]
  },
  {
   "cell_type": "code",
   "execution_count": null,
<<<<<<< HEAD
<<<<<<< HEAD
<<<<<<< HEAD
<<<<<<< HEAD
   "id": "f9c67ded",
=======
   "id": "e8cc3f45",
>>>>>>> documentation-devel
=======
   "id": "6fe6a6fe",
>>>>>>> documentation-devel
=======
   "id": "fec78a0c",
>>>>>>> c9ed93f2a6d5e87fe6759d6fd26c06823f77f3f2
=======
   "id": "b5b2d6ed",
>>>>>>> documentation-devel
   "metadata": {
    "eval": false
   },
   "outputs": [],
   "source": [
    "dir_extdata <- system.file(\"extdata\", package = \"SpatialFeatureExperiment\")\n",
    "obj_vis <- readRDS(file.path(dir_extdata, \"seu_vis_toy.rds\"))"
   ]
  },
  {
   "cell_type": "code",
   "execution_count": null,
<<<<<<< HEAD
<<<<<<< HEAD
<<<<<<< HEAD
<<<<<<< HEAD
   "id": "a39dcd01",
=======
   "id": "42f23345",
>>>>>>> documentation-devel
=======
   "id": "0b9d9118",
>>>>>>> documentation-devel
=======
   "id": "3d1a7082",
>>>>>>> c9ed93f2a6d5e87fe6759d6fd26c06823f77f3f2
=======
   "id": "3ad7304a",
>>>>>>> documentation-devel
   "metadata": {
    "eval": false
   },
   "outputs": [],
   "source": [
    "sfe_conv_vis <-\n",
    "  toSpatialFeatureExperiment(x = obj_vis, \n",
    "                             image_scalefactors = \"lowres\",\n",
    "                             unit = \"micron\",\n",
    "                             BPPARAM = BPPARAM)\n",
    "sfe_conv_vis"
   ]
  },
  {
   "cell_type": "markdown",
<<<<<<< HEAD
<<<<<<< HEAD
<<<<<<< HEAD
<<<<<<< HEAD
   "id": "a7cacbbe",
=======
   "id": "05395447",
>>>>>>> documentation-devel
=======
   "id": "d3b39f78",
>>>>>>> documentation-devel
=======
   "id": "f85b4d03",
>>>>>>> c9ed93f2a6d5e87fe6759d6fd26c06823f77f3f2
=======
   "id": "a204c25c",
>>>>>>> documentation-devel
   "metadata": {},
   "source": [
    "# Session info"
   ]
  },
  {
   "cell_type": "code",
   "execution_count": null,
<<<<<<< HEAD
<<<<<<< HEAD
<<<<<<< HEAD
<<<<<<< HEAD
   "id": "74e9461f",
=======
   "id": "51c6c69a",
>>>>>>> documentation-devel
=======
   "id": "36f12d37",
>>>>>>> documentation-devel
=======
   "id": "a75bf7a9",
>>>>>>> c9ed93f2a6d5e87fe6759d6fd26c06823f77f3f2
=======
   "id": "1ca6d909",
>>>>>>> documentation-devel
   "metadata": {},
   "outputs": [],
   "source": [
    "# Clean up\n",
    "unlink(file.path(fp, \"vizgen\"), recursive = TRUE)\n",
    "unlink(file.path(fp, \"xenium\"), recursive = TRUE)\n",
    "unlink(file.path(fp, \"cosmx\"), recursive = TRUE)"
   ]
  },
  {
   "cell_type": "code",
   "execution_count": null,
<<<<<<< HEAD
<<<<<<< HEAD
<<<<<<< HEAD
<<<<<<< HEAD
   "id": "b7635864",
=======
   "id": "b6008ca3",
>>>>>>> documentation-devel
=======
   "id": "b7162232",
>>>>>>> documentation-devel
=======
   "id": "b6b0631d",
>>>>>>> c9ed93f2a6d5e87fe6759d6fd26c06823f77f3f2
=======
   "id": "0935f23a",
>>>>>>> documentation-devel
   "metadata": {},
   "outputs": [],
   "source": [
    "sessionInfo()"
   ]
  }
 ],
 "metadata": {
  "kernelspec": {
   "display_name": "R",
   "language": "R",
   "name": "ir"
  }
 },
 "nbformat": 4,
 "nbformat_minor": 5
}
